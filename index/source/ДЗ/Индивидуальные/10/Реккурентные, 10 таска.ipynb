{
 "cells": [
  {
   "cell_type": "code",
   "execution_count": 1,
   "id": "880fba1d",
   "metadata": {
    "_cell_guid": "b1076dfc-b9ad-4769-8c92-a6c4dae69d19",
    "_uuid": "8f2839f25d086af736a60e9eeb907d3b93b6e0e5",
    "execution": {
     "iopub.execute_input": "2025-03-27T14:58:16.343577Z",
     "iopub.status.busy": "2025-03-27T14:58:16.343224Z",
     "iopub.status.idle": "2025-03-27T14:58:31.780491Z",
     "shell.execute_reply": "2025-03-27T14:58:31.779767Z"
    },
    "papermill": {
     "duration": 15.444056,
     "end_time": "2025-03-27T14:58:31.782131",
     "exception": false,
     "start_time": "2025-03-27T14:58:16.338075",
     "status": "completed"
    },
    "tags": []
   },
   "outputs": [],
   "source": [
    "import torch\n",
    "import torch.nn as nn\n",
    "import torch.optim as optim\n",
    "import pandas as pd\n",
    "import numpy as np\n",
    "from torch.utils.data import Dataset, DataLoader, random_split\n",
    "from tqdm import tqdm\n",
    "from tensorflow.keras.preprocessing.text import Tokenizer\n",
    "from tensorflow.keras.preprocessing.sequence import pad_sequences"
   ]
  },
  {
   "cell_type": "code",
   "execution_count": 2,
   "id": "4793973d",
   "metadata": {
    "execution": {
     "iopub.execute_input": "2025-03-27T14:58:31.790741Z",
     "iopub.status.busy": "2025-03-27T14:58:31.790231Z",
     "iopub.status.idle": "2025-03-27T14:58:31.816027Z",
     "shell.execute_reply": "2025-03-27T14:58:31.815398Z"
    },
    "papermill": {
     "duration": 0.031292,
     "end_time": "2025-03-27T14:58:31.817355",
     "exception": false,
     "start_time": "2025-03-27T14:58:31.786063",
     "status": "completed"
    },
    "tags": []
   },
   "outputs": [],
   "source": [
    "# === ЗАГРУЗКА ДАННЫХ ===\n",
    "train_df = pd.read_csv('/kaggle/input/machine-translation-ioai/train.csv')\n",
    "test_df = pd.read_csv('/kaggle/input/machine-translation-ioai/test.csv')"
   ]
  },
  {
   "cell_type": "code",
   "execution_count": 3,
   "id": "6405eb21",
   "metadata": {
    "execution": {
     "iopub.execute_input": "2025-03-27T14:58:31.825158Z",
     "iopub.status.busy": "2025-03-27T14:58:31.824935Z",
     "iopub.status.idle": "2025-03-27T14:58:31.831933Z",
     "shell.execute_reply": "2025-03-27T14:58:31.831308Z"
    },
    "papermill": {
     "duration": 0.012053,
     "end_time": "2025-03-27T14:58:31.833010",
     "exception": false,
     "start_time": "2025-03-27T14:58:31.820957",
     "status": "completed"
    },
    "tags": []
   },
   "outputs": [],
   "source": [
    "# Подготовка данных\n",
    "input_texts = train_df[\"data\"].astype(str).tolist()\n",
    "target_texts = train_df[\"label\"].astype(str).tolist()\n",
    "target_texts = [\"<start> \" + text + \" <end>\" for text in target_texts]"
   ]
  },
  {
   "cell_type": "code",
   "execution_count": 4,
   "id": "934105cb",
   "metadata": {
    "execution": {
     "iopub.execute_input": "2025-03-27T14:58:31.840649Z",
     "iopub.status.busy": "2025-03-27T14:58:31.840430Z",
     "iopub.status.idle": "2025-03-27T14:58:31.873857Z",
     "shell.execute_reply": "2025-03-27T14:58:31.873117Z"
    },
    "papermill": {
     "duration": 0.038682,
     "end_time": "2025-03-27T14:58:31.875168",
     "exception": false,
     "start_time": "2025-03-27T14:58:31.836486",
     "status": "completed"
    },
    "tags": []
   },
   "outputs": [],
   "source": [
    "# Входная токенизация\n",
    "input_tokenizer = Tokenizer(char_level=True, filters=\"\")\n",
    "input_tokenizer.fit_on_texts(input_texts)\n",
    "input_sequences = input_tokenizer.texts_to_sequences(input_texts)\n",
    "input_padded = pad_sequences(input_sequences, padding=\"post\")\n",
    "\n",
    "# Выходная токенизация\n",
    "target_tokenizer = Tokenizer(char_level=True, filters=\"\")\n",
    "target_tokenizer.fit_on_texts(target_texts)\n",
    "target_tokenizer.word_index[\"<start>\"] = len(target_tokenizer.word_index) + 1\n",
    "target_tokenizer.word_index[\"<end>\"] = len(target_tokenizer.word_index) + 1\n",
    "target_sequences = target_tokenizer.texts_to_sequences(target_texts)\n",
    "target_padded = pad_sequences(target_sequences, padding=\"post\")\n",
    "\n",
    "# Размерности словарей\n",
    "num_encoder_tokens = len(input_tokenizer.word_index) + 1\n",
    "num_decoder_tokens = len(target_tokenizer.word_index) + 1\n",
    "max_encoder_seq_length = input_padded.shape[1]\n",
    "max_decoder_seq_length = target_padded.shape[1]\n"
   ]
  },
  {
   "cell_type": "code",
   "execution_count": 5,
   "id": "501755fa",
   "metadata": {
    "execution": {
     "iopub.execute_input": "2025-03-27T14:58:31.883101Z",
     "iopub.status.busy": "2025-03-27T14:58:31.882857Z",
     "iopub.status.idle": "2025-03-27T14:58:31.887413Z",
     "shell.execute_reply": "2025-03-27T14:58:31.886728Z"
    },
    "papermill": {
     "duration": 0.009822,
     "end_time": "2025-03-27T14:58:31.888658",
     "exception": false,
     "start_time": "2025-03-27T14:58:31.878836",
     "status": "completed"
    },
    "tags": []
   },
   "outputs": [],
   "source": [
    "# === СОЗДАНИЕ DATASET ===\n",
    "class TranslationDataset(Dataset):\n",
    "    def __init__(self, encoder_input, decoder_input, decoder_target):\n",
    "        self.encoder_input = torch.tensor(encoder_input, dtype=torch.long)\n",
    "        self.decoder_input = torch.tensor(decoder_input, dtype=torch.long)\n",
    "        self.decoder_target = torch.tensor(decoder_target, dtype=torch.long)\n",
    "\n",
    "    def __len__(self):\n",
    "        return len(self.encoder_input)\n",
    "\n",
    "    def __getitem__(self, idx):\n",
    "        return self.encoder_input[idx], self.decoder_input[idx], self.decoder_target[idx]\n"
   ]
  },
  {
   "cell_type": "code",
   "execution_count": 6,
   "id": "099adcd4",
   "metadata": {
    "execution": {
     "iopub.execute_input": "2025-03-27T14:58:31.896293Z",
     "iopub.status.busy": "2025-03-27T14:58:31.896086Z",
     "iopub.status.idle": "2025-03-27T14:58:31.938970Z",
     "shell.execute_reply": "2025-03-27T14:58:31.938283Z"
    },
    "papermill": {
     "duration": 0.048114,
     "end_time": "2025-03-27T14:58:31.940242",
     "exception": false,
     "start_time": "2025-03-27T14:58:31.892128",
     "status": "completed"
    },
    "tags": []
   },
   "outputs": [],
   "source": [
    "# Разделяем на train/validation (90%/10%)\n",
    "decoder_input_data = target_padded[:, :-1]\n",
    "decoder_target_data = target_padded[:, 1:]\n",
    "full_dataset = TranslationDataset(input_padded, decoder_input_data, decoder_target_data)\n",
    "\n",
    "train_size = int(0.99 * len(full_dataset))\n",
    "val_size = len(full_dataset) - train_size\n",
    "train_dataset, val_dataset = random_split(full_dataset, [train_size, val_size])\n",
    "\n",
    "train_loader = DataLoader(train_dataset, batch_size=64, shuffle=True)\n",
    "val_loader = DataLoader(val_dataset, batch_size=64, shuffle=False)"
   ]
  },
  {
   "cell_type": "code",
   "execution_count": 7,
   "id": "ad08a467",
   "metadata": {
    "execution": {
     "iopub.execute_input": "2025-03-27T14:58:31.948073Z",
     "iopub.status.busy": "2025-03-27T14:58:31.947818Z",
     "iopub.status.idle": "2025-03-27T14:58:31.957010Z",
     "shell.execute_reply": "2025-03-27T14:58:31.956384Z"
    },
    "papermill": {
     "duration": 0.014376,
     "end_time": "2025-03-27T14:58:31.958225",
     "exception": false,
     "start_time": "2025-03-27T14:58:31.943849",
     "status": "completed"
    },
    "tags": []
   },
   "outputs": [],
   "source": [
    "# === СОЗДАНИЕ МОДЕЛИ ===\n",
    "class Encoder(nn.Module):\n",
    "    def __init__(self, input_dim, emb_dim, hidden_dim):\n",
    "        super(Encoder, self).__init__()\n",
    "        self.embedding = nn.Embedding(input_dim, emb_dim, padding_idx=0)\n",
    "        self.lstm = nn.LSTM(emb_dim, hidden_dim, batch_first=True)\n",
    "\n",
    "    def forward(self, x):\n",
    "        embedded = self.embedding(x)\n",
    "        outputs, (hidden, cell) = self.lstm(embedded)\n",
    "        return hidden, cell\n",
    "\n",
    "class Decoder(nn.Module):\n",
    "    def __init__(self, output_dim, emb_dim, hidden_dim):\n",
    "        super(Decoder, self).__init__()\n",
    "        self.embedding = nn.Embedding(output_dim, emb_dim, padding_idx=0)\n",
    "        self.lstm = nn.LSTM(emb_dim, hidden_dim, batch_first=True)\n",
    "        self.fc = nn.Linear(hidden_dim, output_dim)\n",
    "\n",
    "    def forward(self, x, hidden, cell):\n",
    "        embedded = self.embedding(x.unsqueeze(1))\n",
    "        output, (hidden, cell) = self.lstm(embedded, (hidden, cell))\n",
    "        prediction = self.fc(output.squeeze(1))\n",
    "        return prediction, hidden, cell\n",
    "\n",
    "class Seq2Seq(nn.Module):\n",
    "    def __init__(self, encoder, decoder):\n",
    "        super(Seq2Seq, self).__init__()\n",
    "        self.encoder = encoder\n",
    "        self.decoder = decoder\n",
    "\n",
    "    def forward(self, src, trg):\n",
    "        batch_size, trg_len = trg.shape\n",
    "        outputs = torch.zeros(batch_size, trg_len, num_decoder_tokens).to(device)\n",
    "\n",
    "        hidden, cell = self.encoder(src)\n",
    "        input = trg[:, 0]\n",
    "\n",
    "        for t in range(1, trg_len):\n",
    "            output, hidden, cell = self.decoder(input, hidden, cell)\n",
    "            outputs[:, t] = output\n",
    "            input = output.argmax(1)\n",
    "\n",
    "        return outputs\n"
   ]
  },
  {
   "cell_type": "code",
   "execution_count": 8,
   "id": "159bb459",
   "metadata": {
    "execution": {
     "iopub.execute_input": "2025-03-27T14:58:31.965913Z",
     "iopub.status.busy": "2025-03-27T14:58:31.965676Z",
     "iopub.status.idle": "2025-03-27T14:58:31.968757Z",
     "shell.execute_reply": "2025-03-27T14:58:31.968041Z"
    },
    "papermill": {
     "duration": 0.008236,
     "end_time": "2025-03-27T14:58:31.969954",
     "exception": false,
     "start_time": "2025-03-27T14:58:31.961718",
     "status": "completed"
    },
    "tags": []
   },
   "outputs": [],
   "source": [
    "emb_dim = 512  # Размерность эмбеддингов\n",
    "hidden_dim = 1024  # Размер скрытых состояний"
   ]
  },
  {
   "cell_type": "code",
   "execution_count": 9,
   "id": "ecdadd7e",
   "metadata": {
    "execution": {
     "iopub.execute_input": "2025-03-27T14:58:31.977458Z",
     "iopub.status.busy": "2025-03-27T14:58:31.977223Z",
     "iopub.status.idle": "2025-03-27T14:58:36.237226Z",
     "shell.execute_reply": "2025-03-27T14:58:36.236560Z"
    },
    "papermill": {
     "duration": 4.265357,
     "end_time": "2025-03-27T14:58:36.238741",
     "exception": false,
     "start_time": "2025-03-27T14:58:31.973384",
     "status": "completed"
    },
    "tags": []
   },
   "outputs": [],
   "source": [
    "# === ОБУЧЕНИЕ ===\n",
    "device = torch.device(\"cuda\" if torch.cuda.is_available() else \"cpu\")\n",
    "\n",
    "encoder = Encoder(num_encoder_tokens, emb_dim, hidden_dim).to(device)\n",
    "decoder = Decoder(num_decoder_tokens, emb_dim, hidden_dim).to(device)\n",
    "model = Seq2Seq(encoder, decoder).to(device)\n",
    "\n",
    "criterion = nn.CrossEntropyLoss(ignore_index=0)\n",
    "optimizer = optim.Adam(model.parameters(), lr=0.001)"
   ]
  },
  {
   "cell_type": "code",
   "execution_count": 10,
   "id": "f052b21c",
   "metadata": {
    "execution": {
     "iopub.execute_input": "2025-03-27T14:58:36.246905Z",
     "iopub.status.busy": "2025-03-27T14:58:36.246433Z",
     "iopub.status.idle": "2025-03-27T14:58:36.249567Z",
     "shell.execute_reply": "2025-03-27T14:58:36.248967Z"
    },
    "papermill": {
     "duration": 0.008426,
     "end_time": "2025-03-27T14:58:36.250806",
     "exception": false,
     "start_time": "2025-03-27T14:58:36.242380",
     "status": "completed"
    },
    "tags": []
   },
   "outputs": [],
   "source": [
    "num_epochs = 1000"
   ]
  },
  {
   "cell_type": "code",
   "execution_count": 11,
   "id": "da2ce8b5",
   "metadata": {
    "execution": {
     "iopub.execute_input": "2025-03-27T14:58:36.258351Z",
     "iopub.status.busy": "2025-03-27T14:58:36.258117Z",
     "iopub.status.idle": "2025-03-27T15:10:49.724821Z",
     "shell.execute_reply": "2025-03-27T15:10:49.723862Z"
    },
    "papermill": {
     "duration": 733.471847,
     "end_time": "2025-03-27T15:10:49.726022",
     "exception": false,
     "start_time": "2025-03-27T14:58:36.254175",
     "status": "completed"
    },
    "tags": []
   },
   "outputs": [
    {
     "name": "stderr",
     "output_type": "stream",
     "text": [
      "Epoch 1/1000 [Training]: 100%|██████████| 17/17 [00:01<00:00, 13.75it/s]\n",
      "Epoch 1/1000 [Validation]: 100%|██████████| 1/1 [00:00<00:00, 46.55it/s]\n"
     ]
    },
    {
     "name": "stdout",
     "output_type": "stream",
     "text": [
      "Epoch 1: Train Loss = 2.3801 | Val Loss = 1.5633\n"
     ]
    },
    {
     "name": "stderr",
     "output_type": "stream",
     "text": [
      "Epoch 2/1000 [Training]: 100%|██████████| 17/17 [00:00<00:00, 23.72it/s]\n",
      "Epoch 2/1000 [Validation]: 100%|██████████| 1/1 [00:00<00:00, 108.55it/s]\n"
     ]
    },
    {
     "name": "stdout",
     "output_type": "stream",
     "text": [
      "Epoch 2: Train Loss = 1.3468 | Val Loss = 1.1008\n"
     ]
    },
    {
     "name": "stderr",
     "output_type": "stream",
     "text": [
      "Epoch 3/1000 [Training]: 100%|██████████| 17/17 [00:00<00:00, 22.66it/s]\n",
      "Epoch 3/1000 [Validation]: 100%|██████████| 1/1 [00:00<00:00, 102.47it/s]\n"
     ]
    },
    {
     "name": "stdout",
     "output_type": "stream",
     "text": [
      "Epoch 3: Train Loss = 1.0745 | Val Loss = 2.2174\n"
     ]
    },
    {
     "name": "stderr",
     "output_type": "stream",
     "text": [
      "Epoch 4/1000 [Training]: 100%|██████████| 17/17 [00:00<00:00, 22.21it/s]\n",
      "Epoch 4/1000 [Validation]: 100%|██████████| 1/1 [00:00<00:00, 115.47it/s]\n"
     ]
    },
    {
     "name": "stdout",
     "output_type": "stream",
     "text": [
      "Epoch 4: Train Loss = 1.5325 | Val Loss = 1.1255\n"
     ]
    },
    {
     "name": "stderr",
     "output_type": "stream",
     "text": [
      "Epoch 5/1000 [Training]: 100%|██████████| 17/17 [00:00<00:00, 23.70it/s]\n",
      "Epoch 5/1000 [Validation]: 100%|██████████| 1/1 [00:00<00:00, 106.21it/s]\n"
     ]
    },
    {
     "name": "stdout",
     "output_type": "stream",
     "text": [
      "Epoch 5: Train Loss = 0.9731 | Val Loss = 0.8060\n"
     ]
    },
    {
     "name": "stderr",
     "output_type": "stream",
     "text": [
      "Epoch 6/1000 [Training]: 100%|██████████| 17/17 [00:00<00:00, 23.78it/s]\n",
      "Epoch 6/1000 [Validation]: 100%|██████████| 1/1 [00:00<00:00, 106.58it/s]\n"
     ]
    },
    {
     "name": "stdout",
     "output_type": "stream",
     "text": [
      "Epoch 6: Train Loss = 0.7235 | Val Loss = 1.0878\n"
     ]
    },
    {
     "name": "stderr",
     "output_type": "stream",
     "text": [
      "Epoch 7/1000 [Training]: 100%|██████████| 17/17 [00:00<00:00, 23.73it/s]\n",
      "Epoch 7/1000 [Validation]: 100%|██████████| 1/1 [00:00<00:00, 118.71it/s]\n"
     ]
    },
    {
     "name": "stdout",
     "output_type": "stream",
     "text": [
      "Epoch 7: Train Loss = 0.6783 | Val Loss = 0.5666\n"
     ]
    },
    {
     "name": "stderr",
     "output_type": "stream",
     "text": [
      "Epoch 8/1000 [Training]: 100%|██████████| 17/17 [00:00<00:00, 23.73it/s]\n",
      "Epoch 8/1000 [Validation]: 100%|██████████| 1/1 [00:00<00:00, 105.88it/s]\n"
     ]
    },
    {
     "name": "stdout",
     "output_type": "stream",
     "text": [
      "Epoch 8: Train Loss = 0.5463 | Val Loss = 0.5247\n"
     ]
    },
    {
     "name": "stderr",
     "output_type": "stream",
     "text": [
      "Epoch 9/1000 [Training]: 100%|██████████| 17/17 [00:00<00:00, 23.72it/s]\n",
      "Epoch 9/1000 [Validation]: 100%|██████████| 1/1 [00:00<00:00, 109.41it/s]\n"
     ]
    },
    {
     "name": "stdout",
     "output_type": "stream",
     "text": [
      "Epoch 9: Train Loss = 0.5112 | Val Loss = 0.5225\n"
     ]
    },
    {
     "name": "stderr",
     "output_type": "stream",
     "text": [
      "Epoch 10/1000 [Training]: 100%|██████████| 17/17 [00:00<00:00, 23.59it/s]\n",
      "Epoch 10/1000 [Validation]: 100%|██████████| 1/1 [00:00<00:00, 108.58it/s]\n"
     ]
    },
    {
     "name": "stdout",
     "output_type": "stream",
     "text": [
      "Epoch 10: Train Loss = 0.5009 | Val Loss = 0.5149\n"
     ]
    },
    {
     "name": "stderr",
     "output_type": "stream",
     "text": [
      "Epoch 11/1000 [Training]: 100%|██████████| 17/17 [00:00<00:00, 23.33it/s]\n",
      "Epoch 11/1000 [Validation]: 100%|██████████| 1/1 [00:00<00:00, 110.33it/s]\n"
     ]
    },
    {
     "name": "stdout",
     "output_type": "stream",
     "text": [
      "Epoch 11: Train Loss = 0.5020 | Val Loss = 0.5189\n"
     ]
    },
    {
     "name": "stderr",
     "output_type": "stream",
     "text": [
      "Epoch 12/1000 [Training]: 100%|██████████| 17/17 [00:00<00:00, 23.74it/s]\n",
      "Epoch 12/1000 [Validation]: 100%|██████████| 1/1 [00:00<00:00, 109.51it/s]\n"
     ]
    },
    {
     "name": "stdout",
     "output_type": "stream",
     "text": [
      "Epoch 12: Train Loss = 0.4991 | Val Loss = 0.5119\n"
     ]
    },
    {
     "name": "stderr",
     "output_type": "stream",
     "text": [
      "Epoch 13/1000 [Training]: 100%|██████████| 17/17 [00:00<00:00, 23.74it/s]\n",
      "Epoch 13/1000 [Validation]: 100%|██████████| 1/1 [00:00<00:00, 109.66it/s]\n"
     ]
    },
    {
     "name": "stdout",
     "output_type": "stream",
     "text": [
      "Epoch 13: Train Loss = 0.4956 | Val Loss = 0.5094\n"
     ]
    },
    {
     "name": "stderr",
     "output_type": "stream",
     "text": [
      "Epoch 14/1000 [Training]: 100%|██████████| 17/17 [00:00<00:00, 23.74it/s]\n",
      "Epoch 14/1000 [Validation]: 100%|██████████| 1/1 [00:00<00:00, 113.68it/s]\n"
     ]
    },
    {
     "name": "stdout",
     "output_type": "stream",
     "text": [
      "Epoch 14: Train Loss = 0.4928 | Val Loss = 0.4928\n"
     ]
    },
    {
     "name": "stderr",
     "output_type": "stream",
     "text": [
      "Epoch 15/1000 [Training]: 100%|██████████| 17/17 [00:00<00:00, 23.81it/s]\n",
      "Epoch 15/1000 [Validation]: 100%|██████████| 1/1 [00:00<00:00, 105.96it/s]\n"
     ]
    },
    {
     "name": "stdout",
     "output_type": "stream",
     "text": [
      "Epoch 15: Train Loss = 0.4826 | Val Loss = 0.4937\n"
     ]
    },
    {
     "name": "stderr",
     "output_type": "stream",
     "text": [
      "Epoch 16/1000 [Training]: 100%|██████████| 17/17 [00:00<00:00, 23.74it/s]\n",
      "Epoch 16/1000 [Validation]: 100%|██████████| 1/1 [00:00<00:00, 107.47it/s]\n"
     ]
    },
    {
     "name": "stdout",
     "output_type": "stream",
     "text": [
      "Epoch 16: Train Loss = 0.4709 | Val Loss = 0.4860\n"
     ]
    },
    {
     "name": "stderr",
     "output_type": "stream",
     "text": [
      "Epoch 17/1000 [Training]: 100%|██████████| 17/17 [00:00<00:00, 23.76it/s]\n",
      "Epoch 17/1000 [Validation]: 100%|██████████| 1/1 [00:00<00:00, 113.11it/s]\n"
     ]
    },
    {
     "name": "stdout",
     "output_type": "stream",
     "text": [
      "Epoch 17: Train Loss = 0.4651 | Val Loss = 0.4839\n"
     ]
    },
    {
     "name": "stderr",
     "output_type": "stream",
     "text": [
      "Epoch 18/1000 [Training]: 100%|██████████| 17/17 [00:00<00:00, 23.53it/s]\n",
      "Epoch 18/1000 [Validation]: 100%|██████████| 1/1 [00:00<00:00, 112.09it/s]\n"
     ]
    },
    {
     "name": "stdout",
     "output_type": "stream",
     "text": [
      "Epoch 18: Train Loss = 0.4584 | Val Loss = 0.4708\n"
     ]
    },
    {
     "name": "stderr",
     "output_type": "stream",
     "text": [
      "Epoch 19/1000 [Training]: 100%|██████████| 17/17 [00:00<00:00, 23.84it/s]\n",
      "Epoch 19/1000 [Validation]: 100%|██████████| 1/1 [00:00<00:00, 119.42it/s]\n"
     ]
    },
    {
     "name": "stdout",
     "output_type": "stream",
     "text": [
      "Epoch 19: Train Loss = 0.4478 | Val Loss = 0.4599\n"
     ]
    },
    {
     "name": "stderr",
     "output_type": "stream",
     "text": [
      "Epoch 20/1000 [Training]: 100%|██████████| 17/17 [00:00<00:00, 23.81it/s]\n",
      "Epoch 20/1000 [Validation]: 100%|██████████| 1/1 [00:00<00:00, 111.76it/s]\n"
     ]
    },
    {
     "name": "stdout",
     "output_type": "stream",
     "text": [
      "Epoch 20: Train Loss = 0.4290 | Val Loss = 0.4481\n"
     ]
    },
    {
     "name": "stderr",
     "output_type": "stream",
     "text": [
      "Epoch 21/1000 [Training]: 100%|██████████| 17/17 [00:00<00:00, 23.72it/s]\n",
      "Epoch 21/1000 [Validation]: 100%|██████████| 1/1 [00:00<00:00, 106.23it/s]\n"
     ]
    },
    {
     "name": "stdout",
     "output_type": "stream",
     "text": [
      "Epoch 21: Train Loss = 0.4268 | Val Loss = 0.4499\n"
     ]
    },
    {
     "name": "stderr",
     "output_type": "stream",
     "text": [
      "Epoch 22/1000 [Training]: 100%|██████████| 17/17 [00:00<00:00, 23.70it/s]\n",
      "Epoch 22/1000 [Validation]: 100%|██████████| 1/1 [00:00<00:00, 111.17it/s]\n"
     ]
    },
    {
     "name": "stdout",
     "output_type": "stream",
     "text": [
      "Epoch 22: Train Loss = 0.4150 | Val Loss = 0.4256\n"
     ]
    },
    {
     "name": "stderr",
     "output_type": "stream",
     "text": [
      "Epoch 23/1000 [Training]: 100%|██████████| 17/17 [00:00<00:00, 23.71it/s]\n",
      "Epoch 23/1000 [Validation]: 100%|██████████| 1/1 [00:00<00:00, 106.81it/s]\n"
     ]
    },
    {
     "name": "stdout",
     "output_type": "stream",
     "text": [
      "Epoch 23: Train Loss = 0.4050 | Val Loss = 0.4133\n"
     ]
    },
    {
     "name": "stderr",
     "output_type": "stream",
     "text": [
      "Epoch 24/1000 [Training]: 100%|██████████| 17/17 [00:00<00:00, 23.72it/s]\n",
      "Epoch 24/1000 [Validation]: 100%|██████████| 1/1 [00:00<00:00, 108.39it/s]\n"
     ]
    },
    {
     "name": "stdout",
     "output_type": "stream",
     "text": [
      "Epoch 24: Train Loss = 0.3940 | Val Loss = 0.4214\n"
     ]
    },
    {
     "name": "stderr",
     "output_type": "stream",
     "text": [
      "Epoch 25/1000 [Training]: 100%|██████████| 17/17 [00:00<00:00, 23.80it/s]\n",
      "Epoch 25/1000 [Validation]: 100%|██████████| 1/1 [00:00<00:00, 111.84it/s]\n"
     ]
    },
    {
     "name": "stdout",
     "output_type": "stream",
     "text": [
      "Epoch 25: Train Loss = 0.3757 | Val Loss = 0.3968\n"
     ]
    },
    {
     "name": "stderr",
     "output_type": "stream",
     "text": [
      "Epoch 26/1000 [Training]: 100%|██████████| 17/17 [00:00<00:00, 23.80it/s]\n",
      "Epoch 26/1000 [Validation]: 100%|██████████| 1/1 [00:00<00:00, 110.09it/s]\n"
     ]
    },
    {
     "name": "stdout",
     "output_type": "stream",
     "text": [
      "Epoch 26: Train Loss = 0.3599 | Val Loss = 0.3699\n"
     ]
    },
    {
     "name": "stderr",
     "output_type": "stream",
     "text": [
      "Epoch 27/1000 [Training]: 100%|██████████| 17/17 [00:00<00:00, 23.78it/s]\n",
      "Epoch 27/1000 [Validation]: 100%|██████████| 1/1 [00:00<00:00, 109.29it/s]\n"
     ]
    },
    {
     "name": "stdout",
     "output_type": "stream",
     "text": [
      "Epoch 27: Train Loss = 0.3469 | Val Loss = 0.3553\n"
     ]
    },
    {
     "name": "stderr",
     "output_type": "stream",
     "text": [
      "Epoch 28/1000 [Training]: 100%|██████████| 17/17 [00:00<00:00, 23.74it/s]\n",
      "Epoch 28/1000 [Validation]: 100%|██████████| 1/1 [00:00<00:00, 108.16it/s]\n"
     ]
    },
    {
     "name": "stdout",
     "output_type": "stream",
     "text": [
      "Epoch 28: Train Loss = 0.3258 | Val Loss = 0.3362\n"
     ]
    },
    {
     "name": "stderr",
     "output_type": "stream",
     "text": [
      "Epoch 29/1000 [Training]: 100%|██████████| 17/17 [00:00<00:00, 23.74it/s]\n",
      "Epoch 29/1000 [Validation]: 100%|██████████| 1/1 [00:00<00:00, 106.25it/s]\n"
     ]
    },
    {
     "name": "stdout",
     "output_type": "stream",
     "text": [
      "Epoch 29: Train Loss = 0.3128 | Val Loss = 0.3194\n"
     ]
    },
    {
     "name": "stderr",
     "output_type": "stream",
     "text": [
      "Epoch 30/1000 [Training]: 100%|██████████| 17/17 [00:00<00:00, 23.79it/s]\n",
      "Epoch 30/1000 [Validation]: 100%|██████████| 1/1 [00:00<00:00, 108.68it/s]\n"
     ]
    },
    {
     "name": "stdout",
     "output_type": "stream",
     "text": [
      "Epoch 30: Train Loss = 0.2985 | Val Loss = 0.3258\n"
     ]
    },
    {
     "name": "stderr",
     "output_type": "stream",
     "text": [
      "Epoch 31/1000 [Training]: 100%|██████████| 17/17 [00:00<00:00, 23.22it/s]\n",
      "Epoch 31/1000 [Validation]: 100%|██████████| 1/1 [00:00<00:00, 110.55it/s]\n"
     ]
    },
    {
     "name": "stdout",
     "output_type": "stream",
     "text": [
      "Epoch 31: Train Loss = 0.2853 | Val Loss = 0.2947\n"
     ]
    },
    {
     "name": "stderr",
     "output_type": "stream",
     "text": [
      "Epoch 32/1000 [Training]: 100%|██████████| 17/17 [00:00<00:00, 23.76it/s]\n",
      "Epoch 32/1000 [Validation]: 100%|██████████| 1/1 [00:00<00:00, 112.71it/s]\n"
     ]
    },
    {
     "name": "stdout",
     "output_type": "stream",
     "text": [
      "Epoch 32: Train Loss = 0.2684 | Val Loss = 0.2732\n"
     ]
    },
    {
     "name": "stderr",
     "output_type": "stream",
     "text": [
      "Epoch 33/1000 [Training]: 100%|██████████| 17/17 [00:00<00:00, 23.77it/s]\n",
      "Epoch 33/1000 [Validation]: 100%|██████████| 1/1 [00:00<00:00, 110.30it/s]\n"
     ]
    },
    {
     "name": "stdout",
     "output_type": "stream",
     "text": [
      "Epoch 33: Train Loss = 0.2611 | Val Loss = 0.2468\n"
     ]
    },
    {
     "name": "stderr",
     "output_type": "stream",
     "text": [
      "Epoch 34/1000 [Training]: 100%|██████████| 17/17 [00:00<00:00, 23.80it/s]\n",
      "Epoch 34/1000 [Validation]: 100%|██████████| 1/1 [00:00<00:00, 105.00it/s]\n"
     ]
    },
    {
     "name": "stdout",
     "output_type": "stream",
     "text": [
      "Epoch 34: Train Loss = 0.2355 | Val Loss = 0.2670\n"
     ]
    },
    {
     "name": "stderr",
     "output_type": "stream",
     "text": [
      "Epoch 35/1000 [Training]: 100%|██████████| 17/17 [00:00<00:00, 23.78it/s]\n",
      "Epoch 35/1000 [Validation]: 100%|██████████| 1/1 [00:00<00:00, 103.87it/s]\n"
     ]
    },
    {
     "name": "stdout",
     "output_type": "stream",
     "text": [
      "Epoch 35: Train Loss = 0.2136 | Val Loss = 0.2238\n"
     ]
    },
    {
     "name": "stderr",
     "output_type": "stream",
     "text": [
      "Epoch 36/1000 [Training]: 100%|██████████| 17/17 [00:00<00:00, 23.72it/s]\n",
      "Epoch 36/1000 [Validation]: 100%|██████████| 1/1 [00:00<00:00, 114.13it/s]\n"
     ]
    },
    {
     "name": "stdout",
     "output_type": "stream",
     "text": [
      "Epoch 36: Train Loss = 0.1958 | Val Loss = 0.1995\n"
     ]
    },
    {
     "name": "stderr",
     "output_type": "stream",
     "text": [
      "Epoch 37/1000 [Training]: 100%|██████████| 17/17 [00:00<00:00, 23.71it/s]\n",
      "Epoch 37/1000 [Validation]: 100%|██████████| 1/1 [00:00<00:00, 103.51it/s]\n"
     ]
    },
    {
     "name": "stdout",
     "output_type": "stream",
     "text": [
      "Epoch 37: Train Loss = 0.1842 | Val Loss = 0.2331\n"
     ]
    },
    {
     "name": "stderr",
     "output_type": "stream",
     "text": [
      "Epoch 38/1000 [Training]: 100%|██████████| 17/17 [00:00<00:00, 23.73it/s]\n",
      "Epoch 38/1000 [Validation]: 100%|██████████| 1/1 [00:00<00:00, 110.53it/s]\n"
     ]
    },
    {
     "name": "stdout",
     "output_type": "stream",
     "text": [
      "Epoch 38: Train Loss = 0.1731 | Val Loss = 0.1969\n"
     ]
    },
    {
     "name": "stderr",
     "output_type": "stream",
     "text": [
      "Epoch 39/1000 [Training]: 100%|██████████| 17/17 [00:00<00:00, 23.74it/s]\n",
      "Epoch 39/1000 [Validation]: 100%|██████████| 1/1 [00:00<00:00, 104.47it/s]\n"
     ]
    },
    {
     "name": "stdout",
     "output_type": "stream",
     "text": [
      "Epoch 39: Train Loss = 0.1634 | Val Loss = 0.1893\n"
     ]
    },
    {
     "name": "stderr",
     "output_type": "stream",
     "text": [
      "Epoch 40/1000 [Training]: 100%|██████████| 17/17 [00:00<00:00, 23.70it/s]\n",
      "Epoch 40/1000 [Validation]: 100%|██████████| 1/1 [00:00<00:00, 109.63it/s]\n"
     ]
    },
    {
     "name": "stdout",
     "output_type": "stream",
     "text": [
      "Epoch 40: Train Loss = 0.1552 | Val Loss = 0.1621\n"
     ]
    },
    {
     "name": "stderr",
     "output_type": "stream",
     "text": [
      "Epoch 41/1000 [Training]: 100%|██████████| 17/17 [00:00<00:00, 23.72it/s]\n",
      "Epoch 41/1000 [Validation]: 100%|██████████| 1/1 [00:00<00:00, 107.52it/s]\n"
     ]
    },
    {
     "name": "stdout",
     "output_type": "stream",
     "text": [
      "Epoch 41: Train Loss = 0.1489 | Val Loss = 0.1619\n"
     ]
    },
    {
     "name": "stderr",
     "output_type": "stream",
     "text": [
      "Epoch 42/1000 [Training]: 100%|██████████| 17/17 [00:00<00:00, 23.73it/s]\n",
      "Epoch 42/1000 [Validation]: 100%|██████████| 1/1 [00:00<00:00, 109.11it/s]\n"
     ]
    },
    {
     "name": "stdout",
     "output_type": "stream",
     "text": [
      "Epoch 42: Train Loss = 0.1457 | Val Loss = 0.1594\n"
     ]
    },
    {
     "name": "stderr",
     "output_type": "stream",
     "text": [
      "Epoch 43/1000 [Training]: 100%|██████████| 17/17 [00:00<00:00, 23.80it/s]\n",
      "Epoch 43/1000 [Validation]: 100%|██████████| 1/1 [00:00<00:00, 110.53it/s]\n"
     ]
    },
    {
     "name": "stdout",
     "output_type": "stream",
     "text": [
      "Epoch 43: Train Loss = 0.1429 | Val Loss = 0.1573\n"
     ]
    },
    {
     "name": "stderr",
     "output_type": "stream",
     "text": [
      "Epoch 44/1000 [Training]: 100%|██████████| 17/17 [00:00<00:00, 23.65it/s]\n",
      "Epoch 44/1000 [Validation]: 100%|██████████| 1/1 [00:00<00:00, 100.74it/s]\n"
     ]
    },
    {
     "name": "stdout",
     "output_type": "stream",
     "text": [
      "Epoch 44: Train Loss = 0.1413 | Val Loss = 0.1597\n"
     ]
    },
    {
     "name": "stderr",
     "output_type": "stream",
     "text": [
      "Epoch 45/1000 [Training]: 100%|██████████| 17/17 [00:00<00:00, 23.05it/s]\n",
      "Epoch 45/1000 [Validation]: 100%|██████████| 1/1 [00:00<00:00, 108.35it/s]\n"
     ]
    },
    {
     "name": "stdout",
     "output_type": "stream",
     "text": [
      "Epoch 45: Train Loss = 0.1411 | Val Loss = 0.1561\n"
     ]
    },
    {
     "name": "stderr",
     "output_type": "stream",
     "text": [
      "Epoch 46/1000 [Training]: 100%|██████████| 17/17 [00:00<00:00, 22.73it/s]\n",
      "Epoch 46/1000 [Validation]: 100%|██████████| 1/1 [00:00<00:00, 106.34it/s]\n"
     ]
    },
    {
     "name": "stdout",
     "output_type": "stream",
     "text": [
      "Epoch 46: Train Loss = 0.1401 | Val Loss = 0.1552\n"
     ]
    },
    {
     "name": "stderr",
     "output_type": "stream",
     "text": [
      "Epoch 47/1000 [Training]: 100%|██████████| 17/17 [00:00<00:00, 22.57it/s]\n",
      "Epoch 47/1000 [Validation]: 100%|██████████| 1/1 [00:00<00:00, 89.86it/s]\n"
     ]
    },
    {
     "name": "stdout",
     "output_type": "stream",
     "text": [
      "Epoch 47: Train Loss = 0.1397 | Val Loss = 0.1567\n"
     ]
    },
    {
     "name": "stderr",
     "output_type": "stream",
     "text": [
      "Epoch 48/1000 [Training]: 100%|██████████| 17/17 [00:00<00:00, 23.73it/s]\n",
      "Epoch 48/1000 [Validation]: 100%|██████████| 1/1 [00:00<00:00, 108.17it/s]\n"
     ]
    },
    {
     "name": "stdout",
     "output_type": "stream",
     "text": [
      "Epoch 48: Train Loss = 0.1394 | Val Loss = 0.1570\n"
     ]
    },
    {
     "name": "stderr",
     "output_type": "stream",
     "text": [
      "Epoch 49/1000 [Training]: 100%|██████████| 17/17 [00:00<00:00, 23.72it/s]\n",
      "Epoch 49/1000 [Validation]: 100%|██████████| 1/1 [00:00<00:00, 113.02it/s]\n"
     ]
    },
    {
     "name": "stdout",
     "output_type": "stream",
     "text": [
      "Epoch 49: Train Loss = 0.1392 | Val Loss = 0.1574\n"
     ]
    },
    {
     "name": "stderr",
     "output_type": "stream",
     "text": [
      "Epoch 50/1000 [Training]: 100%|██████████| 17/17 [00:00<00:00, 23.82it/s]\n",
      "Epoch 50/1000 [Validation]: 100%|██████████| 1/1 [00:00<00:00, 107.72it/s]\n"
     ]
    },
    {
     "name": "stdout",
     "output_type": "stream",
     "text": [
      "Epoch 50: Train Loss = 0.1391 | Val Loss = 0.1581\n"
     ]
    },
    {
     "name": "stderr",
     "output_type": "stream",
     "text": [
      "Epoch 51/1000 [Training]: 100%|██████████| 17/17 [00:00<00:00, 23.69it/s]\n",
      "Epoch 51/1000 [Validation]: 100%|██████████| 1/1 [00:00<00:00, 113.27it/s]\n"
     ]
    },
    {
     "name": "stdout",
     "output_type": "stream",
     "text": [
      "Epoch 51: Train Loss = 0.1390 | Val Loss = 0.1579\n"
     ]
    },
    {
     "name": "stderr",
     "output_type": "stream",
     "text": [
      "Epoch 52/1000 [Training]: 100%|██████████| 17/17 [00:00<00:00, 23.71it/s]\n",
      "Epoch 52/1000 [Validation]: 100%|██████████| 1/1 [00:00<00:00, 110.12it/s]\n"
     ]
    },
    {
     "name": "stdout",
     "output_type": "stream",
     "text": [
      "Epoch 52: Train Loss = 0.1390 | Val Loss = 0.1581\n"
     ]
    },
    {
     "name": "stderr",
     "output_type": "stream",
     "text": [
      "Epoch 53/1000 [Training]: 100%|██████████| 17/17 [00:00<00:00, 23.69it/s]\n",
      "Epoch 53/1000 [Validation]: 100%|██████████| 1/1 [00:00<00:00, 115.50it/s]\n"
     ]
    },
    {
     "name": "stdout",
     "output_type": "stream",
     "text": [
      "Epoch 53: Train Loss = 0.1389 | Val Loss = 0.1578\n"
     ]
    },
    {
     "name": "stderr",
     "output_type": "stream",
     "text": [
      "Epoch 54/1000 [Training]: 100%|██████████| 17/17 [00:00<00:00, 23.71it/s]\n",
      "Epoch 54/1000 [Validation]: 100%|██████████| 1/1 [00:00<00:00, 103.14it/s]\n"
     ]
    },
    {
     "name": "stdout",
     "output_type": "stream",
     "text": [
      "Epoch 54: Train Loss = 0.1389 | Val Loss = 0.1576\n"
     ]
    },
    {
     "name": "stderr",
     "output_type": "stream",
     "text": [
      "Epoch 55/1000 [Training]: 100%|██████████| 17/17 [00:00<00:00, 23.78it/s]\n",
      "Epoch 55/1000 [Validation]: 100%|██████████| 1/1 [00:00<00:00, 111.07it/s]\n"
     ]
    },
    {
     "name": "stdout",
     "output_type": "stream",
     "text": [
      "Epoch 55: Train Loss = 0.1388 | Val Loss = 0.1577\n"
     ]
    },
    {
     "name": "stderr",
     "output_type": "stream",
     "text": [
      "Epoch 56/1000 [Training]: 100%|██████████| 17/17 [00:00<00:00, 23.77it/s]\n",
      "Epoch 56/1000 [Validation]: 100%|██████████| 1/1 [00:00<00:00, 110.52it/s]\n"
     ]
    },
    {
     "name": "stdout",
     "output_type": "stream",
     "text": [
      "Epoch 56: Train Loss = 0.1388 | Val Loss = 0.1574\n"
     ]
    },
    {
     "name": "stderr",
     "output_type": "stream",
     "text": [
      "Epoch 57/1000 [Training]: 100%|██████████| 17/17 [00:00<00:00, 23.74it/s]\n",
      "Epoch 57/1000 [Validation]: 100%|██████████| 1/1 [00:00<00:00, 105.13it/s]\n"
     ]
    },
    {
     "name": "stdout",
     "output_type": "stream",
     "text": [
      "Epoch 57: Train Loss = 0.1387 | Val Loss = 0.1578\n"
     ]
    },
    {
     "name": "stderr",
     "output_type": "stream",
     "text": [
      "Epoch 58/1000 [Training]: 100%|██████████| 17/17 [00:00<00:00, 23.68it/s]\n",
      "Epoch 58/1000 [Validation]: 100%|██████████| 1/1 [00:00<00:00, 78.93it/s]\n"
     ]
    },
    {
     "name": "stdout",
     "output_type": "stream",
     "text": [
      "Epoch 58: Train Loss = 0.1387 | Val Loss = 0.1585\n"
     ]
    },
    {
     "name": "stderr",
     "output_type": "stream",
     "text": [
      "Epoch 59/1000 [Training]: 100%|██████████| 17/17 [00:00<00:00, 23.68it/s]\n",
      "Epoch 59/1000 [Validation]: 100%|██████████| 1/1 [00:00<00:00, 111.62it/s]\n"
     ]
    },
    {
     "name": "stdout",
     "output_type": "stream",
     "text": [
      "Epoch 59: Train Loss = 0.1387 | Val Loss = 0.1576\n"
     ]
    },
    {
     "name": "stderr",
     "output_type": "stream",
     "text": [
      "Epoch 60/1000 [Training]: 100%|██████████| 17/17 [00:00<00:00, 23.73it/s]\n",
      "Epoch 60/1000 [Validation]: 100%|██████████| 1/1 [00:00<00:00, 107.23it/s]\n"
     ]
    },
    {
     "name": "stdout",
     "output_type": "stream",
     "text": [
      "Epoch 60: Train Loss = 0.1386 | Val Loss = 0.1587\n"
     ]
    },
    {
     "name": "stderr",
     "output_type": "stream",
     "text": [
      "Epoch 61/1000 [Training]: 100%|██████████| 17/17 [00:00<00:00, 23.76it/s]\n",
      "Epoch 61/1000 [Validation]: 100%|██████████| 1/1 [00:00<00:00, 111.44it/s]\n"
     ]
    },
    {
     "name": "stdout",
     "output_type": "stream",
     "text": [
      "Epoch 61: Train Loss = 0.1386 | Val Loss = 0.1581\n"
     ]
    },
    {
     "name": "stderr",
     "output_type": "stream",
     "text": [
      "Epoch 62/1000 [Training]: 100%|██████████| 17/17 [00:00<00:00, 23.68it/s]\n",
      "Epoch 62/1000 [Validation]: 100%|██████████| 1/1 [00:00<00:00, 109.95it/s]\n"
     ]
    },
    {
     "name": "stdout",
     "output_type": "stream",
     "text": [
      "Epoch 62: Train Loss = 0.1386 | Val Loss = 0.1587\n"
     ]
    },
    {
     "name": "stderr",
     "output_type": "stream",
     "text": [
      "Epoch 63/1000 [Training]: 100%|██████████| 17/17 [00:00<00:00, 23.72it/s]\n",
      "Epoch 63/1000 [Validation]: 100%|██████████| 1/1 [00:00<00:00, 105.32it/s]\n"
     ]
    },
    {
     "name": "stdout",
     "output_type": "stream",
     "text": [
      "Epoch 63: Train Loss = 0.1386 | Val Loss = 0.1580\n"
     ]
    },
    {
     "name": "stderr",
     "output_type": "stream",
     "text": [
      "Epoch 64/1000 [Training]: 100%|██████████| 17/17 [00:00<00:00, 23.81it/s]\n",
      "Epoch 64/1000 [Validation]: 100%|██████████| 1/1 [00:00<00:00, 104.02it/s]\n"
     ]
    },
    {
     "name": "stdout",
     "output_type": "stream",
     "text": [
      "Epoch 64: Train Loss = 0.1386 | Val Loss = 0.1582\n"
     ]
    },
    {
     "name": "stderr",
     "output_type": "stream",
     "text": [
      "Epoch 65/1000 [Training]: 100%|██████████| 17/17 [00:00<00:00, 23.78it/s]\n",
      "Epoch 65/1000 [Validation]: 100%|██████████| 1/1 [00:00<00:00, 113.75it/s]\n"
     ]
    },
    {
     "name": "stdout",
     "output_type": "stream",
     "text": [
      "Epoch 65: Train Loss = 0.1385 | Val Loss = 0.1585\n"
     ]
    },
    {
     "name": "stderr",
     "output_type": "stream",
     "text": [
      "Epoch 66/1000 [Training]: 100%|██████████| 17/17 [00:00<00:00, 23.72it/s]\n",
      "Epoch 66/1000 [Validation]: 100%|██████████| 1/1 [00:00<00:00, 106.22it/s]\n"
     ]
    },
    {
     "name": "stdout",
     "output_type": "stream",
     "text": [
      "Epoch 66: Train Loss = 0.1385 | Val Loss = 0.1581\n"
     ]
    },
    {
     "name": "stderr",
     "output_type": "stream",
     "text": [
      "Epoch 67/1000 [Training]: 100%|██████████| 17/17 [00:00<00:00, 23.73it/s]\n",
      "Epoch 67/1000 [Validation]: 100%|██████████| 1/1 [00:00<00:00, 107.43it/s]\n"
     ]
    },
    {
     "name": "stdout",
     "output_type": "stream",
     "text": [
      "Epoch 67: Train Loss = 0.1385 | Val Loss = 0.1589\n"
     ]
    },
    {
     "name": "stderr",
     "output_type": "stream",
     "text": [
      "Epoch 68/1000 [Training]: 100%|██████████| 17/17 [00:00<00:00, 23.78it/s]\n",
      "Epoch 68/1000 [Validation]: 100%|██████████| 1/1 [00:00<00:00, 108.82it/s]\n"
     ]
    },
    {
     "name": "stdout",
     "output_type": "stream",
     "text": [
      "Epoch 68: Train Loss = 0.1385 | Val Loss = 0.1584\n"
     ]
    },
    {
     "name": "stderr",
     "output_type": "stream",
     "text": [
      "Epoch 69/1000 [Training]: 100%|██████████| 17/17 [00:00<00:00, 23.74it/s]\n",
      "Epoch 69/1000 [Validation]: 100%|██████████| 1/1 [00:00<00:00, 111.04it/s]\n"
     ]
    },
    {
     "name": "stdout",
     "output_type": "stream",
     "text": [
      "Epoch 69: Train Loss = 0.1385 | Val Loss = 0.1590\n"
     ]
    },
    {
     "name": "stderr",
     "output_type": "stream",
     "text": [
      "Epoch 70/1000 [Training]: 100%|██████████| 17/17 [00:00<00:00, 23.72it/s]\n",
      "Epoch 70/1000 [Validation]: 100%|██████████| 1/1 [00:00<00:00, 120.15it/s]\n"
     ]
    },
    {
     "name": "stdout",
     "output_type": "stream",
     "text": [
      "Epoch 70: Train Loss = 0.1385 | Val Loss = 0.1583\n"
     ]
    },
    {
     "name": "stderr",
     "output_type": "stream",
     "text": [
      "Epoch 71/1000 [Training]: 100%|██████████| 17/17 [00:00<00:00, 23.75it/s]\n",
      "Epoch 71/1000 [Validation]: 100%|██████████| 1/1 [00:00<00:00, 105.75it/s]\n"
     ]
    },
    {
     "name": "stdout",
     "output_type": "stream",
     "text": [
      "Epoch 71: Train Loss = 0.1385 | Val Loss = 0.1583\n"
     ]
    },
    {
     "name": "stderr",
     "output_type": "stream",
     "text": [
      "Epoch 72/1000 [Training]: 100%|██████████| 17/17 [00:00<00:00, 23.37it/s]\n",
      "Epoch 72/1000 [Validation]: 100%|██████████| 1/1 [00:00<00:00, 115.24it/s]\n"
     ]
    },
    {
     "name": "stdout",
     "output_type": "stream",
     "text": [
      "Epoch 72: Train Loss = 0.1384 | Val Loss = 0.1582\n"
     ]
    },
    {
     "name": "stderr",
     "output_type": "stream",
     "text": [
      "Epoch 73/1000 [Training]: 100%|██████████| 17/17 [00:00<00:00, 23.70it/s]\n",
      "Epoch 73/1000 [Validation]: 100%|██████████| 1/1 [00:00<00:00, 108.87it/s]\n"
     ]
    },
    {
     "name": "stdout",
     "output_type": "stream",
     "text": [
      "Epoch 73: Train Loss = 0.1384 | Val Loss = 0.1580\n"
     ]
    },
    {
     "name": "stderr",
     "output_type": "stream",
     "text": [
      "Epoch 74/1000 [Training]: 100%|██████████| 17/17 [00:00<00:00, 23.77it/s]\n",
      "Epoch 74/1000 [Validation]: 100%|██████████| 1/1 [00:00<00:00, 107.01it/s]\n"
     ]
    },
    {
     "name": "stdout",
     "output_type": "stream",
     "text": [
      "Epoch 74: Train Loss = 0.1384 | Val Loss = 0.1582\n"
     ]
    },
    {
     "name": "stderr",
     "output_type": "stream",
     "text": [
      "Epoch 75/1000 [Training]: 100%|██████████| 17/17 [00:00<00:00, 23.75it/s]\n",
      "Epoch 75/1000 [Validation]: 100%|██████████| 1/1 [00:00<00:00, 107.46it/s]\n"
     ]
    },
    {
     "name": "stdout",
     "output_type": "stream",
     "text": [
      "Epoch 75: Train Loss = 0.1384 | Val Loss = 0.1583\n"
     ]
    },
    {
     "name": "stderr",
     "output_type": "stream",
     "text": [
      "Epoch 76/1000 [Training]: 100%|██████████| 17/17 [00:00<00:00, 23.75it/s]\n",
      "Epoch 76/1000 [Validation]: 100%|██████████| 1/1 [00:00<00:00, 111.34it/s]\n"
     ]
    },
    {
     "name": "stdout",
     "output_type": "stream",
     "text": [
      "Epoch 76: Train Loss = 0.1384 | Val Loss = 0.1424\n"
     ]
    },
    {
     "name": "stderr",
     "output_type": "stream",
     "text": [
      "Epoch 77/1000 [Training]: 100%|██████████| 17/17 [00:00<00:00, 23.76it/s]\n",
      "Epoch 77/1000 [Validation]: 100%|██████████| 1/1 [00:00<00:00, 108.32it/s]\n"
     ]
    },
    {
     "name": "stdout",
     "output_type": "stream",
     "text": [
      "Epoch 77: Train Loss = 0.1384 | Val Loss = 0.1583\n"
     ]
    },
    {
     "name": "stderr",
     "output_type": "stream",
     "text": [
      "Epoch 78/1000 [Training]: 100%|██████████| 17/17 [00:00<00:00, 23.78it/s]\n",
      "Epoch 78/1000 [Validation]: 100%|██████████| 1/1 [00:00<00:00, 109.05it/s]\n"
     ]
    },
    {
     "name": "stdout",
     "output_type": "stream",
     "text": [
      "Epoch 78: Train Loss = 0.1384 | Val Loss = 0.1423\n"
     ]
    },
    {
     "name": "stderr",
     "output_type": "stream",
     "text": [
      "Epoch 79/1000 [Training]: 100%|██████████| 17/17 [00:00<00:00, 23.81it/s]\n",
      "Epoch 79/1000 [Validation]: 100%|██████████| 1/1 [00:00<00:00, 116.46it/s]\n"
     ]
    },
    {
     "name": "stdout",
     "output_type": "stream",
     "text": [
      "Epoch 79: Train Loss = 0.1384 | Val Loss = 0.1580\n"
     ]
    },
    {
     "name": "stderr",
     "output_type": "stream",
     "text": [
      "Epoch 80/1000 [Training]: 100%|██████████| 17/17 [00:00<00:00, 23.78it/s]\n",
      "Epoch 80/1000 [Validation]: 100%|██████████| 1/1 [00:00<00:00, 112.12it/s]\n"
     ]
    },
    {
     "name": "stdout",
     "output_type": "stream",
     "text": [
      "Epoch 80: Train Loss = 0.1384 | Val Loss = 0.1585\n"
     ]
    },
    {
     "name": "stderr",
     "output_type": "stream",
     "text": [
      "Epoch 81/1000 [Training]: 100%|██████████| 17/17 [00:00<00:00, 23.71it/s]\n",
      "Epoch 81/1000 [Validation]: 100%|██████████| 1/1 [00:00<00:00, 105.84it/s]\n"
     ]
    },
    {
     "name": "stdout",
     "output_type": "stream",
     "text": [
      "Epoch 81: Train Loss = 0.1384 | Val Loss = 0.1419\n"
     ]
    },
    {
     "name": "stderr",
     "output_type": "stream",
     "text": [
      "Epoch 82/1000 [Training]: 100%|██████████| 17/17 [00:00<00:00, 23.60it/s]\n",
      "Epoch 82/1000 [Validation]: 100%|██████████| 1/1 [00:00<00:00, 110.01it/s]\n"
     ]
    },
    {
     "name": "stdout",
     "output_type": "stream",
     "text": [
      "Epoch 82: Train Loss = 0.1384 | Val Loss = 0.1422\n"
     ]
    },
    {
     "name": "stderr",
     "output_type": "stream",
     "text": [
      "Epoch 83/1000 [Training]: 100%|██████████| 17/17 [00:00<00:00, 23.75it/s]\n",
      "Epoch 83/1000 [Validation]: 100%|██████████| 1/1 [00:00<00:00, 112.40it/s]\n"
     ]
    },
    {
     "name": "stdout",
     "output_type": "stream",
     "text": [
      "Epoch 83: Train Loss = 0.1384 | Val Loss = 0.1422\n"
     ]
    },
    {
     "name": "stderr",
     "output_type": "stream",
     "text": [
      "Epoch 84/1000 [Training]: 100%|██████████| 17/17 [00:00<00:00, 23.81it/s]\n",
      "Epoch 84/1000 [Validation]: 100%|██████████| 1/1 [00:00<00:00, 112.98it/s]\n"
     ]
    },
    {
     "name": "stdout",
     "output_type": "stream",
     "text": [
      "Epoch 84: Train Loss = 0.1384 | Val Loss = 0.1422\n"
     ]
    },
    {
     "name": "stderr",
     "output_type": "stream",
     "text": [
      "Epoch 85/1000 [Training]: 100%|██████████| 17/17 [00:00<00:00, 23.72it/s]\n",
      "Epoch 85/1000 [Validation]: 100%|██████████| 1/1 [00:00<00:00, 105.84it/s]\n"
     ]
    },
    {
     "name": "stdout",
     "output_type": "stream",
     "text": [
      "Epoch 85: Train Loss = 0.1384 | Val Loss = 0.1416\n"
     ]
    },
    {
     "name": "stderr",
     "output_type": "stream",
     "text": [
      "Epoch 86/1000 [Training]: 100%|██████████| 17/17 [00:00<00:00, 23.35it/s]\n",
      "Epoch 86/1000 [Validation]: 100%|██████████| 1/1 [00:00<00:00, 109.30it/s]\n"
     ]
    },
    {
     "name": "stdout",
     "output_type": "stream",
     "text": [
      "Epoch 86: Train Loss = 0.1383 | Val Loss = 0.1418\n"
     ]
    },
    {
     "name": "stderr",
     "output_type": "stream",
     "text": [
      "Epoch 87/1000 [Training]: 100%|██████████| 17/17 [00:00<00:00, 23.82it/s]\n",
      "Epoch 87/1000 [Validation]: 100%|██████████| 1/1 [00:00<00:00, 111.86it/s]\n"
     ]
    },
    {
     "name": "stdout",
     "output_type": "stream",
     "text": [
      "Epoch 87: Train Loss = 0.1383 | Val Loss = 0.1586\n"
     ]
    },
    {
     "name": "stderr",
     "output_type": "stream",
     "text": [
      "Epoch 88/1000 [Training]: 100%|██████████| 17/17 [00:00<00:00, 23.76it/s]\n",
      "Epoch 88/1000 [Validation]: 100%|██████████| 1/1 [00:00<00:00, 109.88it/s]\n"
     ]
    },
    {
     "name": "stdout",
     "output_type": "stream",
     "text": [
      "Epoch 88: Train Loss = 0.1383 | Val Loss = 0.1414\n"
     ]
    },
    {
     "name": "stderr",
     "output_type": "stream",
     "text": [
      "Epoch 89/1000 [Training]: 100%|██████████| 17/17 [00:00<00:00, 22.66it/s]\n",
      "Epoch 89/1000 [Validation]: 100%|██████████| 1/1 [00:00<00:00, 107.97it/s]\n"
     ]
    },
    {
     "name": "stdout",
     "output_type": "stream",
     "text": [
      "Epoch 89: Train Loss = 0.1383 | Val Loss = 0.1417\n"
     ]
    },
    {
     "name": "stderr",
     "output_type": "stream",
     "text": [
      "Epoch 90/1000 [Training]: 100%|██████████| 17/17 [00:00<00:00, 22.94it/s]\n",
      "Epoch 90/1000 [Validation]: 100%|██████████| 1/1 [00:00<00:00, 100.96it/s]\n"
     ]
    },
    {
     "name": "stdout",
     "output_type": "stream",
     "text": [
      "Epoch 90: Train Loss = 0.1383 | Val Loss = 0.1416\n"
     ]
    },
    {
     "name": "stderr",
     "output_type": "stream",
     "text": [
      "Epoch 91/1000 [Training]: 100%|██████████| 17/17 [00:00<00:00, 23.74it/s]\n",
      "Epoch 91/1000 [Validation]: 100%|██████████| 1/1 [00:00<00:00, 103.98it/s]\n"
     ]
    },
    {
     "name": "stdout",
     "output_type": "stream",
     "text": [
      "Epoch 91: Train Loss = 0.1383 | Val Loss = 0.1414\n"
     ]
    },
    {
     "name": "stderr",
     "output_type": "stream",
     "text": [
      "Epoch 92/1000 [Training]: 100%|██████████| 17/17 [00:00<00:00, 23.72it/s]\n",
      "Epoch 92/1000 [Validation]: 100%|██████████| 1/1 [00:00<00:00, 110.03it/s]\n"
     ]
    },
    {
     "name": "stdout",
     "output_type": "stream",
     "text": [
      "Epoch 92: Train Loss = 0.1383 | Val Loss = 0.1416\n"
     ]
    },
    {
     "name": "stderr",
     "output_type": "stream",
     "text": [
      "Epoch 93/1000 [Training]: 100%|██████████| 17/17 [00:00<00:00, 23.74it/s]\n",
      "Epoch 93/1000 [Validation]: 100%|██████████| 1/1 [00:00<00:00, 111.41it/s]\n"
     ]
    },
    {
     "name": "stdout",
     "output_type": "stream",
     "text": [
      "Epoch 93: Train Loss = 0.1383 | Val Loss = 0.1415\n"
     ]
    },
    {
     "name": "stderr",
     "output_type": "stream",
     "text": [
      "Epoch 94/1000 [Training]: 100%|██████████| 17/17 [00:00<00:00, 23.79it/s]\n",
      "Epoch 94/1000 [Validation]: 100%|██████████| 1/1 [00:00<00:00, 111.51it/s]\n"
     ]
    },
    {
     "name": "stdout",
     "output_type": "stream",
     "text": [
      "Epoch 94: Train Loss = 0.1383 | Val Loss = 0.1410\n"
     ]
    },
    {
     "name": "stderr",
     "output_type": "stream",
     "text": [
      "Epoch 95/1000 [Training]: 100%|██████████| 17/17 [00:00<00:00, 23.76it/s]\n",
      "Epoch 95/1000 [Validation]: 100%|██████████| 1/1 [00:00<00:00, 111.54it/s]\n"
     ]
    },
    {
     "name": "stdout",
     "output_type": "stream",
     "text": [
      "Epoch 95: Train Loss = 0.1383 | Val Loss = 0.1413\n"
     ]
    },
    {
     "name": "stderr",
     "output_type": "stream",
     "text": [
      "Epoch 96/1000 [Training]: 100%|██████████| 17/17 [00:00<00:00, 23.71it/s]\n",
      "Epoch 96/1000 [Validation]: 100%|██████████| 1/1 [00:00<00:00, 98.76it/s]\n"
     ]
    },
    {
     "name": "stdout",
     "output_type": "stream",
     "text": [
      "Epoch 96: Train Loss = 0.1383 | Val Loss = 0.1409\n"
     ]
    },
    {
     "name": "stderr",
     "output_type": "stream",
     "text": [
      "Epoch 97/1000 [Training]: 100%|██████████| 17/17 [00:00<00:00, 23.67it/s]\n",
      "Epoch 97/1000 [Validation]: 100%|██████████| 1/1 [00:00<00:00, 110.25it/s]\n"
     ]
    },
    {
     "name": "stdout",
     "output_type": "stream",
     "text": [
      "Epoch 97: Train Loss = 0.1383 | Val Loss = 0.1411\n"
     ]
    },
    {
     "name": "stderr",
     "output_type": "stream",
     "text": [
      "Epoch 98/1000 [Training]: 100%|██████████| 17/17 [00:00<00:00, 23.71it/s]\n",
      "Epoch 98/1000 [Validation]: 100%|██████████| 1/1 [00:00<00:00, 106.48it/s]\n"
     ]
    },
    {
     "name": "stdout",
     "output_type": "stream",
     "text": [
      "Epoch 98: Train Loss = 0.1383 | Val Loss = 0.1419\n"
     ]
    },
    {
     "name": "stderr",
     "output_type": "stream",
     "text": [
      "Epoch 99/1000 [Training]: 100%|██████████| 17/17 [00:00<00:00, 23.17it/s]\n",
      "Epoch 99/1000 [Validation]: 100%|██████████| 1/1 [00:00<00:00, 109.12it/s]\n"
     ]
    },
    {
     "name": "stdout",
     "output_type": "stream",
     "text": [
      "Epoch 99: Train Loss = 0.1383 | Val Loss = 0.1404\n"
     ]
    },
    {
     "name": "stderr",
     "output_type": "stream",
     "text": [
      "Epoch 100/1000 [Training]: 100%|██████████| 17/17 [00:00<00:00, 23.76it/s]\n",
      "Epoch 100/1000 [Validation]: 100%|██████████| 1/1 [00:00<00:00, 106.91it/s]\n"
     ]
    },
    {
     "name": "stdout",
     "output_type": "stream",
     "text": [
      "Epoch 100: Train Loss = 0.1383 | Val Loss = 0.1410\n"
     ]
    },
    {
     "name": "stderr",
     "output_type": "stream",
     "text": [
      "Epoch 101/1000 [Training]: 100%|██████████| 17/17 [00:00<00:00, 23.67it/s]\n",
      "Epoch 101/1000 [Validation]: 100%|██████████| 1/1 [00:00<00:00, 110.48it/s]\n"
     ]
    },
    {
     "name": "stdout",
     "output_type": "stream",
     "text": [
      "Epoch 101: Train Loss = 0.1383 | Val Loss = 0.1410\n"
     ]
    },
    {
     "name": "stderr",
     "output_type": "stream",
     "text": [
      "Epoch 102/1000 [Training]: 100%|██████████| 17/17 [00:00<00:00, 23.76it/s]\n",
      "Epoch 102/1000 [Validation]: 100%|██████████| 1/1 [00:00<00:00, 110.06it/s]\n"
     ]
    },
    {
     "name": "stdout",
     "output_type": "stream",
     "text": [
      "Epoch 102: Train Loss = 0.1383 | Val Loss = 0.1404\n"
     ]
    },
    {
     "name": "stderr",
     "output_type": "stream",
     "text": [
      "Epoch 103/1000 [Training]: 100%|██████████| 17/17 [00:00<00:00, 23.75it/s]\n",
      "Epoch 103/1000 [Validation]: 100%|██████████| 1/1 [00:00<00:00, 113.39it/s]\n"
     ]
    },
    {
     "name": "stdout",
     "output_type": "stream",
     "text": [
      "Epoch 103: Train Loss = 0.1383 | Val Loss = 0.1409\n"
     ]
    },
    {
     "name": "stderr",
     "output_type": "stream",
     "text": [
      "Epoch 104/1000 [Training]: 100%|██████████| 17/17 [00:00<00:00, 23.75it/s]\n",
      "Epoch 104/1000 [Validation]: 100%|██████████| 1/1 [00:00<00:00, 103.10it/s]\n"
     ]
    },
    {
     "name": "stdout",
     "output_type": "stream",
     "text": [
      "Epoch 104: Train Loss = 0.1383 | Val Loss = 0.1407\n"
     ]
    },
    {
     "name": "stderr",
     "output_type": "stream",
     "text": [
      "Epoch 105/1000 [Training]: 100%|██████████| 17/17 [00:00<00:00, 23.73it/s]\n",
      "Epoch 105/1000 [Validation]: 100%|██████████| 1/1 [00:00<00:00, 110.56it/s]\n"
     ]
    },
    {
     "name": "stdout",
     "output_type": "stream",
     "text": [
      "Epoch 105: Train Loss = 0.1383 | Val Loss = 0.1407\n"
     ]
    },
    {
     "name": "stderr",
     "output_type": "stream",
     "text": [
      "Epoch 106/1000 [Training]: 100%|██████████| 17/17 [00:00<00:00, 23.71it/s]\n",
      "Epoch 106/1000 [Validation]: 100%|██████████| 1/1 [00:00<00:00, 107.32it/s]\n"
     ]
    },
    {
     "name": "stdout",
     "output_type": "stream",
     "text": [
      "Epoch 106: Train Loss = 0.1383 | Val Loss = 0.1409\n"
     ]
    },
    {
     "name": "stderr",
     "output_type": "stream",
     "text": [
      "Epoch 107/1000 [Training]: 100%|██████████| 17/17 [00:00<00:00, 23.75it/s]\n",
      "Epoch 107/1000 [Validation]: 100%|██████████| 1/1 [00:00<00:00, 114.85it/s]\n"
     ]
    },
    {
     "name": "stdout",
     "output_type": "stream",
     "text": [
      "Epoch 107: Train Loss = 0.1383 | Val Loss = 0.1407\n"
     ]
    },
    {
     "name": "stderr",
     "output_type": "stream",
     "text": [
      "Epoch 108/1000 [Training]: 100%|██████████| 17/17 [00:00<00:00, 23.78it/s]\n",
      "Epoch 108/1000 [Validation]: 100%|██████████| 1/1 [00:00<00:00, 101.63it/s]\n"
     ]
    },
    {
     "name": "stdout",
     "output_type": "stream",
     "text": [
      "Epoch 108: Train Loss = 0.1383 | Val Loss = 0.1406\n"
     ]
    },
    {
     "name": "stderr",
     "output_type": "stream",
     "text": [
      "Epoch 109/1000 [Training]: 100%|██████████| 17/17 [00:00<00:00, 23.70it/s]\n",
      "Epoch 109/1000 [Validation]: 100%|██████████| 1/1 [00:00<00:00, 113.81it/s]\n"
     ]
    },
    {
     "name": "stdout",
     "output_type": "stream",
     "text": [
      "Epoch 109: Train Loss = 0.1383 | Val Loss = 0.1404\n"
     ]
    },
    {
     "name": "stderr",
     "output_type": "stream",
     "text": [
      "Epoch 110/1000 [Training]: 100%|██████████| 17/17 [00:00<00:00, 23.75it/s]\n",
      "Epoch 110/1000 [Validation]: 100%|██████████| 1/1 [00:00<00:00, 105.68it/s]\n"
     ]
    },
    {
     "name": "stdout",
     "output_type": "stream",
     "text": [
      "Epoch 110: Train Loss = 0.1383 | Val Loss = 0.1402\n"
     ]
    },
    {
     "name": "stderr",
     "output_type": "stream",
     "text": [
      "Epoch 111/1000 [Training]: 100%|██████████| 17/17 [00:00<00:00, 23.77it/s]\n",
      "Epoch 111/1000 [Validation]: 100%|██████████| 1/1 [00:00<00:00, 111.80it/s]\n"
     ]
    },
    {
     "name": "stdout",
     "output_type": "stream",
     "text": [
      "Epoch 111: Train Loss = 0.1383 | Val Loss = 0.1408\n"
     ]
    },
    {
     "name": "stderr",
     "output_type": "stream",
     "text": [
      "Epoch 112/1000 [Training]: 100%|██████████| 17/17 [00:00<00:00, 23.76it/s]\n",
      "Epoch 112/1000 [Validation]: 100%|██████████| 1/1 [00:00<00:00, 100.52it/s]\n"
     ]
    },
    {
     "name": "stdout",
     "output_type": "stream",
     "text": [
      "Epoch 112: Train Loss = 0.1383 | Val Loss = 0.1405\n"
     ]
    },
    {
     "name": "stderr",
     "output_type": "stream",
     "text": [
      "Epoch 113/1000 [Training]: 100%|██████████| 17/17 [00:00<00:00, 23.34it/s]\n",
      "Epoch 113/1000 [Validation]: 100%|██████████| 1/1 [00:00<00:00, 105.49it/s]\n"
     ]
    },
    {
     "name": "stdout",
     "output_type": "stream",
     "text": [
      "Epoch 113: Train Loss = 0.1383 | Val Loss = 0.1401\n"
     ]
    },
    {
     "name": "stderr",
     "output_type": "stream",
     "text": [
      "Epoch 114/1000 [Training]: 100%|██████████| 17/17 [00:00<00:00, 23.75it/s]\n",
      "Epoch 114/1000 [Validation]: 100%|██████████| 1/1 [00:00<00:00, 108.77it/s]\n"
     ]
    },
    {
     "name": "stdout",
     "output_type": "stream",
     "text": [
      "Epoch 114: Train Loss = 0.1383 | Val Loss = 0.1403\n"
     ]
    },
    {
     "name": "stderr",
     "output_type": "stream",
     "text": [
      "Epoch 115/1000 [Training]: 100%|██████████| 17/17 [00:00<00:00, 23.74it/s]\n",
      "Epoch 115/1000 [Validation]: 100%|██████████| 1/1 [00:00<00:00, 111.96it/s]\n"
     ]
    },
    {
     "name": "stdout",
     "output_type": "stream",
     "text": [
      "Epoch 115: Train Loss = 0.1383 | Val Loss = 0.1405\n"
     ]
    },
    {
     "name": "stderr",
     "output_type": "stream",
     "text": [
      "Epoch 116/1000 [Training]: 100%|██████████| 17/17 [00:00<00:00, 23.75it/s]\n",
      "Epoch 116/1000 [Validation]: 100%|██████████| 1/1 [00:00<00:00, 109.14it/s]\n"
     ]
    },
    {
     "name": "stdout",
     "output_type": "stream",
     "text": [
      "Epoch 116: Train Loss = 0.1383 | Val Loss = 0.1399\n"
     ]
    },
    {
     "name": "stderr",
     "output_type": "stream",
     "text": [
      "Epoch 117/1000 [Training]: 100%|██████████| 17/17 [00:00<00:00, 23.59it/s]\n",
      "Epoch 117/1000 [Validation]: 100%|██████████| 1/1 [00:00<00:00, 112.33it/s]\n"
     ]
    },
    {
     "name": "stdout",
     "output_type": "stream",
     "text": [
      "Epoch 117: Train Loss = 0.1383 | Val Loss = 0.1402\n"
     ]
    },
    {
     "name": "stderr",
     "output_type": "stream",
     "text": [
      "Epoch 118/1000 [Training]: 100%|██████████| 17/17 [00:00<00:00, 23.75it/s]\n",
      "Epoch 118/1000 [Validation]: 100%|██████████| 1/1 [00:00<00:00, 113.29it/s]\n"
     ]
    },
    {
     "name": "stdout",
     "output_type": "stream",
     "text": [
      "Epoch 118: Train Loss = 0.1383 | Val Loss = 0.1402\n"
     ]
    },
    {
     "name": "stderr",
     "output_type": "stream",
     "text": [
      "Epoch 119/1000 [Training]: 100%|██████████| 17/17 [00:00<00:00, 23.72it/s]\n",
      "Epoch 119/1000 [Validation]: 100%|██████████| 1/1 [00:00<00:00, 102.37it/s]\n"
     ]
    },
    {
     "name": "stdout",
     "output_type": "stream",
     "text": [
      "Epoch 119: Train Loss = 0.1383 | Val Loss = 0.1402\n"
     ]
    },
    {
     "name": "stderr",
     "output_type": "stream",
     "text": [
      "Epoch 120/1000 [Training]: 100%|██████████| 17/17 [00:00<00:00, 23.76it/s]\n",
      "Epoch 120/1000 [Validation]: 100%|██████████| 1/1 [00:00<00:00, 104.93it/s]\n"
     ]
    },
    {
     "name": "stdout",
     "output_type": "stream",
     "text": [
      "Epoch 120: Train Loss = 0.1383 | Val Loss = 0.1401\n"
     ]
    },
    {
     "name": "stderr",
     "output_type": "stream",
     "text": [
      "Epoch 121/1000 [Training]: 100%|██████████| 17/17 [00:00<00:00, 23.81it/s]\n",
      "Epoch 121/1000 [Validation]: 100%|██████████| 1/1 [00:00<00:00, 109.87it/s]\n"
     ]
    },
    {
     "name": "stdout",
     "output_type": "stream",
     "text": [
      "Epoch 121: Train Loss = 0.1383 | Val Loss = 0.1401\n"
     ]
    },
    {
     "name": "stderr",
     "output_type": "stream",
     "text": [
      "Epoch 122/1000 [Training]: 100%|██████████| 17/17 [00:00<00:00, 23.75it/s]\n",
      "Epoch 122/1000 [Validation]: 100%|██████████| 1/1 [00:00<00:00, 109.85it/s]\n"
     ]
    },
    {
     "name": "stdout",
     "output_type": "stream",
     "text": [
      "Epoch 122: Train Loss = 0.1382 | Val Loss = 0.1403\n"
     ]
    },
    {
     "name": "stderr",
     "output_type": "stream",
     "text": [
      "Epoch 123/1000 [Training]: 100%|██████████| 17/17 [00:00<00:00, 23.80it/s]\n",
      "Epoch 123/1000 [Validation]: 100%|██████████| 1/1 [00:00<00:00, 111.05it/s]\n"
     ]
    },
    {
     "name": "stdout",
     "output_type": "stream",
     "text": [
      "Epoch 123: Train Loss = 0.1382 | Val Loss = 0.1399\n"
     ]
    },
    {
     "name": "stderr",
     "output_type": "stream",
     "text": [
      "Epoch 124/1000 [Training]: 100%|██████████| 17/17 [00:00<00:00, 23.75it/s]\n",
      "Epoch 124/1000 [Validation]: 100%|██████████| 1/1 [00:00<00:00, 115.91it/s]\n"
     ]
    },
    {
     "name": "stdout",
     "output_type": "stream",
     "text": [
      "Epoch 124: Train Loss = 0.1382 | Val Loss = 0.1399\n"
     ]
    },
    {
     "name": "stderr",
     "output_type": "stream",
     "text": [
      "Epoch 125/1000 [Training]: 100%|██████████| 17/17 [00:00<00:00, 23.87it/s]\n",
      "Epoch 125/1000 [Validation]: 100%|██████████| 1/1 [00:00<00:00, 112.73it/s]\n"
     ]
    },
    {
     "name": "stdout",
     "output_type": "stream",
     "text": [
      "Epoch 125: Train Loss = 0.1382 | Val Loss = 0.1400\n"
     ]
    },
    {
     "name": "stderr",
     "output_type": "stream",
     "text": [
      "Epoch 126/1000 [Training]: 100%|██████████| 17/17 [00:00<00:00, 23.79it/s]\n",
      "Epoch 126/1000 [Validation]: 100%|██████████| 1/1 [00:00<00:00, 105.27it/s]\n"
     ]
    },
    {
     "name": "stdout",
     "output_type": "stream",
     "text": [
      "Epoch 126: Train Loss = 0.1382 | Val Loss = 0.1403\n"
     ]
    },
    {
     "name": "stderr",
     "output_type": "stream",
     "text": [
      "Epoch 127/1000 [Training]: 100%|██████████| 17/17 [00:00<00:00, 23.58it/s]\n",
      "Epoch 127/1000 [Validation]: 100%|██████████| 1/1 [00:00<00:00, 109.91it/s]\n"
     ]
    },
    {
     "name": "stdout",
     "output_type": "stream",
     "text": [
      "Epoch 127: Train Loss = 0.1382 | Val Loss = 0.1396\n"
     ]
    },
    {
     "name": "stderr",
     "output_type": "stream",
     "text": [
      "Epoch 128/1000 [Training]: 100%|██████████| 17/17 [00:00<00:00, 23.77it/s]\n",
      "Epoch 128/1000 [Validation]: 100%|██████████| 1/1 [00:00<00:00, 104.17it/s]\n"
     ]
    },
    {
     "name": "stdout",
     "output_type": "stream",
     "text": [
      "Epoch 128: Train Loss = 0.1382 | Val Loss = 0.1398\n"
     ]
    },
    {
     "name": "stderr",
     "output_type": "stream",
     "text": [
      "Epoch 129/1000 [Training]: 100%|██████████| 17/17 [00:00<00:00, 23.73it/s]\n",
      "Epoch 129/1000 [Validation]: 100%|██████████| 1/1 [00:00<00:00, 111.05it/s]\n"
     ]
    },
    {
     "name": "stdout",
     "output_type": "stream",
     "text": [
      "Epoch 129: Train Loss = 0.1382 | Val Loss = 0.1400\n"
     ]
    },
    {
     "name": "stderr",
     "output_type": "stream",
     "text": [
      "Epoch 130/1000 [Training]: 100%|██████████| 17/17 [00:00<00:00, 23.76it/s]\n",
      "Epoch 130/1000 [Validation]: 100%|██████████| 1/1 [00:00<00:00, 107.30it/s]\n"
     ]
    },
    {
     "name": "stdout",
     "output_type": "stream",
     "text": [
      "Epoch 130: Train Loss = 0.1382 | Val Loss = 0.1398\n"
     ]
    },
    {
     "name": "stderr",
     "output_type": "stream",
     "text": [
      "Epoch 131/1000 [Training]: 100%|██████████| 17/17 [00:00<00:00, 23.75it/s]\n",
      "Epoch 131/1000 [Validation]: 100%|██████████| 1/1 [00:00<00:00, 112.49it/s]\n"
     ]
    },
    {
     "name": "stdout",
     "output_type": "stream",
     "text": [
      "Epoch 131: Train Loss = 0.1382 | Val Loss = 0.1396\n"
     ]
    },
    {
     "name": "stderr",
     "output_type": "stream",
     "text": [
      "Epoch 132/1000 [Training]: 100%|██████████| 17/17 [00:00<00:00, 22.81it/s]\n",
      "Epoch 132/1000 [Validation]: 100%|██████████| 1/1 [00:00<00:00, 75.90it/s]\n"
     ]
    },
    {
     "name": "stdout",
     "output_type": "stream",
     "text": [
      "Epoch 132: Train Loss = 0.1382 | Val Loss = 0.1398\n"
     ]
    },
    {
     "name": "stderr",
     "output_type": "stream",
     "text": [
      "Epoch 133/1000 [Training]: 100%|██████████| 17/17 [00:00<00:00, 23.26it/s]\n",
      "Epoch 133/1000 [Validation]: 100%|██████████| 1/1 [00:00<00:00, 101.46it/s]\n"
     ]
    },
    {
     "name": "stdout",
     "output_type": "stream",
     "text": [
      "Epoch 133: Train Loss = 0.1382 | Val Loss = 0.1399\n"
     ]
    },
    {
     "name": "stderr",
     "output_type": "stream",
     "text": [
      "Epoch 134/1000 [Training]: 100%|██████████| 17/17 [00:00<00:00, 23.78it/s]\n",
      "Epoch 134/1000 [Validation]: 100%|██████████| 1/1 [00:00<00:00, 110.56it/s]\n"
     ]
    },
    {
     "name": "stdout",
     "output_type": "stream",
     "text": [
      "Epoch 134: Train Loss = 0.1382 | Val Loss = 0.1397\n"
     ]
    },
    {
     "name": "stderr",
     "output_type": "stream",
     "text": [
      "Epoch 135/1000 [Training]: 100%|██████████| 17/17 [00:00<00:00, 23.83it/s]\n",
      "Epoch 135/1000 [Validation]: 100%|██████████| 1/1 [00:00<00:00, 111.27it/s]\n"
     ]
    },
    {
     "name": "stdout",
     "output_type": "stream",
     "text": [
      "Epoch 135: Train Loss = 0.1382 | Val Loss = 0.1397\n"
     ]
    },
    {
     "name": "stderr",
     "output_type": "stream",
     "text": [
      "Epoch 136/1000 [Training]: 100%|██████████| 17/17 [00:00<00:00, 23.81it/s]\n",
      "Epoch 136/1000 [Validation]: 100%|██████████| 1/1 [00:00<00:00, 108.45it/s]\n"
     ]
    },
    {
     "name": "stdout",
     "output_type": "stream",
     "text": [
      "Epoch 136: Train Loss = 0.1382 | Val Loss = 0.1397\n"
     ]
    },
    {
     "name": "stderr",
     "output_type": "stream",
     "text": [
      "Epoch 137/1000 [Training]: 100%|██████████| 17/17 [00:00<00:00, 23.76it/s]\n",
      "Epoch 137/1000 [Validation]: 100%|██████████| 1/1 [00:00<00:00, 113.18it/s]\n"
     ]
    },
    {
     "name": "stdout",
     "output_type": "stream",
     "text": [
      "Epoch 137: Train Loss = 0.1382 | Val Loss = 0.1397\n"
     ]
    },
    {
     "name": "stderr",
     "output_type": "stream",
     "text": [
      "Epoch 138/1000 [Training]: 100%|██████████| 17/17 [00:00<00:00, 23.75it/s]\n",
      "Epoch 138/1000 [Validation]: 100%|██████████| 1/1 [00:00<00:00, 111.73it/s]\n"
     ]
    },
    {
     "name": "stdout",
     "output_type": "stream",
     "text": [
      "Epoch 138: Train Loss = 0.1382 | Val Loss = 0.1397\n"
     ]
    },
    {
     "name": "stderr",
     "output_type": "stream",
     "text": [
      "Epoch 139/1000 [Training]: 100%|██████████| 17/17 [00:00<00:00, 23.75it/s]\n",
      "Epoch 139/1000 [Validation]: 100%|██████████| 1/1 [00:00<00:00, 104.15it/s]\n"
     ]
    },
    {
     "name": "stdout",
     "output_type": "stream",
     "text": [
      "Epoch 139: Train Loss = 0.1382 | Val Loss = 0.1397\n"
     ]
    },
    {
     "name": "stderr",
     "output_type": "stream",
     "text": [
      "Epoch 140/1000 [Training]: 100%|██████████| 17/17 [00:00<00:00, 23.37it/s]\n",
      "Epoch 140/1000 [Validation]: 100%|██████████| 1/1 [00:00<00:00, 108.86it/s]\n"
     ]
    },
    {
     "name": "stdout",
     "output_type": "stream",
     "text": [
      "Epoch 140: Train Loss = 0.1382 | Val Loss = 0.1395\n"
     ]
    },
    {
     "name": "stderr",
     "output_type": "stream",
     "text": [
      "Epoch 141/1000 [Training]: 100%|██████████| 17/17 [00:00<00:00, 23.76it/s]\n",
      "Epoch 141/1000 [Validation]: 100%|██████████| 1/1 [00:00<00:00, 112.15it/s]\n"
     ]
    },
    {
     "name": "stdout",
     "output_type": "stream",
     "text": [
      "Epoch 141: Train Loss = 0.1382 | Val Loss = 0.1396\n"
     ]
    },
    {
     "name": "stderr",
     "output_type": "stream",
     "text": [
      "Epoch 142/1000 [Training]: 100%|██████████| 17/17 [00:00<00:00, 23.73it/s]\n",
      "Epoch 142/1000 [Validation]: 100%|██████████| 1/1 [00:00<00:00, 104.30it/s]\n"
     ]
    },
    {
     "name": "stdout",
     "output_type": "stream",
     "text": [
      "Epoch 142: Train Loss = 0.1382 | Val Loss = 0.1397\n"
     ]
    },
    {
     "name": "stderr",
     "output_type": "stream",
     "text": [
      "Epoch 143/1000 [Training]: 100%|██████████| 17/17 [00:00<00:00, 23.78it/s]\n",
      "Epoch 143/1000 [Validation]: 100%|██████████| 1/1 [00:00<00:00, 106.75it/s]\n"
     ]
    },
    {
     "name": "stdout",
     "output_type": "stream",
     "text": [
      "Epoch 143: Train Loss = 0.1382 | Val Loss = 0.1395\n"
     ]
    },
    {
     "name": "stderr",
     "output_type": "stream",
     "text": [
      "Epoch 144/1000 [Training]: 100%|██████████| 17/17 [00:00<00:00, 23.72it/s]\n",
      "Epoch 144/1000 [Validation]: 100%|██████████| 1/1 [00:00<00:00, 108.76it/s]\n"
     ]
    },
    {
     "name": "stdout",
     "output_type": "stream",
     "text": [
      "Epoch 144: Train Loss = 0.1382 | Val Loss = 0.1396\n"
     ]
    },
    {
     "name": "stderr",
     "output_type": "stream",
     "text": [
      "Epoch 145/1000 [Training]: 100%|██████████| 17/17 [00:00<00:00, 23.78it/s]\n",
      "Epoch 145/1000 [Validation]: 100%|██████████| 1/1 [00:00<00:00, 110.95it/s]\n"
     ]
    },
    {
     "name": "stdout",
     "output_type": "stream",
     "text": [
      "Epoch 145: Train Loss = 0.1382 | Val Loss = 0.1394\n"
     ]
    },
    {
     "name": "stderr",
     "output_type": "stream",
     "text": [
      "Epoch 146/1000 [Training]: 100%|██████████| 17/17 [00:00<00:00, 23.78it/s]\n",
      "Epoch 146/1000 [Validation]: 100%|██████████| 1/1 [00:00<00:00, 109.48it/s]\n"
     ]
    },
    {
     "name": "stdout",
     "output_type": "stream",
     "text": [
      "Epoch 146: Train Loss = 0.1382 | Val Loss = 0.1394\n"
     ]
    },
    {
     "name": "stderr",
     "output_type": "stream",
     "text": [
      "Epoch 147/1000 [Training]: 100%|██████████| 17/17 [00:00<00:00, 23.79it/s]\n",
      "Epoch 147/1000 [Validation]: 100%|██████████| 1/1 [00:00<00:00, 111.40it/s]\n"
     ]
    },
    {
     "name": "stdout",
     "output_type": "stream",
     "text": [
      "Epoch 147: Train Loss = 0.1382 | Val Loss = 0.1396\n"
     ]
    },
    {
     "name": "stderr",
     "output_type": "stream",
     "text": [
      "Epoch 148/1000 [Training]: 100%|██████████| 17/17 [00:00<00:00, 23.76it/s]\n",
      "Epoch 148/1000 [Validation]: 100%|██████████| 1/1 [00:00<00:00, 104.34it/s]\n"
     ]
    },
    {
     "name": "stdout",
     "output_type": "stream",
     "text": [
      "Epoch 148: Train Loss = 0.1382 | Val Loss = 0.1394\n"
     ]
    },
    {
     "name": "stderr",
     "output_type": "stream",
     "text": [
      "Epoch 149/1000 [Training]: 100%|██████████| 17/17 [00:00<00:00, 23.83it/s]\n",
      "Epoch 149/1000 [Validation]: 100%|██████████| 1/1 [00:00<00:00, 108.82it/s]\n"
     ]
    },
    {
     "name": "stdout",
     "output_type": "stream",
     "text": [
      "Epoch 149: Train Loss = 0.1382 | Val Loss = 0.1393\n"
     ]
    },
    {
     "name": "stderr",
     "output_type": "stream",
     "text": [
      "Epoch 150/1000 [Training]: 100%|██████████| 17/17 [00:00<00:00, 23.77it/s]\n",
      "Epoch 150/1000 [Validation]: 100%|██████████| 1/1 [00:00<00:00, 106.27it/s]\n"
     ]
    },
    {
     "name": "stdout",
     "output_type": "stream",
     "text": [
      "Epoch 150: Train Loss = 0.1382 | Val Loss = 0.1394\n"
     ]
    },
    {
     "name": "stderr",
     "output_type": "stream",
     "text": [
      "Epoch 151/1000 [Training]: 100%|██████████| 17/17 [00:00<00:00, 23.80it/s]\n",
      "Epoch 151/1000 [Validation]: 100%|██████████| 1/1 [00:00<00:00, 109.99it/s]\n"
     ]
    },
    {
     "name": "stdout",
     "output_type": "stream",
     "text": [
      "Epoch 151: Train Loss = 0.1382 | Val Loss = 0.1394\n"
     ]
    },
    {
     "name": "stderr",
     "output_type": "stream",
     "text": [
      "Epoch 152/1000 [Training]: 100%|██████████| 17/17 [00:00<00:00, 23.75it/s]\n",
      "Epoch 152/1000 [Validation]: 100%|██████████| 1/1 [00:00<00:00, 102.98it/s]\n"
     ]
    },
    {
     "name": "stdout",
     "output_type": "stream",
     "text": [
      "Epoch 152: Train Loss = 0.1382 | Val Loss = 0.1394\n"
     ]
    },
    {
     "name": "stderr",
     "output_type": "stream",
     "text": [
      "Epoch 153/1000 [Training]: 100%|██████████| 17/17 [00:00<00:00, 23.79it/s]\n",
      "Epoch 153/1000 [Validation]: 100%|██████████| 1/1 [00:00<00:00, 112.90it/s]\n"
     ]
    },
    {
     "name": "stdout",
     "output_type": "stream",
     "text": [
      "Epoch 153: Train Loss = 0.1382 | Val Loss = 0.1393\n"
     ]
    },
    {
     "name": "stderr",
     "output_type": "stream",
     "text": [
      "Epoch 154/1000 [Training]: 100%|██████████| 17/17 [00:00<00:00, 23.39it/s]\n",
      "Epoch 154/1000 [Validation]: 100%|██████████| 1/1 [00:00<00:00, 107.36it/s]\n"
     ]
    },
    {
     "name": "stdout",
     "output_type": "stream",
     "text": [
      "Epoch 154: Train Loss = 0.1382 | Val Loss = 0.1395\n"
     ]
    },
    {
     "name": "stderr",
     "output_type": "stream",
     "text": [
      "Epoch 155/1000 [Training]: 100%|██████████| 17/17 [00:00<00:00, 23.82it/s]\n",
      "Epoch 155/1000 [Validation]: 100%|██████████| 1/1 [00:00<00:00, 114.47it/s]\n"
     ]
    },
    {
     "name": "stdout",
     "output_type": "stream",
     "text": [
      "Epoch 155: Train Loss = 0.1382 | Val Loss = 0.1393\n"
     ]
    },
    {
     "name": "stderr",
     "output_type": "stream",
     "text": [
      "Epoch 156/1000 [Training]: 100%|██████████| 17/17 [00:00<00:00, 23.82it/s]\n",
      "Epoch 156/1000 [Validation]: 100%|██████████| 1/1 [00:00<00:00, 111.09it/s]\n"
     ]
    },
    {
     "name": "stdout",
     "output_type": "stream",
     "text": [
      "Epoch 156: Train Loss = 0.1382 | Val Loss = 0.1393\n"
     ]
    },
    {
     "name": "stderr",
     "output_type": "stream",
     "text": [
      "Epoch 157/1000 [Training]: 100%|██████████| 17/17 [00:00<00:00, 23.80it/s]\n",
      "Epoch 157/1000 [Validation]: 100%|██████████| 1/1 [00:00<00:00, 109.76it/s]\n"
     ]
    },
    {
     "name": "stdout",
     "output_type": "stream",
     "text": [
      "Epoch 157: Train Loss = 0.1382 | Val Loss = 0.1394\n"
     ]
    },
    {
     "name": "stderr",
     "output_type": "stream",
     "text": [
      "Epoch 158/1000 [Training]: 100%|██████████| 17/17 [00:00<00:00, 23.76it/s]\n",
      "Epoch 158/1000 [Validation]: 100%|██████████| 1/1 [00:00<00:00, 109.24it/s]\n"
     ]
    },
    {
     "name": "stdout",
     "output_type": "stream",
     "text": [
      "Epoch 158: Train Loss = 0.1382 | Val Loss = 0.1393\n"
     ]
    },
    {
     "name": "stderr",
     "output_type": "stream",
     "text": [
      "Epoch 159/1000 [Training]: 100%|██████████| 17/17 [00:00<00:00, 23.79it/s]\n",
      "Epoch 159/1000 [Validation]: 100%|██████████| 1/1 [00:00<00:00, 112.72it/s]\n"
     ]
    },
    {
     "name": "stdout",
     "output_type": "stream",
     "text": [
      "Epoch 159: Train Loss = 0.1382 | Val Loss = 0.1392\n"
     ]
    },
    {
     "name": "stderr",
     "output_type": "stream",
     "text": [
      "Epoch 160/1000 [Training]: 100%|██████████| 17/17 [00:00<00:00, 23.80it/s]\n",
      "Epoch 160/1000 [Validation]: 100%|██████████| 1/1 [00:00<00:00, 114.91it/s]\n"
     ]
    },
    {
     "name": "stdout",
     "output_type": "stream",
     "text": [
      "Epoch 160: Train Loss = 0.1382 | Val Loss = 0.1392\n"
     ]
    },
    {
     "name": "stderr",
     "output_type": "stream",
     "text": [
      "Epoch 161/1000 [Training]: 100%|██████████| 17/17 [00:00<00:00, 23.77it/s]\n",
      "Epoch 161/1000 [Validation]: 100%|██████████| 1/1 [00:00<00:00, 108.82it/s]\n"
     ]
    },
    {
     "name": "stdout",
     "output_type": "stream",
     "text": [
      "Epoch 161: Train Loss = 0.1382 | Val Loss = 0.1392\n"
     ]
    },
    {
     "name": "stderr",
     "output_type": "stream",
     "text": [
      "Epoch 162/1000 [Training]: 100%|██████████| 17/17 [00:00<00:00, 23.75it/s]\n",
      "Epoch 162/1000 [Validation]: 100%|██████████| 1/1 [00:00<00:00, 107.83it/s]\n"
     ]
    },
    {
     "name": "stdout",
     "output_type": "stream",
     "text": [
      "Epoch 162: Train Loss = 0.1382 | Val Loss = 0.1393\n"
     ]
    },
    {
     "name": "stderr",
     "output_type": "stream",
     "text": [
      "Epoch 163/1000 [Training]: 100%|██████████| 17/17 [00:00<00:00, 23.81it/s]\n",
      "Epoch 163/1000 [Validation]: 100%|██████████| 1/1 [00:00<00:00, 113.38it/s]\n"
     ]
    },
    {
     "name": "stdout",
     "output_type": "stream",
     "text": [
      "Epoch 163: Train Loss = 0.1382 | Val Loss = 0.1391\n"
     ]
    },
    {
     "name": "stderr",
     "output_type": "stream",
     "text": [
      "Epoch 164/1000 [Training]: 100%|██████████| 17/17 [00:00<00:00, 23.72it/s]\n",
      "Epoch 164/1000 [Validation]: 100%|██████████| 1/1 [00:00<00:00, 108.49it/s]\n"
     ]
    },
    {
     "name": "stdout",
     "output_type": "stream",
     "text": [
      "Epoch 164: Train Loss = 0.1382 | Val Loss = 0.1392\n"
     ]
    },
    {
     "name": "stderr",
     "output_type": "stream",
     "text": [
      "Epoch 165/1000 [Training]: 100%|██████████| 17/17 [00:00<00:00, 23.80it/s]\n",
      "Epoch 165/1000 [Validation]: 100%|██████████| 1/1 [00:00<00:00, 111.40it/s]\n"
     ]
    },
    {
     "name": "stdout",
     "output_type": "stream",
     "text": [
      "Epoch 165: Train Loss = 0.1382 | Val Loss = 0.1392\n"
     ]
    },
    {
     "name": "stderr",
     "output_type": "stream",
     "text": [
      "Epoch 166/1000 [Training]: 100%|██████████| 17/17 [00:00<00:00, 23.78it/s]\n",
      "Epoch 166/1000 [Validation]: 100%|██████████| 1/1 [00:00<00:00, 110.90it/s]\n"
     ]
    },
    {
     "name": "stdout",
     "output_type": "stream",
     "text": [
      "Epoch 166: Train Loss = 0.1382 | Val Loss = 0.1391\n"
     ]
    },
    {
     "name": "stderr",
     "output_type": "stream",
     "text": [
      "Epoch 167/1000 [Training]: 100%|██████████| 17/17 [00:00<00:00, 23.76it/s]\n",
      "Epoch 167/1000 [Validation]: 100%|██████████| 1/1 [00:00<00:00, 87.67it/s]\n"
     ]
    },
    {
     "name": "stdout",
     "output_type": "stream",
     "text": [
      "Epoch 167: Train Loss = 0.1382 | Val Loss = 0.1392\n"
     ]
    },
    {
     "name": "stderr",
     "output_type": "stream",
     "text": [
      "Epoch 168/1000 [Training]: 100%|██████████| 17/17 [00:00<00:00, 23.40it/s]\n",
      "Epoch 168/1000 [Validation]: 100%|██████████| 1/1 [00:00<00:00, 110.78it/s]\n"
     ]
    },
    {
     "name": "stdout",
     "output_type": "stream",
     "text": [
      "Epoch 168: Train Loss = 0.1382 | Val Loss = 0.1391\n"
     ]
    },
    {
     "name": "stderr",
     "output_type": "stream",
     "text": [
      "Epoch 169/1000 [Training]: 100%|██████████| 17/17 [00:00<00:00, 23.75it/s]\n",
      "Epoch 169/1000 [Validation]: 100%|██████████| 1/1 [00:00<00:00, 119.08it/s]\n"
     ]
    },
    {
     "name": "stdout",
     "output_type": "stream",
     "text": [
      "Epoch 169: Train Loss = 0.1382 | Val Loss = 0.1391\n"
     ]
    },
    {
     "name": "stderr",
     "output_type": "stream",
     "text": [
      "Epoch 170/1000 [Training]: 100%|██████████| 17/17 [00:00<00:00, 23.84it/s]\n",
      "Epoch 170/1000 [Validation]: 100%|██████████| 1/1 [00:00<00:00, 110.41it/s]\n"
     ]
    },
    {
     "name": "stdout",
     "output_type": "stream",
     "text": [
      "Epoch 170: Train Loss = 0.1382 | Val Loss = 0.1391\n"
     ]
    },
    {
     "name": "stderr",
     "output_type": "stream",
     "text": [
      "Epoch 171/1000 [Training]: 100%|██████████| 17/17 [00:00<00:00, 23.83it/s]\n",
      "Epoch 171/1000 [Validation]: 100%|██████████| 1/1 [00:00<00:00, 106.50it/s]\n"
     ]
    },
    {
     "name": "stdout",
     "output_type": "stream",
     "text": [
      "Epoch 171: Train Loss = 0.1382 | Val Loss = 0.1391\n"
     ]
    },
    {
     "name": "stderr",
     "output_type": "stream",
     "text": [
      "Epoch 172/1000 [Training]: 100%|██████████| 17/17 [00:00<00:00, 23.76it/s]\n",
      "Epoch 172/1000 [Validation]: 100%|██████████| 1/1 [00:00<00:00, 107.88it/s]\n"
     ]
    },
    {
     "name": "stdout",
     "output_type": "stream",
     "text": [
      "Epoch 172: Train Loss = 0.1382 | Val Loss = 0.1391\n"
     ]
    },
    {
     "name": "stderr",
     "output_type": "stream",
     "text": [
      "Epoch 173/1000 [Training]: 100%|██████████| 17/17 [00:00<00:00, 23.75it/s]\n",
      "Epoch 173/1000 [Validation]: 100%|██████████| 1/1 [00:00<00:00, 97.25it/s]\n"
     ]
    },
    {
     "name": "stdout",
     "output_type": "stream",
     "text": [
      "Epoch 173: Train Loss = 0.1382 | Val Loss = 0.1390\n"
     ]
    },
    {
     "name": "stderr",
     "output_type": "stream",
     "text": [
      "Epoch 174/1000 [Training]: 100%|██████████| 17/17 [00:00<00:00, 23.77it/s]\n",
      "Epoch 174/1000 [Validation]: 100%|██████████| 1/1 [00:00<00:00, 109.30it/s]\n"
     ]
    },
    {
     "name": "stdout",
     "output_type": "stream",
     "text": [
      "Epoch 174: Train Loss = 0.1382 | Val Loss = 0.1390\n"
     ]
    },
    {
     "name": "stderr",
     "output_type": "stream",
     "text": [
      "Epoch 175/1000 [Training]: 100%|██████████| 17/17 [00:00<00:00, 22.81it/s]\n",
      "Epoch 175/1000 [Validation]: 100%|██████████| 1/1 [00:00<00:00, 105.41it/s]\n"
     ]
    },
    {
     "name": "stdout",
     "output_type": "stream",
     "text": [
      "Epoch 175: Train Loss = 0.1382 | Val Loss = 0.1390\n"
     ]
    },
    {
     "name": "stderr",
     "output_type": "stream",
     "text": [
      "Epoch 176/1000 [Training]: 100%|██████████| 17/17 [00:00<00:00, 22.49it/s]\n",
      "Epoch 176/1000 [Validation]: 100%|██████████| 1/1 [00:00<00:00, 84.16it/s]\n"
     ]
    },
    {
     "name": "stdout",
     "output_type": "stream",
     "text": [
      "Epoch 176: Train Loss = 0.1382 | Val Loss = 0.1390\n"
     ]
    },
    {
     "name": "stderr",
     "output_type": "stream",
     "text": [
      "Epoch 177/1000 [Training]: 100%|██████████| 17/17 [00:00<00:00, 23.63it/s]\n",
      "Epoch 177/1000 [Validation]: 100%|██████████| 1/1 [00:00<00:00, 99.83it/s]\n"
     ]
    },
    {
     "name": "stdout",
     "output_type": "stream",
     "text": [
      "Epoch 177: Train Loss = 0.1382 | Val Loss = 0.1390\n"
     ]
    },
    {
     "name": "stderr",
     "output_type": "stream",
     "text": [
      "Epoch 178/1000 [Training]: 100%|██████████| 17/17 [00:00<00:00, 23.76it/s]\n",
      "Epoch 178/1000 [Validation]: 100%|██████████| 1/1 [00:00<00:00, 112.49it/s]\n"
     ]
    },
    {
     "name": "stdout",
     "output_type": "stream",
     "text": [
      "Epoch 178: Train Loss = 0.1382 | Val Loss = 0.1390\n"
     ]
    },
    {
     "name": "stderr",
     "output_type": "stream",
     "text": [
      "Epoch 179/1000 [Training]: 100%|██████████| 17/17 [00:00<00:00, 23.77it/s]\n",
      "Epoch 179/1000 [Validation]: 100%|██████████| 1/1 [00:00<00:00, 98.17it/s]\n"
     ]
    },
    {
     "name": "stdout",
     "output_type": "stream",
     "text": [
      "Epoch 179: Train Loss = 0.1382 | Val Loss = 0.1390\n"
     ]
    },
    {
     "name": "stderr",
     "output_type": "stream",
     "text": [
      "Epoch 180/1000 [Training]: 100%|██████████| 17/17 [00:00<00:00, 23.75it/s]\n",
      "Epoch 180/1000 [Validation]: 100%|██████████| 1/1 [00:00<00:00, 106.14it/s]\n"
     ]
    },
    {
     "name": "stdout",
     "output_type": "stream",
     "text": [
      "Epoch 180: Train Loss = 0.1382 | Val Loss = 0.1389\n"
     ]
    },
    {
     "name": "stderr",
     "output_type": "stream",
     "text": [
      "Epoch 181/1000 [Training]: 100%|██████████| 17/17 [00:00<00:00, 23.04it/s]\n",
      "Epoch 181/1000 [Validation]: 100%|██████████| 1/1 [00:00<00:00, 109.17it/s]\n"
     ]
    },
    {
     "name": "stdout",
     "output_type": "stream",
     "text": [
      "Epoch 181: Train Loss = 0.1382 | Val Loss = 0.1390\n"
     ]
    },
    {
     "name": "stderr",
     "output_type": "stream",
     "text": [
      "Epoch 182/1000 [Training]: 100%|██████████| 17/17 [00:00<00:00, 23.80it/s]\n",
      "Epoch 182/1000 [Validation]: 100%|██████████| 1/1 [00:00<00:00, 109.80it/s]\n"
     ]
    },
    {
     "name": "stdout",
     "output_type": "stream",
     "text": [
      "Epoch 182: Train Loss = 0.1382 | Val Loss = 0.1390\n"
     ]
    },
    {
     "name": "stderr",
     "output_type": "stream",
     "text": [
      "Epoch 183/1000 [Training]: 100%|██████████| 17/17 [00:00<00:00, 23.74it/s]\n",
      "Epoch 183/1000 [Validation]: 100%|██████████| 1/1 [00:00<00:00, 109.86it/s]\n"
     ]
    },
    {
     "name": "stdout",
     "output_type": "stream",
     "text": [
      "Epoch 183: Train Loss = 0.1382 | Val Loss = 0.1389\n"
     ]
    },
    {
     "name": "stderr",
     "output_type": "stream",
     "text": [
      "Epoch 184/1000 [Training]: 100%|██████████| 17/17 [00:00<00:00, 23.81it/s]\n",
      "Epoch 184/1000 [Validation]: 100%|██████████| 1/1 [00:00<00:00, 109.91it/s]\n"
     ]
    },
    {
     "name": "stdout",
     "output_type": "stream",
     "text": [
      "Epoch 184: Train Loss = 0.1382 | Val Loss = 0.1389\n"
     ]
    },
    {
     "name": "stderr",
     "output_type": "stream",
     "text": [
      "Epoch 185/1000 [Training]: 100%|██████████| 17/17 [00:00<00:00, 23.73it/s]\n",
      "Epoch 185/1000 [Validation]: 100%|██████████| 1/1 [00:00<00:00, 113.32it/s]\n"
     ]
    },
    {
     "name": "stdout",
     "output_type": "stream",
     "text": [
      "Epoch 185: Train Loss = 0.1382 | Val Loss = 0.1389\n"
     ]
    },
    {
     "name": "stderr",
     "output_type": "stream",
     "text": [
      "Epoch 186/1000 [Training]: 100%|██████████| 17/17 [00:00<00:00, 23.81it/s]\n",
      "Epoch 186/1000 [Validation]: 100%|██████████| 1/1 [00:00<00:00, 110.04it/s]\n"
     ]
    },
    {
     "name": "stdout",
     "output_type": "stream",
     "text": [
      "Epoch 186: Train Loss = 0.1382 | Val Loss = 0.1390\n"
     ]
    },
    {
     "name": "stderr",
     "output_type": "stream",
     "text": [
      "Epoch 187/1000 [Training]: 100%|██████████| 17/17 [00:00<00:00, 23.77it/s]\n",
      "Epoch 187/1000 [Validation]: 100%|██████████| 1/1 [00:00<00:00, 113.45it/s]\n"
     ]
    },
    {
     "name": "stdout",
     "output_type": "stream",
     "text": [
      "Epoch 187: Train Loss = 0.1382 | Val Loss = 0.1389\n"
     ]
    },
    {
     "name": "stderr",
     "output_type": "stream",
     "text": [
      "Epoch 188/1000 [Training]: 100%|██████████| 17/17 [00:00<00:00, 23.83it/s]\n",
      "Epoch 188/1000 [Validation]: 100%|██████████| 1/1 [00:00<00:00, 105.30it/s]\n"
     ]
    },
    {
     "name": "stdout",
     "output_type": "stream",
     "text": [
      "Epoch 188: Train Loss = 0.1382 | Val Loss = 0.1389\n"
     ]
    },
    {
     "name": "stderr",
     "output_type": "stream",
     "text": [
      "Epoch 189/1000 [Training]: 100%|██████████| 17/17 [00:00<00:00, 23.77it/s]\n",
      "Epoch 189/1000 [Validation]: 100%|██████████| 1/1 [00:00<00:00, 115.79it/s]\n"
     ]
    },
    {
     "name": "stdout",
     "output_type": "stream",
     "text": [
      "Epoch 189: Train Loss = 0.1382 | Val Loss = 0.1389\n"
     ]
    },
    {
     "name": "stderr",
     "output_type": "stream",
     "text": [
      "Epoch 190/1000 [Training]: 100%|██████████| 17/17 [00:00<00:00, 23.71it/s]\n",
      "Epoch 190/1000 [Validation]: 100%|██████████| 1/1 [00:00<00:00, 110.19it/s]\n"
     ]
    },
    {
     "name": "stdout",
     "output_type": "stream",
     "text": [
      "Epoch 190: Train Loss = 0.1382 | Val Loss = 0.1389\n"
     ]
    },
    {
     "name": "stderr",
     "output_type": "stream",
     "text": [
      "Epoch 191/1000 [Training]: 100%|██████████| 17/17 [00:00<00:00, 23.73it/s]\n",
      "Epoch 191/1000 [Validation]: 100%|██████████| 1/1 [00:00<00:00, 109.26it/s]\n"
     ]
    },
    {
     "name": "stdout",
     "output_type": "stream",
     "text": [
      "Epoch 191: Train Loss = 0.1382 | Val Loss = 0.1389\n"
     ]
    },
    {
     "name": "stderr",
     "output_type": "stream",
     "text": [
      "Epoch 192/1000 [Training]: 100%|██████████| 17/17 [00:00<00:00, 23.74it/s]\n",
      "Epoch 192/1000 [Validation]: 100%|██████████| 1/1 [00:00<00:00, 111.36it/s]\n"
     ]
    },
    {
     "name": "stdout",
     "output_type": "stream",
     "text": [
      "Epoch 192: Train Loss = 0.1382 | Val Loss = 0.1388\n"
     ]
    },
    {
     "name": "stderr",
     "output_type": "stream",
     "text": [
      "Epoch 193/1000 [Training]: 100%|██████████| 17/17 [00:00<00:00, 23.77it/s]\n",
      "Epoch 193/1000 [Validation]: 100%|██████████| 1/1 [00:00<00:00, 112.37it/s]\n"
     ]
    },
    {
     "name": "stdout",
     "output_type": "stream",
     "text": [
      "Epoch 193: Train Loss = 0.1382 | Val Loss = 0.1389\n"
     ]
    },
    {
     "name": "stderr",
     "output_type": "stream",
     "text": [
      "Epoch 194/1000 [Training]: 100%|██████████| 17/17 [00:00<00:00, 23.76it/s]\n",
      "Epoch 194/1000 [Validation]: 100%|██████████| 1/1 [00:00<00:00, 107.27it/s]\n"
     ]
    },
    {
     "name": "stdout",
     "output_type": "stream",
     "text": [
      "Epoch 194: Train Loss = 0.1382 | Val Loss = 0.1388\n"
     ]
    },
    {
     "name": "stderr",
     "output_type": "stream",
     "text": [
      "Epoch 195/1000 [Training]: 100%|██████████| 17/17 [00:00<00:00, 23.27it/s]\n",
      "Epoch 195/1000 [Validation]: 100%|██████████| 1/1 [00:00<00:00, 114.36it/s]\n"
     ]
    },
    {
     "name": "stdout",
     "output_type": "stream",
     "text": [
      "Epoch 195: Train Loss = 0.1382 | Val Loss = 0.1388\n"
     ]
    },
    {
     "name": "stderr",
     "output_type": "stream",
     "text": [
      "Epoch 196/1000 [Training]: 100%|██████████| 17/17 [00:00<00:00, 23.80it/s]\n",
      "Epoch 196/1000 [Validation]: 100%|██████████| 1/1 [00:00<00:00, 110.93it/s]\n"
     ]
    },
    {
     "name": "stdout",
     "output_type": "stream",
     "text": [
      "Epoch 196: Train Loss = 0.1382 | Val Loss = 0.1389\n"
     ]
    },
    {
     "name": "stderr",
     "output_type": "stream",
     "text": [
      "Epoch 197/1000 [Training]: 100%|██████████| 17/17 [00:00<00:00, 23.80it/s]\n",
      "Epoch 197/1000 [Validation]: 100%|██████████| 1/1 [00:00<00:00, 112.83it/s]\n"
     ]
    },
    {
     "name": "stdout",
     "output_type": "stream",
     "text": [
      "Epoch 197: Train Loss = 0.1382 | Val Loss = 0.1388\n"
     ]
    },
    {
     "name": "stderr",
     "output_type": "stream",
     "text": [
      "Epoch 198/1000 [Training]: 100%|██████████| 17/17 [00:00<00:00, 23.79it/s]\n",
      "Epoch 198/1000 [Validation]: 100%|██████████| 1/1 [00:00<00:00, 106.53it/s]\n"
     ]
    },
    {
     "name": "stdout",
     "output_type": "stream",
     "text": [
      "Epoch 198: Train Loss = 0.1382 | Val Loss = 0.1388\n"
     ]
    },
    {
     "name": "stderr",
     "output_type": "stream",
     "text": [
      "Epoch 199/1000 [Training]: 100%|██████████| 17/17 [00:00<00:00, 23.73it/s]\n",
      "Epoch 199/1000 [Validation]: 100%|██████████| 1/1 [00:00<00:00, 108.20it/s]\n"
     ]
    },
    {
     "name": "stdout",
     "output_type": "stream",
     "text": [
      "Epoch 199: Train Loss = 0.1382 | Val Loss = 0.1388\n"
     ]
    },
    {
     "name": "stderr",
     "output_type": "stream",
     "text": [
      "Epoch 200/1000 [Training]: 100%|██████████| 17/17 [00:00<00:00, 23.77it/s]\n",
      "Epoch 200/1000 [Validation]: 100%|██████████| 1/1 [00:00<00:00, 109.26it/s]\n"
     ]
    },
    {
     "name": "stdout",
     "output_type": "stream",
     "text": [
      "Epoch 200: Train Loss = 0.1382 | Val Loss = 0.1388\n"
     ]
    },
    {
     "name": "stderr",
     "output_type": "stream",
     "text": [
      "Epoch 201/1000 [Training]: 100%|██████████| 17/17 [00:00<00:00, 23.81it/s]\n",
      "Epoch 201/1000 [Validation]: 100%|██████████| 1/1 [00:00<00:00, 109.58it/s]\n"
     ]
    },
    {
     "name": "stdout",
     "output_type": "stream",
     "text": [
      "Epoch 201: Train Loss = 0.1382 | Val Loss = 0.1389\n"
     ]
    },
    {
     "name": "stderr",
     "output_type": "stream",
     "text": [
      "Epoch 202/1000 [Training]: 100%|██████████| 17/17 [00:00<00:00, 23.78it/s]\n",
      "Epoch 202/1000 [Validation]: 100%|██████████| 1/1 [00:00<00:00, 114.52it/s]\n"
     ]
    },
    {
     "name": "stdout",
     "output_type": "stream",
     "text": [
      "Epoch 202: Train Loss = 0.1382 | Val Loss = 0.1388\n"
     ]
    },
    {
     "name": "stderr",
     "output_type": "stream",
     "text": [
      "Epoch 203/1000 [Training]: 100%|██████████| 17/17 [00:00<00:00, 23.78it/s]\n",
      "Epoch 203/1000 [Validation]: 100%|██████████| 1/1 [00:00<00:00, 117.24it/s]\n"
     ]
    },
    {
     "name": "stdout",
     "output_type": "stream",
     "text": [
      "Epoch 203: Train Loss = 0.1382 | Val Loss = 0.1388\n"
     ]
    },
    {
     "name": "stderr",
     "output_type": "stream",
     "text": [
      "Epoch 204/1000 [Training]: 100%|██████████| 17/17 [00:00<00:00, 23.78it/s]\n",
      "Epoch 204/1000 [Validation]: 100%|██████████| 1/1 [00:00<00:00, 110.90it/s]\n"
     ]
    },
    {
     "name": "stdout",
     "output_type": "stream",
     "text": [
      "Epoch 204: Train Loss = 0.1382 | Val Loss = 0.1387\n"
     ]
    },
    {
     "name": "stderr",
     "output_type": "stream",
     "text": [
      "Epoch 205/1000 [Training]: 100%|██████████| 17/17 [00:00<00:00, 23.71it/s]\n",
      "Epoch 205/1000 [Validation]: 100%|██████████| 1/1 [00:00<00:00, 122.47it/s]\n"
     ]
    },
    {
     "name": "stdout",
     "output_type": "stream",
     "text": [
      "Epoch 205: Train Loss = 0.1382 | Val Loss = 0.1388\n"
     ]
    },
    {
     "name": "stderr",
     "output_type": "stream",
     "text": [
      "Epoch 206/1000 [Training]: 100%|██████████| 17/17 [00:00<00:00, 23.76it/s]\n",
      "Epoch 206/1000 [Validation]: 100%|██████████| 1/1 [00:00<00:00, 112.10it/s]\n"
     ]
    },
    {
     "name": "stdout",
     "output_type": "stream",
     "text": [
      "Epoch 206: Train Loss = 0.1382 | Val Loss = 0.1388\n"
     ]
    },
    {
     "name": "stderr",
     "output_type": "stream",
     "text": [
      "Epoch 207/1000 [Training]: 100%|██████████| 17/17 [00:00<00:00, 23.79it/s]\n",
      "Epoch 207/1000 [Validation]: 100%|██████████| 1/1 [00:00<00:00, 107.13it/s]\n"
     ]
    },
    {
     "name": "stdout",
     "output_type": "stream",
     "text": [
      "Epoch 207: Train Loss = 0.1382 | Val Loss = 0.1387\n"
     ]
    },
    {
     "name": "stderr",
     "output_type": "stream",
     "text": [
      "Epoch 208/1000 [Training]: 100%|██████████| 17/17 [00:00<00:00, 23.48it/s]\n",
      "Epoch 208/1000 [Validation]: 100%|██████████| 1/1 [00:00<00:00, 104.67it/s]\n"
     ]
    },
    {
     "name": "stdout",
     "output_type": "stream",
     "text": [
      "Epoch 208: Train Loss = 0.1382 | Val Loss = 0.1388\n"
     ]
    },
    {
     "name": "stderr",
     "output_type": "stream",
     "text": [
      "Epoch 209/1000 [Training]: 100%|██████████| 17/17 [00:00<00:00, 23.29it/s]\n",
      "Epoch 209/1000 [Validation]: 100%|██████████| 1/1 [00:00<00:00, 109.01it/s]\n"
     ]
    },
    {
     "name": "stdout",
     "output_type": "stream",
     "text": [
      "Epoch 209: Train Loss = 0.1382 | Val Loss = 0.1387\n"
     ]
    },
    {
     "name": "stderr",
     "output_type": "stream",
     "text": [
      "Epoch 210/1000 [Training]: 100%|██████████| 17/17 [00:00<00:00, 23.76it/s]\n",
      "Epoch 210/1000 [Validation]: 100%|██████████| 1/1 [00:00<00:00, 106.99it/s]\n"
     ]
    },
    {
     "name": "stdout",
     "output_type": "stream",
     "text": [
      "Epoch 210: Train Loss = 0.1382 | Val Loss = 0.1387\n"
     ]
    },
    {
     "name": "stderr",
     "output_type": "stream",
     "text": [
      "Epoch 211/1000 [Training]: 100%|██████████| 17/17 [00:00<00:00, 23.80it/s]\n",
      "Epoch 211/1000 [Validation]: 100%|██████████| 1/1 [00:00<00:00, 107.70it/s]\n"
     ]
    },
    {
     "name": "stdout",
     "output_type": "stream",
     "text": [
      "Epoch 211: Train Loss = 0.1382 | Val Loss = 0.1387\n"
     ]
    },
    {
     "name": "stderr",
     "output_type": "stream",
     "text": [
      "Epoch 212/1000 [Training]: 100%|██████████| 17/17 [00:00<00:00, 23.77it/s]\n",
      "Epoch 212/1000 [Validation]: 100%|██████████| 1/1 [00:00<00:00, 104.73it/s]\n"
     ]
    },
    {
     "name": "stdout",
     "output_type": "stream",
     "text": [
      "Epoch 212: Train Loss = 0.1382 | Val Loss = 0.1387\n"
     ]
    },
    {
     "name": "stderr",
     "output_type": "stream",
     "text": [
      "Epoch 213/1000 [Training]: 100%|██████████| 17/17 [00:00<00:00, 23.76it/s]\n",
      "Epoch 213/1000 [Validation]: 100%|██████████| 1/1 [00:00<00:00, 109.42it/s]\n"
     ]
    },
    {
     "name": "stdout",
     "output_type": "stream",
     "text": [
      "Epoch 213: Train Loss = 0.1382 | Val Loss = 0.1388\n"
     ]
    },
    {
     "name": "stderr",
     "output_type": "stream",
     "text": [
      "Epoch 214/1000 [Training]: 100%|██████████| 17/17 [00:00<00:00, 23.76it/s]\n",
      "Epoch 214/1000 [Validation]: 100%|██████████| 1/1 [00:00<00:00, 112.79it/s]\n"
     ]
    },
    {
     "name": "stdout",
     "output_type": "stream",
     "text": [
      "Epoch 214: Train Loss = 0.1382 | Val Loss = 0.1387\n"
     ]
    },
    {
     "name": "stderr",
     "output_type": "stream",
     "text": [
      "Epoch 215/1000 [Training]: 100%|██████████| 17/17 [00:00<00:00, 23.80it/s]\n",
      "Epoch 215/1000 [Validation]: 100%|██████████| 1/1 [00:00<00:00, 114.24it/s]\n"
     ]
    },
    {
     "name": "stdout",
     "output_type": "stream",
     "text": [
      "Epoch 215: Train Loss = 0.1382 | Val Loss = 0.1387\n"
     ]
    },
    {
     "name": "stderr",
     "output_type": "stream",
     "text": [
      "Epoch 216/1000 [Training]: 100%|██████████| 17/17 [00:00<00:00, 23.78it/s]\n",
      "Epoch 216/1000 [Validation]: 100%|██████████| 1/1 [00:00<00:00, 114.69it/s]\n"
     ]
    },
    {
     "name": "stdout",
     "output_type": "stream",
     "text": [
      "Epoch 216: Train Loss = 0.1382 | Val Loss = 0.1387\n"
     ]
    },
    {
     "name": "stderr",
     "output_type": "stream",
     "text": [
      "Epoch 217/1000 [Training]: 100%|██████████| 17/17 [00:00<00:00, 23.79it/s]\n",
      "Epoch 217/1000 [Validation]: 100%|██████████| 1/1 [00:00<00:00, 117.09it/s]\n"
     ]
    },
    {
     "name": "stdout",
     "output_type": "stream",
     "text": [
      "Epoch 217: Train Loss = 0.1382 | Val Loss = 0.1387\n"
     ]
    },
    {
     "name": "stderr",
     "output_type": "stream",
     "text": [
      "Epoch 218/1000 [Training]: 100%|██████████| 17/17 [00:00<00:00, 23.40it/s]\n",
      "Epoch 218/1000 [Validation]: 100%|██████████| 1/1 [00:00<00:00, 85.60it/s]\n"
     ]
    },
    {
     "name": "stdout",
     "output_type": "stream",
     "text": [
      "Epoch 218: Train Loss = 0.1382 | Val Loss = 0.1387\n"
     ]
    },
    {
     "name": "stderr",
     "output_type": "stream",
     "text": [
      "Epoch 219/1000 [Training]: 100%|██████████| 17/17 [00:00<00:00, 22.85it/s]\n",
      "Epoch 219/1000 [Validation]: 100%|██████████| 1/1 [00:00<00:00, 108.50it/s]\n"
     ]
    },
    {
     "name": "stdout",
     "output_type": "stream",
     "text": [
      "Epoch 219: Train Loss = 0.1382 | Val Loss = 0.1387\n"
     ]
    },
    {
     "name": "stderr",
     "output_type": "stream",
     "text": [
      "Epoch 220/1000 [Training]: 100%|██████████| 17/17 [00:00<00:00, 23.72it/s]\n",
      "Epoch 220/1000 [Validation]: 100%|██████████| 1/1 [00:00<00:00, 109.52it/s]\n"
     ]
    },
    {
     "name": "stdout",
     "output_type": "stream",
     "text": [
      "Epoch 220: Train Loss = 0.1382 | Val Loss = 0.1387\n"
     ]
    },
    {
     "name": "stderr",
     "output_type": "stream",
     "text": [
      "Epoch 221/1000 [Training]: 100%|██████████| 17/17 [00:00<00:00, 23.74it/s]\n",
      "Epoch 221/1000 [Validation]: 100%|██████████| 1/1 [00:00<00:00, 114.35it/s]\n"
     ]
    },
    {
     "name": "stdout",
     "output_type": "stream",
     "text": [
      "Epoch 221: Train Loss = 0.1382 | Val Loss = 0.1387\n"
     ]
    },
    {
     "name": "stderr",
     "output_type": "stream",
     "text": [
      "Epoch 222/1000 [Training]: 100%|██████████| 17/17 [00:00<00:00, 23.27it/s]\n",
      "Epoch 222/1000 [Validation]: 100%|██████████| 1/1 [00:00<00:00, 106.36it/s]\n"
     ]
    },
    {
     "name": "stdout",
     "output_type": "stream",
     "text": [
      "Epoch 222: Train Loss = 0.1382 | Val Loss = 0.1387\n"
     ]
    },
    {
     "name": "stderr",
     "output_type": "stream",
     "text": [
      "Epoch 223/1000 [Training]: 100%|██████████| 17/17 [00:00<00:00, 23.71it/s]\n",
      "Epoch 223/1000 [Validation]: 100%|██████████| 1/1 [00:00<00:00, 104.10it/s]\n"
     ]
    },
    {
     "name": "stdout",
     "output_type": "stream",
     "text": [
      "Epoch 223: Train Loss = 0.1382 | Val Loss = 0.1387\n"
     ]
    },
    {
     "name": "stderr",
     "output_type": "stream",
     "text": [
      "Epoch 224/1000 [Training]: 100%|██████████| 17/17 [00:00<00:00, 23.77it/s]\n",
      "Epoch 224/1000 [Validation]: 100%|██████████| 1/1 [00:00<00:00, 110.40it/s]\n"
     ]
    },
    {
     "name": "stdout",
     "output_type": "stream",
     "text": [
      "Epoch 224: Train Loss = 0.1382 | Val Loss = 0.1387\n"
     ]
    },
    {
     "name": "stderr",
     "output_type": "stream",
     "text": [
      "Epoch 225/1000 [Training]: 100%|██████████| 17/17 [00:00<00:00, 23.74it/s]\n",
      "Epoch 225/1000 [Validation]: 100%|██████████| 1/1 [00:00<00:00, 109.34it/s]\n"
     ]
    },
    {
     "name": "stdout",
     "output_type": "stream",
     "text": [
      "Epoch 225: Train Loss = 0.1382 | Val Loss = 0.1386\n"
     ]
    },
    {
     "name": "stderr",
     "output_type": "stream",
     "text": [
      "Epoch 226/1000 [Training]: 100%|██████████| 17/17 [00:00<00:00, 23.75it/s]\n",
      "Epoch 226/1000 [Validation]: 100%|██████████| 1/1 [00:00<00:00, 109.18it/s]\n"
     ]
    },
    {
     "name": "stdout",
     "output_type": "stream",
     "text": [
      "Epoch 226: Train Loss = 0.1382 | Val Loss = 0.1387\n"
     ]
    },
    {
     "name": "stderr",
     "output_type": "stream",
     "text": [
      "Epoch 227/1000 [Training]: 100%|██████████| 17/17 [00:00<00:00, 23.78it/s]\n",
      "Epoch 227/1000 [Validation]: 100%|██████████| 1/1 [00:00<00:00, 109.85it/s]\n"
     ]
    },
    {
     "name": "stdout",
     "output_type": "stream",
     "text": [
      "Epoch 227: Train Loss = 0.1382 | Val Loss = 0.1387\n"
     ]
    },
    {
     "name": "stderr",
     "output_type": "stream",
     "text": [
      "Epoch 228/1000 [Training]: 100%|██████████| 17/17 [00:00<00:00, 23.73it/s]\n",
      "Epoch 228/1000 [Validation]: 100%|██████████| 1/1 [00:00<00:00, 107.93it/s]\n"
     ]
    },
    {
     "name": "stdout",
     "output_type": "stream",
     "text": [
      "Epoch 228: Train Loss = 0.1382 | Val Loss = 0.1386\n"
     ]
    },
    {
     "name": "stderr",
     "output_type": "stream",
     "text": [
      "Epoch 229/1000 [Training]: 100%|██████████| 17/17 [00:00<00:00, 23.77it/s]\n",
      "Epoch 229/1000 [Validation]: 100%|██████████| 1/1 [00:00<00:00, 99.99it/s]\n"
     ]
    },
    {
     "name": "stdout",
     "output_type": "stream",
     "text": [
      "Epoch 229: Train Loss = 0.1382 | Val Loss = 0.1387\n"
     ]
    },
    {
     "name": "stderr",
     "output_type": "stream",
     "text": [
      "Epoch 230/1000 [Training]: 100%|██████████| 17/17 [00:00<00:00, 23.77it/s]\n",
      "Epoch 230/1000 [Validation]: 100%|██████████| 1/1 [00:00<00:00, 111.79it/s]\n"
     ]
    },
    {
     "name": "stdout",
     "output_type": "stream",
     "text": [
      "Epoch 230: Train Loss = 0.1382 | Val Loss = 0.1386\n"
     ]
    },
    {
     "name": "stderr",
     "output_type": "stream",
     "text": [
      "Epoch 231/1000 [Training]: 100%|██████████| 17/17 [00:00<00:00, 23.90it/s]\n",
      "Epoch 231/1000 [Validation]: 100%|██████████| 1/1 [00:00<00:00, 118.78it/s]\n"
     ]
    },
    {
     "name": "stdout",
     "output_type": "stream",
     "text": [
      "Epoch 231: Train Loss = 0.1382 | Val Loss = 0.1386\n"
     ]
    },
    {
     "name": "stderr",
     "output_type": "stream",
     "text": [
      "Epoch 232/1000 [Training]: 100%|██████████| 17/17 [00:00<00:00, 23.81it/s]\n",
      "Epoch 232/1000 [Validation]: 100%|██████████| 1/1 [00:00<00:00, 118.30it/s]\n"
     ]
    },
    {
     "name": "stdout",
     "output_type": "stream",
     "text": [
      "Epoch 232: Train Loss = 0.1382 | Val Loss = 0.1386\n"
     ]
    },
    {
     "name": "stderr",
     "output_type": "stream",
     "text": [
      "Epoch 233/1000 [Training]: 100%|██████████| 17/17 [00:00<00:00, 23.77it/s]\n",
      "Epoch 233/1000 [Validation]: 100%|██████████| 1/1 [00:00<00:00, 113.74it/s]\n"
     ]
    },
    {
     "name": "stdout",
     "output_type": "stream",
     "text": [
      "Epoch 233: Train Loss = 0.1382 | Val Loss = 0.1387\n"
     ]
    },
    {
     "name": "stderr",
     "output_type": "stream",
     "text": [
      "Epoch 234/1000 [Training]: 100%|██████████| 17/17 [00:00<00:00, 23.75it/s]\n",
      "Epoch 234/1000 [Validation]: 100%|██████████| 1/1 [00:00<00:00, 111.54it/s]\n"
     ]
    },
    {
     "name": "stdout",
     "output_type": "stream",
     "text": [
      "Epoch 234: Train Loss = 0.1382 | Val Loss = 0.1386\n"
     ]
    },
    {
     "name": "stderr",
     "output_type": "stream",
     "text": [
      "Epoch 235/1000 [Training]: 100%|██████████| 17/17 [00:00<00:00, 23.77it/s]\n",
      "Epoch 235/1000 [Validation]: 100%|██████████| 1/1 [00:00<00:00, 117.97it/s]\n"
     ]
    },
    {
     "name": "stdout",
     "output_type": "stream",
     "text": [
      "Epoch 235: Train Loss = 0.1382 | Val Loss = 0.1386\n"
     ]
    },
    {
     "name": "stderr",
     "output_type": "stream",
     "text": [
      "Epoch 236/1000 [Training]: 100%|██████████| 17/17 [00:00<00:00, 23.51it/s]\n",
      "Epoch 236/1000 [Validation]: 100%|██████████| 1/1 [00:00<00:00, 112.95it/s]\n"
     ]
    },
    {
     "name": "stdout",
     "output_type": "stream",
     "text": [
      "Epoch 236: Train Loss = 0.1382 | Val Loss = 0.1386\n"
     ]
    },
    {
     "name": "stderr",
     "output_type": "stream",
     "text": [
      "Epoch 237/1000 [Training]: 100%|██████████| 17/17 [00:00<00:00, 23.83it/s]\n",
      "Epoch 237/1000 [Validation]: 100%|██████████| 1/1 [00:00<00:00, 108.23it/s]\n"
     ]
    },
    {
     "name": "stdout",
     "output_type": "stream",
     "text": [
      "Epoch 237: Train Loss = 0.1382 | Val Loss = 0.1386\n"
     ]
    },
    {
     "name": "stderr",
     "output_type": "stream",
     "text": [
      "Epoch 238/1000 [Training]: 100%|██████████| 17/17 [00:00<00:00, 23.76it/s]\n",
      "Epoch 238/1000 [Validation]: 100%|██████████| 1/1 [00:00<00:00, 113.20it/s]\n"
     ]
    },
    {
     "name": "stdout",
     "output_type": "stream",
     "text": [
      "Epoch 238: Train Loss = 0.1382 | Val Loss = 0.1386\n"
     ]
    },
    {
     "name": "stderr",
     "output_type": "stream",
     "text": [
      "Epoch 239/1000 [Training]: 100%|██████████| 17/17 [00:00<00:00, 23.75it/s]\n",
      "Epoch 239/1000 [Validation]: 100%|██████████| 1/1 [00:00<00:00, 109.67it/s]\n"
     ]
    },
    {
     "name": "stdout",
     "output_type": "stream",
     "text": [
      "Epoch 239: Train Loss = 0.1382 | Val Loss = 0.1386\n"
     ]
    },
    {
     "name": "stderr",
     "output_type": "stream",
     "text": [
      "Epoch 240/1000 [Training]: 100%|██████████| 17/17 [00:00<00:00, 23.77it/s]\n",
      "Epoch 240/1000 [Validation]: 100%|██████████| 1/1 [00:00<00:00, 108.97it/s]\n"
     ]
    },
    {
     "name": "stdout",
     "output_type": "stream",
     "text": [
      "Epoch 240: Train Loss = 0.1382 | Val Loss = 0.1386\n"
     ]
    },
    {
     "name": "stderr",
     "output_type": "stream",
     "text": [
      "Epoch 241/1000 [Training]: 100%|██████████| 17/17 [00:00<00:00, 23.76it/s]\n",
      "Epoch 241/1000 [Validation]: 100%|██████████| 1/1 [00:00<00:00, 112.10it/s]\n"
     ]
    },
    {
     "name": "stdout",
     "output_type": "stream",
     "text": [
      "Epoch 241: Train Loss = 0.1382 | Val Loss = 0.1386\n"
     ]
    },
    {
     "name": "stderr",
     "output_type": "stream",
     "text": [
      "Epoch 242/1000 [Training]: 100%|██████████| 17/17 [00:00<00:00, 23.80it/s]\n",
      "Epoch 242/1000 [Validation]: 100%|██████████| 1/1 [00:00<00:00, 115.88it/s]\n"
     ]
    },
    {
     "name": "stdout",
     "output_type": "stream",
     "text": [
      "Epoch 242: Train Loss = 0.1382 | Val Loss = 0.1386\n"
     ]
    },
    {
     "name": "stderr",
     "output_type": "stream",
     "text": [
      "Epoch 243/1000 [Training]: 100%|██████████| 17/17 [00:00<00:00, 23.78it/s]\n",
      "Epoch 243/1000 [Validation]: 100%|██████████| 1/1 [00:00<00:00, 115.77it/s]\n"
     ]
    },
    {
     "name": "stdout",
     "output_type": "stream",
     "text": [
      "Epoch 243: Train Loss = 0.1382 | Val Loss = 0.1385\n"
     ]
    },
    {
     "name": "stderr",
     "output_type": "stream",
     "text": [
      "Epoch 244/1000 [Training]: 100%|██████████| 17/17 [00:00<00:00, 23.80it/s]\n",
      "Epoch 244/1000 [Validation]: 100%|██████████| 1/1 [00:00<00:00, 110.69it/s]\n"
     ]
    },
    {
     "name": "stdout",
     "output_type": "stream",
     "text": [
      "Epoch 244: Train Loss = 0.1382 | Val Loss = 0.1386\n"
     ]
    },
    {
     "name": "stderr",
     "output_type": "stream",
     "text": [
      "Epoch 245/1000 [Training]: 100%|██████████| 17/17 [00:00<00:00, 23.75it/s]\n",
      "Epoch 245/1000 [Validation]: 100%|██████████| 1/1 [00:00<00:00, 113.41it/s]\n"
     ]
    },
    {
     "name": "stdout",
     "output_type": "stream",
     "text": [
      "Epoch 245: Train Loss = 0.1382 | Val Loss = 0.1386\n"
     ]
    },
    {
     "name": "stderr",
     "output_type": "stream",
     "text": [
      "Epoch 246/1000 [Training]: 100%|██████████| 17/17 [00:00<00:00, 23.41it/s]\n",
      "Epoch 246/1000 [Validation]: 100%|██████████| 1/1 [00:00<00:00, 112.66it/s]\n"
     ]
    },
    {
     "name": "stdout",
     "output_type": "stream",
     "text": [
      "Epoch 246: Train Loss = 0.1382 | Val Loss = 0.1386\n"
     ]
    },
    {
     "name": "stderr",
     "output_type": "stream",
     "text": [
      "Epoch 247/1000 [Training]: 100%|██████████| 17/17 [00:00<00:00, 23.81it/s]\n",
      "Epoch 247/1000 [Validation]: 100%|██████████| 1/1 [00:00<00:00, 112.29it/s]\n"
     ]
    },
    {
     "name": "stdout",
     "output_type": "stream",
     "text": [
      "Epoch 247: Train Loss = 0.1382 | Val Loss = 0.1385\n"
     ]
    },
    {
     "name": "stderr",
     "output_type": "stream",
     "text": [
      "Epoch 248/1000 [Training]: 100%|██████████| 17/17 [00:00<00:00, 23.78it/s]\n",
      "Epoch 248/1000 [Validation]: 100%|██████████| 1/1 [00:00<00:00, 110.47it/s]\n"
     ]
    },
    {
     "name": "stdout",
     "output_type": "stream",
     "text": [
      "Epoch 248: Train Loss = 0.1382 | Val Loss = 0.1386\n"
     ]
    },
    {
     "name": "stderr",
     "output_type": "stream",
     "text": [
      "Epoch 249/1000 [Training]: 100%|██████████| 17/17 [00:00<00:00, 23.75it/s]\n",
      "Epoch 249/1000 [Validation]: 100%|██████████| 1/1 [00:00<00:00, 83.78it/s]\n"
     ]
    },
    {
     "name": "stdout",
     "output_type": "stream",
     "text": [
      "Epoch 249: Train Loss = 0.1382 | Val Loss = 0.1385\n"
     ]
    },
    {
     "name": "stderr",
     "output_type": "stream",
     "text": [
      "Epoch 250/1000 [Training]: 100%|██████████| 17/17 [00:00<00:00, 23.49it/s]\n",
      "Epoch 250/1000 [Validation]: 100%|██████████| 1/1 [00:00<00:00, 109.25it/s]\n"
     ]
    },
    {
     "name": "stdout",
     "output_type": "stream",
     "text": [
      "Epoch 250: Train Loss = 0.1382 | Val Loss = 0.1385\n"
     ]
    },
    {
     "name": "stderr",
     "output_type": "stream",
     "text": [
      "Epoch 251/1000 [Training]: 100%|██████████| 17/17 [00:00<00:00, 23.74it/s]\n",
      "Epoch 251/1000 [Validation]: 100%|██████████| 1/1 [00:00<00:00, 102.65it/s]\n"
     ]
    },
    {
     "name": "stdout",
     "output_type": "stream",
     "text": [
      "Epoch 251: Train Loss = 0.1382 | Val Loss = 0.1386\n"
     ]
    },
    {
     "name": "stderr",
     "output_type": "stream",
     "text": [
      "Epoch 252/1000 [Training]: 100%|██████████| 17/17 [00:00<00:00, 23.80it/s]\n",
      "Epoch 252/1000 [Validation]: 100%|██████████| 1/1 [00:00<00:00, 111.52it/s]\n"
     ]
    },
    {
     "name": "stdout",
     "output_type": "stream",
     "text": [
      "Epoch 252: Train Loss = 0.1382 | Val Loss = 0.1385\n"
     ]
    },
    {
     "name": "stderr",
     "output_type": "stream",
     "text": [
      "Epoch 253/1000 [Training]: 100%|██████████| 17/17 [00:00<00:00, 23.75it/s]\n",
      "Epoch 253/1000 [Validation]: 100%|██████████| 1/1 [00:00<00:00, 104.53it/s]\n"
     ]
    },
    {
     "name": "stdout",
     "output_type": "stream",
     "text": [
      "Epoch 253: Train Loss = 0.1382 | Val Loss = 0.1385\n"
     ]
    },
    {
     "name": "stderr",
     "output_type": "stream",
     "text": [
      "Epoch 254/1000 [Training]: 100%|██████████| 17/17 [00:00<00:00, 23.75it/s]\n",
      "Epoch 254/1000 [Validation]: 100%|██████████| 1/1 [00:00<00:00, 108.34it/s]\n"
     ]
    },
    {
     "name": "stdout",
     "output_type": "stream",
     "text": [
      "Epoch 254: Train Loss = 0.1382 | Val Loss = 0.1385\n"
     ]
    },
    {
     "name": "stderr",
     "output_type": "stream",
     "text": [
      "Epoch 255/1000 [Training]: 100%|██████████| 17/17 [00:00<00:00, 23.76it/s]\n",
      "Epoch 255/1000 [Validation]: 100%|██████████| 1/1 [00:00<00:00, 110.45it/s]\n"
     ]
    },
    {
     "name": "stdout",
     "output_type": "stream",
     "text": [
      "Epoch 255: Train Loss = 0.1382 | Val Loss = 0.1385\n"
     ]
    },
    {
     "name": "stderr",
     "output_type": "stream",
     "text": [
      "Epoch 256/1000 [Training]: 100%|██████████| 17/17 [00:00<00:00, 23.75it/s]\n",
      "Epoch 256/1000 [Validation]: 100%|██████████| 1/1 [00:00<00:00, 112.14it/s]\n"
     ]
    },
    {
     "name": "stdout",
     "output_type": "stream",
     "text": [
      "Epoch 256: Train Loss = 0.1382 | Val Loss = 0.1385\n"
     ]
    },
    {
     "name": "stderr",
     "output_type": "stream",
     "text": [
      "Epoch 257/1000 [Training]: 100%|██████████| 17/17 [00:00<00:00, 23.83it/s]\n",
      "Epoch 257/1000 [Validation]: 100%|██████████| 1/1 [00:00<00:00, 113.75it/s]\n"
     ]
    },
    {
     "name": "stdout",
     "output_type": "stream",
     "text": [
      "Epoch 257: Train Loss = 0.1382 | Val Loss = 0.1385\n"
     ]
    },
    {
     "name": "stderr",
     "output_type": "stream",
     "text": [
      "Epoch 258/1000 [Training]: 100%|██████████| 17/17 [00:00<00:00, 23.79it/s]\n",
      "Epoch 258/1000 [Validation]: 100%|██████████| 1/1 [00:00<00:00, 111.31it/s]\n"
     ]
    },
    {
     "name": "stdout",
     "output_type": "stream",
     "text": [
      "Epoch 258: Train Loss = 0.1382 | Val Loss = 0.1385\n"
     ]
    },
    {
     "name": "stderr",
     "output_type": "stream",
     "text": [
      "Epoch 259/1000 [Training]: 100%|██████████| 17/17 [00:00<00:00, 23.73it/s]\n",
      "Epoch 259/1000 [Validation]: 100%|██████████| 1/1 [00:00<00:00, 112.08it/s]\n"
     ]
    },
    {
     "name": "stdout",
     "output_type": "stream",
     "text": [
      "Epoch 259: Train Loss = 0.1382 | Val Loss = 0.1385\n"
     ]
    },
    {
     "name": "stderr",
     "output_type": "stream",
     "text": [
      "Epoch 260/1000 [Training]: 100%|██████████| 17/17 [00:00<00:00, 23.79it/s]\n",
      "Epoch 260/1000 [Validation]: 100%|██████████| 1/1 [00:00<00:00, 107.51it/s]\n"
     ]
    },
    {
     "name": "stdout",
     "output_type": "stream",
     "text": [
      "Epoch 260: Train Loss = 0.1382 | Val Loss = 0.1385\n"
     ]
    },
    {
     "name": "stderr",
     "output_type": "stream",
     "text": [
      "Epoch 261/1000 [Training]: 100%|██████████| 17/17 [00:00<00:00, 23.79it/s]\n",
      "Epoch 261/1000 [Validation]: 100%|██████████| 1/1 [00:00<00:00, 77.01it/s]\n"
     ]
    },
    {
     "name": "stdout",
     "output_type": "stream",
     "text": [
      "Epoch 261: Train Loss = 0.1382 | Val Loss = 0.1385\n"
     ]
    },
    {
     "name": "stderr",
     "output_type": "stream",
     "text": [
      "Epoch 262/1000 [Training]: 100%|██████████| 17/17 [00:00<00:00, 21.95it/s]\n",
      "Epoch 262/1000 [Validation]: 100%|██████████| 1/1 [00:00<00:00, 108.33it/s]\n"
     ]
    },
    {
     "name": "stdout",
     "output_type": "stream",
     "text": [
      "Epoch 262: Train Loss = 0.1382 | Val Loss = 0.1385\n"
     ]
    },
    {
     "name": "stderr",
     "output_type": "stream",
     "text": [
      "Epoch 263/1000 [Training]: 100%|██████████| 17/17 [00:00<00:00, 21.65it/s]\n",
      "Epoch 263/1000 [Validation]: 100%|██████████| 1/1 [00:00<00:00, 108.19it/s]\n"
     ]
    },
    {
     "name": "stdout",
     "output_type": "stream",
     "text": [
      "Epoch 263: Train Loss = 0.1382 | Val Loss = 0.1385\n"
     ]
    },
    {
     "name": "stderr",
     "output_type": "stream",
     "text": [
      "Epoch 264/1000 [Training]: 100%|██████████| 17/17 [00:00<00:00, 23.76it/s]\n",
      "Epoch 264/1000 [Validation]: 100%|██████████| 1/1 [00:00<00:00, 110.05it/s]\n"
     ]
    },
    {
     "name": "stdout",
     "output_type": "stream",
     "text": [
      "Epoch 264: Train Loss = 0.1382 | Val Loss = 0.1385\n"
     ]
    },
    {
     "name": "stderr",
     "output_type": "stream",
     "text": [
      "Epoch 265/1000 [Training]: 100%|██████████| 17/17 [00:00<00:00, 23.71it/s]\n",
      "Epoch 265/1000 [Validation]: 100%|██████████| 1/1 [00:00<00:00, 110.01it/s]\n"
     ]
    },
    {
     "name": "stdout",
     "output_type": "stream",
     "text": [
      "Epoch 265: Train Loss = 0.1382 | Val Loss = 0.1385\n"
     ]
    },
    {
     "name": "stderr",
     "output_type": "stream",
     "text": [
      "Epoch 266/1000 [Training]: 100%|██████████| 17/17 [00:00<00:00, 23.80it/s]\n",
      "Epoch 266/1000 [Validation]: 100%|██████████| 1/1 [00:00<00:00, 107.02it/s]\n"
     ]
    },
    {
     "name": "stdout",
     "output_type": "stream",
     "text": [
      "Epoch 266: Train Loss = 0.1382 | Val Loss = 0.1385\n"
     ]
    },
    {
     "name": "stderr",
     "output_type": "stream",
     "text": [
      "Epoch 267/1000 [Training]: 100%|██████████| 17/17 [00:00<00:00, 23.75it/s]\n",
      "Epoch 267/1000 [Validation]: 100%|██████████| 1/1 [00:00<00:00, 113.63it/s]\n"
     ]
    },
    {
     "name": "stdout",
     "output_type": "stream",
     "text": [
      "Epoch 267: Train Loss = 0.1382 | Val Loss = 0.1385\n"
     ]
    },
    {
     "name": "stderr",
     "output_type": "stream",
     "text": [
      "Epoch 268/1000 [Training]: 100%|██████████| 17/17 [00:00<00:00, 23.76it/s]\n",
      "Epoch 268/1000 [Validation]: 100%|██████████| 1/1 [00:00<00:00, 110.51it/s]\n"
     ]
    },
    {
     "name": "stdout",
     "output_type": "stream",
     "text": [
      "Epoch 268: Train Loss = 0.1382 | Val Loss = 0.1384\n"
     ]
    },
    {
     "name": "stderr",
     "output_type": "stream",
     "text": [
      "Epoch 269/1000 [Training]: 100%|██████████| 17/17 [00:00<00:00, 23.74it/s]\n",
      "Epoch 269/1000 [Validation]: 100%|██████████| 1/1 [00:00<00:00, 113.98it/s]\n"
     ]
    },
    {
     "name": "stdout",
     "output_type": "stream",
     "text": [
      "Epoch 269: Train Loss = 0.1382 | Val Loss = 0.1385\n"
     ]
    },
    {
     "name": "stderr",
     "output_type": "stream",
     "text": [
      "Epoch 270/1000 [Training]: 100%|██████████| 17/17 [00:00<00:00, 23.77it/s]\n",
      "Epoch 270/1000 [Validation]: 100%|██████████| 1/1 [00:00<00:00, 109.87it/s]\n"
     ]
    },
    {
     "name": "stdout",
     "output_type": "stream",
     "text": [
      "Epoch 270: Train Loss = 0.1382 | Val Loss = 0.1385\n"
     ]
    },
    {
     "name": "stderr",
     "output_type": "stream",
     "text": [
      "Epoch 271/1000 [Training]: 100%|██████████| 17/17 [00:00<00:00, 23.70it/s]\n",
      "Epoch 271/1000 [Validation]: 100%|██████████| 1/1 [00:00<00:00, 116.37it/s]\n"
     ]
    },
    {
     "name": "stdout",
     "output_type": "stream",
     "text": [
      "Epoch 271: Train Loss = 0.1382 | Val Loss = 0.1385\n"
     ]
    },
    {
     "name": "stderr",
     "output_type": "stream",
     "text": [
      "Epoch 272/1000 [Training]: 100%|██████████| 17/17 [00:00<00:00, 23.74it/s]\n",
      "Epoch 272/1000 [Validation]: 100%|██████████| 1/1 [00:00<00:00, 107.66it/s]\n"
     ]
    },
    {
     "name": "stdout",
     "output_type": "stream",
     "text": [
      "Epoch 272: Train Loss = 0.1382 | Val Loss = 0.1385\n"
     ]
    },
    {
     "name": "stderr",
     "output_type": "stream",
     "text": [
      "Epoch 273/1000 [Training]: 100%|██████████| 17/17 [00:00<00:00, 23.72it/s]\n",
      "Epoch 273/1000 [Validation]: 100%|██████████| 1/1 [00:00<00:00, 114.98it/s]\n"
     ]
    },
    {
     "name": "stdout",
     "output_type": "stream",
     "text": [
      "Epoch 273: Train Loss = 0.1382 | Val Loss = 0.1385\n"
     ]
    },
    {
     "name": "stderr",
     "output_type": "stream",
     "text": [
      "Epoch 274/1000 [Training]: 100%|██████████| 17/17 [00:00<00:00, 23.74it/s]\n",
      "Epoch 274/1000 [Validation]: 100%|██████████| 1/1 [00:00<00:00, 116.45it/s]\n"
     ]
    },
    {
     "name": "stdout",
     "output_type": "stream",
     "text": [
      "Epoch 274: Train Loss = 0.1382 | Val Loss = 0.1384\n"
     ]
    },
    {
     "name": "stderr",
     "output_type": "stream",
     "text": [
      "Epoch 275/1000 [Training]: 100%|██████████| 17/17 [00:00<00:00, 23.78it/s]\n",
      "Epoch 275/1000 [Validation]: 100%|██████████| 1/1 [00:00<00:00, 105.05it/s]\n"
     ]
    },
    {
     "name": "stdout",
     "output_type": "stream",
     "text": [
      "Epoch 275: Train Loss = 0.1382 | Val Loss = 0.1385\n"
     ]
    },
    {
     "name": "stderr",
     "output_type": "stream",
     "text": [
      "Epoch 276/1000 [Training]: 100%|██████████| 17/17 [00:00<00:00, 23.85it/s]\n",
      "Epoch 276/1000 [Validation]: 100%|██████████| 1/1 [00:00<00:00, 102.29it/s]\n"
     ]
    },
    {
     "name": "stdout",
     "output_type": "stream",
     "text": [
      "Epoch 276: Train Loss = 0.1382 | Val Loss = 0.1384\n"
     ]
    },
    {
     "name": "stderr",
     "output_type": "stream",
     "text": [
      "Epoch 277/1000 [Training]: 100%|██████████| 17/17 [00:00<00:00, 23.34it/s]\n",
      "Epoch 277/1000 [Validation]: 100%|██████████| 1/1 [00:00<00:00, 117.60it/s]\n"
     ]
    },
    {
     "name": "stdout",
     "output_type": "stream",
     "text": [
      "Epoch 277: Train Loss = 0.1382 | Val Loss = 0.1385\n"
     ]
    },
    {
     "name": "stderr",
     "output_type": "stream",
     "text": [
      "Epoch 278/1000 [Training]: 100%|██████████| 17/17 [00:00<00:00, 23.76it/s]\n",
      "Epoch 278/1000 [Validation]: 100%|██████████| 1/1 [00:00<00:00, 111.87it/s]\n"
     ]
    },
    {
     "name": "stdout",
     "output_type": "stream",
     "text": [
      "Epoch 278: Train Loss = 0.1382 | Val Loss = 0.1384\n"
     ]
    },
    {
     "name": "stderr",
     "output_type": "stream",
     "text": [
      "Epoch 279/1000 [Training]: 100%|██████████| 17/17 [00:00<00:00, 23.74it/s]\n",
      "Epoch 279/1000 [Validation]: 100%|██████████| 1/1 [00:00<00:00, 112.22it/s]\n"
     ]
    },
    {
     "name": "stdout",
     "output_type": "stream",
     "text": [
      "Epoch 279: Train Loss = 0.1382 | Val Loss = 0.1385\n"
     ]
    },
    {
     "name": "stderr",
     "output_type": "stream",
     "text": [
      "Epoch 280/1000 [Training]: 100%|██████████| 17/17 [00:00<00:00, 23.76it/s]\n",
      "Epoch 280/1000 [Validation]: 100%|██████████| 1/1 [00:00<00:00, 108.58it/s]\n"
     ]
    },
    {
     "name": "stdout",
     "output_type": "stream",
     "text": [
      "Epoch 280: Train Loss = 0.1382 | Val Loss = 0.1384\n"
     ]
    },
    {
     "name": "stderr",
     "output_type": "stream",
     "text": [
      "Epoch 281/1000 [Training]: 100%|██████████| 17/17 [00:00<00:00, 23.69it/s]\n",
      "Epoch 281/1000 [Validation]: 100%|██████████| 1/1 [00:00<00:00, 111.43it/s]\n"
     ]
    },
    {
     "name": "stdout",
     "output_type": "stream",
     "text": [
      "Epoch 281: Train Loss = 0.1382 | Val Loss = 0.1385\n"
     ]
    },
    {
     "name": "stderr",
     "output_type": "stream",
     "text": [
      "Epoch 282/1000 [Training]: 100%|██████████| 17/17 [00:00<00:00, 23.76it/s]\n",
      "Epoch 282/1000 [Validation]: 100%|██████████| 1/1 [00:00<00:00, 108.75it/s]\n"
     ]
    },
    {
     "name": "stdout",
     "output_type": "stream",
     "text": [
      "Epoch 282: Train Loss = 0.1382 | Val Loss = 0.1384\n"
     ]
    },
    {
     "name": "stderr",
     "output_type": "stream",
     "text": [
      "Epoch 283/1000 [Training]: 100%|██████████| 17/17 [00:00<00:00, 23.73it/s]\n",
      "Epoch 283/1000 [Validation]: 100%|██████████| 1/1 [00:00<00:00, 111.55it/s]\n"
     ]
    },
    {
     "name": "stdout",
     "output_type": "stream",
     "text": [
      "Epoch 283: Train Loss = 0.1382 | Val Loss = 0.1385\n"
     ]
    },
    {
     "name": "stderr",
     "output_type": "stream",
     "text": [
      "Epoch 284/1000 [Training]: 100%|██████████| 17/17 [00:00<00:00, 23.74it/s]\n",
      "Epoch 284/1000 [Validation]: 100%|██████████| 1/1 [00:00<00:00, 109.88it/s]\n"
     ]
    },
    {
     "name": "stdout",
     "output_type": "stream",
     "text": [
      "Epoch 284: Train Loss = 0.1382 | Val Loss = 0.1384\n"
     ]
    },
    {
     "name": "stderr",
     "output_type": "stream",
     "text": [
      "Epoch 285/1000 [Training]: 100%|██████████| 17/17 [00:00<00:00, 23.73it/s]\n",
      "Epoch 285/1000 [Validation]: 100%|██████████| 1/1 [00:00<00:00, 112.32it/s]\n"
     ]
    },
    {
     "name": "stdout",
     "output_type": "stream",
     "text": [
      "Epoch 285: Train Loss = 0.1382 | Val Loss = 0.1385\n"
     ]
    },
    {
     "name": "stderr",
     "output_type": "stream",
     "text": [
      "Epoch 286/1000 [Training]: 100%|██████████| 17/17 [00:00<00:00, 23.80it/s]\n",
      "Epoch 286/1000 [Validation]: 100%|██████████| 1/1 [00:00<00:00, 111.06it/s]\n"
     ]
    },
    {
     "name": "stdout",
     "output_type": "stream",
     "text": [
      "Epoch 286: Train Loss = 0.1382 | Val Loss = 0.1384\n"
     ]
    },
    {
     "name": "stderr",
     "output_type": "stream",
     "text": [
      "Epoch 287/1000 [Training]: 100%|██████████| 17/17 [00:00<00:00, 23.66it/s]\n",
      "Epoch 287/1000 [Validation]: 100%|██████████| 1/1 [00:00<00:00, 114.56it/s]\n"
     ]
    },
    {
     "name": "stdout",
     "output_type": "stream",
     "text": [
      "Epoch 287: Train Loss = 0.1382 | Val Loss = 0.1384\n"
     ]
    },
    {
     "name": "stderr",
     "output_type": "stream",
     "text": [
      "Epoch 288/1000 [Training]: 100%|██████████| 17/17 [00:00<00:00, 23.57it/s]\n",
      "Epoch 288/1000 [Validation]: 100%|██████████| 1/1 [00:00<00:00, 110.91it/s]\n"
     ]
    },
    {
     "name": "stdout",
     "output_type": "stream",
     "text": [
      "Epoch 288: Train Loss = 0.1382 | Val Loss = 0.1384\n"
     ]
    },
    {
     "name": "stderr",
     "output_type": "stream",
     "text": [
      "Epoch 289/1000 [Training]: 100%|██████████| 17/17 [00:00<00:00, 23.75it/s]\n",
      "Epoch 289/1000 [Validation]: 100%|██████████| 1/1 [00:00<00:00, 117.57it/s]\n"
     ]
    },
    {
     "name": "stdout",
     "output_type": "stream",
     "text": [
      "Epoch 289: Train Loss = 0.1382 | Val Loss = 0.1384\n"
     ]
    },
    {
     "name": "stderr",
     "output_type": "stream",
     "text": [
      "Epoch 290/1000 [Training]: 100%|██████████| 17/17 [00:00<00:00, 23.33it/s]\n",
      "Epoch 290/1000 [Validation]: 100%|██████████| 1/1 [00:00<00:00, 108.72it/s]\n"
     ]
    },
    {
     "name": "stdout",
     "output_type": "stream",
     "text": [
      "Epoch 290: Train Loss = 0.1382 | Val Loss = 0.1384\n"
     ]
    },
    {
     "name": "stderr",
     "output_type": "stream",
     "text": [
      "Epoch 291/1000 [Training]: 100%|██████████| 17/17 [00:00<00:00, 23.80it/s]\n",
      "Epoch 291/1000 [Validation]: 100%|██████████| 1/1 [00:00<00:00, 111.81it/s]\n"
     ]
    },
    {
     "name": "stdout",
     "output_type": "stream",
     "text": [
      "Epoch 291: Train Loss = 0.1382 | Val Loss = 0.1384\n"
     ]
    },
    {
     "name": "stderr",
     "output_type": "stream",
     "text": [
      "Epoch 292/1000 [Training]: 100%|██████████| 17/17 [00:00<00:00, 23.79it/s]\n",
      "Epoch 292/1000 [Validation]: 100%|██████████| 1/1 [00:00<00:00, 109.01it/s]\n"
     ]
    },
    {
     "name": "stdout",
     "output_type": "stream",
     "text": [
      "Epoch 292: Train Loss = 0.1382 | Val Loss = 0.1384\n"
     ]
    },
    {
     "name": "stderr",
     "output_type": "stream",
     "text": [
      "Epoch 293/1000 [Training]: 100%|██████████| 17/17 [00:00<00:00, 23.84it/s]\n",
      "Epoch 293/1000 [Validation]: 100%|██████████| 1/1 [00:00<00:00, 109.22it/s]\n"
     ]
    },
    {
     "name": "stdout",
     "output_type": "stream",
     "text": [
      "Epoch 293: Train Loss = 0.1382 | Val Loss = 0.1384\n"
     ]
    },
    {
     "name": "stderr",
     "output_type": "stream",
     "text": [
      "Epoch 294/1000 [Training]: 100%|██████████| 17/17 [00:00<00:00, 23.73it/s]\n",
      "Epoch 294/1000 [Validation]: 100%|██████████| 1/1 [00:00<00:00, 112.94it/s]\n"
     ]
    },
    {
     "name": "stdout",
     "output_type": "stream",
     "text": [
      "Epoch 294: Train Loss = 0.1382 | Val Loss = 0.1385\n"
     ]
    },
    {
     "name": "stderr",
     "output_type": "stream",
     "text": [
      "Epoch 295/1000 [Training]: 100%|██████████| 17/17 [00:00<00:00, 23.76it/s]\n",
      "Epoch 295/1000 [Validation]: 100%|██████████| 1/1 [00:00<00:00, 108.50it/s]\n"
     ]
    },
    {
     "name": "stdout",
     "output_type": "stream",
     "text": [
      "Epoch 295: Train Loss = 0.1382 | Val Loss = 0.1384\n"
     ]
    },
    {
     "name": "stderr",
     "output_type": "stream",
     "text": [
      "Epoch 296/1000 [Training]: 100%|██████████| 17/17 [00:00<00:00, 23.72it/s]\n",
      "Epoch 296/1000 [Validation]: 100%|██████████| 1/1 [00:00<00:00, 109.03it/s]\n"
     ]
    },
    {
     "name": "stdout",
     "output_type": "stream",
     "text": [
      "Epoch 296: Train Loss = 0.1382 | Val Loss = 0.1384\n"
     ]
    },
    {
     "name": "stderr",
     "output_type": "stream",
     "text": [
      "Epoch 297/1000 [Training]: 100%|██████████| 17/17 [00:00<00:00, 23.74it/s]\n",
      "Epoch 297/1000 [Validation]: 100%|██████████| 1/1 [00:00<00:00, 111.27it/s]\n"
     ]
    },
    {
     "name": "stdout",
     "output_type": "stream",
     "text": [
      "Epoch 297: Train Loss = 0.1382 | Val Loss = 0.1384\n"
     ]
    },
    {
     "name": "stderr",
     "output_type": "stream",
     "text": [
      "Epoch 298/1000 [Training]: 100%|██████████| 17/17 [00:00<00:00, 23.72it/s]\n",
      "Epoch 298/1000 [Validation]: 100%|██████████| 1/1 [00:00<00:00, 115.08it/s]\n"
     ]
    },
    {
     "name": "stdout",
     "output_type": "stream",
     "text": [
      "Epoch 298: Train Loss = 0.1382 | Val Loss = 0.1384\n"
     ]
    },
    {
     "name": "stderr",
     "output_type": "stream",
     "text": [
      "Epoch 299/1000 [Training]: 100%|██████████| 17/17 [00:00<00:00, 23.81it/s]\n",
      "Epoch 299/1000 [Validation]: 100%|██████████| 1/1 [00:00<00:00, 113.99it/s]\n"
     ]
    },
    {
     "name": "stdout",
     "output_type": "stream",
     "text": [
      "Epoch 299: Train Loss = 0.1382 | Val Loss = 0.1385\n"
     ]
    },
    {
     "name": "stderr",
     "output_type": "stream",
     "text": [
      "Epoch 300/1000 [Training]: 100%|██████████| 17/17 [00:00<00:00, 23.78it/s]\n",
      "Epoch 300/1000 [Validation]: 100%|██████████| 1/1 [00:00<00:00, 117.74it/s]\n"
     ]
    },
    {
     "name": "stdout",
     "output_type": "stream",
     "text": [
      "Epoch 300: Train Loss = 0.1382 | Val Loss = 0.1384\n"
     ]
    },
    {
     "name": "stderr",
     "output_type": "stream",
     "text": [
      "Epoch 301/1000 [Training]: 100%|██████████| 17/17 [00:00<00:00, 23.77it/s]\n",
      "Epoch 301/1000 [Validation]: 100%|██████████| 1/1 [00:00<00:00, 119.25it/s]\n"
     ]
    },
    {
     "name": "stdout",
     "output_type": "stream",
     "text": [
      "Epoch 301: Train Loss = 0.1382 | Val Loss = 0.1384\n"
     ]
    },
    {
     "name": "stderr",
     "output_type": "stream",
     "text": [
      "Epoch 302/1000 [Training]: 100%|██████████| 17/17 [00:00<00:00, 23.77it/s]\n",
      "Epoch 302/1000 [Validation]: 100%|██████████| 1/1 [00:00<00:00, 105.61it/s]\n"
     ]
    },
    {
     "name": "stdout",
     "output_type": "stream",
     "text": [
      "Epoch 302: Train Loss = 0.1382 | Val Loss = 0.1384\n"
     ]
    },
    {
     "name": "stderr",
     "output_type": "stream",
     "text": [
      "Epoch 303/1000 [Training]: 100%|██████████| 17/17 [00:00<00:00, 23.76it/s]\n",
      "Epoch 303/1000 [Validation]: 100%|██████████| 1/1 [00:00<00:00, 113.32it/s]\n"
     ]
    },
    {
     "name": "stdout",
     "output_type": "stream",
     "text": [
      "Epoch 303: Train Loss = 0.1382 | Val Loss = 0.1384\n"
     ]
    },
    {
     "name": "stderr",
     "output_type": "stream",
     "text": [
      "Epoch 304/1000 [Training]: 100%|██████████| 17/17 [00:00<00:00, 23.37it/s]\n",
      "Epoch 304/1000 [Validation]: 100%|██████████| 1/1 [00:00<00:00, 114.77it/s]\n"
     ]
    },
    {
     "name": "stdout",
     "output_type": "stream",
     "text": [
      "Epoch 304: Train Loss = 0.1382 | Val Loss = 0.1384\n"
     ]
    },
    {
     "name": "stderr",
     "output_type": "stream",
     "text": [
      "Epoch 305/1000 [Training]: 100%|██████████| 17/17 [00:00<00:00, 22.21it/s]\n",
      "Epoch 305/1000 [Validation]: 100%|██████████| 1/1 [00:00<00:00, 114.30it/s]\n"
     ]
    },
    {
     "name": "stdout",
     "output_type": "stream",
     "text": [
      "Epoch 305: Train Loss = 0.1382 | Val Loss = 0.1384\n"
     ]
    },
    {
     "name": "stderr",
     "output_type": "stream",
     "text": [
      "Epoch 306/1000 [Training]: 100%|██████████| 17/17 [00:00<00:00, 23.81it/s]\n",
      "Epoch 306/1000 [Validation]: 100%|██████████| 1/1 [00:00<00:00, 119.99it/s]\n"
     ]
    },
    {
     "name": "stdout",
     "output_type": "stream",
     "text": [
      "Epoch 306: Train Loss = 0.1382 | Val Loss = 0.1384\n"
     ]
    },
    {
     "name": "stderr",
     "output_type": "stream",
     "text": [
      "Epoch 307/1000 [Training]: 100%|██████████| 17/17 [00:00<00:00, 23.81it/s]\n",
      "Epoch 307/1000 [Validation]: 100%|██████████| 1/1 [00:00<00:00, 113.79it/s]\n"
     ]
    },
    {
     "name": "stdout",
     "output_type": "stream",
     "text": [
      "Epoch 307: Train Loss = 0.1382 | Val Loss = 0.1384\n"
     ]
    },
    {
     "name": "stderr",
     "output_type": "stream",
     "text": [
      "Epoch 308/1000 [Training]: 100%|██████████| 17/17 [00:00<00:00, 23.73it/s]\n",
      "Epoch 308/1000 [Validation]: 100%|██████████| 1/1 [00:00<00:00, 111.05it/s]\n"
     ]
    },
    {
     "name": "stdout",
     "output_type": "stream",
     "text": [
      "Epoch 308: Train Loss = 0.1382 | Val Loss = 0.1384\n"
     ]
    },
    {
     "name": "stderr",
     "output_type": "stream",
     "text": [
      "Epoch 309/1000 [Training]: 100%|██████████| 17/17 [00:00<00:00, 23.75it/s]\n",
      "Epoch 309/1000 [Validation]: 100%|██████████| 1/1 [00:00<00:00, 105.54it/s]\n"
     ]
    },
    {
     "name": "stdout",
     "output_type": "stream",
     "text": [
      "Epoch 309: Train Loss = 0.1382 | Val Loss = 0.1384\n"
     ]
    },
    {
     "name": "stderr",
     "output_type": "stream",
     "text": [
      "Epoch 310/1000 [Training]: 100%|██████████| 17/17 [00:00<00:00, 23.73it/s]\n",
      "Epoch 310/1000 [Validation]: 100%|██████████| 1/1 [00:00<00:00, 108.65it/s]\n"
     ]
    },
    {
     "name": "stdout",
     "output_type": "stream",
     "text": [
      "Epoch 310: Train Loss = 0.1382 | Val Loss = 0.1384\n"
     ]
    },
    {
     "name": "stderr",
     "output_type": "stream",
     "text": [
      "Epoch 311/1000 [Training]: 100%|██████████| 17/17 [00:00<00:00, 23.73it/s]\n",
      "Epoch 311/1000 [Validation]: 100%|██████████| 1/1 [00:00<00:00, 106.03it/s]\n"
     ]
    },
    {
     "name": "stdout",
     "output_type": "stream",
     "text": [
      "Epoch 311: Train Loss = 0.1382 | Val Loss = 0.1384\n"
     ]
    },
    {
     "name": "stderr",
     "output_type": "stream",
     "text": [
      "Epoch 312/1000 [Training]: 100%|██████████| 17/17 [00:00<00:00, 23.79it/s]\n",
      "Epoch 312/1000 [Validation]: 100%|██████████| 1/1 [00:00<00:00, 109.84it/s]\n"
     ]
    },
    {
     "name": "stdout",
     "output_type": "stream",
     "text": [
      "Epoch 312: Train Loss = 0.1382 | Val Loss = 0.1384\n"
     ]
    },
    {
     "name": "stderr",
     "output_type": "stream",
     "text": [
      "Epoch 313/1000 [Training]: 100%|██████████| 17/17 [00:00<00:00, 23.78it/s]\n",
      "Epoch 313/1000 [Validation]: 100%|██████████| 1/1 [00:00<00:00, 111.36it/s]\n"
     ]
    },
    {
     "name": "stdout",
     "output_type": "stream",
     "text": [
      "Epoch 313: Train Loss = 0.1382 | Val Loss = 0.1384\n"
     ]
    },
    {
     "name": "stderr",
     "output_type": "stream",
     "text": [
      "Epoch 314/1000 [Training]: 100%|██████████| 17/17 [00:00<00:00, 23.70it/s]\n",
      "Epoch 314/1000 [Validation]: 100%|██████████| 1/1 [00:00<00:00, 111.81it/s]\n"
     ]
    },
    {
     "name": "stdout",
     "output_type": "stream",
     "text": [
      "Epoch 314: Train Loss = 0.1382 | Val Loss = 0.1384\n"
     ]
    },
    {
     "name": "stderr",
     "output_type": "stream",
     "text": [
      "Epoch 315/1000 [Training]: 100%|██████████| 17/17 [00:00<00:00, 23.74it/s]\n",
      "Epoch 315/1000 [Validation]: 100%|██████████| 1/1 [00:00<00:00, 109.67it/s]\n"
     ]
    },
    {
     "name": "stdout",
     "output_type": "stream",
     "text": [
      "Epoch 315: Train Loss = 0.1382 | Val Loss = 0.1384\n"
     ]
    },
    {
     "name": "stderr",
     "output_type": "stream",
     "text": [
      "Epoch 316/1000 [Training]: 100%|██████████| 17/17 [00:00<00:00, 23.76it/s]\n",
      "Epoch 316/1000 [Validation]: 100%|██████████| 1/1 [00:00<00:00, 108.21it/s]\n"
     ]
    },
    {
     "name": "stdout",
     "output_type": "stream",
     "text": [
      "Epoch 316: Train Loss = 0.1382 | Val Loss = 0.1384\n"
     ]
    },
    {
     "name": "stderr",
     "output_type": "stream",
     "text": [
      "Epoch 317/1000 [Training]: 100%|██████████| 17/17 [00:00<00:00, 23.60it/s]\n",
      "Epoch 317/1000 [Validation]: 100%|██████████| 1/1 [00:00<00:00, 112.24it/s]\n"
     ]
    },
    {
     "name": "stdout",
     "output_type": "stream",
     "text": [
      "Epoch 317: Train Loss = 0.1382 | Val Loss = 0.1384\n"
     ]
    },
    {
     "name": "stderr",
     "output_type": "stream",
     "text": [
      "Epoch 318/1000 [Training]: 100%|██████████| 17/17 [00:00<00:00, 23.47it/s]\n",
      "Epoch 318/1000 [Validation]: 100%|██████████| 1/1 [00:00<00:00, 111.16it/s]\n"
     ]
    },
    {
     "name": "stdout",
     "output_type": "stream",
     "text": [
      "Epoch 318: Train Loss = 0.1382 | Val Loss = 0.1384\n"
     ]
    },
    {
     "name": "stderr",
     "output_type": "stream",
     "text": [
      "Epoch 319/1000 [Training]: 100%|██████████| 17/17 [00:00<00:00, 23.72it/s]\n",
      "Epoch 319/1000 [Validation]: 100%|██████████| 1/1 [00:00<00:00, 110.17it/s]\n"
     ]
    },
    {
     "name": "stdout",
     "output_type": "stream",
     "text": [
      "Epoch 319: Train Loss = 0.1382 | Val Loss = 0.1384\n"
     ]
    },
    {
     "name": "stderr",
     "output_type": "stream",
     "text": [
      "Epoch 320/1000 [Training]: 100%|██████████| 17/17 [00:00<00:00, 23.75it/s]\n",
      "Epoch 320/1000 [Validation]: 100%|██████████| 1/1 [00:00<00:00, 112.90it/s]\n"
     ]
    },
    {
     "name": "stdout",
     "output_type": "stream",
     "text": [
      "Epoch 320: Train Loss = 0.1382 | Val Loss = 0.1384\n"
     ]
    },
    {
     "name": "stderr",
     "output_type": "stream",
     "text": [
      "Epoch 321/1000 [Training]: 100%|██████████| 17/17 [00:00<00:00, 23.81it/s]\n",
      "Epoch 321/1000 [Validation]: 100%|██████████| 1/1 [00:00<00:00, 108.92it/s]\n"
     ]
    },
    {
     "name": "stdout",
     "output_type": "stream",
     "text": [
      "Epoch 321: Train Loss = 0.1382 | Val Loss = 0.1384\n"
     ]
    },
    {
     "name": "stderr",
     "output_type": "stream",
     "text": [
      "Epoch 322/1000 [Training]: 100%|██████████| 17/17 [00:00<00:00, 23.75it/s]\n",
      "Epoch 322/1000 [Validation]: 100%|██████████| 1/1 [00:00<00:00, 102.36it/s]\n"
     ]
    },
    {
     "name": "stdout",
     "output_type": "stream",
     "text": [
      "Epoch 322: Train Loss = 0.1382 | Val Loss = 0.1384\n"
     ]
    },
    {
     "name": "stderr",
     "output_type": "stream",
     "text": [
      "Epoch 323/1000 [Training]: 100%|██████████| 17/17 [00:00<00:00, 23.80it/s]\n",
      "Epoch 323/1000 [Validation]: 100%|██████████| 1/1 [00:00<00:00, 103.07it/s]\n"
     ]
    },
    {
     "name": "stdout",
     "output_type": "stream",
     "text": [
      "Epoch 323: Train Loss = 0.1382 | Val Loss = 0.1384\n"
     ]
    },
    {
     "name": "stderr",
     "output_type": "stream",
     "text": [
      "Epoch 324/1000 [Training]: 100%|██████████| 17/17 [00:00<00:00, 23.74it/s]\n",
      "Epoch 324/1000 [Validation]: 100%|██████████| 1/1 [00:00<00:00, 111.65it/s]\n"
     ]
    },
    {
     "name": "stdout",
     "output_type": "stream",
     "text": [
      "Epoch 324: Train Loss = 0.1382 | Val Loss = 0.1384\n"
     ]
    },
    {
     "name": "stderr",
     "output_type": "stream",
     "text": [
      "Epoch 325/1000 [Training]: 100%|██████████| 17/17 [00:00<00:00, 23.78it/s]\n",
      "Epoch 325/1000 [Validation]: 100%|██████████| 1/1 [00:00<00:00, 112.94it/s]\n"
     ]
    },
    {
     "name": "stdout",
     "output_type": "stream",
     "text": [
      "Epoch 325: Train Loss = 0.1382 | Val Loss = 0.1384\n"
     ]
    },
    {
     "name": "stderr",
     "output_type": "stream",
     "text": [
      "Epoch 326/1000 [Training]: 100%|██████████| 17/17 [00:00<00:00, 23.82it/s]\n",
      "Epoch 326/1000 [Validation]: 100%|██████████| 1/1 [00:00<00:00, 115.93it/s]\n"
     ]
    },
    {
     "name": "stdout",
     "output_type": "stream",
     "text": [
      "Epoch 326: Train Loss = 0.1382 | Val Loss = 0.1384\n"
     ]
    },
    {
     "name": "stderr",
     "output_type": "stream",
     "text": [
      "Epoch 327/1000 [Training]: 100%|██████████| 17/17 [00:00<00:00, 23.76it/s]\n",
      "Epoch 327/1000 [Validation]: 100%|██████████| 1/1 [00:00<00:00, 108.97it/s]\n"
     ]
    },
    {
     "name": "stdout",
     "output_type": "stream",
     "text": [
      "Epoch 327: Train Loss = 0.1382 | Val Loss = 0.1384\n"
     ]
    },
    {
     "name": "stderr",
     "output_type": "stream",
     "text": [
      "Epoch 328/1000 [Training]: 100%|██████████| 17/17 [00:00<00:00, 23.75it/s]\n",
      "Epoch 328/1000 [Validation]: 100%|██████████| 1/1 [00:00<00:00, 111.52it/s]\n"
     ]
    },
    {
     "name": "stdout",
     "output_type": "stream",
     "text": [
      "Epoch 328: Train Loss = 0.1382 | Val Loss = 0.1384\n"
     ]
    },
    {
     "name": "stderr",
     "output_type": "stream",
     "text": [
      "Epoch 329/1000 [Training]: 100%|██████████| 17/17 [00:00<00:00, 23.20it/s]\n",
      "Epoch 329/1000 [Validation]: 100%|██████████| 1/1 [00:00<00:00, 108.71it/s]\n"
     ]
    },
    {
     "name": "stdout",
     "output_type": "stream",
     "text": [
      "Epoch 329: Train Loss = 0.1382 | Val Loss = 0.1384\n"
     ]
    },
    {
     "name": "stderr",
     "output_type": "stream",
     "text": [
      "Epoch 330/1000 [Training]: 100%|██████████| 17/17 [00:00<00:00, 23.84it/s]\n",
      "Epoch 330/1000 [Validation]: 100%|██████████| 1/1 [00:00<00:00, 110.28it/s]\n"
     ]
    },
    {
     "name": "stdout",
     "output_type": "stream",
     "text": [
      "Epoch 330: Train Loss = 0.1382 | Val Loss = 0.1384\n"
     ]
    },
    {
     "name": "stderr",
     "output_type": "stream",
     "text": [
      "Epoch 331/1000 [Training]: 100%|██████████| 17/17 [00:00<00:00, 23.13it/s]\n",
      "Epoch 331/1000 [Validation]: 100%|██████████| 1/1 [00:00<00:00, 108.16it/s]\n"
     ]
    },
    {
     "name": "stdout",
     "output_type": "stream",
     "text": [
      "Epoch 331: Train Loss = 0.1382 | Val Loss = 0.1384\n"
     ]
    },
    {
     "name": "stderr",
     "output_type": "stream",
     "text": [
      "Epoch 332/1000 [Training]: 100%|██████████| 17/17 [00:00<00:00, 23.71it/s]\n",
      "Epoch 332/1000 [Validation]: 100%|██████████| 1/1 [00:00<00:00, 119.25it/s]\n"
     ]
    },
    {
     "name": "stdout",
     "output_type": "stream",
     "text": [
      "Epoch 332: Train Loss = 0.1382 | Val Loss = 0.1383\n"
     ]
    },
    {
     "name": "stderr",
     "output_type": "stream",
     "text": [
      "Epoch 333/1000 [Training]: 100%|██████████| 17/17 [00:00<00:00, 23.81it/s]\n",
      "Epoch 333/1000 [Validation]: 100%|██████████| 1/1 [00:00<00:00, 110.03it/s]\n"
     ]
    },
    {
     "name": "stdout",
     "output_type": "stream",
     "text": [
      "Epoch 333: Train Loss = 0.1382 | Val Loss = 0.1384\n"
     ]
    },
    {
     "name": "stderr",
     "output_type": "stream",
     "text": [
      "Epoch 334/1000 [Training]: 100%|██████████| 17/17 [00:00<00:00, 23.75it/s]\n",
      "Epoch 334/1000 [Validation]: 100%|██████████| 1/1 [00:00<00:00, 105.09it/s]\n"
     ]
    },
    {
     "name": "stdout",
     "output_type": "stream",
     "text": [
      "Epoch 334: Train Loss = 0.1382 | Val Loss = 0.1383\n"
     ]
    },
    {
     "name": "stderr",
     "output_type": "stream",
     "text": [
      "Epoch 335/1000 [Training]: 100%|██████████| 17/17 [00:00<00:00, 23.74it/s]\n",
      "Epoch 335/1000 [Validation]: 100%|██████████| 1/1 [00:00<00:00, 111.90it/s]\n"
     ]
    },
    {
     "name": "stdout",
     "output_type": "stream",
     "text": [
      "Epoch 335: Train Loss = 0.1382 | Val Loss = 0.1384\n"
     ]
    },
    {
     "name": "stderr",
     "output_type": "stream",
     "text": [
      "Epoch 336/1000 [Training]: 100%|██████████| 17/17 [00:00<00:00, 23.77it/s]\n",
      "Epoch 336/1000 [Validation]: 100%|██████████| 1/1 [00:00<00:00, 113.65it/s]\n"
     ]
    },
    {
     "name": "stdout",
     "output_type": "stream",
     "text": [
      "Epoch 336: Train Loss = 0.1382 | Val Loss = 0.1384\n"
     ]
    },
    {
     "name": "stderr",
     "output_type": "stream",
     "text": [
      "Epoch 337/1000 [Training]: 100%|██████████| 17/17 [00:00<00:00, 23.80it/s]\n",
      "Epoch 337/1000 [Validation]: 100%|██████████| 1/1 [00:00<00:00, 111.98it/s]\n"
     ]
    },
    {
     "name": "stdout",
     "output_type": "stream",
     "text": [
      "Epoch 337: Train Loss = 0.1382 | Val Loss = 0.1384\n"
     ]
    },
    {
     "name": "stderr",
     "output_type": "stream",
     "text": [
      "Epoch 338/1000 [Training]: 100%|██████████| 17/17 [00:00<00:00, 23.77it/s]\n",
      "Epoch 338/1000 [Validation]: 100%|██████████| 1/1 [00:00<00:00, 110.50it/s]\n"
     ]
    },
    {
     "name": "stdout",
     "output_type": "stream",
     "text": [
      "Epoch 338: Train Loss = 0.1382 | Val Loss = 0.1384\n"
     ]
    },
    {
     "name": "stderr",
     "output_type": "stream",
     "text": [
      "Epoch 339/1000 [Training]: 100%|██████████| 17/17 [00:00<00:00, 23.76it/s]\n",
      "Epoch 339/1000 [Validation]: 100%|██████████| 1/1 [00:00<00:00, 108.12it/s]\n"
     ]
    },
    {
     "name": "stdout",
     "output_type": "stream",
     "text": [
      "Epoch 339: Train Loss = 0.1382 | Val Loss = 0.1383\n"
     ]
    },
    {
     "name": "stderr",
     "output_type": "stream",
     "text": [
      "Epoch 340/1000 [Training]: 100%|██████████| 17/17 [00:00<00:00, 23.74it/s]\n",
      "Epoch 340/1000 [Validation]: 100%|██████████| 1/1 [00:00<00:00, 107.71it/s]\n"
     ]
    },
    {
     "name": "stdout",
     "output_type": "stream",
     "text": [
      "Epoch 340: Train Loss = 0.1382 | Val Loss = 0.1384\n"
     ]
    },
    {
     "name": "stderr",
     "output_type": "stream",
     "text": [
      "Epoch 341/1000 [Training]: 100%|██████████| 17/17 [00:00<00:00, 23.75it/s]\n",
      "Epoch 341/1000 [Validation]: 100%|██████████| 1/1 [00:00<00:00, 103.07it/s]\n"
     ]
    },
    {
     "name": "stdout",
     "output_type": "stream",
     "text": [
      "Epoch 341: Train Loss = 0.1382 | Val Loss = 0.1384\n"
     ]
    },
    {
     "name": "stderr",
     "output_type": "stream",
     "text": [
      "Epoch 342/1000 [Training]: 100%|██████████| 17/17 [00:00<00:00, 23.77it/s]\n",
      "Epoch 342/1000 [Validation]: 100%|██████████| 1/1 [00:00<00:00, 113.49it/s]\n"
     ]
    },
    {
     "name": "stdout",
     "output_type": "stream",
     "text": [
      "Epoch 342: Train Loss = 0.1382 | Val Loss = 0.1384\n"
     ]
    },
    {
     "name": "stderr",
     "output_type": "stream",
     "text": [
      "Epoch 343/1000 [Training]: 100%|██████████| 17/17 [00:00<00:00, 23.72it/s]\n",
      "Epoch 343/1000 [Validation]: 100%|██████████| 1/1 [00:00<00:00, 108.58it/s]\n"
     ]
    },
    {
     "name": "stdout",
     "output_type": "stream",
     "text": [
      "Epoch 343: Train Loss = 0.1382 | Val Loss = 0.1383\n"
     ]
    },
    {
     "name": "stderr",
     "output_type": "stream",
     "text": [
      "Epoch 344/1000 [Training]: 100%|██████████| 17/17 [00:00<00:00, 23.78it/s]\n",
      "Epoch 344/1000 [Validation]: 100%|██████████| 1/1 [00:00<00:00, 109.60it/s]\n"
     ]
    },
    {
     "name": "stdout",
     "output_type": "stream",
     "text": [
      "Epoch 344: Train Loss = 0.1382 | Val Loss = 0.1384\n"
     ]
    },
    {
     "name": "stderr",
     "output_type": "stream",
     "text": [
      "Epoch 345/1000 [Training]: 100%|██████████| 17/17 [00:00<00:00, 23.28it/s]\n",
      "Epoch 345/1000 [Validation]: 100%|██████████| 1/1 [00:00<00:00, 116.97it/s]\n"
     ]
    },
    {
     "name": "stdout",
     "output_type": "stream",
     "text": [
      "Epoch 345: Train Loss = 0.1382 | Val Loss = 0.1384\n"
     ]
    },
    {
     "name": "stderr",
     "output_type": "stream",
     "text": [
      "Epoch 346/1000 [Training]: 100%|██████████| 17/17 [00:00<00:00, 23.74it/s]\n",
      "Epoch 346/1000 [Validation]: 100%|██████████| 1/1 [00:00<00:00, 109.88it/s]\n"
     ]
    },
    {
     "name": "stdout",
     "output_type": "stream",
     "text": [
      "Epoch 346: Train Loss = 0.1382 | Val Loss = 0.1383\n"
     ]
    },
    {
     "name": "stderr",
     "output_type": "stream",
     "text": [
      "Epoch 347/1000 [Training]: 100%|██████████| 17/17 [00:00<00:00, 23.72it/s]\n",
      "Epoch 347/1000 [Validation]: 100%|██████████| 1/1 [00:00<00:00, 110.70it/s]\n"
     ]
    },
    {
     "name": "stdout",
     "output_type": "stream",
     "text": [
      "Epoch 347: Train Loss = 0.1382 | Val Loss = 0.1383\n"
     ]
    },
    {
     "name": "stderr",
     "output_type": "stream",
     "text": [
      "Epoch 348/1000 [Training]: 100%|██████████| 17/17 [00:00<00:00, 23.08it/s]\n",
      "Epoch 348/1000 [Validation]: 100%|██████████| 1/1 [00:00<00:00, 78.02it/s]\n"
     ]
    },
    {
     "name": "stdout",
     "output_type": "stream",
     "text": [
      "Epoch 348: Train Loss = 0.1382 | Val Loss = 0.1384\n"
     ]
    },
    {
     "name": "stderr",
     "output_type": "stream",
     "text": [
      "Epoch 349/1000 [Training]: 100%|██████████| 17/17 [00:00<00:00, 22.11it/s]\n",
      "Epoch 349/1000 [Validation]: 100%|██████████| 1/1 [00:00<00:00, 111.39it/s]\n"
     ]
    },
    {
     "name": "stdout",
     "output_type": "stream",
     "text": [
      "Epoch 349: Train Loss = 0.1382 | Val Loss = 0.1384\n"
     ]
    },
    {
     "name": "stderr",
     "output_type": "stream",
     "text": [
      "Epoch 350/1000 [Training]: 100%|██████████| 17/17 [00:00<00:00, 23.79it/s]\n",
      "Epoch 350/1000 [Validation]: 100%|██████████| 1/1 [00:00<00:00, 116.69it/s]\n"
     ]
    },
    {
     "name": "stdout",
     "output_type": "stream",
     "text": [
      "Epoch 350: Train Loss = 0.1382 | Val Loss = 0.1383\n"
     ]
    },
    {
     "name": "stderr",
     "output_type": "stream",
     "text": [
      "Epoch 351/1000 [Training]: 100%|██████████| 17/17 [00:00<00:00, 23.77it/s]\n",
      "Epoch 351/1000 [Validation]: 100%|██████████| 1/1 [00:00<00:00, 111.18it/s]\n"
     ]
    },
    {
     "name": "stdout",
     "output_type": "stream",
     "text": [
      "Epoch 351: Train Loss = 0.1382 | Val Loss = 0.1383\n"
     ]
    },
    {
     "name": "stderr",
     "output_type": "stream",
     "text": [
      "Epoch 352/1000 [Training]: 100%|██████████| 17/17 [00:00<00:00, 23.86it/s]\n",
      "Epoch 352/1000 [Validation]: 100%|██████████| 1/1 [00:00<00:00, 100.94it/s]\n"
     ]
    },
    {
     "name": "stdout",
     "output_type": "stream",
     "text": [
      "Epoch 352: Train Loss = 0.1382 | Val Loss = 0.1383\n"
     ]
    },
    {
     "name": "stderr",
     "output_type": "stream",
     "text": [
      "Epoch 353/1000 [Training]: 100%|██████████| 17/17 [00:00<00:00, 23.81it/s]\n",
      "Epoch 353/1000 [Validation]: 100%|██████████| 1/1 [00:00<00:00, 116.52it/s]\n"
     ]
    },
    {
     "name": "stdout",
     "output_type": "stream",
     "text": [
      "Epoch 353: Train Loss = 0.1382 | Val Loss = 0.1384\n"
     ]
    },
    {
     "name": "stderr",
     "output_type": "stream",
     "text": [
      "Epoch 354/1000 [Training]: 100%|██████████| 17/17 [00:00<00:00, 23.67it/s]\n",
      "Epoch 354/1000 [Validation]: 100%|██████████| 1/1 [00:00<00:00, 108.40it/s]\n"
     ]
    },
    {
     "name": "stdout",
     "output_type": "stream",
     "text": [
      "Epoch 354: Train Loss = 0.1382 | Val Loss = 0.1383\n"
     ]
    },
    {
     "name": "stderr",
     "output_type": "stream",
     "text": [
      "Epoch 355/1000 [Training]: 100%|██████████| 17/17 [00:00<00:00, 23.61it/s]\n",
      "Epoch 355/1000 [Validation]: 100%|██████████| 1/1 [00:00<00:00, 107.22it/s]\n"
     ]
    },
    {
     "name": "stdout",
     "output_type": "stream",
     "text": [
      "Epoch 355: Train Loss = 0.1382 | Val Loss = 0.1383\n"
     ]
    },
    {
     "name": "stderr",
     "output_type": "stream",
     "text": [
      "Epoch 356/1000 [Training]: 100%|██████████| 17/17 [00:00<00:00, 23.66it/s]\n",
      "Epoch 356/1000 [Validation]: 100%|██████████| 1/1 [00:00<00:00, 108.75it/s]\n"
     ]
    },
    {
     "name": "stdout",
     "output_type": "stream",
     "text": [
      "Epoch 356: Train Loss = 0.1382 | Val Loss = 0.1384\n"
     ]
    },
    {
     "name": "stderr",
     "output_type": "stream",
     "text": [
      "Epoch 357/1000 [Training]: 100%|██████████| 17/17 [00:00<00:00, 23.60it/s]\n",
      "Epoch 357/1000 [Validation]: 100%|██████████| 1/1 [00:00<00:00, 108.91it/s]\n"
     ]
    },
    {
     "name": "stdout",
     "output_type": "stream",
     "text": [
      "Epoch 357: Train Loss = 0.1382 | Val Loss = 0.1383\n"
     ]
    },
    {
     "name": "stderr",
     "output_type": "stream",
     "text": [
      "Epoch 358/1000 [Training]: 100%|██████████| 17/17 [00:00<00:00, 23.74it/s]\n",
      "Epoch 358/1000 [Validation]: 100%|██████████| 1/1 [00:00<00:00, 93.97it/s]\n"
     ]
    },
    {
     "name": "stdout",
     "output_type": "stream",
     "text": [
      "Epoch 358: Train Loss = 0.1382 | Val Loss = 0.1383\n"
     ]
    },
    {
     "name": "stderr",
     "output_type": "stream",
     "text": [
      "Epoch 359/1000 [Training]: 100%|██████████| 17/17 [00:00<00:00, 23.50it/s]\n",
      "Epoch 359/1000 [Validation]: 100%|██████████| 1/1 [00:00<00:00, 111.76it/s]\n"
     ]
    },
    {
     "name": "stdout",
     "output_type": "stream",
     "text": [
      "Epoch 359: Train Loss = 0.1382 | Val Loss = 0.1383\n"
     ]
    },
    {
     "name": "stderr",
     "output_type": "stream",
     "text": [
      "Epoch 360/1000 [Training]: 100%|██████████| 17/17 [00:00<00:00, 23.70it/s]\n",
      "Epoch 360/1000 [Validation]: 100%|██████████| 1/1 [00:00<00:00, 111.69it/s]\n"
     ]
    },
    {
     "name": "stdout",
     "output_type": "stream",
     "text": [
      "Epoch 360: Train Loss = 0.1382 | Val Loss = 0.1383\n"
     ]
    },
    {
     "name": "stderr",
     "output_type": "stream",
     "text": [
      "Epoch 361/1000 [Training]: 100%|██████████| 17/17 [00:00<00:00, 23.63it/s]\n",
      "Epoch 361/1000 [Validation]: 100%|██████████| 1/1 [00:00<00:00, 107.07it/s]\n"
     ]
    },
    {
     "name": "stdout",
     "output_type": "stream",
     "text": [
      "Epoch 361: Train Loss = 0.1382 | Val Loss = 0.1383\n"
     ]
    },
    {
     "name": "stderr",
     "output_type": "stream",
     "text": [
      "Epoch 362/1000 [Training]: 100%|██████████| 17/17 [00:00<00:00, 23.56it/s]\n",
      "Epoch 362/1000 [Validation]: 100%|██████████| 1/1 [00:00<00:00, 103.58it/s]\n"
     ]
    },
    {
     "name": "stdout",
     "output_type": "stream",
     "text": [
      "Epoch 362: Train Loss = 0.1382 | Val Loss = 0.1383\n"
     ]
    },
    {
     "name": "stderr",
     "output_type": "stream",
     "text": [
      "Epoch 363/1000 [Training]: 100%|██████████| 17/17 [00:00<00:00, 23.64it/s]\n",
      "Epoch 363/1000 [Validation]: 100%|██████████| 1/1 [00:00<00:00, 108.11it/s]\n"
     ]
    },
    {
     "name": "stdout",
     "output_type": "stream",
     "text": [
      "Epoch 363: Train Loss = 0.1382 | Val Loss = 0.1383\n"
     ]
    },
    {
     "name": "stderr",
     "output_type": "stream",
     "text": [
      "Epoch 364/1000 [Training]: 100%|██████████| 17/17 [00:00<00:00, 23.67it/s]\n",
      "Epoch 364/1000 [Validation]: 100%|██████████| 1/1 [00:00<00:00, 115.15it/s]\n"
     ]
    },
    {
     "name": "stdout",
     "output_type": "stream",
     "text": [
      "Epoch 364: Train Loss = 0.1382 | Val Loss = 0.1383\n"
     ]
    },
    {
     "name": "stderr",
     "output_type": "stream",
     "text": [
      "Epoch 365/1000 [Training]: 100%|██████████| 17/17 [00:00<00:00, 23.69it/s]\n",
      "Epoch 365/1000 [Validation]: 100%|██████████| 1/1 [00:00<00:00, 115.67it/s]\n"
     ]
    },
    {
     "name": "stdout",
     "output_type": "stream",
     "text": [
      "Epoch 365: Train Loss = 0.1382 | Val Loss = 0.1383\n"
     ]
    },
    {
     "name": "stderr",
     "output_type": "stream",
     "text": [
      "Epoch 366/1000 [Training]: 100%|██████████| 17/17 [00:00<00:00, 23.62it/s]\n",
      "Epoch 366/1000 [Validation]: 100%|██████████| 1/1 [00:00<00:00, 106.32it/s]\n"
     ]
    },
    {
     "name": "stdout",
     "output_type": "stream",
     "text": [
      "Epoch 366: Train Loss = 0.1382 | Val Loss = 0.1383\n"
     ]
    },
    {
     "name": "stderr",
     "output_type": "stream",
     "text": [
      "Epoch 367/1000 [Training]: 100%|██████████| 17/17 [00:00<00:00, 23.71it/s]\n",
      "Epoch 367/1000 [Validation]: 100%|██████████| 1/1 [00:00<00:00, 114.40it/s]\n"
     ]
    },
    {
     "name": "stdout",
     "output_type": "stream",
     "text": [
      "Epoch 367: Train Loss = 0.1382 | Val Loss = 0.1383\n"
     ]
    },
    {
     "name": "stderr",
     "output_type": "stream",
     "text": [
      "Epoch 368/1000 [Training]: 100%|██████████| 17/17 [00:00<00:00, 23.74it/s]\n",
      "Epoch 368/1000 [Validation]: 100%|██████████| 1/1 [00:00<00:00, 109.44it/s]\n"
     ]
    },
    {
     "name": "stdout",
     "output_type": "stream",
     "text": [
      "Epoch 368: Train Loss = 0.1382 | Val Loss = 0.1383\n"
     ]
    },
    {
     "name": "stderr",
     "output_type": "stream",
     "text": [
      "Epoch 369/1000 [Training]: 100%|██████████| 17/17 [00:00<00:00, 23.70it/s]\n",
      "Epoch 369/1000 [Validation]: 100%|██████████| 1/1 [00:00<00:00, 112.40it/s]\n"
     ]
    },
    {
     "name": "stdout",
     "output_type": "stream",
     "text": [
      "Epoch 369: Train Loss = 0.1382 | Val Loss = 0.1383\n"
     ]
    },
    {
     "name": "stderr",
     "output_type": "stream",
     "text": [
      "Epoch 370/1000 [Training]: 100%|██████████| 17/17 [00:00<00:00, 23.70it/s]\n",
      "Epoch 370/1000 [Validation]: 100%|██████████| 1/1 [00:00<00:00, 115.70it/s]\n"
     ]
    },
    {
     "name": "stdout",
     "output_type": "stream",
     "text": [
      "Epoch 370: Train Loss = 0.1382 | Val Loss = 0.1383\n"
     ]
    },
    {
     "name": "stderr",
     "output_type": "stream",
     "text": [
      "Epoch 371/1000 [Training]: 100%|██████████| 17/17 [00:00<00:00, 23.71it/s]\n",
      "Epoch 371/1000 [Validation]: 100%|██████████| 1/1 [00:00<00:00, 113.16it/s]\n"
     ]
    },
    {
     "name": "stdout",
     "output_type": "stream",
     "text": [
      "Epoch 371: Train Loss = 0.1382 | Val Loss = 0.1383\n"
     ]
    },
    {
     "name": "stderr",
     "output_type": "stream",
     "text": [
      "Epoch 372/1000 [Training]: 100%|██████████| 17/17 [00:00<00:00, 23.04it/s]\n",
      "Epoch 372/1000 [Validation]: 100%|██████████| 1/1 [00:00<00:00, 113.50it/s]\n"
     ]
    },
    {
     "name": "stdout",
     "output_type": "stream",
     "text": [
      "Epoch 372: Train Loss = 0.1382 | Val Loss = 0.1383\n"
     ]
    },
    {
     "name": "stderr",
     "output_type": "stream",
     "text": [
      "Epoch 373/1000 [Training]: 100%|██████████| 17/17 [00:00<00:00, 23.68it/s]\n",
      "Epoch 373/1000 [Validation]: 100%|██████████| 1/1 [00:00<00:00, 108.29it/s]\n"
     ]
    },
    {
     "name": "stdout",
     "output_type": "stream",
     "text": [
      "Epoch 373: Train Loss = 0.1382 | Val Loss = 0.1383\n"
     ]
    },
    {
     "name": "stderr",
     "output_type": "stream",
     "text": [
      "Epoch 374/1000 [Training]: 100%|██████████| 17/17 [00:00<00:00, 23.69it/s]\n",
      "Epoch 374/1000 [Validation]: 100%|██████████| 1/1 [00:00<00:00, 112.45it/s]\n"
     ]
    },
    {
     "name": "stdout",
     "output_type": "stream",
     "text": [
      "Epoch 374: Train Loss = 0.1382 | Val Loss = 0.1383\n"
     ]
    },
    {
     "name": "stderr",
     "output_type": "stream",
     "text": [
      "Epoch 375/1000 [Training]: 100%|██████████| 17/17 [00:00<00:00, 23.66it/s]\n",
      "Epoch 375/1000 [Validation]: 100%|██████████| 1/1 [00:00<00:00, 107.96it/s]\n"
     ]
    },
    {
     "name": "stdout",
     "output_type": "stream",
     "text": [
      "Epoch 375: Train Loss = 0.1382 | Val Loss = 0.1383\n"
     ]
    },
    {
     "name": "stderr",
     "output_type": "stream",
     "text": [
      "Epoch 376/1000 [Training]: 100%|██████████| 17/17 [00:00<00:00, 23.64it/s]\n",
      "Epoch 376/1000 [Validation]: 100%|██████████| 1/1 [00:00<00:00, 107.23it/s]\n"
     ]
    },
    {
     "name": "stdout",
     "output_type": "stream",
     "text": [
      "Epoch 376: Train Loss = 0.1382 | Val Loss = 0.1383\n"
     ]
    },
    {
     "name": "stderr",
     "output_type": "stream",
     "text": [
      "Epoch 377/1000 [Training]: 100%|██████████| 17/17 [00:00<00:00, 23.66it/s]\n",
      "Epoch 377/1000 [Validation]: 100%|██████████| 1/1 [00:00<00:00, 102.73it/s]\n"
     ]
    },
    {
     "name": "stdout",
     "output_type": "stream",
     "text": [
      "Epoch 377: Train Loss = 0.1382 | Val Loss = 0.1383\n"
     ]
    },
    {
     "name": "stderr",
     "output_type": "stream",
     "text": [
      "Epoch 378/1000 [Training]: 100%|██████████| 17/17 [00:00<00:00, 23.69it/s]\n",
      "Epoch 378/1000 [Validation]: 100%|██████████| 1/1 [00:00<00:00, 112.23it/s]\n"
     ]
    },
    {
     "name": "stdout",
     "output_type": "stream",
     "text": [
      "Epoch 378: Train Loss = 0.1382 | Val Loss = 0.1383\n"
     ]
    },
    {
     "name": "stderr",
     "output_type": "stream",
     "text": [
      "Epoch 379/1000 [Training]: 100%|██████████| 17/17 [00:00<00:00, 23.71it/s]\n",
      "Epoch 379/1000 [Validation]: 100%|██████████| 1/1 [00:00<00:00, 109.35it/s]\n"
     ]
    },
    {
     "name": "stdout",
     "output_type": "stream",
     "text": [
      "Epoch 379: Train Loss = 0.1382 | Val Loss = 0.1383\n"
     ]
    },
    {
     "name": "stderr",
     "output_type": "stream",
     "text": [
      "Epoch 380/1000 [Training]: 100%|██████████| 17/17 [00:00<00:00, 23.60it/s]\n",
      "Epoch 380/1000 [Validation]: 100%|██████████| 1/1 [00:00<00:00, 107.89it/s]\n"
     ]
    },
    {
     "name": "stdout",
     "output_type": "stream",
     "text": [
      "Epoch 380: Train Loss = 0.1382 | Val Loss = 0.1383\n"
     ]
    },
    {
     "name": "stderr",
     "output_type": "stream",
     "text": [
      "Epoch 381/1000 [Training]: 100%|██████████| 17/17 [00:00<00:00, 23.72it/s]\n",
      "Epoch 381/1000 [Validation]: 100%|██████████| 1/1 [00:00<00:00, 112.57it/s]\n"
     ]
    },
    {
     "name": "stdout",
     "output_type": "stream",
     "text": [
      "Epoch 381: Train Loss = 0.1382 | Val Loss = 0.1383\n"
     ]
    },
    {
     "name": "stderr",
     "output_type": "stream",
     "text": [
      "Epoch 382/1000 [Training]: 100%|██████████| 17/17 [00:00<00:00, 23.77it/s]\n",
      "Epoch 382/1000 [Validation]: 100%|██████████| 1/1 [00:00<00:00, 109.45it/s]\n"
     ]
    },
    {
     "name": "stdout",
     "output_type": "stream",
     "text": [
      "Epoch 382: Train Loss = 0.1382 | Val Loss = 0.1383\n"
     ]
    },
    {
     "name": "stderr",
     "output_type": "stream",
     "text": [
      "Epoch 383/1000 [Training]: 100%|██████████| 17/17 [00:00<00:00, 23.80it/s]\n",
      "Epoch 383/1000 [Validation]: 100%|██████████| 1/1 [00:00<00:00, 110.61it/s]\n"
     ]
    },
    {
     "name": "stdout",
     "output_type": "stream",
     "text": [
      "Epoch 383: Train Loss = 0.1382 | Val Loss = 0.1383\n"
     ]
    },
    {
     "name": "stderr",
     "output_type": "stream",
     "text": [
      "Epoch 384/1000 [Training]: 100%|██████████| 17/17 [00:00<00:00, 23.80it/s]\n",
      "Epoch 384/1000 [Validation]: 100%|██████████| 1/1 [00:00<00:00, 114.06it/s]\n"
     ]
    },
    {
     "name": "stdout",
     "output_type": "stream",
     "text": [
      "Epoch 384: Train Loss = 0.1382 | Val Loss = 0.1383\n"
     ]
    },
    {
     "name": "stderr",
     "output_type": "stream",
     "text": [
      "Epoch 385/1000 [Training]: 100%|██████████| 17/17 [00:00<00:00, 23.78it/s]\n",
      "Epoch 385/1000 [Validation]: 100%|██████████| 1/1 [00:00<00:00, 103.85it/s]\n"
     ]
    },
    {
     "name": "stdout",
     "output_type": "stream",
     "text": [
      "Epoch 385: Train Loss = 0.1382 | Val Loss = 0.1383\n"
     ]
    },
    {
     "name": "stderr",
     "output_type": "stream",
     "text": [
      "Epoch 386/1000 [Training]: 100%|██████████| 17/17 [00:00<00:00, 23.39it/s]\n",
      "Epoch 386/1000 [Validation]: 100%|██████████| 1/1 [00:00<00:00, 111.73it/s]\n"
     ]
    },
    {
     "name": "stdout",
     "output_type": "stream",
     "text": [
      "Epoch 386: Train Loss = 0.1382 | Val Loss = 0.1383\n"
     ]
    },
    {
     "name": "stderr",
     "output_type": "stream",
     "text": [
      "Epoch 387/1000 [Training]: 100%|██████████| 17/17 [00:00<00:00, 23.78it/s]\n",
      "Epoch 387/1000 [Validation]: 100%|██████████| 1/1 [00:00<00:00, 107.39it/s]\n"
     ]
    },
    {
     "name": "stdout",
     "output_type": "stream",
     "text": [
      "Epoch 387: Train Loss = 0.1382 | Val Loss = 0.1383\n"
     ]
    },
    {
     "name": "stderr",
     "output_type": "stream",
     "text": [
      "Epoch 388/1000 [Training]: 100%|██████████| 17/17 [00:00<00:00, 23.75it/s]\n",
      "Epoch 388/1000 [Validation]: 100%|██████████| 1/1 [00:00<00:00, 111.02it/s]\n"
     ]
    },
    {
     "name": "stdout",
     "output_type": "stream",
     "text": [
      "Epoch 388: Train Loss = 0.1382 | Val Loss = 0.1383\n"
     ]
    },
    {
     "name": "stderr",
     "output_type": "stream",
     "text": [
      "Epoch 389/1000 [Training]: 100%|██████████| 17/17 [00:00<00:00, 23.77it/s]\n",
      "Epoch 389/1000 [Validation]: 100%|██████████| 1/1 [00:00<00:00, 114.04it/s]\n"
     ]
    },
    {
     "name": "stdout",
     "output_type": "stream",
     "text": [
      "Epoch 389: Train Loss = 0.1382 | Val Loss = 0.1383\n"
     ]
    },
    {
     "name": "stderr",
     "output_type": "stream",
     "text": [
      "Epoch 390/1000 [Training]: 100%|██████████| 17/17 [00:00<00:00, 23.76it/s]\n",
      "Epoch 390/1000 [Validation]: 100%|██████████| 1/1 [00:00<00:00, 113.89it/s]\n"
     ]
    },
    {
     "name": "stdout",
     "output_type": "stream",
     "text": [
      "Epoch 390: Train Loss = 0.1382 | Val Loss = 0.1383\n"
     ]
    },
    {
     "name": "stderr",
     "output_type": "stream",
     "text": [
      "Epoch 391/1000 [Training]: 100%|██████████| 17/17 [00:00<00:00, 22.91it/s]\n",
      "Epoch 391/1000 [Validation]: 100%|██████████| 1/1 [00:00<00:00, 113.08it/s]\n"
     ]
    },
    {
     "name": "stdout",
     "output_type": "stream",
     "text": [
      "Epoch 391: Train Loss = 0.1382 | Val Loss = 0.1383\n"
     ]
    },
    {
     "name": "stderr",
     "output_type": "stream",
     "text": [
      "Epoch 392/1000 [Training]: 100%|██████████| 17/17 [00:00<00:00, 23.31it/s]\n",
      "Epoch 392/1000 [Validation]: 100%|██████████| 1/1 [00:00<00:00, 104.34it/s]\n"
     ]
    },
    {
     "name": "stdout",
     "output_type": "stream",
     "text": [
      "Epoch 392: Train Loss = 0.1382 | Val Loss = 0.1383\n"
     ]
    },
    {
     "name": "stderr",
     "output_type": "stream",
     "text": [
      "Epoch 393/1000 [Training]: 100%|██████████| 17/17 [00:00<00:00, 23.73it/s]\n",
      "Epoch 393/1000 [Validation]: 100%|██████████| 1/1 [00:00<00:00, 113.52it/s]\n"
     ]
    },
    {
     "name": "stdout",
     "output_type": "stream",
     "text": [
      "Epoch 393: Train Loss = 0.1382 | Val Loss = 0.1383\n"
     ]
    },
    {
     "name": "stderr",
     "output_type": "stream",
     "text": [
      "Epoch 394/1000 [Training]: 100%|██████████| 17/17 [00:00<00:00, 23.79it/s]\n",
      "Epoch 394/1000 [Validation]: 100%|██████████| 1/1 [00:00<00:00, 115.61it/s]\n"
     ]
    },
    {
     "name": "stdout",
     "output_type": "stream",
     "text": [
      "Epoch 394: Train Loss = 0.1382 | Val Loss = 0.1383\n"
     ]
    },
    {
     "name": "stderr",
     "output_type": "stream",
     "text": [
      "Epoch 395/1000 [Training]: 100%|██████████| 17/17 [00:00<00:00, 23.78it/s]\n",
      "Epoch 395/1000 [Validation]: 100%|██████████| 1/1 [00:00<00:00, 108.92it/s]\n"
     ]
    },
    {
     "name": "stdout",
     "output_type": "stream",
     "text": [
      "Epoch 395: Train Loss = 0.1382 | Val Loss = 0.1383\n"
     ]
    },
    {
     "name": "stderr",
     "output_type": "stream",
     "text": [
      "Epoch 396/1000 [Training]: 100%|██████████| 17/17 [00:00<00:00, 23.76it/s]\n",
      "Epoch 396/1000 [Validation]: 100%|██████████| 1/1 [00:00<00:00, 108.13it/s]\n"
     ]
    },
    {
     "name": "stdout",
     "output_type": "stream",
     "text": [
      "Epoch 396: Train Loss = 0.1382 | Val Loss = 0.1383\n"
     ]
    },
    {
     "name": "stderr",
     "output_type": "stream",
     "text": [
      "Epoch 397/1000 [Training]: 100%|██████████| 17/17 [00:00<00:00, 23.76it/s]\n",
      "Epoch 397/1000 [Validation]: 100%|██████████| 1/1 [00:00<00:00, 111.61it/s]\n"
     ]
    },
    {
     "name": "stdout",
     "output_type": "stream",
     "text": [
      "Epoch 397: Train Loss = 0.1382 | Val Loss = 0.1383\n"
     ]
    },
    {
     "name": "stderr",
     "output_type": "stream",
     "text": [
      "Epoch 398/1000 [Training]: 100%|██████████| 17/17 [00:00<00:00, 23.78it/s]\n",
      "Epoch 398/1000 [Validation]: 100%|██████████| 1/1 [00:00<00:00, 98.92it/s]\n"
     ]
    },
    {
     "name": "stdout",
     "output_type": "stream",
     "text": [
      "Epoch 398: Train Loss = 0.1382 | Val Loss = 0.1383\n"
     ]
    },
    {
     "name": "stderr",
     "output_type": "stream",
     "text": [
      "Epoch 399/1000 [Training]: 100%|██████████| 17/17 [00:00<00:00, 23.39it/s]\n",
      "Epoch 399/1000 [Validation]: 100%|██████████| 1/1 [00:00<00:00, 112.59it/s]\n"
     ]
    },
    {
     "name": "stdout",
     "output_type": "stream",
     "text": [
      "Epoch 399: Train Loss = 0.1382 | Val Loss = 0.1383\n"
     ]
    },
    {
     "name": "stderr",
     "output_type": "stream",
     "text": [
      "Epoch 400/1000 [Training]: 100%|██████████| 17/17 [00:00<00:00, 23.76it/s]\n",
      "Epoch 400/1000 [Validation]: 100%|██████████| 1/1 [00:00<00:00, 111.11it/s]\n"
     ]
    },
    {
     "name": "stdout",
     "output_type": "stream",
     "text": [
      "Epoch 400: Train Loss = 0.1382 | Val Loss = 0.1383\n"
     ]
    },
    {
     "name": "stderr",
     "output_type": "stream",
     "text": [
      "Epoch 401/1000 [Training]: 100%|██████████| 17/17 [00:00<00:00, 23.78it/s]\n",
      "Epoch 401/1000 [Validation]: 100%|██████████| 1/1 [00:00<00:00, 113.45it/s]\n"
     ]
    },
    {
     "name": "stdout",
     "output_type": "stream",
     "text": [
      "Epoch 401: Train Loss = 0.1382 | Val Loss = 0.1383\n"
     ]
    },
    {
     "name": "stderr",
     "output_type": "stream",
     "text": [
      "Epoch 402/1000 [Training]: 100%|██████████| 17/17 [00:00<00:00, 23.74it/s]\n",
      "Epoch 402/1000 [Validation]: 100%|██████████| 1/1 [00:00<00:00, 114.24it/s]\n"
     ]
    },
    {
     "name": "stdout",
     "output_type": "stream",
     "text": [
      "Epoch 402: Train Loss = 0.1382 | Val Loss = 0.1383\n"
     ]
    },
    {
     "name": "stderr",
     "output_type": "stream",
     "text": [
      "Epoch 403/1000 [Training]: 100%|██████████| 17/17 [00:00<00:00, 23.76it/s]\n",
      "Epoch 403/1000 [Validation]: 100%|██████████| 1/1 [00:00<00:00, 111.30it/s]\n"
     ]
    },
    {
     "name": "stdout",
     "output_type": "stream",
     "text": [
      "Epoch 403: Train Loss = 0.1382 | Val Loss = 0.1383\n"
     ]
    },
    {
     "name": "stderr",
     "output_type": "stream",
     "text": [
      "Epoch 404/1000 [Training]: 100%|██████████| 17/17 [00:00<00:00, 23.74it/s]\n",
      "Epoch 404/1000 [Validation]: 100%|██████████| 1/1 [00:00<00:00, 98.87it/s]\n"
     ]
    },
    {
     "name": "stdout",
     "output_type": "stream",
     "text": [
      "Epoch 404: Train Loss = 0.1382 | Val Loss = 0.1383\n"
     ]
    },
    {
     "name": "stderr",
     "output_type": "stream",
     "text": [
      "Epoch 405/1000 [Training]: 100%|██████████| 17/17 [00:00<00:00, 23.71it/s]\n",
      "Epoch 405/1000 [Validation]: 100%|██████████| 1/1 [00:00<00:00, 111.16it/s]\n"
     ]
    },
    {
     "name": "stdout",
     "output_type": "stream",
     "text": [
      "Epoch 405: Train Loss = 0.1382 | Val Loss = 0.1383\n"
     ]
    },
    {
     "name": "stderr",
     "output_type": "stream",
     "text": [
      "Epoch 406/1000 [Training]: 100%|██████████| 17/17 [00:00<00:00, 23.70it/s]\n",
      "Epoch 406/1000 [Validation]: 100%|██████████| 1/1 [00:00<00:00, 112.37it/s]\n"
     ]
    },
    {
     "name": "stdout",
     "output_type": "stream",
     "text": [
      "Epoch 406: Train Loss = 0.1382 | Val Loss = 0.1383\n"
     ]
    },
    {
     "name": "stderr",
     "output_type": "stream",
     "text": [
      "Epoch 407/1000 [Training]: 100%|██████████| 17/17 [00:00<00:00, 23.74it/s]\n",
      "Epoch 407/1000 [Validation]: 100%|██████████| 1/1 [00:00<00:00, 110.30it/s]\n"
     ]
    },
    {
     "name": "stdout",
     "output_type": "stream",
     "text": [
      "Epoch 407: Train Loss = 0.1382 | Val Loss = 0.1383\n"
     ]
    },
    {
     "name": "stderr",
     "output_type": "stream",
     "text": [
      "Epoch 408/1000 [Training]: 100%|██████████| 17/17 [00:00<00:00, 23.80it/s]\n",
      "Epoch 408/1000 [Validation]: 100%|██████████| 1/1 [00:00<00:00, 118.90it/s]\n"
     ]
    },
    {
     "name": "stdout",
     "output_type": "stream",
     "text": [
      "Epoch 408: Train Loss = 0.1382 | Val Loss = 0.1383\n"
     ]
    },
    {
     "name": "stderr",
     "output_type": "stream",
     "text": [
      "Epoch 409/1000 [Training]: 100%|██████████| 17/17 [00:00<00:00, 23.72it/s]\n",
      "Epoch 409/1000 [Validation]: 100%|██████████| 1/1 [00:00<00:00, 111.36it/s]\n"
     ]
    },
    {
     "name": "stdout",
     "output_type": "stream",
     "text": [
      "Epoch 409: Train Loss = 0.1382 | Val Loss = 0.1383\n"
     ]
    },
    {
     "name": "stderr",
     "output_type": "stream",
     "text": [
      "Epoch 410/1000 [Training]: 100%|██████████| 17/17 [00:00<00:00, 23.73it/s]\n",
      "Epoch 410/1000 [Validation]: 100%|██████████| 1/1 [00:00<00:00, 107.85it/s]\n"
     ]
    },
    {
     "name": "stdout",
     "output_type": "stream",
     "text": [
      "Epoch 410: Train Loss = 0.1382 | Val Loss = 0.1383\n"
     ]
    },
    {
     "name": "stderr",
     "output_type": "stream",
     "text": [
      "Epoch 411/1000 [Training]: 100%|██████████| 17/17 [00:00<00:00, 23.82it/s]\n",
      "Epoch 411/1000 [Validation]: 100%|██████████| 1/1 [00:00<00:00, 107.73it/s]\n"
     ]
    },
    {
     "name": "stdout",
     "output_type": "stream",
     "text": [
      "Epoch 411: Train Loss = 0.1382 | Val Loss = 0.1383\n"
     ]
    },
    {
     "name": "stderr",
     "output_type": "stream",
     "text": [
      "Epoch 412/1000 [Training]: 100%|██████████| 17/17 [00:00<00:00, 23.77it/s]\n",
      "Epoch 412/1000 [Validation]: 100%|██████████| 1/1 [00:00<00:00, 110.34it/s]\n"
     ]
    },
    {
     "name": "stdout",
     "output_type": "stream",
     "text": [
      "Epoch 412: Train Loss = 0.1382 | Val Loss = 0.1383\n"
     ]
    },
    {
     "name": "stderr",
     "output_type": "stream",
     "text": [
      "Epoch 413/1000 [Training]: 100%|██████████| 17/17 [00:00<00:00, 23.48it/s]\n",
      "Epoch 413/1000 [Validation]: 100%|██████████| 1/1 [00:00<00:00, 109.14it/s]\n"
     ]
    },
    {
     "name": "stdout",
     "output_type": "stream",
     "text": [
      "Epoch 413: Train Loss = 0.1382 | Val Loss = 0.1383\n"
     ]
    },
    {
     "name": "stderr",
     "output_type": "stream",
     "text": [
      "Epoch 414/1000 [Training]: 100%|██████████| 17/17 [00:00<00:00, 23.75it/s]\n",
      "Epoch 414/1000 [Validation]: 100%|██████████| 1/1 [00:00<00:00, 114.32it/s]\n"
     ]
    },
    {
     "name": "stdout",
     "output_type": "stream",
     "text": [
      "Epoch 414: Train Loss = 0.1382 | Val Loss = 0.1383\n"
     ]
    },
    {
     "name": "stderr",
     "output_type": "stream",
     "text": [
      "Epoch 415/1000 [Training]: 100%|██████████| 17/17 [00:00<00:00, 23.73it/s]\n",
      "Epoch 415/1000 [Validation]: 100%|██████████| 1/1 [00:00<00:00, 107.25it/s]\n"
     ]
    },
    {
     "name": "stdout",
     "output_type": "stream",
     "text": [
      "Epoch 415: Train Loss = 0.1382 | Val Loss = 0.1383\n"
     ]
    },
    {
     "name": "stderr",
     "output_type": "stream",
     "text": [
      "Epoch 416/1000 [Training]: 100%|██████████| 17/17 [00:00<00:00, 23.76it/s]\n",
      "Epoch 416/1000 [Validation]: 100%|██████████| 1/1 [00:00<00:00, 112.03it/s]\n"
     ]
    },
    {
     "name": "stdout",
     "output_type": "stream",
     "text": [
      "Epoch 416: Train Loss = 0.1382 | Val Loss = 0.1383\n"
     ]
    },
    {
     "name": "stderr",
     "output_type": "stream",
     "text": [
      "Epoch 417/1000 [Training]: 100%|██████████| 17/17 [00:00<00:00, 23.79it/s]\n",
      "Epoch 417/1000 [Validation]: 100%|██████████| 1/1 [00:00<00:00, 111.78it/s]\n"
     ]
    },
    {
     "name": "stdout",
     "output_type": "stream",
     "text": [
      "Epoch 417: Train Loss = 0.1382 | Val Loss = 0.1383\n"
     ]
    },
    {
     "name": "stderr",
     "output_type": "stream",
     "text": [
      "Epoch 418/1000 [Training]: 100%|██████████| 17/17 [00:00<00:00, 23.73it/s]\n",
      "Epoch 418/1000 [Validation]: 100%|██████████| 1/1 [00:00<00:00, 103.24it/s]\n"
     ]
    },
    {
     "name": "stdout",
     "output_type": "stream",
     "text": [
      "Epoch 418: Train Loss = 0.1382 | Val Loss = 0.1383\n"
     ]
    },
    {
     "name": "stderr",
     "output_type": "stream",
     "text": [
      "Epoch 419/1000 [Training]: 100%|██████████| 17/17 [00:00<00:00, 23.70it/s]\n",
      "Epoch 419/1000 [Validation]: 100%|██████████| 1/1 [00:00<00:00, 93.68it/s]\n"
     ]
    },
    {
     "name": "stdout",
     "output_type": "stream",
     "text": [
      "Epoch 419: Train Loss = 0.1382 | Val Loss = 0.1383\n"
     ]
    },
    {
     "name": "stderr",
     "output_type": "stream",
     "text": [
      "Epoch 420/1000 [Training]: 100%|██████████| 17/17 [00:00<00:00, 23.77it/s]\n",
      "Epoch 420/1000 [Validation]: 100%|██████████| 1/1 [00:00<00:00, 113.63it/s]\n"
     ]
    },
    {
     "name": "stdout",
     "output_type": "stream",
     "text": [
      "Epoch 420: Train Loss = 0.1382 | Val Loss = 0.1383\n"
     ]
    },
    {
     "name": "stderr",
     "output_type": "stream",
     "text": [
      "Epoch 421/1000 [Training]: 100%|██████████| 17/17 [00:00<00:00, 23.71it/s]\n",
      "Epoch 421/1000 [Validation]: 100%|██████████| 1/1 [00:00<00:00, 109.74it/s]\n"
     ]
    },
    {
     "name": "stdout",
     "output_type": "stream",
     "text": [
      "Epoch 421: Train Loss = 0.1382 | Val Loss = 0.1383\n"
     ]
    },
    {
     "name": "stderr",
     "output_type": "stream",
     "text": [
      "Epoch 422/1000 [Training]: 100%|██████████| 17/17 [00:00<00:00, 23.75it/s]\n",
      "Epoch 422/1000 [Validation]: 100%|██████████| 1/1 [00:00<00:00, 110.21it/s]\n"
     ]
    },
    {
     "name": "stdout",
     "output_type": "stream",
     "text": [
      "Epoch 422: Train Loss = 0.1382 | Val Loss = 0.1383\n"
     ]
    },
    {
     "name": "stderr",
     "output_type": "stream",
     "text": [
      "Epoch 423/1000 [Training]: 100%|██████████| 17/17 [00:00<00:00, 23.77it/s]\n",
      "Epoch 423/1000 [Validation]: 100%|██████████| 1/1 [00:00<00:00, 108.42it/s]\n"
     ]
    },
    {
     "name": "stdout",
     "output_type": "stream",
     "text": [
      "Epoch 423: Train Loss = 0.1382 | Val Loss = 0.1383\n"
     ]
    },
    {
     "name": "stderr",
     "output_type": "stream",
     "text": [
      "Epoch 424/1000 [Training]: 100%|██████████| 17/17 [00:00<00:00, 23.81it/s]\n",
      "Epoch 424/1000 [Validation]: 100%|██████████| 1/1 [00:00<00:00, 114.39it/s]\n"
     ]
    },
    {
     "name": "stdout",
     "output_type": "stream",
     "text": [
      "Epoch 424: Train Loss = 0.1382 | Val Loss = 0.1383\n"
     ]
    },
    {
     "name": "stderr",
     "output_type": "stream",
     "text": [
      "Epoch 425/1000 [Training]: 100%|██████████| 17/17 [00:00<00:00, 23.74it/s]\n",
      "Epoch 425/1000 [Validation]: 100%|██████████| 1/1 [00:00<00:00, 111.36it/s]\n"
     ]
    },
    {
     "name": "stdout",
     "output_type": "stream",
     "text": [
      "Epoch 425: Train Loss = 0.1382 | Val Loss = 0.1383\n"
     ]
    },
    {
     "name": "stderr",
     "output_type": "stream",
     "text": [
      "Epoch 426/1000 [Training]: 100%|██████████| 17/17 [00:00<00:00, 23.78it/s]\n",
      "Epoch 426/1000 [Validation]: 100%|██████████| 1/1 [00:00<00:00, 107.02it/s]\n"
     ]
    },
    {
     "name": "stdout",
     "output_type": "stream",
     "text": [
      "Epoch 426: Train Loss = 0.1382 | Val Loss = 0.1383\n"
     ]
    },
    {
     "name": "stderr",
     "output_type": "stream",
     "text": [
      "Epoch 427/1000 [Training]: 100%|██████████| 17/17 [00:00<00:00, 23.40it/s]\n",
      "Epoch 427/1000 [Validation]: 100%|██████████| 1/1 [00:00<00:00, 105.75it/s]\n"
     ]
    },
    {
     "name": "stdout",
     "output_type": "stream",
     "text": [
      "Epoch 427: Train Loss = 0.1382 | Val Loss = 0.1383\n"
     ]
    },
    {
     "name": "stderr",
     "output_type": "stream",
     "text": [
      "Epoch 428/1000 [Training]: 100%|██████████| 17/17 [00:00<00:00, 23.78it/s]\n",
      "Epoch 428/1000 [Validation]: 100%|██████████| 1/1 [00:00<00:00, 114.19it/s]\n"
     ]
    },
    {
     "name": "stdout",
     "output_type": "stream",
     "text": [
      "Epoch 428: Train Loss = 0.1382 | Val Loss = 0.1383\n"
     ]
    },
    {
     "name": "stderr",
     "output_type": "stream",
     "text": [
      "Epoch 429/1000 [Training]: 100%|██████████| 17/17 [00:00<00:00, 23.79it/s]\n",
      "Epoch 429/1000 [Validation]: 100%|██████████| 1/1 [00:00<00:00, 111.93it/s]\n"
     ]
    },
    {
     "name": "stdout",
     "output_type": "stream",
     "text": [
      "Epoch 429: Train Loss = 0.1382 | Val Loss = 0.1383\n"
     ]
    },
    {
     "name": "stderr",
     "output_type": "stream",
     "text": [
      "Epoch 430/1000 [Training]: 100%|██████████| 17/17 [00:00<00:00, 23.70it/s]\n",
      "Epoch 430/1000 [Validation]: 100%|██████████| 1/1 [00:00<00:00, 111.41it/s]\n"
     ]
    },
    {
     "name": "stdout",
     "output_type": "stream",
     "text": [
      "Epoch 430: Train Loss = 0.1382 | Val Loss = 0.1383\n"
     ]
    },
    {
     "name": "stderr",
     "output_type": "stream",
     "text": [
      "Epoch 431/1000 [Training]: 100%|██████████| 17/17 [00:00<00:00, 23.80it/s]\n",
      "Epoch 431/1000 [Validation]: 100%|██████████| 1/1 [00:00<00:00, 113.16it/s]\n"
     ]
    },
    {
     "name": "stdout",
     "output_type": "stream",
     "text": [
      "Epoch 431: Train Loss = 0.1382 | Val Loss = 0.1383\n"
     ]
    },
    {
     "name": "stderr",
     "output_type": "stream",
     "text": [
      "Epoch 432/1000 [Training]: 100%|██████████| 17/17 [00:00<00:00, 23.77it/s]\n",
      "Epoch 432/1000 [Validation]: 100%|██████████| 1/1 [00:00<00:00, 112.12it/s]\n"
     ]
    },
    {
     "name": "stdout",
     "output_type": "stream",
     "text": [
      "Epoch 432: Train Loss = 0.1382 | Val Loss = 0.1383\n"
     ]
    },
    {
     "name": "stderr",
     "output_type": "stream",
     "text": [
      "Epoch 433/1000 [Training]: 100%|██████████| 17/17 [00:00<00:00, 23.76it/s]\n",
      "Epoch 433/1000 [Validation]: 100%|██████████| 1/1 [00:00<00:00, 115.79it/s]\n"
     ]
    },
    {
     "name": "stdout",
     "output_type": "stream",
     "text": [
      "Epoch 433: Train Loss = 0.1382 | Val Loss = 0.1383\n"
     ]
    },
    {
     "name": "stderr",
     "output_type": "stream",
     "text": [
      "Epoch 434/1000 [Training]: 100%|██████████| 17/17 [00:00<00:00, 23.32it/s]\n",
      "Epoch 434/1000 [Validation]: 100%|██████████| 1/1 [00:00<00:00, 111.07it/s]\n"
     ]
    },
    {
     "name": "stdout",
     "output_type": "stream",
     "text": [
      "Epoch 434: Train Loss = 0.1382 | Val Loss = 0.1383\n"
     ]
    },
    {
     "name": "stderr",
     "output_type": "stream",
     "text": [
      "Epoch 435/1000 [Training]: 100%|██████████| 17/17 [00:00<00:00, 23.18it/s]\n",
      "Epoch 435/1000 [Validation]: 100%|██████████| 1/1 [00:00<00:00, 105.02it/s]\n"
     ]
    },
    {
     "name": "stdout",
     "output_type": "stream",
     "text": [
      "Epoch 435: Train Loss = 0.1382 | Val Loss = 0.1383\n"
     ]
    },
    {
     "name": "stderr",
     "output_type": "stream",
     "text": [
      "Epoch 436/1000 [Training]: 100%|██████████| 17/17 [00:00<00:00, 23.69it/s]\n",
      "Epoch 436/1000 [Validation]: 100%|██████████| 1/1 [00:00<00:00, 108.52it/s]\n"
     ]
    },
    {
     "name": "stdout",
     "output_type": "stream",
     "text": [
      "Epoch 436: Train Loss = 0.1382 | Val Loss = 0.1383\n"
     ]
    },
    {
     "name": "stderr",
     "output_type": "stream",
     "text": [
      "Epoch 437/1000 [Training]: 100%|██████████| 17/17 [00:00<00:00, 23.69it/s]\n",
      "Epoch 437/1000 [Validation]: 100%|██████████| 1/1 [00:00<00:00, 108.21it/s]\n"
     ]
    },
    {
     "name": "stdout",
     "output_type": "stream",
     "text": [
      "Epoch 437: Train Loss = 0.1382 | Val Loss = 0.1383\n"
     ]
    },
    {
     "name": "stderr",
     "output_type": "stream",
     "text": [
      "Epoch 438/1000 [Training]: 100%|██████████| 17/17 [00:00<00:00, 23.74it/s]\n",
      "Epoch 438/1000 [Validation]: 100%|██████████| 1/1 [00:00<00:00, 109.20it/s]\n"
     ]
    },
    {
     "name": "stdout",
     "output_type": "stream",
     "text": [
      "Epoch 438: Train Loss = 0.1382 | Val Loss = 0.1383\n"
     ]
    },
    {
     "name": "stderr",
     "output_type": "stream",
     "text": [
      "Epoch 439/1000 [Training]: 100%|██████████| 17/17 [00:00<00:00, 23.75it/s]\n",
      "Epoch 439/1000 [Validation]: 100%|██████████| 1/1 [00:00<00:00, 113.00it/s]\n"
     ]
    },
    {
     "name": "stdout",
     "output_type": "stream",
     "text": [
      "Epoch 439: Train Loss = 0.1382 | Val Loss = 0.1383\n"
     ]
    },
    {
     "name": "stderr",
     "output_type": "stream",
     "text": [
      "Epoch 440/1000 [Training]: 100%|██████████| 17/17 [00:00<00:00, 23.45it/s]\n",
      "Epoch 440/1000 [Validation]: 100%|██████████| 1/1 [00:00<00:00, 112.19it/s]\n"
     ]
    },
    {
     "name": "stdout",
     "output_type": "stream",
     "text": [
      "Epoch 440: Train Loss = 0.1382 | Val Loss = 0.1383\n"
     ]
    },
    {
     "name": "stderr",
     "output_type": "stream",
     "text": [
      "Epoch 441/1000 [Training]: 100%|██████████| 17/17 [00:00<00:00, 23.72it/s]\n",
      "Epoch 441/1000 [Validation]: 100%|██████████| 1/1 [00:00<00:00, 110.55it/s]\n"
     ]
    },
    {
     "name": "stdout",
     "output_type": "stream",
     "text": [
      "Epoch 441: Train Loss = 0.1382 | Val Loss = 0.1383\n"
     ]
    },
    {
     "name": "stderr",
     "output_type": "stream",
     "text": [
      "Epoch 442/1000 [Training]: 100%|██████████| 17/17 [00:00<00:00, 23.79it/s]\n",
      "Epoch 442/1000 [Validation]: 100%|██████████| 1/1 [00:00<00:00, 118.10it/s]\n"
     ]
    },
    {
     "name": "stdout",
     "output_type": "stream",
     "text": [
      "Epoch 442: Train Loss = 0.1382 | Val Loss = 0.1383\n"
     ]
    },
    {
     "name": "stderr",
     "output_type": "stream",
     "text": [
      "Epoch 443/1000 [Training]: 100%|██████████| 17/17 [00:00<00:00, 23.91it/s]\n",
      "Epoch 443/1000 [Validation]: 100%|██████████| 1/1 [00:00<00:00, 107.06it/s]\n"
     ]
    },
    {
     "name": "stdout",
     "output_type": "stream",
     "text": [
      "Epoch 443: Train Loss = 0.1382 | Val Loss = 0.1383\n"
     ]
    },
    {
     "name": "stderr",
     "output_type": "stream",
     "text": [
      "Epoch 444/1000 [Training]: 100%|██████████| 17/17 [00:00<00:00, 23.80it/s]\n",
      "Epoch 444/1000 [Validation]: 100%|██████████| 1/1 [00:00<00:00, 113.41it/s]\n"
     ]
    },
    {
     "name": "stdout",
     "output_type": "stream",
     "text": [
      "Epoch 444: Train Loss = 0.1382 | Val Loss = 0.1383\n"
     ]
    },
    {
     "name": "stderr",
     "output_type": "stream",
     "text": [
      "Epoch 445/1000 [Training]: 100%|██████████| 17/17 [00:00<00:00, 23.79it/s]\n",
      "Epoch 445/1000 [Validation]: 100%|██████████| 1/1 [00:00<00:00, 118.14it/s]\n"
     ]
    },
    {
     "name": "stdout",
     "output_type": "stream",
     "text": [
      "Epoch 445: Train Loss = 0.1382 | Val Loss = 0.1383\n"
     ]
    },
    {
     "name": "stderr",
     "output_type": "stream",
     "text": [
      "Epoch 446/1000 [Training]: 100%|██████████| 17/17 [00:00<00:00, 23.75it/s]\n",
      "Epoch 446/1000 [Validation]: 100%|██████████| 1/1 [00:00<00:00, 111.69it/s]\n"
     ]
    },
    {
     "name": "stdout",
     "output_type": "stream",
     "text": [
      "Epoch 446: Train Loss = 0.1382 | Val Loss = 0.1383\n"
     ]
    },
    {
     "name": "stderr",
     "output_type": "stream",
     "text": [
      "Epoch 447/1000 [Training]: 100%|██████████| 17/17 [00:00<00:00, 23.78it/s]\n",
      "Epoch 447/1000 [Validation]: 100%|██████████| 1/1 [00:00<00:00, 103.85it/s]\n"
     ]
    },
    {
     "name": "stdout",
     "output_type": "stream",
     "text": [
      "Epoch 447: Train Loss = 0.1382 | Val Loss = 0.1383\n"
     ]
    },
    {
     "name": "stderr",
     "output_type": "stream",
     "text": [
      "Epoch 448/1000 [Training]: 100%|██████████| 17/17 [00:00<00:00, 23.69it/s]\n",
      "Epoch 448/1000 [Validation]: 100%|██████████| 1/1 [00:00<00:00, 110.73it/s]\n"
     ]
    },
    {
     "name": "stdout",
     "output_type": "stream",
     "text": [
      "Epoch 448: Train Loss = 0.1382 | Val Loss = 0.1383\n"
     ]
    },
    {
     "name": "stderr",
     "output_type": "stream",
     "text": [
      "Epoch 449/1000 [Training]: 100%|██████████| 17/17 [00:00<00:00, 23.76it/s]\n",
      "Epoch 449/1000 [Validation]: 100%|██████████| 1/1 [00:00<00:00, 111.10it/s]\n"
     ]
    },
    {
     "name": "stdout",
     "output_type": "stream",
     "text": [
      "Epoch 449: Train Loss = 0.1382 | Val Loss = 0.1383\n"
     ]
    },
    {
     "name": "stderr",
     "output_type": "stream",
     "text": [
      "Epoch 450/1000 [Training]: 100%|██████████| 17/17 [00:00<00:00, 23.73it/s]\n",
      "Epoch 450/1000 [Validation]: 100%|██████████| 1/1 [00:00<00:00, 110.00it/s]\n"
     ]
    },
    {
     "name": "stdout",
     "output_type": "stream",
     "text": [
      "Epoch 450: Train Loss = 0.1382 | Val Loss = 0.1383\n"
     ]
    },
    {
     "name": "stderr",
     "output_type": "stream",
     "text": [
      "Epoch 451/1000 [Training]: 100%|██████████| 17/17 [00:00<00:00, 23.72it/s]\n",
      "Epoch 451/1000 [Validation]: 100%|██████████| 1/1 [00:00<00:00, 107.83it/s]\n"
     ]
    },
    {
     "name": "stdout",
     "output_type": "stream",
     "text": [
      "Epoch 451: Train Loss = 0.1382 | Val Loss = 0.1383\n"
     ]
    },
    {
     "name": "stderr",
     "output_type": "stream",
     "text": [
      "Epoch 452/1000 [Training]: 100%|██████████| 17/17 [00:00<00:00, 23.74it/s]\n",
      "Epoch 452/1000 [Validation]: 100%|██████████| 1/1 [00:00<00:00, 104.43it/s]\n"
     ]
    },
    {
     "name": "stdout",
     "output_type": "stream",
     "text": [
      "Epoch 452: Train Loss = 0.1382 | Val Loss = 0.1383\n"
     ]
    },
    {
     "name": "stderr",
     "output_type": "stream",
     "text": [
      "Epoch 453/1000 [Training]: 100%|██████████| 17/17 [00:00<00:00, 23.66it/s]\n",
      "Epoch 453/1000 [Validation]: 100%|██████████| 1/1 [00:00<00:00, 107.65it/s]\n"
     ]
    },
    {
     "name": "stdout",
     "output_type": "stream",
     "text": [
      "Epoch 453: Train Loss = 0.1382 | Val Loss = 0.1383\n"
     ]
    },
    {
     "name": "stderr",
     "output_type": "stream",
     "text": [
      "Epoch 454/1000 [Training]: 100%|██████████| 17/17 [00:00<00:00, 23.02it/s]\n",
      "Epoch 454/1000 [Validation]: 100%|██████████| 1/1 [00:00<00:00, 105.82it/s]\n"
     ]
    },
    {
     "name": "stdout",
     "output_type": "stream",
     "text": [
      "Epoch 454: Train Loss = 0.1382 | Val Loss = 0.1383\n"
     ]
    },
    {
     "name": "stderr",
     "output_type": "stream",
     "text": [
      "Epoch 455/1000 [Training]: 100%|██████████| 17/17 [00:00<00:00, 23.76it/s]\n",
      "Epoch 455/1000 [Validation]: 100%|██████████| 1/1 [00:00<00:00, 118.40it/s]\n"
     ]
    },
    {
     "name": "stdout",
     "output_type": "stream",
     "text": [
      "Epoch 455: Train Loss = 0.1382 | Val Loss = 0.1383\n"
     ]
    },
    {
     "name": "stderr",
     "output_type": "stream",
     "text": [
      "Epoch 456/1000 [Training]: 100%|██████████| 17/17 [00:00<00:00, 23.82it/s]\n",
      "Epoch 456/1000 [Validation]: 100%|██████████| 1/1 [00:00<00:00, 114.80it/s]\n"
     ]
    },
    {
     "name": "stdout",
     "output_type": "stream",
     "text": [
      "Epoch 456: Train Loss = 0.1382 | Val Loss = 0.1383\n"
     ]
    },
    {
     "name": "stderr",
     "output_type": "stream",
     "text": [
      "Epoch 457/1000 [Training]: 100%|██████████| 17/17 [00:00<00:00, 23.77it/s]\n",
      "Epoch 457/1000 [Validation]: 100%|██████████| 1/1 [00:00<00:00, 110.71it/s]\n"
     ]
    },
    {
     "name": "stdout",
     "output_type": "stream",
     "text": [
      "Epoch 457: Train Loss = 0.1382 | Val Loss = 0.1383\n"
     ]
    },
    {
     "name": "stderr",
     "output_type": "stream",
     "text": [
      "Epoch 458/1000 [Training]: 100%|██████████| 17/17 [00:00<00:00, 23.78it/s]\n",
      "Epoch 458/1000 [Validation]: 100%|██████████| 1/1 [00:00<00:00, 112.66it/s]\n"
     ]
    },
    {
     "name": "stdout",
     "output_type": "stream",
     "text": [
      "Epoch 458: Train Loss = 0.1382 | Val Loss = 0.1383\n"
     ]
    },
    {
     "name": "stderr",
     "output_type": "stream",
     "text": [
      "Epoch 459/1000 [Training]: 100%|██████████| 17/17 [00:00<00:00, 23.83it/s]\n",
      "Epoch 459/1000 [Validation]: 100%|██████████| 1/1 [00:00<00:00, 116.68it/s]\n"
     ]
    },
    {
     "name": "stdout",
     "output_type": "stream",
     "text": [
      "Epoch 459: Train Loss = 0.1382 | Val Loss = 0.1383\n"
     ]
    },
    {
     "name": "stderr",
     "output_type": "stream",
     "text": [
      "Epoch 460/1000 [Training]: 100%|██████████| 17/17 [00:00<00:00, 23.76it/s]\n",
      "Epoch 460/1000 [Validation]: 100%|██████████| 1/1 [00:00<00:00, 119.48it/s]\n"
     ]
    },
    {
     "name": "stdout",
     "output_type": "stream",
     "text": [
      "Epoch 460: Train Loss = 0.1382 | Val Loss = 0.1383\n"
     ]
    },
    {
     "name": "stderr",
     "output_type": "stream",
     "text": [
      "Epoch 461/1000 [Training]: 100%|██████████| 17/17 [00:00<00:00, 23.76it/s]\n",
      "Epoch 461/1000 [Validation]: 100%|██████████| 1/1 [00:00<00:00, 108.13it/s]\n"
     ]
    },
    {
     "name": "stdout",
     "output_type": "stream",
     "text": [
      "Epoch 461: Train Loss = 0.1382 | Val Loss = 0.1383\n"
     ]
    },
    {
     "name": "stderr",
     "output_type": "stream",
     "text": [
      "Epoch 462/1000 [Training]: 100%|██████████| 17/17 [00:00<00:00, 23.74it/s]\n",
      "Epoch 462/1000 [Validation]: 100%|██████████| 1/1 [00:00<00:00, 113.61it/s]\n"
     ]
    },
    {
     "name": "stdout",
     "output_type": "stream",
     "text": [
      "Epoch 462: Train Loss = 0.1382 | Val Loss = 0.1383\n"
     ]
    },
    {
     "name": "stderr",
     "output_type": "stream",
     "text": [
      "Epoch 463/1000 [Training]: 100%|██████████| 17/17 [00:00<00:00, 23.78it/s]\n",
      "Epoch 463/1000 [Validation]: 100%|██████████| 1/1 [00:00<00:00, 98.92it/s]\n"
     ]
    },
    {
     "name": "stdout",
     "output_type": "stream",
     "text": [
      "Epoch 463: Train Loss = 0.1382 | Val Loss = 0.1383\n"
     ]
    },
    {
     "name": "stderr",
     "output_type": "stream",
     "text": [
      "Epoch 464/1000 [Training]: 100%|██████████| 17/17 [00:00<00:00, 23.76it/s]\n",
      "Epoch 464/1000 [Validation]: 100%|██████████| 1/1 [00:00<00:00, 112.34it/s]\n"
     ]
    },
    {
     "name": "stdout",
     "output_type": "stream",
     "text": [
      "Epoch 464: Train Loss = 0.1382 | Val Loss = 0.1383\n"
     ]
    },
    {
     "name": "stderr",
     "output_type": "stream",
     "text": [
      "Epoch 465/1000 [Training]: 100%|██████████| 17/17 [00:00<00:00, 23.77it/s]\n",
      "Epoch 465/1000 [Validation]: 100%|██████████| 1/1 [00:00<00:00, 111.01it/s]\n"
     ]
    },
    {
     "name": "stdout",
     "output_type": "stream",
     "text": [
      "Epoch 465: Train Loss = 0.1382 | Val Loss = 0.1382\n"
     ]
    },
    {
     "name": "stderr",
     "output_type": "stream",
     "text": [
      "Epoch 466/1000 [Training]: 100%|██████████| 17/17 [00:00<00:00, 23.75it/s]\n",
      "Epoch 466/1000 [Validation]: 100%|██████████| 1/1 [00:00<00:00, 113.46it/s]\n"
     ]
    },
    {
     "name": "stdout",
     "output_type": "stream",
     "text": [
      "Epoch 466: Train Loss = 0.1382 | Val Loss = 0.1383\n"
     ]
    },
    {
     "name": "stderr",
     "output_type": "stream",
     "text": [
      "Epoch 467/1000 [Training]: 100%|██████████| 17/17 [00:00<00:00, 23.74it/s]\n",
      "Epoch 467/1000 [Validation]: 100%|██████████| 1/1 [00:00<00:00, 101.52it/s]\n"
     ]
    },
    {
     "name": "stdout",
     "output_type": "stream",
     "text": [
      "Epoch 467: Train Loss = 0.1382 | Val Loss = 0.1383\n"
     ]
    },
    {
     "name": "stderr",
     "output_type": "stream",
     "text": [
      "Epoch 468/1000 [Training]: 100%|██████████| 17/17 [00:00<00:00, 23.38it/s]\n",
      "Epoch 468/1000 [Validation]: 100%|██████████| 1/1 [00:00<00:00, 106.21it/s]\n"
     ]
    },
    {
     "name": "stdout",
     "output_type": "stream",
     "text": [
      "Epoch 468: Train Loss = 0.1382 | Val Loss = 0.1383\n"
     ]
    },
    {
     "name": "stderr",
     "output_type": "stream",
     "text": [
      "Epoch 469/1000 [Training]: 100%|██████████| 17/17 [00:00<00:00, 23.75it/s]\n",
      "Epoch 469/1000 [Validation]: 100%|██████████| 1/1 [00:00<00:00, 113.39it/s]\n"
     ]
    },
    {
     "name": "stdout",
     "output_type": "stream",
     "text": [
      "Epoch 469: Train Loss = 0.1382 | Val Loss = 0.1383\n"
     ]
    },
    {
     "name": "stderr",
     "output_type": "stream",
     "text": [
      "Epoch 470/1000 [Training]: 100%|██████████| 17/17 [00:00<00:00, 23.77it/s]\n",
      "Epoch 470/1000 [Validation]: 100%|██████████| 1/1 [00:00<00:00, 113.41it/s]\n"
     ]
    },
    {
     "name": "stdout",
     "output_type": "stream",
     "text": [
      "Epoch 470: Train Loss = 0.1382 | Val Loss = 0.1382\n"
     ]
    },
    {
     "name": "stderr",
     "output_type": "stream",
     "text": [
      "Epoch 471/1000 [Training]: 100%|██████████| 17/17 [00:00<00:00, 23.79it/s]\n",
      "Epoch 471/1000 [Validation]: 100%|██████████| 1/1 [00:00<00:00, 106.45it/s]\n"
     ]
    },
    {
     "name": "stdout",
     "output_type": "stream",
     "text": [
      "Epoch 471: Train Loss = 0.1382 | Val Loss = 0.1383\n"
     ]
    },
    {
     "name": "stderr",
     "output_type": "stream",
     "text": [
      "Epoch 472/1000 [Training]: 100%|██████████| 17/17 [00:00<00:00, 23.71it/s]\n",
      "Epoch 472/1000 [Validation]: 100%|██████████| 1/1 [00:00<00:00, 107.70it/s]\n"
     ]
    },
    {
     "name": "stdout",
     "output_type": "stream",
     "text": [
      "Epoch 472: Train Loss = 0.1382 | Val Loss = 0.1383\n"
     ]
    },
    {
     "name": "stderr",
     "output_type": "stream",
     "text": [
      "Epoch 473/1000 [Training]: 100%|██████████| 17/17 [00:00<00:00, 23.77it/s]\n",
      "Epoch 473/1000 [Validation]: 100%|██████████| 1/1 [00:00<00:00, 114.78it/s]\n"
     ]
    },
    {
     "name": "stdout",
     "output_type": "stream",
     "text": [
      "Epoch 473: Train Loss = 0.1382 | Val Loss = 0.1383\n"
     ]
    },
    {
     "name": "stderr",
     "output_type": "stream",
     "text": [
      "Epoch 474/1000 [Training]: 100%|██████████| 17/17 [00:00<00:00, 23.79it/s]\n",
      "Epoch 474/1000 [Validation]: 100%|██████████| 1/1 [00:00<00:00, 113.55it/s]\n"
     ]
    },
    {
     "name": "stdout",
     "output_type": "stream",
     "text": [
      "Epoch 474: Train Loss = 0.1382 | Val Loss = 0.1383\n"
     ]
    },
    {
     "name": "stderr",
     "output_type": "stream",
     "text": [
      "Epoch 475/1000 [Training]: 100%|██████████| 17/17 [00:00<00:00, 23.79it/s]\n",
      "Epoch 475/1000 [Validation]: 100%|██████████| 1/1 [00:00<00:00, 110.46it/s]\n"
     ]
    },
    {
     "name": "stdout",
     "output_type": "stream",
     "text": [
      "Epoch 475: Train Loss = 0.1382 | Val Loss = 0.1383\n"
     ]
    },
    {
     "name": "stderr",
     "output_type": "stream",
     "text": [
      "Epoch 476/1000 [Training]: 100%|██████████| 17/17 [00:00<00:00, 23.76it/s]\n",
      "Epoch 476/1000 [Validation]: 100%|██████████| 1/1 [00:00<00:00, 110.82it/s]\n"
     ]
    },
    {
     "name": "stdout",
     "output_type": "stream",
     "text": [
      "Epoch 476: Train Loss = 0.1382 | Val Loss = 0.1383\n"
     ]
    },
    {
     "name": "stderr",
     "output_type": "stream",
     "text": [
      "Epoch 477/1000 [Training]: 100%|██████████| 17/17 [00:00<00:00, 22.42it/s]\n",
      "Epoch 477/1000 [Validation]: 100%|██████████| 1/1 [00:00<00:00, 78.90it/s]\n"
     ]
    },
    {
     "name": "stdout",
     "output_type": "stream",
     "text": [
      "Epoch 477: Train Loss = 0.1382 | Val Loss = 0.1382\n"
     ]
    },
    {
     "name": "stderr",
     "output_type": "stream",
     "text": [
      "Epoch 478/1000 [Training]: 100%|██████████| 17/17 [00:00<00:00, 22.77it/s]\n",
      "Epoch 478/1000 [Validation]: 100%|██████████| 1/1 [00:00<00:00, 110.20it/s]\n"
     ]
    },
    {
     "name": "stdout",
     "output_type": "stream",
     "text": [
      "Epoch 478: Train Loss = 0.1382 | Val Loss = 0.1383\n"
     ]
    },
    {
     "name": "stderr",
     "output_type": "stream",
     "text": [
      "Epoch 479/1000 [Training]: 100%|██████████| 17/17 [00:00<00:00, 23.44it/s]\n",
      "Epoch 479/1000 [Validation]: 100%|██████████| 1/1 [00:00<00:00, 107.74it/s]\n"
     ]
    },
    {
     "name": "stdout",
     "output_type": "stream",
     "text": [
      "Epoch 479: Train Loss = 0.1382 | Val Loss = 0.1383\n"
     ]
    },
    {
     "name": "stderr",
     "output_type": "stream",
     "text": [
      "Epoch 480/1000 [Training]: 100%|██████████| 17/17 [00:00<00:00, 23.71it/s]\n",
      "Epoch 480/1000 [Validation]: 100%|██████████| 1/1 [00:00<00:00, 105.41it/s]\n"
     ]
    },
    {
     "name": "stdout",
     "output_type": "stream",
     "text": [
      "Epoch 480: Train Loss = 0.1382 | Val Loss = 0.1383\n"
     ]
    },
    {
     "name": "stderr",
     "output_type": "stream",
     "text": [
      "Epoch 481/1000 [Training]: 100%|██████████| 17/17 [00:00<00:00, 23.19it/s]\n",
      "Epoch 481/1000 [Validation]: 100%|██████████| 1/1 [00:00<00:00, 111.92it/s]\n"
     ]
    },
    {
     "name": "stdout",
     "output_type": "stream",
     "text": [
      "Epoch 481: Train Loss = 0.1382 | Val Loss = 0.1383\n"
     ]
    },
    {
     "name": "stderr",
     "output_type": "stream",
     "text": [
      "Epoch 482/1000 [Training]: 100%|██████████| 17/17 [00:00<00:00, 23.76it/s]\n",
      "Epoch 482/1000 [Validation]: 100%|██████████| 1/1 [00:00<00:00, 113.78it/s]\n"
     ]
    },
    {
     "name": "stdout",
     "output_type": "stream",
     "text": [
      "Epoch 482: Train Loss = 0.1382 | Val Loss = 0.1383\n"
     ]
    },
    {
     "name": "stderr",
     "output_type": "stream",
     "text": [
      "Epoch 483/1000 [Training]: 100%|██████████| 17/17 [00:00<00:00, 23.80it/s]\n",
      "Epoch 483/1000 [Validation]: 100%|██████████| 1/1 [00:00<00:00, 102.16it/s]\n"
     ]
    },
    {
     "name": "stdout",
     "output_type": "stream",
     "text": [
      "Epoch 483: Train Loss = 0.1382 | Val Loss = 0.1383\n"
     ]
    },
    {
     "name": "stderr",
     "output_type": "stream",
     "text": [
      "Epoch 484/1000 [Training]: 100%|██████████| 17/17 [00:00<00:00, 23.76it/s]\n",
      "Epoch 484/1000 [Validation]: 100%|██████████| 1/1 [00:00<00:00, 115.52it/s]\n"
     ]
    },
    {
     "name": "stdout",
     "output_type": "stream",
     "text": [
      "Epoch 484: Train Loss = 0.1382 | Val Loss = 0.1382\n"
     ]
    },
    {
     "name": "stderr",
     "output_type": "stream",
     "text": [
      "Epoch 485/1000 [Training]: 100%|██████████| 17/17 [00:00<00:00, 23.73it/s]\n",
      "Epoch 485/1000 [Validation]: 100%|██████████| 1/1 [00:00<00:00, 108.68it/s]\n"
     ]
    },
    {
     "name": "stdout",
     "output_type": "stream",
     "text": [
      "Epoch 485: Train Loss = 0.1382 | Val Loss = 0.1383\n"
     ]
    },
    {
     "name": "stderr",
     "output_type": "stream",
     "text": [
      "Epoch 486/1000 [Training]: 100%|██████████| 17/17 [00:00<00:00, 23.74it/s]\n",
      "Epoch 486/1000 [Validation]: 100%|██████████| 1/1 [00:00<00:00, 99.10it/s]\n"
     ]
    },
    {
     "name": "stdout",
     "output_type": "stream",
     "text": [
      "Epoch 486: Train Loss = 0.1382 | Val Loss = 0.1383\n"
     ]
    },
    {
     "name": "stderr",
     "output_type": "stream",
     "text": [
      "Epoch 487/1000 [Training]: 100%|██████████| 17/17 [00:00<00:00, 23.69it/s]\n",
      "Epoch 487/1000 [Validation]: 100%|██████████| 1/1 [00:00<00:00, 100.41it/s]\n"
     ]
    },
    {
     "name": "stdout",
     "output_type": "stream",
     "text": [
      "Epoch 487: Train Loss = 0.1382 | Val Loss = 0.1383\n"
     ]
    },
    {
     "name": "stderr",
     "output_type": "stream",
     "text": [
      "Epoch 488/1000 [Training]: 100%|██████████| 17/17 [00:00<00:00, 23.81it/s]\n",
      "Epoch 488/1000 [Validation]: 100%|██████████| 1/1 [00:00<00:00, 114.45it/s]\n"
     ]
    },
    {
     "name": "stdout",
     "output_type": "stream",
     "text": [
      "Epoch 488: Train Loss = 0.1382 | Val Loss = 0.1383\n"
     ]
    },
    {
     "name": "stderr",
     "output_type": "stream",
     "text": [
      "Epoch 489/1000 [Training]: 100%|██████████| 17/17 [00:00<00:00, 23.79it/s]\n",
      "Epoch 489/1000 [Validation]: 100%|██████████| 1/1 [00:00<00:00, 110.74it/s]\n"
     ]
    },
    {
     "name": "stdout",
     "output_type": "stream",
     "text": [
      "Epoch 489: Train Loss = 0.1382 | Val Loss = 0.1383\n"
     ]
    },
    {
     "name": "stderr",
     "output_type": "stream",
     "text": [
      "Epoch 490/1000 [Training]: 100%|██████████| 17/17 [00:00<00:00, 23.76it/s]\n",
      "Epoch 490/1000 [Validation]: 100%|██████████| 1/1 [00:00<00:00, 113.01it/s]\n"
     ]
    },
    {
     "name": "stdout",
     "output_type": "stream",
     "text": [
      "Epoch 490: Train Loss = 0.1382 | Val Loss = 0.1382\n"
     ]
    },
    {
     "name": "stderr",
     "output_type": "stream",
     "text": [
      "Epoch 491/1000 [Training]: 100%|██████████| 17/17 [00:00<00:00, 23.76it/s]\n",
      "Epoch 491/1000 [Validation]: 100%|██████████| 1/1 [00:00<00:00, 108.42it/s]\n"
     ]
    },
    {
     "name": "stdout",
     "output_type": "stream",
     "text": [
      "Epoch 491: Train Loss = 0.1382 | Val Loss = 0.1382\n"
     ]
    },
    {
     "name": "stderr",
     "output_type": "stream",
     "text": [
      "Epoch 492/1000 [Training]: 100%|██████████| 17/17 [00:00<00:00, 23.80it/s]\n",
      "Epoch 492/1000 [Validation]: 100%|██████████| 1/1 [00:00<00:00, 116.52it/s]\n"
     ]
    },
    {
     "name": "stdout",
     "output_type": "stream",
     "text": [
      "Epoch 492: Train Loss = 0.1382 | Val Loss = 0.1383\n"
     ]
    },
    {
     "name": "stderr",
     "output_type": "stream",
     "text": [
      "Epoch 493/1000 [Training]: 100%|██████████| 17/17 [00:00<00:00, 23.79it/s]\n",
      "Epoch 493/1000 [Validation]: 100%|██████████| 1/1 [00:00<00:00, 101.68it/s]\n"
     ]
    },
    {
     "name": "stdout",
     "output_type": "stream",
     "text": [
      "Epoch 493: Train Loss = 0.1382 | Val Loss = 0.1383\n"
     ]
    },
    {
     "name": "stderr",
     "output_type": "stream",
     "text": [
      "Epoch 494/1000 [Training]: 100%|██████████| 17/17 [00:00<00:00, 23.46it/s]\n",
      "Epoch 494/1000 [Validation]: 100%|██████████| 1/1 [00:00<00:00, 78.55it/s]\n"
     ]
    },
    {
     "name": "stdout",
     "output_type": "stream",
     "text": [
      "Epoch 494: Train Loss = 0.1382 | Val Loss = 0.1383\n"
     ]
    },
    {
     "name": "stderr",
     "output_type": "stream",
     "text": [
      "Epoch 495/1000 [Training]: 100%|██████████| 17/17 [00:00<00:00, 23.11it/s]\n",
      "Epoch 495/1000 [Validation]: 100%|██████████| 1/1 [00:00<00:00, 109.99it/s]\n"
     ]
    },
    {
     "name": "stdout",
     "output_type": "stream",
     "text": [
      "Epoch 495: Train Loss = 0.1382 | Val Loss = 0.1383\n"
     ]
    },
    {
     "name": "stderr",
     "output_type": "stream",
     "text": [
      "Epoch 496/1000 [Training]: 100%|██████████| 17/17 [00:00<00:00, 23.78it/s]\n",
      "Epoch 496/1000 [Validation]: 100%|██████████| 1/1 [00:00<00:00, 109.53it/s]\n"
     ]
    },
    {
     "name": "stdout",
     "output_type": "stream",
     "text": [
      "Epoch 496: Train Loss = 0.1382 | Val Loss = 0.1383\n"
     ]
    },
    {
     "name": "stderr",
     "output_type": "stream",
     "text": [
      "Epoch 497/1000 [Training]: 100%|██████████| 17/17 [00:00<00:00, 23.74it/s]\n",
      "Epoch 497/1000 [Validation]: 100%|██████████| 1/1 [00:00<00:00, 109.27it/s]\n"
     ]
    },
    {
     "name": "stdout",
     "output_type": "stream",
     "text": [
      "Epoch 497: Train Loss = 0.1382 | Val Loss = 0.1383\n"
     ]
    },
    {
     "name": "stderr",
     "output_type": "stream",
     "text": [
      "Epoch 498/1000 [Training]: 100%|██████████| 17/17 [00:00<00:00, 23.78it/s]\n",
      "Epoch 498/1000 [Validation]: 100%|██████████| 1/1 [00:00<00:00, 106.49it/s]\n"
     ]
    },
    {
     "name": "stdout",
     "output_type": "stream",
     "text": [
      "Epoch 498: Train Loss = 0.1382 | Val Loss = 0.1383\n"
     ]
    },
    {
     "name": "stderr",
     "output_type": "stream",
     "text": [
      "Epoch 499/1000 [Training]: 100%|██████████| 17/17 [00:00<00:00, 23.76it/s]\n",
      "Epoch 499/1000 [Validation]: 100%|██████████| 1/1 [00:00<00:00, 112.12it/s]\n"
     ]
    },
    {
     "name": "stdout",
     "output_type": "stream",
     "text": [
      "Epoch 499: Train Loss = 0.1382 | Val Loss = 0.1383\n"
     ]
    },
    {
     "name": "stderr",
     "output_type": "stream",
     "text": [
      "Epoch 500/1000 [Training]: 100%|██████████| 17/17 [00:00<00:00, 23.78it/s]\n",
      "Epoch 500/1000 [Validation]: 100%|██████████| 1/1 [00:00<00:00, 107.80it/s]\n"
     ]
    },
    {
     "name": "stdout",
     "output_type": "stream",
     "text": [
      "Epoch 500: Train Loss = 0.1382 | Val Loss = 0.1383\n"
     ]
    },
    {
     "name": "stderr",
     "output_type": "stream",
     "text": [
      "Epoch 501/1000 [Training]: 100%|██████████| 17/17 [00:00<00:00, 23.76it/s]\n",
      "Epoch 501/1000 [Validation]: 100%|██████████| 1/1 [00:00<00:00, 113.69it/s]\n"
     ]
    },
    {
     "name": "stdout",
     "output_type": "stream",
     "text": [
      "Epoch 501: Train Loss = 0.1382 | Val Loss = 0.1383\n"
     ]
    },
    {
     "name": "stderr",
     "output_type": "stream",
     "text": [
      "Epoch 502/1000 [Training]: 100%|██████████| 17/17 [00:00<00:00, 23.75it/s]\n",
      "Epoch 502/1000 [Validation]: 100%|██████████| 1/1 [00:00<00:00, 112.40it/s]\n"
     ]
    },
    {
     "name": "stdout",
     "output_type": "stream",
     "text": [
      "Epoch 502: Train Loss = 0.1382 | Val Loss = 0.1383\n"
     ]
    },
    {
     "name": "stderr",
     "output_type": "stream",
     "text": [
      "Epoch 503/1000 [Training]: 100%|██████████| 17/17 [00:00<00:00, 23.81it/s]\n",
      "Epoch 503/1000 [Validation]: 100%|██████████| 1/1 [00:00<00:00, 119.77it/s]\n"
     ]
    },
    {
     "name": "stdout",
     "output_type": "stream",
     "text": [
      "Epoch 503: Train Loss = 0.1382 | Val Loss = 0.1383\n"
     ]
    },
    {
     "name": "stderr",
     "output_type": "stream",
     "text": [
      "Epoch 504/1000 [Training]: 100%|██████████| 17/17 [00:00<00:00, 23.80it/s]\n",
      "Epoch 504/1000 [Validation]: 100%|██████████| 1/1 [00:00<00:00, 114.71it/s]\n"
     ]
    },
    {
     "name": "stdout",
     "output_type": "stream",
     "text": [
      "Epoch 504: Train Loss = 0.1382 | Val Loss = 0.1383\n"
     ]
    },
    {
     "name": "stderr",
     "output_type": "stream",
     "text": [
      "Epoch 505/1000 [Training]: 100%|██████████| 17/17 [00:00<00:00, 23.74it/s]\n",
      "Epoch 505/1000 [Validation]: 100%|██████████| 1/1 [00:00<00:00, 110.80it/s]\n"
     ]
    },
    {
     "name": "stdout",
     "output_type": "stream",
     "text": [
      "Epoch 505: Train Loss = 0.1382 | Val Loss = 0.1383\n"
     ]
    },
    {
     "name": "stderr",
     "output_type": "stream",
     "text": [
      "Epoch 506/1000 [Training]: 100%|██████████| 17/17 [00:00<00:00, 23.65it/s]\n",
      "Epoch 506/1000 [Validation]: 100%|██████████| 1/1 [00:00<00:00, 102.11it/s]\n"
     ]
    },
    {
     "name": "stdout",
     "output_type": "stream",
     "text": [
      "Epoch 506: Train Loss = 0.1382 | Val Loss = 0.1383\n"
     ]
    },
    {
     "name": "stderr",
     "output_type": "stream",
     "text": [
      "Epoch 507/1000 [Training]: 100%|██████████| 17/17 [00:00<00:00, 23.72it/s]\n",
      "Epoch 507/1000 [Validation]: 100%|██████████| 1/1 [00:00<00:00, 113.48it/s]\n"
     ]
    },
    {
     "name": "stdout",
     "output_type": "stream",
     "text": [
      "Epoch 507: Train Loss = 0.1382 | Val Loss = 0.1383\n"
     ]
    },
    {
     "name": "stderr",
     "output_type": "stream",
     "text": [
      "Epoch 508/1000 [Training]: 100%|██████████| 17/17 [00:00<00:00, 23.76it/s]\n",
      "Epoch 508/1000 [Validation]: 100%|██████████| 1/1 [00:00<00:00, 116.19it/s]\n"
     ]
    },
    {
     "name": "stdout",
     "output_type": "stream",
     "text": [
      "Epoch 508: Train Loss = 0.1382 | Val Loss = 0.1383\n"
     ]
    },
    {
     "name": "stderr",
     "output_type": "stream",
     "text": [
      "Epoch 509/1000 [Training]: 100%|██████████| 17/17 [00:00<00:00, 23.44it/s]\n",
      "Epoch 509/1000 [Validation]: 100%|██████████| 1/1 [00:00<00:00, 110.59it/s]\n"
     ]
    },
    {
     "name": "stdout",
     "output_type": "stream",
     "text": [
      "Epoch 509: Train Loss = 0.1382 | Val Loss = 0.1383\n"
     ]
    },
    {
     "name": "stderr",
     "output_type": "stream",
     "text": [
      "Epoch 510/1000 [Training]: 100%|██████████| 17/17 [00:00<00:00, 23.77it/s]\n",
      "Epoch 510/1000 [Validation]: 100%|██████████| 1/1 [00:00<00:00, 112.90it/s]\n"
     ]
    },
    {
     "name": "stdout",
     "output_type": "stream",
     "text": [
      "Epoch 510: Train Loss = 0.1382 | Val Loss = 0.1383\n"
     ]
    },
    {
     "name": "stderr",
     "output_type": "stream",
     "text": [
      "Epoch 511/1000 [Training]: 100%|██████████| 17/17 [00:00<00:00, 23.79it/s]\n",
      "Epoch 511/1000 [Validation]: 100%|██████████| 1/1 [00:00<00:00, 117.56it/s]\n"
     ]
    },
    {
     "name": "stdout",
     "output_type": "stream",
     "text": [
      "Epoch 511: Train Loss = 0.1382 | Val Loss = 0.1383\n"
     ]
    },
    {
     "name": "stderr",
     "output_type": "stream",
     "text": [
      "Epoch 512/1000 [Training]: 100%|██████████| 17/17 [00:00<00:00, 23.78it/s]\n",
      "Epoch 512/1000 [Validation]: 100%|██████████| 1/1 [00:00<00:00, 114.13it/s]\n"
     ]
    },
    {
     "name": "stdout",
     "output_type": "stream",
     "text": [
      "Epoch 512: Train Loss = 0.1382 | Val Loss = 0.1382\n"
     ]
    },
    {
     "name": "stderr",
     "output_type": "stream",
     "text": [
      "Epoch 513/1000 [Training]: 100%|██████████| 17/17 [00:00<00:00, 23.78it/s]\n",
      "Epoch 513/1000 [Validation]: 100%|██████████| 1/1 [00:00<00:00, 119.01it/s]\n"
     ]
    },
    {
     "name": "stdout",
     "output_type": "stream",
     "text": [
      "Epoch 513: Train Loss = 0.1382 | Val Loss = 0.1383\n"
     ]
    },
    {
     "name": "stderr",
     "output_type": "stream",
     "text": [
      "Epoch 514/1000 [Training]: 100%|██████████| 17/17 [00:00<00:00, 23.74it/s]\n",
      "Epoch 514/1000 [Validation]: 100%|██████████| 1/1 [00:00<00:00, 115.88it/s]\n"
     ]
    },
    {
     "name": "stdout",
     "output_type": "stream",
     "text": [
      "Epoch 514: Train Loss = 0.1382 | Val Loss = 0.1382\n"
     ]
    },
    {
     "name": "stderr",
     "output_type": "stream",
     "text": [
      "Epoch 515/1000 [Training]: 100%|██████████| 17/17 [00:00<00:00, 23.74it/s]\n",
      "Epoch 515/1000 [Validation]: 100%|██████████| 1/1 [00:00<00:00, 114.30it/s]\n"
     ]
    },
    {
     "name": "stdout",
     "output_type": "stream",
     "text": [
      "Epoch 515: Train Loss = 0.1382 | Val Loss = 0.1383\n"
     ]
    },
    {
     "name": "stderr",
     "output_type": "stream",
     "text": [
      "Epoch 516/1000 [Training]: 100%|██████████| 17/17 [00:00<00:00, 23.83it/s]\n",
      "Epoch 516/1000 [Validation]: 100%|██████████| 1/1 [00:00<00:00, 110.64it/s]\n"
     ]
    },
    {
     "name": "stdout",
     "output_type": "stream",
     "text": [
      "Epoch 516: Train Loss = 0.1382 | Val Loss = 0.1383\n"
     ]
    },
    {
     "name": "stderr",
     "output_type": "stream",
     "text": [
      "Epoch 517/1000 [Training]: 100%|██████████| 17/17 [00:00<00:00, 23.73it/s]\n",
      "Epoch 517/1000 [Validation]: 100%|██████████| 1/1 [00:00<00:00, 108.59it/s]\n"
     ]
    },
    {
     "name": "stdout",
     "output_type": "stream",
     "text": [
      "Epoch 517: Train Loss = 0.1382 | Val Loss = 0.1383\n"
     ]
    },
    {
     "name": "stderr",
     "output_type": "stream",
     "text": [
      "Epoch 518/1000 [Training]: 100%|██████████| 17/17 [00:00<00:00, 23.78it/s]\n",
      "Epoch 518/1000 [Validation]: 100%|██████████| 1/1 [00:00<00:00, 98.81it/s]\n"
     ]
    },
    {
     "name": "stdout",
     "output_type": "stream",
     "text": [
      "Epoch 518: Train Loss = 0.1382 | Val Loss = 0.1382\n"
     ]
    },
    {
     "name": "stderr",
     "output_type": "stream",
     "text": [
      "Epoch 519/1000 [Training]: 100%|██████████| 17/17 [00:00<00:00, 23.79it/s]\n",
      "Epoch 519/1000 [Validation]: 100%|██████████| 1/1 [00:00<00:00, 97.28it/s]\n"
     ]
    },
    {
     "name": "stdout",
     "output_type": "stream",
     "text": [
      "Epoch 519: Train Loss = 0.1382 | Val Loss = 0.1382\n"
     ]
    },
    {
     "name": "stderr",
     "output_type": "stream",
     "text": [
      "Epoch 520/1000 [Training]: 100%|██████████| 17/17 [00:00<00:00, 23.49it/s]\n",
      "Epoch 520/1000 [Validation]: 100%|██████████| 1/1 [00:00<00:00, 103.35it/s]\n"
     ]
    },
    {
     "name": "stdout",
     "output_type": "stream",
     "text": [
      "Epoch 520: Train Loss = 0.1382 | Val Loss = 0.1383\n"
     ]
    },
    {
     "name": "stderr",
     "output_type": "stream",
     "text": [
      "Epoch 521/1000 [Training]: 100%|██████████| 17/17 [00:00<00:00, 23.03it/s]\n",
      "Epoch 521/1000 [Validation]: 100%|██████████| 1/1 [00:00<00:00, 105.34it/s]\n"
     ]
    },
    {
     "name": "stdout",
     "output_type": "stream",
     "text": [
      "Epoch 521: Train Loss = 0.1382 | Val Loss = 0.1382\n"
     ]
    },
    {
     "name": "stderr",
     "output_type": "stream",
     "text": [
      "Epoch 522/1000 [Training]: 100%|██████████| 17/17 [00:00<00:00, 23.45it/s]\n",
      "Epoch 522/1000 [Validation]: 100%|██████████| 1/1 [00:00<00:00, 115.68it/s]\n"
     ]
    },
    {
     "name": "stdout",
     "output_type": "stream",
     "text": [
      "Epoch 522: Train Loss = 0.1382 | Val Loss = 0.1383\n"
     ]
    },
    {
     "name": "stderr",
     "output_type": "stream",
     "text": [
      "Epoch 523/1000 [Training]: 100%|██████████| 17/17 [00:00<00:00, 23.74it/s]\n",
      "Epoch 523/1000 [Validation]: 100%|██████████| 1/1 [00:00<00:00, 111.49it/s]\n"
     ]
    },
    {
     "name": "stdout",
     "output_type": "stream",
     "text": [
      "Epoch 523: Train Loss = 0.1382 | Val Loss = 0.1383\n"
     ]
    },
    {
     "name": "stderr",
     "output_type": "stream",
     "text": [
      "Epoch 524/1000 [Training]: 100%|██████████| 17/17 [00:00<00:00, 23.75it/s]\n",
      "Epoch 524/1000 [Validation]: 100%|██████████| 1/1 [00:00<00:00, 111.12it/s]\n"
     ]
    },
    {
     "name": "stdout",
     "output_type": "stream",
     "text": [
      "Epoch 524: Train Loss = 0.1382 | Val Loss = 0.1382\n"
     ]
    },
    {
     "name": "stderr",
     "output_type": "stream",
     "text": [
      "Epoch 525/1000 [Training]: 100%|██████████| 17/17 [00:00<00:00, 23.78it/s]\n",
      "Epoch 525/1000 [Validation]: 100%|██████████| 1/1 [00:00<00:00, 114.55it/s]\n"
     ]
    },
    {
     "name": "stdout",
     "output_type": "stream",
     "text": [
      "Epoch 525: Train Loss = 0.1382 | Val Loss = 0.1382\n"
     ]
    },
    {
     "name": "stderr",
     "output_type": "stream",
     "text": [
      "Epoch 526/1000 [Training]: 100%|██████████| 17/17 [00:00<00:00, 23.78it/s]\n",
      "Epoch 526/1000 [Validation]: 100%|██████████| 1/1 [00:00<00:00, 110.29it/s]\n"
     ]
    },
    {
     "name": "stdout",
     "output_type": "stream",
     "text": [
      "Epoch 526: Train Loss = 0.1382 | Val Loss = 0.1382\n"
     ]
    },
    {
     "name": "stderr",
     "output_type": "stream",
     "text": [
      "Epoch 527/1000 [Training]: 100%|██████████| 17/17 [00:00<00:00, 23.71it/s]\n",
      "Epoch 527/1000 [Validation]: 100%|██████████| 1/1 [00:00<00:00, 110.50it/s]\n"
     ]
    },
    {
     "name": "stdout",
     "output_type": "stream",
     "text": [
      "Epoch 527: Train Loss = 0.1382 | Val Loss = 0.1382\n"
     ]
    },
    {
     "name": "stderr",
     "output_type": "stream",
     "text": [
      "Epoch 528/1000 [Training]: 100%|██████████| 17/17 [00:00<00:00, 23.80it/s]\n",
      "Epoch 528/1000 [Validation]: 100%|██████████| 1/1 [00:00<00:00, 114.35it/s]\n"
     ]
    },
    {
     "name": "stdout",
     "output_type": "stream",
     "text": [
      "Epoch 528: Train Loss = 0.1382 | Val Loss = 0.1382\n"
     ]
    },
    {
     "name": "stderr",
     "output_type": "stream",
     "text": [
      "Epoch 529/1000 [Training]: 100%|██████████| 17/17 [00:00<00:00, 23.80it/s]\n",
      "Epoch 529/1000 [Validation]: 100%|██████████| 1/1 [00:00<00:00, 105.07it/s]\n"
     ]
    },
    {
     "name": "stdout",
     "output_type": "stream",
     "text": [
      "Epoch 529: Train Loss = 0.1382 | Val Loss = 0.1383\n"
     ]
    },
    {
     "name": "stderr",
     "output_type": "stream",
     "text": [
      "Epoch 530/1000 [Training]: 100%|██████████| 17/17 [00:00<00:00, 23.74it/s]\n",
      "Epoch 530/1000 [Validation]: 100%|██████████| 1/1 [00:00<00:00, 114.61it/s]\n"
     ]
    },
    {
     "name": "stdout",
     "output_type": "stream",
     "text": [
      "Epoch 530: Train Loss = 0.1382 | Val Loss = 0.1383\n"
     ]
    },
    {
     "name": "stderr",
     "output_type": "stream",
     "text": [
      "Epoch 531/1000 [Training]: 100%|██████████| 17/17 [00:00<00:00, 23.82it/s]\n",
      "Epoch 531/1000 [Validation]: 100%|██████████| 1/1 [00:00<00:00, 111.59it/s]\n"
     ]
    },
    {
     "name": "stdout",
     "output_type": "stream",
     "text": [
      "Epoch 531: Train Loss = 0.1382 | Val Loss = 0.1382\n"
     ]
    },
    {
     "name": "stderr",
     "output_type": "stream",
     "text": [
      "Epoch 532/1000 [Training]: 100%|██████████| 17/17 [00:00<00:00, 23.80it/s]\n",
      "Epoch 532/1000 [Validation]: 100%|██████████| 1/1 [00:00<00:00, 110.52it/s]\n"
     ]
    },
    {
     "name": "stdout",
     "output_type": "stream",
     "text": [
      "Epoch 532: Train Loss = 0.1382 | Val Loss = 0.1382\n"
     ]
    },
    {
     "name": "stderr",
     "output_type": "stream",
     "text": [
      "Epoch 533/1000 [Training]: 100%|██████████| 17/17 [00:00<00:00, 23.79it/s]\n",
      "Epoch 533/1000 [Validation]: 100%|██████████| 1/1 [00:00<00:00, 98.05it/s]\n"
     ]
    },
    {
     "name": "stdout",
     "output_type": "stream",
     "text": [
      "Epoch 533: Train Loss = 0.1382 | Val Loss = 0.1382\n"
     ]
    },
    {
     "name": "stderr",
     "output_type": "stream",
     "text": [
      "Epoch 534/1000 [Training]: 100%|██████████| 17/17 [00:00<00:00, 23.80it/s]\n",
      "Epoch 534/1000 [Validation]: 100%|██████████| 1/1 [00:00<00:00, 117.39it/s]\n"
     ]
    },
    {
     "name": "stdout",
     "output_type": "stream",
     "text": [
      "Epoch 534: Train Loss = 0.1382 | Val Loss = 0.1382\n"
     ]
    },
    {
     "name": "stderr",
     "output_type": "stream",
     "text": [
      "Epoch 535/1000 [Training]: 100%|██████████| 17/17 [00:00<00:00, 23.76it/s]\n",
      "Epoch 535/1000 [Validation]: 100%|██████████| 1/1 [00:00<00:00, 110.97it/s]\n"
     ]
    },
    {
     "name": "stdout",
     "output_type": "stream",
     "text": [
      "Epoch 535: Train Loss = 0.1382 | Val Loss = 0.1383\n"
     ]
    },
    {
     "name": "stderr",
     "output_type": "stream",
     "text": [
      "Epoch 536/1000 [Training]: 100%|██████████| 17/17 [00:00<00:00, 22.50it/s]\n",
      "Epoch 536/1000 [Validation]: 100%|██████████| 1/1 [00:00<00:00, 113.85it/s]\n"
     ]
    },
    {
     "name": "stdout",
     "output_type": "stream",
     "text": [
      "Epoch 536: Train Loss = 0.1382 | Val Loss = 0.1382\n"
     ]
    },
    {
     "name": "stderr",
     "output_type": "stream",
     "text": [
      "Epoch 537/1000 [Training]: 100%|██████████| 17/17 [00:00<00:00, 23.79it/s]\n",
      "Epoch 537/1000 [Validation]: 100%|██████████| 1/1 [00:00<00:00, 105.62it/s]\n"
     ]
    },
    {
     "name": "stdout",
     "output_type": "stream",
     "text": [
      "Epoch 537: Train Loss = 0.1382 | Val Loss = 0.1382\n"
     ]
    },
    {
     "name": "stderr",
     "output_type": "stream",
     "text": [
      "Epoch 538/1000 [Training]: 100%|██████████| 17/17 [00:00<00:00, 23.73it/s]\n",
      "Epoch 538/1000 [Validation]: 100%|██████████| 1/1 [00:00<00:00, 95.69it/s]\n"
     ]
    },
    {
     "name": "stdout",
     "output_type": "stream",
     "text": [
      "Epoch 538: Train Loss = 0.1382 | Val Loss = 0.1382\n"
     ]
    },
    {
     "name": "stderr",
     "output_type": "stream",
     "text": [
      "Epoch 539/1000 [Training]: 100%|██████████| 17/17 [00:00<00:00, 23.73it/s]\n",
      "Epoch 539/1000 [Validation]: 100%|██████████| 1/1 [00:00<00:00, 104.39it/s]\n"
     ]
    },
    {
     "name": "stdout",
     "output_type": "stream",
     "text": [
      "Epoch 539: Train Loss = 0.1382 | Val Loss = 0.1382\n"
     ]
    },
    {
     "name": "stderr",
     "output_type": "stream",
     "text": [
      "Epoch 540/1000 [Training]: 100%|██████████| 17/17 [00:00<00:00, 23.76it/s]\n",
      "Epoch 540/1000 [Validation]: 100%|██████████| 1/1 [00:00<00:00, 111.55it/s]\n"
     ]
    },
    {
     "name": "stdout",
     "output_type": "stream",
     "text": [
      "Epoch 540: Train Loss = 0.1382 | Val Loss = 0.1382\n"
     ]
    },
    {
     "name": "stderr",
     "output_type": "stream",
     "text": [
      "Epoch 541/1000 [Training]: 100%|██████████| 17/17 [00:00<00:00, 23.76it/s]\n",
      "Epoch 541/1000 [Validation]: 100%|██████████| 1/1 [00:00<00:00, 111.25it/s]\n"
     ]
    },
    {
     "name": "stdout",
     "output_type": "stream",
     "text": [
      "Epoch 541: Train Loss = 0.1382 | Val Loss = 0.1383\n"
     ]
    },
    {
     "name": "stderr",
     "output_type": "stream",
     "text": [
      "Epoch 542/1000 [Training]: 100%|██████████| 17/17 [00:00<00:00, 23.71it/s]\n",
      "Epoch 542/1000 [Validation]: 100%|██████████| 1/1 [00:00<00:00, 114.13it/s]\n"
     ]
    },
    {
     "name": "stdout",
     "output_type": "stream",
     "text": [
      "Epoch 542: Train Loss = 0.1382 | Val Loss = 0.1382\n"
     ]
    },
    {
     "name": "stderr",
     "output_type": "stream",
     "text": [
      "Epoch 543/1000 [Training]: 100%|██████████| 17/17 [00:00<00:00, 23.81it/s]\n",
      "Epoch 543/1000 [Validation]: 100%|██████████| 1/1 [00:00<00:00, 110.43it/s]\n"
     ]
    },
    {
     "name": "stdout",
     "output_type": "stream",
     "text": [
      "Epoch 543: Train Loss = 0.1382 | Val Loss = 0.1382\n"
     ]
    },
    {
     "name": "stderr",
     "output_type": "stream",
     "text": [
      "Epoch 544/1000 [Training]: 100%|██████████| 17/17 [00:00<00:00, 23.78it/s]\n",
      "Epoch 544/1000 [Validation]: 100%|██████████| 1/1 [00:00<00:00, 112.90it/s]\n"
     ]
    },
    {
     "name": "stdout",
     "output_type": "stream",
     "text": [
      "Epoch 544: Train Loss = 0.1382 | Val Loss = 0.1382\n"
     ]
    },
    {
     "name": "stderr",
     "output_type": "stream",
     "text": [
      "Epoch 545/1000 [Training]: 100%|██████████| 17/17 [00:00<00:00, 23.79it/s]\n",
      "Epoch 545/1000 [Validation]: 100%|██████████| 1/1 [00:00<00:00, 110.97it/s]\n"
     ]
    },
    {
     "name": "stdout",
     "output_type": "stream",
     "text": [
      "Epoch 545: Train Loss = 0.1382 | Val Loss = 0.1382\n"
     ]
    },
    {
     "name": "stderr",
     "output_type": "stream",
     "text": [
      "Epoch 546/1000 [Training]: 100%|██████████| 17/17 [00:00<00:00, 23.78it/s]\n",
      "Epoch 546/1000 [Validation]: 100%|██████████| 1/1 [00:00<00:00, 111.49it/s]\n"
     ]
    },
    {
     "name": "stdout",
     "output_type": "stream",
     "text": [
      "Epoch 546: Train Loss = 0.1382 | Val Loss = 0.1382\n"
     ]
    },
    {
     "name": "stderr",
     "output_type": "stream",
     "text": [
      "Epoch 547/1000 [Training]: 100%|██████████| 17/17 [00:00<00:00, 23.76it/s]\n",
      "Epoch 547/1000 [Validation]: 100%|██████████| 1/1 [00:00<00:00, 109.97it/s]\n"
     ]
    },
    {
     "name": "stdout",
     "output_type": "stream",
     "text": [
      "Epoch 547: Train Loss = 0.1382 | Val Loss = 0.1382\n"
     ]
    },
    {
     "name": "stderr",
     "output_type": "stream",
     "text": [
      "Epoch 548/1000 [Training]: 100%|██████████| 17/17 [00:00<00:00, 23.84it/s]\n",
      "Epoch 548/1000 [Validation]: 100%|██████████| 1/1 [00:00<00:00, 113.57it/s]\n"
     ]
    },
    {
     "name": "stdout",
     "output_type": "stream",
     "text": [
      "Epoch 548: Train Loss = 0.1382 | Val Loss = 0.1382\n"
     ]
    },
    {
     "name": "stderr",
     "output_type": "stream",
     "text": [
      "Epoch 549/1000 [Training]: 100%|██████████| 17/17 [00:00<00:00, 23.81it/s]\n",
      "Epoch 549/1000 [Validation]: 100%|██████████| 1/1 [00:00<00:00, 84.45it/s]\n"
     ]
    },
    {
     "name": "stdout",
     "output_type": "stream",
     "text": [
      "Epoch 549: Train Loss = 0.1382 | Val Loss = 0.1382\n"
     ]
    },
    {
     "name": "stderr",
     "output_type": "stream",
     "text": [
      "Epoch 550/1000 [Training]: 100%|██████████| 17/17 [00:00<00:00, 23.50it/s]\n",
      "Epoch 550/1000 [Validation]: 100%|██████████| 1/1 [00:00<00:00, 110.93it/s]\n"
     ]
    },
    {
     "name": "stdout",
     "output_type": "stream",
     "text": [
      "Epoch 550: Train Loss = 0.1382 | Val Loss = 0.1383\n"
     ]
    },
    {
     "name": "stderr",
     "output_type": "stream",
     "text": [
      "Epoch 551/1000 [Training]: 100%|██████████| 17/17 [00:00<00:00, 23.75it/s]\n",
      "Epoch 551/1000 [Validation]: 100%|██████████| 1/1 [00:00<00:00, 115.98it/s]\n"
     ]
    },
    {
     "name": "stdout",
     "output_type": "stream",
     "text": [
      "Epoch 551: Train Loss = 0.1382 | Val Loss = 0.1382\n"
     ]
    },
    {
     "name": "stderr",
     "output_type": "stream",
     "text": [
      "Epoch 552/1000 [Training]: 100%|██████████| 17/17 [00:00<00:00, 23.79it/s]\n",
      "Epoch 552/1000 [Validation]: 100%|██████████| 1/1 [00:00<00:00, 120.33it/s]\n"
     ]
    },
    {
     "name": "stdout",
     "output_type": "stream",
     "text": [
      "Epoch 552: Train Loss = 0.1382 | Val Loss = 0.1382\n"
     ]
    },
    {
     "name": "stderr",
     "output_type": "stream",
     "text": [
      "Epoch 553/1000 [Training]: 100%|██████████| 17/17 [00:00<00:00, 23.79it/s]\n",
      "Epoch 553/1000 [Validation]: 100%|██████████| 1/1 [00:00<00:00, 113.40it/s]\n"
     ]
    },
    {
     "name": "stdout",
     "output_type": "stream",
     "text": [
      "Epoch 553: Train Loss = 0.1382 | Val Loss = 0.1382\n"
     ]
    },
    {
     "name": "stderr",
     "output_type": "stream",
     "text": [
      "Epoch 554/1000 [Training]: 100%|██████████| 17/17 [00:00<00:00, 23.78it/s]\n",
      "Epoch 554/1000 [Validation]: 100%|██████████| 1/1 [00:00<00:00, 111.08it/s]\n"
     ]
    },
    {
     "name": "stdout",
     "output_type": "stream",
     "text": [
      "Epoch 554: Train Loss = 0.1382 | Val Loss = 0.1382\n"
     ]
    },
    {
     "name": "stderr",
     "output_type": "stream",
     "text": [
      "Epoch 555/1000 [Training]: 100%|██████████| 17/17 [00:00<00:00, 23.79it/s]\n",
      "Epoch 555/1000 [Validation]: 100%|██████████| 1/1 [00:00<00:00, 109.40it/s]\n"
     ]
    },
    {
     "name": "stdout",
     "output_type": "stream",
     "text": [
      "Epoch 555: Train Loss = 0.1382 | Val Loss = 0.1382\n"
     ]
    },
    {
     "name": "stderr",
     "output_type": "stream",
     "text": [
      "Epoch 556/1000 [Training]: 100%|██████████| 17/17 [00:00<00:00, 23.79it/s]\n",
      "Epoch 556/1000 [Validation]: 100%|██████████| 1/1 [00:00<00:00, 111.06it/s]\n"
     ]
    },
    {
     "name": "stdout",
     "output_type": "stream",
     "text": [
      "Epoch 556: Train Loss = 0.1382 | Val Loss = 0.1382\n"
     ]
    },
    {
     "name": "stderr",
     "output_type": "stream",
     "text": [
      "Epoch 557/1000 [Training]: 100%|██████████| 17/17 [00:00<00:00, 23.78it/s]\n",
      "Epoch 557/1000 [Validation]: 100%|██████████| 1/1 [00:00<00:00, 105.65it/s]\n"
     ]
    },
    {
     "name": "stdout",
     "output_type": "stream",
     "text": [
      "Epoch 557: Train Loss = 0.1382 | Val Loss = 0.1382\n"
     ]
    },
    {
     "name": "stderr",
     "output_type": "stream",
     "text": [
      "Epoch 558/1000 [Training]: 100%|██████████| 17/17 [00:00<00:00, 23.79it/s]\n",
      "Epoch 558/1000 [Validation]: 100%|██████████| 1/1 [00:00<00:00, 113.20it/s]\n"
     ]
    },
    {
     "name": "stdout",
     "output_type": "stream",
     "text": [
      "Epoch 558: Train Loss = 0.1382 | Val Loss = 0.1383\n"
     ]
    },
    {
     "name": "stderr",
     "output_type": "stream",
     "text": [
      "Epoch 559/1000 [Training]: 100%|██████████| 17/17 [00:00<00:00, 23.79it/s]\n",
      "Epoch 559/1000 [Validation]: 100%|██████████| 1/1 [00:00<00:00, 110.33it/s]\n"
     ]
    },
    {
     "name": "stdout",
     "output_type": "stream",
     "text": [
      "Epoch 559: Train Loss = 0.1382 | Val Loss = 0.1382\n"
     ]
    },
    {
     "name": "stderr",
     "output_type": "stream",
     "text": [
      "Epoch 560/1000 [Training]: 100%|██████████| 17/17 [00:00<00:00, 23.77it/s]\n",
      "Epoch 560/1000 [Validation]: 100%|██████████| 1/1 [00:00<00:00, 112.50it/s]\n"
     ]
    },
    {
     "name": "stdout",
     "output_type": "stream",
     "text": [
      "Epoch 560: Train Loss = 0.1382 | Val Loss = 0.1382\n"
     ]
    },
    {
     "name": "stderr",
     "output_type": "stream",
     "text": [
      "Epoch 561/1000 [Training]: 100%|██████████| 17/17 [00:00<00:00, 23.75it/s]\n",
      "Epoch 561/1000 [Validation]: 100%|██████████| 1/1 [00:00<00:00, 110.39it/s]\n"
     ]
    },
    {
     "name": "stdout",
     "output_type": "stream",
     "text": [
      "Epoch 561: Train Loss = 0.1382 | Val Loss = 0.1382\n"
     ]
    },
    {
     "name": "stderr",
     "output_type": "stream",
     "text": [
      "Epoch 562/1000 [Training]: 100%|██████████| 17/17 [00:00<00:00, 23.83it/s]\n",
      "Epoch 562/1000 [Validation]: 100%|██████████| 1/1 [00:00<00:00, 123.42it/s]\n"
     ]
    },
    {
     "name": "stdout",
     "output_type": "stream",
     "text": [
      "Epoch 562: Train Loss = 0.1382 | Val Loss = 0.1382\n"
     ]
    },
    {
     "name": "stderr",
     "output_type": "stream",
     "text": [
      "Epoch 563/1000 [Training]: 100%|██████████| 17/17 [00:00<00:00, 23.09it/s]\n",
      "Epoch 563/1000 [Validation]: 100%|██████████| 1/1 [00:00<00:00, 114.40it/s]\n"
     ]
    },
    {
     "name": "stdout",
     "output_type": "stream",
     "text": [
      "Epoch 563: Train Loss = 0.1382 | Val Loss = 0.1382\n"
     ]
    },
    {
     "name": "stderr",
     "output_type": "stream",
     "text": [
      "Epoch 564/1000 [Training]: 100%|██████████| 17/17 [00:00<00:00, 22.84it/s]\n",
      "Epoch 564/1000 [Validation]: 100%|██████████| 1/1 [00:00<00:00, 84.12it/s]\n"
     ]
    },
    {
     "name": "stdout",
     "output_type": "stream",
     "text": [
      "Epoch 564: Train Loss = 0.1382 | Val Loss = 0.1382\n"
     ]
    },
    {
     "name": "stderr",
     "output_type": "stream",
     "text": [
      "Epoch 565/1000 [Training]: 100%|██████████| 17/17 [00:00<00:00, 23.22it/s]\n",
      "Epoch 565/1000 [Validation]: 100%|██████████| 1/1 [00:00<00:00, 111.05it/s]\n"
     ]
    },
    {
     "name": "stdout",
     "output_type": "stream",
     "text": [
      "Epoch 565: Train Loss = 0.1382 | Val Loss = 0.1382\n"
     ]
    },
    {
     "name": "stderr",
     "output_type": "stream",
     "text": [
      "Epoch 566/1000 [Training]: 100%|██████████| 17/17 [00:00<00:00, 23.79it/s]\n",
      "Epoch 566/1000 [Validation]: 100%|██████████| 1/1 [00:00<00:00, 113.15it/s]\n"
     ]
    },
    {
     "name": "stdout",
     "output_type": "stream",
     "text": [
      "Epoch 566: Train Loss = 0.1382 | Val Loss = 0.1382\n"
     ]
    },
    {
     "name": "stderr",
     "output_type": "stream",
     "text": [
      "Epoch 567/1000 [Training]: 100%|██████████| 17/17 [00:00<00:00, 23.75it/s]\n",
      "Epoch 567/1000 [Validation]: 100%|██████████| 1/1 [00:00<00:00, 111.26it/s]\n"
     ]
    },
    {
     "name": "stdout",
     "output_type": "stream",
     "text": [
      "Epoch 567: Train Loss = 0.1382 | Val Loss = 0.1382\n"
     ]
    },
    {
     "name": "stderr",
     "output_type": "stream",
     "text": [
      "Epoch 568/1000 [Training]: 100%|██████████| 17/17 [00:00<00:00, 23.77it/s]\n",
      "Epoch 568/1000 [Validation]: 100%|██████████| 1/1 [00:00<00:00, 105.47it/s]\n"
     ]
    },
    {
     "name": "stdout",
     "output_type": "stream",
     "text": [
      "Epoch 568: Train Loss = 0.1382 | Val Loss = 0.1382\n"
     ]
    },
    {
     "name": "stderr",
     "output_type": "stream",
     "text": [
      "Epoch 569/1000 [Training]: 100%|██████████| 17/17 [00:00<00:00, 23.82it/s]\n",
      "Epoch 569/1000 [Validation]: 100%|██████████| 1/1 [00:00<00:00, 112.97it/s]\n"
     ]
    },
    {
     "name": "stdout",
     "output_type": "stream",
     "text": [
      "Epoch 569: Train Loss = 0.1382 | Val Loss = 0.1382\n"
     ]
    },
    {
     "name": "stderr",
     "output_type": "stream",
     "text": [
      "Epoch 570/1000 [Training]: 100%|██████████| 17/17 [00:00<00:00, 23.83it/s]\n",
      "Epoch 570/1000 [Validation]: 100%|██████████| 1/1 [00:00<00:00, 110.91it/s]\n"
     ]
    },
    {
     "name": "stdout",
     "output_type": "stream",
     "text": [
      "Epoch 570: Train Loss = 0.1382 | Val Loss = 0.1382\n"
     ]
    },
    {
     "name": "stderr",
     "output_type": "stream",
     "text": [
      "Epoch 571/1000 [Training]: 100%|██████████| 17/17 [00:00<00:00, 23.80it/s]\n",
      "Epoch 571/1000 [Validation]: 100%|██████████| 1/1 [00:00<00:00, 115.54it/s]\n"
     ]
    },
    {
     "name": "stdout",
     "output_type": "stream",
     "text": [
      "Epoch 571: Train Loss = 0.1382 | Val Loss = 0.1382\n"
     ]
    },
    {
     "name": "stderr",
     "output_type": "stream",
     "text": [
      "Epoch 572/1000 [Training]: 100%|██████████| 17/17 [00:00<00:00, 23.83it/s]\n",
      "Epoch 572/1000 [Validation]: 100%|██████████| 1/1 [00:00<00:00, 108.17it/s]\n"
     ]
    },
    {
     "name": "stdout",
     "output_type": "stream",
     "text": [
      "Epoch 572: Train Loss = 0.1382 | Val Loss = 0.1382\n"
     ]
    },
    {
     "name": "stderr",
     "output_type": "stream",
     "text": [
      "Epoch 573/1000 [Training]: 100%|██████████| 17/17 [00:00<00:00, 23.75it/s]\n",
      "Epoch 573/1000 [Validation]: 100%|██████████| 1/1 [00:00<00:00, 105.69it/s]\n"
     ]
    },
    {
     "name": "stdout",
     "output_type": "stream",
     "text": [
      "Epoch 573: Train Loss = 0.1382 | Val Loss = 0.1382\n"
     ]
    },
    {
     "name": "stderr",
     "output_type": "stream",
     "text": [
      "Epoch 574/1000 [Training]: 100%|██████████| 17/17 [00:00<00:00, 23.75it/s]\n",
      "Epoch 574/1000 [Validation]: 100%|██████████| 1/1 [00:00<00:00, 112.41it/s]\n"
     ]
    },
    {
     "name": "stdout",
     "output_type": "stream",
     "text": [
      "Epoch 574: Train Loss = 0.1382 | Val Loss = 0.1382\n"
     ]
    },
    {
     "name": "stderr",
     "output_type": "stream",
     "text": [
      "Epoch 575/1000 [Training]: 100%|██████████| 17/17 [00:00<00:00, 23.81it/s]\n",
      "Epoch 575/1000 [Validation]: 100%|██████████| 1/1 [00:00<00:00, 108.67it/s]\n"
     ]
    },
    {
     "name": "stdout",
     "output_type": "stream",
     "text": [
      "Epoch 575: Train Loss = 0.1382 | Val Loss = 0.1382\n"
     ]
    },
    {
     "name": "stderr",
     "output_type": "stream",
     "text": [
      "Epoch 576/1000 [Training]: 100%|██████████| 17/17 [00:00<00:00, 23.80it/s]\n",
      "Epoch 576/1000 [Validation]: 100%|██████████| 1/1 [00:00<00:00, 109.54it/s]\n"
     ]
    },
    {
     "name": "stdout",
     "output_type": "stream",
     "text": [
      "Epoch 576: Train Loss = 0.1382 | Val Loss = 0.1382\n"
     ]
    },
    {
     "name": "stderr",
     "output_type": "stream",
     "text": [
      "Epoch 577/1000 [Training]: 100%|██████████| 17/17 [00:00<00:00, 23.20it/s]\n",
      "Epoch 577/1000 [Validation]: 100%|██████████| 1/1 [00:00<00:00, 78.92it/s]\n"
     ]
    },
    {
     "name": "stdout",
     "output_type": "stream",
     "text": [
      "Epoch 577: Train Loss = 0.1382 | Val Loss = 0.1382\n"
     ]
    },
    {
     "name": "stderr",
     "output_type": "stream",
     "text": [
      "Epoch 578/1000 [Training]: 100%|██████████| 17/17 [00:00<00:00, 23.80it/s]\n",
      "Epoch 578/1000 [Validation]: 100%|██████████| 1/1 [00:00<00:00, 110.38it/s]\n"
     ]
    },
    {
     "name": "stdout",
     "output_type": "stream",
     "text": [
      "Epoch 578: Train Loss = 0.1382 | Val Loss = 0.1382\n"
     ]
    },
    {
     "name": "stderr",
     "output_type": "stream",
     "text": [
      "Epoch 579/1000 [Training]: 100%|██████████| 17/17 [00:00<00:00, 23.80it/s]\n",
      "Epoch 579/1000 [Validation]: 100%|██████████| 1/1 [00:00<00:00, 111.30it/s]\n"
     ]
    },
    {
     "name": "stdout",
     "output_type": "stream",
     "text": [
      "Epoch 579: Train Loss = 0.1382 | Val Loss = 0.1382\n"
     ]
    },
    {
     "name": "stderr",
     "output_type": "stream",
     "text": [
      "Epoch 580/1000 [Training]: 100%|██████████| 17/17 [00:00<00:00, 23.80it/s]\n",
      "Epoch 580/1000 [Validation]: 100%|██████████| 1/1 [00:00<00:00, 112.41it/s]\n"
     ]
    },
    {
     "name": "stdout",
     "output_type": "stream",
     "text": [
      "Epoch 580: Train Loss = 0.1382 | Val Loss = 0.1382\n"
     ]
    },
    {
     "name": "stderr",
     "output_type": "stream",
     "text": [
      "Epoch 581/1000 [Training]: 100%|██████████| 17/17 [00:00<00:00, 23.76it/s]\n",
      "Epoch 581/1000 [Validation]: 100%|██████████| 1/1 [00:00<00:00, 115.97it/s]\n"
     ]
    },
    {
     "name": "stdout",
     "output_type": "stream",
     "text": [
      "Epoch 581: Train Loss = 0.1382 | Val Loss = 0.1382\n"
     ]
    },
    {
     "name": "stderr",
     "output_type": "stream",
     "text": [
      "Epoch 582/1000 [Training]: 100%|██████████| 17/17 [00:00<00:00, 23.77it/s]\n",
      "Epoch 582/1000 [Validation]: 100%|██████████| 1/1 [00:00<00:00, 104.89it/s]\n"
     ]
    },
    {
     "name": "stdout",
     "output_type": "stream",
     "text": [
      "Epoch 582: Train Loss = 0.1382 | Val Loss = 0.1382\n"
     ]
    },
    {
     "name": "stderr",
     "output_type": "stream",
     "text": [
      "Epoch 583/1000 [Training]: 100%|██████████| 17/17 [00:00<00:00, 23.75it/s]\n",
      "Epoch 583/1000 [Validation]: 100%|██████████| 1/1 [00:00<00:00, 115.73it/s]\n"
     ]
    },
    {
     "name": "stdout",
     "output_type": "stream",
     "text": [
      "Epoch 583: Train Loss = 0.1382 | Val Loss = 0.1382\n"
     ]
    },
    {
     "name": "stderr",
     "output_type": "stream",
     "text": [
      "Epoch 584/1000 [Training]: 100%|██████████| 17/17 [00:00<00:00, 23.76it/s]\n",
      "Epoch 584/1000 [Validation]: 100%|██████████| 1/1 [00:00<00:00, 113.63it/s]\n"
     ]
    },
    {
     "name": "stdout",
     "output_type": "stream",
     "text": [
      "Epoch 584: Train Loss = 0.1382 | Val Loss = 0.1382\n"
     ]
    },
    {
     "name": "stderr",
     "output_type": "stream",
     "text": [
      "Epoch 585/1000 [Training]: 100%|██████████| 17/17 [00:00<00:00, 23.77it/s]\n",
      "Epoch 585/1000 [Validation]: 100%|██████████| 1/1 [00:00<00:00, 114.45it/s]\n"
     ]
    },
    {
     "name": "stdout",
     "output_type": "stream",
     "text": [
      "Epoch 585: Train Loss = 0.1382 | Val Loss = 0.1382\n"
     ]
    },
    {
     "name": "stderr",
     "output_type": "stream",
     "text": [
      "Epoch 586/1000 [Training]: 100%|██████████| 17/17 [00:00<00:00, 23.80it/s]\n",
      "Epoch 586/1000 [Validation]: 100%|██████████| 1/1 [00:00<00:00, 108.67it/s]\n"
     ]
    },
    {
     "name": "stdout",
     "output_type": "stream",
     "text": [
      "Epoch 586: Train Loss = 0.1382 | Val Loss = 0.1382\n"
     ]
    },
    {
     "name": "stderr",
     "output_type": "stream",
     "text": [
      "Epoch 587/1000 [Training]: 100%|██████████| 17/17 [00:00<00:00, 23.76it/s]\n",
      "Epoch 587/1000 [Validation]: 100%|██████████| 1/1 [00:00<00:00, 107.55it/s]\n"
     ]
    },
    {
     "name": "stdout",
     "output_type": "stream",
     "text": [
      "Epoch 587: Train Loss = 0.1382 | Val Loss = 0.1382\n"
     ]
    },
    {
     "name": "stderr",
     "output_type": "stream",
     "text": [
      "Epoch 588/1000 [Training]: 100%|██████████| 17/17 [00:00<00:00, 23.79it/s]\n",
      "Epoch 588/1000 [Validation]: 100%|██████████| 1/1 [00:00<00:00, 114.57it/s]\n"
     ]
    },
    {
     "name": "stdout",
     "output_type": "stream",
     "text": [
      "Epoch 588: Train Loss = 0.1382 | Val Loss = 0.1382\n"
     ]
    },
    {
     "name": "stderr",
     "output_type": "stream",
     "text": [
      "Epoch 589/1000 [Training]: 100%|██████████| 17/17 [00:00<00:00, 23.83it/s]\n",
      "Epoch 589/1000 [Validation]: 100%|██████████| 1/1 [00:00<00:00, 103.11it/s]\n"
     ]
    },
    {
     "name": "stdout",
     "output_type": "stream",
     "text": [
      "Epoch 589: Train Loss = 0.1382 | Val Loss = 0.1382\n"
     ]
    },
    {
     "name": "stderr",
     "output_type": "stream",
     "text": [
      "Epoch 590/1000 [Training]: 100%|██████████| 17/17 [00:00<00:00, 23.80it/s]\n",
      "Epoch 590/1000 [Validation]: 100%|██████████| 1/1 [00:00<00:00, 77.41it/s]\n"
     ]
    },
    {
     "name": "stdout",
     "output_type": "stream",
     "text": [
      "Epoch 590: Train Loss = 0.1382 | Val Loss = 0.1382\n"
     ]
    },
    {
     "name": "stderr",
     "output_type": "stream",
     "text": [
      "Epoch 591/1000 [Training]: 100%|██████████| 17/17 [00:00<00:00, 23.60it/s]\n",
      "Epoch 591/1000 [Validation]: 100%|██████████| 1/1 [00:00<00:00, 111.50it/s]\n"
     ]
    },
    {
     "name": "stdout",
     "output_type": "stream",
     "text": [
      "Epoch 591: Train Loss = 0.1382 | Val Loss = 0.1382\n"
     ]
    },
    {
     "name": "stderr",
     "output_type": "stream",
     "text": [
      "Epoch 592/1000 [Training]: 100%|██████████| 17/17 [00:00<00:00, 23.77it/s]\n",
      "Epoch 592/1000 [Validation]: 100%|██████████| 1/1 [00:00<00:00, 107.96it/s]\n"
     ]
    },
    {
     "name": "stdout",
     "output_type": "stream",
     "text": [
      "Epoch 592: Train Loss = 0.1382 | Val Loss = 0.1382\n"
     ]
    },
    {
     "name": "stderr",
     "output_type": "stream",
     "text": [
      "Epoch 593/1000 [Training]: 100%|██████████| 17/17 [00:00<00:00, 23.80it/s]\n",
      "Epoch 593/1000 [Validation]: 100%|██████████| 1/1 [00:00<00:00, 109.31it/s]\n"
     ]
    },
    {
     "name": "stdout",
     "output_type": "stream",
     "text": [
      "Epoch 593: Train Loss = 0.1382 | Val Loss = 0.1382\n"
     ]
    },
    {
     "name": "stderr",
     "output_type": "stream",
     "text": [
      "Epoch 594/1000 [Training]: 100%|██████████| 17/17 [00:00<00:00, 23.77it/s]\n",
      "Epoch 594/1000 [Validation]: 100%|██████████| 1/1 [00:00<00:00, 112.80it/s]\n"
     ]
    },
    {
     "name": "stdout",
     "output_type": "stream",
     "text": [
      "Epoch 594: Train Loss = 0.1382 | Val Loss = 0.1382\n"
     ]
    },
    {
     "name": "stderr",
     "output_type": "stream",
     "text": [
      "Epoch 595/1000 [Training]: 100%|██████████| 17/17 [00:00<00:00, 23.77it/s]\n",
      "Epoch 595/1000 [Validation]: 100%|██████████| 1/1 [00:00<00:00, 106.80it/s]\n"
     ]
    },
    {
     "name": "stdout",
     "output_type": "stream",
     "text": [
      "Epoch 595: Train Loss = 0.1382 | Val Loss = 0.1382\n"
     ]
    },
    {
     "name": "stderr",
     "output_type": "stream",
     "text": [
      "Epoch 596/1000 [Training]: 100%|██████████| 17/17 [00:00<00:00, 23.80it/s]\n",
      "Epoch 596/1000 [Validation]: 100%|██████████| 1/1 [00:00<00:00, 107.53it/s]\n"
     ]
    },
    {
     "name": "stdout",
     "output_type": "stream",
     "text": [
      "Epoch 596: Train Loss = 0.1382 | Val Loss = 0.1382\n"
     ]
    },
    {
     "name": "stderr",
     "output_type": "stream",
     "text": [
      "Epoch 597/1000 [Training]: 100%|██████████| 17/17 [00:00<00:00, 23.73it/s]\n",
      "Epoch 597/1000 [Validation]: 100%|██████████| 1/1 [00:00<00:00, 113.19it/s]\n"
     ]
    },
    {
     "name": "stdout",
     "output_type": "stream",
     "text": [
      "Epoch 597: Train Loss = 0.1382 | Val Loss = 0.1382\n"
     ]
    },
    {
     "name": "stderr",
     "output_type": "stream",
     "text": [
      "Epoch 598/1000 [Training]: 100%|██████████| 17/17 [00:00<00:00, 23.76it/s]\n",
      "Epoch 598/1000 [Validation]: 100%|██████████| 1/1 [00:00<00:00, 111.52it/s]\n"
     ]
    },
    {
     "name": "stdout",
     "output_type": "stream",
     "text": [
      "Epoch 598: Train Loss = 0.1382 | Val Loss = 0.1382\n"
     ]
    },
    {
     "name": "stderr",
     "output_type": "stream",
     "text": [
      "Epoch 599/1000 [Training]: 100%|██████████| 17/17 [00:00<00:00, 23.80it/s]\n",
      "Epoch 599/1000 [Validation]: 100%|██████████| 1/1 [00:00<00:00, 114.05it/s]\n"
     ]
    },
    {
     "name": "stdout",
     "output_type": "stream",
     "text": [
      "Epoch 599: Train Loss = 0.1382 | Val Loss = 0.1382\n"
     ]
    },
    {
     "name": "stderr",
     "output_type": "stream",
     "text": [
      "Epoch 600/1000 [Training]: 100%|██████████| 17/17 [00:00<00:00, 23.81it/s]\n",
      "Epoch 600/1000 [Validation]: 100%|██████████| 1/1 [00:00<00:00, 114.82it/s]\n"
     ]
    },
    {
     "name": "stdout",
     "output_type": "stream",
     "text": [
      "Epoch 600: Train Loss = 0.1382 | Val Loss = 0.1382\n"
     ]
    },
    {
     "name": "stderr",
     "output_type": "stream",
     "text": [
      "Epoch 601/1000 [Training]: 100%|██████████| 17/17 [00:00<00:00, 23.79it/s]\n",
      "Epoch 601/1000 [Validation]: 100%|██████████| 1/1 [00:00<00:00, 111.22it/s]\n"
     ]
    },
    {
     "name": "stdout",
     "output_type": "stream",
     "text": [
      "Epoch 601: Train Loss = 0.1382 | Val Loss = 0.1382\n"
     ]
    },
    {
     "name": "stderr",
     "output_type": "stream",
     "text": [
      "Epoch 602/1000 [Training]: 100%|██████████| 17/17 [00:00<00:00, 23.79it/s]\n",
      "Epoch 602/1000 [Validation]: 100%|██████████| 1/1 [00:00<00:00, 110.87it/s]\n"
     ]
    },
    {
     "name": "stdout",
     "output_type": "stream",
     "text": [
      "Epoch 602: Train Loss = 0.1382 | Val Loss = 0.1382\n"
     ]
    },
    {
     "name": "stderr",
     "output_type": "stream",
     "text": [
      "Epoch 603/1000 [Training]: 100%|██████████| 17/17 [00:00<00:00, 23.76it/s]\n",
      "Epoch 603/1000 [Validation]: 100%|██████████| 1/1 [00:00<00:00, 115.88it/s]\n"
     ]
    },
    {
     "name": "stdout",
     "output_type": "stream",
     "text": [
      "Epoch 603: Train Loss = 0.1382 | Val Loss = 0.1382\n"
     ]
    },
    {
     "name": "stderr",
     "output_type": "stream",
     "text": [
      "Epoch 604/1000 [Training]: 100%|██████████| 17/17 [00:00<00:00, 23.56it/s]\n",
      "Epoch 604/1000 [Validation]: 100%|██████████| 1/1 [00:00<00:00, 113.36it/s]\n"
     ]
    },
    {
     "name": "stdout",
     "output_type": "stream",
     "text": [
      "Epoch 604: Train Loss = 0.1382 | Val Loss = 0.1382\n"
     ]
    },
    {
     "name": "stderr",
     "output_type": "stream",
     "text": [
      "Epoch 605/1000 [Training]: 100%|██████████| 17/17 [00:00<00:00, 23.78it/s]\n",
      "Epoch 605/1000 [Validation]: 100%|██████████| 1/1 [00:00<00:00, 114.28it/s]\n"
     ]
    },
    {
     "name": "stdout",
     "output_type": "stream",
     "text": [
      "Epoch 605: Train Loss = 0.1382 | Val Loss = 0.1382\n"
     ]
    },
    {
     "name": "stderr",
     "output_type": "stream",
     "text": [
      "Epoch 606/1000 [Training]: 100%|██████████| 17/17 [00:00<00:00, 23.78it/s]\n",
      "Epoch 606/1000 [Validation]: 100%|██████████| 1/1 [00:00<00:00, 115.55it/s]\n"
     ]
    },
    {
     "name": "stdout",
     "output_type": "stream",
     "text": [
      "Epoch 606: Train Loss = 0.1382 | Val Loss = 0.1382\n"
     ]
    },
    {
     "name": "stderr",
     "output_type": "stream",
     "text": [
      "Epoch 607/1000 [Training]: 100%|██████████| 17/17 [00:00<00:00, 22.73it/s]\n",
      "Epoch 607/1000 [Validation]: 100%|██████████| 1/1 [00:00<00:00, 82.89it/s]\n"
     ]
    },
    {
     "name": "stdout",
     "output_type": "stream",
     "text": [
      "Epoch 607: Train Loss = 0.1382 | Val Loss = 0.1382\n"
     ]
    },
    {
     "name": "stderr",
     "output_type": "stream",
     "text": [
      "Epoch 608/1000 [Training]: 100%|██████████| 17/17 [00:00<00:00, 23.16it/s]\n",
      "Epoch 608/1000 [Validation]: 100%|██████████| 1/1 [00:00<00:00, 84.90it/s]\n"
     ]
    },
    {
     "name": "stdout",
     "output_type": "stream",
     "text": [
      "Epoch 608: Train Loss = 0.1382 | Val Loss = 0.1382\n"
     ]
    },
    {
     "name": "stderr",
     "output_type": "stream",
     "text": [
      "Epoch 609/1000 [Training]: 100%|██████████| 17/17 [00:00<00:00, 23.77it/s]\n",
      "Epoch 609/1000 [Validation]: 100%|██████████| 1/1 [00:00<00:00, 115.80it/s]\n"
     ]
    },
    {
     "name": "stdout",
     "output_type": "stream",
     "text": [
      "Epoch 609: Train Loss = 0.1382 | Val Loss = 0.1382\n"
     ]
    },
    {
     "name": "stderr",
     "output_type": "stream",
     "text": [
      "Epoch 610/1000 [Training]: 100%|██████████| 17/17 [00:00<00:00, 23.81it/s]\n",
      "Epoch 610/1000 [Validation]: 100%|██████████| 1/1 [00:00<00:00, 106.77it/s]\n"
     ]
    },
    {
     "name": "stdout",
     "output_type": "stream",
     "text": [
      "Epoch 610: Train Loss = 0.1382 | Val Loss = 0.1382\n"
     ]
    },
    {
     "name": "stderr",
     "output_type": "stream",
     "text": [
      "Epoch 611/1000 [Training]: 100%|██████████| 17/17 [00:00<00:00, 23.78it/s]\n",
      "Epoch 611/1000 [Validation]: 100%|██████████| 1/1 [00:00<00:00, 114.16it/s]\n"
     ]
    },
    {
     "name": "stdout",
     "output_type": "stream",
     "text": [
      "Epoch 611: Train Loss = 0.1382 | Val Loss = 0.1382\n"
     ]
    },
    {
     "name": "stderr",
     "output_type": "stream",
     "text": [
      "Epoch 612/1000 [Training]: 100%|██████████| 17/17 [00:00<00:00, 23.77it/s]\n",
      "Epoch 612/1000 [Validation]: 100%|██████████| 1/1 [00:00<00:00, 113.14it/s]\n"
     ]
    },
    {
     "name": "stdout",
     "output_type": "stream",
     "text": [
      "Epoch 612: Train Loss = 0.1382 | Val Loss = 0.1382\n"
     ]
    },
    {
     "name": "stderr",
     "output_type": "stream",
     "text": [
      "Epoch 613/1000 [Training]: 100%|██████████| 17/17 [00:00<00:00, 23.84it/s]\n",
      "Epoch 613/1000 [Validation]: 100%|██████████| 1/1 [00:00<00:00, 113.77it/s]\n"
     ]
    },
    {
     "name": "stdout",
     "output_type": "stream",
     "text": [
      "Epoch 613: Train Loss = 0.1382 | Val Loss = 0.1382\n"
     ]
    },
    {
     "name": "stderr",
     "output_type": "stream",
     "text": [
      "Epoch 614/1000 [Training]: 100%|██████████| 17/17 [00:00<00:00, 23.77it/s]\n",
      "Epoch 614/1000 [Validation]: 100%|██████████| 1/1 [00:00<00:00, 111.36it/s]\n"
     ]
    },
    {
     "name": "stdout",
     "output_type": "stream",
     "text": [
      "Epoch 614: Train Loss = 0.1382 | Val Loss = 0.1382\n"
     ]
    },
    {
     "name": "stderr",
     "output_type": "stream",
     "text": [
      "Epoch 615/1000 [Training]: 100%|██████████| 17/17 [00:00<00:00, 23.82it/s]\n",
      "Epoch 615/1000 [Validation]: 100%|██████████| 1/1 [00:00<00:00, 110.32it/s]\n"
     ]
    },
    {
     "name": "stdout",
     "output_type": "stream",
     "text": [
      "Epoch 615: Train Loss = 0.1382 | Val Loss = 0.1382\n"
     ]
    },
    {
     "name": "stderr",
     "output_type": "stream",
     "text": [
      "Epoch 616/1000 [Training]: 100%|██████████| 17/17 [00:00<00:00, 23.76it/s]\n",
      "Epoch 616/1000 [Validation]: 100%|██████████| 1/1 [00:00<00:00, 110.42it/s]\n"
     ]
    },
    {
     "name": "stdout",
     "output_type": "stream",
     "text": [
      "Epoch 616: Train Loss = 0.1382 | Val Loss = 0.1382\n"
     ]
    },
    {
     "name": "stderr",
     "output_type": "stream",
     "text": [
      "Epoch 617/1000 [Training]: 100%|██████████| 17/17 [00:00<00:00, 23.82it/s]\n",
      "Epoch 617/1000 [Validation]: 100%|██████████| 1/1 [00:00<00:00, 113.94it/s]\n"
     ]
    },
    {
     "name": "stdout",
     "output_type": "stream",
     "text": [
      "Epoch 617: Train Loss = 0.1382 | Val Loss = 0.1382\n"
     ]
    },
    {
     "name": "stderr",
     "output_type": "stream",
     "text": [
      "Epoch 618/1000 [Training]: 100%|██████████| 17/17 [00:00<00:00, 23.36it/s]\n",
      "Epoch 618/1000 [Validation]: 100%|██████████| 1/1 [00:00<00:00, 116.62it/s]\n"
     ]
    },
    {
     "name": "stdout",
     "output_type": "stream",
     "text": [
      "Epoch 618: Train Loss = 0.1382 | Val Loss = 0.1382\n"
     ]
    },
    {
     "name": "stderr",
     "output_type": "stream",
     "text": [
      "Epoch 619/1000 [Training]: 100%|██████████| 17/17 [00:00<00:00, 23.74it/s]\n",
      "Epoch 619/1000 [Validation]: 100%|██████████| 1/1 [00:00<00:00, 116.80it/s]\n"
     ]
    },
    {
     "name": "stdout",
     "output_type": "stream",
     "text": [
      "Epoch 619: Train Loss = 0.1382 | Val Loss = 0.1382\n"
     ]
    },
    {
     "name": "stderr",
     "output_type": "stream",
     "text": [
      "Epoch 620/1000 [Training]: 100%|██████████| 17/17 [00:00<00:00, 23.80it/s]\n",
      "Epoch 620/1000 [Validation]: 100%|██████████| 1/1 [00:00<00:00, 115.54it/s]\n"
     ]
    },
    {
     "name": "stdout",
     "output_type": "stream",
     "text": [
      "Epoch 620: Train Loss = 0.1382 | Val Loss = 0.1382\n"
     ]
    },
    {
     "name": "stderr",
     "output_type": "stream",
     "text": [
      "Epoch 621/1000 [Training]: 100%|██████████| 17/17 [00:00<00:00, 23.78it/s]\n",
      "Epoch 621/1000 [Validation]: 100%|██████████| 1/1 [00:00<00:00, 109.48it/s]\n"
     ]
    },
    {
     "name": "stdout",
     "output_type": "stream",
     "text": [
      "Epoch 621: Train Loss = 0.1382 | Val Loss = 0.1382\n"
     ]
    },
    {
     "name": "stderr",
     "output_type": "stream",
     "text": [
      "Epoch 622/1000 [Training]: 100%|██████████| 17/17 [00:00<00:00, 23.77it/s]\n",
      "Epoch 622/1000 [Validation]: 100%|██████████| 1/1 [00:00<00:00, 113.39it/s]\n"
     ]
    },
    {
     "name": "stdout",
     "output_type": "stream",
     "text": [
      "Epoch 622: Train Loss = 0.1382 | Val Loss = 0.1382\n"
     ]
    },
    {
     "name": "stderr",
     "output_type": "stream",
     "text": [
      "Epoch 623/1000 [Training]: 100%|██████████| 17/17 [00:00<00:00, 23.78it/s]\n",
      "Epoch 623/1000 [Validation]: 100%|██████████| 1/1 [00:00<00:00, 104.47it/s]\n"
     ]
    },
    {
     "name": "stdout",
     "output_type": "stream",
     "text": [
      "Epoch 623: Train Loss = 0.1382 | Val Loss = 0.1382\n"
     ]
    },
    {
     "name": "stderr",
     "output_type": "stream",
     "text": [
      "Epoch 624/1000 [Training]: 100%|██████████| 17/17 [00:00<00:00, 23.69it/s]\n",
      "Epoch 624/1000 [Validation]: 100%|██████████| 1/1 [00:00<00:00, 111.89it/s]\n"
     ]
    },
    {
     "name": "stdout",
     "output_type": "stream",
     "text": [
      "Epoch 624: Train Loss = 0.1382 | Val Loss = 0.1382\n"
     ]
    },
    {
     "name": "stderr",
     "output_type": "stream",
     "text": [
      "Epoch 625/1000 [Training]: 100%|██████████| 17/17 [00:00<00:00, 23.77it/s]\n",
      "Epoch 625/1000 [Validation]: 100%|██████████| 1/1 [00:00<00:00, 111.99it/s]\n"
     ]
    },
    {
     "name": "stdout",
     "output_type": "stream",
     "text": [
      "Epoch 625: Train Loss = 0.1382 | Val Loss = 0.1382\n"
     ]
    },
    {
     "name": "stderr",
     "output_type": "stream",
     "text": [
      "Epoch 626/1000 [Training]: 100%|██████████| 17/17 [00:00<00:00, 23.79it/s]\n",
      "Epoch 626/1000 [Validation]: 100%|██████████| 1/1 [00:00<00:00, 111.52it/s]\n"
     ]
    },
    {
     "name": "stdout",
     "output_type": "stream",
     "text": [
      "Epoch 626: Train Loss = 0.1382 | Val Loss = 0.1382\n"
     ]
    },
    {
     "name": "stderr",
     "output_type": "stream",
     "text": [
      "Epoch 627/1000 [Training]: 100%|██████████| 17/17 [00:00<00:00, 23.76it/s]\n",
      "Epoch 627/1000 [Validation]: 100%|██████████| 1/1 [00:00<00:00, 108.12it/s]\n"
     ]
    },
    {
     "name": "stdout",
     "output_type": "stream",
     "text": [
      "Epoch 627: Train Loss = 0.1382 | Val Loss = 0.1382\n"
     ]
    },
    {
     "name": "stderr",
     "output_type": "stream",
     "text": [
      "Epoch 628/1000 [Training]: 100%|██████████| 17/17 [00:00<00:00, 23.81it/s]\n",
      "Epoch 628/1000 [Validation]: 100%|██████████| 1/1 [00:00<00:00, 109.53it/s]\n"
     ]
    },
    {
     "name": "stdout",
     "output_type": "stream",
     "text": [
      "Epoch 628: Train Loss = 0.1382 | Val Loss = 0.1382\n"
     ]
    },
    {
     "name": "stderr",
     "output_type": "stream",
     "text": [
      "Epoch 629/1000 [Training]: 100%|██████████| 17/17 [00:00<00:00, 23.72it/s]\n",
      "Epoch 629/1000 [Validation]: 100%|██████████| 1/1 [00:00<00:00, 112.29it/s]\n"
     ]
    },
    {
     "name": "stdout",
     "output_type": "stream",
     "text": [
      "Epoch 629: Train Loss = 0.1382 | Val Loss = 0.1382\n"
     ]
    },
    {
     "name": "stderr",
     "output_type": "stream",
     "text": [
      "Epoch 630/1000 [Training]: 100%|██████████| 17/17 [00:00<00:00, 23.76it/s]\n",
      "Epoch 630/1000 [Validation]: 100%|██████████| 1/1 [00:00<00:00, 110.42it/s]\n"
     ]
    },
    {
     "name": "stdout",
     "output_type": "stream",
     "text": [
      "Epoch 630: Train Loss = 0.1382 | Val Loss = 0.1382\n"
     ]
    },
    {
     "name": "stderr",
     "output_type": "stream",
     "text": [
      "Epoch 631/1000 [Training]: 100%|██████████| 17/17 [00:00<00:00, 23.70it/s]\n",
      "Epoch 631/1000 [Validation]: 100%|██████████| 1/1 [00:00<00:00, 111.51it/s]\n"
     ]
    },
    {
     "name": "stdout",
     "output_type": "stream",
     "text": [
      "Epoch 631: Train Loss = 0.1382 | Val Loss = 0.1382\n"
     ]
    },
    {
     "name": "stderr",
     "output_type": "stream",
     "text": [
      "Epoch 632/1000 [Training]: 100%|██████████| 17/17 [00:00<00:00, 23.57it/s]\n",
      "Epoch 632/1000 [Validation]: 100%|██████████| 1/1 [00:00<00:00, 115.13it/s]\n"
     ]
    },
    {
     "name": "stdout",
     "output_type": "stream",
     "text": [
      "Epoch 632: Train Loss = 0.1382 | Val Loss = 0.1382\n"
     ]
    },
    {
     "name": "stderr",
     "output_type": "stream",
     "text": [
      "Epoch 633/1000 [Training]: 100%|██████████| 17/17 [00:00<00:00, 23.81it/s]\n",
      "Epoch 633/1000 [Validation]: 100%|██████████| 1/1 [00:00<00:00, 109.29it/s]\n"
     ]
    },
    {
     "name": "stdout",
     "output_type": "stream",
     "text": [
      "Epoch 633: Train Loss = 0.1382 | Val Loss = 0.1382\n"
     ]
    },
    {
     "name": "stderr",
     "output_type": "stream",
     "text": [
      "Epoch 634/1000 [Training]: 100%|██████████| 17/17 [00:00<00:00, 23.79it/s]\n",
      "Epoch 634/1000 [Validation]: 100%|██████████| 1/1 [00:00<00:00, 110.67it/s]\n"
     ]
    },
    {
     "name": "stdout",
     "output_type": "stream",
     "text": [
      "Epoch 634: Train Loss = 0.1382 | Val Loss = 0.1382\n"
     ]
    },
    {
     "name": "stderr",
     "output_type": "stream",
     "text": [
      "Epoch 635/1000 [Training]: 100%|██████████| 17/17 [00:00<00:00, 23.78it/s]\n",
      "Epoch 635/1000 [Validation]: 100%|██████████| 1/1 [00:00<00:00, 110.64it/s]\n"
     ]
    },
    {
     "name": "stdout",
     "output_type": "stream",
     "text": [
      "Epoch 635: Train Loss = 0.1382 | Val Loss = 0.1382\n"
     ]
    },
    {
     "name": "stderr",
     "output_type": "stream",
     "text": [
      "Epoch 636/1000 [Training]: 100%|██████████| 17/17 [00:00<00:00, 23.77it/s]\n",
      "Epoch 636/1000 [Validation]: 100%|██████████| 1/1 [00:00<00:00, 110.66it/s]\n"
     ]
    },
    {
     "name": "stdout",
     "output_type": "stream",
     "text": [
      "Epoch 636: Train Loss = 0.1382 | Val Loss = 0.1382\n"
     ]
    },
    {
     "name": "stderr",
     "output_type": "stream",
     "text": [
      "Epoch 637/1000 [Training]: 100%|██████████| 17/17 [00:00<00:00, 23.78it/s]\n",
      "Epoch 637/1000 [Validation]: 100%|██████████| 1/1 [00:00<00:00, 112.09it/s]\n"
     ]
    },
    {
     "name": "stdout",
     "output_type": "stream",
     "text": [
      "Epoch 637: Train Loss = 0.1382 | Val Loss = 0.1382\n"
     ]
    },
    {
     "name": "stderr",
     "output_type": "stream",
     "text": [
      "Epoch 638/1000 [Training]: 100%|██████████| 17/17 [00:00<00:00, 23.79it/s]\n",
      "Epoch 638/1000 [Validation]: 100%|██████████| 1/1 [00:00<00:00, 110.55it/s]\n"
     ]
    },
    {
     "name": "stdout",
     "output_type": "stream",
     "text": [
      "Epoch 638: Train Loss = 0.1382 | Val Loss = 0.1382\n"
     ]
    },
    {
     "name": "stderr",
     "output_type": "stream",
     "text": [
      "Epoch 639/1000 [Training]: 100%|██████████| 17/17 [00:00<00:00, 23.78it/s]\n",
      "Epoch 639/1000 [Validation]: 100%|██████████| 1/1 [00:00<00:00, 113.08it/s]\n"
     ]
    },
    {
     "name": "stdout",
     "output_type": "stream",
     "text": [
      "Epoch 639: Train Loss = 0.1382 | Val Loss = 0.1382\n"
     ]
    },
    {
     "name": "stderr",
     "output_type": "stream",
     "text": [
      "Epoch 640/1000 [Training]: 100%|██████████| 17/17 [00:00<00:00, 23.79it/s]\n",
      "Epoch 640/1000 [Validation]: 100%|██████████| 1/1 [00:00<00:00, 115.22it/s]\n"
     ]
    },
    {
     "name": "stdout",
     "output_type": "stream",
     "text": [
      "Epoch 640: Train Loss = 0.1382 | Val Loss = 0.1382\n"
     ]
    },
    {
     "name": "stderr",
     "output_type": "stream",
     "text": [
      "Epoch 641/1000 [Training]: 100%|██████████| 17/17 [00:00<00:00, 23.77it/s]\n",
      "Epoch 641/1000 [Validation]: 100%|██████████| 1/1 [00:00<00:00, 113.15it/s]\n"
     ]
    },
    {
     "name": "stdout",
     "output_type": "stream",
     "text": [
      "Epoch 641: Train Loss = 0.1382 | Val Loss = 0.1382\n"
     ]
    },
    {
     "name": "stderr",
     "output_type": "stream",
     "text": [
      "Epoch 642/1000 [Training]: 100%|██████████| 17/17 [00:00<00:00, 23.82it/s]\n",
      "Epoch 642/1000 [Validation]: 100%|██████████| 1/1 [00:00<00:00, 112.73it/s]\n"
     ]
    },
    {
     "name": "stdout",
     "output_type": "stream",
     "text": [
      "Epoch 642: Train Loss = 0.1382 | Val Loss = 0.1382\n"
     ]
    },
    {
     "name": "stderr",
     "output_type": "stream",
     "text": [
      "Epoch 643/1000 [Training]: 100%|██████████| 17/17 [00:00<00:00, 23.80it/s]\n",
      "Epoch 643/1000 [Validation]: 100%|██████████| 1/1 [00:00<00:00, 109.30it/s]\n"
     ]
    },
    {
     "name": "stdout",
     "output_type": "stream",
     "text": [
      "Epoch 643: Train Loss = 0.1382 | Val Loss = 0.1382\n"
     ]
    },
    {
     "name": "stderr",
     "output_type": "stream",
     "text": [
      "Epoch 644/1000 [Training]: 100%|██████████| 17/17 [00:00<00:00, 23.78it/s]\n",
      "Epoch 644/1000 [Validation]: 100%|██████████| 1/1 [00:00<00:00, 119.58it/s]\n"
     ]
    },
    {
     "name": "stdout",
     "output_type": "stream",
     "text": [
      "Epoch 644: Train Loss = 0.1382 | Val Loss = 0.1382\n"
     ]
    },
    {
     "name": "stderr",
     "output_type": "stream",
     "text": [
      "Epoch 645/1000 [Training]: 100%|██████████| 17/17 [00:00<00:00, 23.32it/s]\n",
      "Epoch 645/1000 [Validation]: 100%|██████████| 1/1 [00:00<00:00, 111.99it/s]\n"
     ]
    },
    {
     "name": "stdout",
     "output_type": "stream",
     "text": [
      "Epoch 645: Train Loss = 0.1382 | Val Loss = 0.1382\n"
     ]
    },
    {
     "name": "stderr",
     "output_type": "stream",
     "text": [
      "Epoch 646/1000 [Training]: 100%|██████████| 17/17 [00:00<00:00, 23.87it/s]\n",
      "Epoch 646/1000 [Validation]: 100%|██████████| 1/1 [00:00<00:00, 109.64it/s]\n"
     ]
    },
    {
     "name": "stdout",
     "output_type": "stream",
     "text": [
      "Epoch 646: Train Loss = 0.1382 | Val Loss = 0.1382\n"
     ]
    },
    {
     "name": "stderr",
     "output_type": "stream",
     "text": [
      "Epoch 647/1000 [Training]: 100%|██████████| 17/17 [00:00<00:00, 23.84it/s]\n",
      "Epoch 647/1000 [Validation]: 100%|██████████| 1/1 [00:00<00:00, 112.93it/s]\n"
     ]
    },
    {
     "name": "stdout",
     "output_type": "stream",
     "text": [
      "Epoch 647: Train Loss = 0.1382 | Val Loss = 0.1382\n"
     ]
    },
    {
     "name": "stderr",
     "output_type": "stream",
     "text": [
      "Epoch 648/1000 [Training]: 100%|██████████| 17/17 [00:00<00:00, 23.78it/s]\n",
      "Epoch 648/1000 [Validation]: 100%|██████████| 1/1 [00:00<00:00, 109.97it/s]\n"
     ]
    },
    {
     "name": "stdout",
     "output_type": "stream",
     "text": [
      "Epoch 648: Train Loss = 0.1382 | Val Loss = 0.1382\n"
     ]
    },
    {
     "name": "stderr",
     "output_type": "stream",
     "text": [
      "Epoch 649/1000 [Training]: 100%|██████████| 17/17 [00:00<00:00, 23.87it/s]\n",
      "Epoch 649/1000 [Validation]: 100%|██████████| 1/1 [00:00<00:00, 112.26it/s]\n"
     ]
    },
    {
     "name": "stdout",
     "output_type": "stream",
     "text": [
      "Epoch 649: Train Loss = 0.1382 | Val Loss = 0.1382\n"
     ]
    },
    {
     "name": "stderr",
     "output_type": "stream",
     "text": [
      "Epoch 650/1000 [Training]: 100%|██████████| 17/17 [00:00<00:00, 23.03it/s]\n",
      "Epoch 650/1000 [Validation]: 100%|██████████| 1/1 [00:00<00:00, 111.46it/s]\n"
     ]
    },
    {
     "name": "stdout",
     "output_type": "stream",
     "text": [
      "Epoch 650: Train Loss = 0.1382 | Val Loss = 0.1382\n"
     ]
    },
    {
     "name": "stderr",
     "output_type": "stream",
     "text": [
      "Epoch 651/1000 [Training]: 100%|██████████| 17/17 [00:00<00:00, 23.00it/s]\n",
      "Epoch 651/1000 [Validation]: 100%|██████████| 1/1 [00:00<00:00, 106.61it/s]\n"
     ]
    },
    {
     "name": "stdout",
     "output_type": "stream",
     "text": [
      "Epoch 651: Train Loss = 0.1382 | Val Loss = 0.1382\n"
     ]
    },
    {
     "name": "stderr",
     "output_type": "stream",
     "text": [
      "Epoch 652/1000 [Training]: 100%|██████████| 17/17 [00:00<00:00, 23.84it/s]\n",
      "Epoch 652/1000 [Validation]: 100%|██████████| 1/1 [00:00<00:00, 108.21it/s]\n"
     ]
    },
    {
     "name": "stdout",
     "output_type": "stream",
     "text": [
      "Epoch 652: Train Loss = 0.1382 | Val Loss = 0.1382\n"
     ]
    },
    {
     "name": "stderr",
     "output_type": "stream",
     "text": [
      "Epoch 653/1000 [Training]: 100%|██████████| 17/17 [00:00<00:00, 23.92it/s]\n",
      "Epoch 653/1000 [Validation]: 100%|██████████| 1/1 [00:00<00:00, 114.84it/s]\n"
     ]
    },
    {
     "name": "stdout",
     "output_type": "stream",
     "text": [
      "Epoch 653: Train Loss = 0.1382 | Val Loss = 0.1382\n"
     ]
    },
    {
     "name": "stderr",
     "output_type": "stream",
     "text": [
      "Epoch 654/1000 [Training]: 100%|██████████| 17/17 [00:00<00:00, 23.88it/s]\n",
      "Epoch 654/1000 [Validation]: 100%|██████████| 1/1 [00:00<00:00, 114.66it/s]\n"
     ]
    },
    {
     "name": "stdout",
     "output_type": "stream",
     "text": [
      "Epoch 654: Train Loss = 0.1382 | Val Loss = 0.1382\n"
     ]
    },
    {
     "name": "stderr",
     "output_type": "stream",
     "text": [
      "Epoch 655/1000 [Training]: 100%|██████████| 17/17 [00:00<00:00, 23.91it/s]\n",
      "Epoch 655/1000 [Validation]: 100%|██████████| 1/1 [00:00<00:00, 113.89it/s]\n"
     ]
    },
    {
     "name": "stdout",
     "output_type": "stream",
     "text": [
      "Epoch 655: Train Loss = 0.1382 | Val Loss = 0.1382\n"
     ]
    },
    {
     "name": "stderr",
     "output_type": "stream",
     "text": [
      "Epoch 656/1000 [Training]: 100%|██████████| 17/17 [00:00<00:00, 23.78it/s]\n",
      "Epoch 656/1000 [Validation]: 100%|██████████| 1/1 [00:00<00:00, 110.82it/s]\n"
     ]
    },
    {
     "name": "stdout",
     "output_type": "stream",
     "text": [
      "Epoch 656: Train Loss = 0.1382 | Val Loss = 0.1382\n"
     ]
    },
    {
     "name": "stderr",
     "output_type": "stream",
     "text": [
      "Epoch 657/1000 [Training]: 100%|██████████| 17/17 [00:00<00:00, 23.88it/s]\n",
      "Epoch 657/1000 [Validation]: 100%|██████████| 1/1 [00:00<00:00, 116.61it/s]\n"
     ]
    },
    {
     "name": "stdout",
     "output_type": "stream",
     "text": [
      "Epoch 657: Train Loss = 0.1382 | Val Loss = 0.1382\n"
     ]
    },
    {
     "name": "stderr",
     "output_type": "stream",
     "text": [
      "Epoch 658/1000 [Training]: 100%|██████████| 17/17 [00:00<00:00, 23.91it/s]\n",
      "Epoch 658/1000 [Validation]: 100%|██████████| 1/1 [00:00<00:00, 115.05it/s]\n"
     ]
    },
    {
     "name": "stdout",
     "output_type": "stream",
     "text": [
      "Epoch 658: Train Loss = 0.1382 | Val Loss = 0.1382\n"
     ]
    },
    {
     "name": "stderr",
     "output_type": "stream",
     "text": [
      "Epoch 659/1000 [Training]: 100%|██████████| 17/17 [00:00<00:00, 23.50it/s]\n",
      "Epoch 659/1000 [Validation]: 100%|██████████| 1/1 [00:00<00:00, 103.64it/s]\n"
     ]
    },
    {
     "name": "stdout",
     "output_type": "stream",
     "text": [
      "Epoch 659: Train Loss = 0.1382 | Val Loss = 0.1382\n"
     ]
    },
    {
     "name": "stderr",
     "output_type": "stream",
     "text": [
      "Epoch 660/1000 [Training]: 100%|██████████| 17/17 [00:00<00:00, 23.78it/s]\n",
      "Epoch 660/1000 [Validation]: 100%|██████████| 1/1 [00:00<00:00, 112.96it/s]\n"
     ]
    },
    {
     "name": "stdout",
     "output_type": "stream",
     "text": [
      "Epoch 660: Train Loss = 0.1382 | Val Loss = 0.1382\n"
     ]
    },
    {
     "name": "stderr",
     "output_type": "stream",
     "text": [
      "Epoch 661/1000 [Training]: 100%|██████████| 17/17 [00:00<00:00, 23.87it/s]\n",
      "Epoch 661/1000 [Validation]: 100%|██████████| 1/1 [00:00<00:00, 116.10it/s]\n"
     ]
    },
    {
     "name": "stdout",
     "output_type": "stream",
     "text": [
      "Epoch 661: Train Loss = 0.1382 | Val Loss = 0.1382\n"
     ]
    },
    {
     "name": "stderr",
     "output_type": "stream",
     "text": [
      "Epoch 662/1000 [Training]: 100%|██████████| 17/17 [00:00<00:00, 23.85it/s]\n",
      "Epoch 662/1000 [Validation]: 100%|██████████| 1/1 [00:00<00:00, 114.24it/s]\n"
     ]
    },
    {
     "name": "stdout",
     "output_type": "stream",
     "text": [
      "Epoch 662: Train Loss = 0.1382 | Val Loss = 0.1382\n"
     ]
    },
    {
     "name": "stderr",
     "output_type": "stream",
     "text": [
      "Epoch 663/1000 [Training]: 100%|██████████| 17/17 [00:00<00:00, 23.93it/s]\n",
      "Epoch 663/1000 [Validation]: 100%|██████████| 1/1 [00:00<00:00, 113.84it/s]\n"
     ]
    },
    {
     "name": "stdout",
     "output_type": "stream",
     "text": [
      "Epoch 663: Train Loss = 0.1382 | Val Loss = 0.1382\n"
     ]
    },
    {
     "name": "stderr",
     "output_type": "stream",
     "text": [
      "Epoch 664/1000 [Training]: 100%|██████████| 17/17 [00:00<00:00, 23.86it/s]\n",
      "Epoch 664/1000 [Validation]: 100%|██████████| 1/1 [00:00<00:00, 109.93it/s]\n"
     ]
    },
    {
     "name": "stdout",
     "output_type": "stream",
     "text": [
      "Epoch 664: Train Loss = 0.1382 | Val Loss = 0.1382\n"
     ]
    },
    {
     "name": "stderr",
     "output_type": "stream",
     "text": [
      "Epoch 665/1000 [Training]: 100%|██████████| 17/17 [00:00<00:00, 23.81it/s]\n",
      "Epoch 665/1000 [Validation]: 100%|██████████| 1/1 [00:00<00:00, 121.25it/s]\n"
     ]
    },
    {
     "name": "stdout",
     "output_type": "stream",
     "text": [
      "Epoch 665: Train Loss = 0.1382 | Val Loss = 0.1382\n"
     ]
    },
    {
     "name": "stderr",
     "output_type": "stream",
     "text": [
      "Epoch 666/1000 [Training]: 100%|██████████| 17/17 [00:00<00:00, 23.85it/s]\n",
      "Epoch 666/1000 [Validation]: 100%|██████████| 1/1 [00:00<00:00, 121.45it/s]\n"
     ]
    },
    {
     "name": "stdout",
     "output_type": "stream",
     "text": [
      "Epoch 666: Train Loss = 0.1382 | Val Loss = 0.1382\n"
     ]
    },
    {
     "name": "stderr",
     "output_type": "stream",
     "text": [
      "Epoch 667/1000 [Training]: 100%|██████████| 17/17 [00:00<00:00, 23.89it/s]\n",
      "Epoch 667/1000 [Validation]: 100%|██████████| 1/1 [00:00<00:00, 114.22it/s]\n"
     ]
    },
    {
     "name": "stdout",
     "output_type": "stream",
     "text": [
      "Epoch 667: Train Loss = 0.1382 | Val Loss = 0.1382\n"
     ]
    },
    {
     "name": "stderr",
     "output_type": "stream",
     "text": [
      "Epoch 668/1000 [Training]: 100%|██████████| 17/17 [00:00<00:00, 23.88it/s]\n",
      "Epoch 668/1000 [Validation]: 100%|██████████| 1/1 [00:00<00:00, 117.42it/s]\n"
     ]
    },
    {
     "name": "stdout",
     "output_type": "stream",
     "text": [
      "Epoch 668: Train Loss = 0.1382 | Val Loss = 0.1382\n"
     ]
    },
    {
     "name": "stderr",
     "output_type": "stream",
     "text": [
      "Epoch 669/1000 [Training]: 100%|██████████| 17/17 [00:00<00:00, 23.90it/s]\n",
      "Epoch 669/1000 [Validation]: 100%|██████████| 1/1 [00:00<00:00, 116.70it/s]\n"
     ]
    },
    {
     "name": "stdout",
     "output_type": "stream",
     "text": [
      "Epoch 669: Train Loss = 0.1382 | Val Loss = 0.1382\n"
     ]
    },
    {
     "name": "stderr",
     "output_type": "stream",
     "text": [
      "Epoch 670/1000 [Training]: 100%|██████████| 17/17 [00:00<00:00, 23.88it/s]\n",
      "Epoch 670/1000 [Validation]: 100%|██████████| 1/1 [00:00<00:00, 114.47it/s]\n"
     ]
    },
    {
     "name": "stdout",
     "output_type": "stream",
     "text": [
      "Epoch 670: Train Loss = 0.1382 | Val Loss = 0.1382\n"
     ]
    },
    {
     "name": "stderr",
     "output_type": "stream",
     "text": [
      "Epoch 671/1000 [Training]: 100%|██████████| 17/17 [00:00<00:00, 23.90it/s]\n",
      "Epoch 671/1000 [Validation]: 100%|██████████| 1/1 [00:00<00:00, 117.84it/s]\n"
     ]
    },
    {
     "name": "stdout",
     "output_type": "stream",
     "text": [
      "Epoch 671: Train Loss = 0.1382 | Val Loss = 0.1382\n"
     ]
    },
    {
     "name": "stderr",
     "output_type": "stream",
     "text": [
      "Epoch 672/1000 [Training]: 100%|██████████| 17/17 [00:00<00:00, 23.90it/s]\n",
      "Epoch 672/1000 [Validation]: 100%|██████████| 1/1 [00:00<00:00, 109.26it/s]\n"
     ]
    },
    {
     "name": "stdout",
     "output_type": "stream",
     "text": [
      "Epoch 672: Train Loss = 0.1382 | Val Loss = 0.1382\n"
     ]
    },
    {
     "name": "stderr",
     "output_type": "stream",
     "text": [
      "Epoch 673/1000 [Training]: 100%|██████████| 17/17 [00:00<00:00, 23.50it/s]\n",
      "Epoch 673/1000 [Validation]: 100%|██████████| 1/1 [00:00<00:00, 120.73it/s]\n"
     ]
    },
    {
     "name": "stdout",
     "output_type": "stream",
     "text": [
      "Epoch 673: Train Loss = 0.1382 | Val Loss = 0.1382\n"
     ]
    },
    {
     "name": "stderr",
     "output_type": "stream",
     "text": [
      "Epoch 674/1000 [Training]: 100%|██████████| 17/17 [00:00<00:00, 23.88it/s]\n",
      "Epoch 674/1000 [Validation]: 100%|██████████| 1/1 [00:00<00:00, 114.65it/s]\n"
     ]
    },
    {
     "name": "stdout",
     "output_type": "stream",
     "text": [
      "Epoch 674: Train Loss = 0.1382 | Val Loss = 0.1382\n"
     ]
    },
    {
     "name": "stderr",
     "output_type": "stream",
     "text": [
      "Epoch 675/1000 [Training]: 100%|██████████| 17/17 [00:00<00:00, 23.90it/s]\n",
      "Epoch 675/1000 [Validation]: 100%|██████████| 1/1 [00:00<00:00, 120.04it/s]\n"
     ]
    },
    {
     "name": "stdout",
     "output_type": "stream",
     "text": [
      "Epoch 675: Train Loss = 0.1382 | Val Loss = 0.1382\n"
     ]
    },
    {
     "name": "stderr",
     "output_type": "stream",
     "text": [
      "Epoch 676/1000 [Training]: 100%|██████████| 17/17 [00:00<00:00, 23.89it/s]\n",
      "Epoch 676/1000 [Validation]: 100%|██████████| 1/1 [00:00<00:00, 108.46it/s]\n"
     ]
    },
    {
     "name": "stdout",
     "output_type": "stream",
     "text": [
      "Epoch 676: Train Loss = 0.1382 | Val Loss = 0.1382\n"
     ]
    },
    {
     "name": "stderr",
     "output_type": "stream",
     "text": [
      "Epoch 677/1000 [Training]: 100%|██████████| 17/17 [00:00<00:00, 23.89it/s]\n",
      "Epoch 677/1000 [Validation]: 100%|██████████| 1/1 [00:00<00:00, 113.64it/s]\n"
     ]
    },
    {
     "name": "stdout",
     "output_type": "stream",
     "text": [
      "Epoch 677: Train Loss = 0.1382 | Val Loss = 0.1382\n"
     ]
    },
    {
     "name": "stderr",
     "output_type": "stream",
     "text": [
      "Epoch 678/1000 [Training]: 100%|██████████| 17/17 [00:00<00:00, 23.91it/s]\n",
      "Epoch 678/1000 [Validation]: 100%|██████████| 1/1 [00:00<00:00, 114.64it/s]\n"
     ]
    },
    {
     "name": "stdout",
     "output_type": "stream",
     "text": [
      "Epoch 678: Train Loss = 0.1382 | Val Loss = 0.1382\n"
     ]
    },
    {
     "name": "stderr",
     "output_type": "stream",
     "text": [
      "Epoch 679/1000 [Training]: 100%|██████████| 17/17 [00:00<00:00, 23.83it/s]\n",
      "Epoch 679/1000 [Validation]: 100%|██████████| 1/1 [00:00<00:00, 115.83it/s]\n"
     ]
    },
    {
     "name": "stdout",
     "output_type": "stream",
     "text": [
      "Epoch 679: Train Loss = 0.1382 | Val Loss = 0.1382\n"
     ]
    },
    {
     "name": "stderr",
     "output_type": "stream",
     "text": [
      "Epoch 680/1000 [Training]: 100%|██████████| 17/17 [00:00<00:00, 23.83it/s]\n",
      "Epoch 680/1000 [Validation]: 100%|██████████| 1/1 [00:00<00:00, 117.68it/s]\n"
     ]
    },
    {
     "name": "stdout",
     "output_type": "stream",
     "text": [
      "Epoch 680: Train Loss = 0.1382 | Val Loss = 0.1382\n"
     ]
    },
    {
     "name": "stderr",
     "output_type": "stream",
     "text": [
      "Epoch 681/1000 [Training]: 100%|██████████| 17/17 [00:00<00:00, 23.90it/s]\n",
      "Epoch 681/1000 [Validation]: 100%|██████████| 1/1 [00:00<00:00, 116.52it/s]\n"
     ]
    },
    {
     "name": "stdout",
     "output_type": "stream",
     "text": [
      "Epoch 681: Train Loss = 0.1382 | Val Loss = 0.1382\n"
     ]
    },
    {
     "name": "stderr",
     "output_type": "stream",
     "text": [
      "Epoch 682/1000 [Training]: 100%|██████████| 17/17 [00:00<00:00, 23.83it/s]\n",
      "Epoch 682/1000 [Validation]: 100%|██████████| 1/1 [00:00<00:00, 112.30it/s]\n"
     ]
    },
    {
     "name": "stdout",
     "output_type": "stream",
     "text": [
      "Epoch 682: Train Loss = 0.1382 | Val Loss = 0.1382\n"
     ]
    },
    {
     "name": "stderr",
     "output_type": "stream",
     "text": [
      "Epoch 683/1000 [Training]: 100%|██████████| 17/17 [00:00<00:00, 23.91it/s]\n",
      "Epoch 683/1000 [Validation]: 100%|██████████| 1/1 [00:00<00:00, 114.31it/s]\n"
     ]
    },
    {
     "name": "stdout",
     "output_type": "stream",
     "text": [
      "Epoch 683: Train Loss = 0.1382 | Val Loss = 0.1382\n"
     ]
    },
    {
     "name": "stderr",
     "output_type": "stream",
     "text": [
      "Epoch 684/1000 [Training]: 100%|██████████| 17/17 [00:00<00:00, 23.85it/s]\n",
      "Epoch 684/1000 [Validation]: 100%|██████████| 1/1 [00:00<00:00, 116.04it/s]\n"
     ]
    },
    {
     "name": "stdout",
     "output_type": "stream",
     "text": [
      "Epoch 684: Train Loss = 0.1382 | Val Loss = 0.1382\n"
     ]
    },
    {
     "name": "stderr",
     "output_type": "stream",
     "text": [
      "Epoch 685/1000 [Training]: 100%|██████████| 17/17 [00:00<00:00, 23.82it/s]\n",
      "Epoch 685/1000 [Validation]: 100%|██████████| 1/1 [00:00<00:00, 107.07it/s]\n"
     ]
    },
    {
     "name": "stdout",
     "output_type": "stream",
     "text": [
      "Epoch 685: Train Loss = 0.1382 | Val Loss = 0.1382\n"
     ]
    },
    {
     "name": "stderr",
     "output_type": "stream",
     "text": [
      "Epoch 686/1000 [Training]: 100%|██████████| 17/17 [00:00<00:00, 23.15it/s]\n",
      "Epoch 686/1000 [Validation]: 100%|██████████| 1/1 [00:00<00:00, 107.66it/s]\n"
     ]
    },
    {
     "name": "stdout",
     "output_type": "stream",
     "text": [
      "Epoch 686: Train Loss = 0.1382 | Val Loss = 0.1382\n"
     ]
    },
    {
     "name": "stderr",
     "output_type": "stream",
     "text": [
      "Epoch 687/1000 [Training]: 100%|██████████| 17/17 [00:00<00:00, 23.59it/s]\n",
      "Epoch 687/1000 [Validation]: 100%|██████████| 1/1 [00:00<00:00, 109.78it/s]\n"
     ]
    },
    {
     "name": "stdout",
     "output_type": "stream",
     "text": [
      "Epoch 687: Train Loss = 0.1382 | Val Loss = 0.1382\n"
     ]
    },
    {
     "name": "stderr",
     "output_type": "stream",
     "text": [
      "Epoch 688/1000 [Training]: 100%|██████████| 17/17 [00:00<00:00, 23.74it/s]\n",
      "Epoch 688/1000 [Validation]: 100%|██████████| 1/1 [00:00<00:00, 109.63it/s]\n"
     ]
    },
    {
     "name": "stdout",
     "output_type": "stream",
     "text": [
      "Epoch 688: Train Loss = 0.1382 | Val Loss = 0.1382\n"
     ]
    },
    {
     "name": "stderr",
     "output_type": "stream",
     "text": [
      "Epoch 689/1000 [Training]: 100%|██████████| 17/17 [00:00<00:00, 23.89it/s]\n",
      "Epoch 689/1000 [Validation]: 100%|██████████| 1/1 [00:00<00:00, 120.13it/s]\n"
     ]
    },
    {
     "name": "stdout",
     "output_type": "stream",
     "text": [
      "Epoch 689: Train Loss = 0.1382 | Val Loss = 0.1382\n"
     ]
    },
    {
     "name": "stderr",
     "output_type": "stream",
     "text": [
      "Epoch 690/1000 [Training]: 100%|██████████| 17/17 [00:00<00:00, 23.86it/s]\n",
      "Epoch 690/1000 [Validation]: 100%|██████████| 1/1 [00:00<00:00, 110.78it/s]\n"
     ]
    },
    {
     "name": "stdout",
     "output_type": "stream",
     "text": [
      "Epoch 690: Train Loss = 0.1382 | Val Loss = 0.1382\n"
     ]
    },
    {
     "name": "stderr",
     "output_type": "stream",
     "text": [
      "Epoch 691/1000 [Training]: 100%|██████████| 17/17 [00:00<00:00, 23.86it/s]\n",
      "Epoch 691/1000 [Validation]: 100%|██████████| 1/1 [00:00<00:00, 118.69it/s]\n"
     ]
    },
    {
     "name": "stdout",
     "output_type": "stream",
     "text": [
      "Epoch 691: Train Loss = 0.1382 | Val Loss = 0.1382\n"
     ]
    },
    {
     "name": "stderr",
     "output_type": "stream",
     "text": [
      "Epoch 692/1000 [Training]: 100%|██████████| 17/17 [00:00<00:00, 23.83it/s]\n",
      "Epoch 692/1000 [Validation]: 100%|██████████| 1/1 [00:00<00:00, 113.31it/s]\n"
     ]
    },
    {
     "name": "stdout",
     "output_type": "stream",
     "text": [
      "Epoch 692: Train Loss = 0.1382 | Val Loss = 0.1382\n"
     ]
    },
    {
     "name": "stderr",
     "output_type": "stream",
     "text": [
      "Epoch 693/1000 [Training]: 100%|██████████| 17/17 [00:00<00:00, 23.67it/s]\n",
      "Epoch 693/1000 [Validation]: 100%|██████████| 1/1 [00:00<00:00, 95.17it/s]\n"
     ]
    },
    {
     "name": "stdout",
     "output_type": "stream",
     "text": [
      "Epoch 693: Train Loss = 0.1382 | Val Loss = 0.1382\n"
     ]
    },
    {
     "name": "stderr",
     "output_type": "stream",
     "text": [
      "Epoch 694/1000 [Training]: 100%|██████████| 17/17 [00:00<00:00, 23.23it/s]\n",
      "Epoch 694/1000 [Validation]: 100%|██████████| 1/1 [00:00<00:00, 111.98it/s]\n"
     ]
    },
    {
     "name": "stdout",
     "output_type": "stream",
     "text": [
      "Epoch 694: Train Loss = 0.1382 | Val Loss = 0.1382\n"
     ]
    },
    {
     "name": "stderr",
     "output_type": "stream",
     "text": [
      "Epoch 695/1000 [Training]: 100%|██████████| 17/17 [00:00<00:00, 23.75it/s]\n",
      "Epoch 695/1000 [Validation]: 100%|██████████| 1/1 [00:00<00:00, 116.25it/s]\n"
     ]
    },
    {
     "name": "stdout",
     "output_type": "stream",
     "text": [
      "Epoch 695: Train Loss = 0.1382 | Val Loss = 0.1382\n"
     ]
    },
    {
     "name": "stderr",
     "output_type": "stream",
     "text": [
      "Epoch 696/1000 [Training]: 100%|██████████| 17/17 [00:00<00:00, 23.84it/s]\n",
      "Epoch 696/1000 [Validation]: 100%|██████████| 1/1 [00:00<00:00, 113.89it/s]\n"
     ]
    },
    {
     "name": "stdout",
     "output_type": "stream",
     "text": [
      "Epoch 696: Train Loss = 0.1382 | Val Loss = 0.1382\n"
     ]
    },
    {
     "name": "stderr",
     "output_type": "stream",
     "text": [
      "Epoch 697/1000 [Training]: 100%|██████████| 17/17 [00:00<00:00, 23.89it/s]\n",
      "Epoch 697/1000 [Validation]: 100%|██████████| 1/1 [00:00<00:00, 117.92it/s]\n"
     ]
    },
    {
     "name": "stdout",
     "output_type": "stream",
     "text": [
      "Epoch 697: Train Loss = 0.1382 | Val Loss = 0.1382\n"
     ]
    },
    {
     "name": "stderr",
     "output_type": "stream",
     "text": [
      "Epoch 698/1000 [Training]: 100%|██████████| 17/17 [00:00<00:00, 23.85it/s]\n",
      "Epoch 698/1000 [Validation]: 100%|██████████| 1/1 [00:00<00:00, 119.24it/s]\n"
     ]
    },
    {
     "name": "stdout",
     "output_type": "stream",
     "text": [
      "Epoch 698: Train Loss = 0.1382 | Val Loss = 0.1382\n"
     ]
    },
    {
     "name": "stderr",
     "output_type": "stream",
     "text": [
      "Epoch 699/1000 [Training]: 100%|██████████| 17/17 [00:00<00:00, 23.86it/s]\n",
      "Epoch 699/1000 [Validation]: 100%|██████████| 1/1 [00:00<00:00, 103.13it/s]\n"
     ]
    },
    {
     "name": "stdout",
     "output_type": "stream",
     "text": [
      "Epoch 699: Train Loss = 0.1382 | Val Loss = 0.1382\n"
     ]
    },
    {
     "name": "stderr",
     "output_type": "stream",
     "text": [
      "Epoch 700/1000 [Training]: 100%|██████████| 17/17 [00:00<00:00, 23.29it/s]\n",
      "Epoch 700/1000 [Validation]: 100%|██████████| 1/1 [00:00<00:00, 115.63it/s]\n"
     ]
    },
    {
     "name": "stdout",
     "output_type": "stream",
     "text": [
      "Epoch 700: Train Loss = 0.1382 | Val Loss = 0.1382\n"
     ]
    },
    {
     "name": "stderr",
     "output_type": "stream",
     "text": [
      "Epoch 701/1000 [Training]: 100%|██████████| 17/17 [00:00<00:00, 23.87it/s]\n",
      "Epoch 701/1000 [Validation]: 100%|██████████| 1/1 [00:00<00:00, 111.43it/s]\n"
     ]
    },
    {
     "name": "stdout",
     "output_type": "stream",
     "text": [
      "Epoch 701: Train Loss = 0.1382 | Val Loss = 0.1382\n"
     ]
    },
    {
     "name": "stderr",
     "output_type": "stream",
     "text": [
      "Epoch 702/1000 [Training]: 100%|██████████| 17/17 [00:00<00:00, 23.74it/s]\n",
      "Epoch 702/1000 [Validation]: 100%|██████████| 1/1 [00:00<00:00, 117.55it/s]\n"
     ]
    },
    {
     "name": "stdout",
     "output_type": "stream",
     "text": [
      "Epoch 702: Train Loss = 0.1382 | Val Loss = 0.1382\n"
     ]
    },
    {
     "name": "stderr",
     "output_type": "stream",
     "text": [
      "Epoch 703/1000 [Training]: 100%|██████████| 17/17 [00:00<00:00, 22.97it/s]\n",
      "Epoch 703/1000 [Validation]: 100%|██████████| 1/1 [00:00<00:00, 107.71it/s]\n"
     ]
    },
    {
     "name": "stdout",
     "output_type": "stream",
     "text": [
      "Epoch 703: Train Loss = 0.1382 | Val Loss = 0.1382\n"
     ]
    },
    {
     "name": "stderr",
     "output_type": "stream",
     "text": [
      "Epoch 704/1000 [Training]: 100%|██████████| 17/17 [00:00<00:00, 23.85it/s]\n",
      "Epoch 704/1000 [Validation]: 100%|██████████| 1/1 [00:00<00:00, 109.54it/s]\n"
     ]
    },
    {
     "name": "stdout",
     "output_type": "stream",
     "text": [
      "Epoch 704: Train Loss = 0.1382 | Val Loss = 0.1382\n"
     ]
    },
    {
     "name": "stderr",
     "output_type": "stream",
     "text": [
      "Epoch 705/1000 [Training]: 100%|██████████| 17/17 [00:00<00:00, 23.89it/s]\n",
      "Epoch 705/1000 [Validation]: 100%|██████████| 1/1 [00:00<00:00, 116.16it/s]\n"
     ]
    },
    {
     "name": "stdout",
     "output_type": "stream",
     "text": [
      "Epoch 705: Train Loss = 0.1382 | Val Loss = 0.1382\n"
     ]
    },
    {
     "name": "stderr",
     "output_type": "stream",
     "text": [
      "Epoch 706/1000 [Training]: 100%|██████████| 17/17 [00:00<00:00, 23.86it/s]\n",
      "Epoch 706/1000 [Validation]: 100%|██████████| 1/1 [00:00<00:00, 116.06it/s]\n"
     ]
    },
    {
     "name": "stdout",
     "output_type": "stream",
     "text": [
      "Epoch 706: Train Loss = 0.1382 | Val Loss = 0.1382\n"
     ]
    },
    {
     "name": "stderr",
     "output_type": "stream",
     "text": [
      "Epoch 707/1000 [Training]: 100%|██████████| 17/17 [00:00<00:00, 23.90it/s]\n",
      "Epoch 707/1000 [Validation]: 100%|██████████| 1/1 [00:00<00:00, 113.66it/s]\n"
     ]
    },
    {
     "name": "stdout",
     "output_type": "stream",
     "text": [
      "Epoch 707: Train Loss = 0.1382 | Val Loss = 0.1382\n"
     ]
    },
    {
     "name": "stderr",
     "output_type": "stream",
     "text": [
      "Epoch 708/1000 [Training]: 100%|██████████| 17/17 [00:00<00:00, 23.86it/s]\n",
      "Epoch 708/1000 [Validation]: 100%|██████████| 1/1 [00:00<00:00, 113.46it/s]\n"
     ]
    },
    {
     "name": "stdout",
     "output_type": "stream",
     "text": [
      "Epoch 708: Train Loss = 0.1382 | Val Loss = 0.1382\n"
     ]
    },
    {
     "name": "stderr",
     "output_type": "stream",
     "text": [
      "Epoch 709/1000 [Training]: 100%|██████████| 17/17 [00:00<00:00, 23.91it/s]\n",
      "Epoch 709/1000 [Validation]: 100%|██████████| 1/1 [00:00<00:00, 114.65it/s]\n"
     ]
    },
    {
     "name": "stdout",
     "output_type": "stream",
     "text": [
      "Epoch 709: Train Loss = 0.1382 | Val Loss = 0.1382\n"
     ]
    },
    {
     "name": "stderr",
     "output_type": "stream",
     "text": [
      "Epoch 710/1000 [Training]: 100%|██████████| 17/17 [00:00<00:00, 23.83it/s]\n",
      "Epoch 710/1000 [Validation]: 100%|██████████| 1/1 [00:00<00:00, 120.69it/s]\n"
     ]
    },
    {
     "name": "stdout",
     "output_type": "stream",
     "text": [
      "Epoch 710: Train Loss = 0.1382 | Val Loss = 0.1382\n"
     ]
    },
    {
     "name": "stderr",
     "output_type": "stream",
     "text": [
      "Epoch 711/1000 [Training]: 100%|██████████| 17/17 [00:00<00:00, 23.83it/s]\n",
      "Epoch 711/1000 [Validation]: 100%|██████████| 1/1 [00:00<00:00, 113.56it/s]\n"
     ]
    },
    {
     "name": "stdout",
     "output_type": "stream",
     "text": [
      "Epoch 711: Train Loss = 0.1382 | Val Loss = 0.1382\n"
     ]
    },
    {
     "name": "stderr",
     "output_type": "stream",
     "text": [
      "Epoch 712/1000 [Training]: 100%|██████████| 17/17 [00:00<00:00, 23.90it/s]\n",
      "Epoch 712/1000 [Validation]: 100%|██████████| 1/1 [00:00<00:00, 116.67it/s]\n"
     ]
    },
    {
     "name": "stdout",
     "output_type": "stream",
     "text": [
      "Epoch 712: Train Loss = 0.1382 | Val Loss = 0.1382\n"
     ]
    },
    {
     "name": "stderr",
     "output_type": "stream",
     "text": [
      "Epoch 713/1000 [Training]: 100%|██████████| 17/17 [00:00<00:00, 23.86it/s]\n",
      "Epoch 713/1000 [Validation]: 100%|██████████| 1/1 [00:00<00:00, 115.73it/s]\n"
     ]
    },
    {
     "name": "stdout",
     "output_type": "stream",
     "text": [
      "Epoch 713: Train Loss = 0.1382 | Val Loss = 0.1382\n"
     ]
    },
    {
     "name": "stderr",
     "output_type": "stream",
     "text": [
      "Epoch 714/1000 [Training]: 100%|██████████| 17/17 [00:00<00:00, 23.42it/s]\n",
      "Epoch 714/1000 [Validation]: 100%|██████████| 1/1 [00:00<00:00, 113.22it/s]\n"
     ]
    },
    {
     "name": "stdout",
     "output_type": "stream",
     "text": [
      "Epoch 714: Train Loss = 0.1382 | Val Loss = 0.1382\n"
     ]
    },
    {
     "name": "stderr",
     "output_type": "stream",
     "text": [
      "Epoch 715/1000 [Training]: 100%|██████████| 17/17 [00:00<00:00, 23.88it/s]\n",
      "Epoch 715/1000 [Validation]: 100%|██████████| 1/1 [00:00<00:00, 113.74it/s]\n"
     ]
    },
    {
     "name": "stdout",
     "output_type": "stream",
     "text": [
      "Epoch 715: Train Loss = 0.1382 | Val Loss = 0.1382\n"
     ]
    },
    {
     "name": "stderr",
     "output_type": "stream",
     "text": [
      "Epoch 716/1000 [Training]: 100%|██████████| 17/17 [00:00<00:00, 23.81it/s]\n",
      "Epoch 716/1000 [Validation]: 100%|██████████| 1/1 [00:00<00:00, 109.31it/s]\n"
     ]
    },
    {
     "name": "stdout",
     "output_type": "stream",
     "text": [
      "Epoch 716: Train Loss = 0.1382 | Val Loss = 0.1382\n"
     ]
    },
    {
     "name": "stderr",
     "output_type": "stream",
     "text": [
      "Epoch 717/1000 [Training]: 100%|██████████| 17/17 [00:00<00:00, 23.86it/s]\n",
      "Epoch 717/1000 [Validation]: 100%|██████████| 1/1 [00:00<00:00, 115.97it/s]\n"
     ]
    },
    {
     "name": "stdout",
     "output_type": "stream",
     "text": [
      "Epoch 717: Train Loss = 0.1382 | Val Loss = 0.1382\n"
     ]
    },
    {
     "name": "stderr",
     "output_type": "stream",
     "text": [
      "Epoch 718/1000 [Training]: 100%|██████████| 17/17 [00:00<00:00, 23.87it/s]\n",
      "Epoch 718/1000 [Validation]: 100%|██████████| 1/1 [00:00<00:00, 120.08it/s]\n"
     ]
    },
    {
     "name": "stdout",
     "output_type": "stream",
     "text": [
      "Epoch 718: Train Loss = 0.1382 | Val Loss = 0.1382\n"
     ]
    },
    {
     "name": "stderr",
     "output_type": "stream",
     "text": [
      "Epoch 719/1000 [Training]: 100%|██████████| 17/17 [00:00<00:00, 23.84it/s]\n",
      "Epoch 719/1000 [Validation]: 100%|██████████| 1/1 [00:00<00:00, 114.84it/s]\n"
     ]
    },
    {
     "name": "stdout",
     "output_type": "stream",
     "text": [
      "Epoch 719: Train Loss = 0.1382 | Val Loss = 0.1382\n"
     ]
    },
    {
     "name": "stderr",
     "output_type": "stream",
     "text": [
      "Epoch 720/1000 [Training]: 100%|██████████| 17/17 [00:00<00:00, 23.78it/s]\n",
      "Epoch 720/1000 [Validation]: 100%|██████████| 1/1 [00:00<00:00, 108.63it/s]\n"
     ]
    },
    {
     "name": "stdout",
     "output_type": "stream",
     "text": [
      "Epoch 720: Train Loss = 0.1382 | Val Loss = 0.1382\n"
     ]
    },
    {
     "name": "stderr",
     "output_type": "stream",
     "text": [
      "Epoch 721/1000 [Training]: 100%|██████████| 17/17 [00:00<00:00, 23.74it/s]\n",
      "Epoch 721/1000 [Validation]: 100%|██████████| 1/1 [00:00<00:00, 115.71it/s]\n"
     ]
    },
    {
     "name": "stdout",
     "output_type": "stream",
     "text": [
      "Epoch 721: Train Loss = 0.1382 | Val Loss = 0.1382\n"
     ]
    },
    {
     "name": "stderr",
     "output_type": "stream",
     "text": [
      "Epoch 722/1000 [Training]: 100%|██████████| 17/17 [00:00<00:00, 23.72it/s]\n",
      "Epoch 722/1000 [Validation]: 100%|██████████| 1/1 [00:00<00:00, 108.76it/s]\n"
     ]
    },
    {
     "name": "stdout",
     "output_type": "stream",
     "text": [
      "Epoch 722: Train Loss = 0.1382 | Val Loss = 0.1382\n"
     ]
    },
    {
     "name": "stderr",
     "output_type": "stream",
     "text": [
      "Epoch 723/1000 [Training]: 100%|██████████| 17/17 [00:00<00:00, 23.77it/s]\n",
      "Epoch 723/1000 [Validation]: 100%|██████████| 1/1 [00:00<00:00, 114.23it/s]\n"
     ]
    },
    {
     "name": "stdout",
     "output_type": "stream",
     "text": [
      "Epoch 723: Train Loss = 0.1382 | Val Loss = 0.1382\n"
     ]
    },
    {
     "name": "stderr",
     "output_type": "stream",
     "text": [
      "Epoch 724/1000 [Training]: 100%|██████████| 17/17 [00:00<00:00, 23.75it/s]\n",
      "Epoch 724/1000 [Validation]: 100%|██████████| 1/1 [00:00<00:00, 120.08it/s]\n"
     ]
    },
    {
     "name": "stdout",
     "output_type": "stream",
     "text": [
      "Epoch 724: Train Loss = 0.1382 | Val Loss = 0.1382\n"
     ]
    },
    {
     "name": "stderr",
     "output_type": "stream",
     "text": [
      "Epoch 725/1000 [Training]: 100%|██████████| 17/17 [00:00<00:00, 23.78it/s]\n",
      "Epoch 725/1000 [Validation]: 100%|██████████| 1/1 [00:00<00:00, 112.25it/s]\n"
     ]
    },
    {
     "name": "stdout",
     "output_type": "stream",
     "text": [
      "Epoch 725: Train Loss = 0.1382 | Val Loss = 0.1382\n"
     ]
    },
    {
     "name": "stderr",
     "output_type": "stream",
     "text": [
      "Epoch 726/1000 [Training]: 100%|██████████| 17/17 [00:00<00:00, 23.79it/s]\n",
      "Epoch 726/1000 [Validation]: 100%|██████████| 1/1 [00:00<00:00, 106.48it/s]\n"
     ]
    },
    {
     "name": "stdout",
     "output_type": "stream",
     "text": [
      "Epoch 726: Train Loss = 0.1382 | Val Loss = 0.1382\n"
     ]
    },
    {
     "name": "stderr",
     "output_type": "stream",
     "text": [
      "Epoch 727/1000 [Training]: 100%|██████████| 17/17 [00:00<00:00, 23.27it/s]\n",
      "Epoch 727/1000 [Validation]: 100%|██████████| 1/1 [00:00<00:00, 110.91it/s]\n"
     ]
    },
    {
     "name": "stdout",
     "output_type": "stream",
     "text": [
      "Epoch 727: Train Loss = 0.1382 | Val Loss = 0.1382\n"
     ]
    },
    {
     "name": "stderr",
     "output_type": "stream",
     "text": [
      "Epoch 728/1000 [Training]: 100%|██████████| 17/17 [00:00<00:00, 23.76it/s]\n",
      "Epoch 728/1000 [Validation]: 100%|██████████| 1/1 [00:00<00:00, 102.20it/s]\n"
     ]
    },
    {
     "name": "stdout",
     "output_type": "stream",
     "text": [
      "Epoch 728: Train Loss = 0.1382 | Val Loss = 0.1382\n"
     ]
    },
    {
     "name": "stderr",
     "output_type": "stream",
     "text": [
      "Epoch 729/1000 [Training]: 100%|██████████| 17/17 [00:00<00:00, 23.79it/s]\n",
      "Epoch 729/1000 [Validation]: 100%|██████████| 1/1 [00:00<00:00, 109.07it/s]\n"
     ]
    },
    {
     "name": "stdout",
     "output_type": "stream",
     "text": [
      "Epoch 729: Train Loss = 0.1382 | Val Loss = 0.1382\n"
     ]
    },
    {
     "name": "stderr",
     "output_type": "stream",
     "text": [
      "Epoch 730/1000 [Training]: 100%|██████████| 17/17 [00:00<00:00, 23.77it/s]\n",
      "Epoch 730/1000 [Validation]: 100%|██████████| 1/1 [00:00<00:00, 115.71it/s]\n"
     ]
    },
    {
     "name": "stdout",
     "output_type": "stream",
     "text": [
      "Epoch 730: Train Loss = 0.1382 | Val Loss = 0.1382\n"
     ]
    },
    {
     "name": "stderr",
     "output_type": "stream",
     "text": [
      "Epoch 731/1000 [Training]: 100%|██████████| 17/17 [00:00<00:00, 23.73it/s]\n",
      "Epoch 731/1000 [Validation]: 100%|██████████| 1/1 [00:00<00:00, 113.56it/s]\n"
     ]
    },
    {
     "name": "stdout",
     "output_type": "stream",
     "text": [
      "Epoch 731: Train Loss = 0.1382 | Val Loss = 0.1382\n"
     ]
    },
    {
     "name": "stderr",
     "output_type": "stream",
     "text": [
      "Epoch 732/1000 [Training]: 100%|██████████| 17/17 [00:00<00:00, 23.75it/s]\n",
      "Epoch 732/1000 [Validation]: 100%|██████████| 1/1 [00:00<00:00, 113.27it/s]\n"
     ]
    },
    {
     "name": "stdout",
     "output_type": "stream",
     "text": [
      "Epoch 732: Train Loss = 0.1382 | Val Loss = 0.1382\n"
     ]
    },
    {
     "name": "stderr",
     "output_type": "stream",
     "text": [
      "Epoch 733/1000 [Training]: 100%|██████████| 17/17 [00:00<00:00, 23.79it/s]\n",
      "Epoch 733/1000 [Validation]: 100%|██████████| 1/1 [00:00<00:00, 109.66it/s]\n"
     ]
    },
    {
     "name": "stdout",
     "output_type": "stream",
     "text": [
      "Epoch 733: Train Loss = 0.1382 | Val Loss = 0.1382\n"
     ]
    },
    {
     "name": "stderr",
     "output_type": "stream",
     "text": [
      "Epoch 734/1000 [Training]: 100%|██████████| 17/17 [00:00<00:00, 23.78it/s]\n",
      "Epoch 734/1000 [Validation]: 100%|██████████| 1/1 [00:00<00:00, 111.00it/s]\n"
     ]
    },
    {
     "name": "stdout",
     "output_type": "stream",
     "text": [
      "Epoch 734: Train Loss = 0.1382 | Val Loss = 0.1382\n"
     ]
    },
    {
     "name": "stderr",
     "output_type": "stream",
     "text": [
      "Epoch 735/1000 [Training]: 100%|██████████| 17/17 [00:00<00:00, 23.75it/s]\n",
      "Epoch 735/1000 [Validation]: 100%|██████████| 1/1 [00:00<00:00, 108.69it/s]\n"
     ]
    },
    {
     "name": "stdout",
     "output_type": "stream",
     "text": [
      "Epoch 735: Train Loss = 0.1382 | Val Loss = 0.1382\n"
     ]
    },
    {
     "name": "stderr",
     "output_type": "stream",
     "text": [
      "Epoch 736/1000 [Training]: 100%|██████████| 17/17 [00:00<00:00, 23.75it/s]\n",
      "Epoch 736/1000 [Validation]: 100%|██████████| 1/1 [00:00<00:00, 109.91it/s]\n"
     ]
    },
    {
     "name": "stdout",
     "output_type": "stream",
     "text": [
      "Epoch 736: Train Loss = 0.1382 | Val Loss = 0.1382\n"
     ]
    },
    {
     "name": "stderr",
     "output_type": "stream",
     "text": [
      "Epoch 737/1000 [Training]: 100%|██████████| 17/17 [00:00<00:00, 22.91it/s]\n",
      "Epoch 737/1000 [Validation]: 100%|██████████| 1/1 [00:00<00:00, 105.27it/s]\n"
     ]
    },
    {
     "name": "stdout",
     "output_type": "stream",
     "text": [
      "Epoch 737: Train Loss = 0.1382 | Val Loss = 0.1382\n"
     ]
    },
    {
     "name": "stderr",
     "output_type": "stream",
     "text": [
      "Epoch 738/1000 [Training]: 100%|██████████| 17/17 [00:00<00:00, 23.64it/s]\n",
      "Epoch 738/1000 [Validation]: 100%|██████████| 1/1 [00:00<00:00, 115.63it/s]\n"
     ]
    },
    {
     "name": "stdout",
     "output_type": "stream",
     "text": [
      "Epoch 738: Train Loss = 0.1382 | Val Loss = 0.1382\n"
     ]
    },
    {
     "name": "stderr",
     "output_type": "stream",
     "text": [
      "Epoch 739/1000 [Training]: 100%|██████████| 17/17 [00:00<00:00, 23.74it/s]\n",
      "Epoch 739/1000 [Validation]: 100%|██████████| 1/1 [00:00<00:00, 108.86it/s]\n"
     ]
    },
    {
     "name": "stdout",
     "output_type": "stream",
     "text": [
      "Epoch 739: Train Loss = 0.1382 | Val Loss = 0.1382\n"
     ]
    },
    {
     "name": "stderr",
     "output_type": "stream",
     "text": [
      "Epoch 740/1000 [Training]: 100%|██████████| 17/17 [00:00<00:00, 23.77it/s]\n",
      "Epoch 740/1000 [Validation]: 100%|██████████| 1/1 [00:00<00:00, 107.76it/s]\n"
     ]
    },
    {
     "name": "stdout",
     "output_type": "stream",
     "text": [
      "Epoch 740: Train Loss = 0.1382 | Val Loss = 0.1382\n"
     ]
    },
    {
     "name": "stderr",
     "output_type": "stream",
     "text": [
      "Epoch 741/1000 [Training]: 100%|██████████| 17/17 [00:00<00:00, 23.39it/s]\n",
      "Epoch 741/1000 [Validation]: 100%|██████████| 1/1 [00:00<00:00, 115.85it/s]\n"
     ]
    },
    {
     "name": "stdout",
     "output_type": "stream",
     "text": [
      "Epoch 741: Train Loss = 0.1382 | Val Loss = 0.1382\n"
     ]
    },
    {
     "name": "stderr",
     "output_type": "stream",
     "text": [
      "Epoch 742/1000 [Training]: 100%|██████████| 17/17 [00:00<00:00, 23.76it/s]\n",
      "Epoch 742/1000 [Validation]: 100%|██████████| 1/1 [00:00<00:00, 110.08it/s]\n"
     ]
    },
    {
     "name": "stdout",
     "output_type": "stream",
     "text": [
      "Epoch 742: Train Loss = 0.1382 | Val Loss = 0.1382\n"
     ]
    },
    {
     "name": "stderr",
     "output_type": "stream",
     "text": [
      "Epoch 743/1000 [Training]: 100%|██████████| 17/17 [00:00<00:00, 23.73it/s]\n",
      "Epoch 743/1000 [Validation]: 100%|██████████| 1/1 [00:00<00:00, 108.20it/s]\n"
     ]
    },
    {
     "name": "stdout",
     "output_type": "stream",
     "text": [
      "Epoch 743: Train Loss = 0.1382 | Val Loss = 0.1382\n"
     ]
    },
    {
     "name": "stderr",
     "output_type": "stream",
     "text": [
      "Epoch 744/1000 [Training]: 100%|██████████| 17/17 [00:00<00:00, 23.77it/s]\n",
      "Epoch 744/1000 [Validation]: 100%|██████████| 1/1 [00:00<00:00, 107.23it/s]\n"
     ]
    },
    {
     "name": "stdout",
     "output_type": "stream",
     "text": [
      "Epoch 744: Train Loss = 0.1382 | Val Loss = 0.1382\n"
     ]
    },
    {
     "name": "stderr",
     "output_type": "stream",
     "text": [
      "Epoch 745/1000 [Training]: 100%|██████████| 17/17 [00:00<00:00, 23.72it/s]\n",
      "Epoch 745/1000 [Validation]: 100%|██████████| 1/1 [00:00<00:00, 109.18it/s]\n"
     ]
    },
    {
     "name": "stdout",
     "output_type": "stream",
     "text": [
      "Epoch 745: Train Loss = 0.1382 | Val Loss = 0.1382\n"
     ]
    },
    {
     "name": "stderr",
     "output_type": "stream",
     "text": [
      "Epoch 746/1000 [Training]: 100%|██████████| 17/17 [00:00<00:00, 23.73it/s]\n",
      "Epoch 746/1000 [Validation]: 100%|██████████| 1/1 [00:00<00:00, 111.55it/s]\n"
     ]
    },
    {
     "name": "stdout",
     "output_type": "stream",
     "text": [
      "Epoch 746: Train Loss = 0.1382 | Val Loss = 0.1382\n"
     ]
    },
    {
     "name": "stderr",
     "output_type": "stream",
     "text": [
      "Epoch 747/1000 [Training]: 100%|██████████| 17/17 [00:00<00:00, 23.78it/s]\n",
      "Epoch 747/1000 [Validation]: 100%|██████████| 1/1 [00:00<00:00, 104.71it/s]\n"
     ]
    },
    {
     "name": "stdout",
     "output_type": "stream",
     "text": [
      "Epoch 747: Train Loss = 0.1382 | Val Loss = 0.1382\n"
     ]
    },
    {
     "name": "stderr",
     "output_type": "stream",
     "text": [
      "Epoch 748/1000 [Training]: 100%|██████████| 17/17 [00:00<00:00, 23.75it/s]\n",
      "Epoch 748/1000 [Validation]: 100%|██████████| 1/1 [00:00<00:00, 119.78it/s]\n"
     ]
    },
    {
     "name": "stdout",
     "output_type": "stream",
     "text": [
      "Epoch 748: Train Loss = 0.1382 | Val Loss = 0.1382\n"
     ]
    },
    {
     "name": "stderr",
     "output_type": "stream",
     "text": [
      "Epoch 749/1000 [Training]: 100%|██████████| 17/17 [00:00<00:00, 23.76it/s]\n",
      "Epoch 749/1000 [Validation]: 100%|██████████| 1/1 [00:00<00:00, 104.55it/s]\n"
     ]
    },
    {
     "name": "stdout",
     "output_type": "stream",
     "text": [
      "Epoch 749: Train Loss = 0.1382 | Val Loss = 0.1382\n"
     ]
    },
    {
     "name": "stderr",
     "output_type": "stream",
     "text": [
      "Epoch 750/1000 [Training]: 100%|██████████| 17/17 [00:00<00:00, 23.81it/s]\n",
      "Epoch 750/1000 [Validation]: 100%|██████████| 1/1 [00:00<00:00, 116.03it/s]\n"
     ]
    },
    {
     "name": "stdout",
     "output_type": "stream",
     "text": [
      "Epoch 750: Train Loss = 0.1382 | Val Loss = 0.1382\n"
     ]
    },
    {
     "name": "stderr",
     "output_type": "stream",
     "text": [
      "Epoch 751/1000 [Training]: 100%|██████████| 17/17 [00:00<00:00, 23.85it/s]\n",
      "Epoch 751/1000 [Validation]: 100%|██████████| 1/1 [00:00<00:00, 110.72it/s]\n"
     ]
    },
    {
     "name": "stdout",
     "output_type": "stream",
     "text": [
      "Epoch 751: Train Loss = 0.1382 | Val Loss = 0.1382\n"
     ]
    },
    {
     "name": "stderr",
     "output_type": "stream",
     "text": [
      "Epoch 752/1000 [Training]: 100%|██████████| 17/17 [00:00<00:00, 23.76it/s]\n",
      "Epoch 752/1000 [Validation]: 100%|██████████| 1/1 [00:00<00:00, 109.06it/s]\n"
     ]
    },
    {
     "name": "stdout",
     "output_type": "stream",
     "text": [
      "Epoch 752: Train Loss = 0.1382 | Val Loss = 0.1382\n"
     ]
    },
    {
     "name": "stderr",
     "output_type": "stream",
     "text": [
      "Epoch 753/1000 [Training]: 100%|██████████| 17/17 [00:00<00:00, 23.77it/s]\n",
      "Epoch 753/1000 [Validation]: 100%|██████████| 1/1 [00:00<00:00, 109.80it/s]\n"
     ]
    },
    {
     "name": "stdout",
     "output_type": "stream",
     "text": [
      "Epoch 753: Train Loss = 0.1382 | Val Loss = 0.1382\n"
     ]
    },
    {
     "name": "stderr",
     "output_type": "stream",
     "text": [
      "Epoch 754/1000 [Training]: 100%|██████████| 17/17 [00:00<00:00, 23.62it/s]\n",
      "Epoch 754/1000 [Validation]: 100%|██████████| 1/1 [00:00<00:00, 107.65it/s]\n"
     ]
    },
    {
     "name": "stdout",
     "output_type": "stream",
     "text": [
      "Epoch 754: Train Loss = 0.1382 | Val Loss = 0.1382\n"
     ]
    },
    {
     "name": "stderr",
     "output_type": "stream",
     "text": [
      "Epoch 755/1000 [Training]: 100%|██████████| 17/17 [00:00<00:00, 23.29it/s]\n",
      "Epoch 755/1000 [Validation]: 100%|██████████| 1/1 [00:00<00:00, 109.28it/s]\n"
     ]
    },
    {
     "name": "stdout",
     "output_type": "stream",
     "text": [
      "Epoch 755: Train Loss = 0.1382 | Val Loss = 0.1382\n"
     ]
    },
    {
     "name": "stderr",
     "output_type": "stream",
     "text": [
      "Epoch 756/1000 [Training]: 100%|██████████| 17/17 [00:00<00:00, 23.71it/s]\n",
      "Epoch 756/1000 [Validation]: 100%|██████████| 1/1 [00:00<00:00, 100.69it/s]\n"
     ]
    },
    {
     "name": "stdout",
     "output_type": "stream",
     "text": [
      "Epoch 756: Train Loss = 0.1382 | Val Loss = 0.1382\n"
     ]
    },
    {
     "name": "stderr",
     "output_type": "stream",
     "text": [
      "Epoch 757/1000 [Training]: 100%|██████████| 17/17 [00:00<00:00, 23.79it/s]\n",
      "Epoch 757/1000 [Validation]: 100%|██████████| 1/1 [00:00<00:00, 109.39it/s]\n"
     ]
    },
    {
     "name": "stdout",
     "output_type": "stream",
     "text": [
      "Epoch 757: Train Loss = 0.1382 | Val Loss = 0.1382\n"
     ]
    },
    {
     "name": "stderr",
     "output_type": "stream",
     "text": [
      "Epoch 758/1000 [Training]: 100%|██████████| 17/17 [00:00<00:00, 23.74it/s]\n",
      "Epoch 758/1000 [Validation]: 100%|██████████| 1/1 [00:00<00:00, 110.59it/s]\n"
     ]
    },
    {
     "name": "stdout",
     "output_type": "stream",
     "text": [
      "Epoch 758: Train Loss = 0.1382 | Val Loss = 0.1382\n"
     ]
    },
    {
     "name": "stderr",
     "output_type": "stream",
     "text": [
      "Epoch 759/1000 [Training]: 100%|██████████| 17/17 [00:00<00:00, 23.76it/s]\n",
      "Epoch 759/1000 [Validation]: 100%|██████████| 1/1 [00:00<00:00, 111.13it/s]\n"
     ]
    },
    {
     "name": "stdout",
     "output_type": "stream",
     "text": [
      "Epoch 759: Train Loss = 0.1382 | Val Loss = 0.1382\n"
     ]
    },
    {
     "name": "stderr",
     "output_type": "stream",
     "text": [
      "Epoch 760/1000 [Training]: 100%|██████████| 17/17 [00:00<00:00, 23.72it/s]\n",
      "Epoch 760/1000 [Validation]: 100%|██████████| 1/1 [00:00<00:00, 103.97it/s]\n"
     ]
    },
    {
     "name": "stdout",
     "output_type": "stream",
     "text": [
      "Epoch 760: Train Loss = 0.1382 | Val Loss = 0.1382\n"
     ]
    },
    {
     "name": "stderr",
     "output_type": "stream",
     "text": [
      "Epoch 761/1000 [Training]: 100%|██████████| 17/17 [00:00<00:00, 23.78it/s]\n",
      "Epoch 761/1000 [Validation]: 100%|██████████| 1/1 [00:00<00:00, 108.59it/s]\n"
     ]
    },
    {
     "name": "stdout",
     "output_type": "stream",
     "text": [
      "Epoch 761: Train Loss = 0.1382 | Val Loss = 0.1382\n"
     ]
    },
    {
     "name": "stderr",
     "output_type": "stream",
     "text": [
      "Epoch 762/1000 [Training]: 100%|██████████| 17/17 [00:00<00:00, 23.74it/s]\n",
      "Epoch 762/1000 [Validation]: 100%|██████████| 1/1 [00:00<00:00, 110.88it/s]\n"
     ]
    },
    {
     "name": "stdout",
     "output_type": "stream",
     "text": [
      "Epoch 762: Train Loss = 0.1382 | Val Loss = 0.1382\n"
     ]
    },
    {
     "name": "stderr",
     "output_type": "stream",
     "text": [
      "Epoch 763/1000 [Training]: 100%|██████████| 17/17 [00:00<00:00, 23.78it/s]\n",
      "Epoch 763/1000 [Validation]: 100%|██████████| 1/1 [00:00<00:00, 105.78it/s]\n"
     ]
    },
    {
     "name": "stdout",
     "output_type": "stream",
     "text": [
      "Epoch 763: Train Loss = 0.1382 | Val Loss = 0.1382\n"
     ]
    },
    {
     "name": "stderr",
     "output_type": "stream",
     "text": [
      "Epoch 764/1000 [Training]: 100%|██████████| 17/17 [00:00<00:00, 23.74it/s]\n",
      "Epoch 764/1000 [Validation]: 100%|██████████| 1/1 [00:00<00:00, 103.88it/s]\n"
     ]
    },
    {
     "name": "stdout",
     "output_type": "stream",
     "text": [
      "Epoch 764: Train Loss = 0.1382 | Val Loss = 0.1382\n"
     ]
    },
    {
     "name": "stderr",
     "output_type": "stream",
     "text": [
      "Epoch 765/1000 [Training]: 100%|██████████| 17/17 [00:00<00:00, 23.79it/s]\n",
      "Epoch 765/1000 [Validation]: 100%|██████████| 1/1 [00:00<00:00, 112.15it/s]\n"
     ]
    },
    {
     "name": "stdout",
     "output_type": "stream",
     "text": [
      "Epoch 765: Train Loss = 0.1382 | Val Loss = 0.1382\n"
     ]
    },
    {
     "name": "stderr",
     "output_type": "stream",
     "text": [
      "Epoch 766/1000 [Training]: 100%|██████████| 17/17 [00:00<00:00, 23.75it/s]\n",
      "Epoch 766/1000 [Validation]: 100%|██████████| 1/1 [00:00<00:00, 113.46it/s]\n"
     ]
    },
    {
     "name": "stdout",
     "output_type": "stream",
     "text": [
      "Epoch 766: Train Loss = 0.1382 | Val Loss = 0.1382\n"
     ]
    },
    {
     "name": "stderr",
     "output_type": "stream",
     "text": [
      "Epoch 767/1000 [Training]: 100%|██████████| 17/17 [00:00<00:00, 23.76it/s]\n",
      "Epoch 767/1000 [Validation]: 100%|██████████| 1/1 [00:00<00:00, 102.36it/s]\n"
     ]
    },
    {
     "name": "stdout",
     "output_type": "stream",
     "text": [
      "Epoch 767: Train Loss = 0.1382 | Val Loss = 0.1382\n"
     ]
    },
    {
     "name": "stderr",
     "output_type": "stream",
     "text": [
      "Epoch 768/1000 [Training]: 100%|██████████| 17/17 [00:00<00:00, 23.31it/s]\n",
      "Epoch 768/1000 [Validation]: 100%|██████████| 1/1 [00:00<00:00, 105.98it/s]\n"
     ]
    },
    {
     "name": "stdout",
     "output_type": "stream",
     "text": [
      "Epoch 768: Train Loss = 0.1382 | Val Loss = 0.1382\n"
     ]
    },
    {
     "name": "stderr",
     "output_type": "stream",
     "text": [
      "Epoch 769/1000 [Training]: 100%|██████████| 17/17 [00:00<00:00, 23.81it/s]\n",
      "Epoch 769/1000 [Validation]: 100%|██████████| 1/1 [00:00<00:00, 115.14it/s]\n"
     ]
    },
    {
     "name": "stdout",
     "output_type": "stream",
     "text": [
      "Epoch 769: Train Loss = 0.1382 | Val Loss = 0.1382\n"
     ]
    },
    {
     "name": "stderr",
     "output_type": "stream",
     "text": [
      "Epoch 770/1000 [Training]: 100%|██████████| 17/17 [00:00<00:00, 23.77it/s]\n",
      "Epoch 770/1000 [Validation]: 100%|██████████| 1/1 [00:00<00:00, 113.87it/s]\n"
     ]
    },
    {
     "name": "stdout",
     "output_type": "stream",
     "text": [
      "Epoch 770: Train Loss = 0.1382 | Val Loss = 0.1382\n"
     ]
    },
    {
     "name": "stderr",
     "output_type": "stream",
     "text": [
      "Epoch 771/1000 [Training]: 100%|██████████| 17/17 [00:00<00:00, 23.78it/s]\n",
      "Epoch 771/1000 [Validation]: 100%|██████████| 1/1 [00:00<00:00, 107.84it/s]\n"
     ]
    },
    {
     "name": "stdout",
     "output_type": "stream",
     "text": [
      "Epoch 771: Train Loss = 0.1382 | Val Loss = 0.1382\n"
     ]
    },
    {
     "name": "stderr",
     "output_type": "stream",
     "text": [
      "Epoch 772/1000 [Training]: 100%|██████████| 17/17 [00:00<00:00, 23.68it/s]\n",
      "Epoch 772/1000 [Validation]: 100%|██████████| 1/1 [00:00<00:00, 112.73it/s]\n"
     ]
    },
    {
     "name": "stdout",
     "output_type": "stream",
     "text": [
      "Epoch 772: Train Loss = 0.1382 | Val Loss = 0.1382\n"
     ]
    },
    {
     "name": "stderr",
     "output_type": "stream",
     "text": [
      "Epoch 773/1000 [Training]: 100%|██████████| 17/17 [00:00<00:00, 23.77it/s]\n",
      "Epoch 773/1000 [Validation]: 100%|██████████| 1/1 [00:00<00:00, 113.09it/s]\n"
     ]
    },
    {
     "name": "stdout",
     "output_type": "stream",
     "text": [
      "Epoch 773: Train Loss = 0.1382 | Val Loss = 0.1382\n"
     ]
    },
    {
     "name": "stderr",
     "output_type": "stream",
     "text": [
      "Epoch 774/1000 [Training]: 100%|██████████| 17/17 [00:00<00:00, 23.78it/s]\n",
      "Epoch 774/1000 [Validation]: 100%|██████████| 1/1 [00:00<00:00, 112.41it/s]\n"
     ]
    },
    {
     "name": "stdout",
     "output_type": "stream",
     "text": [
      "Epoch 774: Train Loss = 0.1382 | Val Loss = 0.1382\n"
     ]
    },
    {
     "name": "stderr",
     "output_type": "stream",
     "text": [
      "Epoch 775/1000 [Training]: 100%|██████████| 17/17 [00:00<00:00, 23.76it/s]\n",
      "Epoch 775/1000 [Validation]: 100%|██████████| 1/1 [00:00<00:00, 113.90it/s]\n"
     ]
    },
    {
     "name": "stdout",
     "output_type": "stream",
     "text": [
      "Epoch 775: Train Loss = 0.1382 | Val Loss = 0.1382\n"
     ]
    },
    {
     "name": "stderr",
     "output_type": "stream",
     "text": [
      "Epoch 776/1000 [Training]: 100%|██████████| 17/17 [00:00<00:00, 23.76it/s]\n",
      "Epoch 776/1000 [Validation]: 100%|██████████| 1/1 [00:00<00:00, 108.42it/s]\n"
     ]
    },
    {
     "name": "stdout",
     "output_type": "stream",
     "text": [
      "Epoch 776: Train Loss = 0.1382 | Val Loss = 0.1382\n"
     ]
    },
    {
     "name": "stderr",
     "output_type": "stream",
     "text": [
      "Epoch 777/1000 [Training]: 100%|██████████| 17/17 [00:00<00:00, 23.82it/s]\n",
      "Epoch 777/1000 [Validation]: 100%|██████████| 1/1 [00:00<00:00, 111.67it/s]\n"
     ]
    },
    {
     "name": "stdout",
     "output_type": "stream",
     "text": [
      "Epoch 777: Train Loss = 0.1382 | Val Loss = 0.1382\n"
     ]
    },
    {
     "name": "stderr",
     "output_type": "stream",
     "text": [
      "Epoch 778/1000 [Training]: 100%|██████████| 17/17 [00:00<00:00, 23.77it/s]\n",
      "Epoch 778/1000 [Validation]: 100%|██████████| 1/1 [00:00<00:00, 104.40it/s]\n"
     ]
    },
    {
     "name": "stdout",
     "output_type": "stream",
     "text": [
      "Epoch 778: Train Loss = 0.1382 | Val Loss = 0.1382\n"
     ]
    },
    {
     "name": "stderr",
     "output_type": "stream",
     "text": [
      "Epoch 779/1000 [Training]: 100%|██████████| 17/17 [00:00<00:00, 23.76it/s]\n",
      "Epoch 779/1000 [Validation]: 100%|██████████| 1/1 [00:00<00:00, 112.27it/s]\n"
     ]
    },
    {
     "name": "stdout",
     "output_type": "stream",
     "text": [
      "Epoch 779: Train Loss = 0.1382 | Val Loss = 0.1382\n"
     ]
    },
    {
     "name": "stderr",
     "output_type": "stream",
     "text": [
      "Epoch 780/1000 [Training]: 100%|██████████| 17/17 [00:00<00:00, 22.68it/s]\n",
      "Epoch 780/1000 [Validation]: 100%|██████████| 1/1 [00:00<00:00, 112.35it/s]\n"
     ]
    },
    {
     "name": "stdout",
     "output_type": "stream",
     "text": [
      "Epoch 780: Train Loss = 0.1382 | Val Loss = 0.1382\n"
     ]
    },
    {
     "name": "stderr",
     "output_type": "stream",
     "text": [
      "Epoch 781/1000 [Training]: 100%|██████████| 17/17 [00:00<00:00, 23.81it/s]\n",
      "Epoch 781/1000 [Validation]: 100%|██████████| 1/1 [00:00<00:00, 106.39it/s]\n"
     ]
    },
    {
     "name": "stdout",
     "output_type": "stream",
     "text": [
      "Epoch 781: Train Loss = 0.1382 | Val Loss = 0.1382\n"
     ]
    },
    {
     "name": "stderr",
     "output_type": "stream",
     "text": [
      "Epoch 782/1000 [Training]: 100%|██████████| 17/17 [00:00<00:00, 23.13it/s]\n",
      "Epoch 782/1000 [Validation]: 100%|██████████| 1/1 [00:00<00:00, 99.97it/s]\n"
     ]
    },
    {
     "name": "stdout",
     "output_type": "stream",
     "text": [
      "Epoch 782: Train Loss = 0.1382 | Val Loss = 0.1382\n"
     ]
    },
    {
     "name": "stderr",
     "output_type": "stream",
     "text": [
      "Epoch 783/1000 [Training]: 100%|██████████| 17/17 [00:00<00:00, 23.77it/s]\n",
      "Epoch 783/1000 [Validation]: 100%|██████████| 1/1 [00:00<00:00, 113.54it/s]\n"
     ]
    },
    {
     "name": "stdout",
     "output_type": "stream",
     "text": [
      "Epoch 783: Train Loss = 0.1382 | Val Loss = 0.1382\n"
     ]
    },
    {
     "name": "stderr",
     "output_type": "stream",
     "text": [
      "Epoch 784/1000 [Training]: 100%|██████████| 17/17 [00:00<00:00, 23.72it/s]\n",
      "Epoch 784/1000 [Validation]: 100%|██████████| 1/1 [00:00<00:00, 113.68it/s]\n"
     ]
    },
    {
     "name": "stdout",
     "output_type": "stream",
     "text": [
      "Epoch 784: Train Loss = 0.1382 | Val Loss = 0.1382\n"
     ]
    },
    {
     "name": "stderr",
     "output_type": "stream",
     "text": [
      "Epoch 785/1000 [Training]: 100%|██████████| 17/17 [00:00<00:00, 23.81it/s]\n",
      "Epoch 785/1000 [Validation]: 100%|██████████| 1/1 [00:00<00:00, 114.26it/s]\n"
     ]
    },
    {
     "name": "stdout",
     "output_type": "stream",
     "text": [
      "Epoch 785: Train Loss = 0.1382 | Val Loss = 0.1382\n"
     ]
    },
    {
     "name": "stderr",
     "output_type": "stream",
     "text": [
      "Epoch 786/1000 [Training]: 100%|██████████| 17/17 [00:00<00:00, 23.17it/s]\n",
      "Epoch 786/1000 [Validation]: 100%|██████████| 1/1 [00:00<00:00, 105.57it/s]\n"
     ]
    },
    {
     "name": "stdout",
     "output_type": "stream",
     "text": [
      "Epoch 786: Train Loss = 0.1382 | Val Loss = 0.1382\n"
     ]
    },
    {
     "name": "stderr",
     "output_type": "stream",
     "text": [
      "Epoch 787/1000 [Training]: 100%|██████████| 17/17 [00:00<00:00, 23.78it/s]\n",
      "Epoch 787/1000 [Validation]: 100%|██████████| 1/1 [00:00<00:00, 113.38it/s]\n"
     ]
    },
    {
     "name": "stdout",
     "output_type": "stream",
     "text": [
      "Epoch 787: Train Loss = 0.1382 | Val Loss = 0.1382\n"
     ]
    },
    {
     "name": "stderr",
     "output_type": "stream",
     "text": [
      "Epoch 788/1000 [Training]: 100%|██████████| 17/17 [00:00<00:00, 23.79it/s]\n",
      "Epoch 788/1000 [Validation]: 100%|██████████| 1/1 [00:00<00:00, 116.26it/s]\n"
     ]
    },
    {
     "name": "stdout",
     "output_type": "stream",
     "text": [
      "Epoch 788: Train Loss = 0.1382 | Val Loss = 0.1382\n"
     ]
    },
    {
     "name": "stderr",
     "output_type": "stream",
     "text": [
      "Epoch 789/1000 [Training]: 100%|██████████| 17/17 [00:00<00:00, 23.76it/s]\n",
      "Epoch 789/1000 [Validation]: 100%|██████████| 1/1 [00:00<00:00, 114.79it/s]\n"
     ]
    },
    {
     "name": "stdout",
     "output_type": "stream",
     "text": [
      "Epoch 789: Train Loss = 0.1382 | Val Loss = 0.1382\n"
     ]
    },
    {
     "name": "stderr",
     "output_type": "stream",
     "text": [
      "Epoch 790/1000 [Training]: 100%|██████████| 17/17 [00:00<00:00, 23.75it/s]\n",
      "Epoch 790/1000 [Validation]: 100%|██████████| 1/1 [00:00<00:00, 109.57it/s]\n"
     ]
    },
    {
     "name": "stdout",
     "output_type": "stream",
     "text": [
      "Epoch 790: Train Loss = 0.1382 | Val Loss = 0.1382\n"
     ]
    },
    {
     "name": "stderr",
     "output_type": "stream",
     "text": [
      "Epoch 791/1000 [Training]: 100%|██████████| 17/17 [00:00<00:00, 23.80it/s]\n",
      "Epoch 791/1000 [Validation]: 100%|██████████| 1/1 [00:00<00:00, 110.52it/s]\n"
     ]
    },
    {
     "name": "stdout",
     "output_type": "stream",
     "text": [
      "Epoch 791: Train Loss = 0.1382 | Val Loss = 0.1382\n"
     ]
    },
    {
     "name": "stderr",
     "output_type": "stream",
     "text": [
      "Epoch 792/1000 [Training]: 100%|██████████| 17/17 [00:00<00:00, 23.74it/s]\n",
      "Epoch 792/1000 [Validation]: 100%|██████████| 1/1 [00:00<00:00, 105.18it/s]\n"
     ]
    },
    {
     "name": "stdout",
     "output_type": "stream",
     "text": [
      "Epoch 792: Train Loss = 0.1382 | Val Loss = 0.1382\n"
     ]
    },
    {
     "name": "stderr",
     "output_type": "stream",
     "text": [
      "Epoch 793/1000 [Training]: 100%|██████████| 17/17 [00:00<00:00, 23.76it/s]\n",
      "Epoch 793/1000 [Validation]: 100%|██████████| 1/1 [00:00<00:00, 114.73it/s]\n"
     ]
    },
    {
     "name": "stdout",
     "output_type": "stream",
     "text": [
      "Epoch 793: Train Loss = 0.1382 | Val Loss = 0.1382\n"
     ]
    },
    {
     "name": "stderr",
     "output_type": "stream",
     "text": [
      "Epoch 794/1000 [Training]: 100%|██████████| 17/17 [00:00<00:00, 23.76it/s]\n",
      "Epoch 794/1000 [Validation]: 100%|██████████| 1/1 [00:00<00:00, 109.61it/s]\n"
     ]
    },
    {
     "name": "stdout",
     "output_type": "stream",
     "text": [
      "Epoch 794: Train Loss = 0.1382 | Val Loss = 0.1382\n"
     ]
    },
    {
     "name": "stderr",
     "output_type": "stream",
     "text": [
      "Epoch 795/1000 [Training]: 100%|██████████| 17/17 [00:00<00:00, 23.73it/s]\n",
      "Epoch 795/1000 [Validation]: 100%|██████████| 1/1 [00:00<00:00, 93.12it/s]\n"
     ]
    },
    {
     "name": "stdout",
     "output_type": "stream",
     "text": [
      "Epoch 795: Train Loss = 0.1382 | Val Loss = 0.1382\n"
     ]
    },
    {
     "name": "stderr",
     "output_type": "stream",
     "text": [
      "Epoch 796/1000 [Training]: 100%|██████████| 17/17 [00:00<00:00, 23.29it/s]\n",
      "Epoch 796/1000 [Validation]: 100%|██████████| 1/1 [00:00<00:00, 111.32it/s]\n"
     ]
    },
    {
     "name": "stdout",
     "output_type": "stream",
     "text": [
      "Epoch 796: Train Loss = 0.1382 | Val Loss = 0.1382\n"
     ]
    },
    {
     "name": "stderr",
     "output_type": "stream",
     "text": [
      "Epoch 797/1000 [Training]: 100%|██████████| 17/17 [00:00<00:00, 23.75it/s]\n",
      "Epoch 797/1000 [Validation]: 100%|██████████| 1/1 [00:00<00:00, 114.57it/s]\n"
     ]
    },
    {
     "name": "stdout",
     "output_type": "stream",
     "text": [
      "Epoch 797: Train Loss = 0.1382 | Val Loss = 0.1382\n"
     ]
    },
    {
     "name": "stderr",
     "output_type": "stream",
     "text": [
      "Epoch 798/1000 [Training]: 100%|██████████| 17/17 [00:00<00:00, 23.74it/s]\n",
      "Epoch 798/1000 [Validation]: 100%|██████████| 1/1 [00:00<00:00, 111.96it/s]\n"
     ]
    },
    {
     "name": "stdout",
     "output_type": "stream",
     "text": [
      "Epoch 798: Train Loss = 0.1382 | Val Loss = 0.1382\n"
     ]
    },
    {
     "name": "stderr",
     "output_type": "stream",
     "text": [
      "Epoch 799/1000 [Training]: 100%|██████████| 17/17 [00:00<00:00, 23.74it/s]\n",
      "Epoch 799/1000 [Validation]: 100%|██████████| 1/1 [00:00<00:00, 111.50it/s]\n"
     ]
    },
    {
     "name": "stdout",
     "output_type": "stream",
     "text": [
      "Epoch 799: Train Loss = 0.1382 | Val Loss = 0.1382\n"
     ]
    },
    {
     "name": "stderr",
     "output_type": "stream",
     "text": [
      "Epoch 800/1000 [Training]: 100%|██████████| 17/17 [00:00<00:00, 23.76it/s]\n",
      "Epoch 800/1000 [Validation]: 100%|██████████| 1/1 [00:00<00:00, 107.26it/s]\n"
     ]
    },
    {
     "name": "stdout",
     "output_type": "stream",
     "text": [
      "Epoch 800: Train Loss = 0.1382 | Val Loss = 0.1382\n"
     ]
    },
    {
     "name": "stderr",
     "output_type": "stream",
     "text": [
      "Epoch 801/1000 [Training]: 100%|██████████| 17/17 [00:00<00:00, 23.74it/s]\n",
      "Epoch 801/1000 [Validation]: 100%|██████████| 1/1 [00:00<00:00, 112.35it/s]\n"
     ]
    },
    {
     "name": "stdout",
     "output_type": "stream",
     "text": [
      "Epoch 801: Train Loss = 0.1382 | Val Loss = 0.1382\n"
     ]
    },
    {
     "name": "stderr",
     "output_type": "stream",
     "text": [
      "Epoch 802/1000 [Training]: 100%|██████████| 17/17 [00:00<00:00, 23.76it/s]\n",
      "Epoch 802/1000 [Validation]: 100%|██████████| 1/1 [00:00<00:00, 115.10it/s]\n"
     ]
    },
    {
     "name": "stdout",
     "output_type": "stream",
     "text": [
      "Epoch 802: Train Loss = 0.1382 | Val Loss = 0.1382\n"
     ]
    },
    {
     "name": "stderr",
     "output_type": "stream",
     "text": [
      "Epoch 803/1000 [Training]: 100%|██████████| 17/17 [00:00<00:00, 23.78it/s]\n",
      "Epoch 803/1000 [Validation]: 100%|██████████| 1/1 [00:00<00:00, 106.60it/s]\n"
     ]
    },
    {
     "name": "stdout",
     "output_type": "stream",
     "text": [
      "Epoch 803: Train Loss = 0.1382 | Val Loss = 0.1382\n"
     ]
    },
    {
     "name": "stderr",
     "output_type": "stream",
     "text": [
      "Epoch 804/1000 [Training]: 100%|██████████| 17/17 [00:00<00:00, 23.78it/s]\n",
      "Epoch 804/1000 [Validation]: 100%|██████████| 1/1 [00:00<00:00, 112.98it/s]\n"
     ]
    },
    {
     "name": "stdout",
     "output_type": "stream",
     "text": [
      "Epoch 804: Train Loss = 0.1382 | Val Loss = 0.1382\n"
     ]
    },
    {
     "name": "stderr",
     "output_type": "stream",
     "text": [
      "Epoch 805/1000 [Training]: 100%|██████████| 17/17 [00:00<00:00, 23.78it/s]\n",
      "Epoch 805/1000 [Validation]: 100%|██████████| 1/1 [00:00<00:00, 109.74it/s]\n"
     ]
    },
    {
     "name": "stdout",
     "output_type": "stream",
     "text": [
      "Epoch 805: Train Loss = 0.1382 | Val Loss = 0.1382\n"
     ]
    },
    {
     "name": "stderr",
     "output_type": "stream",
     "text": [
      "Epoch 806/1000 [Training]: 100%|██████████| 17/17 [00:00<00:00, 23.74it/s]\n",
      "Epoch 806/1000 [Validation]: 100%|██████████| 1/1 [00:00<00:00, 107.66it/s]\n"
     ]
    },
    {
     "name": "stdout",
     "output_type": "stream",
     "text": [
      "Epoch 806: Train Loss = 0.1382 | Val Loss = 0.1382\n"
     ]
    },
    {
     "name": "stderr",
     "output_type": "stream",
     "text": [
      "Epoch 807/1000 [Training]: 100%|██████████| 17/17 [00:00<00:00, 23.65it/s]\n",
      "Epoch 807/1000 [Validation]: 100%|██████████| 1/1 [00:00<00:00, 114.30it/s]\n"
     ]
    },
    {
     "name": "stdout",
     "output_type": "stream",
     "text": [
      "Epoch 807: Train Loss = 0.1382 | Val Loss = 0.1382\n"
     ]
    },
    {
     "name": "stderr",
     "output_type": "stream",
     "text": [
      "Epoch 808/1000 [Training]: 100%|██████████| 17/17 [00:00<00:00, 23.70it/s]\n",
      "Epoch 808/1000 [Validation]: 100%|██████████| 1/1 [00:00<00:00, 110.25it/s]\n"
     ]
    },
    {
     "name": "stdout",
     "output_type": "stream",
     "text": [
      "Epoch 808: Train Loss = 0.1382 | Val Loss = 0.1382\n"
     ]
    },
    {
     "name": "stderr",
     "output_type": "stream",
     "text": [
      "Epoch 809/1000 [Training]: 100%|██████████| 17/17 [00:00<00:00, 22.83it/s]\n",
      "Epoch 809/1000 [Validation]: 100%|██████████| 1/1 [00:00<00:00, 109.72it/s]\n"
     ]
    },
    {
     "name": "stdout",
     "output_type": "stream",
     "text": [
      "Epoch 809: Train Loss = 0.1382 | Val Loss = 0.1382\n"
     ]
    },
    {
     "name": "stderr",
     "output_type": "stream",
     "text": [
      "Epoch 810/1000 [Training]: 100%|██████████| 17/17 [00:00<00:00, 23.75it/s]\n",
      "Epoch 810/1000 [Validation]: 100%|██████████| 1/1 [00:00<00:00, 108.11it/s]\n"
     ]
    },
    {
     "name": "stdout",
     "output_type": "stream",
     "text": [
      "Epoch 810: Train Loss = 0.1382 | Val Loss = 0.1382\n"
     ]
    },
    {
     "name": "stderr",
     "output_type": "stream",
     "text": [
      "Epoch 811/1000 [Training]: 100%|██████████| 17/17 [00:00<00:00, 23.73it/s]\n",
      "Epoch 811/1000 [Validation]: 100%|██████████| 1/1 [00:00<00:00, 109.77it/s]\n"
     ]
    },
    {
     "name": "stdout",
     "output_type": "stream",
     "text": [
      "Epoch 811: Train Loss = 0.1382 | Val Loss = 0.1382\n"
     ]
    },
    {
     "name": "stderr",
     "output_type": "stream",
     "text": [
      "Epoch 812/1000 [Training]: 100%|██████████| 17/17 [00:00<00:00, 23.79it/s]\n",
      "Epoch 812/1000 [Validation]: 100%|██████████| 1/1 [00:00<00:00, 112.81it/s]\n"
     ]
    },
    {
     "name": "stdout",
     "output_type": "stream",
     "text": [
      "Epoch 812: Train Loss = 0.1382 | Val Loss = 0.1382\n"
     ]
    },
    {
     "name": "stderr",
     "output_type": "stream",
     "text": [
      "Epoch 813/1000 [Training]: 100%|██████████| 17/17 [00:00<00:00, 23.78it/s]\n",
      "Epoch 813/1000 [Validation]: 100%|██████████| 1/1 [00:00<00:00, 105.68it/s]\n"
     ]
    },
    {
     "name": "stdout",
     "output_type": "stream",
     "text": [
      "Epoch 813: Train Loss = 0.1382 | Val Loss = 0.1382\n"
     ]
    },
    {
     "name": "stderr",
     "output_type": "stream",
     "text": [
      "Epoch 814/1000 [Training]: 100%|██████████| 17/17 [00:00<00:00, 23.75it/s]\n",
      "Epoch 814/1000 [Validation]: 100%|██████████| 1/1 [00:00<00:00, 112.24it/s]\n"
     ]
    },
    {
     "name": "stdout",
     "output_type": "stream",
     "text": [
      "Epoch 814: Train Loss = 0.1382 | Val Loss = 0.1382\n"
     ]
    },
    {
     "name": "stderr",
     "output_type": "stream",
     "text": [
      "Epoch 815/1000 [Training]: 100%|██████████| 17/17 [00:00<00:00, 23.74it/s]\n",
      "Epoch 815/1000 [Validation]: 100%|██████████| 1/1 [00:00<00:00, 108.13it/s]\n"
     ]
    },
    {
     "name": "stdout",
     "output_type": "stream",
     "text": [
      "Epoch 815: Train Loss = 0.1382 | Val Loss = 0.1382\n"
     ]
    },
    {
     "name": "stderr",
     "output_type": "stream",
     "text": [
      "Epoch 816/1000 [Training]: 100%|██████████| 17/17 [00:00<00:00, 23.75it/s]\n",
      "Epoch 816/1000 [Validation]: 100%|██████████| 1/1 [00:00<00:00, 117.35it/s]\n"
     ]
    },
    {
     "name": "stdout",
     "output_type": "stream",
     "text": [
      "Epoch 816: Train Loss = 0.1382 | Val Loss = 0.1382\n"
     ]
    },
    {
     "name": "stderr",
     "output_type": "stream",
     "text": [
      "Epoch 817/1000 [Training]: 100%|██████████| 17/17 [00:00<00:00, 23.70it/s]\n",
      "Epoch 817/1000 [Validation]: 100%|██████████| 1/1 [00:00<00:00, 111.80it/s]\n"
     ]
    },
    {
     "name": "stdout",
     "output_type": "stream",
     "text": [
      "Epoch 817: Train Loss = 0.1382 | Val Loss = 0.1382\n"
     ]
    },
    {
     "name": "stderr",
     "output_type": "stream",
     "text": [
      "Epoch 818/1000 [Training]: 100%|██████████| 17/17 [00:00<00:00, 23.79it/s]\n",
      "Epoch 818/1000 [Validation]: 100%|██████████| 1/1 [00:00<00:00, 101.47it/s]\n"
     ]
    },
    {
     "name": "stdout",
     "output_type": "stream",
     "text": [
      "Epoch 818: Train Loss = 0.1382 | Val Loss = 0.1382\n"
     ]
    },
    {
     "name": "stderr",
     "output_type": "stream",
     "text": [
      "Epoch 819/1000 [Training]: 100%|██████████| 17/17 [00:00<00:00, 23.74it/s]\n",
      "Epoch 819/1000 [Validation]: 100%|██████████| 1/1 [00:00<00:00, 109.42it/s]\n"
     ]
    },
    {
     "name": "stdout",
     "output_type": "stream",
     "text": [
      "Epoch 819: Train Loss = 0.1382 | Val Loss = 0.1382\n"
     ]
    },
    {
     "name": "stderr",
     "output_type": "stream",
     "text": [
      "Epoch 820/1000 [Training]: 100%|██████████| 17/17 [00:00<00:00, 23.78it/s]\n",
      "Epoch 820/1000 [Validation]: 100%|██████████| 1/1 [00:00<00:00, 107.77it/s]\n"
     ]
    },
    {
     "name": "stdout",
     "output_type": "stream",
     "text": [
      "Epoch 820: Train Loss = 0.1382 | Val Loss = 0.1382\n"
     ]
    },
    {
     "name": "stderr",
     "output_type": "stream",
     "text": [
      "Epoch 821/1000 [Training]: 100%|██████████| 17/17 [00:00<00:00, 23.79it/s]\n",
      "Epoch 821/1000 [Validation]: 100%|██████████| 1/1 [00:00<00:00, 111.73it/s]\n"
     ]
    },
    {
     "name": "stdout",
     "output_type": "stream",
     "text": [
      "Epoch 821: Train Loss = 0.1382 | Val Loss = 0.1382\n"
     ]
    },
    {
     "name": "stderr",
     "output_type": "stream",
     "text": [
      "Epoch 822/1000 [Training]: 100%|██████████| 17/17 [00:00<00:00, 23.71it/s]\n",
      "Epoch 822/1000 [Validation]: 100%|██████████| 1/1 [00:00<00:00, 108.70it/s]\n"
     ]
    },
    {
     "name": "stdout",
     "output_type": "stream",
     "text": [
      "Epoch 822: Train Loss = 0.1382 | Val Loss = 0.1382\n"
     ]
    },
    {
     "name": "stderr",
     "output_type": "stream",
     "text": [
      "Epoch 823/1000 [Training]: 100%|██████████| 17/17 [00:00<00:00, 22.56it/s]\n",
      "Epoch 823/1000 [Validation]: 100%|██████████| 1/1 [00:00<00:00, 80.51it/s]\n"
     ]
    },
    {
     "name": "stdout",
     "output_type": "stream",
     "text": [
      "Epoch 823: Train Loss = 0.1382 | Val Loss = 0.1382\n"
     ]
    },
    {
     "name": "stderr",
     "output_type": "stream",
     "text": [
      "Epoch 824/1000 [Training]: 100%|██████████| 17/17 [00:00<00:00, 22.55it/s]\n",
      "Epoch 824/1000 [Validation]: 100%|██████████| 1/1 [00:00<00:00, 106.53it/s]\n"
     ]
    },
    {
     "name": "stdout",
     "output_type": "stream",
     "text": [
      "Epoch 824: Train Loss = 0.1382 | Val Loss = 0.1382\n"
     ]
    },
    {
     "name": "stderr",
     "output_type": "stream",
     "text": [
      "Epoch 825/1000 [Training]: 100%|██████████| 17/17 [00:00<00:00, 23.13it/s]\n",
      "Epoch 825/1000 [Validation]: 100%|██████████| 1/1 [00:00<00:00, 111.25it/s]\n"
     ]
    },
    {
     "name": "stdout",
     "output_type": "stream",
     "text": [
      "Epoch 825: Train Loss = 0.1382 | Val Loss = 0.1382\n"
     ]
    },
    {
     "name": "stderr",
     "output_type": "stream",
     "text": [
      "Epoch 826/1000 [Training]: 100%|██████████| 17/17 [00:00<00:00, 23.78it/s]\n",
      "Epoch 826/1000 [Validation]: 100%|██████████| 1/1 [00:00<00:00, 116.19it/s]\n"
     ]
    },
    {
     "name": "stdout",
     "output_type": "stream",
     "text": [
      "Epoch 826: Train Loss = 0.1382 | Val Loss = 0.1382\n"
     ]
    },
    {
     "name": "stderr",
     "output_type": "stream",
     "text": [
      "Epoch 827/1000 [Training]: 100%|██████████| 17/17 [00:00<00:00, 23.62it/s]\n",
      "Epoch 827/1000 [Validation]: 100%|██████████| 1/1 [00:00<00:00, 121.61it/s]\n"
     ]
    },
    {
     "name": "stdout",
     "output_type": "stream",
     "text": [
      "Epoch 827: Train Loss = 0.1382 | Val Loss = 0.1382\n"
     ]
    },
    {
     "name": "stderr",
     "output_type": "stream",
     "text": [
      "Epoch 828/1000 [Training]: 100%|██████████| 17/17 [00:00<00:00, 22.56it/s]\n",
      "Epoch 828/1000 [Validation]: 100%|██████████| 1/1 [00:00<00:00, 110.73it/s]\n"
     ]
    },
    {
     "name": "stdout",
     "output_type": "stream",
     "text": [
      "Epoch 828: Train Loss = 0.1382 | Val Loss = 0.1382\n"
     ]
    },
    {
     "name": "stderr",
     "output_type": "stream",
     "text": [
      "Epoch 829/1000 [Training]: 100%|██████████| 17/17 [00:00<00:00, 23.70it/s]\n",
      "Epoch 829/1000 [Validation]: 100%|██████████| 1/1 [00:00<00:00, 109.92it/s]\n"
     ]
    },
    {
     "name": "stdout",
     "output_type": "stream",
     "text": [
      "Epoch 829: Train Loss = 0.1382 | Val Loss = 0.1382\n"
     ]
    },
    {
     "name": "stderr",
     "output_type": "stream",
     "text": [
      "Epoch 830/1000 [Training]: 100%|██████████| 17/17 [00:00<00:00, 23.75it/s]\n",
      "Epoch 830/1000 [Validation]: 100%|██████████| 1/1 [00:00<00:00, 107.29it/s]\n"
     ]
    },
    {
     "name": "stdout",
     "output_type": "stream",
     "text": [
      "Epoch 830: Train Loss = 0.1382 | Val Loss = 0.1382\n"
     ]
    },
    {
     "name": "stderr",
     "output_type": "stream",
     "text": [
      "Epoch 831/1000 [Training]: 100%|██████████| 17/17 [00:00<00:00, 23.79it/s]\n",
      "Epoch 831/1000 [Validation]: 100%|██████████| 1/1 [00:00<00:00, 113.73it/s]\n"
     ]
    },
    {
     "name": "stdout",
     "output_type": "stream",
     "text": [
      "Epoch 831: Train Loss = 0.1382 | Val Loss = 0.1382\n"
     ]
    },
    {
     "name": "stderr",
     "output_type": "stream",
     "text": [
      "Epoch 832/1000 [Training]: 100%|██████████| 17/17 [00:00<00:00, 23.71it/s]\n",
      "Epoch 832/1000 [Validation]: 100%|██████████| 1/1 [00:00<00:00, 108.03it/s]\n"
     ]
    },
    {
     "name": "stdout",
     "output_type": "stream",
     "text": [
      "Epoch 832: Train Loss = 0.1382 | Val Loss = 0.1382\n"
     ]
    },
    {
     "name": "stderr",
     "output_type": "stream",
     "text": [
      "Epoch 833/1000 [Training]: 100%|██████████| 17/17 [00:00<00:00, 23.74it/s]\n",
      "Epoch 833/1000 [Validation]: 100%|██████████| 1/1 [00:00<00:00, 110.36it/s]\n"
     ]
    },
    {
     "name": "stdout",
     "output_type": "stream",
     "text": [
      "Epoch 833: Train Loss = 0.1382 | Val Loss = 0.1382\n"
     ]
    },
    {
     "name": "stderr",
     "output_type": "stream",
     "text": [
      "Epoch 834/1000 [Training]: 100%|██████████| 17/17 [00:00<00:00, 23.80it/s]\n",
      "Epoch 834/1000 [Validation]: 100%|██████████| 1/1 [00:00<00:00, 112.59it/s]\n"
     ]
    },
    {
     "name": "stdout",
     "output_type": "stream",
     "text": [
      "Epoch 834: Train Loss = 0.1382 | Val Loss = 0.1382\n"
     ]
    },
    {
     "name": "stderr",
     "output_type": "stream",
     "text": [
      "Epoch 835/1000 [Training]: 100%|██████████| 17/17 [00:00<00:00, 23.74it/s]\n",
      "Epoch 835/1000 [Validation]: 100%|██████████| 1/1 [00:00<00:00, 107.13it/s]\n"
     ]
    },
    {
     "name": "stdout",
     "output_type": "stream",
     "text": [
      "Epoch 835: Train Loss = 0.1382 | Val Loss = 0.1382\n"
     ]
    },
    {
     "name": "stderr",
     "output_type": "stream",
     "text": [
      "Epoch 836/1000 [Training]: 100%|██████████| 17/17 [00:00<00:00, 23.38it/s]\n",
      "Epoch 836/1000 [Validation]: 100%|██████████| 1/1 [00:00<00:00, 114.74it/s]\n"
     ]
    },
    {
     "name": "stdout",
     "output_type": "stream",
     "text": [
      "Epoch 836: Train Loss = 0.1382 | Val Loss = 0.1382\n"
     ]
    },
    {
     "name": "stderr",
     "output_type": "stream",
     "text": [
      "Epoch 837/1000 [Training]: 100%|██████████| 17/17 [00:00<00:00, 23.77it/s]\n",
      "Epoch 837/1000 [Validation]: 100%|██████████| 1/1 [00:00<00:00, 115.06it/s]\n"
     ]
    },
    {
     "name": "stdout",
     "output_type": "stream",
     "text": [
      "Epoch 837: Train Loss = 0.1382 | Val Loss = 0.1382\n"
     ]
    },
    {
     "name": "stderr",
     "output_type": "stream",
     "text": [
      "Epoch 838/1000 [Training]: 100%|██████████| 17/17 [00:00<00:00, 23.77it/s]\n",
      "Epoch 838/1000 [Validation]: 100%|██████████| 1/1 [00:00<00:00, 106.64it/s]\n"
     ]
    },
    {
     "name": "stdout",
     "output_type": "stream",
     "text": [
      "Epoch 838: Train Loss = 0.1382 | Val Loss = 0.1382\n"
     ]
    },
    {
     "name": "stderr",
     "output_type": "stream",
     "text": [
      "Epoch 839/1000 [Training]: 100%|██████████| 17/17 [00:00<00:00, 23.77it/s]\n",
      "Epoch 839/1000 [Validation]: 100%|██████████| 1/1 [00:00<00:00, 115.88it/s]\n"
     ]
    },
    {
     "name": "stdout",
     "output_type": "stream",
     "text": [
      "Epoch 839: Train Loss = 0.1382 | Val Loss = 0.1382\n"
     ]
    },
    {
     "name": "stderr",
     "output_type": "stream",
     "text": [
      "Epoch 840/1000 [Training]: 100%|██████████| 17/17 [00:00<00:00, 23.77it/s]\n",
      "Epoch 840/1000 [Validation]: 100%|██████████| 1/1 [00:00<00:00, 119.74it/s]\n"
     ]
    },
    {
     "name": "stdout",
     "output_type": "stream",
     "text": [
      "Epoch 840: Train Loss = 0.1382 | Val Loss = 0.1382\n"
     ]
    },
    {
     "name": "stderr",
     "output_type": "stream",
     "text": [
      "Epoch 841/1000 [Training]: 100%|██████████| 17/17 [00:00<00:00, 23.82it/s]\n",
      "Epoch 841/1000 [Validation]: 100%|██████████| 1/1 [00:00<00:00, 113.67it/s]\n"
     ]
    },
    {
     "name": "stdout",
     "output_type": "stream",
     "text": [
      "Epoch 841: Train Loss = 0.1382 | Val Loss = 0.1382\n"
     ]
    },
    {
     "name": "stderr",
     "output_type": "stream",
     "text": [
      "Epoch 842/1000 [Training]: 100%|██████████| 17/17 [00:00<00:00, 23.79it/s]\n",
      "Epoch 842/1000 [Validation]: 100%|██████████| 1/1 [00:00<00:00, 110.01it/s]\n"
     ]
    },
    {
     "name": "stdout",
     "output_type": "stream",
     "text": [
      "Epoch 842: Train Loss = 0.1382 | Val Loss = 0.1382\n"
     ]
    },
    {
     "name": "stderr",
     "output_type": "stream",
     "text": [
      "Epoch 843/1000 [Training]: 100%|██████████| 17/17 [00:00<00:00, 23.75it/s]\n",
      "Epoch 843/1000 [Validation]: 100%|██████████| 1/1 [00:00<00:00, 106.76it/s]\n"
     ]
    },
    {
     "name": "stdout",
     "output_type": "stream",
     "text": [
      "Epoch 843: Train Loss = 0.1382 | Val Loss = 0.1382\n"
     ]
    },
    {
     "name": "stderr",
     "output_type": "stream",
     "text": [
      "Epoch 844/1000 [Training]: 100%|██████████| 17/17 [00:00<00:00, 23.68it/s]\n",
      "Epoch 844/1000 [Validation]: 100%|██████████| 1/1 [00:00<00:00, 109.32it/s]\n"
     ]
    },
    {
     "name": "stdout",
     "output_type": "stream",
     "text": [
      "Epoch 844: Train Loss = 0.1382 | Val Loss = 0.1382\n"
     ]
    },
    {
     "name": "stderr",
     "output_type": "stream",
     "text": [
      "Epoch 845/1000 [Training]: 100%|██████████| 17/17 [00:00<00:00, 23.72it/s]\n",
      "Epoch 845/1000 [Validation]: 100%|██████████| 1/1 [00:00<00:00, 112.45it/s]\n"
     ]
    },
    {
     "name": "stdout",
     "output_type": "stream",
     "text": [
      "Epoch 845: Train Loss = 0.1382 | Val Loss = 0.1382\n"
     ]
    },
    {
     "name": "stderr",
     "output_type": "stream",
     "text": [
      "Epoch 846/1000 [Training]: 100%|██████████| 17/17 [00:00<00:00, 23.75it/s]\n",
      "Epoch 846/1000 [Validation]: 100%|██████████| 1/1 [00:00<00:00, 115.77it/s]\n"
     ]
    },
    {
     "name": "stdout",
     "output_type": "stream",
     "text": [
      "Epoch 846: Train Loss = 0.1382 | Val Loss = 0.1382\n"
     ]
    },
    {
     "name": "stderr",
     "output_type": "stream",
     "text": [
      "Epoch 847/1000 [Training]: 100%|██████████| 17/17 [00:00<00:00, 23.77it/s]\n",
      "Epoch 847/1000 [Validation]: 100%|██████████| 1/1 [00:00<00:00, 112.47it/s]\n"
     ]
    },
    {
     "name": "stdout",
     "output_type": "stream",
     "text": [
      "Epoch 847: Train Loss = 0.1382 | Val Loss = 0.1382\n"
     ]
    },
    {
     "name": "stderr",
     "output_type": "stream",
     "text": [
      "Epoch 848/1000 [Training]: 100%|██████████| 17/17 [00:00<00:00, 23.73it/s]\n",
      "Epoch 848/1000 [Validation]: 100%|██████████| 1/1 [00:00<00:00, 116.39it/s]\n"
     ]
    },
    {
     "name": "stdout",
     "output_type": "stream",
     "text": [
      "Epoch 848: Train Loss = 0.1382 | Val Loss = 0.1382\n"
     ]
    },
    {
     "name": "stderr",
     "output_type": "stream",
     "text": [
      "Epoch 849/1000 [Training]: 100%|██████████| 17/17 [00:00<00:00, 23.78it/s]\n",
      "Epoch 849/1000 [Validation]: 100%|██████████| 1/1 [00:00<00:00, 108.52it/s]\n"
     ]
    },
    {
     "name": "stdout",
     "output_type": "stream",
     "text": [
      "Epoch 849: Train Loss = 0.1382 | Val Loss = 0.1382\n"
     ]
    },
    {
     "name": "stderr",
     "output_type": "stream",
     "text": [
      "Epoch 850/1000 [Training]: 100%|██████████| 17/17 [00:00<00:00, 23.47it/s]\n",
      "Epoch 850/1000 [Validation]: 100%|██████████| 1/1 [00:00<00:00, 112.41it/s]\n"
     ]
    },
    {
     "name": "stdout",
     "output_type": "stream",
     "text": [
      "Epoch 850: Train Loss = 0.1382 | Val Loss = 0.1382\n"
     ]
    },
    {
     "name": "stderr",
     "output_type": "stream",
     "text": [
      "Epoch 851/1000 [Training]: 100%|██████████| 17/17 [00:00<00:00, 23.77it/s]\n",
      "Epoch 851/1000 [Validation]: 100%|██████████| 1/1 [00:00<00:00, 118.05it/s]\n"
     ]
    },
    {
     "name": "stdout",
     "output_type": "stream",
     "text": [
      "Epoch 851: Train Loss = 0.1382 | Val Loss = 0.1382\n"
     ]
    },
    {
     "name": "stderr",
     "output_type": "stream",
     "text": [
      "Epoch 852/1000 [Training]: 100%|██████████| 17/17 [00:00<00:00, 23.75it/s]\n",
      "Epoch 852/1000 [Validation]: 100%|██████████| 1/1 [00:00<00:00, 107.16it/s]\n"
     ]
    },
    {
     "name": "stdout",
     "output_type": "stream",
     "text": [
      "Epoch 852: Train Loss = 0.1382 | Val Loss = 0.1382\n"
     ]
    },
    {
     "name": "stderr",
     "output_type": "stream",
     "text": [
      "Epoch 853/1000 [Training]: 100%|██████████| 17/17 [00:00<00:00, 23.76it/s]\n",
      "Epoch 853/1000 [Validation]: 100%|██████████| 1/1 [00:00<00:00, 113.85it/s]\n"
     ]
    },
    {
     "name": "stdout",
     "output_type": "stream",
     "text": [
      "Epoch 853: Train Loss = 0.1382 | Val Loss = 0.1382\n"
     ]
    },
    {
     "name": "stderr",
     "output_type": "stream",
     "text": [
      "Epoch 854/1000 [Training]: 100%|██████████| 17/17 [00:00<00:00, 23.75it/s]\n",
      "Epoch 854/1000 [Validation]: 100%|██████████| 1/1 [00:00<00:00, 106.29it/s]\n"
     ]
    },
    {
     "name": "stdout",
     "output_type": "stream",
     "text": [
      "Epoch 854: Train Loss = 0.1382 | Val Loss = 0.1382\n"
     ]
    },
    {
     "name": "stderr",
     "output_type": "stream",
     "text": [
      "Epoch 855/1000 [Training]: 100%|██████████| 17/17 [00:00<00:00, 23.78it/s]\n",
      "Epoch 855/1000 [Validation]: 100%|██████████| 1/1 [00:00<00:00, 116.00it/s]\n"
     ]
    },
    {
     "name": "stdout",
     "output_type": "stream",
     "text": [
      "Epoch 855: Train Loss = 0.1382 | Val Loss = 0.1382\n"
     ]
    },
    {
     "name": "stderr",
     "output_type": "stream",
     "text": [
      "Epoch 856/1000 [Training]: 100%|██████████| 17/17 [00:00<00:00, 23.71it/s]\n",
      "Epoch 856/1000 [Validation]: 100%|██████████| 1/1 [00:00<00:00, 109.54it/s]\n"
     ]
    },
    {
     "name": "stdout",
     "output_type": "stream",
     "text": [
      "Epoch 856: Train Loss = 0.1382 | Val Loss = 0.1382\n"
     ]
    },
    {
     "name": "stderr",
     "output_type": "stream",
     "text": [
      "Epoch 857/1000 [Training]: 100%|██████████| 17/17 [00:00<00:00, 23.79it/s]\n",
      "Epoch 857/1000 [Validation]: 100%|██████████| 1/1 [00:00<00:00, 115.51it/s]\n"
     ]
    },
    {
     "name": "stdout",
     "output_type": "stream",
     "text": [
      "Epoch 857: Train Loss = 0.1382 | Val Loss = 0.1382\n"
     ]
    },
    {
     "name": "stderr",
     "output_type": "stream",
     "text": [
      "Epoch 858/1000 [Training]: 100%|██████████| 17/17 [00:00<00:00, 23.74it/s]\n",
      "Epoch 858/1000 [Validation]: 100%|██████████| 1/1 [00:00<00:00, 116.06it/s]\n"
     ]
    },
    {
     "name": "stdout",
     "output_type": "stream",
     "text": [
      "Epoch 858: Train Loss = 0.1382 | Val Loss = 0.1382\n"
     ]
    },
    {
     "name": "stderr",
     "output_type": "stream",
     "text": [
      "Epoch 859/1000 [Training]: 100%|██████████| 17/17 [00:00<00:00, 23.79it/s]\n",
      "Epoch 859/1000 [Validation]: 100%|██████████| 1/1 [00:00<00:00, 113.71it/s]\n"
     ]
    },
    {
     "name": "stdout",
     "output_type": "stream",
     "text": [
      "Epoch 859: Train Loss = 0.1382 | Val Loss = 0.1382\n"
     ]
    },
    {
     "name": "stderr",
     "output_type": "stream",
     "text": [
      "Epoch 860/1000 [Training]: 100%|██████████| 17/17 [00:00<00:00, 23.74it/s]\n",
      "Epoch 860/1000 [Validation]: 100%|██████████| 1/1 [00:00<00:00, 110.64it/s]\n"
     ]
    },
    {
     "name": "stdout",
     "output_type": "stream",
     "text": [
      "Epoch 860: Train Loss = 0.1382 | Val Loss = 0.1382\n"
     ]
    },
    {
     "name": "stderr",
     "output_type": "stream",
     "text": [
      "Epoch 861/1000 [Training]: 100%|██████████| 17/17 [00:00<00:00, 23.77it/s]\n",
      "Epoch 861/1000 [Validation]: 100%|██████████| 1/1 [00:00<00:00, 109.19it/s]\n"
     ]
    },
    {
     "name": "stdout",
     "output_type": "stream",
     "text": [
      "Epoch 861: Train Loss = 0.1382 | Val Loss = 0.1382\n"
     ]
    },
    {
     "name": "stderr",
     "output_type": "stream",
     "text": [
      "Epoch 862/1000 [Training]: 100%|██████████| 17/17 [00:00<00:00, 23.80it/s]\n",
      "Epoch 862/1000 [Validation]: 100%|██████████| 1/1 [00:00<00:00, 111.75it/s]\n"
     ]
    },
    {
     "name": "stdout",
     "output_type": "stream",
     "text": [
      "Epoch 862: Train Loss = 0.1382 | Val Loss = 0.1382\n"
     ]
    },
    {
     "name": "stderr",
     "output_type": "stream",
     "text": [
      "Epoch 863/1000 [Training]: 100%|██████████| 17/17 [00:00<00:00, 23.74it/s]\n",
      "Epoch 863/1000 [Validation]: 100%|██████████| 1/1 [00:00<00:00, 108.55it/s]\n"
     ]
    },
    {
     "name": "stdout",
     "output_type": "stream",
     "text": [
      "Epoch 863: Train Loss = 0.1382 | Val Loss = 0.1382\n"
     ]
    },
    {
     "name": "stderr",
     "output_type": "stream",
     "text": [
      "Epoch 864/1000 [Training]: 100%|██████████| 17/17 [00:00<00:00, 23.16it/s]\n",
      "Epoch 864/1000 [Validation]: 100%|██████████| 1/1 [00:00<00:00, 113.44it/s]\n"
     ]
    },
    {
     "name": "stdout",
     "output_type": "stream",
     "text": [
      "Epoch 864: Train Loss = 0.1382 | Val Loss = 0.1382\n"
     ]
    },
    {
     "name": "stderr",
     "output_type": "stream",
     "text": [
      "Epoch 865/1000 [Training]: 100%|██████████| 17/17 [00:00<00:00, 23.77it/s]\n",
      "Epoch 865/1000 [Validation]: 100%|██████████| 1/1 [00:00<00:00, 108.25it/s]\n"
     ]
    },
    {
     "name": "stdout",
     "output_type": "stream",
     "text": [
      "Epoch 865: Train Loss = 0.1382 | Val Loss = 0.1382\n"
     ]
    },
    {
     "name": "stderr",
     "output_type": "stream",
     "text": [
      "Epoch 866/1000 [Training]: 100%|██████████| 17/17 [00:00<00:00, 23.03it/s]\n",
      "Epoch 866/1000 [Validation]: 100%|██████████| 1/1 [00:00<00:00, 108.76it/s]\n"
     ]
    },
    {
     "name": "stdout",
     "output_type": "stream",
     "text": [
      "Epoch 866: Train Loss = 0.1382 | Val Loss = 0.1382\n"
     ]
    },
    {
     "name": "stderr",
     "output_type": "stream",
     "text": [
      "Epoch 867/1000 [Training]: 100%|██████████| 17/17 [00:00<00:00, 23.35it/s]\n",
      "Epoch 867/1000 [Validation]: 100%|██████████| 1/1 [00:00<00:00, 85.44it/s]\n"
     ]
    },
    {
     "name": "stdout",
     "output_type": "stream",
     "text": [
      "Epoch 867: Train Loss = 0.1382 | Val Loss = 0.1382\n"
     ]
    },
    {
     "name": "stderr",
     "output_type": "stream",
     "text": [
      "Epoch 868/1000 [Training]: 100%|██████████| 17/17 [00:00<00:00, 23.78it/s]\n",
      "Epoch 868/1000 [Validation]: 100%|██████████| 1/1 [00:00<00:00, 121.54it/s]\n"
     ]
    },
    {
     "name": "stdout",
     "output_type": "stream",
     "text": [
      "Epoch 868: Train Loss = 0.1382 | Val Loss = 0.1382\n"
     ]
    },
    {
     "name": "stderr",
     "output_type": "stream",
     "text": [
      "Epoch 869/1000 [Training]: 100%|██████████| 17/17 [00:00<00:00, 23.82it/s]\n",
      "Epoch 869/1000 [Validation]: 100%|██████████| 1/1 [00:00<00:00, 110.10it/s]\n"
     ]
    },
    {
     "name": "stdout",
     "output_type": "stream",
     "text": [
      "Epoch 869: Train Loss = 0.1382 | Val Loss = 0.1382\n"
     ]
    },
    {
     "name": "stderr",
     "output_type": "stream",
     "text": [
      "Epoch 870/1000 [Training]: 100%|██████████| 17/17 [00:00<00:00, 23.71it/s]\n",
      "Epoch 870/1000 [Validation]: 100%|██████████| 1/1 [00:00<00:00, 112.85it/s]\n"
     ]
    },
    {
     "name": "stdout",
     "output_type": "stream",
     "text": [
      "Epoch 870: Train Loss = 0.1382 | Val Loss = 0.1382\n"
     ]
    },
    {
     "name": "stderr",
     "output_type": "stream",
     "text": [
      "Epoch 871/1000 [Training]: 100%|██████████| 17/17 [00:00<00:00, 23.77it/s]\n",
      "Epoch 871/1000 [Validation]: 100%|██████████| 1/1 [00:00<00:00, 114.44it/s]\n"
     ]
    },
    {
     "name": "stdout",
     "output_type": "stream",
     "text": [
      "Epoch 871: Train Loss = 0.1382 | Val Loss = 0.1382\n"
     ]
    },
    {
     "name": "stderr",
     "output_type": "stream",
     "text": [
      "Epoch 872/1000 [Training]: 100%|██████████| 17/17 [00:00<00:00, 23.85it/s]\n",
      "Epoch 872/1000 [Validation]: 100%|██████████| 1/1 [00:00<00:00, 111.11it/s]\n"
     ]
    },
    {
     "name": "stdout",
     "output_type": "stream",
     "text": [
      "Epoch 872: Train Loss = 0.1382 | Val Loss = 0.1382\n"
     ]
    },
    {
     "name": "stderr",
     "output_type": "stream",
     "text": [
      "Epoch 873/1000 [Training]: 100%|██████████| 17/17 [00:00<00:00, 23.78it/s]\n",
      "Epoch 873/1000 [Validation]: 100%|██████████| 1/1 [00:00<00:00, 111.70it/s]\n"
     ]
    },
    {
     "name": "stdout",
     "output_type": "stream",
     "text": [
      "Epoch 873: Train Loss = 0.1382 | Val Loss = 0.1382\n"
     ]
    },
    {
     "name": "stderr",
     "output_type": "stream",
     "text": [
      "Epoch 874/1000 [Training]: 100%|██████████| 17/17 [00:00<00:00, 23.74it/s]\n",
      "Epoch 874/1000 [Validation]: 100%|██████████| 1/1 [00:00<00:00, 109.22it/s]\n"
     ]
    },
    {
     "name": "stdout",
     "output_type": "stream",
     "text": [
      "Epoch 874: Train Loss = 0.1382 | Val Loss = 0.1382\n"
     ]
    },
    {
     "name": "stderr",
     "output_type": "stream",
     "text": [
      "Epoch 875/1000 [Training]: 100%|██████████| 17/17 [00:00<00:00, 23.77it/s]\n",
      "Epoch 875/1000 [Validation]: 100%|██████████| 1/1 [00:00<00:00, 116.13it/s]\n"
     ]
    },
    {
     "name": "stdout",
     "output_type": "stream",
     "text": [
      "Epoch 875: Train Loss = 0.1382 | Val Loss = 0.1382\n"
     ]
    },
    {
     "name": "stderr",
     "output_type": "stream",
     "text": [
      "Epoch 876/1000 [Training]: 100%|██████████| 17/17 [00:00<00:00, 23.76it/s]\n",
      "Epoch 876/1000 [Validation]: 100%|██████████| 1/1 [00:00<00:00, 107.44it/s]\n"
     ]
    },
    {
     "name": "stdout",
     "output_type": "stream",
     "text": [
      "Epoch 876: Train Loss = 0.1382 | Val Loss = 0.1382\n"
     ]
    },
    {
     "name": "stderr",
     "output_type": "stream",
     "text": [
      "Epoch 877/1000 [Training]: 100%|██████████| 17/17 [00:00<00:00, 23.34it/s]\n",
      "Epoch 877/1000 [Validation]: 100%|██████████| 1/1 [00:00<00:00, 112.79it/s]\n"
     ]
    },
    {
     "name": "stdout",
     "output_type": "stream",
     "text": [
      "Epoch 877: Train Loss = 0.1382 | Val Loss = 0.1382\n"
     ]
    },
    {
     "name": "stderr",
     "output_type": "stream",
     "text": [
      "Epoch 878/1000 [Training]: 100%|██████████| 17/17 [00:00<00:00, 23.72it/s]\n",
      "Epoch 878/1000 [Validation]: 100%|██████████| 1/1 [00:00<00:00, 109.47it/s]\n"
     ]
    },
    {
     "name": "stdout",
     "output_type": "stream",
     "text": [
      "Epoch 878: Train Loss = 0.1382 | Val Loss = 0.1382\n"
     ]
    },
    {
     "name": "stderr",
     "output_type": "stream",
     "text": [
      "Epoch 879/1000 [Training]: 100%|██████████| 17/17 [00:00<00:00, 23.76it/s]\n",
      "Epoch 879/1000 [Validation]: 100%|██████████| 1/1 [00:00<00:00, 111.35it/s]\n"
     ]
    },
    {
     "name": "stdout",
     "output_type": "stream",
     "text": [
      "Epoch 879: Train Loss = 0.1382 | Val Loss = 0.1382\n"
     ]
    },
    {
     "name": "stderr",
     "output_type": "stream",
     "text": [
      "Epoch 880/1000 [Training]: 100%|██████████| 17/17 [00:00<00:00, 23.76it/s]\n",
      "Epoch 880/1000 [Validation]: 100%|██████████| 1/1 [00:00<00:00, 110.90it/s]\n"
     ]
    },
    {
     "name": "stdout",
     "output_type": "stream",
     "text": [
      "Epoch 880: Train Loss = 0.1382 | Val Loss = 0.1382\n"
     ]
    },
    {
     "name": "stderr",
     "output_type": "stream",
     "text": [
      "Epoch 881/1000 [Training]: 100%|██████████| 17/17 [00:00<00:00, 23.77it/s]\n",
      "Epoch 881/1000 [Validation]: 100%|██████████| 1/1 [00:00<00:00, 111.57it/s]\n"
     ]
    },
    {
     "name": "stdout",
     "output_type": "stream",
     "text": [
      "Epoch 881: Train Loss = 0.1382 | Val Loss = 0.1382\n"
     ]
    },
    {
     "name": "stderr",
     "output_type": "stream",
     "text": [
      "Epoch 882/1000 [Training]: 100%|██████████| 17/17 [00:00<00:00, 23.75it/s]\n",
      "Epoch 882/1000 [Validation]: 100%|██████████| 1/1 [00:00<00:00, 112.64it/s]\n"
     ]
    },
    {
     "name": "stdout",
     "output_type": "stream",
     "text": [
      "Epoch 882: Train Loss = 0.1382 | Val Loss = 0.1382\n"
     ]
    },
    {
     "name": "stderr",
     "output_type": "stream",
     "text": [
      "Epoch 883/1000 [Training]: 100%|██████████| 17/17 [00:00<00:00, 23.75it/s]\n",
      "Epoch 883/1000 [Validation]: 100%|██████████| 1/1 [00:00<00:00, 111.44it/s]\n"
     ]
    },
    {
     "name": "stdout",
     "output_type": "stream",
     "text": [
      "Epoch 883: Train Loss = 0.1382 | Val Loss = 0.1382\n"
     ]
    },
    {
     "name": "stderr",
     "output_type": "stream",
     "text": [
      "Epoch 884/1000 [Training]: 100%|██████████| 17/17 [00:00<00:00, 23.74it/s]\n",
      "Epoch 884/1000 [Validation]: 100%|██████████| 1/1 [00:00<00:00, 113.26it/s]\n"
     ]
    },
    {
     "name": "stdout",
     "output_type": "stream",
     "text": [
      "Epoch 884: Train Loss = 0.1382 | Val Loss = 0.1382\n"
     ]
    },
    {
     "name": "stderr",
     "output_type": "stream",
     "text": [
      "Epoch 885/1000 [Training]: 100%|██████████| 17/17 [00:00<00:00, 23.76it/s]\n",
      "Epoch 885/1000 [Validation]: 100%|██████████| 1/1 [00:00<00:00, 118.76it/s]\n"
     ]
    },
    {
     "name": "stdout",
     "output_type": "stream",
     "text": [
      "Epoch 885: Train Loss = 0.1382 | Val Loss = 0.1382\n"
     ]
    },
    {
     "name": "stderr",
     "output_type": "stream",
     "text": [
      "Epoch 886/1000 [Training]: 100%|██████████| 17/17 [00:00<00:00, 23.77it/s]\n",
      "Epoch 886/1000 [Validation]: 100%|██████████| 1/1 [00:00<00:00, 119.13it/s]\n"
     ]
    },
    {
     "name": "stdout",
     "output_type": "stream",
     "text": [
      "Epoch 886: Train Loss = 0.1382 | Val Loss = 0.1382\n"
     ]
    },
    {
     "name": "stderr",
     "output_type": "stream",
     "text": [
      "Epoch 887/1000 [Training]: 100%|██████████| 17/17 [00:00<00:00, 23.85it/s]\n",
      "Epoch 887/1000 [Validation]: 100%|██████████| 1/1 [00:00<00:00, 107.03it/s]\n"
     ]
    },
    {
     "name": "stdout",
     "output_type": "stream",
     "text": [
      "Epoch 887: Train Loss = 0.1382 | Val Loss = 0.1382\n"
     ]
    },
    {
     "name": "stderr",
     "output_type": "stream",
     "text": [
      "Epoch 888/1000 [Training]: 100%|██████████| 17/17 [00:00<00:00, 23.86it/s]\n",
      "Epoch 888/1000 [Validation]: 100%|██████████| 1/1 [00:00<00:00, 109.68it/s]\n"
     ]
    },
    {
     "name": "stdout",
     "output_type": "stream",
     "text": [
      "Epoch 888: Train Loss = 0.1382 | Val Loss = 0.1382\n"
     ]
    },
    {
     "name": "stderr",
     "output_type": "stream",
     "text": [
      "Epoch 889/1000 [Training]: 100%|██████████| 17/17 [00:00<00:00, 23.77it/s]\n",
      "Epoch 889/1000 [Validation]: 100%|██████████| 1/1 [00:00<00:00, 115.50it/s]\n"
     ]
    },
    {
     "name": "stdout",
     "output_type": "stream",
     "text": [
      "Epoch 889: Train Loss = 0.1382 | Val Loss = 0.1382\n"
     ]
    },
    {
     "name": "stderr",
     "output_type": "stream",
     "text": [
      "Epoch 890/1000 [Training]: 100%|██████████| 17/17 [00:00<00:00, 23.81it/s]\n",
      "Epoch 890/1000 [Validation]: 100%|██████████| 1/1 [00:00<00:00, 111.61it/s]\n"
     ]
    },
    {
     "name": "stdout",
     "output_type": "stream",
     "text": [
      "Epoch 890: Train Loss = 0.1382 | Val Loss = 0.1382\n"
     ]
    },
    {
     "name": "stderr",
     "output_type": "stream",
     "text": [
      "Epoch 891/1000 [Training]: 100%|██████████| 17/17 [00:00<00:00, 23.12it/s]\n",
      "Epoch 891/1000 [Validation]: 100%|██████████| 1/1 [00:00<00:00, 115.66it/s]\n"
     ]
    },
    {
     "name": "stdout",
     "output_type": "stream",
     "text": [
      "Epoch 891: Train Loss = 0.1382 | Val Loss = 0.1382\n"
     ]
    },
    {
     "name": "stderr",
     "output_type": "stream",
     "text": [
      "Epoch 892/1000 [Training]: 100%|██████████| 17/17 [00:00<00:00, 23.76it/s]\n",
      "Epoch 892/1000 [Validation]: 100%|██████████| 1/1 [00:00<00:00, 112.55it/s]\n"
     ]
    },
    {
     "name": "stdout",
     "output_type": "stream",
     "text": [
      "Epoch 892: Train Loss = 0.1382 | Val Loss = 0.1382\n"
     ]
    },
    {
     "name": "stderr",
     "output_type": "stream",
     "text": [
      "Epoch 893/1000 [Training]: 100%|██████████| 17/17 [00:00<00:00, 23.73it/s]\n",
      "Epoch 893/1000 [Validation]: 100%|██████████| 1/1 [00:00<00:00, 109.81it/s]\n"
     ]
    },
    {
     "name": "stdout",
     "output_type": "stream",
     "text": [
      "Epoch 893: Train Loss = 0.1382 | Val Loss = 0.1382\n"
     ]
    },
    {
     "name": "stderr",
     "output_type": "stream",
     "text": [
      "Epoch 894/1000 [Training]: 100%|██████████| 17/17 [00:00<00:00, 23.74it/s]\n",
      "Epoch 894/1000 [Validation]: 100%|██████████| 1/1 [00:00<00:00, 117.36it/s]\n"
     ]
    },
    {
     "name": "stdout",
     "output_type": "stream",
     "text": [
      "Epoch 894: Train Loss = 0.1382 | Val Loss = 0.1382\n"
     ]
    },
    {
     "name": "stderr",
     "output_type": "stream",
     "text": [
      "Epoch 895/1000 [Training]: 100%|██████████| 17/17 [00:00<00:00, 23.74it/s]\n",
      "Epoch 895/1000 [Validation]: 100%|██████████| 1/1 [00:00<00:00, 113.79it/s]\n"
     ]
    },
    {
     "name": "stdout",
     "output_type": "stream",
     "text": [
      "Epoch 895: Train Loss = 0.1382 | Val Loss = 0.1382\n"
     ]
    },
    {
     "name": "stderr",
     "output_type": "stream",
     "text": [
      "Epoch 896/1000 [Training]: 100%|██████████| 17/17 [00:00<00:00, 23.77it/s]\n",
      "Epoch 896/1000 [Validation]: 100%|██████████| 1/1 [00:00<00:00, 106.81it/s]\n"
     ]
    },
    {
     "name": "stdout",
     "output_type": "stream",
     "text": [
      "Epoch 896: Train Loss = 0.1382 | Val Loss = 0.1382\n"
     ]
    },
    {
     "name": "stderr",
     "output_type": "stream",
     "text": [
      "Epoch 897/1000 [Training]: 100%|██████████| 17/17 [00:00<00:00, 23.73it/s]\n",
      "Epoch 897/1000 [Validation]: 100%|██████████| 1/1 [00:00<00:00, 103.89it/s]\n"
     ]
    },
    {
     "name": "stdout",
     "output_type": "stream",
     "text": [
      "Epoch 897: Train Loss = 0.1382 | Val Loss = 0.1382\n"
     ]
    },
    {
     "name": "stderr",
     "output_type": "stream",
     "text": [
      "Epoch 898/1000 [Training]: 100%|██████████| 17/17 [00:00<00:00, 23.86it/s]\n",
      "Epoch 898/1000 [Validation]: 100%|██████████| 1/1 [00:00<00:00, 112.41it/s]\n"
     ]
    },
    {
     "name": "stdout",
     "output_type": "stream",
     "text": [
      "Epoch 898: Train Loss = 0.1382 | Val Loss = 0.1382\n"
     ]
    },
    {
     "name": "stderr",
     "output_type": "stream",
     "text": [
      "Epoch 899/1000 [Training]: 100%|██████████| 17/17 [00:00<00:00, 23.81it/s]\n",
      "Epoch 899/1000 [Validation]: 100%|██████████| 1/1 [00:00<00:00, 109.98it/s]\n"
     ]
    },
    {
     "name": "stdout",
     "output_type": "stream",
     "text": [
      "Epoch 899: Train Loss = 0.1382 | Val Loss = 0.1382\n"
     ]
    },
    {
     "name": "stderr",
     "output_type": "stream",
     "text": [
      "Epoch 900/1000 [Training]: 100%|██████████| 17/17 [00:00<00:00, 23.73it/s]\n",
      "Epoch 900/1000 [Validation]: 100%|██████████| 1/1 [00:00<00:00, 107.62it/s]\n"
     ]
    },
    {
     "name": "stdout",
     "output_type": "stream",
     "text": [
      "Epoch 900: Train Loss = 0.1382 | Val Loss = 0.1382\n"
     ]
    },
    {
     "name": "stderr",
     "output_type": "stream",
     "text": [
      "Epoch 901/1000 [Training]: 100%|██████████| 17/17 [00:00<00:00, 23.78it/s]\n",
      "Epoch 901/1000 [Validation]: 100%|██████████| 1/1 [00:00<00:00, 102.10it/s]\n"
     ]
    },
    {
     "name": "stdout",
     "output_type": "stream",
     "text": [
      "Epoch 901: Train Loss = 0.1382 | Val Loss = 0.1382\n"
     ]
    },
    {
     "name": "stderr",
     "output_type": "stream",
     "text": [
      "Epoch 902/1000 [Training]: 100%|██████████| 17/17 [00:00<00:00, 23.79it/s]\n",
      "Epoch 902/1000 [Validation]: 100%|██████████| 1/1 [00:00<00:00, 111.82it/s]\n"
     ]
    },
    {
     "name": "stdout",
     "output_type": "stream",
     "text": [
      "Epoch 902: Train Loss = 0.1382 | Val Loss = 0.1382\n"
     ]
    },
    {
     "name": "stderr",
     "output_type": "stream",
     "text": [
      "Epoch 903/1000 [Training]: 100%|██████████| 17/17 [00:00<00:00, 23.78it/s]\n",
      "Epoch 903/1000 [Validation]: 100%|██████████| 1/1 [00:00<00:00, 116.71it/s]\n"
     ]
    },
    {
     "name": "stdout",
     "output_type": "stream",
     "text": [
      "Epoch 903: Train Loss = 0.1382 | Val Loss = 0.1382\n"
     ]
    },
    {
     "name": "stderr",
     "output_type": "stream",
     "text": [
      "Epoch 904/1000 [Training]: 100%|██████████| 17/17 [00:00<00:00, 23.76it/s]\n",
      "Epoch 904/1000 [Validation]: 100%|██████████| 1/1 [00:00<00:00, 116.85it/s]\n"
     ]
    },
    {
     "name": "stdout",
     "output_type": "stream",
     "text": [
      "Epoch 904: Train Loss = 0.1382 | Val Loss = 0.1382\n"
     ]
    },
    {
     "name": "stderr",
     "output_type": "stream",
     "text": [
      "Epoch 905/1000 [Training]: 100%|██████████| 17/17 [00:00<00:00, 23.29it/s]\n",
      "Epoch 905/1000 [Validation]: 100%|██████████| 1/1 [00:00<00:00, 109.49it/s]\n"
     ]
    },
    {
     "name": "stdout",
     "output_type": "stream",
     "text": [
      "Epoch 905: Train Loss = 0.1382 | Val Loss = 0.1382\n"
     ]
    },
    {
     "name": "stderr",
     "output_type": "stream",
     "text": [
      "Epoch 906/1000 [Training]: 100%|██████████| 17/17 [00:00<00:00, 23.74it/s]\n",
      "Epoch 906/1000 [Validation]: 100%|██████████| 1/1 [00:00<00:00, 112.32it/s]\n"
     ]
    },
    {
     "name": "stdout",
     "output_type": "stream",
     "text": [
      "Epoch 906: Train Loss = 0.1382 | Val Loss = 0.1382\n"
     ]
    },
    {
     "name": "stderr",
     "output_type": "stream",
     "text": [
      "Epoch 907/1000 [Training]: 100%|██████████| 17/17 [00:00<00:00, 23.80it/s]\n",
      "Epoch 907/1000 [Validation]: 100%|██████████| 1/1 [00:00<00:00, 108.59it/s]\n"
     ]
    },
    {
     "name": "stdout",
     "output_type": "stream",
     "text": [
      "Epoch 907: Train Loss = 0.1382 | Val Loss = 0.1382\n"
     ]
    },
    {
     "name": "stderr",
     "output_type": "stream",
     "text": [
      "Epoch 908/1000 [Training]: 100%|██████████| 17/17 [00:00<00:00, 23.75it/s]\n",
      "Epoch 908/1000 [Validation]: 100%|██████████| 1/1 [00:00<00:00, 108.13it/s]\n"
     ]
    },
    {
     "name": "stdout",
     "output_type": "stream",
     "text": [
      "Epoch 908: Train Loss = 0.1382 | Val Loss = 0.1382\n"
     ]
    },
    {
     "name": "stderr",
     "output_type": "stream",
     "text": [
      "Epoch 909/1000 [Training]: 100%|██████████| 17/17 [00:00<00:00, 23.71it/s]\n",
      "Epoch 909/1000 [Validation]: 100%|██████████| 1/1 [00:00<00:00, 84.48it/s]\n"
     ]
    },
    {
     "name": "stdout",
     "output_type": "stream",
     "text": [
      "Epoch 909: Train Loss = 0.1382 | Val Loss = 0.1382\n"
     ]
    },
    {
     "name": "stderr",
     "output_type": "stream",
     "text": [
      "Epoch 910/1000 [Training]: 100%|██████████| 17/17 [00:00<00:00, 23.32it/s]\n",
      "Epoch 910/1000 [Validation]: 100%|██████████| 1/1 [00:00<00:00, 108.81it/s]\n"
     ]
    },
    {
     "name": "stdout",
     "output_type": "stream",
     "text": [
      "Epoch 910: Train Loss = 0.1382 | Val Loss = 0.1382\n"
     ]
    },
    {
     "name": "stderr",
     "output_type": "stream",
     "text": [
      "Epoch 911/1000 [Training]: 100%|██████████| 17/17 [00:00<00:00, 22.85it/s]\n",
      "Epoch 911/1000 [Validation]: 100%|██████████| 1/1 [00:00<00:00, 79.05it/s]\n"
     ]
    },
    {
     "name": "stdout",
     "output_type": "stream",
     "text": [
      "Epoch 911: Train Loss = 0.1382 | Val Loss = 0.1382\n"
     ]
    },
    {
     "name": "stderr",
     "output_type": "stream",
     "text": [
      "Epoch 912/1000 [Training]: 100%|██████████| 17/17 [00:00<00:00, 23.76it/s]\n",
      "Epoch 912/1000 [Validation]: 100%|██████████| 1/1 [00:00<00:00, 118.65it/s]\n"
     ]
    },
    {
     "name": "stdout",
     "output_type": "stream",
     "text": [
      "Epoch 912: Train Loss = 0.1382 | Val Loss = 0.1382\n"
     ]
    },
    {
     "name": "stderr",
     "output_type": "stream",
     "text": [
      "Epoch 913/1000 [Training]: 100%|██████████| 17/17 [00:00<00:00, 23.78it/s]\n",
      "Epoch 913/1000 [Validation]: 100%|██████████| 1/1 [00:00<00:00, 117.87it/s]\n"
     ]
    },
    {
     "name": "stdout",
     "output_type": "stream",
     "text": [
      "Epoch 913: Train Loss = 0.1382 | Val Loss = 0.1382\n"
     ]
    },
    {
     "name": "stderr",
     "output_type": "stream",
     "text": [
      "Epoch 914/1000 [Training]: 100%|██████████| 17/17 [00:00<00:00, 23.78it/s]\n",
      "Epoch 914/1000 [Validation]: 100%|██████████| 1/1 [00:00<00:00, 113.69it/s]\n"
     ]
    },
    {
     "name": "stdout",
     "output_type": "stream",
     "text": [
      "Epoch 914: Train Loss = 0.1382 | Val Loss = 0.1382\n"
     ]
    },
    {
     "name": "stderr",
     "output_type": "stream",
     "text": [
      "Epoch 915/1000 [Training]: 100%|██████████| 17/17 [00:00<00:00, 23.75it/s]\n",
      "Epoch 915/1000 [Validation]: 100%|██████████| 1/1 [00:00<00:00, 111.73it/s]\n"
     ]
    },
    {
     "name": "stdout",
     "output_type": "stream",
     "text": [
      "Epoch 915: Train Loss = 0.1382 | Val Loss = 0.1382\n"
     ]
    },
    {
     "name": "stderr",
     "output_type": "stream",
     "text": [
      "Epoch 916/1000 [Training]: 100%|██████████| 17/17 [00:00<00:00, 23.76it/s]\n",
      "Epoch 916/1000 [Validation]: 100%|██████████| 1/1 [00:00<00:00, 107.65it/s]\n"
     ]
    },
    {
     "name": "stdout",
     "output_type": "stream",
     "text": [
      "Epoch 916: Train Loss = 0.1382 | Val Loss = 0.1382\n"
     ]
    },
    {
     "name": "stderr",
     "output_type": "stream",
     "text": [
      "Epoch 917/1000 [Training]: 100%|██████████| 17/17 [00:00<00:00, 23.86it/s]\n",
      "Epoch 917/1000 [Validation]: 100%|██████████| 1/1 [00:00<00:00, 109.45it/s]\n"
     ]
    },
    {
     "name": "stdout",
     "output_type": "stream",
     "text": [
      "Epoch 917: Train Loss = 0.1382 | Val Loss = 0.1382\n"
     ]
    },
    {
     "name": "stderr",
     "output_type": "stream",
     "text": [
      "Epoch 918/1000 [Training]: 100%|██████████| 17/17 [00:00<00:00, 23.52it/s]\n",
      "Epoch 918/1000 [Validation]: 100%|██████████| 1/1 [00:00<00:00, 113.25it/s]\n"
     ]
    },
    {
     "name": "stdout",
     "output_type": "stream",
     "text": [
      "Epoch 918: Train Loss = 0.1382 | Val Loss = 0.1382\n"
     ]
    },
    {
     "name": "stderr",
     "output_type": "stream",
     "text": [
      "Epoch 919/1000 [Training]: 100%|██████████| 17/17 [00:00<00:00, 23.70it/s]\n",
      "Epoch 919/1000 [Validation]: 100%|██████████| 1/1 [00:00<00:00, 106.20it/s]\n"
     ]
    },
    {
     "name": "stdout",
     "output_type": "stream",
     "text": [
      "Epoch 919: Train Loss = 0.1382 | Val Loss = 0.1382\n"
     ]
    },
    {
     "name": "stderr",
     "output_type": "stream",
     "text": [
      "Epoch 920/1000 [Training]: 100%|██████████| 17/17 [00:00<00:00, 23.74it/s]\n",
      "Epoch 920/1000 [Validation]: 100%|██████████| 1/1 [00:00<00:00, 105.58it/s]\n"
     ]
    },
    {
     "name": "stdout",
     "output_type": "stream",
     "text": [
      "Epoch 920: Train Loss = 0.1382 | Val Loss = 0.1382\n"
     ]
    },
    {
     "name": "stderr",
     "output_type": "stream",
     "text": [
      "Epoch 921/1000 [Training]: 100%|██████████| 17/17 [00:00<00:00, 23.75it/s]\n",
      "Epoch 921/1000 [Validation]: 100%|██████████| 1/1 [00:00<00:00, 114.89it/s]\n"
     ]
    },
    {
     "name": "stdout",
     "output_type": "stream",
     "text": [
      "Epoch 921: Train Loss = 0.1382 | Val Loss = 0.1382\n"
     ]
    },
    {
     "name": "stderr",
     "output_type": "stream",
     "text": [
      "Epoch 922/1000 [Training]: 100%|██████████| 17/17 [00:00<00:00, 23.74it/s]\n",
      "Epoch 922/1000 [Validation]: 100%|██████████| 1/1 [00:00<00:00, 117.04it/s]\n"
     ]
    },
    {
     "name": "stdout",
     "output_type": "stream",
     "text": [
      "Epoch 922: Train Loss = 0.1382 | Val Loss = 0.1382\n"
     ]
    },
    {
     "name": "stderr",
     "output_type": "stream",
     "text": [
      "Epoch 923/1000 [Training]: 100%|██████████| 17/17 [00:00<00:00, 23.79it/s]\n",
      "Epoch 923/1000 [Validation]: 100%|██████████| 1/1 [00:00<00:00, 120.07it/s]\n"
     ]
    },
    {
     "name": "stdout",
     "output_type": "stream",
     "text": [
      "Epoch 923: Train Loss = 0.1382 | Val Loss = 0.1382\n"
     ]
    },
    {
     "name": "stderr",
     "output_type": "stream",
     "text": [
      "Epoch 924/1000 [Training]: 100%|██████████| 17/17 [00:00<00:00, 23.77it/s]\n",
      "Epoch 924/1000 [Validation]: 100%|██████████| 1/1 [00:00<00:00, 112.86it/s]\n"
     ]
    },
    {
     "name": "stdout",
     "output_type": "stream",
     "text": [
      "Epoch 924: Train Loss = 0.1382 | Val Loss = 0.1382\n"
     ]
    },
    {
     "name": "stderr",
     "output_type": "stream",
     "text": [
      "Epoch 925/1000 [Training]: 100%|██████████| 17/17 [00:00<00:00, 23.76it/s]\n",
      "Epoch 925/1000 [Validation]: 100%|██████████| 1/1 [00:00<00:00, 101.66it/s]\n"
     ]
    },
    {
     "name": "stdout",
     "output_type": "stream",
     "text": [
      "Epoch 925: Train Loss = 0.1382 | Val Loss = 0.1382\n"
     ]
    },
    {
     "name": "stderr",
     "output_type": "stream",
     "text": [
      "Epoch 926/1000 [Training]: 100%|██████████| 17/17 [00:00<00:00, 23.77it/s]\n",
      "Epoch 926/1000 [Validation]: 100%|██████████| 1/1 [00:00<00:00, 112.17it/s]\n"
     ]
    },
    {
     "name": "stdout",
     "output_type": "stream",
     "text": [
      "Epoch 926: Train Loss = 0.1382 | Val Loss = 0.1382\n"
     ]
    },
    {
     "name": "stderr",
     "output_type": "stream",
     "text": [
      "Epoch 927/1000 [Training]: 100%|██████████| 17/17 [00:00<00:00, 23.76it/s]\n",
      "Epoch 927/1000 [Validation]: 100%|██████████| 1/1 [00:00<00:00, 108.39it/s]\n"
     ]
    },
    {
     "name": "stdout",
     "output_type": "stream",
     "text": [
      "Epoch 927: Train Loss = 0.1382 | Val Loss = 0.1382\n"
     ]
    },
    {
     "name": "stderr",
     "output_type": "stream",
     "text": [
      "Epoch 928/1000 [Training]: 100%|██████████| 17/17 [00:00<00:00, 23.74it/s]\n",
      "Epoch 928/1000 [Validation]: 100%|██████████| 1/1 [00:00<00:00, 109.29it/s]\n"
     ]
    },
    {
     "name": "stdout",
     "output_type": "stream",
     "text": [
      "Epoch 928: Train Loss = 0.1382 | Val Loss = 0.1382\n"
     ]
    },
    {
     "name": "stderr",
     "output_type": "stream",
     "text": [
      "Epoch 929/1000 [Training]: 100%|██████████| 17/17 [00:00<00:00, 23.77it/s]\n",
      "Epoch 929/1000 [Validation]: 100%|██████████| 1/1 [00:00<00:00, 106.01it/s]\n"
     ]
    },
    {
     "name": "stdout",
     "output_type": "stream",
     "text": [
      "Epoch 929: Train Loss = 0.1382 | Val Loss = 0.1382\n"
     ]
    },
    {
     "name": "stderr",
     "output_type": "stream",
     "text": [
      "Epoch 930/1000 [Training]: 100%|██████████| 17/17 [00:00<00:00, 23.75it/s]\n",
      "Epoch 930/1000 [Validation]: 100%|██████████| 1/1 [00:00<00:00, 108.18it/s]\n"
     ]
    },
    {
     "name": "stdout",
     "output_type": "stream",
     "text": [
      "Epoch 930: Train Loss = 0.1382 | Val Loss = 0.1382\n"
     ]
    },
    {
     "name": "stderr",
     "output_type": "stream",
     "text": [
      "Epoch 931/1000 [Training]: 100%|██████████| 17/17 [00:00<00:00, 23.67it/s]\n",
      "Epoch 931/1000 [Validation]: 100%|██████████| 1/1 [00:00<00:00, 117.45it/s]\n"
     ]
    },
    {
     "name": "stdout",
     "output_type": "stream",
     "text": [
      "Epoch 931: Train Loss = 0.1382 | Val Loss = 0.1382\n"
     ]
    },
    {
     "name": "stderr",
     "output_type": "stream",
     "text": [
      "Epoch 932/1000 [Training]: 100%|██████████| 17/17 [00:00<00:00, 23.32it/s]\n",
      "Epoch 932/1000 [Validation]: 100%|██████████| 1/1 [00:00<00:00, 119.70it/s]\n"
     ]
    },
    {
     "name": "stdout",
     "output_type": "stream",
     "text": [
      "Epoch 932: Train Loss = 0.1382 | Val Loss = 0.1382\n"
     ]
    },
    {
     "name": "stderr",
     "output_type": "stream",
     "text": [
      "Epoch 933/1000 [Training]: 100%|██████████| 17/17 [00:00<00:00, 23.80it/s]\n",
      "Epoch 933/1000 [Validation]: 100%|██████████| 1/1 [00:00<00:00, 112.31it/s]\n"
     ]
    },
    {
     "name": "stdout",
     "output_type": "stream",
     "text": [
      "Epoch 933: Train Loss = 0.1382 | Val Loss = 0.1382\n"
     ]
    },
    {
     "name": "stderr",
     "output_type": "stream",
     "text": [
      "Epoch 934/1000 [Training]: 100%|██████████| 17/17 [00:00<00:00, 23.80it/s]\n",
      "Epoch 934/1000 [Validation]: 100%|██████████| 1/1 [00:00<00:00, 101.49it/s]\n"
     ]
    },
    {
     "name": "stdout",
     "output_type": "stream",
     "text": [
      "Epoch 934: Train Loss = 0.1382 | Val Loss = 0.1382\n"
     ]
    },
    {
     "name": "stderr",
     "output_type": "stream",
     "text": [
      "Epoch 935/1000 [Training]: 100%|██████████| 17/17 [00:00<00:00, 23.79it/s]\n",
      "Epoch 935/1000 [Validation]: 100%|██████████| 1/1 [00:00<00:00, 116.06it/s]\n"
     ]
    },
    {
     "name": "stdout",
     "output_type": "stream",
     "text": [
      "Epoch 935: Train Loss = 0.1382 | Val Loss = 0.1382\n"
     ]
    },
    {
     "name": "stderr",
     "output_type": "stream",
     "text": [
      "Epoch 936/1000 [Training]: 100%|██████████| 17/17 [00:00<00:00, 23.74it/s]\n",
      "Epoch 936/1000 [Validation]: 100%|██████████| 1/1 [00:00<00:00, 112.68it/s]\n"
     ]
    },
    {
     "name": "stdout",
     "output_type": "stream",
     "text": [
      "Epoch 936: Train Loss = 0.1382 | Val Loss = 0.1382\n"
     ]
    },
    {
     "name": "stderr",
     "output_type": "stream",
     "text": [
      "Epoch 937/1000 [Training]: 100%|██████████| 17/17 [00:00<00:00, 23.80it/s]\n",
      "Epoch 937/1000 [Validation]: 100%|██████████| 1/1 [00:00<00:00, 112.61it/s]\n"
     ]
    },
    {
     "name": "stdout",
     "output_type": "stream",
     "text": [
      "Epoch 937: Train Loss = 0.1382 | Val Loss = 0.1382\n"
     ]
    },
    {
     "name": "stderr",
     "output_type": "stream",
     "text": [
      "Epoch 938/1000 [Training]: 100%|██████████| 17/17 [00:00<00:00, 23.76it/s]\n",
      "Epoch 938/1000 [Validation]: 100%|██████████| 1/1 [00:00<00:00, 108.62it/s]\n"
     ]
    },
    {
     "name": "stdout",
     "output_type": "stream",
     "text": [
      "Epoch 938: Train Loss = 0.1382 | Val Loss = 0.1382\n"
     ]
    },
    {
     "name": "stderr",
     "output_type": "stream",
     "text": [
      "Epoch 939/1000 [Training]: 100%|██████████| 17/17 [00:00<00:00, 23.76it/s]\n",
      "Epoch 939/1000 [Validation]: 100%|██████████| 1/1 [00:00<00:00, 108.39it/s]\n"
     ]
    },
    {
     "name": "stdout",
     "output_type": "stream",
     "text": [
      "Epoch 939: Train Loss = 0.1382 | Val Loss = 0.1382\n"
     ]
    },
    {
     "name": "stderr",
     "output_type": "stream",
     "text": [
      "Epoch 940/1000 [Training]: 100%|██████████| 17/17 [00:00<00:00, 23.77it/s]\n",
      "Epoch 940/1000 [Validation]: 100%|██████████| 1/1 [00:00<00:00, 111.64it/s]\n"
     ]
    },
    {
     "name": "stdout",
     "output_type": "stream",
     "text": [
      "Epoch 940: Train Loss = 0.1382 | Val Loss = 0.1382\n"
     ]
    },
    {
     "name": "stderr",
     "output_type": "stream",
     "text": [
      "Epoch 941/1000 [Training]: 100%|██████████| 17/17 [00:00<00:00, 23.80it/s]\n",
      "Epoch 941/1000 [Validation]: 100%|██████████| 1/1 [00:00<00:00, 121.41it/s]\n"
     ]
    },
    {
     "name": "stdout",
     "output_type": "stream",
     "text": [
      "Epoch 941: Train Loss = 0.1382 | Val Loss = 0.1382\n"
     ]
    },
    {
     "name": "stderr",
     "output_type": "stream",
     "text": [
      "Epoch 942/1000 [Training]: 100%|██████████| 17/17 [00:00<00:00, 23.81it/s]\n",
      "Epoch 942/1000 [Validation]: 100%|██████████| 1/1 [00:00<00:00, 108.87it/s]\n"
     ]
    },
    {
     "name": "stdout",
     "output_type": "stream",
     "text": [
      "Epoch 942: Train Loss = 0.1382 | Val Loss = 0.1382\n"
     ]
    },
    {
     "name": "stderr",
     "output_type": "stream",
     "text": [
      "Epoch 943/1000 [Training]: 100%|██████████| 17/17 [00:00<00:00, 23.78it/s]\n",
      "Epoch 943/1000 [Validation]: 100%|██████████| 1/1 [00:00<00:00, 107.96it/s]\n"
     ]
    },
    {
     "name": "stdout",
     "output_type": "stream",
     "text": [
      "Epoch 943: Train Loss = 0.1382 | Val Loss = 0.1382\n"
     ]
    },
    {
     "name": "stderr",
     "output_type": "stream",
     "text": [
      "Epoch 944/1000 [Training]: 100%|██████████| 17/17 [00:00<00:00, 23.73it/s]\n",
      "Epoch 944/1000 [Validation]: 100%|██████████| 1/1 [00:00<00:00, 106.48it/s]\n"
     ]
    },
    {
     "name": "stdout",
     "output_type": "stream",
     "text": [
      "Epoch 944: Train Loss = 0.1382 | Val Loss = 0.1382\n"
     ]
    },
    {
     "name": "stderr",
     "output_type": "stream",
     "text": [
      "Epoch 945/1000 [Training]: 100%|██████████| 17/17 [00:00<00:00, 23.69it/s]\n",
      "Epoch 945/1000 [Validation]: 100%|██████████| 1/1 [00:00<00:00, 83.43it/s]\n"
     ]
    },
    {
     "name": "stdout",
     "output_type": "stream",
     "text": [
      "Epoch 945: Train Loss = 0.1382 | Val Loss = 0.1382\n"
     ]
    },
    {
     "name": "stderr",
     "output_type": "stream",
     "text": [
      "Epoch 946/1000 [Training]: 100%|██████████| 17/17 [00:00<00:00, 23.43it/s]\n",
      "Epoch 946/1000 [Validation]: 100%|██████████| 1/1 [00:00<00:00, 108.05it/s]\n"
     ]
    },
    {
     "name": "stdout",
     "output_type": "stream",
     "text": [
      "Epoch 946: Train Loss = 0.1382 | Val Loss = 0.1382\n"
     ]
    },
    {
     "name": "stderr",
     "output_type": "stream",
     "text": [
      "Epoch 947/1000 [Training]: 100%|██████████| 17/17 [00:00<00:00, 23.74it/s]\n",
      "Epoch 947/1000 [Validation]: 100%|██████████| 1/1 [00:00<00:00, 107.20it/s]\n"
     ]
    },
    {
     "name": "stdout",
     "output_type": "stream",
     "text": [
      "Epoch 947: Train Loss = 0.1382 | Val Loss = 0.1382\n"
     ]
    },
    {
     "name": "stderr",
     "output_type": "stream",
     "text": [
      "Epoch 948/1000 [Training]: 100%|██████████| 17/17 [00:00<00:00, 23.85it/s]\n",
      "Epoch 948/1000 [Validation]: 100%|██████████| 1/1 [00:00<00:00, 110.05it/s]\n"
     ]
    },
    {
     "name": "stdout",
     "output_type": "stream",
     "text": [
      "Epoch 948: Train Loss = 0.1382 | Val Loss = 0.1382\n"
     ]
    },
    {
     "name": "stderr",
     "output_type": "stream",
     "text": [
      "Epoch 949/1000 [Training]: 100%|██████████| 17/17 [00:00<00:00, 23.77it/s]\n",
      "Epoch 949/1000 [Validation]: 100%|██████████| 1/1 [00:00<00:00, 114.11it/s]\n"
     ]
    },
    {
     "name": "stdout",
     "output_type": "stream",
     "text": [
      "Epoch 949: Train Loss = 0.1382 | Val Loss = 0.1382\n"
     ]
    },
    {
     "name": "stderr",
     "output_type": "stream",
     "text": [
      "Epoch 950/1000 [Training]: 100%|██████████| 17/17 [00:00<00:00, 23.73it/s]\n",
      "Epoch 950/1000 [Validation]: 100%|██████████| 1/1 [00:00<00:00, 107.48it/s]\n"
     ]
    },
    {
     "name": "stdout",
     "output_type": "stream",
     "text": [
      "Epoch 950: Train Loss = 0.1382 | Val Loss = 0.1382\n"
     ]
    },
    {
     "name": "stderr",
     "output_type": "stream",
     "text": [
      "Epoch 951/1000 [Training]: 100%|██████████| 17/17 [00:00<00:00, 23.75it/s]\n",
      "Epoch 951/1000 [Validation]: 100%|██████████| 1/1 [00:00<00:00, 107.92it/s]\n"
     ]
    },
    {
     "name": "stdout",
     "output_type": "stream",
     "text": [
      "Epoch 951: Train Loss = 0.1382 | Val Loss = 0.1382\n"
     ]
    },
    {
     "name": "stderr",
     "output_type": "stream",
     "text": [
      "Epoch 952/1000 [Training]: 100%|██████████| 17/17 [00:00<00:00, 23.75it/s]\n",
      "Epoch 952/1000 [Validation]: 100%|██████████| 1/1 [00:00<00:00, 87.34it/s]\n"
     ]
    },
    {
     "name": "stdout",
     "output_type": "stream",
     "text": [
      "Epoch 952: Train Loss = 0.1382 | Val Loss = 0.1382\n"
     ]
    },
    {
     "name": "stderr",
     "output_type": "stream",
     "text": [
      "Epoch 953/1000 [Training]: 100%|██████████| 17/17 [00:00<00:00, 22.04it/s]\n",
      "Epoch 953/1000 [Validation]: 100%|██████████| 1/1 [00:00<00:00, 111.59it/s]\n"
     ]
    },
    {
     "name": "stdout",
     "output_type": "stream",
     "text": [
      "Epoch 953: Train Loss = 0.1382 | Val Loss = 0.1382\n"
     ]
    },
    {
     "name": "stderr",
     "output_type": "stream",
     "text": [
      "Epoch 954/1000 [Training]: 100%|██████████| 17/17 [00:00<00:00, 23.56it/s]\n",
      "Epoch 954/1000 [Validation]: 100%|██████████| 1/1 [00:00<00:00, 86.79it/s]\n"
     ]
    },
    {
     "name": "stdout",
     "output_type": "stream",
     "text": [
      "Epoch 954: Train Loss = 0.1382 | Val Loss = 0.1382\n"
     ]
    },
    {
     "name": "stderr",
     "output_type": "stream",
     "text": [
      "Epoch 955/1000 [Training]: 100%|██████████| 17/17 [00:00<00:00, 23.75it/s]\n",
      "Epoch 955/1000 [Validation]: 100%|██████████| 1/1 [00:00<00:00, 112.73it/s]\n"
     ]
    },
    {
     "name": "stdout",
     "output_type": "stream",
     "text": [
      "Epoch 955: Train Loss = 0.1382 | Val Loss = 0.1382\n"
     ]
    },
    {
     "name": "stderr",
     "output_type": "stream",
     "text": [
      "Epoch 956/1000 [Training]: 100%|██████████| 17/17 [00:00<00:00, 23.75it/s]\n",
      "Epoch 956/1000 [Validation]: 100%|██████████| 1/1 [00:00<00:00, 114.04it/s]\n"
     ]
    },
    {
     "name": "stdout",
     "output_type": "stream",
     "text": [
      "Epoch 956: Train Loss = 0.1382 | Val Loss = 0.1382\n"
     ]
    },
    {
     "name": "stderr",
     "output_type": "stream",
     "text": [
      "Epoch 957/1000 [Training]: 100%|██████████| 17/17 [00:00<00:00, 23.75it/s]\n",
      "Epoch 957/1000 [Validation]: 100%|██████████| 1/1 [00:00<00:00, 109.65it/s]\n"
     ]
    },
    {
     "name": "stdout",
     "output_type": "stream",
     "text": [
      "Epoch 957: Train Loss = 0.1382 | Val Loss = 0.1382\n"
     ]
    },
    {
     "name": "stderr",
     "output_type": "stream",
     "text": [
      "Epoch 958/1000 [Training]: 100%|██████████| 17/17 [00:00<00:00, 23.64it/s]\n",
      "Epoch 958/1000 [Validation]: 100%|██████████| 1/1 [00:00<00:00, 113.13it/s]\n"
     ]
    },
    {
     "name": "stdout",
     "output_type": "stream",
     "text": [
      "Epoch 958: Train Loss = 0.1382 | Val Loss = 0.1382\n"
     ]
    },
    {
     "name": "stderr",
     "output_type": "stream",
     "text": [
      "Epoch 959/1000 [Training]: 100%|██████████| 17/17 [00:00<00:00, 23.31it/s]\n",
      "Epoch 959/1000 [Validation]: 100%|██████████| 1/1 [00:00<00:00, 114.68it/s]\n"
     ]
    },
    {
     "name": "stdout",
     "output_type": "stream",
     "text": [
      "Epoch 959: Train Loss = 0.1382 | Val Loss = 0.1382\n"
     ]
    },
    {
     "name": "stderr",
     "output_type": "stream",
     "text": [
      "Epoch 960/1000 [Training]: 100%|██████████| 17/17 [00:00<00:00, 23.79it/s]\n",
      "Epoch 960/1000 [Validation]: 100%|██████████| 1/1 [00:00<00:00, 111.29it/s]\n"
     ]
    },
    {
     "name": "stdout",
     "output_type": "stream",
     "text": [
      "Epoch 960: Train Loss = 0.1382 | Val Loss = 0.1382\n"
     ]
    },
    {
     "name": "stderr",
     "output_type": "stream",
     "text": [
      "Epoch 961/1000 [Training]: 100%|██████████| 17/17 [00:00<00:00, 23.79it/s]\n",
      "Epoch 961/1000 [Validation]: 100%|██████████| 1/1 [00:00<00:00, 104.87it/s]\n"
     ]
    },
    {
     "name": "stdout",
     "output_type": "stream",
     "text": [
      "Epoch 961: Train Loss = 0.1382 | Val Loss = 0.1382\n"
     ]
    },
    {
     "name": "stderr",
     "output_type": "stream",
     "text": [
      "Epoch 962/1000 [Training]: 100%|██████████| 17/17 [00:00<00:00, 23.68it/s]\n",
      "Epoch 962/1000 [Validation]: 100%|██████████| 1/1 [00:00<00:00, 115.85it/s]\n"
     ]
    },
    {
     "name": "stdout",
     "output_type": "stream",
     "text": [
      "Epoch 962: Train Loss = 0.1382 | Val Loss = 0.1382\n"
     ]
    },
    {
     "name": "stderr",
     "output_type": "stream",
     "text": [
      "Epoch 963/1000 [Training]: 100%|██████████| 17/17 [00:00<00:00, 23.88it/s]\n",
      "Epoch 963/1000 [Validation]: 100%|██████████| 1/1 [00:00<00:00, 113.79it/s]\n"
     ]
    },
    {
     "name": "stdout",
     "output_type": "stream",
     "text": [
      "Epoch 963: Train Loss = 0.1382 | Val Loss = 0.1382\n"
     ]
    },
    {
     "name": "stderr",
     "output_type": "stream",
     "text": [
      "Epoch 964/1000 [Training]: 100%|██████████| 17/17 [00:00<00:00, 23.86it/s]\n",
      "Epoch 964/1000 [Validation]: 100%|██████████| 1/1 [00:00<00:00, 108.33it/s]\n"
     ]
    },
    {
     "name": "stdout",
     "output_type": "stream",
     "text": [
      "Epoch 964: Train Loss = 0.1382 | Val Loss = 0.1382\n"
     ]
    },
    {
     "name": "stderr",
     "output_type": "stream",
     "text": [
      "Epoch 965/1000 [Training]: 100%|██████████| 17/17 [00:00<00:00, 23.73it/s]\n",
      "Epoch 965/1000 [Validation]: 100%|██████████| 1/1 [00:00<00:00, 113.98it/s]\n"
     ]
    },
    {
     "name": "stdout",
     "output_type": "stream",
     "text": [
      "Epoch 965: Train Loss = 0.1382 | Val Loss = 0.1382\n"
     ]
    },
    {
     "name": "stderr",
     "output_type": "stream",
     "text": [
      "Epoch 966/1000 [Training]: 100%|██████████| 17/17 [00:00<00:00, 23.71it/s]\n",
      "Epoch 966/1000 [Validation]: 100%|██████████| 1/1 [00:00<00:00, 111.54it/s]\n"
     ]
    },
    {
     "name": "stdout",
     "output_type": "stream",
     "text": [
      "Epoch 966: Train Loss = 0.1382 | Val Loss = 0.1382\n"
     ]
    },
    {
     "name": "stderr",
     "output_type": "stream",
     "text": [
      "Epoch 967/1000 [Training]: 100%|██████████| 17/17 [00:00<00:00, 23.77it/s]\n",
      "Epoch 967/1000 [Validation]: 100%|██████████| 1/1 [00:00<00:00, 114.30it/s]\n"
     ]
    },
    {
     "name": "stdout",
     "output_type": "stream",
     "text": [
      "Epoch 967: Train Loss = 0.1382 | Val Loss = 0.1382\n"
     ]
    },
    {
     "name": "stderr",
     "output_type": "stream",
     "text": [
      "Epoch 968/1000 [Training]: 100%|██████████| 17/17 [00:00<00:00, 23.73it/s]\n",
      "Epoch 968/1000 [Validation]: 100%|██████████| 1/1 [00:00<00:00, 108.92it/s]\n"
     ]
    },
    {
     "name": "stdout",
     "output_type": "stream",
     "text": [
      "Epoch 968: Train Loss = 0.1382 | Val Loss = 0.1382\n"
     ]
    },
    {
     "name": "stderr",
     "output_type": "stream",
     "text": [
      "Epoch 969/1000 [Training]: 100%|██████████| 17/17 [00:00<00:00, 23.74it/s]\n",
      "Epoch 969/1000 [Validation]: 100%|██████████| 1/1 [00:00<00:00, 113.96it/s]\n"
     ]
    },
    {
     "name": "stdout",
     "output_type": "stream",
     "text": [
      "Epoch 969: Train Loss = 0.1382 | Val Loss = 0.1382\n"
     ]
    },
    {
     "name": "stderr",
     "output_type": "stream",
     "text": [
      "Epoch 970/1000 [Training]: 100%|██████████| 17/17 [00:00<00:00, 23.70it/s]\n",
      "Epoch 970/1000 [Validation]: 100%|██████████| 1/1 [00:00<00:00, 110.77it/s]\n"
     ]
    },
    {
     "name": "stdout",
     "output_type": "stream",
     "text": [
      "Epoch 970: Train Loss = 0.1382 | Val Loss = 0.1382\n"
     ]
    },
    {
     "name": "stderr",
     "output_type": "stream",
     "text": [
      "Epoch 971/1000 [Training]: 100%|██████████| 17/17 [00:00<00:00, 23.77it/s]\n",
      "Epoch 971/1000 [Validation]: 100%|██████████| 1/1 [00:00<00:00, 113.60it/s]\n"
     ]
    },
    {
     "name": "stdout",
     "output_type": "stream",
     "text": [
      "Epoch 971: Train Loss = 0.1382 | Val Loss = 0.1382\n"
     ]
    },
    {
     "name": "stderr",
     "output_type": "stream",
     "text": [
      "Epoch 972/1000 [Training]: 100%|██████████| 17/17 [00:00<00:00, 23.72it/s]\n",
      "Epoch 972/1000 [Validation]: 100%|██████████| 1/1 [00:00<00:00, 117.44it/s]\n"
     ]
    },
    {
     "name": "stdout",
     "output_type": "stream",
     "text": [
      "Epoch 972: Train Loss = 0.1382 | Val Loss = 0.1382\n"
     ]
    },
    {
     "name": "stderr",
     "output_type": "stream",
     "text": [
      "Epoch 973/1000 [Training]: 100%|██████████| 17/17 [00:00<00:00, 23.51it/s]\n",
      "Epoch 973/1000 [Validation]: 100%|██████████| 1/1 [00:00<00:00, 111.73it/s]\n"
     ]
    },
    {
     "name": "stdout",
     "output_type": "stream",
     "text": [
      "Epoch 973: Train Loss = 0.1382 | Val Loss = 0.1382\n"
     ]
    },
    {
     "name": "stderr",
     "output_type": "stream",
     "text": [
      "Epoch 974/1000 [Training]: 100%|██████████| 17/17 [00:00<00:00, 23.76it/s]\n",
      "Epoch 974/1000 [Validation]: 100%|██████████| 1/1 [00:00<00:00, 108.93it/s]\n"
     ]
    },
    {
     "name": "stdout",
     "output_type": "stream",
     "text": [
      "Epoch 974: Train Loss = 0.1382 | Val Loss = 0.1382\n"
     ]
    },
    {
     "name": "stderr",
     "output_type": "stream",
     "text": [
      "Epoch 975/1000 [Training]: 100%|██████████| 17/17 [00:00<00:00, 23.73it/s]\n",
      "Epoch 975/1000 [Validation]: 100%|██████████| 1/1 [00:00<00:00, 109.13it/s]\n"
     ]
    },
    {
     "name": "stdout",
     "output_type": "stream",
     "text": [
      "Epoch 975: Train Loss = 0.1382 | Val Loss = 0.1382\n"
     ]
    },
    {
     "name": "stderr",
     "output_type": "stream",
     "text": [
      "Epoch 976/1000 [Training]: 100%|██████████| 17/17 [00:00<00:00, 23.77it/s]\n",
      "Epoch 976/1000 [Validation]: 100%|██████████| 1/1 [00:00<00:00, 109.74it/s]\n"
     ]
    },
    {
     "name": "stdout",
     "output_type": "stream",
     "text": [
      "Epoch 976: Train Loss = 0.1382 | Val Loss = 0.1382\n"
     ]
    },
    {
     "name": "stderr",
     "output_type": "stream",
     "text": [
      "Epoch 977/1000 [Training]: 100%|██████████| 17/17 [00:00<00:00, 23.80it/s]\n",
      "Epoch 977/1000 [Validation]: 100%|██████████| 1/1 [00:00<00:00, 112.98it/s]\n"
     ]
    },
    {
     "name": "stdout",
     "output_type": "stream",
     "text": [
      "Epoch 977: Train Loss = 0.1382 | Val Loss = 0.1382\n"
     ]
    },
    {
     "name": "stderr",
     "output_type": "stream",
     "text": [
      "Epoch 978/1000 [Training]: 100%|██████████| 17/17 [00:00<00:00, 23.84it/s]\n",
      "Epoch 978/1000 [Validation]: 100%|██████████| 1/1 [00:00<00:00, 112.56it/s]\n"
     ]
    },
    {
     "name": "stdout",
     "output_type": "stream",
     "text": [
      "Epoch 978: Train Loss = 0.1382 | Val Loss = 0.1382\n"
     ]
    },
    {
     "name": "stderr",
     "output_type": "stream",
     "text": [
      "Epoch 979/1000 [Training]: 100%|██████████| 17/17 [00:00<00:00, 23.79it/s]\n",
      "Epoch 979/1000 [Validation]: 100%|██████████| 1/1 [00:00<00:00, 98.94it/s]\n"
     ]
    },
    {
     "name": "stdout",
     "output_type": "stream",
     "text": [
      "Epoch 979: Train Loss = 0.1382 | Val Loss = 0.1382\n"
     ]
    },
    {
     "name": "stderr",
     "output_type": "stream",
     "text": [
      "Epoch 980/1000 [Training]: 100%|██████████| 17/17 [00:00<00:00, 23.78it/s]\n",
      "Epoch 980/1000 [Validation]: 100%|██████████| 1/1 [00:00<00:00, 114.83it/s]\n"
     ]
    },
    {
     "name": "stdout",
     "output_type": "stream",
     "text": [
      "Epoch 980: Train Loss = 0.1382 | Val Loss = 0.1382\n"
     ]
    },
    {
     "name": "stderr",
     "output_type": "stream",
     "text": [
      "Epoch 981/1000 [Training]: 100%|██████████| 17/17 [00:00<00:00, 23.81it/s]\n",
      "Epoch 981/1000 [Validation]: 100%|██████████| 1/1 [00:00<00:00, 116.53it/s]\n"
     ]
    },
    {
     "name": "stdout",
     "output_type": "stream",
     "text": [
      "Epoch 981: Train Loss = 0.1382 | Val Loss = 0.1382\n"
     ]
    },
    {
     "name": "stderr",
     "output_type": "stream",
     "text": [
      "Epoch 982/1000 [Training]: 100%|██████████| 17/17 [00:00<00:00, 23.73it/s]\n",
      "Epoch 982/1000 [Validation]: 100%|██████████| 1/1 [00:00<00:00, 112.11it/s]\n"
     ]
    },
    {
     "name": "stdout",
     "output_type": "stream",
     "text": [
      "Epoch 982: Train Loss = 0.1382 | Val Loss = 0.1382\n"
     ]
    },
    {
     "name": "stderr",
     "output_type": "stream",
     "text": [
      "Epoch 983/1000 [Training]: 100%|██████████| 17/17 [00:00<00:00, 23.74it/s]\n",
      "Epoch 983/1000 [Validation]: 100%|██████████| 1/1 [00:00<00:00, 106.41it/s]\n"
     ]
    },
    {
     "name": "stdout",
     "output_type": "stream",
     "text": [
      "Epoch 983: Train Loss = 0.1382 | Val Loss = 0.1382\n"
     ]
    },
    {
     "name": "stderr",
     "output_type": "stream",
     "text": [
      "Epoch 984/1000 [Training]: 100%|██████████| 17/17 [00:00<00:00, 23.80it/s]\n",
      "Epoch 984/1000 [Validation]: 100%|██████████| 1/1 [00:00<00:00, 107.40it/s]\n"
     ]
    },
    {
     "name": "stdout",
     "output_type": "stream",
     "text": [
      "Epoch 984: Train Loss = 0.1382 | Val Loss = 0.1382\n"
     ]
    },
    {
     "name": "stderr",
     "output_type": "stream",
     "text": [
      "Epoch 985/1000 [Training]: 100%|██████████| 17/17 [00:00<00:00, 23.72it/s]\n",
      "Epoch 985/1000 [Validation]: 100%|██████████| 1/1 [00:00<00:00, 115.78it/s]\n"
     ]
    },
    {
     "name": "stdout",
     "output_type": "stream",
     "text": [
      "Epoch 985: Train Loss = 0.1382 | Val Loss = 0.1382\n"
     ]
    },
    {
     "name": "stderr",
     "output_type": "stream",
     "text": [
      "Epoch 986/1000 [Training]: 100%|██████████| 17/17 [00:00<00:00, 23.70it/s]\n",
      "Epoch 986/1000 [Validation]: 100%|██████████| 1/1 [00:00<00:00, 110.77it/s]\n"
     ]
    },
    {
     "name": "stdout",
     "output_type": "stream",
     "text": [
      "Epoch 986: Train Loss = 0.1382 | Val Loss = 0.1382\n"
     ]
    },
    {
     "name": "stderr",
     "output_type": "stream",
     "text": [
      "Epoch 987/1000 [Training]: 100%|██████████| 17/17 [00:00<00:00, 23.43it/s]\n",
      "Epoch 987/1000 [Validation]: 100%|██████████| 1/1 [00:00<00:00, 114.25it/s]\n"
     ]
    },
    {
     "name": "stdout",
     "output_type": "stream",
     "text": [
      "Epoch 987: Train Loss = 0.1382 | Val Loss = 0.1382\n"
     ]
    },
    {
     "name": "stderr",
     "output_type": "stream",
     "text": [
      "Epoch 988/1000 [Training]: 100%|██████████| 17/17 [00:00<00:00, 23.71it/s]\n",
      "Epoch 988/1000 [Validation]: 100%|██████████| 1/1 [00:00<00:00, 104.54it/s]\n"
     ]
    },
    {
     "name": "stdout",
     "output_type": "stream",
     "text": [
      "Epoch 988: Train Loss = 0.1382 | Val Loss = 0.1382\n"
     ]
    },
    {
     "name": "stderr",
     "output_type": "stream",
     "text": [
      "Epoch 989/1000 [Training]: 100%|██████████| 17/17 [00:00<00:00, 23.77it/s]\n",
      "Epoch 989/1000 [Validation]: 100%|██████████| 1/1 [00:00<00:00, 112.59it/s]\n"
     ]
    },
    {
     "name": "stdout",
     "output_type": "stream",
     "text": [
      "Epoch 989: Train Loss = 0.1382 | Val Loss = 0.1382\n"
     ]
    },
    {
     "name": "stderr",
     "output_type": "stream",
     "text": [
      "Epoch 990/1000 [Training]: 100%|██████████| 17/17 [00:00<00:00, 23.73it/s]\n",
      "Epoch 990/1000 [Validation]: 100%|██████████| 1/1 [00:00<00:00, 116.01it/s]\n"
     ]
    },
    {
     "name": "stdout",
     "output_type": "stream",
     "text": [
      "Epoch 990: Train Loss = 0.1382 | Val Loss = 0.1382\n"
     ]
    },
    {
     "name": "stderr",
     "output_type": "stream",
     "text": [
      "Epoch 991/1000 [Training]: 100%|██████████| 17/17 [00:00<00:00, 23.79it/s]\n",
      "Epoch 991/1000 [Validation]: 100%|██████████| 1/1 [00:00<00:00, 111.90it/s]\n"
     ]
    },
    {
     "name": "stdout",
     "output_type": "stream",
     "text": [
      "Epoch 991: Train Loss = 0.1382 | Val Loss = 0.1382\n"
     ]
    },
    {
     "name": "stderr",
     "output_type": "stream",
     "text": [
      "Epoch 992/1000 [Training]: 100%|██████████| 17/17 [00:00<00:00, 23.72it/s]\n",
      "Epoch 992/1000 [Validation]: 100%|██████████| 1/1 [00:00<00:00, 109.69it/s]\n"
     ]
    },
    {
     "name": "stdout",
     "output_type": "stream",
     "text": [
      "Epoch 992: Train Loss = 0.1382 | Val Loss = 0.1382\n"
     ]
    },
    {
     "name": "stderr",
     "output_type": "stream",
     "text": [
      "Epoch 993/1000 [Training]: 100%|██████████| 17/17 [00:00<00:00, 23.81it/s]\n",
      "Epoch 993/1000 [Validation]: 100%|██████████| 1/1 [00:00<00:00, 103.65it/s]\n"
     ]
    },
    {
     "name": "stdout",
     "output_type": "stream",
     "text": [
      "Epoch 993: Train Loss = 0.1382 | Val Loss = 0.1382\n"
     ]
    },
    {
     "name": "stderr",
     "output_type": "stream",
     "text": [
      "Epoch 994/1000 [Training]: 100%|██████████| 17/17 [00:00<00:00, 23.80it/s]\n",
      "Epoch 994/1000 [Validation]: 100%|██████████| 1/1 [00:00<00:00, 115.31it/s]\n"
     ]
    },
    {
     "name": "stdout",
     "output_type": "stream",
     "text": [
      "Epoch 994: Train Loss = 0.1382 | Val Loss = 0.1382\n"
     ]
    },
    {
     "name": "stderr",
     "output_type": "stream",
     "text": [
      "Epoch 995/1000 [Training]: 100%|██████████| 17/17 [00:00<00:00, 23.61it/s]\n",
      "Epoch 995/1000 [Validation]: 100%|██████████| 1/1 [00:00<00:00, 118.31it/s]\n"
     ]
    },
    {
     "name": "stdout",
     "output_type": "stream",
     "text": [
      "Epoch 995: Train Loss = 0.1382 | Val Loss = 0.1382\n"
     ]
    },
    {
     "name": "stderr",
     "output_type": "stream",
     "text": [
      "Epoch 996/1000 [Training]: 100%|██████████| 17/17 [00:00<00:00, 21.35it/s]\n",
      "Epoch 996/1000 [Validation]: 100%|██████████| 1/1 [00:00<00:00, 110.85it/s]\n"
     ]
    },
    {
     "name": "stdout",
     "output_type": "stream",
     "text": [
      "Epoch 996: Train Loss = 0.1382 | Val Loss = 0.1382\n"
     ]
    },
    {
     "name": "stderr",
     "output_type": "stream",
     "text": [
      "Epoch 997/1000 [Training]: 100%|██████████| 17/17 [00:00<00:00, 22.92it/s]\n",
      "Epoch 997/1000 [Validation]: 100%|██████████| 1/1 [00:00<00:00, 111.03it/s]\n"
     ]
    },
    {
     "name": "stdout",
     "output_type": "stream",
     "text": [
      "Epoch 997: Train Loss = 0.1382 | Val Loss = 0.1382\n"
     ]
    },
    {
     "name": "stderr",
     "output_type": "stream",
     "text": [
      "Epoch 998/1000 [Training]: 100%|██████████| 17/17 [00:00<00:00, 23.45it/s]\n",
      "Epoch 998/1000 [Validation]: 100%|██████████| 1/1 [00:00<00:00, 114.87it/s]\n"
     ]
    },
    {
     "name": "stdout",
     "output_type": "stream",
     "text": [
      "Epoch 998: Train Loss = 0.1382 | Val Loss = 0.1382\n"
     ]
    },
    {
     "name": "stderr",
     "output_type": "stream",
     "text": [
      "Epoch 999/1000 [Training]: 100%|██████████| 17/17 [00:00<00:00, 23.79it/s]\n",
      "Epoch 999/1000 [Validation]: 100%|██████████| 1/1 [00:00<00:00, 114.17it/s]\n"
     ]
    },
    {
     "name": "stdout",
     "output_type": "stream",
     "text": [
      "Epoch 999: Train Loss = 0.1382 | Val Loss = 0.1382\n"
     ]
    },
    {
     "name": "stderr",
     "output_type": "stream",
     "text": [
      "Epoch 1000/1000 [Training]: 100%|██████████| 17/17 [00:00<00:00, 23.27it/s]\n",
      "Epoch 1000/1000 [Validation]: 100%|██████████| 1/1 [00:00<00:00, 110.89it/s]"
     ]
    },
    {
     "name": "stdout",
     "output_type": "stream",
     "text": [
      "Epoch 1000: Train Loss = 0.1382 | Val Loss = 0.1382\n",
      "Лучшие веса модели сохранены!\n"
     ]
    },
    {
     "name": "stderr",
     "output_type": "stream",
     "text": [
      "\n"
     ]
    }
   ],
   "source": [
    "# Инициализируем переменные для отслеживания лучшей модели\n",
    "best_val_loss = float('inf')  # Начальная наилучшая валид. потеря (очень большая)\n",
    "best_model_state = None  # Для хранения состояния лучшей модели\n",
    "\n",
    "for epoch in range(num_epochs):  \n",
    "    # === ОБУЧЕНИЕ ===\n",
    "    model.train()\n",
    "    train_loss = 0\n",
    "\n",
    "    for enc_input, dec_input, dec_target in tqdm(train_loader, desc=f\"Epoch {epoch+1}/{num_epochs} [Training]\"):\n",
    "        enc_input, dec_input, dec_target = enc_input.to(device), dec_input.to(device), dec_target.to(device)\n",
    "        \n",
    "        predictions = model(enc_input, dec_input)\n",
    "        loss = criterion(predictions.reshape(-1, num_decoder_tokens), dec_target.reshape(-1))\n",
    "\n",
    "        optimizer.zero_grad()\n",
    "        loss.backward()\n",
    "        optimizer.step()\n",
    "        train_loss += loss.item()\n",
    "\n",
    "    train_loss /= len(train_loader)\n",
    "    \n",
    "    # === ВАЛИДАЦИЯ ===\n",
    "    model.eval()\n",
    "    val_loss = 0\n",
    "\n",
    "    with torch.no_grad():\n",
    "        for enc_input, dec_input, dec_target in tqdm(val_loader, desc=f\"Epoch {epoch+1}/{num_epochs} [Validation]\"):\n",
    "            enc_input, dec_input, dec_target = enc_input.to(device), dec_input.to(device), dec_target.to(device)\n",
    "\n",
    "            predictions = model(enc_input, dec_input)\n",
    "            loss = criterion(predictions.reshape(-1, num_decoder_tokens), dec_target.reshape(-1))\n",
    "            val_loss += loss.item()\n",
    "\n",
    "    val_loss /= len(val_loader)\n",
    "\n",
    "    print(f\"Epoch {epoch+1}: Train Loss = {train_loss:.4f} | Val Loss = {val_loss:.4f}\")\n",
    "\n",
    "    # Сохраняем модель, если валидационная потеря улучшилась\n",
    "    if val_loss < best_val_loss:\n",
    "        best_val_loss = val_loss\n",
    "        best_model_state = model.state_dict()  # Сохраняем состояние модели\n",
    "\n",
    "# После завершения обучения загружаем лучшие веса модели\n",
    "model.load_state_dict(best_model_state)\n",
    "print(\"Лучшие веса модели сохранены!\")\n"
   ]
  },
  {
   "cell_type": "code",
   "execution_count": 12,
   "id": "5db0b0d9",
   "metadata": {
    "execution": {
     "iopub.execute_input": "2025-03-27T15:10:50.844181Z",
     "iopub.status.busy": "2025-03-27T15:10:50.843890Z",
     "iopub.status.idle": "2025-03-27T15:10:50.849968Z",
     "shell.execute_reply": "2025-03-27T15:10:50.849302Z"
    },
    "papermill": {
     "duration": 0.540505,
     "end_time": "2025-03-27T15:10:50.851174",
     "exception": false,
     "start_time": "2025-03-27T15:10:50.310669",
     "status": "completed"
    },
    "tags": []
   },
   "outputs": [],
   "source": [
    "# === ПРЕДСКАЗАНИЕ ===\n",
    "def translate_batch(input_seqs):\n",
    "    model.eval()\n",
    "    input_seqs = torch.tensor(input_seqs, dtype=torch.long).to(device)\n",
    "    hidden, cell = encoder(input_seqs)\n",
    "    target_seqs = torch.full((input_seqs.shape[0], 1), target_tokenizer.word_index[\"<start>\"], dtype=torch.long).to(device)\n",
    "\n",
    "    decoded_sentences = [\"\"] * len(input_seqs)\n",
    "    stop_condition = [False] * len(input_seqs)\n",
    "\n",
    "    for _ in range(max_decoder_seq_length):\n",
    "        output, hidden, cell = decoder(target_seqs[:, -1], hidden, cell)\n",
    "        sampled_indices = output.argmax(1)\n",
    "\n",
    "        for i in range(len(input_seqs)):\n",
    "            if not stop_condition[i]:\n",
    "                sampled_char = target_tokenizer.index_word.get(sampled_indices[i].item(), \"\")\n",
    "                if sampled_char == \"<end>\":\n",
    "                    stop_condition[i] = True\n",
    "                else:\n",
    "                    decoded_sentences[i] += sampled_char\n",
    "                    target_seqs = torch.cat((target_seqs, sampled_indices.unsqueeze(1)), dim=1)\n",
    "\n",
    "        if all(stop_condition):\n",
    "            break\n",
    "\n",
    "    return [sentence.strip() for sentence in decoded_sentences]"
   ]
  },
  {
   "cell_type": "code",
   "execution_count": 13,
   "id": "19df1a35",
   "metadata": {
    "execution": {
     "iopub.execute_input": "2025-03-27T15:10:52.008872Z",
     "iopub.status.busy": "2025-03-27T15:10:52.008551Z",
     "iopub.status.idle": "2025-03-27T15:10:52.041627Z",
     "shell.execute_reply": "2025-03-27T15:10:52.040796Z"
    },
    "papermill": {
     "duration": 0.612709,
     "end_time": "2025-03-27T15:10:52.043015",
     "exception": false,
     "start_time": "2025-03-27T15:10:51.430306",
     "status": "completed"
    },
    "tags": []
   },
   "outputs": [],
   "source": [
    "# === ОТРИСОВКА ПРЕДСКАЗАНИЙ ===\n",
    "test_texts = test_df[\"data\"].astype(str).tolist()\n",
    "test_sequences = input_tokenizer.texts_to_sequences(test_texts)\n",
    "test_padded = pad_sequences(test_sequences, maxlen=max_encoder_seq_length, padding=\"post\")\n"
   ]
  },
  {
   "cell_type": "code",
   "execution_count": 14,
   "id": "0abf361f",
   "metadata": {
    "execution": {
     "iopub.execute_input": "2025-03-27T15:10:53.157759Z",
     "iopub.status.busy": "2025-03-27T15:10:53.157430Z",
     "iopub.status.idle": "2025-03-27T15:10:53.160996Z",
     "shell.execute_reply": "2025-03-27T15:10:53.160175Z"
    },
    "papermill": {
     "duration": 0.589451,
     "end_time": "2025-03-27T15:10:53.162380",
     "exception": false,
     "start_time": "2025-03-27T15:10:52.572929",
     "status": "completed"
    },
    "tags": []
   },
   "outputs": [],
   "source": [
    "batch_size = 64\n"
   ]
  },
  {
   "cell_type": "code",
   "execution_count": 15,
   "id": "ca4299ce",
   "metadata": {
    "execution": {
     "iopub.execute_input": "2025-03-27T15:10:54.270054Z",
     "iopub.status.busy": "2025-03-27T15:10:54.269726Z",
     "iopub.status.idle": "2025-03-27T15:10:59.294900Z",
     "shell.execute_reply": "2025-03-27T15:10:59.294087Z"
    },
    "papermill": {
     "duration": 5.605903,
     "end_time": "2025-03-27T15:10:59.296507",
     "exception": false,
     "start_time": "2025-03-27T15:10:53.690604",
     "status": "completed"
    },
    "tags": []
   },
   "outputs": [
    {
     "name": "stderr",
     "output_type": "stream",
     "text": [
      "Predicting: 100%|██████████| 74/74 [00:05<00:00, 14.75it/s]\n"
     ]
    }
   ],
   "source": [
    "predictions = []\n",
    "for i in tqdm(range(0, len(test_padded), batch_size), desc=\"Predicting\"):\n",
    "    batch_input = test_padded[i:i + batch_size]\n",
    "    decoded_sentences = translate_batch(batch_input)\n",
    "    predictions.extend(decoded_sentences)"
   ]
  },
  {
   "cell_type": "code",
   "execution_count": 16,
   "id": "f61664fe",
   "metadata": {
    "execution": {
     "iopub.execute_input": "2025-03-27T15:11:00.379607Z",
     "iopub.status.busy": "2025-03-27T15:11:00.379266Z",
     "iopub.status.idle": "2025-03-27T15:11:00.387715Z",
     "shell.execute_reply": "2025-03-27T15:11:00.387014Z"
    },
    "papermill": {
     "duration": 0.539711,
     "end_time": "2025-03-27T15:11:00.388930",
     "exception": false,
     "start_time": "2025-03-27T15:10:59.849219",
     "status": "completed"
    },
    "tags": []
   },
   "outputs": [],
   "source": [
    "submission = pd.DataFrame({\"id\": test_df[\"id\"], \"label\": predictions})\n",
    "submission['label'] = submission['label'].apply(lambda x: x.split('art>')[1].split('<end')[0].strip())\n"
   ]
  },
  {
   "cell_type": "code",
   "execution_count": 17,
   "id": "073d8514",
   "metadata": {
    "execution": {
     "iopub.execute_input": "2025-03-27T15:11:01.571929Z",
     "iopub.status.busy": "2025-03-27T15:11:01.571633Z",
     "iopub.status.idle": "2025-03-27T15:11:01.594443Z",
     "shell.execute_reply": "2025-03-27T15:11:01.593757Z"
    },
    "papermill": {
     "duration": 0.63049,
     "end_time": "2025-03-27T15:11:01.595795",
     "exception": false,
     "start_time": "2025-03-27T15:11:00.965305",
     "status": "completed"
    },
    "tags": []
   },
   "outputs": [
    {
     "data": {
      "text/html": [
       "<div>\n",
       "<style scoped>\n",
       "    .dataframe tbody tr th:only-of-type {\n",
       "        vertical-align: middle;\n",
       "    }\n",
       "\n",
       "    .dataframe tbody tr th {\n",
       "        vertical-align: top;\n",
       "    }\n",
       "\n",
       "    .dataframe thead th {\n",
       "        text-align: right;\n",
       "    }\n",
       "</style>\n",
       "<table border=\"1\" class=\"dataframe\">\n",
       "  <thead>\n",
       "    <tr style=\"text-align: right;\">\n",
       "      <th></th>\n",
       "      <th>id</th>\n",
       "      <th>label</th>\n",
       "    </tr>\n",
       "  </thead>\n",
       "  <tbody>\n",
       "    <tr>\n",
       "      <th>0</th>\n",
       "      <td>0</td>\n",
       "      <td>24-01-2007</td>\n",
       "    </tr>\n",
       "    <tr>\n",
       "      <th>1</th>\n",
       "      <td>1</td>\n",
       "      <td>06-03-2049</td>\n",
       "    </tr>\n",
       "    <tr>\n",
       "      <th>2</th>\n",
       "      <td>2</td>\n",
       "      <td>10-05-2077</td>\n",
       "    </tr>\n",
       "    <tr>\n",
       "      <th>3</th>\n",
       "      <td>3</td>\n",
       "      <td>27-06-2049</td>\n",
       "    </tr>\n",
       "    <tr>\n",
       "      <th>4</th>\n",
       "      <td>4</td>\n",
       "      <td>08-01-2077</td>\n",
       "    </tr>\n",
       "    <tr>\n",
       "      <th>...</th>\n",
       "      <td>...</td>\n",
       "      <td>...</td>\n",
       "    </tr>\n",
       "    <tr>\n",
       "      <th>4671</th>\n",
       "      <td>4671</td>\n",
       "      <td>15-01-2049</td>\n",
       "    </tr>\n",
       "    <tr>\n",
       "      <th>4672</th>\n",
       "      <td>4672</td>\n",
       "      <td>09-05-2049</td>\n",
       "    </tr>\n",
       "    <tr>\n",
       "      <th>4673</th>\n",
       "      <td>4673</td>\n",
       "      <td>18-02-2007</td>\n",
       "    </tr>\n",
       "    <tr>\n",
       "      <th>4674</th>\n",
       "      <td>4674</td>\n",
       "      <td>14-12-2049</td>\n",
       "    </tr>\n",
       "    <tr>\n",
       "      <th>4675</th>\n",
       "      <td>4675</td>\n",
       "      <td>02-01-2077</td>\n",
       "    </tr>\n",
       "  </tbody>\n",
       "</table>\n",
       "<p>4676 rows × 2 columns</p>\n",
       "</div>"
      ],
      "text/plain": [
       "        id       label\n",
       "0        0  24-01-2007\n",
       "1        1  06-03-2049\n",
       "2        2  10-05-2077\n",
       "3        3  27-06-2049\n",
       "4        4  08-01-2077\n",
       "...    ...         ...\n",
       "4671  4671  15-01-2049\n",
       "4672  4672  09-05-2049\n",
       "4673  4673  18-02-2007\n",
       "4674  4674  14-12-2049\n",
       "4675  4675  02-01-2077\n",
       "\n",
       "[4676 rows x 2 columns]"
      ]
     },
     "execution_count": 17,
     "metadata": {},
     "output_type": "execute_result"
    }
   ],
   "source": [
    "submission"
   ]
  },
  {
   "cell_type": "code",
   "execution_count": 18,
   "id": "1dbd60c8",
   "metadata": {
    "execution": {
     "iopub.execute_input": "2025-03-27T15:11:02.716137Z",
     "iopub.status.busy": "2025-03-27T15:11:02.715853Z",
     "iopub.status.idle": "2025-03-27T15:11:02.728553Z",
     "shell.execute_reply": "2025-03-27T15:11:02.727896Z"
    },
    "papermill": {
     "duration": 0.603256,
     "end_time": "2025-03-27T15:11:02.729770",
     "exception": false,
     "start_time": "2025-03-27T15:11:02.126514",
     "status": "completed"
    },
    "tags": []
   },
   "outputs": [],
   "source": [
    "submission.to_csv(\"submission.csv\", index=False)"
   ]
  },
  {
   "cell_type": "code",
   "execution_count": null,
   "id": "472beed7",
   "metadata": {
    "papermill": {
     "duration": 0.527927,
     "end_time": "2025-03-27T15:11:03.788423",
     "exception": false,
     "start_time": "2025-03-27T15:11:03.260496",
     "status": "completed"
    },
    "tags": []
   },
   "outputs": [],
   "source": []
  }
 ],
 "metadata": {
  "kaggle": {
   "accelerator": "gpu",
   "dataSources": [
    {
     "databundleVersionId": 11495692,
     "sourceId": 96694,
     "sourceType": "competition"
    }
   ],
   "isGpuEnabled": true,
   "isInternetEnabled": true,
   "language": "python",
   "sourceType": "notebook"
  },
  "kernelspec": {
   "display_name": "Python 3",
   "language": "python",
   "name": "python3"
  },
  "language_info": {
   "codemirror_mode": {
    "name": "ipython",
    "version": 3
   },
   "file_extension": ".py",
   "mimetype": "text/x-python",
   "name": "python",
   "nbconvert_exporter": "python",
   "pygments_lexer": "ipython3",
   "version": "3.10.12"
  },
  "papermill": {
   "default_parameters": {},
   "duration": 773.371874,
   "end_time": "2025-03-27T15:11:07.075031",
   "environment_variables": {},
   "exception": null,
   "input_path": "__notebook__.ipynb",
   "output_path": "__notebook__.ipynb",
   "parameters": {},
   "start_time": "2025-03-27T14:58:13.703157",
   "version": "2.6.0"
  }
 },
 "nbformat": 4,
 "nbformat_minor": 5
}
