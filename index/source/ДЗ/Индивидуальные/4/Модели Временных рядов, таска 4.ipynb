{
 "cells": [
  {
   "cell_type": "code",
   "execution_count": 1,
   "id": "1d9f8c39",
   "metadata": {
    "_cell_guid": "b1076dfc-b9ad-4769-8c92-a6c4dae69d19",
    "_uuid": "8f2839f25d086af736a60e9eeb907d3b93b6e0e5",
    "execution": {
     "iopub.execute_input": "2025-02-13T13:03:39.931235Z",
     "iopub.status.busy": "2025-02-13T13:03:39.930766Z",
     "iopub.status.idle": "2025-02-13T13:03:44.461629Z",
     "shell.execute_reply": "2025-02-13T13:03:44.460639Z"
    },
    "papermill": {
     "duration": 4.548535,
     "end_time": "2025-02-13T13:03:44.463592",
     "exception": false,
     "start_time": "2025-02-13T13:03:39.915057",
     "status": "completed"
    },
    "tags": []
   },
   "outputs": [],
   "source": [
    "import numpy as np\n",
    "import polars as pl\n",
    "import catboost\n",
    "import xgboost as xgb\n",
    "from sklearn.ensemble import RandomForestRegressor\n",
    "import seaborn as sns"
   ]
  },
  {
   "cell_type": "markdown",
   "id": "89c25b98",
   "metadata": {
    "papermill": {
     "duration": 0.008091,
     "end_time": "2025-02-13T13:03:44.480364",
     "exception": false,
     "start_time": "2025-02-13T13:03:44.472273",
     "status": "completed"
    },
    "tags": []
   },
   "source": [
    "### Меня зовут Вершинин Михаил"
   ]
  },
  {
   "cell_type": "markdown",
   "id": "fbdeeaff",
   "metadata": {
    "papermill": {
     "duration": 0.008002,
     "end_time": "2025-02-13T13:03:44.496911",
     "exception": false,
     "start_time": "2025-02-13T13:03:44.488909",
     "status": "completed"
    },
    "tags": []
   },
   "source": [
    "# Установка библиотек"
   ]
  },
  {
   "cell_type": "code",
   "execution_count": 2,
   "id": "a18be94b",
   "metadata": {
    "execution": {
     "iopub.execute_input": "2025-02-13T13:03:44.514887Z",
     "iopub.status.busy": "2025-02-13T13:03:44.514337Z",
     "iopub.status.idle": "2025-02-13T13:03:44.523813Z",
     "shell.execute_reply": "2025-02-13T13:03:44.522644Z"
    },
    "papermill": {
     "duration": 0.020281,
     "end_time": "2025-02-13T13:03:44.525409",
     "exception": false,
     "start_time": "2025-02-13T13:03:44.505128",
     "status": "completed"
    },
    "tags": []
   },
   "outputs": [],
   "source": [
    "# Функция для создания новых фичей на основе дат\n",
    "def create_date_features(df):\n",
    "    # Преобразование столбцов в тип даты\n",
    "    df = df.with_columns([\n",
    "        pl.col(\"date\").str.strptime(pl.Date, \"%Y-%m-%d\").alias(\"date\"),\n",
    "        pl.col(\"next_date\").str.strptime(pl.Date, \"%Y-%m-%d\").alias(\"next_date\")\n",
    "    ])\n",
    "    \n",
    "    # Разница между датами в днях\n",
    "    df = df.with_columns([\n",
    "        (pl.col(\"next_date\") - pl.col(\"date\")).alias(\"date_diff_days\"),\n",
    "    ])\n",
    "    \n",
    "    return df\n",
    "\n",
    "# Вторая функция для создания новых фичей на основе двух дат и геоданных\n",
    "def create_many_time_geo_features(df: pl.DataFrame, lat_col='lat', lon_col='lng') -> pl.DataFrame:\n",
    "    df = df.rename({\"date\": \"datetime\", \"next_date\": \"next_datetime\"})\n",
    "    \n",
    "    # 1. Базовые признаки для обеих дат\n",
    "    df = df.with_columns([\n",
    "        pl.col(\"datetime\").dt.year().alias(\"year\"),\n",
    "        pl.col(\"datetime\").dt.month().alias(\"month\"),\n",
    "        pl.col(\"next_datetime\").dt.year().alias(\"next_year\"),\n",
    "        pl.col(\"next_datetime\").dt.month().alias(\"next_month\")\n",
    "    ])\n",
    "    \n",
    "    # 2. Циклические признаки для обеих дат\n",
    "    df = df.with_columns([\n",
    "        (2 * np.pi * pl.col(\"month\") / 12).sin().alias(\"month_sin\"),\n",
    "        (2 * np.pi * pl.col(\"month\") / 12).cos().alias(\"month_cos\"),\n",
    "        (2 * np.pi * pl.col(\"next_month\") / 12).sin().alias(\"next_month_sin\"),\n",
    "        (2 * np.pi * pl.col(\"next_month\") / 12).cos().alias(\"next_month_cos\"),\n",
    "    ])\n",
    "    \n",
    "    # 3. Географические признаки\n",
    "    df = df.with_columns([\n",
    "        pl.col(lat_col).radians().cos().alias(\"lat_cos\"),\n",
    "        pl.col(lat_col).radians().sin().alias(\"lat_sin\"),\n",
    "        pl.col(lon_col).radians().cos().alias(\"lon_cos\"),\n",
    "        pl.col(lon_col).radians().sin().alias(\"lon_sin\"),\n",
    "    ])\n",
    "    \n",
    "    # Сортировка по дате\n",
    "    df = df.sort(\"datetime\")\n",
    "    \n",
    "    return df\n"
   ]
  },
  {
   "cell_type": "markdown",
   "id": "e22bb467",
   "metadata": {
    "papermill": {
     "duration": 0.008429,
     "end_time": "2025-02-13T13:03:44.542165",
     "exception": false,
     "start_time": "2025-02-13T13:03:44.533736",
     "status": "completed"
    },
    "tags": []
   },
   "source": [
    "### Загрузка данных и предобработка"
   ]
  },
  {
   "cell_type": "code",
   "execution_count": 3,
   "id": "0defdb25",
   "metadata": {
    "execution": {
     "iopub.execute_input": "2025-02-13T13:03:44.560113Z",
     "iopub.status.busy": "2025-02-13T13:03:44.559733Z",
     "iopub.status.idle": "2025-02-13T13:03:45.010678Z",
     "shell.execute_reply": "2025-02-13T13:03:45.009487Z"
    },
    "papermill": {
     "duration": 0.462405,
     "end_time": "2025-02-13T13:03:45.012772",
     "exception": false,
     "start_time": "2025-02-13T13:03:44.550367",
     "status": "completed"
    },
    "tags": []
   },
   "outputs": [],
   "source": [
    "train = pl.read_csv(r'/kaggle/input/ioai-2025-preparation-class-lesson-4-homework/train.csv').sort('date')\n",
    "sab = pl.read_csv(r'/kaggle/input/ioai-2025-preparation-class-lesson-4-homework/sample_submission.csv')\n",
    "sab = sab.with_columns([\n",
    "    pl.col(\"id\").str.split(\"_\").list.get(0).alias(\"date\"),\n",
    "    pl.col(\"id\").str.split(\"_\").list.get(1).cast(pl.Int64).alias(\"id_house\"),\n",
    "    pl.col(\"target\").cast(pl.Float64).alias(\"target\")  # <-- правильное приведение к float\n",
    "]).drop([\"id\"])"
   ]
  },
  {
   "cell_type": "code",
   "execution_count": 4,
   "id": "d6ec4ac2",
   "metadata": {
    "execution": {
     "iopub.execute_input": "2025-02-13T13:03:45.032284Z",
     "iopub.status.busy": "2025-02-13T13:03:45.031943Z",
     "iopub.status.idle": "2025-02-13T13:03:45.051651Z",
     "shell.execute_reply": "2025-02-13T13:03:45.050649Z"
    },
    "papermill": {
     "duration": 0.031651,
     "end_time": "2025-02-13T13:03:45.053226",
     "exception": false,
     "start_time": "2025-02-13T13:03:45.021575",
     "status": "completed"
    },
    "tags": []
   },
   "outputs": [
    {
     "data": {
      "text/html": [
       "<div><style>\n",
       ".dataframe > thead > tr,\n",
       ".dataframe > tbody > tr {\n",
       "  text-align: right;\n",
       "  white-space: pre-wrap;\n",
       "}\n",
       "</style>\n",
       "<small>shape: (150_307, 22)</small><table border=\"1\" class=\"dataframe\"><thead><tr><th>apart_to_room</th><th>num_builds_live</th><th>mean_price</th><th>date</th><th>num_builds_series_live</th><th>room_three</th><th>id_house</th><th>med_price</th><th>room_four</th><th>room_one</th><th>mean_area</th><th>room_zero</th><th>number_total</th><th>room_two</th><th>vc_city_quadkey</th><th>healthcare_cnt</th><th>flats_cnt</th><th>beauty_cnt</th><th>shopping_cnt</th><th>build_year_median</th><th>lng</th><th>lat</th></tr><tr><td>f64</td><td>i64</td><td>f64</td><td>str</td><td>i64</td><td>f64</td><td>i64</td><td>f64</td><td>f64</td><td>f64</td><td>f64</td><td>f64</td><td>i64</td><td>f64</td><td>i64</td><td>f64</td><td>f64</td><td>f64</td><td>f64</td><td>f64</td><td>f64</td><td>f64</td></tr></thead><tbody><tr><td>0.0</td><td>1</td><td>43500.0</td><td>&quot;2020-01-01&quot;</td><td>1</td><td>1.0</td><td>6123</td><td>42857.142188</td><td>0.0</td><td>0.0</td><td>67.2</td><td>0.0</td><td>3</td><td>0.0</td><td>9</td><td>0.0</td><td>1.0</td><td>0.0</td><td>0.0</td><td>1981.5</td><td>59.107842</td><td>79.032814</td></tr><tr><td>0.0</td><td>3</td><td>53760.726562</td><td>&quot;2020-01-01&quot;</td><td>1</td><td>0.0</td><td>4104</td><td>54460.228125</td><td>0.0</td><td>0.5</td><td>46.8</td><td>0.0</td><td>4</td><td>0.5</td><td>27</td><td>2.0</td><td>0.0</td><td>1.0</td><td>1.0</td><td>1981.0</td><td>59.371514</td><td>79.087761</td></tr><tr><td>0.0</td><td>4</td><td>50556.533203</td><td>&quot;2020-01-01&quot;</td><td>1</td><td>0.0</td><td>1627</td><td>48444.445312</td><td>0.0</td><td>0.75</td><td>44.4</td><td>0.0</td><td>4</td><td>0.25</td><td>26</td><td>3.0</td><td>0.0</td><td>0.0</td><td>0.0</td><td>2011.0</td><td>59.371514</td><td>79.08166</td></tr><tr><td>0.0</td><td>1</td><td>34845.735938</td><td>&quot;2020-01-01&quot;</td><td>1</td><td>1.0</td><td>151</td><td>34845.735938</td><td>0.0</td><td>0.0</td><td>66.119998</td><td>0.0</td><td>1</td><td>0.0</td><td>1</td><td>0.0</td><td>0.0</td><td>0.0</td><td>0.0</td><td>2013.0</td><td>58.492607</td><td>78.953307</td></tr><tr><td>0.0</td><td>2</td><td>62347.146875</td><td>&quot;2020-01-01&quot;</td><td>2</td><td>0.666667</td><td>6820</td><td>60115.603125</td><td>0.0</td><td>0.0</td><td>62.68</td><td>0.0</td><td>3</td><td>0.333333</td><td>20</td><td>1.0</td><td>0.0</td><td>2.0</td><td>0.0</td><td>1984.0</td><td>58.448662</td><td>78.873635</td></tr><tr><td>&hellip;</td><td>&hellip;</td><td>&hellip;</td><td>&hellip;</td><td>&hellip;</td><td>&hellip;</td><td>&hellip;</td><td>&hellip;</td><td>&hellip;</td><td>&hellip;</td><td>&hellip;</td><td>&hellip;</td><td>&hellip;</td><td>&hellip;</td><td>&hellip;</td><td>&hellip;</td><td>&hellip;</td><td>&hellip;</td><td>&hellip;</td><td>&hellip;</td><td>&hellip;</td><td>&hellip;</td></tr><tr><td>0.0</td><td>1</td><td>23333.334375</td><td>&quot;2022-05-01&quot;</td><td>1</td><td>0.0</td><td>5247</td><td>23333.334375</td><td>0.0</td><td>1.0</td><td>43.2</td><td>0.0</td><td>1</td><td>0.0</td><td>4</td><td>0.0</td><td>0.0</td><td>0.0</td><td>0.0</td><td>1954.0</td><td>62.359795</td><td>77.778694</td></tr><tr><td>0.0</td><td>21</td><td>25875.778668</td><td>&quot;2022-05-01&quot;</td><td>1</td><td>0.092593</td><td>3991</td><td>25732.323047</td><td>0.0</td><td>0.185185</td><td>54.955556</td><td>0.0</td><td>54</td><td>0.722222</td><td>41</td><td>0.0</td><td>0.0</td><td>0.0</td><td>1.0</td><td>1963.0</td><td>62.359795</td><td>77.772386</td></tr><tr><td>0.0</td><td>1</td><td>30000.0</td><td>&quot;2022-05-01&quot;</td><td>1</td><td>0.0</td><td>3430</td><td>30000.0</td><td>0.0</td><td>1.0</td><td>36.0</td><td>0.0</td><td>1</td><td>0.0</td><td>5</td><td>3.0</td><td>0.0</td><td>0.0</td><td>0.0</td><td>1957.0</td><td>62.370781</td><td>77.778694</td></tr><tr><td>0.0</td><td>7</td><td>25821.780762</td><td>&quot;2022-05-01&quot;</td><td>1</td><td>0.166667</td><td>6599</td><td>24000.0</td><td>0.0</td><td>0.083333</td><td>56.75</td><td>0.0</td><td>12</td><td>0.75</td><td>20</td><td>0.0</td><td>0.0</td><td>0.0</td><td>0.0</td><td>1965.0</td><td>62.370781</td><td>77.772386</td></tr><tr><td>0.0</td><td>9</td><td>22866.712054</td><td>&quot;2022-05-01&quot;</td><td>1</td><td>0.047619</td><td>5668</td><td>22500.0</td><td>0.0</td><td>0.047619</td><td>55.571429</td><td>0.0</td><td>21</td><td>0.904762</td><td>23</td><td>3.0</td><td>0.0</td><td>0.0</td><td>0.0</td><td>1972.0</td><td>62.61248</td><td>77.772386</td></tr></tbody></table></div>"
      ],
      "text/plain": [
       "shape: (150_307, 22)\n",
       "┌───────────┬───────────┬───────────┬───────────┬───┬───────────┬───────────┬───────────┬──────────┐\n",
       "│ apart_to_ ┆ num_build ┆ mean_pric ┆ date      ┆ … ┆ shopping_ ┆ build_yea ┆ lng       ┆ lat      │\n",
       "│ room      ┆ s_live    ┆ e         ┆ ---       ┆   ┆ cnt       ┆ r_median  ┆ ---       ┆ ---      │\n",
       "│ ---       ┆ ---       ┆ ---       ┆ str       ┆   ┆ ---       ┆ ---       ┆ f64       ┆ f64      │\n",
       "│ f64       ┆ i64       ┆ f64       ┆           ┆   ┆ f64       ┆ f64       ┆           ┆          │\n",
       "╞═══════════╪═══════════╪═══════════╪═══════════╪═══╪═══════════╪═══════════╪═══════════╪══════════╡\n",
       "│ 0.0       ┆ 1         ┆ 43500.0   ┆ 2020-01-0 ┆ … ┆ 0.0       ┆ 1981.5    ┆ 59.107842 ┆ 79.03281 │\n",
       "│           ┆           ┆           ┆ 1         ┆   ┆           ┆           ┆           ┆ 4        │\n",
       "│ 0.0       ┆ 3         ┆ 53760.726 ┆ 2020-01-0 ┆ … ┆ 1.0       ┆ 1981.0    ┆ 59.371514 ┆ 79.08776 │\n",
       "│           ┆           ┆ 562       ┆ 1         ┆   ┆           ┆           ┆           ┆ 1        │\n",
       "│ 0.0       ┆ 4         ┆ 50556.533 ┆ 2020-01-0 ┆ … ┆ 0.0       ┆ 2011.0    ┆ 59.371514 ┆ 79.08166 │\n",
       "│           ┆           ┆ 203       ┆ 1         ┆   ┆           ┆           ┆           ┆          │\n",
       "│ 0.0       ┆ 1         ┆ 34845.735 ┆ 2020-01-0 ┆ … ┆ 0.0       ┆ 2013.0    ┆ 58.492607 ┆ 78.95330 │\n",
       "│           ┆           ┆ 938       ┆ 1         ┆   ┆           ┆           ┆           ┆ 7        │\n",
       "│ 0.0       ┆ 2         ┆ 62347.146 ┆ 2020-01-0 ┆ … ┆ 0.0       ┆ 1984.0    ┆ 58.448662 ┆ 78.87363 │\n",
       "│           ┆           ┆ 875       ┆ 1         ┆   ┆           ┆           ┆           ┆ 5        │\n",
       "│ …         ┆ …         ┆ …         ┆ …         ┆ … ┆ …         ┆ …         ┆ …         ┆ …        │\n",
       "│ 0.0       ┆ 1         ┆ 23333.334 ┆ 2022-05-0 ┆ … ┆ 0.0       ┆ 1954.0    ┆ 62.359795 ┆ 77.77869 │\n",
       "│           ┆           ┆ 375       ┆ 1         ┆   ┆           ┆           ┆           ┆ 4        │\n",
       "│ 0.0       ┆ 21        ┆ 25875.778 ┆ 2022-05-0 ┆ … ┆ 1.0       ┆ 1963.0    ┆ 62.359795 ┆ 77.77238 │\n",
       "│           ┆           ┆ 668       ┆ 1         ┆   ┆           ┆           ┆           ┆ 6        │\n",
       "│ 0.0       ┆ 1         ┆ 30000.0   ┆ 2022-05-0 ┆ … ┆ 0.0       ┆ 1957.0    ┆ 62.370781 ┆ 77.77869 │\n",
       "│           ┆           ┆           ┆ 1         ┆   ┆           ┆           ┆           ┆ 4        │\n",
       "│ 0.0       ┆ 7         ┆ 25821.780 ┆ 2022-05-0 ┆ … ┆ 0.0       ┆ 1965.0    ┆ 62.370781 ┆ 77.77238 │\n",
       "│           ┆           ┆ 762       ┆ 1         ┆   ┆           ┆           ┆           ┆ 6        │\n",
       "│ 0.0       ┆ 9         ┆ 22866.712 ┆ 2022-05-0 ┆ … ┆ 0.0       ┆ 1972.0    ┆ 62.61248  ┆ 77.77238 │\n",
       "│           ┆           ┆ 054       ┆ 1         ┆   ┆           ┆           ┆           ┆ 6        │\n",
       "└───────────┴───────────┴───────────┴───────────┴───┴───────────┴───────────┴───────────┴──────────┘"
      ]
     },
     "execution_count": 4,
     "metadata": {},
     "output_type": "execute_result"
    }
   ],
   "source": [
    "train"
   ]
  },
  {
   "cell_type": "code",
   "execution_count": 5,
   "id": "056ffba5",
   "metadata": {
    "execution": {
     "iopub.execute_input": "2025-02-13T13:03:45.071717Z",
     "iopub.status.busy": "2025-02-13T13:03:45.071287Z",
     "iopub.status.idle": "2025-02-13T13:03:45.077996Z",
     "shell.execute_reply": "2025-02-13T13:03:45.076793Z"
    },
    "papermill": {
     "duration": 0.017624,
     "end_time": "2025-02-13T13:03:45.079618",
     "exception": false,
     "start_time": "2025-02-13T13:03:45.061994",
     "status": "completed"
    },
    "tags": []
   },
   "outputs": [
    {
     "data": {
      "text/html": [
       "<div><style>\n",
       ".dataframe > thead > tr,\n",
       ".dataframe > tbody > tr {\n",
       "  text-align: right;\n",
       "  white-space: pre-wrap;\n",
       "}\n",
       "</style>\n",
       "<small>shape: (15_597, 3)</small><table border=\"1\" class=\"dataframe\"><thead><tr><th>target</th><th>date</th><th>id_house</th></tr><tr><td>f64</td><td>str</td><td>i64</td></tr></thead><tbody><tr><td>0.0</td><td>&quot;2022-06-01&quot;</td><td>6123</td></tr><tr><td>0.0</td><td>&quot;2022-07-01&quot;</td><td>6123</td></tr><tr><td>0.0</td><td>&quot;2022-08-01&quot;</td><td>6123</td></tr><tr><td>0.0</td><td>&quot;2022-06-01&quot;</td><td>4104</td></tr><tr><td>0.0</td><td>&quot;2022-07-01&quot;</td><td>4104</td></tr><tr><td>&hellip;</td><td>&hellip;</td><td>&hellip;</td></tr><tr><td>0.0</td><td>&quot;2022-07-01&quot;</td><td>6599</td></tr><tr><td>0.0</td><td>&quot;2022-08-01&quot;</td><td>6599</td></tr><tr><td>0.0</td><td>&quot;2022-06-01&quot;</td><td>5668</td></tr><tr><td>0.0</td><td>&quot;2022-07-01&quot;</td><td>5668</td></tr><tr><td>0.0</td><td>&quot;2022-08-01&quot;</td><td>5668</td></tr></tbody></table></div>"
      ],
      "text/plain": [
       "shape: (15_597, 3)\n",
       "┌────────┬────────────┬──────────┐\n",
       "│ target ┆ date       ┆ id_house │\n",
       "│ ---    ┆ ---        ┆ ---      │\n",
       "│ f64    ┆ str        ┆ i64      │\n",
       "╞════════╪════════════╪══════════╡\n",
       "│ 0.0    ┆ 2022-06-01 ┆ 6123     │\n",
       "│ 0.0    ┆ 2022-07-01 ┆ 6123     │\n",
       "│ 0.0    ┆ 2022-08-01 ┆ 6123     │\n",
       "│ 0.0    ┆ 2022-06-01 ┆ 4104     │\n",
       "│ 0.0    ┆ 2022-07-01 ┆ 4104     │\n",
       "│ …      ┆ …          ┆ …        │\n",
       "│ 0.0    ┆ 2022-07-01 ┆ 6599     │\n",
       "│ 0.0    ┆ 2022-08-01 ┆ 6599     │\n",
       "│ 0.0    ┆ 2022-06-01 ┆ 5668     │\n",
       "│ 0.0    ┆ 2022-07-01 ┆ 5668     │\n",
       "│ 0.0    ┆ 2022-08-01 ┆ 5668     │\n",
       "└────────┴────────────┴──────────┘"
      ]
     },
     "execution_count": 5,
     "metadata": {},
     "output_type": "execute_result"
    }
   ],
   "source": [
    "sab"
   ]
  },
  {
   "cell_type": "markdown",
   "id": "c0f1012f",
   "metadata": {
    "papermill": {
     "duration": 0.008387,
     "end_time": "2025-02-13T13:03:45.097431",
     "exception": false,
     "start_time": "2025-02-13T13:03:45.089044",
     "status": "completed"
    },
    "tags": []
   },
   "source": [
    "### Для предсказания будущего буду использовать последние данные о домах"
   ]
  },
  {
   "cell_type": "code",
   "execution_count": 6,
   "id": "e033ff81",
   "metadata": {
    "execution": {
     "iopub.execute_input": "2025-02-13T13:03:45.116368Z",
     "iopub.status.busy": "2025-02-13T13:03:45.115955Z",
     "iopub.status.idle": "2025-02-13T13:03:45.145964Z",
     "shell.execute_reply": "2025-02-13T13:03:45.144970Z"
    },
    "papermill": {
     "duration": 0.04151,
     "end_time": "2025-02-13T13:03:45.147888",
     "exception": false,
     "start_time": "2025-02-13T13:03:45.106378",
     "status": "completed"
    },
    "tags": []
   },
   "outputs": [],
   "source": [
    "# Получение последней известной информации о каждом доме\n",
    "latest_info = train.sort(\"date\").group_by(\"id_house\").agg(pl.all().last())"
   ]
  },
  {
   "cell_type": "code",
   "execution_count": 7,
   "id": "efbf619a",
   "metadata": {
    "execution": {
     "iopub.execute_input": "2025-02-13T13:03:45.166900Z",
     "iopub.status.busy": "2025-02-13T13:03:45.166439Z",
     "iopub.status.idle": "2025-02-13T13:03:45.175715Z",
     "shell.execute_reply": "2025-02-13T13:03:45.174628Z"
    },
    "papermill": {
     "duration": 0.020666,
     "end_time": "2025-02-13T13:03:45.177347",
     "exception": false,
     "start_time": "2025-02-13T13:03:45.156681",
     "status": "completed"
    },
    "tags": []
   },
   "outputs": [
    {
     "data": {
      "text/html": [
       "<div><style>\n",
       ".dataframe > thead > tr,\n",
       ".dataframe > tbody > tr {\n",
       "  text-align: right;\n",
       "  white-space: pre-wrap;\n",
       "}\n",
       "</style>\n",
       "<small>shape: (7_032, 22)</small><table border=\"1\" class=\"dataframe\"><thead><tr><th>id_house</th><th>apart_to_room</th><th>num_builds_live</th><th>mean_price</th><th>date</th><th>num_builds_series_live</th><th>room_three</th><th>med_price</th><th>room_four</th><th>room_one</th><th>mean_area</th><th>room_zero</th><th>number_total</th><th>room_two</th><th>vc_city_quadkey</th><th>healthcare_cnt</th><th>flats_cnt</th><th>beauty_cnt</th><th>shopping_cnt</th><th>build_year_median</th><th>lng</th><th>lat</th></tr><tr><td>i64</td><td>f64</td><td>i64</td><td>f64</td><td>str</td><td>i64</td><td>f64</td><td>f64</td><td>f64</td><td>f64</td><td>f64</td><td>f64</td><td>i64</td><td>f64</td><td>i64</td><td>f64</td><td>f64</td><td>f64</td><td>f64</td><td>f64</td><td>f64</td><td>f64</td></tr></thead><tbody><tr><td>3192</td><td>0.0</td><td>3</td><td>60319.75</td><td>&quot;2022-05-01&quot;</td><td>1</td><td>0.25</td><td>57510.660937</td><td>0.0</td><td>0.166667</td><td>57.06</td><td>0.0</td><td>12</td><td>0.583333</td><td>3</td><td>2.0</td><td>50.0</td><td>0.0</td><td>0.0</td><td>1960.0</td><td>59.767021</td><td>78.836808</td></tr><tr><td>1659</td><td>0.0</td><td>1</td><td>47826.084375</td><td>&quot;2021-09-01&quot;</td><td>1</td><td>0.0</td><td>47826.084375</td><td>0.0</td><td>1.0</td><td>49.680002</td><td>0.0</td><td>1</td><td>0.0</td><td>6</td><td>2.0</td><td>0.0</td><td>1.0</td><td>3.0</td><td>1972.0</td><td>60.634941</td><td>78.756895</td></tr><tr><td>5949</td><td>0.0</td><td>6</td><td>87664.86529</td><td>&quot;2022-05-01&quot;</td><td>1</td><td>0.285714</td><td>86169.24375</td><td>0.0</td><td>0.071429</td><td>64.225714</td><td>0.0</td><td>14</td><td>0.642857</td><td>19</td><td>7.0</td><td>0.0</td><td>3.0</td><td>4.0</td><td>1967.5</td><td>59.810967</td><td>78.211592</td></tr><tr><td>3832</td><td>0.0</td><td>1</td><td>76442.310937</td><td>&quot;2021-07-01&quot;</td><td>1</td><td>0.0</td><td>76442.310937</td><td>0.0</td><td>0.0</td><td>49.919998</td><td>0.0</td><td>1</td><td>1.0</td><td>3</td><td>0.0</td><td>0.0</td><td>0.0</td><td>1.0</td><td>1972.0</td><td>59.3825</td><td>78.608929</td></tr><tr><td>5705</td><td>0.0</td><td>1</td><td>165714.28125</td><td>&quot;2021-05-01&quot;</td><td>1</td><td>0.0</td><td>165714.28125</td><td>0.0</td><td>1.0</td><td>25.2</td><td>1.0</td><td>1</td><td>0.0</td><td>2</td><td>1.0</td><td>0.0</td><td>0.0</td><td>3.0</td><td>2014.0</td><td>60.25042</td><td>78.261479</td></tr><tr><td>&hellip;</td><td>&hellip;</td><td>&hellip;</td><td>&hellip;</td><td>&hellip;</td><td>&hellip;</td><td>&hellip;</td><td>&hellip;</td><td>&hellip;</td><td>&hellip;</td><td>&hellip;</td><td>&hellip;</td><td>&hellip;</td><td>&hellip;</td><td>&hellip;</td><td>&hellip;</td><td>&hellip;</td><td>&hellip;</td><td>&hellip;</td><td>&hellip;</td><td>&hellip;</td><td>&hellip;</td></tr><tr><td>5356</td><td>0.0</td><td>16</td><td>107577.715248</td><td>&quot;2022-05-01&quot;</td><td>1</td><td>0.293103</td><td>109545.454687</td><td>0.025862</td><td>0.362069</td><td>68.728965</td><td>0.017241</td><td>116</td><td>0.318966</td><td>30</td><td>16.0</td><td>0.0</td><td>24.0</td><td>16.0</td><td>1998.0</td><td>59.558281</td><td>78.030222</td></tr><tr><td>6011</td><td>0.0</td><td>1</td><td>26470.589062</td><td>&quot;2020-01-01&quot;</td><td>1</td><td>1.0</td><td>26470.589062</td><td>0.0</td><td>0.0</td><td>81.6</td><td>0.0</td><td>1</td><td>0.0</td><td>2</td><td>0.0</td><td>1.0</td><td>0.0</td><td>0.0</td><td>2006.0</td><td>58.767266</td><td>78.689147</td></tr><tr><td>839</td><td>0.0</td><td>4</td><td>361848.614063</td><td>&quot;2022-05-01&quot;</td><td>3</td><td>0.0</td><td>295569.890625</td><td>0.0</td><td>0.5</td><td>52.23</td><td>0.25</td><td>4</td><td>0.5</td><td>7</td><td>1.0</td><td>0.0</td><td>0.0</td><td>1.0</td><td>1961.0</td><td>60.360283</td><td>78.410763</td></tr><tr><td>5704</td><td>0.0</td><td>7</td><td>161306.919886</td><td>&quot;2022-05-01&quot;</td><td>2</td><td>0.272727</td><td>165000.0</td><td>0.0</td><td>0.272727</td><td>80.432728</td><td>0.0</td><td>11</td><td>0.454545</td><td>49</td><td>0.0</td><td>0.0</td><td>2.0</td><td>1.0</td><td>2013.5</td><td>60.45916</td><td>78.167889</td></tr><tr><td>3144</td><td>0.0</td><td>19</td><td>104867.253125</td><td>&quot;2022-05-01&quot;</td><td>1</td><td>0.083333</td><td>102426.684375</td><td>0.055556</td><td>0.555556</td><td>46.662667</td><td>0.0</td><td>36</td><td>0.305556</td><td>94</td><td>7.0</td><td>0.0</td><td>5.0</td><td>6.0</td><td>1971.0</td><td>60.821709</td><td>78.267711</td></tr></tbody></table></div>"
      ],
      "text/plain": [
       "shape: (7_032, 22)\n",
       "┌──────────┬───────────┬───────────┬───────────┬───┬───────────┬───────────┬───────────┬───────────┐\n",
       "│ id_house ┆ apart_to_ ┆ num_build ┆ mean_pric ┆ … ┆ shopping_ ┆ build_yea ┆ lng       ┆ lat       │\n",
       "│ ---      ┆ room      ┆ s_live    ┆ e         ┆   ┆ cnt       ┆ r_median  ┆ ---       ┆ ---       │\n",
       "│ i64      ┆ ---       ┆ ---       ┆ ---       ┆   ┆ ---       ┆ ---       ┆ f64       ┆ f64       │\n",
       "│          ┆ f64       ┆ i64       ┆ f64       ┆   ┆ f64       ┆ f64       ┆           ┆           │\n",
       "╞══════════╪═══════════╪═══════════╪═══════════╪═══╪═══════════╪═══════════╪═══════════╪═══════════╡\n",
       "│ 3192     ┆ 0.0       ┆ 3         ┆ 60319.75  ┆ … ┆ 0.0       ┆ 1960.0    ┆ 59.767021 ┆ 78.836808 │\n",
       "│ 1659     ┆ 0.0       ┆ 1         ┆ 47826.084 ┆ … ┆ 3.0       ┆ 1972.0    ┆ 60.634941 ┆ 78.756895 │\n",
       "│          ┆           ┆           ┆ 375       ┆   ┆           ┆           ┆           ┆           │\n",
       "│ 5949     ┆ 0.0       ┆ 6         ┆ 87664.865 ┆ … ┆ 4.0       ┆ 1967.5    ┆ 59.810967 ┆ 78.211592 │\n",
       "│          ┆           ┆           ┆ 29        ┆   ┆           ┆           ┆           ┆           │\n",
       "│ 3832     ┆ 0.0       ┆ 1         ┆ 76442.310 ┆ … ┆ 1.0       ┆ 1972.0    ┆ 59.3825   ┆ 78.608929 │\n",
       "│          ┆           ┆           ┆ 937       ┆   ┆           ┆           ┆           ┆           │\n",
       "│ 5705     ┆ 0.0       ┆ 1         ┆ 165714.28 ┆ … ┆ 3.0       ┆ 2014.0    ┆ 60.25042  ┆ 78.261479 │\n",
       "│          ┆           ┆           ┆ 125       ┆   ┆           ┆           ┆           ┆           │\n",
       "│ …        ┆ …         ┆ …         ┆ …         ┆ … ┆ …         ┆ …         ┆ …         ┆ …         │\n",
       "│ 5356     ┆ 0.0       ┆ 16        ┆ 107577.71 ┆ … ┆ 16.0      ┆ 1998.0    ┆ 59.558281 ┆ 78.030222 │\n",
       "│          ┆           ┆           ┆ 5248      ┆   ┆           ┆           ┆           ┆           │\n",
       "│ 6011     ┆ 0.0       ┆ 1         ┆ 26470.589 ┆ … ┆ 0.0       ┆ 2006.0    ┆ 58.767266 ┆ 78.689147 │\n",
       "│          ┆           ┆           ┆ 062       ┆   ┆           ┆           ┆           ┆           │\n",
       "│ 839      ┆ 0.0       ┆ 4         ┆ 361848.61 ┆ … ┆ 1.0       ┆ 1961.0    ┆ 60.360283 ┆ 78.410763 │\n",
       "│          ┆           ┆           ┆ 4063      ┆   ┆           ┆           ┆           ┆           │\n",
       "│ 5704     ┆ 0.0       ┆ 7         ┆ 161306.91 ┆ … ┆ 1.0       ┆ 2013.5    ┆ 60.45916  ┆ 78.167889 │\n",
       "│          ┆           ┆           ┆ 9886      ┆   ┆           ┆           ┆           ┆           │\n",
       "│ 3144     ┆ 0.0       ┆ 19        ┆ 104867.25 ┆ … ┆ 6.0       ┆ 1971.0    ┆ 60.821709 ┆ 78.267711 │\n",
       "│          ┆           ┆           ┆ 3125      ┆   ┆           ┆           ┆           ┆           │\n",
       "└──────────┴───────────┴───────────┴───────────┴───┴───────────┴───────────┴───────────┴───────────┘"
      ]
     },
     "execution_count": 7,
     "metadata": {},
     "output_type": "execute_result"
    }
   ],
   "source": [
    "latest_info"
   ]
  },
  {
   "cell_type": "markdown",
   "id": "e8bf7c58",
   "metadata": {
    "papermill": {
     "duration": 0.008739,
     "end_time": "2025-02-13T13:03:45.195226",
     "exception": false,
     "start_time": "2025-02-13T13:03:45.186487",
     "status": "completed"
    },
    "tags": []
   },
   "source": [
    "### Второй принцип предсказание - предсказание разниц между ценами на ближайших промежутках времени"
   ]
  },
  {
   "cell_type": "code",
   "execution_count": 8,
   "id": "433d17c0",
   "metadata": {
    "execution": {
     "iopub.execute_input": "2025-02-13T13:03:45.214393Z",
     "iopub.status.busy": "2025-02-13T13:03:45.214048Z",
     "iopub.status.idle": "2025-02-13T13:03:45.327444Z",
     "shell.execute_reply": "2025-02-13T13:03:45.326675Z"
    },
    "papermill": {
     "duration": 0.12513,
     "end_time": "2025-02-13T13:03:45.329418",
     "exception": false,
     "start_time": "2025-02-13T13:03:45.204288",
     "status": "completed"
    },
    "tags": []
   },
   "outputs": [],
   "source": [
    "df = train.sort([\"id_house\", \"date\"])\n",
    "\n",
    "# Вычисление разницы цен (target)\n",
    "df = df.with_columns([\n",
    "    (pl.col(\"mean_price\").shift(-1).over(\"id_house\") - pl.col(\"mean_price\")).alias(\"price_diff\"),\n",
    "    pl.col(\"date\").shift(-1).over(\"id_house\").alias(\"next_date\")\n",
    "])\n",
    "\n",
    "df = df.drop_nulls([\"price_diff\", \"next_date\"])"
   ]
  },
  {
   "cell_type": "code",
   "execution_count": 9,
   "id": "99dc92b1",
   "metadata": {
    "execution": {
     "iopub.execute_input": "2025-02-13T13:03:45.348708Z",
     "iopub.status.busy": "2025-02-13T13:03:45.348213Z",
     "iopub.status.idle": "2025-02-13T13:03:45.363666Z",
     "shell.execute_reply": "2025-02-13T13:03:45.362616Z"
    },
    "papermill": {
     "duration": 0.026821,
     "end_time": "2025-02-13T13:03:45.365351",
     "exception": false,
     "start_time": "2025-02-13T13:03:45.338530",
     "status": "completed"
    },
    "tags": []
   },
   "outputs": [
    {
     "data": {
      "text/html": [
       "<div><style>\n",
       ".dataframe > thead > tr,\n",
       ".dataframe > tbody > tr {\n",
       "  text-align: right;\n",
       "  white-space: pre-wrap;\n",
       "}\n",
       "</style>\n",
       "<small>shape: (13, 24)</small><table border=\"1\" class=\"dataframe\"><thead><tr><th>apart_to_room</th><th>num_builds_live</th><th>mean_price</th><th>date</th><th>num_builds_series_live</th><th>room_three</th><th>id_house</th><th>med_price</th><th>room_four</th><th>room_one</th><th>mean_area</th><th>room_zero</th><th>number_total</th><th>room_two</th><th>vc_city_quadkey</th><th>healthcare_cnt</th><th>flats_cnt</th><th>beauty_cnt</th><th>shopping_cnt</th><th>build_year_median</th><th>lng</th><th>lat</th><th>price_diff</th><th>next_date</th></tr><tr><td>f64</td><td>i64</td><td>f64</td><td>str</td><td>i64</td><td>f64</td><td>i64</td><td>f64</td><td>f64</td><td>f64</td><td>f64</td><td>f64</td><td>i64</td><td>f64</td><td>i64</td><td>f64</td><td>f64</td><td>f64</td><td>f64</td><td>f64</td><td>f64</td><td>f64</td><td>f64</td><td>str</td></tr></thead><tbody><tr><td>0.0</td><td>1</td><td>86956.51875</td><td>&quot;2020-10-01&quot;</td><td>1</td><td>0.0</td><td>12</td><td>86956.51875</td><td>0.0</td><td>1.0</td><td>41.4</td><td>0.0</td><td>1</td><td>0.0</td><td>6</td><td>0.0</td><td>0.0</td><td>4.0</td><td>2.0</td><td>1989.0</td><td>60.865654</td><td>78.205352</td><td>0.0</td><td>&quot;2020-11-01&quot;</td></tr><tr><td>0.0</td><td>1</td><td>86956.51875</td><td>&quot;2020-11-01&quot;</td><td>1</td><td>0.0</td><td>12</td><td>86956.51875</td><td>0.0</td><td>1.0</td><td>41.4</td><td>0.0</td><td>1</td><td>0.0</td><td>6</td><td>0.0</td><td>0.0</td><td>4.0</td><td>2.0</td><td>1989.0</td><td>60.865654</td><td>78.205352</td><td>0.0</td><td>&quot;2020-12-01&quot;</td></tr><tr><td>0.0</td><td>1</td><td>86956.51875</td><td>&quot;2020-12-01&quot;</td><td>1</td><td>0.0</td><td>12</td><td>86956.51875</td><td>0.0</td><td>1.0</td><td>41.4</td><td>0.0</td><td>1</td><td>0.0</td><td>6</td><td>0.0</td><td>0.0</td><td>4.0</td><td>2.0</td><td>1989.0</td><td>60.865654</td><td>78.205352</td><td>0.0</td><td>&quot;2021-01-01&quot;</td></tr><tr><td>0.0</td><td>1</td><td>86956.51875</td><td>&quot;2021-01-01&quot;</td><td>1</td><td>0.0</td><td>12</td><td>86956.51875</td><td>0.0</td><td>1.0</td><td>41.4</td><td>0.0</td><td>1</td><td>0.0</td><td>6</td><td>0.0</td><td>0.0</td><td>4.0</td><td>2.0</td><td>1989.0</td><td>60.865654</td><td>78.205352</td><td>1989.792187</td><td>&quot;2021-02-01&quot;</td></tr><tr><td>0.0</td><td>2</td><td>88946.310937</td><td>&quot;2021-02-01&quot;</td><td>1</td><td>0.5</td><td>12</td><td>88946.310937</td><td>0.0</td><td>0.5</td><td>61.080002</td><td>0.0</td><td>2</td><td>0.0</td><td>6</td><td>0.0</td><td>0.0</td><td>4.0</td><td>2.0</td><td>1989.0</td><td>60.865654</td><td>78.205352</td><td>0.0</td><td>&quot;2021-03-01&quot;</td></tr><tr><td>&hellip;</td><td>&hellip;</td><td>&hellip;</td><td>&hellip;</td><td>&hellip;</td><td>&hellip;</td><td>&hellip;</td><td>&hellip;</td><td>&hellip;</td><td>&hellip;</td><td>&hellip;</td><td>&hellip;</td><td>&hellip;</td><td>&hellip;</td><td>&hellip;</td><td>&hellip;</td><td>&hellip;</td><td>&hellip;</td><td>&hellip;</td><td>&hellip;</td><td>&hellip;</td><td>&hellip;</td><td>&hellip;</td><td>&hellip;</td></tr><tr><td>0.0</td><td>1</td><td>95487.014062</td><td>&quot;2021-10-01&quot;</td><td>1</td><td>0.0</td><td>12</td><td>95487.014062</td><td>0.0</td><td>1.0</td><td>39.959999</td><td>0.0</td><td>2</td><td>0.0</td><td>6</td><td>0.0</td><td>0.0</td><td>4.0</td><td>2.0</td><td>1989.0</td><td>60.865654</td><td>78.205352</td><td>0.0</td><td>&quot;2021-11-01&quot;</td></tr><tr><td>0.0</td><td>1</td><td>95487.014062</td><td>&quot;2021-11-01&quot;</td><td>1</td><td>0.0</td><td>12</td><td>95487.014062</td><td>0.0</td><td>1.0</td><td>39.959999</td><td>0.0</td><td>2</td><td>0.0</td><td>6</td><td>0.0</td><td>0.0</td><td>4.0</td><td>2.0</td><td>1989.0</td><td>60.865654</td><td>78.205352</td><td>0.0</td><td>&quot;2021-12-01&quot;</td></tr><tr><td>0.0</td><td>1</td><td>95487.014062</td><td>&quot;2021-12-01&quot;</td><td>1</td><td>0.0</td><td>12</td><td>95487.014062</td><td>0.0</td><td>1.0</td><td>39.959999</td><td>0.0</td><td>2</td><td>0.0</td><td>6</td><td>0.0</td><td>0.0</td><td>4.0</td><td>2.0</td><td>1989.0</td><td>60.865654</td><td>78.205352</td><td>-941.564062</td><td>&quot;2022-01-01&quot;</td></tr><tr><td>0.0</td><td>1</td><td>94545.45</td><td>&quot;2022-01-01&quot;</td><td>1</td><td>0.0</td><td>12</td><td>94545.45</td><td>0.0</td><td>1.0</td><td>39.6</td><td>0.0</td><td>1</td><td>0.0</td><td>6</td><td>0.0</td><td>0.0</td><td>4.0</td><td>2.0</td><td>1989.0</td><td>60.865654</td><td>78.205352</td><td>0.0</td><td>&quot;2022-02-01&quot;</td></tr><tr><td>0.0</td><td>1</td><td>94545.45</td><td>&quot;2022-02-01&quot;</td><td>1</td><td>0.0</td><td>12</td><td>94545.45</td><td>0.0</td><td>1.0</td><td>39.6</td><td>0.0</td><td>1</td><td>0.0</td><td>6</td><td>0.0</td><td>0.0</td><td>4.0</td><td>2.0</td><td>1989.0</td><td>60.865654</td><td>78.205352</td><td>-13368.975</td><td>&quot;2022-03-01&quot;</td></tr></tbody></table></div>"
      ],
      "text/plain": [
       "shape: (13, 24)\n",
       "┌───────────┬───────────┬───────────┬───────────┬───┬───────────┬───────────┬───────────┬──────────┐\n",
       "│ apart_to_ ┆ num_build ┆ mean_pric ┆ date      ┆ … ┆ lng       ┆ lat       ┆ price_dif ┆ next_dat │\n",
       "│ room      ┆ s_live    ┆ e         ┆ ---       ┆   ┆ ---       ┆ ---       ┆ f         ┆ e        │\n",
       "│ ---       ┆ ---       ┆ ---       ┆ str       ┆   ┆ f64       ┆ f64       ┆ ---       ┆ ---      │\n",
       "│ f64       ┆ i64       ┆ f64       ┆           ┆   ┆           ┆           ┆ f64       ┆ str      │\n",
       "╞═══════════╪═══════════╪═══════════╪═══════════╪═══╪═══════════╪═══════════╪═══════════╪══════════╡\n",
       "│ 0.0       ┆ 1         ┆ 86956.518 ┆ 2020-10-0 ┆ … ┆ 60.865654 ┆ 78.205352 ┆ 0.0       ┆ 2020-11- │\n",
       "│           ┆           ┆ 75        ┆ 1         ┆   ┆           ┆           ┆           ┆ 01       │\n",
       "│ 0.0       ┆ 1         ┆ 86956.518 ┆ 2020-11-0 ┆ … ┆ 60.865654 ┆ 78.205352 ┆ 0.0       ┆ 2020-12- │\n",
       "│           ┆           ┆ 75        ┆ 1         ┆   ┆           ┆           ┆           ┆ 01       │\n",
       "│ 0.0       ┆ 1         ┆ 86956.518 ┆ 2020-12-0 ┆ … ┆ 60.865654 ┆ 78.205352 ┆ 0.0       ┆ 2021-01- │\n",
       "│           ┆           ┆ 75        ┆ 1         ┆   ┆           ┆           ┆           ┆ 01       │\n",
       "│ 0.0       ┆ 1         ┆ 86956.518 ┆ 2021-01-0 ┆ … ┆ 60.865654 ┆ 78.205352 ┆ 1989.7921 ┆ 2021-02- │\n",
       "│           ┆           ┆ 75        ┆ 1         ┆   ┆           ┆           ┆ 87        ┆ 01       │\n",
       "│ 0.0       ┆ 2         ┆ 88946.310 ┆ 2021-02-0 ┆ … ┆ 60.865654 ┆ 78.205352 ┆ 0.0       ┆ 2021-03- │\n",
       "│           ┆           ┆ 937       ┆ 1         ┆   ┆           ┆           ┆           ┆ 01       │\n",
       "│ …         ┆ …         ┆ …         ┆ …         ┆ … ┆ …         ┆ …         ┆ …         ┆ …        │\n",
       "│ 0.0       ┆ 1         ┆ 95487.014 ┆ 2021-10-0 ┆ … ┆ 60.865654 ┆ 78.205352 ┆ 0.0       ┆ 2021-11- │\n",
       "│           ┆           ┆ 062       ┆ 1         ┆   ┆           ┆           ┆           ┆ 01       │\n",
       "│ 0.0       ┆ 1         ┆ 95487.014 ┆ 2021-11-0 ┆ … ┆ 60.865654 ┆ 78.205352 ┆ 0.0       ┆ 2021-12- │\n",
       "│           ┆           ┆ 062       ┆ 1         ┆   ┆           ┆           ┆           ┆ 01       │\n",
       "│ 0.0       ┆ 1         ┆ 95487.014 ┆ 2021-12-0 ┆ … ┆ 60.865654 ┆ 78.205352 ┆ -941.5640 ┆ 2022-01- │\n",
       "│           ┆           ┆ 062       ┆ 1         ┆   ┆           ┆           ┆ 62        ┆ 01       │\n",
       "│ 0.0       ┆ 1         ┆ 94545.45  ┆ 2022-01-0 ┆ … ┆ 60.865654 ┆ 78.205352 ┆ 0.0       ┆ 2022-02- │\n",
       "│           ┆           ┆           ┆ 1         ┆   ┆           ┆           ┆           ┆ 01       │\n",
       "│ 0.0       ┆ 1         ┆ 94545.45  ┆ 2022-02-0 ┆ … ┆ 60.865654 ┆ 78.205352 ┆ -13368.97 ┆ 2022-03- │\n",
       "│           ┆           ┆           ┆ 1         ┆   ┆           ┆           ┆ 5         ┆ 01       │\n",
       "└───────────┴───────────┴───────────┴───────────┴───┴───────────┴───────────┴───────────┴──────────┘"
      ]
     },
     "execution_count": 9,
     "metadata": {},
     "output_type": "execute_result"
    }
   ],
   "source": [
    "df.filter(df['id_house'] == 12)"
   ]
  },
  {
   "cell_type": "markdown",
   "id": "e2375d7e",
   "metadata": {
    "papermill": {
     "duration": 0.00897,
     "end_time": "2025-02-13T13:03:45.383923",
     "exception": false,
     "start_time": "2025-02-13T13:03:45.374953",
     "status": "completed"
    },
    "tags": []
   },
   "source": [
    "### Добавляем все колонки"
   ]
  },
  {
   "cell_type": "code",
   "execution_count": 10,
   "id": "f9ff1d3f",
   "metadata": {
    "execution": {
     "iopub.execute_input": "2025-02-13T13:03:45.403906Z",
     "iopub.status.busy": "2025-02-13T13:03:45.403426Z",
     "iopub.status.idle": "2025-02-13T13:03:45.509651Z",
     "shell.execute_reply": "2025-02-13T13:03:45.508730Z"
    },
    "papermill": {
     "duration": 0.117941,
     "end_time": "2025-02-13T13:03:45.511404",
     "exception": false,
     "start_time": "2025-02-13T13:03:45.393463",
     "status": "completed"
    },
    "tags": []
   },
   "outputs": [],
   "source": [
    "new_train = df.rename({'price_diff': 'target'}).sort('date').drop(['med_price'])\n",
    "new_train = create_many_time_geo_features(create_date_features(new_train), 'lat', 'lng').fill_null(0)"
   ]
  },
  {
   "cell_type": "code",
   "execution_count": 11,
   "id": "2aa1bc3c",
   "metadata": {
    "execution": {
     "iopub.execute_input": "2025-02-13T13:03:45.530724Z",
     "iopub.status.busy": "2025-02-13T13:03:45.530320Z",
     "iopub.status.idle": "2025-02-13T13:03:45.540987Z",
     "shell.execute_reply": "2025-02-13T13:03:45.540018Z"
    },
    "papermill": {
     "duration": 0.02186,
     "end_time": "2025-02-13T13:03:45.542408",
     "exception": false,
     "start_time": "2025-02-13T13:03:45.520548",
     "status": "completed"
    },
    "tags": []
   },
   "outputs": [
    {
     "data": {
      "text/html": [
       "<div><style>\n",
       ".dataframe > thead > tr,\n",
       ".dataframe > tbody > tr {\n",
       "  text-align: right;\n",
       "  white-space: pre-wrap;\n",
       "}\n",
       "</style>\n",
       "<small>shape: (143_275, 36)</small><table border=\"1\" class=\"dataframe\"><thead><tr><th>apart_to_room</th><th>num_builds_live</th><th>mean_price</th><th>datetime</th><th>num_builds_series_live</th><th>room_three</th><th>id_house</th><th>room_four</th><th>room_one</th><th>mean_area</th><th>room_zero</th><th>number_total</th><th>room_two</th><th>vc_city_quadkey</th><th>healthcare_cnt</th><th>flats_cnt</th><th>beauty_cnt</th><th>shopping_cnt</th><th>build_year_median</th><th>lng</th><th>lat</th><th>target</th><th>next_datetime</th><th>date_diff_days</th><th>year</th><th>month</th><th>next_year</th><th>next_month</th><th>month_sin</th><th>month_cos</th><th>next_month_sin</th><th>next_month_cos</th><th>lat_cos</th><th>lat_sin</th><th>lon_cos</th><th>lon_sin</th></tr><tr><td>f64</td><td>i64</td><td>f64</td><td>date</td><td>i64</td><td>f64</td><td>i64</td><td>f64</td><td>f64</td><td>f64</td><td>f64</td><td>i64</td><td>f64</td><td>i64</td><td>f64</td><td>f64</td><td>f64</td><td>f64</td><td>f64</td><td>f64</td><td>f64</td><td>f64</td><td>date</td><td>duration[ms]</td><td>i32</td><td>i8</td><td>i32</td><td>i8</td><td>f64</td><td>f64</td><td>f64</td><td>f64</td><td>f64</td><td>f64</td><td>f64</td><td>f64</td></tr></thead><tbody><tr><td>0.0</td><td>8</td><td>113026.606534</td><td>2020-01-01</td><td>2</td><td>0.272727</td><td>1</td><td>0.181818</td><td>0.272727</td><td>83.76</td><td>0.0</td><td>11</td><td>0.272727</td><td>17</td><td>0.0</td><td>11.0</td><td>0.0</td><td>1.0</td><td>2013.0</td><td>60.118584</td><td>78.142894</td><td>-4499.154034</td><td>2020-02-01</td><td>31d</td><td>2020</td><td>1</td><td>2020</td><td>2</td><td>0.5</td><td>0.866025</td><td>0.866025</td><td>0.5</td><td>0.205472</td><td>0.978663</td><td>0.498207</td><td>0.867058</td></tr><tr><td>0.0</td><td>3</td><td>43859.692188</td><td>2020-01-01</td><td>1</td><td>0.0</td><td>2</td><td>0.0</td><td>0.666667</td><td>42.4</td><td>0.0</td><td>3</td><td>0.333333</td><td>17</td><td>0.0</td><td>0.0</td><td>0.0</td><td>0.0</td><td>1959.0</td><td>61.854424</td><td>78.03649</td><td>0.0</td><td>2020-02-01</td><td>31d</td><td>2020</td><td>1</td><td>2020</td><td>2</td><td>0.5</td><td>0.866025</td><td>0.866025</td><td>0.5</td><td>0.207289</td><td>0.97828</td><td>0.471713</td><td>0.881752</td></tr><tr><td>0.0</td><td>5</td><td>168524.488125</td><td>2020-01-01</td><td>5</td><td>0.2</td><td>3</td><td>0.0</td><td>0.6</td><td>52.624</td><td>0.0</td><td>15</td><td>0.2</td><td>11</td><td>108.0</td><td>95.0</td><td>1.0</td><td>0.0</td><td>1973.0</td><td>60.645928</td><td>78.373495</td><td>-1531.164167</td><td>2020-02-01</td><td>31d</td><td>2020</td><td>1</td><td>2020</td><td>2</td><td>0.5</td><td>0.866025</td><td>0.866025</td><td>0.5</td><td>0.201531</td><td>0.979482</td><td>0.490205</td><td>0.871607</td></tr><tr><td>0.0</td><td>1</td><td>60732.984375</td><td>2020-01-01</td><td>1</td><td>1.0</td><td>4</td><td>0.0</td><td>0.0</td><td>68.759999</td><td>0.0</td><td>1</td><td>0.0</td><td>1</td><td>0.0</td><td>0.0</td><td>0.0</td><td>0.0</td><td>0.0</td><td>59.459404</td><td>78.236544</td><td>0.0</td><td>2020-02-01</td><td>31d</td><td>2020</td><td>1</td><td>2020</td><td>2</td><td>0.5</td><td>0.866025</td><td>0.866025</td><td>0.5</td><td>0.203872</td><td>0.978998</td><td>0.508149</td><td>0.861269</td></tr><tr><td>0.0</td><td>5</td><td>109145.205469</td><td>2020-01-01</td><td>1</td><td>0.0</td><td>5</td><td>0.0</td><td>0.166667</td><td>52.1</td><td>0.0</td><td>12</td><td>0.833333</td><td>13</td><td>1.0</td><td>0.0</td><td>0.0</td><td>5.0</td><td>1960.5</td><td>60.590996</td><td>78.571849</td><td>262.860156</td><td>2020-02-01</td><td>31d</td><td>2020</td><td>1</td><td>2020</td><td>2</td><td>0.5</td><td>0.866025</td><td>0.866025</td><td>0.5</td><td>0.198139</td><td>0.980174</td><td>0.491041</td><td>0.871137</td></tr><tr><td>&hellip;</td><td>&hellip;</td><td>&hellip;</td><td>&hellip;</td><td>&hellip;</td><td>&hellip;</td><td>&hellip;</td><td>&hellip;</td><td>&hellip;</td><td>&hellip;</td><td>&hellip;</td><td>&hellip;</td><td>&hellip;</td><td>&hellip;</td><td>&hellip;</td><td>&hellip;</td><td>&hellip;</td><td>&hellip;</td><td>&hellip;</td><td>&hellip;</td><td>&hellip;</td><td>&hellip;</td><td>&hellip;</td><td>&hellip;</td><td>&hellip;</td><td>&hellip;</td><td>&hellip;</td><td>&hellip;</td><td>&hellip;</td><td>&hellip;</td><td>&hellip;</td><td>&hellip;</td><td>&hellip;</td><td>&hellip;</td><td>&hellip;</td><td>&hellip;</td></tr><tr><td>0.0</td><td>5</td><td>39952.650879</td><td>2022-04-01</td><td>1</td><td>0.0</td><td>7091</td><td>0.0</td><td>0.125</td><td>46.8</td><td>0.0</td><td>8</td><td>0.875</td><td>15</td><td>4.0</td><td>0.0</td><td>2.0</td><td>15.0</td><td>1959.0</td><td>58.997979</td><td>77.986319</td><td>0.0</td><td>2022-05-01</td><td>30d</td><td>2022</td><td>4</td><td>2022</td><td>5</td><td>0.866025</td><td>-0.5</td><td>0.5</td><td>-0.866025</td><td>0.208145</td><td>0.978098</td><td>0.515068</td><td>0.857149</td></tr><tr><td>0.0</td><td>2</td><td>61343.623828</td><td>2022-04-01</td><td>1</td><td>0.25</td><td>7092</td><td>0.0</td><td>0.5</td><td>57.33</td><td>0.0</td><td>4</td><td>0.25</td><td>8</td><td>0.0</td><td>9.0</td><td>0.0</td><td>0.0</td><td>1978.0</td><td>60.338311</td><td>79.075557</td><td>-2668.724766</td><td>2022-05-01</td><td>30d</td><td>2022</td><td>4</td><td>2022</td><td>5</td><td>0.866025</td><td>-0.5</td><td>0.5</td><td>-0.866025</td><td>0.189514</td><td>0.981878</td><td>0.494878</td><td>0.868963</td></tr><tr><td>0.0</td><td>10</td><td>170176.188715</td><td>2022-04-01</td><td>6</td><td>0.111111</td><td>7093</td><td>0.0</td><td>0.666667</td><td>47.879111</td><td>0.203704</td><td>54</td><td>0.148148</td><td>22</td><td>4.0</td><td>0.0</td><td>8.0</td><td>16.0</td><td>1994.0</td><td>59.964775</td><td>78.615105</td><td>-5748.605241</td><td>2022-05-01</td><td>30d</td><td>2022</td><td>4</td><td>2022</td><td>5</td><td>0.866025</td><td>-0.5</td><td>0.5</td><td>-0.866025</td><td>0.197399</td><td>0.980323</td><td>0.500532</td><td>0.865718</td></tr><tr><td>0.0</td><td>4</td><td>101027.404687</td><td>2022-04-01</td><td>1</td><td>0.111111</td><td>7094</td><td>0.055556</td><td>0.277778</td><td>78.313333</td><td>0.0</td><td>18</td><td>0.555556</td><td>12</td><td>3.0</td><td>1.0</td><td>3.0</td><td>4.0</td><td>2013.0</td><td>61.030449</td><td>78.211592</td><td>823.31057</td><td>2022-05-01</td><td>30d</td><td>2022</td><td>4</td><td>2022</td><td>5</td><td>0.866025</td><td>-0.5</td><td>0.5</td><td>-0.866025</td><td>0.204298</td><td>0.978909</td><td>0.484345</td><td>0.874877</td></tr><tr><td>0.0</td><td>7</td><td>123052.430729</td><td>2022-04-01</td><td>2</td><td>0.0</td><td>7095</td><td>0.0</td><td>0.777778</td><td>53.933333</td><td>0.111111</td><td>18</td><td>0.222222</td><td>16</td><td>1.0</td><td>0.0</td><td>4.0</td><td>2.0</td><td>2014.0</td><td>59.865898</td><td>78.242779</td><td>501.963542</td><td>2022-05-01</td><td>30d</td><td>2022</td><td>4</td><td>2022</td><td>5</td><td>0.866025</td><td>-0.5</td><td>0.5</td><td>-0.866025</td><td>0.203765</td><td>0.97902</td><td>0.502026</td><td>0.864853</td></tr></tbody></table></div>"
      ],
      "text/plain": [
       "shape: (143_275, 36)\n",
       "┌────────────┬────────────┬────────────┬───────────┬───┬──────────┬──────────┬──────────┬──────────┐\n",
       "│ apart_to_r ┆ num_builds ┆ mean_price ┆ datetime  ┆ … ┆ lat_cos  ┆ lat_sin  ┆ lon_cos  ┆ lon_sin  │\n",
       "│ oom        ┆ _live      ┆ ---        ┆ ---       ┆   ┆ ---      ┆ ---      ┆ ---      ┆ ---      │\n",
       "│ ---        ┆ ---        ┆ f64        ┆ date      ┆   ┆ f64      ┆ f64      ┆ f64      ┆ f64      │\n",
       "│ f64        ┆ i64        ┆            ┆           ┆   ┆          ┆          ┆          ┆          │\n",
       "╞════════════╪════════════╪════════════╪═══════════╪═══╪══════════╪══════════╪══════════╪══════════╡\n",
       "│ 0.0        ┆ 8          ┆ 113026.606 ┆ 2020-01-0 ┆ … ┆ 0.205472 ┆ 0.978663 ┆ 0.498207 ┆ 0.867058 │\n",
       "│            ┆            ┆ 534        ┆ 1         ┆   ┆          ┆          ┆          ┆          │\n",
       "│ 0.0        ┆ 3          ┆ 43859.6921 ┆ 2020-01-0 ┆ … ┆ 0.207289 ┆ 0.97828  ┆ 0.471713 ┆ 0.881752 │\n",
       "│            ┆            ┆ 88         ┆ 1         ┆   ┆          ┆          ┆          ┆          │\n",
       "│ 0.0        ┆ 5          ┆ 168524.488 ┆ 2020-01-0 ┆ … ┆ 0.201531 ┆ 0.979482 ┆ 0.490205 ┆ 0.871607 │\n",
       "│            ┆            ┆ 125        ┆ 1         ┆   ┆          ┆          ┆          ┆          │\n",
       "│ 0.0        ┆ 1          ┆ 60732.9843 ┆ 2020-01-0 ┆ … ┆ 0.203872 ┆ 0.978998 ┆ 0.508149 ┆ 0.861269 │\n",
       "│            ┆            ┆ 75         ┆ 1         ┆   ┆          ┆          ┆          ┆          │\n",
       "│ 0.0        ┆ 5          ┆ 109145.205 ┆ 2020-01-0 ┆ … ┆ 0.198139 ┆ 0.980174 ┆ 0.491041 ┆ 0.871137 │\n",
       "│            ┆            ┆ 469        ┆ 1         ┆   ┆          ┆          ┆          ┆          │\n",
       "│ …          ┆ …          ┆ …          ┆ …         ┆ … ┆ …        ┆ …        ┆ …        ┆ …        │\n",
       "│ 0.0        ┆ 5          ┆ 39952.6508 ┆ 2022-04-0 ┆ … ┆ 0.208145 ┆ 0.978098 ┆ 0.515068 ┆ 0.857149 │\n",
       "│            ┆            ┆ 79         ┆ 1         ┆   ┆          ┆          ┆          ┆          │\n",
       "│ 0.0        ┆ 2          ┆ 61343.6238 ┆ 2022-04-0 ┆ … ┆ 0.189514 ┆ 0.981878 ┆ 0.494878 ┆ 0.868963 │\n",
       "│            ┆            ┆ 28         ┆ 1         ┆   ┆          ┆          ┆          ┆          │\n",
       "│ 0.0        ┆ 10         ┆ 170176.188 ┆ 2022-04-0 ┆ … ┆ 0.197399 ┆ 0.980323 ┆ 0.500532 ┆ 0.865718 │\n",
       "│            ┆            ┆ 715        ┆ 1         ┆   ┆          ┆          ┆          ┆          │\n",
       "│ 0.0        ┆ 4          ┆ 101027.404 ┆ 2022-04-0 ┆ … ┆ 0.204298 ┆ 0.978909 ┆ 0.484345 ┆ 0.874877 │\n",
       "│            ┆            ┆ 687        ┆ 1         ┆   ┆          ┆          ┆          ┆          │\n",
       "│ 0.0        ┆ 7          ┆ 123052.430 ┆ 2022-04-0 ┆ … ┆ 0.203765 ┆ 0.97902  ┆ 0.502026 ┆ 0.864853 │\n",
       "│            ┆            ┆ 729        ┆ 1         ┆   ┆          ┆          ┆          ┆          │\n",
       "└────────────┴────────────┴────────────┴───────────┴───┴──────────┴──────────┴──────────┴──────────┘"
      ]
     },
     "execution_count": 11,
     "metadata": {},
     "output_type": "execute_result"
    }
   ],
   "source": [
    "new_train"
   ]
  },
  {
   "cell_type": "code",
   "execution_count": 12,
   "id": "3e3d560c",
   "metadata": {
    "execution": {
     "iopub.execute_input": "2025-02-13T13:03:45.562341Z",
     "iopub.status.busy": "2025-02-13T13:03:45.562007Z",
     "iopub.status.idle": "2025-02-13T13:03:45.566077Z",
     "shell.execute_reply": "2025-02-13T13:03:45.565092Z"
    },
    "papermill": {
     "duration": 0.015984,
     "end_time": "2025-02-13T13:03:45.567811",
     "exception": false,
     "start_time": "2025-02-13T13:03:45.551827",
     "status": "completed"
    },
    "tags": []
   },
   "outputs": [],
   "source": [
    "from sklearn.model_selection import train_test_split"
   ]
  },
  {
   "cell_type": "markdown",
   "id": "fd743c0b",
   "metadata": {
    "papermill": {
     "duration": 0.008836,
     "end_time": "2025-02-13T13:03:45.586362",
     "exception": false,
     "start_time": "2025-02-13T13:03:45.577526",
     "status": "completed"
    },
    "tags": []
   },
   "source": [
    "### Поскольку нельзя разделить в равных пропорциях на train и val дома, которые появились всего 1 раз, я их просто добавлю в train, чтобы в val встречались все из train"
   ]
  },
  {
   "cell_type": "code",
   "execution_count": 13,
   "id": "6b93b4cd",
   "metadata": {
    "execution": {
     "iopub.execute_input": "2025-02-13T13:03:45.605768Z",
     "iopub.status.busy": "2025-02-13T13:03:45.605391Z",
     "iopub.status.idle": "2025-02-13T13:03:45.652866Z",
     "shell.execute_reply": "2025-02-13T13:03:45.651782Z"
    },
    "papermill": {
     "duration": 0.059295,
     "end_time": "2025-02-13T13:03:45.654676",
     "exception": false,
     "start_time": "2025-02-13T13:03:45.595381",
     "status": "completed"
    },
    "tags": []
   },
   "outputs": [],
   "source": [
    "ftrain = new_train.filter(new_train['id_house'].is_in(sab['id_house']))\n",
    "count_dates = new_train.group_by('id_house').agg(pl.count('datetime').alias('date_count'))\n",
    "\n",
    "result = count_dates.filter(count_dates['date_count'] < 2)['id_house'].to_list()\n",
    "sub_train = new_train.filter(new_train['id_house'].is_in(result))\n",
    "new_new_train = new_train.filter(~new_train['id_house'].is_in(result))"
   ]
  },
  {
   "cell_type": "code",
   "execution_count": 14,
   "id": "55cfdcef",
   "metadata": {
    "execution": {
     "iopub.execute_input": "2025-02-13T13:03:45.675688Z",
     "iopub.status.busy": "2025-02-13T13:03:45.675237Z",
     "iopub.status.idle": "2025-02-13T13:03:45.832514Z",
     "shell.execute_reply": "2025-02-13T13:03:45.831530Z"
    },
    "papermill": {
     "duration": 0.169574,
     "end_time": "2025-02-13T13:03:45.834344",
     "exception": false,
     "start_time": "2025-02-13T13:03:45.664770",
     "status": "completed"
    },
    "tags": []
   },
   "outputs": [],
   "source": [
    "trainset, valset = train_test_split(new_new_train, test_size=0.3, stratify=new_new_train['id_house'], random_state=42)\n",
    "trainset = pl.concat([trainset, sub_train])"
   ]
  },
  {
   "cell_type": "markdown",
   "id": "acdd8537",
   "metadata": {
    "papermill": {
     "duration": 0.009689,
     "end_time": "2025-02-13T13:03:45.853411",
     "exception": false,
     "start_time": "2025-02-13T13:03:45.843722",
     "status": "completed"
    },
    "tags": []
   },
   "source": [
    " ### Тут pandas чисто для проверки на корреляцию, больше он нигде не использован"
   ]
  },
  {
   "cell_type": "code",
   "execution_count": 15,
   "id": "b2a50c40",
   "metadata": {
    "execution": {
     "iopub.execute_input": "2025-02-13T13:03:45.879404Z",
     "iopub.status.busy": "2025-02-13T13:03:45.879053Z",
     "iopub.status.idle": "2025-02-13T13:03:45.885694Z",
     "shell.execute_reply": "2025-02-13T13:03:45.884554Z"
    },
    "papermill": {
     "duration": 0.021205,
     "end_time": "2025-02-13T13:03:45.887443",
     "exception": false,
     "start_time": "2025-02-13T13:03:45.866238",
     "status": "completed"
    },
    "tags": []
   },
   "outputs": [],
   "source": [
    "cat_feats = ['room_zero', 'vc_city_quadkey', 'room_three', 'room_four', 'room_two', 'healthcare_cnt', 'flats_cnt', 'shopping_cnt', 'apart_to_room', 'mean_price', 'num_builds_live', 'build_year_median', 'number_total', 'room_one', 'mean_area', 'num_builds_series_live', 'id_house', 'beauty_cnt', 'lon_sin', 'lat_sin']\n",
    "xgb_feats = ['room_zero', 'vc_city_quadkey', 'room_three', 'room_four', 'room_two', 'healthcare_cnt', 'flats_cnt', 'shopping_cnt', 'apart_to_room', 'mean_price', 'num_builds_live', 'build_year_median', 'number_total', 'room_one', 'mean_area', 'num_builds_series_live', 'id_house', 'beauty_cnt', 'lat_sin', 'lon_sin']\n",
    "rfc_feats = ['date_diff_days', 'year', 'month', 'next_year', 'next_month', 'month_sin', 'month_cos', 'next_month_sin', 'next_month_cos', 'lat', 'lng', 'lat_cos', 'lon_cos']"
   ]
  },
  {
   "cell_type": "code",
   "execution_count": 16,
   "id": "61f7f041",
   "metadata": {
    "execution": {
     "iopub.execute_input": "2025-02-13T13:03:45.912209Z",
     "iopub.status.busy": "2025-02-13T13:03:45.911112Z",
     "iopub.status.idle": "2025-02-13T13:03:46.139693Z",
     "shell.execute_reply": "2025-02-13T13:03:46.138526Z"
    },
    "papermill": {
     "duration": 0.243405,
     "end_time": "2025-02-13T13:03:46.141495",
     "exception": false,
     "start_time": "2025-02-13T13:03:45.898090",
     "status": "completed"
    },
    "tags": []
   },
   "outputs": [
    {
     "data": {
      "text/plain": [
       "room_zero                 1\n",
       "vc_city_quadkey           1\n",
       "room_three                1\n",
       "room_four                 1\n",
       "room_two                  1\n",
       "healthcare_cnt            1\n",
       "flats_cnt                 1\n",
       "shopping_cnt              1\n",
       "apart_to_room             1\n",
       "mean_price                1\n",
       "num_builds_live           1\n",
       "build_year_median         1\n",
       "number_total              1\n",
       "room_one                  1\n",
       "mean_area                 1\n",
       "num_builds_series_live    1\n",
       "id_house                  1\n",
       "beauty_cnt                1\n",
       "lon_sin                   1\n",
       "lat_sin                   1\n",
       "dtype: int64"
      ]
     },
     "execution_count": 16,
     "metadata": {},
     "output_type": "execute_result"
    }
   ],
   "source": [
    "((trainset.to_pandas()[cat_feats]).corr() > 0.95).sum()"
   ]
  },
  {
   "cell_type": "code",
   "execution_count": 17,
   "id": "ff48257e",
   "metadata": {
    "execution": {
     "iopub.execute_input": "2025-02-13T13:03:46.161794Z",
     "iopub.status.busy": "2025-02-13T13:03:46.161334Z",
     "iopub.status.idle": "2025-02-13T13:03:46.329420Z",
     "shell.execute_reply": "2025-02-13T13:03:46.328384Z"
    },
    "papermill": {
     "duration": 0.180058,
     "end_time": "2025-02-13T13:03:46.331126",
     "exception": false,
     "start_time": "2025-02-13T13:03:46.151068",
     "status": "completed"
    },
    "tags": []
   },
   "outputs": [
    {
     "data": {
      "text/plain": [
       "room_zero                 1\n",
       "vc_city_quadkey           1\n",
       "room_three                1\n",
       "room_four                 1\n",
       "room_two                  1\n",
       "healthcare_cnt            1\n",
       "flats_cnt                 1\n",
       "shopping_cnt              1\n",
       "apart_to_room             1\n",
       "mean_price                1\n",
       "num_builds_live           1\n",
       "build_year_median         1\n",
       "number_total              1\n",
       "room_one                  1\n",
       "mean_area                 1\n",
       "num_builds_series_live    1\n",
       "id_house                  1\n",
       "beauty_cnt                1\n",
       "lat_sin                   1\n",
       "lon_sin                   1\n",
       "dtype: int64"
      ]
     },
     "execution_count": 17,
     "metadata": {},
     "output_type": "execute_result"
    }
   ],
   "source": [
    "((trainset.to_pandas()[xgb_feats]).corr() > 0.95).sum()"
   ]
  },
  {
   "cell_type": "code",
   "execution_count": 18,
   "id": "5f5e08ad",
   "metadata": {
    "execution": {
     "iopub.execute_input": "2025-02-13T13:03:46.351984Z",
     "iopub.status.busy": "2025-02-13T13:03:46.351602Z",
     "iopub.status.idle": "2025-02-13T13:03:46.433240Z",
     "shell.execute_reply": "2025-02-13T13:03:46.431988Z"
    },
    "papermill": {
     "duration": 0.094104,
     "end_time": "2025-02-13T13:03:46.434948",
     "exception": false,
     "start_time": "2025-02-13T13:03:46.340844",
     "status": "completed"
    },
    "tags": []
   },
   "outputs": [
    {
     "data": {
      "text/plain": [
       "date_diff_days    1\n",
       "year              1\n",
       "month             1\n",
       "next_year         1\n",
       "next_month        1\n",
       "month_sin         1\n",
       "month_cos         1\n",
       "next_month_sin    1\n",
       "next_month_cos    1\n",
       "lat               1\n",
       "lng               1\n",
       "lat_cos           1\n",
       "lon_cos           1\n",
       "dtype: int64"
      ]
     },
     "execution_count": 18,
     "metadata": {},
     "output_type": "execute_result"
    }
   ],
   "source": [
    "((trainset.to_pandas()[rfc_feats]).corr() > 0.95).sum()"
   ]
  },
  {
   "cell_type": "code",
   "execution_count": 19,
   "id": "8baa12bd",
   "metadata": {
    "execution": {
     "iopub.execute_input": "2025-02-13T13:03:46.455924Z",
     "iopub.status.busy": "2025-02-13T13:03:46.455549Z",
     "iopub.status.idle": "2025-02-13T13:03:46.461532Z",
     "shell.execute_reply": "2025-02-13T13:03:46.460449Z"
    },
    "papermill": {
     "duration": 0.018047,
     "end_time": "2025-02-13T13:03:46.463086",
     "exception": false,
     "start_time": "2025-02-13T13:03:46.445039",
     "status": "completed"
    },
    "tags": []
   },
   "outputs": [
    {
     "data": {
      "text/plain": [
       "(20, 20, 13)"
      ]
     },
     "execution_count": 19,
     "metadata": {},
     "output_type": "execute_result"
    }
   ],
   "source": [
    "len(cat_feats), len(xgb_feats), len(rfc_feats)"
   ]
  },
  {
   "cell_type": "markdown",
   "id": "18c8f063",
   "metadata": {
    "papermill": {
     "duration": 0.009459,
     "end_time": "2025-02-13T13:03:46.482406",
     "exception": false,
     "start_time": "2025-02-13T13:03:46.472947",
     "status": "completed"
    },
    "tags": []
   },
   "source": [
    "## Выше приведены доказательства о 2 критериях: о корреляции и о количестве фич для каждой модели"
   ]
  },
  {
   "cell_type": "code",
   "execution_count": 20,
   "id": "e80445ea",
   "metadata": {
    "execution": {
     "iopub.execute_input": "2025-02-13T13:03:46.503174Z",
     "iopub.status.busy": "2025-02-13T13:03:46.502803Z",
     "iopub.status.idle": "2025-02-13T13:03:46.536437Z",
     "shell.execute_reply": "2025-02-13T13:03:46.535488Z"
    },
    "papermill": {
     "duration": 0.045947,
     "end_time": "2025-02-13T13:03:46.538146",
     "exception": false,
     "start_time": "2025-02-13T13:03:46.492199",
     "status": "completed"
    },
    "tags": []
   },
   "outputs": [],
   "source": [
    "X_train_cat = trainset[cat_feats].to_numpy()\n",
    "X_test_cat = valset[cat_feats].to_numpy()\n",
    "\n",
    "X_train_xgb = trainset[xgb_feats].to_numpy()\n",
    "X_test_xgb = valset[xgb_feats].to_numpy()\n",
    "\n",
    "X_train_rfc = trainset[rfc_feats].to_numpy()\n",
    "X_test_rfc = valset[rfc_feats].to_numpy()\n",
    "\n",
    "y_train = trainset['target'].to_numpy()\n",
    "y_test = valset['target'].to_numpy()"
   ]
  },
  {
   "cell_type": "markdown",
   "id": "e633e0ff",
   "metadata": {
    "papermill": {
     "duration": 0.009569,
     "end_time": "2025-02-13T13:03:46.557940",
     "exception": false,
     "start_time": "2025-02-13T13:03:46.548371",
     "status": "completed"
    },
    "tags": []
   },
   "source": [
    "### Обучаем модели"
   ]
  },
  {
   "cell_type": "code",
   "execution_count": 21,
   "id": "78acce17",
   "metadata": {
    "execution": {
     "iopub.execute_input": "2025-02-13T13:03:46.579154Z",
     "iopub.status.busy": "2025-02-13T13:03:46.578803Z",
     "iopub.status.idle": "2025-02-13T13:03:46.587126Z",
     "shell.execute_reply": "2025-02-13T13:03:46.586147Z"
    },
    "papermill": {
     "duration": 0.020746,
     "end_time": "2025-02-13T13:03:46.588869",
     "exception": false,
     "start_time": "2025-02-13T13:03:46.568123",
     "status": "completed"
    },
    "tags": []
   },
   "outputs": [],
   "source": [
    "# 1. CatBoost Model\n",
    "catboost_model = catboost.CatBoostRegressor(\n",
    "    iterations=4000,   \n",
    "    learning_rate=0.05,\n",
    "    depth=6,          \n",
    "    l2_leaf_reg=3,        \n",
    "    loss_function='MAE',\n",
    "    cat_features=[],    \n",
    "    random_seed=42,    \n",
    "    verbose=100,    \n",
    ")\n",
    "\n",
    "\n",
    "# 2. XGBoost Model\n",
    "xgboost_model = xgb.XGBRegressor(\n",
    "    n_estimators=4000,  \n",
    "    learning_rate=0.05,  \n",
    "    max_depth=6,       \n",
    "    subsample=0.8,      \n",
    "    colsample_bytree=0.8, \n",
    "    gamma=0.1,           \n",
    "    random_state=42      \n",
    ")\n",
    "\n",
    "# 3. Random Forest Model\n",
    "rf_model = RandomForestRegressor(\n",
    "    n_estimators=1000,  \n",
    "    max_depth=6,        \n",
    "    min_samples_split=10,\n",
    "    min_samples_leaf=5,\n",
    "    random_state=42\n",
    ")"
   ]
  },
  {
   "cell_type": "code",
   "execution_count": 22,
   "id": "180aa2cb",
   "metadata": {
    "execution": {
     "iopub.execute_input": "2025-02-13T13:03:46.609728Z",
     "iopub.status.busy": "2025-02-13T13:03:46.609296Z",
     "iopub.status.idle": "2025-02-13T13:03:50.239540Z",
     "shell.execute_reply": "2025-02-13T13:03:50.238356Z"
    },
    "papermill": {
     "duration": 3.642403,
     "end_time": "2025-02-13T13:03:50.241145",
     "exception": false,
     "start_time": "2025-02-13T13:03:46.598742",
     "status": "completed"
    },
    "tags": []
   },
   "outputs": [
    {
     "name": "stdout",
     "output_type": "stream",
     "text": [
      "0:\tlearn: 2704.3326789\ttest: 2685.6980990\tbest: 2685.6980990 (0)\ttotal: 80.7ms\tremaining: 5m 22s\n",
      "100:\tlearn: 2690.6835498\ttest: 2676.3704353\tbest: 2676.3671983 (95)\ttotal: 1.78s\tremaining: 1m 8s\n",
      "Stopped by overfitting detector  (100 iterations wait)\n",
      "\n",
      "bestTest = 2676.367198\n",
      "bestIteration = 95\n",
      "\n",
      "Shrink model to first 96 iterations.\n"
     ]
    },
    {
     "data": {
      "text/plain": [
       "<catboost.core.CatBoostRegressor at 0x7f5884bf7a00>"
      ]
     },
     "execution_count": 22,
     "metadata": {},
     "output_type": "execute_result"
    }
   ],
   "source": [
    "catboost_model.fit(X_train_cat, y_train, eval_set=(X_test_cat, y_test), early_stopping_rounds=100)"
   ]
  },
  {
   "cell_type": "code",
   "execution_count": 23,
   "id": "a45f7835",
   "metadata": {
    "execution": {
     "iopub.execute_input": "2025-02-13T13:03:50.263622Z",
     "iopub.status.busy": "2025-02-13T13:03:50.263231Z",
     "iopub.status.idle": "2025-02-13T13:03:51.171768Z",
     "shell.execute_reply": "2025-02-13T13:03:51.170659Z"
    },
    "papermill": {
     "duration": 0.921466,
     "end_time": "2025-02-13T13:03:51.173453",
     "exception": false,
     "start_time": "2025-02-13T13:03:50.251987",
     "status": "completed"
    },
    "tags": []
   },
   "outputs": [
    {
     "name": "stdout",
     "output_type": "stream",
     "text": [
      "[0]\tvalidation_0-rmse:10398.92451\n"
     ]
    },
    {
     "name": "stderr",
     "output_type": "stream",
     "text": [
      "/usr/local/lib/python3.10/dist-packages/xgboost/sklearn.py:889: UserWarning: `early_stopping_rounds` in `fit` method is deprecated for better compatibility with scikit-learn, use `early_stopping_rounds` in constructor or`set_params` instead.\n",
      "  warnings.warn(\n"
     ]
    },
    {
     "name": "stdout",
     "output_type": "stream",
     "text": [
      "[51]\tvalidation_0-rmse:10426.52009\n"
     ]
    },
    {
     "data": {
      "text/html": [
       "<style>#sk-container-id-1 {color: black;background-color: white;}#sk-container-id-1 pre{padding: 0;}#sk-container-id-1 div.sk-toggleable {background-color: white;}#sk-container-id-1 label.sk-toggleable__label {cursor: pointer;display: block;width: 100%;margin-bottom: 0;padding: 0.3em;box-sizing: border-box;text-align: center;}#sk-container-id-1 label.sk-toggleable__label-arrow:before {content: \"▸\";float: left;margin-right: 0.25em;color: #696969;}#sk-container-id-1 label.sk-toggleable__label-arrow:hover:before {color: black;}#sk-container-id-1 div.sk-estimator:hover label.sk-toggleable__label-arrow:before {color: black;}#sk-container-id-1 div.sk-toggleable__content {max-height: 0;max-width: 0;overflow: hidden;text-align: left;background-color: #f0f8ff;}#sk-container-id-1 div.sk-toggleable__content pre {margin: 0.2em;color: black;border-radius: 0.25em;background-color: #f0f8ff;}#sk-container-id-1 input.sk-toggleable__control:checked~div.sk-toggleable__content {max-height: 200px;max-width: 100%;overflow: auto;}#sk-container-id-1 input.sk-toggleable__control:checked~label.sk-toggleable__label-arrow:before {content: \"▾\";}#sk-container-id-1 div.sk-estimator input.sk-toggleable__control:checked~label.sk-toggleable__label {background-color: #d4ebff;}#sk-container-id-1 div.sk-label input.sk-toggleable__control:checked~label.sk-toggleable__label {background-color: #d4ebff;}#sk-container-id-1 input.sk-hidden--visually {border: 0;clip: rect(1px 1px 1px 1px);clip: rect(1px, 1px, 1px, 1px);height: 1px;margin: -1px;overflow: hidden;padding: 0;position: absolute;width: 1px;}#sk-container-id-1 div.sk-estimator {font-family: monospace;background-color: #f0f8ff;border: 1px dotted black;border-radius: 0.25em;box-sizing: border-box;margin-bottom: 0.5em;}#sk-container-id-1 div.sk-estimator:hover {background-color: #d4ebff;}#sk-container-id-1 div.sk-parallel-item::after {content: \"\";width: 100%;border-bottom: 1px solid gray;flex-grow: 1;}#sk-container-id-1 div.sk-label:hover label.sk-toggleable__label {background-color: #d4ebff;}#sk-container-id-1 div.sk-serial::before {content: \"\";position: absolute;border-left: 1px solid gray;box-sizing: border-box;top: 0;bottom: 0;left: 50%;z-index: 0;}#sk-container-id-1 div.sk-serial {display: flex;flex-direction: column;align-items: center;background-color: white;padding-right: 0.2em;padding-left: 0.2em;position: relative;}#sk-container-id-1 div.sk-item {position: relative;z-index: 1;}#sk-container-id-1 div.sk-parallel {display: flex;align-items: stretch;justify-content: center;background-color: white;position: relative;}#sk-container-id-1 div.sk-item::before, #sk-container-id-1 div.sk-parallel-item::before {content: \"\";position: absolute;border-left: 1px solid gray;box-sizing: border-box;top: 0;bottom: 0;left: 50%;z-index: -1;}#sk-container-id-1 div.sk-parallel-item {display: flex;flex-direction: column;z-index: 1;position: relative;background-color: white;}#sk-container-id-1 div.sk-parallel-item:first-child::after {align-self: flex-end;width: 50%;}#sk-container-id-1 div.sk-parallel-item:last-child::after {align-self: flex-start;width: 50%;}#sk-container-id-1 div.sk-parallel-item:only-child::after {width: 0;}#sk-container-id-1 div.sk-dashed-wrapped {border: 1px dashed gray;margin: 0 0.4em 0.5em 0.4em;box-sizing: border-box;padding-bottom: 0.4em;background-color: white;}#sk-container-id-1 div.sk-label label {font-family: monospace;font-weight: bold;display: inline-block;line-height: 1.2em;}#sk-container-id-1 div.sk-label-container {text-align: center;}#sk-container-id-1 div.sk-container {/* jupyter's `normalize.less` sets `[hidden] { display: none; }` but bootstrap.min.css set `[hidden] { display: none !important; }` so we also need the `!important` here to be able to override the default hidden behavior on the sphinx rendered scikit-learn.org. See: https://github.com/scikit-learn/scikit-learn/issues/21755 */display: inline-block !important;position: relative;}#sk-container-id-1 div.sk-text-repr-fallback {display: none;}</style><div id=\"sk-container-id-1\" class=\"sk-top-container\"><div class=\"sk-text-repr-fallback\"><pre>XGBRegressor(base_score=None, booster=None, callbacks=None,\n",
       "             colsample_bylevel=None, colsample_bynode=None,\n",
       "             colsample_bytree=0.8, device=None, early_stopping_rounds=None,\n",
       "             enable_categorical=False, eval_metric=None, feature_types=None,\n",
       "             gamma=0.1, grow_policy=None, importance_type=None,\n",
       "             interaction_constraints=None, learning_rate=0.05, max_bin=None,\n",
       "             max_cat_threshold=None, max_cat_to_onehot=None,\n",
       "             max_delta_step=None, max_depth=6, max_leaves=None,\n",
       "             min_child_weight=None, missing=nan, monotone_constraints=None,\n",
       "             multi_strategy=None, n_estimators=4000, n_jobs=None,\n",
       "             num_parallel_tree=None, random_state=42, ...)</pre><b>In a Jupyter environment, please rerun this cell to show the HTML representation or trust the notebook. <br />On GitHub, the HTML representation is unable to render, please try loading this page with nbviewer.org.</b></div><div class=\"sk-container\" hidden><div class=\"sk-item\"><div class=\"sk-estimator sk-toggleable\"><input class=\"sk-toggleable__control sk-hidden--visually\" id=\"sk-estimator-id-1\" type=\"checkbox\" checked><label for=\"sk-estimator-id-1\" class=\"sk-toggleable__label sk-toggleable__label-arrow\">XGBRegressor</label><div class=\"sk-toggleable__content\"><pre>XGBRegressor(base_score=None, booster=None, callbacks=None,\n",
       "             colsample_bylevel=None, colsample_bynode=None,\n",
       "             colsample_bytree=0.8, device=None, early_stopping_rounds=None,\n",
       "             enable_categorical=False, eval_metric=None, feature_types=None,\n",
       "             gamma=0.1, grow_policy=None, importance_type=None,\n",
       "             interaction_constraints=None, learning_rate=0.05, max_bin=None,\n",
       "             max_cat_threshold=None, max_cat_to_onehot=None,\n",
       "             max_delta_step=None, max_depth=6, max_leaves=None,\n",
       "             min_child_weight=None, missing=nan, monotone_constraints=None,\n",
       "             multi_strategy=None, n_estimators=4000, n_jobs=None,\n",
       "             num_parallel_tree=None, random_state=42, ...)</pre></div></div></div></div></div>"
      ],
      "text/plain": [
       "XGBRegressor(base_score=None, booster=None, callbacks=None,\n",
       "             colsample_bylevel=None, colsample_bynode=None,\n",
       "             colsample_bytree=0.8, device=None, early_stopping_rounds=None,\n",
       "             enable_categorical=False, eval_metric=None, feature_types=None,\n",
       "             gamma=0.1, grow_policy=None, importance_type=None,\n",
       "             interaction_constraints=None, learning_rate=0.05, max_bin=None,\n",
       "             max_cat_threshold=None, max_cat_to_onehot=None,\n",
       "             max_delta_step=None, max_depth=6, max_leaves=None,\n",
       "             min_child_weight=None, missing=nan, monotone_constraints=None,\n",
       "             multi_strategy=None, n_estimators=4000, n_jobs=None,\n",
       "             num_parallel_tree=None, random_state=42, ...)"
      ]
     },
     "execution_count": 23,
     "metadata": {},
     "output_type": "execute_result"
    }
   ],
   "source": [
    "xgboost_model.fit(X_train_xgb, y_train, eval_set=[(X_test_xgb, y_test)], early_stopping_rounds=50, verbose=100)"
   ]
  },
  {
   "cell_type": "code",
   "execution_count": 24,
   "id": "be5a4bad",
   "metadata": {
    "execution": {
     "iopub.execute_input": "2025-02-13T13:03:51.195486Z",
     "iopub.status.busy": "2025-02-13T13:03:51.195149Z",
     "iopub.status.idle": "2025-02-13T13:06:35.748930Z",
     "shell.execute_reply": "2025-02-13T13:06:35.747734Z"
    },
    "papermill": {
     "duration": 164.57725,
     "end_time": "2025-02-13T13:06:35.761270",
     "exception": false,
     "start_time": "2025-02-13T13:03:51.184020",
     "status": "completed"
    },
    "tags": []
   },
   "outputs": [
    {
     "data": {
      "text/html": [
       "<style>#sk-container-id-2 {color: black;background-color: white;}#sk-container-id-2 pre{padding: 0;}#sk-container-id-2 div.sk-toggleable {background-color: white;}#sk-container-id-2 label.sk-toggleable__label {cursor: pointer;display: block;width: 100%;margin-bottom: 0;padding: 0.3em;box-sizing: border-box;text-align: center;}#sk-container-id-2 label.sk-toggleable__label-arrow:before {content: \"▸\";float: left;margin-right: 0.25em;color: #696969;}#sk-container-id-2 label.sk-toggleable__label-arrow:hover:before {color: black;}#sk-container-id-2 div.sk-estimator:hover label.sk-toggleable__label-arrow:before {color: black;}#sk-container-id-2 div.sk-toggleable__content {max-height: 0;max-width: 0;overflow: hidden;text-align: left;background-color: #f0f8ff;}#sk-container-id-2 div.sk-toggleable__content pre {margin: 0.2em;color: black;border-radius: 0.25em;background-color: #f0f8ff;}#sk-container-id-2 input.sk-toggleable__control:checked~div.sk-toggleable__content {max-height: 200px;max-width: 100%;overflow: auto;}#sk-container-id-2 input.sk-toggleable__control:checked~label.sk-toggleable__label-arrow:before {content: \"▾\";}#sk-container-id-2 div.sk-estimator input.sk-toggleable__control:checked~label.sk-toggleable__label {background-color: #d4ebff;}#sk-container-id-2 div.sk-label input.sk-toggleable__control:checked~label.sk-toggleable__label {background-color: #d4ebff;}#sk-container-id-2 input.sk-hidden--visually {border: 0;clip: rect(1px 1px 1px 1px);clip: rect(1px, 1px, 1px, 1px);height: 1px;margin: -1px;overflow: hidden;padding: 0;position: absolute;width: 1px;}#sk-container-id-2 div.sk-estimator {font-family: monospace;background-color: #f0f8ff;border: 1px dotted black;border-radius: 0.25em;box-sizing: border-box;margin-bottom: 0.5em;}#sk-container-id-2 div.sk-estimator:hover {background-color: #d4ebff;}#sk-container-id-2 div.sk-parallel-item::after {content: \"\";width: 100%;border-bottom: 1px solid gray;flex-grow: 1;}#sk-container-id-2 div.sk-label:hover label.sk-toggleable__label {background-color: #d4ebff;}#sk-container-id-2 div.sk-serial::before {content: \"\";position: absolute;border-left: 1px solid gray;box-sizing: border-box;top: 0;bottom: 0;left: 50%;z-index: 0;}#sk-container-id-2 div.sk-serial {display: flex;flex-direction: column;align-items: center;background-color: white;padding-right: 0.2em;padding-left: 0.2em;position: relative;}#sk-container-id-2 div.sk-item {position: relative;z-index: 1;}#sk-container-id-2 div.sk-parallel {display: flex;align-items: stretch;justify-content: center;background-color: white;position: relative;}#sk-container-id-2 div.sk-item::before, #sk-container-id-2 div.sk-parallel-item::before {content: \"\";position: absolute;border-left: 1px solid gray;box-sizing: border-box;top: 0;bottom: 0;left: 50%;z-index: -1;}#sk-container-id-2 div.sk-parallel-item {display: flex;flex-direction: column;z-index: 1;position: relative;background-color: white;}#sk-container-id-2 div.sk-parallel-item:first-child::after {align-self: flex-end;width: 50%;}#sk-container-id-2 div.sk-parallel-item:last-child::after {align-self: flex-start;width: 50%;}#sk-container-id-2 div.sk-parallel-item:only-child::after {width: 0;}#sk-container-id-2 div.sk-dashed-wrapped {border: 1px dashed gray;margin: 0 0.4em 0.5em 0.4em;box-sizing: border-box;padding-bottom: 0.4em;background-color: white;}#sk-container-id-2 div.sk-label label {font-family: monospace;font-weight: bold;display: inline-block;line-height: 1.2em;}#sk-container-id-2 div.sk-label-container {text-align: center;}#sk-container-id-2 div.sk-container {/* jupyter's `normalize.less` sets `[hidden] { display: none; }` but bootstrap.min.css set `[hidden] { display: none !important; }` so we also need the `!important` here to be able to override the default hidden behavior on the sphinx rendered scikit-learn.org. See: https://github.com/scikit-learn/scikit-learn/issues/21755 */display: inline-block !important;position: relative;}#sk-container-id-2 div.sk-text-repr-fallback {display: none;}</style><div id=\"sk-container-id-2\" class=\"sk-top-container\"><div class=\"sk-text-repr-fallback\"><pre>RandomForestRegressor(max_depth=6, min_samples_leaf=5, min_samples_split=10,\n",
       "                      n_estimators=1000, random_state=42)</pre><b>In a Jupyter environment, please rerun this cell to show the HTML representation or trust the notebook. <br />On GitHub, the HTML representation is unable to render, please try loading this page with nbviewer.org.</b></div><div class=\"sk-container\" hidden><div class=\"sk-item\"><div class=\"sk-estimator sk-toggleable\"><input class=\"sk-toggleable__control sk-hidden--visually\" id=\"sk-estimator-id-2\" type=\"checkbox\" checked><label for=\"sk-estimator-id-2\" class=\"sk-toggleable__label sk-toggleable__label-arrow\">RandomForestRegressor</label><div class=\"sk-toggleable__content\"><pre>RandomForestRegressor(max_depth=6, min_samples_leaf=5, min_samples_split=10,\n",
       "                      n_estimators=1000, random_state=42)</pre></div></div></div></div></div>"
      ],
      "text/plain": [
       "RandomForestRegressor(max_depth=6, min_samples_leaf=5, min_samples_split=10,\n",
       "                      n_estimators=1000, random_state=42)"
      ]
     },
     "execution_count": 24,
     "metadata": {},
     "output_type": "execute_result"
    }
   ],
   "source": [
    "rf_model.fit(X_train_rfc, y_train)"
   ]
  },
  {
   "cell_type": "code",
   "execution_count": 25,
   "id": "7fc31a3f",
   "metadata": {
    "execution": {
     "iopub.execute_input": "2025-02-13T13:06:35.783802Z",
     "iopub.status.busy": "2025-02-13T13:06:35.783337Z",
     "iopub.status.idle": "2025-02-13T13:06:35.787639Z",
     "shell.execute_reply": "2025-02-13T13:06:35.786568Z"
    },
    "papermill": {
     "duration": 0.017515,
     "end_time": "2025-02-13T13:06:35.789309",
     "exception": false,
     "start_time": "2025-02-13T13:06:35.771794",
     "status": "completed"
    },
    "tags": []
   },
   "outputs": [],
   "source": [
    "from sklearn.metrics import mean_absolute_error"
   ]
  },
  {
   "cell_type": "markdown",
   "id": "4d0dabb6",
   "metadata": {
    "papermill": {
     "duration": 0.01055,
     "end_time": "2025-02-13T13:06:35.811031",
     "exception": false,
     "start_time": "2025-02-13T13:06:35.800481",
     "status": "completed"
    },
    "tags": []
   },
   "source": [
    "### Смотрим метрику"
   ]
  },
  {
   "cell_type": "code",
   "execution_count": 26,
   "id": "53ef2c67",
   "metadata": {
    "execution": {
     "iopub.execute_input": "2025-02-13T13:06:35.834146Z",
     "iopub.status.busy": "2025-02-13T13:06:35.833752Z",
     "iopub.status.idle": "2025-02-13T13:06:37.348960Z",
     "shell.execute_reply": "2025-02-13T13:06:37.347677Z"
    },
    "papermill": {
     "duration": 1.529044,
     "end_time": "2025-02-13T13:06:37.350766",
     "exception": false,
     "start_time": "2025-02-13T13:06:35.821722",
     "status": "completed"
    },
    "tags": []
   },
   "outputs": [
    {
     "name": "stdout",
     "output_type": "stream",
     "text": [
      "2676.3672004839286\n",
      "2740.7970774956093\n",
      "2772.16387182337\n"
     ]
    }
   ],
   "source": [
    "print(mean_absolute_error(y_test, catboost_model.predict(X_test_cat)))\n",
    "print(mean_absolute_error(y_test, xgboost_model.predict(X_test_xgb)))\n",
    "print(mean_absolute_error(y_test, rf_model.predict(X_test_rfc)))"
   ]
  },
  {
   "cell_type": "code",
   "execution_count": 27,
   "id": "10ffd5f7",
   "metadata": {
    "execution": {
     "iopub.execute_input": "2025-02-13T13:06:37.374251Z",
     "iopub.status.busy": "2025-02-13T13:06:37.373924Z",
     "iopub.status.idle": "2025-02-13T13:06:37.402176Z",
     "shell.execute_reply": "2025-02-13T13:06:37.400890Z"
    },
    "papermill": {
     "duration": 0.042305,
     "end_time": "2025-02-13T13:06:37.404004",
     "exception": false,
     "start_time": "2025-02-13T13:06:37.361699",
     "status": "completed"
    },
    "tags": []
   },
   "outputs": [],
   "source": [
    "from tqdm import tqdm"
   ]
  },
  {
   "cell_type": "markdown",
   "id": "3d43bd14",
   "metadata": {
    "papermill": {
     "duration": 0.010647,
     "end_time": "2025-02-13T13:06:37.425763",
     "exception": false,
     "start_time": "2025-02-13T13:06:37.415116",
     "status": "completed"
    },
    "tags": []
   },
   "source": [
    "### Формируем предсказание, и каждый шаг обновляем текущий mean_price на предсказанный diff"
   ]
  },
  {
   "cell_type": "code",
   "execution_count": 28,
   "id": "afca2cf5",
   "metadata": {
    "execution": {
     "iopub.execute_input": "2025-02-13T13:06:37.505408Z",
     "iopub.status.busy": "2025-02-13T13:06:37.505069Z",
     "iopub.status.idle": "2025-02-13T13:16:47.407665Z",
     "shell.execute_reply": "2025-02-13T13:16:47.406307Z"
    },
    "papermill": {
     "duration": 609.916246,
     "end_time": "2025-02-13T13:16:47.409479",
     "exception": false,
     "start_time": "2025-02-13T13:06:37.493233",
     "status": "completed"
    },
    "tags": []
   },
   "outputs": [
    {
     "name": "stderr",
     "output_type": "stream",
     "text": [
      "15597it [10:09, 25.57it/s]\n"
     ]
    }
   ],
   "source": [
    "import numpy as np\n",
    "from tqdm import tqdm\n",
    "\n",
    "ans_list = []\n",
    "\n",
    "for p in tqdm(sab.iter_rows()):\n",
    "    temp = latest_info.filter(latest_info['id_house'] == p[2])\n",
    "    \n",
    "    # Обновление столбца \"date\" на основе условия\n",
    "    if p[1] == \"2022_07_01\":\n",
    "        temp = temp.with_columns(pl.lit(\"2022_06_01\").alias(\"date\"))\n",
    "    elif p[1] == \"2022_08_01\":\n",
    "        temp = temp.with_columns(pl.lit(\"2022_07_01\").alias(\"date\"))\n",
    "    \n",
    "    # Присваиваем \"next_date\" значение p[1]\n",
    "    temp = temp.with_columns(pl.lit(p[1]).alias(\"next_date\"))\n",
    "    \n",
    "    # Получаем предсказания от моделей\n",
    "    temp = create_many_time_geo_features(create_date_features(temp)).fill_null(0).drop(['datetime', 'next_datetime', 'med_price'])\n",
    "    \n",
    "    # Переводим temp в формат numpy для модели\n",
    "    temp_np = temp.to_numpy()\n",
    "\n",
    "    temp_np_cat = temp[cat_feats].to_numpy()\n",
    "    temp_np_xgb = temp[xgb_feats].to_numpy()\n",
    "    temp_np_rfc = temp[rfc_feats].to_numpy()\n",
    "\n",
    "    # Предсказания от моделей\n",
    "    pred = np.mean([\n",
    "        catboost_model.predict(temp_np_cat),\n",
    "        xgboost_model.predict(temp_np_xgb),\n",
    "        rf_model.predict(temp_np_rfc)\n",
    "    ])\n",
    "\n",
    "    # Здесь diff — это разница, предсказанная моделями\n",
    "    diff = pred\n",
    "\n",
    "    # Теперь обновляем столбец mean_price в latest_info для конкретного дома\n",
    "    # Обновляем только те строки, где id_house совпадает с текущим p[2]\n",
    "    latest_info = latest_info.with_columns(\n",
    "        pl.when(pl.col(\"id_house\") == p[2])\n",
    "        .then(pl.col(\"mean_price\") + diff)  # Прибавляем diff к mean_price\n",
    "        .otherwise(pl.col(\"mean_price\"))\n",
    "        .alias(\"mean_price\")\n",
    "    )\n",
    "    \n",
    "    # Добавляем предсказание в список для дальнейшей обработки\n",
    "    ans_list.append(pred + sum(temp['mean_price']))\n",
    "\n",
    "# После завершения цикла ans_list будет содержать все нужные результаты.\n",
    "\n"
   ]
  },
  {
   "cell_type": "code",
   "execution_count": 29,
   "id": "7a50b1bf",
   "metadata": {
    "execution": {
     "iopub.execute_input": "2025-02-13T13:16:47.972861Z",
     "iopub.status.busy": "2025-02-13T13:16:47.972457Z",
     "iopub.status.idle": "2025-02-13T13:16:47.978938Z",
     "shell.execute_reply": "2025-02-13T13:16:47.977853Z"
    },
    "papermill": {
     "duration": 0.289058,
     "end_time": "2025-02-13T13:16:47.980683",
     "exception": false,
     "start_time": "2025-02-13T13:16:47.691625",
     "status": "completed"
    },
    "tags": []
   },
   "outputs": [
    {
     "data": {
      "text/html": [
       "<div><style>\n",
       ".dataframe > thead > tr,\n",
       ".dataframe > tbody > tr {\n",
       "  text-align: right;\n",
       "  white-space: pre-wrap;\n",
       "}\n",
       "</style>\n",
       "<small>shape: (15_597, 3)</small><table border=\"1\" class=\"dataframe\"><thead><tr><th>target</th><th>date</th><th>id_house</th></tr><tr><td>f64</td><td>str</td><td>i64</td></tr></thead><tbody><tr><td>0.0</td><td>&quot;2022-06-01&quot;</td><td>6123</td></tr><tr><td>0.0</td><td>&quot;2022-07-01&quot;</td><td>6123</td></tr><tr><td>0.0</td><td>&quot;2022-08-01&quot;</td><td>6123</td></tr><tr><td>0.0</td><td>&quot;2022-06-01&quot;</td><td>4104</td></tr><tr><td>0.0</td><td>&quot;2022-07-01&quot;</td><td>4104</td></tr><tr><td>&hellip;</td><td>&hellip;</td><td>&hellip;</td></tr><tr><td>0.0</td><td>&quot;2022-07-01&quot;</td><td>6599</td></tr><tr><td>0.0</td><td>&quot;2022-08-01&quot;</td><td>6599</td></tr><tr><td>0.0</td><td>&quot;2022-06-01&quot;</td><td>5668</td></tr><tr><td>0.0</td><td>&quot;2022-07-01&quot;</td><td>5668</td></tr><tr><td>0.0</td><td>&quot;2022-08-01&quot;</td><td>5668</td></tr></tbody></table></div>"
      ],
      "text/plain": [
       "shape: (15_597, 3)\n",
       "┌────────┬────────────┬──────────┐\n",
       "│ target ┆ date       ┆ id_house │\n",
       "│ ---    ┆ ---        ┆ ---      │\n",
       "│ f64    ┆ str        ┆ i64      │\n",
       "╞════════╪════════════╪══════════╡\n",
       "│ 0.0    ┆ 2022-06-01 ┆ 6123     │\n",
       "│ 0.0    ┆ 2022-07-01 ┆ 6123     │\n",
       "│ 0.0    ┆ 2022-08-01 ┆ 6123     │\n",
       "│ 0.0    ┆ 2022-06-01 ┆ 4104     │\n",
       "│ 0.0    ┆ 2022-07-01 ┆ 4104     │\n",
       "│ …      ┆ …          ┆ …        │\n",
       "│ 0.0    ┆ 2022-07-01 ┆ 6599     │\n",
       "│ 0.0    ┆ 2022-08-01 ┆ 6599     │\n",
       "│ 0.0    ┆ 2022-06-01 ┆ 5668     │\n",
       "│ 0.0    ┆ 2022-07-01 ┆ 5668     │\n",
       "│ 0.0    ┆ 2022-08-01 ┆ 5668     │\n",
       "└────────┴────────────┴──────────┘"
      ]
     },
     "execution_count": 29,
     "metadata": {},
     "output_type": "execute_result"
    }
   ],
   "source": [
    "sab"
   ]
  },
  {
   "cell_type": "code",
   "execution_count": 30,
   "id": "63ba0b2c",
   "metadata": {
    "execution": {
     "iopub.execute_input": "2025-02-13T13:16:48.545333Z",
     "iopub.status.busy": "2025-02-13T13:16:48.544977Z",
     "iopub.status.idle": "2025-02-13T13:16:48.563232Z",
     "shell.execute_reply": "2025-02-13T13:16:48.562152Z"
    },
    "papermill": {
     "duration": 0.301742,
     "end_time": "2025-02-13T13:16:48.564983",
     "exception": false,
     "start_time": "2025-02-13T13:16:48.263241",
     "status": "completed"
    },
    "tags": []
   },
   "outputs": [
    {
     "data": {
      "text/plain": [
       "[45829.449917386446,\n",
       " 46735.99590158523,\n",
       " 47438.3267473794,\n",
       " 48476.50043645072,\n",
       " 49391.207261500596,\n",
       " 50107.761406398386,\n",
       " 47781.941694895366,\n",
       " 48710.883163935796,\n",
       " 49437.81209132969,\n",
       " 41721.80043664515,\n",
       " 42631.88132191477,\n",
       " 43337.7470687786,\n",
       " 68388.7197672947,\n",
       " 69298.40881507684,\n",
       " 70003.88272445319,\n",
       " 67927.92199966215,\n",
       " 68837.61093606176,\n",
       " 69543.08473405556,\n",
       " 54936.44554851839,\n",
       " 55839.390192045066,\n",
       " 38707.07899111059,\n",
       " 39614.68622448627,\n",
       " 40318.07831945616,\n",
       " 68885.83696356614,\n",
       " 69798.73613531423,\n",
       " 70507.42016865654,\n",
       " 58069.651637381954,\n",
       " 58983.76777066166,\n",
       " 59693.66876553796,\n",
       " 58260.56645271619,\n",
       " 38492.916553401665,\n",
       " 39398.54870636699,\n",
       " 40099.96572092653,\n",
       " 35133.9700689665,\n",
       " 36032.85781764249,\n",
       " 36727.530427912694,\n",
       " 38820.138947505846,\n",
       " 39720.34478242595,\n",
       " 40416.33547894026,\n",
       " 45843.60719186522,\n",
       " 46743.75165072416,\n",
       " 47439.68097117847,\n",
       " 28857.088857874423,\n",
       " 29742.020049305167,\n",
       " 30422.736102330116,\n",
       " 37710.397155648934,\n",
       " 38594.019107384476,\n",
       " 39273.425920714224,\n",
       " 24767.03766653922,\n",
       " 56077.22715349528,\n",
       " 56972.189464804396,\n",
       " 57665.00381501674,\n",
       " 58536.524726714044,\n",
       " 59431.88439426804,\n",
       " 60125.23152017579,\n",
       " 50236.381456510986,\n",
       " 51126.76898174006,\n",
       " 51815.143965285955,\n",
       " 52979.38494040812,\n",
       " 53870.205121741776,\n",
       " 54559.01276146225,\n",
       " 57064.977919757024,\n",
       " 57962.65540581355,\n",
       " 58658.320350281334,\n",
       " 48480.7526462664,\n",
       " 47494.72862245738,\n",
       " 48006.671460711324,\n",
       " 42813.629625567126,\n",
       " 43689.1701931033,\n",
       " 44362.69821899295,\n",
       " 32424.75023596932,\n",
       " 33302.611753948455,\n",
       " 33976.25813352179,\n",
       " 43783.3280631289,\n",
       " 44653.08543522804,\n",
       " 45320.83026568064,\n",
       " 52114.70912249712,\n",
       " 53016.020725518705,\n",
       " 53713.1171901344,\n",
       " 50528.84746725429,\n",
       " 51427.580209929714,\n",
       " 52122.09781416349,\n",
       " 52728.748684381455,\n",
       " 53625.852663715305,\n",
       " 54318.74150470612,\n",
       " 44243.81602814519,\n",
       " 45140.92000749278,\n",
       " 45833.80884843457,\n",
       " 42784.82837177727,\n",
       " 43685.43315898892,\n",
       " 44381.82280779477,\n",
       " 43122.333059422,\n",
       " 44022.937846778375,\n",
       " 46038.087856110105,\n",
       " 46935.626033904584,\n",
       " 47628.94907325974,\n",
       " 57339.381293474566,\n",
       " 58236.91947113351,\n",
       " 58930.24251041788,\n",
       " 62242.7064641792,\n",
       " 63077.926622899584,\n",
       " 59733.76811101162,\n",
       " 60631.755737451465,\n",
       " 61325.52822548551,\n",
       " 70444.53830645882,\n",
       " 71345.14339397087,\n",
       " 72041.53334307711,\n",
       " 60976.313947630086,\n",
       " 61868.887968608964,\n",
       " 62557.24685118205,\n",
       " 57486.28191623293,\n",
       " 58382.56338388493,\n",
       " 59074.62971316041,\n",
       " 47424.83200522451,\n",
       " 48321.09813214626,\n",
       " 49013.149120662216,\n",
       " 51517.35444386618,\n",
       " 52408.610378376376,\n",
       " 53095.651174478415,\n",
       " 58005.68881905452,\n",
       " 58896.94475371828,\n",
       " 59583.98554997862,\n",
       " 55991.0356491149,\n",
       " 56890.383726375236,\n",
       " 57585.51666526176,\n",
       " 36027.39634077847,\n",
       " 68092.91007072465,\n",
       " 69008.5755233548,\n",
       " 69720.02583757915,\n",
       " 68087.30394019657,\n",
       " 68984.68364582137,\n",
       " 69677.84821304037,\n",
       " 64880.2673758903,\n",
       " 65810.87509402471,\n",
       " 66537.26767375333,\n",
       " 58867.516680145774,\n",
       " 59759.82999614032,\n",
       " 60447.92817372936,\n",
       " 50913.92037879967,\n",
       " 51805.61581818787,\n",
       " 52493.09611916811,\n",
       " 50985.27648589489,\n",
       " 52545.53342541883,\n",
       " 37981.95146149393,\n",
       " 38873.646900987114,\n",
       " 39561.1272020745,\n",
       " 66309.0289818403,\n",
       " 65368.33358098209,\n",
       " 65960.33131178272,\n",
       " 40661.037689853714,\n",
       " 41531.230037620335,\n",
       " 42199.409843770925,\n",
       " 45638.86307776977,\n",
       " 46504.84780198752,\n",
       " 47168.8199845252,\n",
       " 57633.88776790872,\n",
       " 58494.84695905114,\n",
       " 59153.793608645356,\n",
       " 50942.695602008076,\n",
       " 51815.69470935466,\n",
       " 52484.47867829332,\n",
       " 34186.17919584073,\n",
       " 35061.79540686385,\n",
       " 35726.63180722504,\n",
       " 44205.312992959996,\n",
       " 45083.99581360239,\n",
       " 45751.89882358286,\n",
       " 61750.91355401692,\n",
       " 62622.20898578103,\n",
       " 63291.49187593039,\n",
       " 72949.66988346119,\n",
       " 79851.18340467913,\n",
       " 71578.33847638208,\n",
       " 72441.71401929333,\n",
       " 73103.07702055803,\n",
       " 68246.20768733145,\n",
       " 69114.43650921324,\n",
       " 69780.65278944849,\n",
       " 64716.13937516612,\n",
       " 65587.43480675756,\n",
       " 66256.71769670247,\n",
       " 37318.69992718993,\n",
       " 41184.877387978944,\n",
       " 58790.66120304181,\n",
       " 59669.799879503786,\n",
       " 60346.92601431951,\n",
       " 57212.83620304498,\n",
       " 58091.97487951012,\n",
       " 58769.10101435994,\n",
       " 46412.34812529522,\n",
       " 47296.88208489623,\n",
       " 47972.83883056096,\n",
       " 108997.09147782152,\n",
       " 110127.22116755234,\n",
       " 111134.54296866283,\n",
       " 83004.47791403992,\n",
       " 84186.13218166651,\n",
       " 85229.43696366076,\n",
       " 79701.62117088467,\n",
       " 80772.63952340675,\n",
       " 81700.0959615697,\n",
       " 73859.81936390961,\n",
       " 74995.27596316602,\n",
       " 76007.9246738021,\n",
       " 65220.50789094942,\n",
       " 66350.63758755813,\n",
       " 67357.95939554651,\n",
       " 85652.28422756717,\n",
       " 86845.80683340687,\n",
       " 87899.82582051559,\n",
       " 75120.15330797934,\n",
       " 76187.4049694711,\n",
       " 77111.09471653531,\n",
       " 88500.57871310151,\n",
       " 89665.54718074734,\n",
       " 90691.01202966219,\n",
       " 88624.88784164305,\n",
       " 90051.69212207354,\n",
       " 91362.71625075264,\n",
       " 95893.34371173519,\n",
       " 97211.20275467244,\n",
       " 98402.22865614983,\n",
       " 103779.13816757422,\n",
       " 105273.41244655492,\n",
       " 106651.90657375741,\n",
       " 113500.83188131278,\n",
       " 115120.4933745535,\n",
       " 116650.13535344161,\n",
       " 85731.26725585932,\n",
       " 87361.32892447074,\n",
       " 88901.37107872957,\n",
       " 112416.14407027827,\n",
       " 80159.18354264689,\n",
       " 81862.76448162351,\n",
       " 83458.66163638172,\n",
       " 84334.02649759433,\n",
       " 85927.50415091317,\n",
       " 87430.96228988256,\n",
       " 81215.03280815396,\n",
       " 82841.05295956702,\n",
       " 84377.05359662749,\n",
       " 79893.91081109062,\n",
       " 81591.61578553315,\n",
       " 83181.63697572818,\n",
       " 81588.12009332785,\n",
       " 83279.90781800351,\n",
       " 84872.35360409717,\n",
       " 76680.51672386391,\n",
       " 78368.95279600432,\n",
       " 79959.58491674617,\n",
       " 58093.412364764634,\n",
       " 60263.98082193503,\n",
       " 62321.0214971128,\n",
       " 40870.412083819676,\n",
       " 43055.21619758651,\n",
       " 45126.49252939241,\n",
       " 59189.348740851645,\n",
       " 61439.470625867296,\n",
       " 63592.837793492086,\n",
       " 53952.68933635961,\n",
       " 56214.22637045464,\n",
       " 58380.062868747125,\n",
       " 53049.141886864585,\n",
       " 53743.33934625399,\n",
       " 55578.508547662845,\n",
       " 23544.944498363635,\n",
       " 25651.30078887544,\n",
       " 27686.441754711414,\n",
       " 24366.301777728106,\n",
       " 26467.63253510438,\n",
       " 28497.747967804826,\n",
       " 40687.77214410668,\n",
       " 44747.151561902494,\n",
       " 30165.87289966083,\n",
       " 31165.198303885132,\n",
       " 31999.165120110203,\n",
       " 91815.25844848923,\n",
       " 92907.50323380654,\n",
       " 93856.18610472693,\n",
       " 109746.78464996247,\n",
       " 111013.52708405431,\n",
       " 112140.76589941517,\n",
       " 92602.48648237978,\n",
       " 93716.82874014697,\n",
       " 94687.60908351724,\n",
       " 93272.72691329506,\n",
       " 94584.8000998445,\n",
       " 95778.01187717992,\n",
       " 69963.09426827918,\n",
       " 71651.67797594189,\n",
       " 73240.91974502258,\n",
       " 51647.9971982598,\n",
       " 52575.401438959874,\n",
       " 53300.79313120352,\n",
       " 38401.81563610899,\n",
       " 39389.12896570572,\n",
       " 40178.871014948236,\n",
       " 44419.6053214418,\n",
       " 45418.93072557206,\n",
       " 46252.897541703096,\n",
       " 45151.81505023667,\n",
       " 46076.08876550977,\n",
       " 46798.34993913633,\n",
       " 50925.979040291364,\n",
       " 51849.96283936916,\n",
       " 52571.93408995023,\n",
       " 60893.132441249356,\n",
       " 61871.71520549622,\n",
       " 62652.726689388866,\n",
       " 66171.91809771852,\n",
       " 67139.3929382715,\n",
       " 67909.29649847027,\n",
       " 74737.31758765473,\n",
       " 75715.90681527126,\n",
       " 76496.92476253357,\n",
       " 63021.705181870435,\n",
       " 63997.289526499015,\n",
       " 64775.302590773375,\n",
       " 58346.6178387874,\n",
       " 59323.81188723848,\n",
       " 60103.43465533563,\n",
       " 50619.6963919217,\n",
       " 51598.2791559425,\n",
       " 52379.29063960215,\n",
       " 56055.11609821123,\n",
       " 57022.6505190614,\n",
       " 57792.613659590665,\n",
       " 47654.88009737065,\n",
       " 48645.260036666536,\n",
       " 49438.068695608206,\n",
       " 38049.618378623905,\n",
       " 39039.99831792305,\n",
       " 39832.80697686797,\n",
       " 32479.489493128098,\n",
       " 33475.74828769467,\n",
       " 34306.64849426201,\n",
       " 52749.48837073831,\n",
       " 53733.47449800334,\n",
       " 54552.373245422714,\n",
       " 50308.01598863055,\n",
       " 51292.92115197976,\n",
       " 52112.467727359595,\n",
       " 66813.45514225587,\n",
       " 67776.2303649632,\n",
       " 68541.4343073163,\n",
       " 50831.61091050312,\n",
       " 51804.30130966111,\n",
       " 52581.02664224076,\n",
       " 48307.63469912259,\n",
       " 49292.806190151336,\n",
       " 50112.619093176094,\n",
       " 53915.87446212024,\n",
       " 54903.402691126226,\n",
       " 38747.50958033362,\n",
       " 40433.42913576507,\n",
       " 42020.00675261451,\n",
       " 48020.95974327963,\n",
       " 49005.4213625842,\n",
       " 49824.52439388625,\n",
       " 31560.390337365403,\n",
       " 32547.91856638074,\n",
       " 33370.088207396846,\n",
       " 50635.23369664851,\n",
       " 51622.76192556643,\n",
       " 52444.93156644548,\n",
       " 64243.806634574175,\n",
       " 65474.41684759754,\n",
       " 66578.19392600197,\n",
       " 61582.164980124035,\n",
       " 62817.80072619726,\n",
       " 63926.60333761977,\n",
       " 57615.21405341545,\n",
       " 59202.9663160913,\n",
       " 60700.69906437872,\n",
       " 52623.232514988515,\n",
       " 54211.75029809649,\n",
       " 55710.24856688548,\n",
       " 54232.74941280052,\n",
       " 55852.06727681469,\n",
       " 57381.36562644194,\n",
       " 44517.87628584661,\n",
       " 47877.05108709295,\n",
       " 49558.21095354214,\n",
       " 51141.566868619826,\n",
       " 50144.71676271379,\n",
       " 51819.00287376719,\n",
       " 53395.48503348674,\n",
       " 22460.49566146728,\n",
       " 22135.831869688274,\n",
       " 47154.931283866914,\n",
       " 49199.44167111791,\n",
       " 51124.9281968832,\n",
       " 52234.63956524903,\n",
       " 54279.14995263187,\n",
       " 56204.63647859799,\n",
       " 52653.99994837069,\n",
       " 54851.33508809417,\n",
       " 56951.9155104187,\n",
       " 56589.96677907329,\n",
       " 58784.48718703136,\n",
       " 60882.25287764915,\n",
       " 62437.46138139326,\n",
       " 64145.85383612274,\n",
       " 49213.29541334677,\n",
       " 50921.69690002912,\n",
       " 52536.07685671763,\n",
       " 70527.46327606565,\n",
       " 72262.65995758963,\n",
       " 73903.85578123128,\n",
       " 58784.89889462378,\n",
       " 60678.9007828614,\n",
       " 62498.659970116365,\n",
       " 55800.14480579583,\n",
       " 57662.34073020549,\n",
       " 59450.29214236607,\n",
       " 58434.91854996561,\n",
       " 60229.92835745962,\n",
       " 62050.624035575325,\n",
       " 56862.43980022623,\n",
       " 58742.20603156629,\n",
       " 43248.59036568705,\n",
       " 45487.9640317881,\n",
       " 47630.582980497995,\n",
       " 36088.76374112841,\n",
       " 38171.47669644508,\n",
       " 22822.610048041497,\n",
       " 24245.220518441572,\n",
       " 25647.101072177524,\n",
       " 29175.148548875808,\n",
       " 31443.24490120471,\n",
       " 33692.30148443548,\n",
       " 31688.807109259153,\n",
       " 43259.930402135215,\n",
       " 45391.74230737789,\n",
       " 47435.59961187813,\n",
       " 44397.12946478516,\n",
       " 46528.94137017779,\n",
       " 48572.798674794445,\n",
       " 27237.556174326437,\n",
       " 28650.956521011452,\n",
       " 30043.626951032344,\n",
       " 36984.176055787524,\n",
       " 38454.75361282589,\n",
       " 39901.68997664918,\n",
       " 42127.33270032841,\n",
       " 43555.41816676539,\n",
       " 44962.77371653825,\n",
       " 37243.59231528301,\n",
       " 38971.597271668776,\n",
       " 40603.855614900254,\n",
       " 48840.35565839495,\n",
       " 50578.27701391488,\n",
       " 52228.58824087569,\n",
       " 38398.22900362236,\n",
       " 40345.46135202774,\n",
       " 42193.93814052251,\n",
       " 75896.53354560223,\n",
       " 60330.44158785581,\n",
       " 62515.75187210056,\n",
       " 64608.05433931995,\n",
       " 51635.75902349369,\n",
       " 53816.04377462632,\n",
       " 55903.32070872889,\n",
       " 45410.66968015144,\n",
       " 47605.19008794183,\n",
       " 49706.70267863689,\n",
       " 54687.35597253403,\n",
       " 56875.75738774701,\n",
       " 58971.59716968374,\n",
       " 60287.382830553885,\n",
       " 61999.444516588366,\n",
       " 63617.50534474054,\n",
       " 61826.40940739496,\n",
       " 58415.59798043419,\n",
       " 60120.16024897169,\n",
       " 61730.50845663858,\n",
       " 61036.44223729716,\n",
       " 62745.44282710376,\n",
       " 64360.44255902871,\n",
       " 59027.87464468281,\n",
       " 60748.03222475705,\n",
       " 62373.88538695955,\n",
       " 64584.31714480524,\n",
       " 66304.47472503799,\n",
       " 67930.32788739869,\n",
       " 63629.37963881202,\n",
       " 65339.92810091271,\n",
       " 66956.47570516716,\n",
       " 57109.41253339826,\n",
       " 58820.05642992619,\n",
       " 60436.69946859993,\n",
       " 57402.99057689841,\n",
       " 59345.67782467895,\n",
       " 61203.13832644612,\n",
       " 61122.29810492768,\n",
       " 63041.380830413975,\n",
       " 64886.2208549161,\n",
       " 65279.02754956157,\n",
       " 67141.92536999428,\n",
       " 68930.45960464787,\n",
       " 59004.76895899654,\n",
       " 61189.57307294023,\n",
       " 63260.84940492438,\n",
       " 47399.508660331405,\n",
       " 49243.594421373804,\n",
       " 50991.758011492115,\n",
       " 62336.2244401242,\n",
       " 64521.1849821935,\n",
       " 66613.13770723714,\n",
       " 60128.82198554279,\n",
       " 62313.78476053003,\n",
       " 64405.739718458455,\n",
       " 65984.57653240747,\n",
       " 68018.1985433991,\n",
       " 69932.79669294042,\n",
       " 64933.67180253554,\n",
       " 66794.81301570951,\n",
       " 68560.0320579595,\n",
       " 69089.24895918595,\n",
       " 71175.42355043344,\n",
       " 73146.97365252413,\n",
       " 101051.20924248478,\n",
       " 103234.91382244026,\n",
       " 105305.09062047234,\n",
       " 76053.93763329141,\n",
       " 78176.9583571668,\n",
       " 80181.78601311214,\n",
       " 90615.0030212898,\n",
       " 92804.76353349579,\n",
       " 94882.4047027634,\n",
       " 80463.42203528852,\n",
       " 82704.78926702437,\n",
       " 84849.40178136909,\n",
       " 80443.84357178657,\n",
       " 82670.26880058646,\n",
       " 84799.9393119952,\n",
       " 78440.62367861066,\n",
       " 80728.31099984921,\n",
       " 82922.62356502017,\n",
       " 80978.97834227984,\n",
       " 83269.9934520053,\n",
       " 85464.25384433963,\n",
       " 68724.55968707548,\n",
       " 70982.70959845682,\n",
       " 73145.25314057923,\n",
       " 66054.49802956685,\n",
       " 68243.15559406037,\n",
       " 89544.56407577574,\n",
       " 91843.0853100014,\n",
       " 94046.26026585736,\n",
       " 86184.84063019499,\n",
       " 88417.64860542014,\n",
       " 90553.70186325413,\n",
       " 91158.32442266235,\n",
       " 93409.70179941607,\n",
       " 95565.73289780007,\n",
       " 76587.34744688573,\n",
       " 78766.70919192662,\n",
       " 80849.3162195797,\n",
       " 72945.21219423198,\n",
       " 75141.908764368,\n",
       " 77241.85061711285,\n",
       " 72960.67401615993,\n",
       " 75164.55511937253,\n",
       " 77275.42840552339,\n",
       " 75597.90228421938,\n",
       " 77772.27448377773,\n",
       " 79853.62142153569,\n",
       " 44204.45442811354,\n",
       " 46334.776867560955,\n",
       " 48388.62730945256,\n",
       " 46321.66082105276,\n",
       " 48448.447193495675,\n",
       " 50487.27896516715,\n",
       " 38633.77147774701,\n",
       " 40774.79350688417,\n",
       " 37199.33416494166,\n",
       " 39271.60277309734,\n",
       " 41283.53952658098,\n",
       " 39336.00766390992,\n",
       " 40815.79534469568,\n",
       " 42271.94183226637,\n",
       " 60837.55373814693,\n",
       " 63011.855667900054,\n",
       " 65093.14978059209,\n",
       " 49022.73440046992,\n",
       " 51149.52077279721,\n",
       " 53188.35254440407,\n",
       " 47069.945427734136,\n",
       " 49201.27158738934,\n",
       " 51244.64314627,\n",
       " 56793.9885618403,\n",
       " 58951.23251380409,\n",
       " 61015.47953991456,\n",
       " 49072.77831645703,\n",
       " 51211.014117801795,\n",
       " 58625.93214180414,\n",
       " 60794.86850185781,\n",
       " 62870.797044850035,\n",
       " 57613.10175400248,\n",
       " 59751.337555424194,\n",
       " 61801.61875607231,\n",
       " 81969.99942515673,\n",
       " 82867.47358649188,\n",
       " 83562.9352061805,\n",
       " 49907.91192528739,\n",
       " 50810.05013599288,\n",
       " 51510.17580505,\n",
       " 67252.61336241546,\n",
       " 68211.06711778237,\n",
       " 68971.94959279506,\n",
       " 75523.22117359226,\n",
       " 76498.95563415771,\n",
       " 77276.46128243014,\n",
       " 72096.05873458821,\n",
       " 73066.63767462785,\n",
       " 73839.64533431329,\n",
       " 72220.66271945629,\n",
       " 73184.40033635481,\n",
       " 73950.5666728991,\n",
       " 60307.937271514595,\n",
       " 61271.25792768732,\n",
       " 62037.00730350583,\n",
       " 68690.80842723537,\n",
       " 69659.001517538,\n",
       " 70430.77167561861,\n",
       " 72595.99584434257,\n",
       " 73565.55189523064,\n",
       " 74337.5366657645,\n",
       " 74461.20363812744,\n",
       " 75437.61991551257,\n",
       " 76216.46491254348,\n",
       " 75184.75112057923,\n",
       " 76148.6187629919,\n",
       " 76914.25759311154,\n",
       " 73932.04488762692,\n",
       " 74899.07585829574,\n",
       " 75668.53554861032,\n",
       " 31973.064472422404,\n",
       " 32936.64485791203,\n",
       " 33702.65396304744,\n",
       " 72189.44218783584,\n",
       " 73153.00106998891,\n",
       " 73918.98867178777,\n",
       " 74444.7112071563,\n",
       " 75412.44543423466,\n",
       " 76182.6083809588,\n",
       " 79149.83296641838,\n",
       " 80108.26813062622,\n",
       " 80875.74925014205,\n",
       " 68239.75323779417,\n",
       " 69208.32345773451,\n",
       " 69979.32239732065,\n",
       " 73924.31730648111,\n",
       " 74894.84362498779,\n",
       " 75667.79866314025,\n",
       " 54669.9947375996,\n",
       " 55630.508513266424,\n",
       " 56393.45100857853,\n",
       " 44071.03106585277,\n",
       " 45009.40622248659,\n",
       " 45750.2100987662,\n",
       " 66302.95008270851,\n",
       " 67265.16646297375,\n",
       " 68029.81156288476,\n",
       " 60279.105097357526,\n",
       " 61249.972462666505,\n",
       " 62023.268547621265,\n",
       " 67731.76914690381,\n",
       " 68694.54436959853,\n",
       " 69459.74831193904,\n",
       " 63562.695811373334,\n",
       " 64530.63919735367,\n",
       " 65300.868672663026,\n",
       " 57774.608619905914,\n",
       " 58745.35100791043,\n",
       " 59518.52211558858,\n",
       " 78385.64259741717,\n",
       " 79349.22298290156,\n",
       " 80115.23208799832,\n",
       " 78708.80826209104,\n",
       " 79672.51471099787,\n",
       " 80438.64987958655,\n",
       " 73978.52559708689,\n",
       " 74939.03937286601,\n",
       " 75701.98186829091,\n",
       " 67463.49297548638,\n",
       " 68424.15198588547,\n",
       " 69187.23971593035,\n",
       " 72648.83547511246,\n",
       " 73604.3237180066,\n",
       " 74362.24068054653,\n",
       " 75046.32182680549,\n",
       " 76024.8146526939,\n",
       " 76805.73619822809,\n",
       " 75665.16749627441,\n",
       " 76659.25018845551,\n",
       " 77465.86607310193,\n",
       " 72386.03610027966,\n",
       " 73390.48268731109,\n",
       " 74197.35799398829,\n",
       " 67349.51667144147,\n",
       " 68312.3834063377,\n",
       " 69077.6788608797,\n",
       " 74884.89860171797,\n",
       " 75875.68889775316,\n",
       " 76668.90791343414,\n",
       " 67372.73820913507,\n",
       " 68328.22645167683,\n",
       " 60412.018829472865,\n",
       " 61367.07205412359,\n",
       " 62136.39186059418,\n",
       " 54663.41263660804,\n",
       " 55625.29543266877,\n",
       " 56406.561212283086,\n",
       " 64918.74872032669,\n",
       " 65876.86855458123,\n",
       " 66649.25497065565,\n",
       " 59252.66564309975,\n",
       " 60202.261521174085,\n",
       " 60955.89233264112,\n",
       " 64800.52794328941,\n",
       " 65753.8630024564,\n",
       " 66511.2329950158,\n",
       " 58324.64075036742,\n",
       " 59278.81172517411,\n",
       " 60037.01763337321,\n",
       " 39059.180488000406,\n",
       " 39950.53273171711,\n",
       " 40639.87243378728,\n",
       " 49390.64259721137,\n",
       " 50281.99484076405,\n",
       " 50971.33454269666,\n",
       " 43204.63393380003,\n",
       " 44155.73076297594,\n",
       " 44926.21057570593,\n",
       " 48916.15958190227,\n",
       " 49874.83285569236,\n",
       " 50668.14754148217,\n",
       " 57079.1347600897,\n",
       " 58044.60016907988,\n",
       " 58848.48549365594,\n",
       " 41458.88151570788,\n",
       " 42559.14504884093,\n",
       " 43536.60069335367,\n",
       " 47609.835547095485,\n",
       " 49276.86846741416,\n",
       " 50846.09743636948,\n",
       " 54371.075680835726,\n",
       " 55326.682344907065,\n",
       " 56116.93042101255,\n",
       " 66499.85442512108,\n",
       " 67458.5276990372,\n",
       " 68251.84238495407,\n",
       " 59569.359923860735,\n",
       " 62104.27497548877,\n",
       " 63059.597731120404,\n",
       " 63849.561898720014,\n",
       " 56096.831654607544,\n",
       " 57052.438318724395,\n",
       " 57842.686394874,\n",
       " 65759.90531529403,\n",
       " 66715.51197938308,\n",
       " 67505.7600554729,\n",
       " 59912.99697442137,\n",
       " 60863.3392450396,\n",
       " 61648.3229276586,\n",
       " 65120.853858724804,\n",
       " 66071.04409437564,\n",
       " 66855.87574202724,\n",
       " 79206.06862308418,\n",
       " 80162.10010482914,\n",
       " 80956.58048744069,\n",
       " 76149.63742045303,\n",
       " 77110.6044043118,\n",
       " 77912.77294994355,\n",
       " 90475.76403343961,\n",
       " 91426.03996463859,\n",
       " 92210.95730783834,\n",
       " 60486.5495945299,\n",
       " 61437.13764931916,\n",
       " 62222.367116109184,\n",
       " 76356.96247124982,\n",
       " 82702.79176937738,\n",
       " 83693.3099917343,\n",
       " 84519.62375919062,\n",
       " 83558.26534367239,\n",
       " 84521.95658063986,\n",
       " 85321.44336270673,\n",
       " 84564.49231123542,\n",
       " 85545.26370773019,\n",
       " 86361.41030514023,\n",
       " 88171.9230157723,\n",
       " 89131.44552696022,\n",
       " 89925.6094501489,\n",
       " 98659.21770919715,\n",
       " 99676.1184957993,\n",
       " 100531.43919799254,\n",
       " 68293.29250669779,\n",
       " 69017.76666723414,\n",
       " 70034.24606897571,\n",
       " 87416.19027307587,\n",
       " 88381.08352203612,\n",
       " 89180.61818299713,\n",
       " 71164.89396300273,\n",
       " 72115.08419876483,\n",
       " 72899.9158465277,\n",
       " 67615.04869029213,\n",
       " 68566.28584084362,\n",
       " 69352.16440339587,\n",
       " 96918.858034914,\n",
       " 97912.88254232964,\n",
       " 98741.54846174603,\n",
       " 85544.50095641619,\n",
       " 86516.76374365944,\n",
       " 87327.4464464938,\n",
       " 87310.73950166302,\n",
       " 88257.91590108539,\n",
       " 89039.73371250853,\n",
       " 85570.27733113371,\n",
       " 86560.42440125775,\n",
       " 87388.99138697292,\n",
       " 62718.9657496074,\n",
       " 63677.372688571646,\n",
       " 64470.42103953666,\n",
       " 76733.5647627919,\n",
       " 77702.54600648806,\n",
       " 78508.69621641679,\n",
       " 65481.89997307089,\n",
       " 66429.0235991296,\n",
       " 67210.78863718909,\n",
       " 65093.78819430494,\n",
       " 66040.99751589574,\n",
       " 66822.8482494873,\n",
       " 101418.24127508499,\n",
       " 102360.37495315782,\n",
       " 103137.15004326611,\n",
       " 58345.52446755744,\n",
       " 59292.885687367656,\n",
       " 60074.88831917864,\n",
       " 72454.18124299074,\n",
       " 73410.07128214226,\n",
       " 74204.38123688489,\n",
       " 93619.7074680964,\n",
       " 94624.82711649025,\n",
       " 95475.98577122533,\n",
       " 78737.6239789345,\n",
       " 57691.4051599247,\n",
       " 58721.33004779485,\n",
       " 59612.753601090226,\n",
       " 41553.18727501253,\n",
       " 42435.190486992506,\n",
       " 43236.44991499235,\n",
       " 34507.14334720221,\n",
       " 35457.03888080035,\n",
       " 36209.363134044266,\n",
       " 39621.71526183293,\n",
       " 40504.3635571496,\n",
       " 41184.99931081973,\n",
       " 39094.898269767924,\n",
       " 39977.54656520709,\n",
       " 40658.18231899972,\n",
       " 56082.627058386046,\n",
       " 57040.992564822234,\n",
       " 57834.27069144393,\n",
       " 54359.843126281674,\n",
       " 55318.516400032684,\n",
       " 56111.83108582,\n",
       " 69567.01133741638,\n",
       " 70522.61576873067,\n",
       " 71312.86161204573,\n",
       " 65436.251069587066,\n",
       " 66391.85550092919,\n",
       " 67182.10134427207,\n",
       " 60167.47055712476,\n",
       " 61126.31155581846,\n",
       " 61919.793966512916,\n",
       " 62466.56983650648,\n",
       " 63422.344225345696,\n",
       " 64212.76002618568,\n",
       " 68776.94611145626,\n",
       " 69735.70141448145,\n",
       " 70529.0981295074,\n",
       " 56706.2155876081,\n",
       " 57660.84896246306,\n",
       " 58450.12374932005,\n",
       " 69923.60913423097,\n",
       " 70875.17589945879,\n",
       " 71661.38407668738,\n",
       " 20308.20709608025,\n",
       " 21189.392043103122,\n",
       " 21868.564448479457,\n",
       " 65897.23281283748,\n",
       " 66784.74231000671,\n",
       " 67463.67459327327,\n",
       " 77579.01641379451,\n",
       " 78529.05845406787,\n",
       " 79313.74190634198,\n",
       " 60167.86076898409,\n",
       " 61125.99495194087,\n",
       " 61918.77054689842,\n",
       " 45722.59083372784,\n",
       " 46679.468306644165,\n",
       " 47470.98719155766,\n",
       " 59246.60764136333,\n",
       " 60185.5806747607,\n",
       " 60928.58864155077,\n",
       " 81015.45357237422,\n",
       " 81986.85088243062,\n",
       " 81920.32092092978,\n",
       " 65805.88605383364,\n",
       " 66784.17824334065,\n",
       " 67602.34748945775,\n",
       " 63872.467798630176,\n",
       " 64884.85778222369,\n",
       " 65757.26587046492,\n",
       " 76906.96567633066,\n",
       " 77869.77423305383,\n",
       " 78678.6132749853,\n",
       " 78451.9404473937,\n",
       " 79452.76331991478,\n",
       " 82661.8096039143,\n",
       " 83635.2703102285,\n",
       " 84448.6080731528,\n",
       " 88496.19002733756,\n",
       " 89510.81872980252,\n",
       " 90384.27633503385,\n",
       " 71717.65494627687,\n",
       " 72740.80579816324,\n",
       " 73625.45531551162,\n",
       " 87764.42190090143,\n",
       " 88768.31138318025,\n",
       " 89631.02976822545,\n",
       " 80436.0556791079,\n",
       " 81442.13815834316,\n",
       " 82307.04954034483,\n",
       " 73818.33463371563,\n",
       " 74841.48548554073,\n",
       " 75726.13500282784,\n",
       " 74020.86300889302,\n",
       " 75050.49558294001,\n",
       " 75941.62682244899,\n",
       " 47842.1767972648,\n",
       " 49524.93967070473,\n",
       " 51105.494974966896,\n",
       " 60710.3205930454,\n",
       " 68702.27863738405,\n",
       " 70573.1804712302,\n",
       " 71631.43822924486,\n",
       " 72551.19465272152,\n",
       " 77767.90519408541,\n",
       " 70497.4999953424,\n",
       " 71546.10199350523,\n",
       " 72456.20265713007,\n",
       " 49537.566397106995,\n",
       " 50612.020649125734,\n",
       " 51551.16541458001,\n",
       " 66221.03277923376,\n",
       " 67247.69157489637,\n",
       " 68130.78845616206,\n",
       " 86428.35619233547,\n",
       " 87505.95430214875,\n",
       " 88448.24292540348,\n",
       " 74513.46732818191,\n",
       " 75596.17085823082,\n",
       " 76556.06649965941,\n",
       " 52741.92532104841,\n",
       " 53765.51750673994,\n",
       " 54645.54777806816,\n",
       " 60460.7158497336,\n",
       " 61410.6185767581,\n",
       " 62198.9412193737,\n",
       " 74613.21946764544,\n",
       " 75557.11356984031,\n",
       " 76335.64908403595,\n",
       " 88256.58229836482,\n",
       " 89647.41483355219,\n",
       " 90922.46721698817,\n",
       " 93073.71777752349,\n",
       " 94161.73201510558,\n",
       " 95126.93836406735,\n",
       " 77870.30805252788,\n",
       " 79261.14058782667,\n",
       " 80536.1929713425,\n",
       " 75271.40160554291,\n",
       " 76952.01308714395,\n",
       " 83040.11509419726,\n",
       " 79966.46510009332,\n",
       " 81691.27991208804,\n",
       " 83318.29077272094,\n",
       " 87836.18075165075,\n",
       " 89521.12595254576,\n",
       " 91108.26720207895,\n",
       " 89171.45052375612,\n",
       " 90842.3874842824,\n",
       " 92415.52049344685,\n",
       " 123566.13796457593,\n",
       " 125161.75390698944,\n",
       " 126667.35033505037,\n",
       " 161733.81003736248,\n",
       " ...]"
      ]
     },
     "execution_count": 30,
     "metadata": {},
     "output_type": "execute_result"
    }
   ],
   "source": [
    "ans_list"
   ]
  },
  {
   "cell_type": "code",
   "execution_count": 31,
   "id": "8cb58412",
   "metadata": {
    "execution": {
     "iopub.execute_input": "2025-02-13T13:16:49.194287Z",
     "iopub.status.busy": "2025-02-13T13:16:49.193955Z",
     "iopub.status.idle": "2025-02-13T13:16:49.199993Z",
     "shell.execute_reply": "2025-02-13T13:16:49.198854Z"
    },
    "papermill": {
     "duration": 0.293006,
     "end_time": "2025-02-13T13:16:49.201742",
     "exception": false,
     "start_time": "2025-02-13T13:16:48.908736",
     "status": "completed"
    },
    "tags": []
   },
   "outputs": [
    {
     "data": {
      "text/plain": [
       "15597"
      ]
     },
     "execution_count": 31,
     "metadata": {},
     "output_type": "execute_result"
    }
   ],
   "source": [
    "len(ans_list)"
   ]
  },
  {
   "cell_type": "markdown",
   "id": "13855289",
   "metadata": {
    "papermill": {
     "duration": 0.281414,
     "end_time": "2025-02-13T13:16:49.767614",
     "exception": false,
     "start_time": "2025-02-13T13:16:49.486200",
     "status": "completed"
    },
    "tags": []
   },
   "source": [
    "### Сохраняем предсказание и сабмитим"
   ]
  },
  {
   "cell_type": "code",
   "execution_count": 32,
   "id": "e07a932a",
   "metadata": {
    "execution": {
     "iopub.execute_input": "2025-02-13T13:16:50.393265Z",
     "iopub.status.busy": "2025-02-13T13:16:50.392926Z",
     "iopub.status.idle": "2025-02-13T13:16:50.403694Z",
     "shell.execute_reply": "2025-02-13T13:16:50.402657Z"
    },
    "papermill": {
     "duration": 0.35712,
     "end_time": "2025-02-13T13:16:50.405497",
     "exception": false,
     "start_time": "2025-02-13T13:16:50.048377",
     "status": "completed"
    },
    "tags": []
   },
   "outputs": [],
   "source": [
    "sab1 = pl.read_csv(r'/kaggle/input/ioai-2025-preparation-class-lesson-4-homework/sample_submission.csv')"
   ]
  },
  {
   "cell_type": "code",
   "execution_count": 33,
   "id": "3bbb88fc",
   "metadata": {
    "execution": {
     "iopub.execute_input": "2025-02-13T13:16:50.969055Z",
     "iopub.status.busy": "2025-02-13T13:16:50.968692Z",
     "iopub.status.idle": "2025-02-13T13:16:50.975024Z",
     "shell.execute_reply": "2025-02-13T13:16:50.974034Z"
    },
    "papermill": {
     "duration": 0.290578,
     "end_time": "2025-02-13T13:16:50.976608",
     "exception": false,
     "start_time": "2025-02-13T13:16:50.686030",
     "status": "completed"
    },
    "tags": []
   },
   "outputs": [],
   "source": [
    "sab1 = sab1.with_columns([\n",
    "    pl.Series('target', ans_list)\n",
    "])"
   ]
  },
  {
   "cell_type": "code",
   "execution_count": 34,
   "id": "c0e9f165",
   "metadata": {
    "execution": {
     "iopub.execute_input": "2025-02-13T13:16:51.604355Z",
     "iopub.status.busy": "2025-02-13T13:16:51.603995Z",
     "iopub.status.idle": "2025-02-13T13:16:51.615012Z",
     "shell.execute_reply": "2025-02-13T13:16:51.613966Z"
    },
    "papermill": {
     "duration": 0.357539,
     "end_time": "2025-02-13T13:16:51.616967",
     "exception": false,
     "start_time": "2025-02-13T13:16:51.259428",
     "status": "completed"
    },
    "tags": []
   },
   "outputs": [],
   "source": [
    "sab1.write_csv('submission.csv')"
   ]
  }
 ],
 "metadata": {
  "kaggle": {
   "accelerator": "none",
   "dataSources": [
    {
     "databundleVersionId": 11029200,
     "sourceId": 92556,
     "sourceType": "competition"
    }
   ],
   "isGpuEnabled": false,
   "isInternetEnabled": true,
   "language": "python",
   "sourceType": "notebook"
  },
  "kernelspec": {
   "display_name": "Python 3",
   "language": "python",
   "name": "python3"
  },
  "language_info": {
   "codemirror_mode": {
    "name": "ipython",
    "version": 3
   },
   "file_extension": ".py",
   "mimetype": "text/x-python",
   "name": "python",
   "nbconvert_exporter": "python",
   "pygments_lexer": "ipython3",
   "version": "3.10.12"
  },
  "papermill": {
   "default_parameters": {},
   "duration": 795.663037,
   "end_time": "2025-02-13T13:16:52.722242",
   "environment_variables": {},
   "exception": null,
   "input_path": "__notebook__.ipynb",
   "output_path": "__notebook__.ipynb",
   "parameters": {},
   "start_time": "2025-02-13T13:03:37.059205",
   "version": "2.6.0"
  }
 },
 "nbformat": 4,
 "nbformat_minor": 5
}
