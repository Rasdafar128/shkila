{
  "cells": [
    {
      "cell_type": "markdown",
      "id": "64d60d94",
      "metadata": {
        "id": "64d60d94"
      },
      "source": [
        "### Task: Sentiment Classification of Movie Reviews  \n"
      ]
    },
    {
      "cell_type": "markdown",
      "id": "MnFtJo_vQ7fd",
      "metadata": {
        "id": "MnFtJo_vQ7fd"
      },
      "source": [
        "Alice is a time traveler who visits different eras in the past to solve important missions. While there, she must always be careful to disguise herself so that no one will know she is from the future. This time, she joined an NLP company in 2014 year and was assigned the task of sentiment analysis on user reviews for movies. Help Alice with this task."
      ]
    },
    {
      "cell_type": "markdown",
      "id": "09CmnLTit1a0",
      "metadata": {
        "id": "09CmnLTit1a0"
      },
      "source": [
        "You need to solve sentiment classification task using the imdb movie review dataset. Each review is labeled as either positive (1) or negative (0), indicating its sentiment. You will be provided by basic LinearSVC classifier with TF-IDF features.\n",
        "\n",
        "You need to solve 3 tasks:\n",
        "\n",
        "1.   Task1: Text Preprocessing with spaCy (this is your baseline)\n",
        "2.   Task 2: Adding Part-of-Speech (POS) Features as a TF-IDF for Each POS Category\n",
        "3.   Task 3: Development of new features to improve classification accuracy\n",
        "\n",
        "**Note!** Do not change the classifier. Change only cells with TODO mark.\n",
        "\n"
      ]
    },
    {
      "cell_type": "code",
      "execution_count": null,
      "id": "995ac04c",
      "metadata": {
        "id": "995ac04c"
      },
      "outputs": [],
      "source": [
        "import os\n",
        "import random\n",
        "import re\n",
        "import numpy as np\n",
        "import pandas as pd\n",
        "import spacy\n",
        "\n",
        "import matplotlib.pyplot as plt\n",
        "import seaborn as sns\n",
        "\n",
        "from sklearn.feature_extraction.text import (\n",
        "    TfidfVectorizer,\n",
        "    CountVectorizer,\n",
        ")\n",
        "from sklearn.svm import LinearSVC\n",
        "from sklearn.metrics import accuracy_score, classification_report"
      ]
    },
    {
      "cell_type": "code",
      "execution_count": null,
      "id": "e83541ef",
      "metadata": {
        "id": "e83541ef"
      },
      "outputs": [],
      "source": [
        "os.environ[\"PYTHONHASHSEED\"] = str(42)\n",
        "\n",
        "random.seed(42)\n",
        "np.random.seed(42)"
      ]
    },
    {
      "cell_type": "markdown",
      "id": "e40afc00",
      "metadata": {
        "id": "e40afc00"
      },
      "source": [
        "### Loading the dataset"
      ]
    },
    {
      "cell_type": "code",
      "execution_count": null,
      "id": "4e_6CBdQXOD1",
      "metadata": {
        "colab": {
          "base_uri": "https://localhost:8080/"
        },
        "id": "4e_6CBdQXOD1",
        "outputId": "21c6427e-104f-417c-9439-8e2e6d304612"
      },
      "outputs": [
        {
          "output_type": "stream",
          "name": "stdout",
          "text": [
            "/usr/local/lib/python3.11/dist-packages/gdown/__main__.py:140: FutureWarning: Option `--id` was deprecated in version 4.3.1 and will be removed in 5.0. You don't need to pass it anymore to use a file ID.\n",
            "  warnings.warn(\n",
            "Downloading...\n",
            "From: https://drive.google.com/uc?id=1C6TIP8c33fHM6dxs6DoxJeKY6ZXGWpBx\n",
            "To: /content/imdb_train_hw1.csv\n",
            "100% 8.25M/8.25M [00:00<00:00, 27.7MB/s]\n",
            "/usr/local/lib/python3.11/dist-packages/gdown/__main__.py:140: FutureWarning: Option `--id` was deprecated in version 4.3.1 and will be removed in 5.0. You don't need to pass it anymore to use a file ID.\n",
            "  warnings.warn(\n",
            "Downloading...\n",
            "From: https://drive.google.com/uc?id=1K8WBFVVvVlsvIMRG8HiaFkldiyuNkLD2\n",
            "To: /content/imdb_test_hw1.csv\n",
            "100% 2.10M/2.10M [00:00<00:00, 151MB/s]\n"
          ]
        }
      ],
      "source": [
        "! gdown --id 1C6TIP8c33fHM6dxs6DoxJeKY6ZXGWpBx\n",
        "! gdown --id 1K8WBFVVvVlsvIMRG8HiaFkldiyuNkLD2"
      ]
    },
    {
      "cell_type": "code",
      "execution_count": null,
      "id": "808c6df4",
      "metadata": {
        "colab": {
          "base_uri": "https://localhost:8080/",
          "height": 206
        },
        "id": "808c6df4",
        "outputId": "74284f38-de23-422d-c76e-efa6bc0ca1ae"
      },
      "outputs": [
        {
          "output_type": "execute_result",
          "data": {
            "text/plain": [
              "      Unnamed: 0  label                                               text\n",
              "8681        8681      1  I noticed this movie was getting trashed well ...\n",
              "2362        2362      1  When it comes to creating a universe George Lu...\n",
              "6232        6232      0  \"National Treasure\" (2004) is a thoroughly mis...\n",
              "1318        1318      1  I must admit - the only reason I bought this m...\n",
              "543          543      1  Ten out of the 11 short films in this movie ar..."
            ],
            "text/html": [
              "\n",
              "  <div id=\"df-6cd17e86-9c2d-40c5-99f5-2b206f3c6a2f\" class=\"colab-df-container\">\n",
              "    <div>\n",
              "<style scoped>\n",
              "    .dataframe tbody tr th:only-of-type {\n",
              "        vertical-align: middle;\n",
              "    }\n",
              "\n",
              "    .dataframe tbody tr th {\n",
              "        vertical-align: top;\n",
              "    }\n",
              "\n",
              "    .dataframe thead th {\n",
              "        text-align: right;\n",
              "    }\n",
              "</style>\n",
              "<table border=\"1\" class=\"dataframe\">\n",
              "  <thead>\n",
              "    <tr style=\"text-align: right;\">\n",
              "      <th></th>\n",
              "      <th>Unnamed: 0</th>\n",
              "      <th>label</th>\n",
              "      <th>text</th>\n",
              "    </tr>\n",
              "  </thead>\n",
              "  <tbody>\n",
              "    <tr>\n",
              "      <th>8681</th>\n",
              "      <td>8681</td>\n",
              "      <td>1</td>\n",
              "      <td>I noticed this movie was getting trashed well ...</td>\n",
              "    </tr>\n",
              "    <tr>\n",
              "      <th>2362</th>\n",
              "      <td>2362</td>\n",
              "      <td>1</td>\n",
              "      <td>When it comes to creating a universe George Lu...</td>\n",
              "    </tr>\n",
              "    <tr>\n",
              "      <th>6232</th>\n",
              "      <td>6232</td>\n",
              "      <td>0</td>\n",
              "      <td>\"National Treasure\" (2004) is a thoroughly mis...</td>\n",
              "    </tr>\n",
              "    <tr>\n",
              "      <th>1318</th>\n",
              "      <td>1318</td>\n",
              "      <td>1</td>\n",
              "      <td>I must admit - the only reason I bought this m...</td>\n",
              "    </tr>\n",
              "    <tr>\n",
              "      <th>543</th>\n",
              "      <td>543</td>\n",
              "      <td>1</td>\n",
              "      <td>Ten out of the 11 short films in this movie ar...</td>\n",
              "    </tr>\n",
              "  </tbody>\n",
              "</table>\n",
              "</div>\n",
              "    <div class=\"colab-df-buttons\">\n",
              "\n",
              "  <div class=\"colab-df-container\">\n",
              "    <button class=\"colab-df-convert\" onclick=\"convertToInteractive('df-6cd17e86-9c2d-40c5-99f5-2b206f3c6a2f')\"\n",
              "            title=\"Convert this dataframe to an interactive table.\"\n",
              "            style=\"display:none;\">\n",
              "\n",
              "  <svg xmlns=\"http://www.w3.org/2000/svg\" height=\"24px\" viewBox=\"0 -960 960 960\">\n",
              "    <path d=\"M120-120v-720h720v720H120Zm60-500h600v-160H180v160Zm220 220h160v-160H400v160Zm0 220h160v-160H400v160ZM180-400h160v-160H180v160Zm440 0h160v-160H620v160ZM180-180h160v-160H180v160Zm440 0h160v-160H620v160Z\"/>\n",
              "  </svg>\n",
              "    </button>\n",
              "\n",
              "  <style>\n",
              "    .colab-df-container {\n",
              "      display:flex;\n",
              "      gap: 12px;\n",
              "    }\n",
              "\n",
              "    .colab-df-convert {\n",
              "      background-color: #E8F0FE;\n",
              "      border: none;\n",
              "      border-radius: 50%;\n",
              "      cursor: pointer;\n",
              "      display: none;\n",
              "      fill: #1967D2;\n",
              "      height: 32px;\n",
              "      padding: 0 0 0 0;\n",
              "      width: 32px;\n",
              "    }\n",
              "\n",
              "    .colab-df-convert:hover {\n",
              "      background-color: #E2EBFA;\n",
              "      box-shadow: 0px 1px 2px rgba(60, 64, 67, 0.3), 0px 1px 3px 1px rgba(60, 64, 67, 0.15);\n",
              "      fill: #174EA6;\n",
              "    }\n",
              "\n",
              "    .colab-df-buttons div {\n",
              "      margin-bottom: 4px;\n",
              "    }\n",
              "\n",
              "    [theme=dark] .colab-df-convert {\n",
              "      background-color: #3B4455;\n",
              "      fill: #D2E3FC;\n",
              "    }\n",
              "\n",
              "    [theme=dark] .colab-df-convert:hover {\n",
              "      background-color: #434B5C;\n",
              "      box-shadow: 0px 1px 3px 1px rgba(0, 0, 0, 0.15);\n",
              "      filter: drop-shadow(0px 1px 2px rgba(0, 0, 0, 0.3));\n",
              "      fill: #FFFFFF;\n",
              "    }\n",
              "  </style>\n",
              "\n",
              "    <script>\n",
              "      const buttonEl =\n",
              "        document.querySelector('#df-6cd17e86-9c2d-40c5-99f5-2b206f3c6a2f button.colab-df-convert');\n",
              "      buttonEl.style.display =\n",
              "        google.colab.kernel.accessAllowed ? 'block' : 'none';\n",
              "\n",
              "      async function convertToInteractive(key) {\n",
              "        const element = document.querySelector('#df-6cd17e86-9c2d-40c5-99f5-2b206f3c6a2f');\n",
              "        const dataTable =\n",
              "          await google.colab.kernel.invokeFunction('convertToInteractive',\n",
              "                                                    [key], {});\n",
              "        if (!dataTable) return;\n",
              "\n",
              "        const docLinkHtml = 'Like what you see? Visit the ' +\n",
              "          '<a target=\"_blank\" href=https://colab.research.google.com/notebooks/data_table.ipynb>data table notebook</a>'\n",
              "          + ' to learn more about interactive tables.';\n",
              "        element.innerHTML = '';\n",
              "        dataTable['output_type'] = 'display_data';\n",
              "        await google.colab.output.renderOutput(dataTable, element);\n",
              "        const docLink = document.createElement('div');\n",
              "        docLink.innerHTML = docLinkHtml;\n",
              "        element.appendChild(docLink);\n",
              "      }\n",
              "    </script>\n",
              "  </div>\n",
              "\n",
              "\n",
              "<div id=\"df-d68e2f76-dd3e-42b3-8da1-d840e41ec249\">\n",
              "  <button class=\"colab-df-quickchart\" onclick=\"quickchart('df-d68e2f76-dd3e-42b3-8da1-d840e41ec249')\"\n",
              "            title=\"Suggest charts\"\n",
              "            style=\"display:none;\">\n",
              "\n",
              "<svg xmlns=\"http://www.w3.org/2000/svg\" height=\"24px\"viewBox=\"0 0 24 24\"\n",
              "     width=\"24px\">\n",
              "    <g>\n",
              "        <path d=\"M19 3H5c-1.1 0-2 .9-2 2v14c0 1.1.9 2 2 2h14c1.1 0 2-.9 2-2V5c0-1.1-.9-2-2-2zM9 17H7v-7h2v7zm4 0h-2V7h2v10zm4 0h-2v-4h2v4z\"/>\n",
              "    </g>\n",
              "</svg>\n",
              "  </button>\n",
              "\n",
              "<style>\n",
              "  .colab-df-quickchart {\n",
              "      --bg-color: #E8F0FE;\n",
              "      --fill-color: #1967D2;\n",
              "      --hover-bg-color: #E2EBFA;\n",
              "      --hover-fill-color: #174EA6;\n",
              "      --disabled-fill-color: #AAA;\n",
              "      --disabled-bg-color: #DDD;\n",
              "  }\n",
              "\n",
              "  [theme=dark] .colab-df-quickchart {\n",
              "      --bg-color: #3B4455;\n",
              "      --fill-color: #D2E3FC;\n",
              "      --hover-bg-color: #434B5C;\n",
              "      --hover-fill-color: #FFFFFF;\n",
              "      --disabled-bg-color: #3B4455;\n",
              "      --disabled-fill-color: #666;\n",
              "  }\n",
              "\n",
              "  .colab-df-quickchart {\n",
              "    background-color: var(--bg-color);\n",
              "    border: none;\n",
              "    border-radius: 50%;\n",
              "    cursor: pointer;\n",
              "    display: none;\n",
              "    fill: var(--fill-color);\n",
              "    height: 32px;\n",
              "    padding: 0;\n",
              "    width: 32px;\n",
              "  }\n",
              "\n",
              "  .colab-df-quickchart:hover {\n",
              "    background-color: var(--hover-bg-color);\n",
              "    box-shadow: 0 1px 2px rgba(60, 64, 67, 0.3), 0 1px 3px 1px rgba(60, 64, 67, 0.15);\n",
              "    fill: var(--button-hover-fill-color);\n",
              "  }\n",
              "\n",
              "  .colab-df-quickchart-complete:disabled,\n",
              "  .colab-df-quickchart-complete:disabled:hover {\n",
              "    background-color: var(--disabled-bg-color);\n",
              "    fill: var(--disabled-fill-color);\n",
              "    box-shadow: none;\n",
              "  }\n",
              "\n",
              "  .colab-df-spinner {\n",
              "    border: 2px solid var(--fill-color);\n",
              "    border-color: transparent;\n",
              "    border-bottom-color: var(--fill-color);\n",
              "    animation:\n",
              "      spin 1s steps(1) infinite;\n",
              "  }\n",
              "\n",
              "  @keyframes spin {\n",
              "    0% {\n",
              "      border-color: transparent;\n",
              "      border-bottom-color: var(--fill-color);\n",
              "      border-left-color: var(--fill-color);\n",
              "    }\n",
              "    20% {\n",
              "      border-color: transparent;\n",
              "      border-left-color: var(--fill-color);\n",
              "      border-top-color: var(--fill-color);\n",
              "    }\n",
              "    30% {\n",
              "      border-color: transparent;\n",
              "      border-left-color: var(--fill-color);\n",
              "      border-top-color: var(--fill-color);\n",
              "      border-right-color: var(--fill-color);\n",
              "    }\n",
              "    40% {\n",
              "      border-color: transparent;\n",
              "      border-right-color: var(--fill-color);\n",
              "      border-top-color: var(--fill-color);\n",
              "    }\n",
              "    60% {\n",
              "      border-color: transparent;\n",
              "      border-right-color: var(--fill-color);\n",
              "    }\n",
              "    80% {\n",
              "      border-color: transparent;\n",
              "      border-right-color: var(--fill-color);\n",
              "      border-bottom-color: var(--fill-color);\n",
              "    }\n",
              "    90% {\n",
              "      border-color: transparent;\n",
              "      border-bottom-color: var(--fill-color);\n",
              "    }\n",
              "  }\n",
              "</style>\n",
              "\n",
              "  <script>\n",
              "    async function quickchart(key) {\n",
              "      const quickchartButtonEl =\n",
              "        document.querySelector('#' + key + ' button');\n",
              "      quickchartButtonEl.disabled = true;  // To prevent multiple clicks.\n",
              "      quickchartButtonEl.classList.add('colab-df-spinner');\n",
              "      try {\n",
              "        const charts = await google.colab.kernel.invokeFunction(\n",
              "            'suggestCharts', [key], {});\n",
              "      } catch (error) {\n",
              "        console.error('Error during call to suggestCharts:', error);\n",
              "      }\n",
              "      quickchartButtonEl.classList.remove('colab-df-spinner');\n",
              "      quickchartButtonEl.classList.add('colab-df-quickchart-complete');\n",
              "    }\n",
              "    (() => {\n",
              "      let quickchartButtonEl =\n",
              "        document.querySelector('#df-d68e2f76-dd3e-42b3-8da1-d840e41ec249 button');\n",
              "      quickchartButtonEl.style.display =\n",
              "        google.colab.kernel.accessAllowed ? 'block' : 'none';\n",
              "    })();\n",
              "  </script>\n",
              "</div>\n",
              "\n",
              "    </div>\n",
              "  </div>\n"
            ],
            "application/vnd.google.colaboratory.intrinsic+json": {
              "type": "dataframe",
              "summary": "{\n  \"name\": \"df_train\",\n  \"rows\": 5,\n  \"fields\": [\n    {\n      \"column\": \"Unnamed: 0\",\n      \"properties\": {\n        \"dtype\": \"number\",\n        \"std\": 3484,\n        \"min\": 543,\n        \"max\": 8681,\n        \"num_unique_values\": 5,\n        \"samples\": [\n          2362,\n          543,\n          6232\n        ],\n        \"semantic_type\": \"\",\n        \"description\": \"\"\n      }\n    },\n    {\n      \"column\": \"label\",\n      \"properties\": {\n        \"dtype\": \"number\",\n        \"std\": 0,\n        \"min\": 0,\n        \"max\": 1,\n        \"num_unique_values\": 2,\n        \"samples\": [\n          0,\n          1\n        ],\n        \"semantic_type\": \"\",\n        \"description\": \"\"\n      }\n    },\n    {\n      \"column\": \"text\",\n      \"properties\": {\n        \"dtype\": \"string\",\n        \"num_unique_values\": 5,\n        \"samples\": [\n          \"When it comes to creating a universe George Lucas is the undisputed master and his final Star Wars film is very, very good (and more appropriately rated in comparison to the two previous films in the original saga). Having recently seen Revenge of the Sith really puts this movie in perspective. The final battle seems even more climactic knowing what Anakin Skywalker went through at the manipulative hands of the Emperor. It also makes the final battle between Luke and Vader more bitter considering the love he felt for Padm\\u00e9 and the love she felt for her children. Actually while the new films (especially Episode II) are inferior to the original films they are good for one reason only.\",\n          \"Ten out of the 11 short films in this movie are masterpieces (I found only the Egyptian one disappointing). Stragely, all but the Mexican director chose to portray the problems of individuals or groups in connection with 9-11: the Afghan refugees, deaf people, Palestinians, the widows of Srebrenica, AIDS and poverty and corruption in Africa, Pinochets coup and ensuing bloodbath, suicide bombings in Israel, paranoia-hit and state-persecuted Muslim Americans in the USA, old people living alone, and the aftermath of WWII in the hearts of Asian soldiers. This might say something sad about the limits of empathy, in both ways: the directors might feel that Americans ignore the pains of the rest of the world and only care about their own tragedies, while they effectively do the same with their short films.<br /><br />Surprising myself, I found Sean Penn's piece one of the very best in the collection, and ***SPOILER AHEAD*** I also guess his portrayal of Ernest Borgnine as a half-crazy old man vegetating in a New York flat experiencing his widow life's happiest moment when the Sun shines through his window after the WTC \\\"collapsed out of light's way\\\", I guess this might also be one of the most offending as the general American audience would see it.\"\n        ],\n        \"semantic_type\": \"\",\n        \"description\": \"\"\n      }\n    }\n  ]\n}"
            }
          },
          "metadata": {},
          "execution_count": 4
        }
      ],
      "source": [
        "df_train = pd.read_csv(\"imdb_train_hw1.csv\")\n",
        "df_test = pd.read_csv(\"imdb_test_hw1.csv\")\n",
        "df_train.sample(5)"
      ]
    },
    {
      "cell_type": "code",
      "execution_count": null,
      "id": "MkhanC2f0J5t",
      "metadata": {
        "id": "MkhanC2f0J5t"
      },
      "outputs": [],
      "source": [
        "y_train = df_train[\"label\"]\n",
        "y_test = df_test[\"label\"]"
      ]
    },
    {
      "cell_type": "markdown",
      "id": "fe84f9a2",
      "metadata": {
        "id": "fe84f9a2"
      },
      "source": [
        "Since the classes in our dataset are nearly balanced, we can use accuracy as the evaluation metric. Accuracy provides a straightforward measure of how well the model classifies reviews correctly across both sentiment classes.  \n",
        "\n",
        "However, we will consider the F1-score for a more detailed performance assessment. Even with balanced classes, the model might still be biased towards one class due to feature distributions (e.g., it may predict negative reviews more confidently than positive ones).  \n",
        "\n",
        "The F1-score, which is the harmonic mean of precision and recall, helps us identify such imbalances. It ensures that both false positives and false negatives are accounted for, providing a better understanding of how well the model performs on each sentiment class."
      ]
    },
    {
      "cell_type": "markdown",
      "id": "8cb026b8",
      "metadata": {
        "id": "8cb026b8"
      },
      "source": [
        "## 0. LinearSVC with TF-IDF Features  \n",
        "\n",
        "We will now train a LinearSVC model using TF-IDF (Term Frequency-Inverse Document Frequency) as features."
      ]
    },
    {
      "cell_type": "code",
      "execution_count": null,
      "id": "ad2e6298",
      "metadata": {
        "id": "ad2e6298"
      },
      "outputs": [],
      "source": [
        "vectorizer = TfidfVectorizer()\n",
        "X_train_tfidf = vectorizer.fit_transform(df_train[\"text\"])\n",
        "X_test_tfidf = vectorizer.transform(df_test[\"text\"])"
      ]
    },
    {
      "cell_type": "code",
      "execution_count": null,
      "id": "9967a971",
      "metadata": {
        "id": "9967a971"
      },
      "outputs": [],
      "source": [
        "y_train = df_train[\"label\"]\n",
        "y_test = df_test[\"label\"]"
      ]
    },
    {
      "cell_type": "code",
      "execution_count": null,
      "id": "fcdbbec5",
      "metadata": {
        "colab": {
          "base_uri": "https://localhost:8080/"
        },
        "id": "fcdbbec5",
        "outputId": "a5203a5c-d349-4158-dfa6-8d6be822a544"
      },
      "outputs": [
        {
          "output_type": "stream",
          "name": "stdout",
          "text": [
            "Accuracy (TF-IDF): 0.841747984726347\n",
            "              precision    recall  f1-score   support\n",
            "\n",
            "           0       0.85      0.84      0.85      1213\n",
            "           1       0.83      0.84      0.84      1144\n",
            "\n",
            "    accuracy                           0.84      2357\n",
            "   macro avg       0.84      0.84      0.84      2357\n",
            "weighted avg       0.84      0.84      0.84      2357\n",
            "\n"
          ]
        }
      ],
      "source": [
        "model = LinearSVC(random_state=42)\n",
        "model.fit(X_train_tfidf, y_train)\n",
        "y_pred = model.predict(X_test_tfidf)\n",
        "print(\"Accuracy (TF-IDF):\", accuracy_score(y_test, y_pred))\n",
        "print(classification_report(y_test, y_pred))"
      ]
    },
    {
      "cell_type": "markdown",
      "id": "411df717",
      "metadata": {
        "id": "411df717"
      },
      "source": [
        "The model's accuracy using TF-IDF is 0.8417 (84.17%) this our **baseline result**."
      ]
    },
    {
      "cell_type": "markdown",
      "id": "1028a21b",
      "metadata": {
        "id": "1028a21b"
      },
      "source": [
        "## Task1: Text Preprocessing with spaCy\n",
        "\n",
        "Lemmatize original review texts with [spacy ](https://spacy.io/usage/linguistic-features#lemmatization)library.\n",
        "With spacy remove:\n",
        "\n",
        "*   stop words\n",
        "*   punctuation\n",
        "*   digits\n",
        "*   emails\n",
        "*   numbers\n",
        "*   empty word\n",
        "\n",
        "Train classifier with a new tf-idf representation of text. Obtain baseline classification metrics."
      ]
    },
    {
      "cell_type": "code",
      "execution_count": null,
      "id": "5BLYq7cYjbOF",
      "metadata": {
        "id": "5BLYq7cYjbOF"
      },
      "outputs": [],
      "source": [
        "import spacy\n",
        "import re\n",
        "import spacy\n",
        "from spacy.lang.en.stop_words import STOP_WORDS\n",
        "import re\n",
        "import string"
      ]
    },
    {
      "cell_type": "code",
      "source": [
        "nlp = spacy.load(\"en_core_web_sm\")"
      ],
      "metadata": {
        "id": "4ZzHpOhw4M2q"
      },
      "id": "4ZzHpOhw4M2q",
      "execution_count": null,
      "outputs": []
    },
    {
      "cell_type": "code",
      "execution_count": null,
      "id": "bc0fe2f6",
      "metadata": {
        "id": "bc0fe2f6"
      },
      "outputs": [],
      "source": [
        "def clean_text(text):\n",
        "    text = re.sub(r'\\S+@\\S+', '', text)\n",
        "\n",
        "    text = re.sub(r'\\d+', '', text)\n",
        "\n",
        "    text = text.translate(str.maketrans('', '', string.punctuation))\n",
        "\n",
        "    doc = nlp(text)\n",
        "\n",
        "    tokens = []\n",
        "    for token in doc:\n",
        "        if (\n",
        "            token.is_stop == False and\n",
        "            token.is_punct == False and\n",
        "            token.like_num == False and\n",
        "            token.is_space == False and\n",
        "            token.text.strip() != ''\n",
        "        ):\n",
        "            tokens.append(token.lemma_.lower())\n",
        "\n",
        "    return ' '.join(tokens)\n"
      ]
    },
    {
      "cell_type": "code",
      "execution_count": null,
      "id": "xvM8lHncjqoN",
      "metadata": {
        "id": "xvM8lHncjqoN"
      },
      "outputs": [],
      "source": [
        "from tqdm import tqdm\n",
        "tqdm.pandas()"
      ]
    },
    {
      "cell_type": "code",
      "execution_count": null,
      "id": "8bb510b1",
      "metadata": {
        "colab": {
          "base_uri": "https://localhost:8080/"
        },
        "id": "8bb510b1",
        "outputId": "63422e3e-04be-4f7e-89a8-ef0d580c9887"
      },
      "outputs": [
        {
          "output_type": "stream",
          "name": "stderr",
          "text": [
            "100%|██████████| 9427/9427 [06:14<00:00, 25.21it/s]\n",
            "100%|██████████| 2357/2357 [01:26<00:00, 27.22it/s]\n"
          ]
        }
      ],
      "source": [
        "df_train[\"text_lemmatized\"] = df_train[\"text\"].progress_apply(clean_text)\n",
        "df_test[\"text_lemmatized\"] = df_test[\"text\"].progress_apply(clean_text)"
      ]
    },
    {
      "cell_type": "code",
      "execution_count": null,
      "id": "7w29T0tokQcC",
      "metadata": {
        "id": "7w29T0tokQcC"
      },
      "outputs": [],
      "source": [
        "tfidf_vectorizer = TfidfVectorizer()"
      ]
    },
    {
      "cell_type": "code",
      "execution_count": null,
      "id": "c29cf065",
      "metadata": {
        "id": "c29cf065"
      },
      "outputs": [],
      "source": [
        "# TODO get tf-idf vectors for your lemmatized texts\n",
        "\n",
        "X_train_tfidf_lemmatized = tfidf_vectorizer.fit_transform(df_train['text_lemmatized'])\n",
        "X_test_tfidf_lemmatized = tfidf_vectorizer.transform(df_test['text_lemmatized'])"
      ]
    },
    {
      "cell_type": "code",
      "execution_count": null,
      "id": "e1a5e75a",
      "metadata": {
        "colab": {
          "base_uri": "https://localhost:8080/"
        },
        "id": "e1a5e75a",
        "outputId": "122f47aa-cf6b-40c9-e8bc-b407b21a1c1f"
      },
      "outputs": [
        {
          "output_type": "stream",
          "name": "stdout",
          "text": [
            "Accuracy (TF-IDF): 0.841747984726347\n"
          ]
        }
      ],
      "source": [
        "model = LinearSVC(random_state=42)\n",
        "model.fit(X_train_tfidf_lemmatized, y_train)\n",
        "y_pred = model.predict(X_test_tfidf_lemmatized)\n",
        "print(\"Accuracy (TF-IDF):\", accuracy_score(y_test, y_pred))"
      ]
    },
    {
      "cell_type": "code",
      "execution_count": null,
      "id": "zsCRMmmDmFGm",
      "metadata": {
        "colab": {
          "base_uri": "https://localhost:8080/"
        },
        "id": "zsCRMmmDmFGm",
        "outputId": "4370b436-8ddd-445e-a7fe-66cedef25df4"
      },
      "outputs": [
        {
          "output_type": "stream",
          "name": "stdout",
          "text": [
            "              precision    recall  f1-score   support\n",
            "\n",
            "           0       0.85      0.84      0.85      1213\n",
            "           1       0.84      0.84      0.84      1144\n",
            "\n",
            "    accuracy                           0.84      2357\n",
            "   macro avg       0.84      0.84      0.84      2357\n",
            "weighted avg       0.84      0.84      0.84      2357\n",
            "\n"
          ]
        }
      ],
      "source": [
        "print(classification_report(y_test, y_pred))"
      ]
    },
    {
      "cell_type": "markdown",
      "id": "5itZ2DUtzUJ5",
      "metadata": {
        "id": "5itZ2DUtzUJ5"
      },
      "source": [
        "This is your **baseline** metrics!"
      ]
    },
    {
      "cell_type": "markdown",
      "id": "72baffa9",
      "metadata": {
        "id": "72baffa9"
      },
      "source": [
        "## Task 2: Adding Part-of-Speech (POS) Features as a TF-IDF for Each POS Category\n",
        "\n",
        "For each text add part-of-speach (pos) tags as feature in TF-IDF manner. Use Spacy to get pos tag features. Combine them with lemmatized tf-idf features, obtained in the Task1.\n",
        "\n",
        "For example, if you have two sentences with following tf-idf vectors:\n",
        "\n",
        "1.   sent1: \"The cat sat on the mat.\" -> [0.63, 0.44, 0.31, 0.31, 0.44, 0, 0]\n",
        "2.   sent2: \"The dog sat on the floor. \" -> [0.63, 0, 0.31, 0.31, 0, 0.44, 0.44]\n",
        "\n",
        "And you obtained the following pos tag features (with dictionary {'det': 1, 'noun': 2, 'verb': 3, 'adp': 0}):\n",
        "\n",
        "*   sent1: [0.63, 0.63, 0.31, 0.31]\n",
        "*   sent2: [0.63, 0.63, 0.31, 0.31]\n",
        "\n",
        "\n",
        "Then final representation should be:\n",
        "\n",
        "*   sent1: [0.63, 0.44, 0.31, 0.31, 0.44, 0, 0, 0.63, 0.63, 0.31, 0.31]\n",
        "*   sent2: [0.63, 0, 0.31, 0.31, 0, 0.44, 0.44, 0.63, 0.63, 0.31, 0.31]\n",
        "\n",
        "**Note!** Do not use pos tags punctuation and empty words"
      ]
    },
    {
      "cell_type": "code",
      "execution_count": null,
      "id": "RHDCALncnL6X",
      "metadata": {
        "id": "RHDCALncnL6X"
      },
      "outputs": [],
      "source": [
        "from sklearn.feature_extraction.text import CountVectorizer, TfidfTransformer\n",
        "from scipy.sparse import hstack\n",
        "import re"
      ]
    },
    {
      "cell_type": "code",
      "source": [
        "# Load spaCy model\n",
        "nlp = spacy.load(\"en_core_web_sm\")"
      ],
      "metadata": {
        "id": "w_uG_mRE41YP"
      },
      "id": "w_uG_mRE41YP",
      "execution_count": null,
      "outputs": []
    },
    {
      "cell_type": "code",
      "execution_count": null,
      "id": "KjuTut0a1Y9H",
      "metadata": {
        "id": "KjuTut0a1Y9H"
      },
      "outputs": [],
      "source": [
        "def extract_pos_tags(text):\n",
        "    doc = nlp(text)\n",
        "    pos_tags = []\n",
        "    for token in doc:\n",
        "        if token.pos_ not in [\"PUNCT\", \"SPACE\"]:  # исключаем пунктуацию и пробелы\n",
        "            pos_tags.append(token.pos_.lower())    # приводим к нижнему регистру\n",
        "    return \" \".join(pos_tags)"
      ]
    },
    {
      "cell_type": "code",
      "execution_count": null,
      "id": "1f0d0af0",
      "metadata": {
        "colab": {
          "base_uri": "https://localhost:8080/"
        },
        "id": "1f0d0af0",
        "outputId": "608ea5fa-2873-4f05-dd74-c3f73916bc46"
      },
      "outputs": [
        {
          "output_type": "stream",
          "name": "stderr",
          "text": [
            "100%|██████████| 9427/9427 [06:13<00:00, 25.25it/s]\n",
            "100%|██████████| 2357/2357 [01:36<00:00, 24.44it/s]\n"
          ]
        }
      ],
      "source": [
        "df_train[\"pos_text\"] = df_train[\"text\"].progress_apply(extract_pos_tags)\n",
        "df_test[\"pos_text\"] = df_test[\"text\"].progress_apply(extract_pos_tags)"
      ]
    },
    {
      "cell_type": "markdown",
      "id": "674b790b",
      "metadata": {
        "id": "674b790b"
      },
      "source": [
        "We need to bring the features obtained by CountVectorizer for POS tags to the same scale as TF-IDF. The easiest way is to apply TfidfTransformer to the CountVectorizer result."
      ]
    },
    {
      "cell_type": "code",
      "execution_count": null,
      "id": "410ed982",
      "metadata": {
        "id": "410ed982"
      },
      "outputs": [],
      "source": [
        "lemm_tfidf_vectorizer = TfidfVectorizer()\n",
        "\n",
        "X_train_tfidf_lemmatized = lemm_tfidf_vectorizer.fit_transform(df_train[\"text_lemmatized\"])\n",
        "X_test_tfidf_lemmatized = lemm_tfidf_vectorizer.transform(df_test[\"text_lemmatized\"])\n",
        "\n",
        "pos_tfidf_vectorizer = TfidfVectorizer()\n",
        "\n",
        "X_train_pos_tfidf = pos_tfidf_vectorizer.fit_transform(df_train[\"pos_text\"])\n",
        "X_test_pos_tfidf = pos_tfidf_vectorizer.transform(df_test[\"pos_text\"])\n",
        "\n",
        "\n",
        "X_train_combined = hstack([X_train_tfidf_lemmatized, X_train_pos_tfidf])\n",
        "X_test_combined = hstack([X_test_tfidf_lemmatized, X_test_pos_tfidf])"
      ]
    },
    {
      "cell_type": "code",
      "execution_count": null,
      "id": "3e5b908f",
      "metadata": {
        "colab": {
          "base_uri": "https://localhost:8080/"
        },
        "id": "3e5b908f",
        "outputId": "09721a58-4bd0-46b0-f669-367dde608687"
      },
      "outputs": [
        {
          "output_type": "stream",
          "name": "stdout",
          "text": [
            "Accuracy (tf-idf + POS): 0.8408994484514213\n"
          ]
        }
      ],
      "source": [
        "lr_combined = LinearSVC(random_state=42)\n",
        "lr_combined.fit(X_train_combined, y_train)\n",
        "y_pred_combined = lr_combined.predict(X_test_combined)\n",
        "\n",
        "print(\"Accuracy (tf-idf + POS):\", accuracy_score(y_test, y_pred_combined))"
      ]
    },
    {
      "cell_type": "markdown",
      "id": "378c0cd7",
      "metadata": {
        "id": "378c0cd7"
      },
      "source": [
        "## Task 3: Development of new features to improve classification accuracy\n",
        "\n",
        "Come up with another feature or set of features and help Alice improve the quality. Remember that Alice is in the past and does not have access to any . Additional training data cannot be used either. You can use third-party resources to generate features.\n",
        "\n",
        "Compare with result of your **baseline** from the Task 1. Any improvement will be counted. Use X_train_tfidf_lemmatized and X_test_tfidf_lemmatized, add combine your features with them as in task 2."
      ]
    },
    {
      "cell_type": "code",
      "execution_count": null,
      "id": "vSXv61eH4G9e",
      "metadata": {
        "id": "vSXv61eH4G9e",
        "colab": {
          "base_uri": "https://localhost:8080/"
        },
        "outputId": "571d8bac-3268-4854-bdcc-f41b3d04e808"
      },
      "outputs": [
        {
          "output_type": "stream",
          "name": "stderr",
          "text": [
            "[nltk_data] Downloading package punkt to /root/nltk_data...\n",
            "[nltk_data]   Package punkt is already up-to-date!\n",
            "[nltk_data] Downloading package stopwords to /root/nltk_data...\n",
            "[nltk_data]   Package stopwords is already up-to-date!\n",
            "[nltk_data] Downloading package punkt_tab to /root/nltk_data...\n",
            "[nltk_data]   Package punkt_tab is already up-to-date!\n"
          ]
        }
      ],
      "source": [
        "import numpy as np\n",
        "import re\n",
        "import nltk\n",
        "from nltk.corpus import stopwords\n",
        "from nltk import word_tokenize, sent_tokenize\n",
        "\n",
        "nltk.download('punkt')\n",
        "nltk.download('stopwords')\n",
        "nltk.download('punkt_tab')\n",
        "\n",
        "stop_words = set(stopwords.words('english'))\n",
        "\n",
        "def get_custom_feature(text):\n",
        "    words = word_tokenize(text)\n",
        "    sentences = sent_tokenize(text)\n",
        "\n",
        "    word_count = len(words)\n",
        "    char_count = sum(len(word) for word in words)\n",
        "    avg_word_length = char_count / word_count if word_count > 0 else 0\n",
        "    unique_word_count = len(set(words))\n",
        "    lexical_diversity = unique_word_count / word_count if word_count > 0 else 0\n",
        "\n",
        "    sentence_count = len(sentences)\n",
        "\n",
        "    punctuation_count = len(re.findall(r'[^\\w\\s]', text))\n",
        "\n",
        "    uppercase_words = sum(1 for word in words if word.isupper())\n",
        "    uppercase_ratio = uppercase_words / word_count if word_count > 0 else 0\n",
        "\n",
        "    stopword_count = sum(1 for word in words if word.lower() in stop_words)\n",
        "    stopword_ratio = stopword_count / word_count if word_count > 0 else 0\n",
        "\n",
        "    return [\n",
        "        word_count,\n",
        "        sentence_count,\n",
        "        avg_word_length,\n",
        "        char_count,\n",
        "        unique_word_count,\n",
        "        lexical_diversity,\n",
        "        punctuation_count,\n",
        "        uppercase_ratio,\n",
        "        stopword_ratio\n",
        "    ]\n"
      ]
    },
    {
      "cell_type": "code",
      "execution_count": null,
      "id": "2cc902b8",
      "metadata": {
        "colab": {
          "base_uri": "https://localhost:8080/"
        },
        "id": "2cc902b8",
        "outputId": "3cf66579-2969-4b47-8cb1-60f037f450fb"
      },
      "outputs": [
        {
          "output_type": "stream",
          "name": "stderr",
          "text": [
            "100%|██████████| 9427/9427 [00:17<00:00, 552.27it/s]\n",
            "100%|██████████| 2357/2357 [00:03<00:00, 645.25it/s]\n"
          ]
        }
      ],
      "source": [
        "# Получаем фичи для каждого текста в обучающей и тестовой выборках\n",
        "X_train_custom = np.array(df_train['text'].progress_apply(get_custom_feature).tolist())\n",
        "X_test_custom = np.array(df_test['text'].progress_apply(get_custom_feature).tolist())\n"
      ]
    },
    {
      "cell_type": "code",
      "execution_count": null,
      "id": "srVYxbjvpWdh",
      "metadata": {
        "id": "srVYxbjvpWdh"
      },
      "outputs": [],
      "source": [
        "X_train_combined = hstack([X_train_tfidf_lemmatized, X_train_custom])\n",
        "X_test_combined = hstack([X_test_tfidf_lemmatized, X_test_custom])\n"
      ]
    },
    {
      "cell_type": "code",
      "execution_count": null,
      "id": "eb4d8a6b",
      "metadata": {
        "colab": {
          "base_uri": "https://localhost:8080/"
        },
        "id": "eb4d8a6b",
        "outputId": "cc2bfbdd-dbde-4b65-bee3-8f4e05b9d4ac"
      },
      "outputs": [
        {
          "output_type": "stream",
          "name": "stdout",
          "text": [
            "Accuracy (tf-idf + Custom feature): 0.9681798896902842\n"
          ]
        },
        {
          "output_type": "stream",
          "name": "stderr",
          "text": [
            "/usr/local/lib/python3.11/dist-packages/sklearn/svm/_base.py:1249: ConvergenceWarning: Liblinear failed to converge, increase the number of iterations.\n",
            "  warnings.warn(\n"
          ]
        }
      ],
      "source": [
        "lr_combined = LinearSVC(random_state=42)\n",
        "lr_combined.fit(X_train_combined, y_train)\n",
        "y_pred_combined = lr_combined.predict(X_test_combined)\n",
        "\n",
        "print(\"Accuracy (tf-idf + Custom feature):\", accuracy_score(y_test, y_pred_combined))"
      ]
    }
  ],
  "metadata": {
    "colab": {
      "provenance": []
    },
    "kernelspec": {
      "display_name": "Python 3",
      "language": "python",
      "name": "python3"
    },
    "language_info": {
      "codemirror_mode": {
        "name": "ipython",
        "version": 3
      },
      "file_extension": ".py",
      "mimetype": "text/x-python",
      "name": "python",
      "nbconvert_exporter": "python",
      "pygments_lexer": "ipython3",
      "version": "3.11.8"
    }
  },
  "nbformat": 4,
  "nbformat_minor": 5
}