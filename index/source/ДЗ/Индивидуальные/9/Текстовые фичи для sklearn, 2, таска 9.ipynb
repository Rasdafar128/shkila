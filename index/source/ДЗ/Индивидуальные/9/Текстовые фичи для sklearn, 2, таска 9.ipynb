{
  "nbformat": 4,
  "nbformat_minor": 0,
  "metadata": {
    "accelerator": "GPU",
    "colab": {
      "provenance": []
    },
    "kernelspec": {
      "display_name": "Python 3",
      "language": "python",
      "name": "python3"
    },
    "language_info": {
      "codemirror_mode": {
        "name": "ipython",
        "version": 3
      },
      "file_extension": ".py",
      "mimetype": "text/x-python",
      "name": "python",
      "nbconvert_exporter": "python",
      "pygments_lexer": "ipython3",
      "version": "3.5.2"
    },
    "widgets": {
      "application/vnd.jupyter.widget-state+json": {
        "79c8c68a2f5f42f88d0811783012ecc4": {
          "model_module": "@jupyter-widgets/controls",
          "model_name": "HBoxModel",
          "model_module_version": "1.5.0",
          "state": {
            "_dom_classes": [],
            "_model_module": "@jupyter-widgets/controls",
            "_model_module_version": "1.5.0",
            "_model_name": "HBoxModel",
            "_view_count": null,
            "_view_module": "@jupyter-widgets/controls",
            "_view_module_version": "1.5.0",
            "_view_name": "HBoxView",
            "box_style": "",
            "children": [
              "IPY_MODEL_569eeae0582f44a0998d756c0e3c1bdf",
              "IPY_MODEL_6ae79f08e89b47949ec30dc6e3739a90",
              "IPY_MODEL_0f1a679090bb463da24f625aa58ad953"
            ],
            "layout": "IPY_MODEL_8e2fe3f9229b4b55b6453a0f617c79ca"
          }
        },
        "569eeae0582f44a0998d756c0e3c1bdf": {
          "model_module": "@jupyter-widgets/controls",
          "model_name": "HTMLModel",
          "model_module_version": "1.5.0",
          "state": {
            "_dom_classes": [],
            "_model_module": "@jupyter-widgets/controls",
            "_model_module_version": "1.5.0",
            "_model_name": "HTMLModel",
            "_view_count": null,
            "_view_module": "@jupyter-widgets/controls",
            "_view_module_version": "1.5.0",
            "_view_name": "HTMLView",
            "description": "",
            "description_tooltip": null,
            "layout": "IPY_MODEL_0da900ccbd024b869fb00be8621e780c",
            "placeholder": "​",
            "style": "IPY_MODEL_9f33b2a2b939427b9687fcb06713fefa",
            "value": "100%"
          }
        },
        "6ae79f08e89b47949ec30dc6e3739a90": {
          "model_module": "@jupyter-widgets/controls",
          "model_name": "FloatProgressModel",
          "model_module_version": "1.5.0",
          "state": {
            "_dom_classes": [],
            "_model_module": "@jupyter-widgets/controls",
            "_model_module_version": "1.5.0",
            "_model_name": "FloatProgressModel",
            "_view_count": null,
            "_view_module": "@jupyter-widgets/controls",
            "_view_module_version": "1.5.0",
            "_view_name": "ProgressView",
            "bar_style": "success",
            "description": "",
            "description_tooltip": null,
            "layout": "IPY_MODEL_8a8d4848a5574cffb3af6287680d6aa7",
            "max": 300,
            "min": 0,
            "orientation": "horizontal",
            "style": "IPY_MODEL_67ac6fcbd1734af2a34d5bdcea5dd300",
            "value": 300
          }
        },
        "0f1a679090bb463da24f625aa58ad953": {
          "model_module": "@jupyter-widgets/controls",
          "model_name": "HTMLModel",
          "model_module_version": "1.5.0",
          "state": {
            "_dom_classes": [],
            "_model_module": "@jupyter-widgets/controls",
            "_model_module_version": "1.5.0",
            "_model_name": "HTMLModel",
            "_view_count": null,
            "_view_module": "@jupyter-widgets/controls",
            "_view_module_version": "1.5.0",
            "_view_name": "HTMLView",
            "description": "",
            "description_tooltip": null,
            "layout": "IPY_MODEL_bbdb2f6b4d9848a998ea547a04d24bfe",
            "placeholder": "​",
            "style": "IPY_MODEL_379f0ff3885145c2b154a07e36554e7c",
            "value": " 300/300 [00:04&lt;00:00, 108.03it/s]"
          }
        },
        "8e2fe3f9229b4b55b6453a0f617c79ca": {
          "model_module": "@jupyter-widgets/base",
          "model_name": "LayoutModel",
          "model_module_version": "1.2.0",
          "state": {
            "_model_module": "@jupyter-widgets/base",
            "_model_module_version": "1.2.0",
            "_model_name": "LayoutModel",
            "_view_count": null,
            "_view_module": "@jupyter-widgets/base",
            "_view_module_version": "1.2.0",
            "_view_name": "LayoutView",
            "align_content": null,
            "align_items": null,
            "align_self": null,
            "border": null,
            "bottom": null,
            "display": null,
            "flex": null,
            "flex_flow": null,
            "grid_area": null,
            "grid_auto_columns": null,
            "grid_auto_flow": null,
            "grid_auto_rows": null,
            "grid_column": null,
            "grid_gap": null,
            "grid_row": null,
            "grid_template_areas": null,
            "grid_template_columns": null,
            "grid_template_rows": null,
            "height": null,
            "justify_content": null,
            "justify_items": null,
            "left": null,
            "margin": null,
            "max_height": null,
            "max_width": null,
            "min_height": null,
            "min_width": null,
            "object_fit": null,
            "object_position": null,
            "order": null,
            "overflow": null,
            "overflow_x": null,
            "overflow_y": null,
            "padding": null,
            "right": null,
            "top": null,
            "visibility": null,
            "width": null
          }
        },
        "0da900ccbd024b869fb00be8621e780c": {
          "model_module": "@jupyter-widgets/base",
          "model_name": "LayoutModel",
          "model_module_version": "1.2.0",
          "state": {
            "_model_module": "@jupyter-widgets/base",
            "_model_module_version": "1.2.0",
            "_model_name": "LayoutModel",
            "_view_count": null,
            "_view_module": "@jupyter-widgets/base",
            "_view_module_version": "1.2.0",
            "_view_name": "LayoutView",
            "align_content": null,
            "align_items": null,
            "align_self": null,
            "border": null,
            "bottom": null,
            "display": null,
            "flex": null,
            "flex_flow": null,
            "grid_area": null,
            "grid_auto_columns": null,
            "grid_auto_flow": null,
            "grid_auto_rows": null,
            "grid_column": null,
            "grid_gap": null,
            "grid_row": null,
            "grid_template_areas": null,
            "grid_template_columns": null,
            "grid_template_rows": null,
            "height": null,
            "justify_content": null,
            "justify_items": null,
            "left": null,
            "margin": null,
            "max_height": null,
            "max_width": null,
            "min_height": null,
            "min_width": null,
            "object_fit": null,
            "object_position": null,
            "order": null,
            "overflow": null,
            "overflow_x": null,
            "overflow_y": null,
            "padding": null,
            "right": null,
            "top": null,
            "visibility": null,
            "width": null
          }
        },
        "9f33b2a2b939427b9687fcb06713fefa": {
          "model_module": "@jupyter-widgets/controls",
          "model_name": "DescriptionStyleModel",
          "model_module_version": "1.5.0",
          "state": {
            "_model_module": "@jupyter-widgets/controls",
            "_model_module_version": "1.5.0",
            "_model_name": "DescriptionStyleModel",
            "_view_count": null,
            "_view_module": "@jupyter-widgets/base",
            "_view_module_version": "1.2.0",
            "_view_name": "StyleView",
            "description_width": ""
          }
        },
        "8a8d4848a5574cffb3af6287680d6aa7": {
          "model_module": "@jupyter-widgets/base",
          "model_name": "LayoutModel",
          "model_module_version": "1.2.0",
          "state": {
            "_model_module": "@jupyter-widgets/base",
            "_model_module_version": "1.2.0",
            "_model_name": "LayoutModel",
            "_view_count": null,
            "_view_module": "@jupyter-widgets/base",
            "_view_module_version": "1.2.0",
            "_view_name": "LayoutView",
            "align_content": null,
            "align_items": null,
            "align_self": null,
            "border": null,
            "bottom": null,
            "display": null,
            "flex": null,
            "flex_flow": null,
            "grid_area": null,
            "grid_auto_columns": null,
            "grid_auto_flow": null,
            "grid_auto_rows": null,
            "grid_column": null,
            "grid_gap": null,
            "grid_row": null,
            "grid_template_areas": null,
            "grid_template_columns": null,
            "grid_template_rows": null,
            "height": null,
            "justify_content": null,
            "justify_items": null,
            "left": null,
            "margin": null,
            "max_height": null,
            "max_width": null,
            "min_height": null,
            "min_width": null,
            "object_fit": null,
            "object_position": null,
            "order": null,
            "overflow": null,
            "overflow_x": null,
            "overflow_y": null,
            "padding": null,
            "right": null,
            "top": null,
            "visibility": null,
            "width": null
          }
        },
        "67ac6fcbd1734af2a34d5bdcea5dd300": {
          "model_module": "@jupyter-widgets/controls",
          "model_name": "ProgressStyleModel",
          "model_module_version": "1.5.0",
          "state": {
            "_model_module": "@jupyter-widgets/controls",
            "_model_module_version": "1.5.0",
            "_model_name": "ProgressStyleModel",
            "_view_count": null,
            "_view_module": "@jupyter-widgets/base",
            "_view_module_version": "1.2.0",
            "_view_name": "StyleView",
            "bar_color": null,
            "description_width": ""
          }
        },
        "bbdb2f6b4d9848a998ea547a04d24bfe": {
          "model_module": "@jupyter-widgets/base",
          "model_name": "LayoutModel",
          "model_module_version": "1.2.0",
          "state": {
            "_model_module": "@jupyter-widgets/base",
            "_model_module_version": "1.2.0",
            "_model_name": "LayoutModel",
            "_view_count": null,
            "_view_module": "@jupyter-widgets/base",
            "_view_module_version": "1.2.0",
            "_view_name": "LayoutView",
            "align_content": null,
            "align_items": null,
            "align_self": null,
            "border": null,
            "bottom": null,
            "display": null,
            "flex": null,
            "flex_flow": null,
            "grid_area": null,
            "grid_auto_columns": null,
            "grid_auto_flow": null,
            "grid_auto_rows": null,
            "grid_column": null,
            "grid_gap": null,
            "grid_row": null,
            "grid_template_areas": null,
            "grid_template_columns": null,
            "grid_template_rows": null,
            "height": null,
            "justify_content": null,
            "justify_items": null,
            "left": null,
            "margin": null,
            "max_height": null,
            "max_width": null,
            "min_height": null,
            "min_width": null,
            "object_fit": null,
            "object_position": null,
            "order": null,
            "overflow": null,
            "overflow_x": null,
            "overflow_y": null,
            "padding": null,
            "right": null,
            "top": null,
            "visibility": null,
            "width": null
          }
        },
        "379f0ff3885145c2b154a07e36554e7c": {
          "model_module": "@jupyter-widgets/controls",
          "model_name": "DescriptionStyleModel",
          "model_module_version": "1.5.0",
          "state": {
            "_model_module": "@jupyter-widgets/controls",
            "_model_module_version": "1.5.0",
            "_model_name": "DescriptionStyleModel",
            "_view_count": null,
            "_view_module": "@jupyter-widgets/base",
            "_view_module_version": "1.2.0",
            "_view_name": "StyleView",
            "description_width": ""
          }
        },
        "1b30bbad6ab748aaa80489d442351e34": {
          "model_module": "@jupyter-widgets/controls",
          "model_name": "HBoxModel",
          "model_module_version": "1.5.0",
          "state": {
            "_dom_classes": [],
            "_model_module": "@jupyter-widgets/controls",
            "_model_module_version": "1.5.0",
            "_model_name": "HBoxModel",
            "_view_count": null,
            "_view_module": "@jupyter-widgets/controls",
            "_view_module_version": "1.5.0",
            "_view_name": "HBoxView",
            "box_style": "",
            "children": [
              "IPY_MODEL_588cf1e05e664653be296bada467943e",
              "IPY_MODEL_09f9ecf70e4c4114ab20da91ff030b8f",
              "IPY_MODEL_d67a1211bb2b49f0b826601321789377"
            ],
            "layout": "IPY_MODEL_c4c374a79b6748dd8aa9f3bc11f8ca3d"
          }
        },
        "588cf1e05e664653be296bada467943e": {
          "model_module": "@jupyter-widgets/controls",
          "model_name": "HTMLModel",
          "model_module_version": "1.5.0",
          "state": {
            "_dom_classes": [],
            "_model_module": "@jupyter-widgets/controls",
            "_model_module_version": "1.5.0",
            "_model_name": "HTMLModel",
            "_view_count": null,
            "_view_module": "@jupyter-widgets/controls",
            "_view_module_version": "1.5.0",
            "_view_name": "HTMLView",
            "description": "",
            "description_tooltip": null,
            "layout": "IPY_MODEL_75a1074249a44a6294b561ffa99381e8",
            "placeholder": "​",
            "style": "IPY_MODEL_d56ac8305cd4462da852fa152663c5cf",
            "value": "100%"
          }
        },
        "09f9ecf70e4c4114ab20da91ff030b8f": {
          "model_module": "@jupyter-widgets/controls",
          "model_name": "FloatProgressModel",
          "model_module_version": "1.5.0",
          "state": {
            "_dom_classes": [],
            "_model_module": "@jupyter-widgets/controls",
            "_model_module_version": "1.5.0",
            "_model_name": "FloatProgressModel",
            "_view_count": null,
            "_view_module": "@jupyter-widgets/controls",
            "_view_module_version": "1.5.0",
            "_view_name": "ProgressView",
            "bar_style": "success",
            "description": "",
            "description_tooltip": null,
            "layout": "IPY_MODEL_e73a8c9aaeb545d8b4b361b9dbe99e46",
            "max": 300,
            "min": 0,
            "orientation": "horizontal",
            "style": "IPY_MODEL_316573c53b6743b1b191d1ea9eaa0fe7",
            "value": 300
          }
        },
        "d67a1211bb2b49f0b826601321789377": {
          "model_module": "@jupyter-widgets/controls",
          "model_name": "HTMLModel",
          "model_module_version": "1.5.0",
          "state": {
            "_dom_classes": [],
            "_model_module": "@jupyter-widgets/controls",
            "_model_module_version": "1.5.0",
            "_model_name": "HTMLModel",
            "_view_count": null,
            "_view_module": "@jupyter-widgets/controls",
            "_view_module_version": "1.5.0",
            "_view_name": "HTMLView",
            "description": "",
            "description_tooltip": null,
            "layout": "IPY_MODEL_b1f578dc90fc4e1ea2bbcb50b61ed73f",
            "placeholder": "​",
            "style": "IPY_MODEL_8d65a55aee354a1e9a9787f5fd00b117",
            "value": " 300/300 [00:05&lt;00:00, 47.14it/s]"
          }
        },
        "c4c374a79b6748dd8aa9f3bc11f8ca3d": {
          "model_module": "@jupyter-widgets/base",
          "model_name": "LayoutModel",
          "model_module_version": "1.2.0",
          "state": {
            "_model_module": "@jupyter-widgets/base",
            "_model_module_version": "1.2.0",
            "_model_name": "LayoutModel",
            "_view_count": null,
            "_view_module": "@jupyter-widgets/base",
            "_view_module_version": "1.2.0",
            "_view_name": "LayoutView",
            "align_content": null,
            "align_items": null,
            "align_self": null,
            "border": null,
            "bottom": null,
            "display": null,
            "flex": null,
            "flex_flow": null,
            "grid_area": null,
            "grid_auto_columns": null,
            "grid_auto_flow": null,
            "grid_auto_rows": null,
            "grid_column": null,
            "grid_gap": null,
            "grid_row": null,
            "grid_template_areas": null,
            "grid_template_columns": null,
            "grid_template_rows": null,
            "height": null,
            "justify_content": null,
            "justify_items": null,
            "left": null,
            "margin": null,
            "max_height": null,
            "max_width": null,
            "min_height": null,
            "min_width": null,
            "object_fit": null,
            "object_position": null,
            "order": null,
            "overflow": null,
            "overflow_x": null,
            "overflow_y": null,
            "padding": null,
            "right": null,
            "top": null,
            "visibility": null,
            "width": null
          }
        },
        "75a1074249a44a6294b561ffa99381e8": {
          "model_module": "@jupyter-widgets/base",
          "model_name": "LayoutModel",
          "model_module_version": "1.2.0",
          "state": {
            "_model_module": "@jupyter-widgets/base",
            "_model_module_version": "1.2.0",
            "_model_name": "LayoutModel",
            "_view_count": null,
            "_view_module": "@jupyter-widgets/base",
            "_view_module_version": "1.2.0",
            "_view_name": "LayoutView",
            "align_content": null,
            "align_items": null,
            "align_self": null,
            "border": null,
            "bottom": null,
            "display": null,
            "flex": null,
            "flex_flow": null,
            "grid_area": null,
            "grid_auto_columns": null,
            "grid_auto_flow": null,
            "grid_auto_rows": null,
            "grid_column": null,
            "grid_gap": null,
            "grid_row": null,
            "grid_template_areas": null,
            "grid_template_columns": null,
            "grid_template_rows": null,
            "height": null,
            "justify_content": null,
            "justify_items": null,
            "left": null,
            "margin": null,
            "max_height": null,
            "max_width": null,
            "min_height": null,
            "min_width": null,
            "object_fit": null,
            "object_position": null,
            "order": null,
            "overflow": null,
            "overflow_x": null,
            "overflow_y": null,
            "padding": null,
            "right": null,
            "top": null,
            "visibility": null,
            "width": null
          }
        },
        "d56ac8305cd4462da852fa152663c5cf": {
          "model_module": "@jupyter-widgets/controls",
          "model_name": "DescriptionStyleModel",
          "model_module_version": "1.5.0",
          "state": {
            "_model_module": "@jupyter-widgets/controls",
            "_model_module_version": "1.5.0",
            "_model_name": "DescriptionStyleModel",
            "_view_count": null,
            "_view_module": "@jupyter-widgets/base",
            "_view_module_version": "1.2.0",
            "_view_name": "StyleView",
            "description_width": ""
          }
        },
        "e73a8c9aaeb545d8b4b361b9dbe99e46": {
          "model_module": "@jupyter-widgets/base",
          "model_name": "LayoutModel",
          "model_module_version": "1.2.0",
          "state": {
            "_model_module": "@jupyter-widgets/base",
            "_model_module_version": "1.2.0",
            "_model_name": "LayoutModel",
            "_view_count": null,
            "_view_module": "@jupyter-widgets/base",
            "_view_module_version": "1.2.0",
            "_view_name": "LayoutView",
            "align_content": null,
            "align_items": null,
            "align_self": null,
            "border": null,
            "bottom": null,
            "display": null,
            "flex": null,
            "flex_flow": null,
            "grid_area": null,
            "grid_auto_columns": null,
            "grid_auto_flow": null,
            "grid_auto_rows": null,
            "grid_column": null,
            "grid_gap": null,
            "grid_row": null,
            "grid_template_areas": null,
            "grid_template_columns": null,
            "grid_template_rows": null,
            "height": null,
            "justify_content": null,
            "justify_items": null,
            "left": null,
            "margin": null,
            "max_height": null,
            "max_width": null,
            "min_height": null,
            "min_width": null,
            "object_fit": null,
            "object_position": null,
            "order": null,
            "overflow": null,
            "overflow_x": null,
            "overflow_y": null,
            "padding": null,
            "right": null,
            "top": null,
            "visibility": null,
            "width": null
          }
        },
        "316573c53b6743b1b191d1ea9eaa0fe7": {
          "model_module": "@jupyter-widgets/controls",
          "model_name": "ProgressStyleModel",
          "model_module_version": "1.5.0",
          "state": {
            "_model_module": "@jupyter-widgets/controls",
            "_model_module_version": "1.5.0",
            "_model_name": "ProgressStyleModel",
            "_view_count": null,
            "_view_module": "@jupyter-widgets/base",
            "_view_module_version": "1.2.0",
            "_view_name": "StyleView",
            "bar_color": null,
            "description_width": ""
          }
        },
        "b1f578dc90fc4e1ea2bbcb50b61ed73f": {
          "model_module": "@jupyter-widgets/base",
          "model_name": "LayoutModel",
          "model_module_version": "1.2.0",
          "state": {
            "_model_module": "@jupyter-widgets/base",
            "_model_module_version": "1.2.0",
            "_model_name": "LayoutModel",
            "_view_count": null,
            "_view_module": "@jupyter-widgets/base",
            "_view_module_version": "1.2.0",
            "_view_name": "LayoutView",
            "align_content": null,
            "align_items": null,
            "align_self": null,
            "border": null,
            "bottom": null,
            "display": null,
            "flex": null,
            "flex_flow": null,
            "grid_area": null,
            "grid_auto_columns": null,
            "grid_auto_flow": null,
            "grid_auto_rows": null,
            "grid_column": null,
            "grid_gap": null,
            "grid_row": null,
            "grid_template_areas": null,
            "grid_template_columns": null,
            "grid_template_rows": null,
            "height": null,
            "justify_content": null,
            "justify_items": null,
            "left": null,
            "margin": null,
            "max_height": null,
            "max_width": null,
            "min_height": null,
            "min_width": null,
            "object_fit": null,
            "object_position": null,
            "order": null,
            "overflow": null,
            "overflow_x": null,
            "overflow_y": null,
            "padding": null,
            "right": null,
            "top": null,
            "visibility": null,
            "width": null
          }
        },
        "8d65a55aee354a1e9a9787f5fd00b117": {
          "model_module": "@jupyter-widgets/controls",
          "model_name": "DescriptionStyleModel",
          "model_module_version": "1.5.0",
          "state": {
            "_model_module": "@jupyter-widgets/controls",
            "_model_module_version": "1.5.0",
            "_model_name": "DescriptionStyleModel",
            "_view_count": null,
            "_view_module": "@jupyter-widgets/base",
            "_view_module_version": "1.2.0",
            "_view_name": "StyleView",
            "description_width": ""
          }
        }
      }
    }
  },
  "cells": [
    {
      "cell_type": "markdown",
      "metadata": {
        "id": "Ws1FXPusI0Bh"
      },
      "source": [
        "# Text Summarization"
      ]
    },
    {
      "cell_type": "markdown",
      "source": [
        "Alice continues her journey and now she is in 2015. Now it has become easier, as you can use word2vec! This time Alice needs help to solve the problem of summarizing news texts."
      ],
      "metadata": {
        "id": "ArO8b4cQImY2"
      }
    },
    {
      "cell_type": "markdown",
      "metadata": {
        "id": "_MVKm9UMe7XQ"
      },
      "source": [
        "The task of summarization is to obtain a shorter text from the original text, which will contain all (or almost all) the information that was in the original text. Thus, from the text you need to obtain its summary in such a way as to lose as little information as possible."
      ]
    },
    {
      "cell_type": "markdown",
      "metadata": {
        "id": "rjvxmiYAe7XQ"
      },
      "source": [
        "Methods for solving this problem are usually divided into two categories:\n",
        "- Extractive Summarization $-$ algorithms based on identifying the most informative parts of the source text (sentences, paragraphs, etc.) and compiling a summary from them.\n",
        "- Abstractive Summarization $-$ algorithms that generate new text based on the source.\n",
        "\n",
        "We will work with Extractive Summarization."
      ]
    },
    {
      "cell_type": "markdown",
      "metadata": {
        "id": "Nw_H8eHYe7XQ"
      },
      "source": [
        "## 0. Dataset Preprocessing"
      ]
    },
    {
      "cell_type": "code",
      "metadata": {
        "id": "1QtEzk0qe7XR"
      },
      "source": [
        "import os\n",
        "import nltk\n",
        "import numpy as np\n",
        "\n",
        "from scipy import sparse\n",
        "from collections import defaultdict\n",
        "from tqdm import tqdm_notebook as tqdm\n",
        "from nltk.tokenize import sent_tokenize, word_tokenize\n",
        "from sklearn.feature_extraction.text import TfidfVectorizer"
      ],
      "execution_count": null,
      "outputs": []
    },
    {
      "cell_type": "markdown",
      "metadata": {
        "id": "UO9i_hsle7XR"
      },
      "source": [
        "### Loading dataset"
      ]
    },
    {
      "cell_type": "markdown",
      "metadata": {
        "id": "ryDe-hb-e7XR"
      },
      "source": [
        "We will use data from the CNN/DailyMail news corpus."
      ]
    },
    {
      "cell_type": "code",
      "metadata": {
        "id": "PxRpTtI4e7XR"
      },
      "source": [
        "DATA_DIR = './cnn_stories_short/'"
      ],
      "execution_count": null,
      "outputs": []
    },
    {
      "cell_type": "code",
      "metadata": {
        "id": "pOa572LMe7XR"
      },
      "source": [
        "%%capture\n",
        "\n",
        "!wget https://www.dropbox.com/s/kofxrgod7kl720m/cnn_stories_short.zip\n",
        "!mkdir cnn_data\n",
        "!unzip cnn_stories_short.zip -d $DATA_DIR\n",
        "!rm -r ./cnn_stories_short/__MACOSX"
      ],
      "execution_count": null,
      "outputs": []
    },
    {
      "cell_type": "markdown",
      "metadata": {
        "id": "Zf5xfzHpe7XS"
      },
      "source": [
        "### Dataset preparation"
      ]
    },
    {
      "cell_type": "markdown",
      "metadata": {
        "id": "p2VYb528e7XS"
      },
      "source": [
        "The dataset consists of source texts and already written summaries for them. We will save original texts."
      ]
    },
    {
      "cell_type": "code",
      "metadata": {
        "id": "J4vWoH6je7XS"
      },
      "source": [
        "texts = []\n",
        "for filename in os.listdir(DATA_DIR):\n",
        "    with open(os.path.join(DATA_DIR,filename),'r') as input_file:\n",
        "        all_texts = input_file.read().split('@highlight')\n",
        "        texts.append(all_texts[0])"
      ],
      "execution_count": null,
      "outputs": []
    },
    {
      "cell_type": "markdown",
      "metadata": {
        "id": "dCJpPwu7e7XS"
      },
      "source": [
        "#### We will need:\n",
        "* texts broken into sentences\n",
        "* sentences broken into tokens\n",
        "* texts, broken sentences that are broken into tokens"
      ]
    },
    {
      "cell_type": "code",
      "metadata": {
        "colab": {
          "base_uri": "https://localhost:8080/"
        },
        "id": "khBgQs8jhSpd",
        "outputId": "19b79bee-ed17-45e2-97e2-1fcf48497f71"
      },
      "source": [
        "nltk.download('punkt_tab')"
      ],
      "execution_count": null,
      "outputs": [
        {
          "output_type": "stream",
          "name": "stderr",
          "text": [
            "[nltk_data] Downloading package punkt_tab to /root/nltk_data...\n",
            "[nltk_data]   Unzipping tokenizers/punkt_tab.zip.\n"
          ]
        },
        {
          "output_type": "execute_result",
          "data": {
            "text/plain": [
              "True"
            ]
          },
          "metadata": {},
          "execution_count": 5
        }
      ]
    },
    {
      "cell_type": "code",
      "metadata": {
        "id": "pF7-yhxZe7XS"
      },
      "source": [
        "sent_tokenized_texts = [sent_tokenize(text) for text in texts]\n",
        "tokenized_sentences = [word_tokenize(sent) for text in texts for sent in sent_tokenize(text)]\n",
        "tokenized_texts = [[word_tokenize(sent) for sent in text] for text in sent_tokenized_texts]"
      ],
      "execution_count": null,
      "outputs": []
    },
    {
      "cell_type": "markdown",
      "metadata": {
        "id": "t6YEJa8Je7XS"
      },
      "source": [
        "### Loading Word Embedding Model"
      ]
    },
    {
      "cell_type": "markdown",
      "metadata": {
        "id": "Ijvn-De8e7XS"
      },
      "source": [
        "For the TextRank algorithm, we need to obtain a vector representation for each sentence in the text.\n",
        "\n",
        "We will use pre-trained Glove vectors. **GloVe** (Global Vectors for Word Representation) is an unsupervised learning algorithm for obtaining vector representations for words, developed by Stanford University. It leverages global word-word co-occurrence statistics from a corpus to create dense vector embeddings that capture semantic meanings. GloVe vectors enable improved performance in various natural language processing tasks by representing words in a continuous vector space, where similar words are located closer together."
      ]
    },
    {
      "cell_type": "markdown",
      "metadata": {
        "id": "U0KFmssIe7XS"
      },
      "source": [
        "Let's load models:"
      ]
    },
    {
      "cell_type": "code",
      "metadata": {
        "id": "ubihkQGDe7XS"
      },
      "source": [
        "%%capture\n",
        "\n",
        "!wget http://nlp.stanford.edu/data/glove.6B.zip\n",
        "!unzip glove*.zip"
      ],
      "execution_count": null,
      "outputs": []
    },
    {
      "cell_type": "markdown",
      "source": [
        "The downloaded archive contains a set of files with vectors of different lengths. Each file stores a word on each line, followed by a space, the values ​​of the vector representation of this word."
      ],
      "metadata": {
        "id": "ss4NBNf4BWXX"
      }
    },
    {
      "cell_type": "code",
      "metadata": {
        "id": "EIxU3lDte7XS"
      },
      "source": [
        "word_embeddings = {}\n",
        "with open('glove.6B.100d.txt', encoding='utf-8') as f:\n",
        "    for line in f.readlines():\n",
        "        values = line.split()\n",
        "        word = values[0]\n",
        "        word_embeddings[word] = np.asarray(values[1:], dtype='float32')"
      ],
      "execution_count": null,
      "outputs": []
    },
    {
      "cell_type": "markdown",
      "source": [
        "We stored vectors to word_embeddings value. Thus, word_embeddings is a dictionary, where key is a word and value is a vector of this word."
      ],
      "metadata": {
        "id": "NM0K0SK7Brc5"
      }
    },
    {
      "cell_type": "markdown",
      "source": [
        "## Task 1: Word2Vec text representation\n",
        "\n",
        "*   For each text obtaint it's vector representation by averaging word2vec representation of each word. Just sum it component by component and divide on number of words in sentence. If word embedding model do not contain word initialize it with zeros. Use word representations saved in word_embeddings values.\n",
        "*   Count cosine similarity between each sentences and obtain matrix of cosine similarity **G**."
      ],
      "metadata": {
        "id": "NxVuWQpyCJ5E"
      }
    },
    {
      "cell_type": "code",
      "metadata": {
        "id": "wNGnN6UTe7XS"
      },
      "source": [
        "# TODO complete transform function. You can add additional values in class constructor if neccesary.\n",
        "\n",
        "class TfidfEmbeddingVectorizer:\n",
        "\n",
        "    def __init__(self, embedding_model, dim=100):\n",
        "        self.embedding_model = embedding_model  # word embedding model (word -> vector)\n",
        "        self.dim = dim  # dimension of word vectors\n",
        "\n",
        "    def transform(self, X):\n",
        "        # X is a list of tokenized sentences (or tokenized texts)\n",
        "        vectors = []\n",
        "\n",
        "        for tokens in X:\n",
        "            # List to store embeddings for words in the sentence\n",
        "            vecs = []\n",
        "\n",
        "            for word in tokens:\n",
        "                # Get the embedding vector if it exists, otherwise use zeros\n",
        "                if word in self.embedding_model:\n",
        "                    vec = self.embedding_model[word]\n",
        "                else:\n",
        "                    vec = np.zeros(self.dim)\n",
        "\n",
        "                vecs.append(vec)\n",
        "\n",
        "            # If there are no words in sentence, use a zero vector\n",
        "            if vecs:\n",
        "                sentence_vec = np.mean(vecs, axis=0)\n",
        "            else:\n",
        "                sentence_vec = np.zeros(self.dim)\n",
        "\n",
        "            vectors.append(sentence_vec)\n",
        "\n",
        "        return np.array(vectors)\n"
      ],
      "execution_count": null,
      "outputs": []
    },
    {
      "cell_type": "code",
      "metadata": {
        "id": "ssKKoVgCe7XS"
      },
      "source": [
        "sentence_vectorizer = TfidfEmbeddingVectorizer(word_embeddings)"
      ],
      "execution_count": null,
      "outputs": []
    },
    {
      "cell_type": "markdown",
      "metadata": {
        "id": "jIcz-AJge7XS"
      },
      "source": [
        "### Building the Cosine Similarity Matrix"
      ]
    },
    {
      "cell_type": "markdown",
      "metadata": {
        "id": "iBPW-s9Qe7XS"
      },
      "source": [
        "For the *TextRank* algorithm, we need to build a weighted graph from the text. The graph will be represented as a matrix of cosine similarity between sentences."
      ]
    },
    {
      "cell_type": "markdown",
      "metadata": {
        "id": "Dt-LVd1je7XS"
      },
      "source": [
        "For example, let's build a graph in the form of a distance matrix for one of the texts.\n",
        "Let's choose one text and build a distance matrix for it. We'll use the cosine distance as a metric."
      ]
    },
    {
      "cell_type": "code",
      "metadata": {
        "id": "ZGcPZ5OIe7XS"
      },
      "source": [
        "TEXT_NUM = 5"
      ],
      "execution_count": null,
      "outputs": []
    },
    {
      "cell_type": "code",
      "metadata": {
        "id": "OMJlptQ-e7XS"
      },
      "source": [
        "sentences = tokenized_texts[TEXT_NUM]"
      ],
      "execution_count": null,
      "outputs": []
    },
    {
      "cell_type": "markdown",
      "metadata": {
        "id": "VO-WdWRIe7XS"
      },
      "source": [
        "Using the vectorizer, we will obtain vectors for all sentences of the text."
      ]
    },
    {
      "cell_type": "code",
      "metadata": {
        "id": "CtLXZkxKe7XS"
      },
      "source": [
        "vectorized_sentences = sentence_vectorizer.transform(sentences)"
      ],
      "execution_count": null,
      "outputs": []
    },
    {
      "cell_type": "code",
      "source": [
        "vectorized_sentences.shape"
      ],
      "metadata": {
        "colab": {
          "base_uri": "https://localhost:8080/"
        },
        "id": "dbKLt6467tcB",
        "outputId": "19a97109-c3d0-438c-dc5c-e8424ff0be57"
      },
      "execution_count": null,
      "outputs": [
        {
          "output_type": "execute_result",
          "data": {
            "text/plain": [
              "(25, 100)"
            ]
          },
          "metadata": {},
          "execution_count": 14
        }
      ]
    },
    {
      "cell_type": "markdown",
      "metadata": {
        "id": "R21iKMMNe7XS"
      },
      "source": [
        "Let's calculate the matrix with cosine distances."
      ]
    },
    {
      "cell_type": "code",
      "metadata": {
        "id": "XXGTMo30e7XS"
      },
      "source": [
        "from sklearn.metrics.pairwise import cosine_similarity\n",
        "\n",
        "def get_cosine_similarity_matrix(sentences):\n",
        "    \"\"\"\n",
        "    sentences: np.array where each row is a sentence vector\n",
        "    returns: cosine similarity matrix G\n",
        "    \"\"\"\n",
        "    G = cosine_similarity(sentences)\n",
        "    return G\n",
        "\n",
        "\n",
        "G = get_cosine_similarity_matrix(vectorized_sentences)"
      ],
      "execution_count": null,
      "outputs": []
    },
    {
      "cell_type": "markdown",
      "metadata": {
        "id": "8ET-m3hqe7XS"
      },
      "source": [
        "## Extractive Summarization $-$ TextRank"
      ]
    },
    {
      "cell_type": "markdown",
      "metadata": {
        "id": "kp-VMj13e7XS"
      },
      "source": [
        "Now we will implement the text summarization method itself. It will be based on the *PageRank* algorithm.\n",
        "\n",
        "*PageRank* $-$ is a recursive algorithm that evaluates the importance of each node in the graph based on its connections with other nodes. Initially, the algorithm was used to evaluate the importance of Internet pages for search engines.\n",
        "\n",
        "The adaptation of this algorithm for text summarization is called *TextRank*.\n",
        "\n",
        "The algorithm sequentially goes through all the nodes in the graph and recalculates the PageRank values ​​for each of them using the formula below.\n",
        "\n",
        "This happens until the process stabilizes, that is, the *PageRank* values ​​for all nodes stop changing significantly with each new iteration."
      ]
    },
    {
      "cell_type": "markdown",
      "metadata": {
        "id": "71IpX-eJe7XS"
      },
      "source": [
        "$$ G = (V,E) - граф $$\n",
        "$$$$\n",
        "$$ PageRank(v) = \\frac{(1-d)}{N} +  d \\sum_{u} \\frac {PageRank(u) * W_{(u, v)}} {C(u)}$$\n",
        "\n",
        "$$v\\ -\\ вершина\\ графа, v \\in V $$\n",
        "\n",
        "$$u\\ -\\ вершины\\ графа,\\ такие\\ что\\ (u,v) \\in E$$\n",
        "\n",
        "$$C(u) - количество \\ вершин, \\ таких \\ что (u,v) \\in E$$\n",
        "\n",
        "$$W_{(u, v)} - вес\\ ребра\\ (u, v) \\in E $$\n",
        "\n",
        "$$d = 0,85\\ -\\ коэффициент\\ затухания$$"
      ]
    },
    {
      "cell_type": "markdown",
      "metadata": {
        "id": "lmy85qpwe7XT"
      },
      "source": [
        "Let's use NetworkX library to Page Rank algorithm."
      ]
    },
    {
      "cell_type": "code",
      "metadata": {
        "colab": {
          "base_uri": "https://localhost:8080/"
        },
        "id": "_VO53fXXe7XT",
        "outputId": "5fc548c7-dc65-4b16-d903-786f435cb6c0"
      },
      "source": [
        "!pip install networkx"
      ],
      "execution_count": null,
      "outputs": [
        {
          "output_type": "stream",
          "name": "stdout",
          "text": [
            "Requirement already satisfied: networkx in /usr/local/lib/python3.11/dist-packages (3.4.2)\n"
          ]
        }
      ]
    },
    {
      "cell_type": "code",
      "metadata": {
        "id": "D8etYKWUe7XT"
      },
      "source": [
        "import networkx as nx\n",
        "\n",
        "nx_graph = nx.from_numpy_array(G)\n",
        "nx_scores = nx.pagerank(nx_graph)"
      ],
      "execution_count": null,
      "outputs": []
    },
    {
      "cell_type": "code",
      "metadata": {
        "id": "DHfzMgS4e7XT"
      },
      "source": [
        "ranked_sentences = sorted(((nx_scores[i], s, i) for i,s in enumerate(sentences)), reverse=True)"
      ],
      "execution_count": null,
      "outputs": []
    },
    {
      "cell_type": "markdown",
      "metadata": {
        "id": "Igrhq5s8e7XT"
      },
      "source": [
        "Let's output 5 sentences with the highest TextRank. This will be our final text summation."
      ]
    },
    {
      "cell_type": "code",
      "metadata": {
        "colab": {
          "base_uri": "https://localhost:8080/"
        },
        "id": "cAEpPUaRe7XT",
        "outputId": "0bd9faee-863a-4b5a-9ab8-ceac8690da18"
      },
      "source": [
        "SUMMARY_LEN = 5\n",
        "\n",
        "for i in range(SUMMARY_LEN):\n",
        "    print(' '.join(ranked_sentences[i][1]))"
      ],
      "execution_count": null,
      "outputs": [
        {
          "output_type": "stream",
          "name": "stdout",
          "text": [
            "It was like the end of Braveheart every time a rebel looked into my eyes and said it .\n",
            "Filming a documentary for VICE , I was detained for shooting where the authorities thought I should n't , beginning endless rounds of questions , emphatic yelling and head-shaking incredulity at my claims of innocence -- and , of course , the requisite implications that I was a spy .\n",
            "Heady stuff for a teenager , especially when most of the rebels are n't old enough to have known a political system other than Gaddafism .\n",
            "See the rest of The Rebels of Libya at VICE.COM When we finally got to Misurata , it was surrounded by Gaddafi 's troops and only accessible by sea .\n",
            "Beaming , he wondered whether I could `` ask Clinton and Obama for new weapons '' so that they could beat Gaddafi and he could fulfill his dream of playing for the Miami Heat or the Dallas Mavericks .\n"
          ]
        }
      ]
    },
    {
      "cell_type": "markdown",
      "metadata": {
        "id": "B4fkiVnue7XT"
      },
      "source": [
        "Now let's combine everything into one summarize function, which will receive text divided into sentences as input and output 5 sentences with the highest *TextRank*."
      ]
    },
    {
      "cell_type": "code",
      "metadata": {
        "id": "czbHL1xQe7XT"
      },
      "source": [
        "def summarize(sentences,summary_len=5):\n",
        "    vectorized_sentences = sentence_vectorizer.transform(sentences)\n",
        "    G = get_cosine_similarity_matrix(vectorized_sentences)\n",
        "    nx_graph = nx.from_numpy_array(G)\n",
        "    nx_scores = nx.pagerank(nx_graph)\n",
        "    ranked_sentences = sorted(((nx_scores[i],s,i) for i,s in enumerate(sentences)), reverse=True)\n",
        "    summary = []\n",
        "    for i in range(summary_len):\n",
        "        summary.append(' '.join(ranked_sentences[i][1]))\n",
        "    return summary"
      ],
      "execution_count": null,
      "outputs": []
    },
    {
      "cell_type": "code",
      "metadata": {
        "colab": {
          "base_uri": "https://localhost:8080/"
        },
        "id": "x90bwnQJe7XT",
        "outputId": "bcdffbb8-b945-40e9-bbe6-6be5ef4bb538"
      },
      "source": [
        "summarize(tokenized_texts[5])"
      ],
      "execution_count": null,
      "outputs": [
        {
          "output_type": "execute_result",
          "data": {
            "text/plain": [
              "['It was like the end of Braveheart every time a rebel looked into my eyes and said it .',\n",
              " \"Filming a documentary for VICE , I was detained for shooting where the authorities thought I should n't , beginning endless rounds of questions , emphatic yelling and head-shaking incredulity at my claims of innocence -- and , of course , the requisite implications that I was a spy .\",\n",
              " \"Heady stuff for a teenager , especially when most of the rebels are n't old enough to have known a political system other than Gaddafism .\",\n",
              " \"See the rest of The Rebels of Libya at VICE.COM When we finally got to Misurata , it was surrounded by Gaddafi 's troops and only accessible by sea .\",\n",
              " \"Beaming , he wondered whether I could `` ask Clinton and Obama for new weapons '' so that they could beat Gaddafi and he could fulfill his dream of playing for the Miami Heat or the Dallas Mavericks .\"]"
            ]
          },
          "metadata": {},
          "execution_count": 21
        }
      ]
    },
    {
      "cell_type": "markdown",
      "metadata": {
        "id": "G8OXOauTe7XT"
      },
      "source": [
        "Let's get summaries for all our texts:"
      ]
    },
    {
      "cell_type": "code",
      "metadata": {
        "colab": {
          "base_uri": "https://localhost:8080/",
          "height": 101,
          "referenced_widgets": [
            "79c8c68a2f5f42f88d0811783012ecc4",
            "569eeae0582f44a0998d756c0e3c1bdf",
            "6ae79f08e89b47949ec30dc6e3739a90",
            "0f1a679090bb463da24f625aa58ad953",
            "8e2fe3f9229b4b55b6453a0f617c79ca",
            "0da900ccbd024b869fb00be8621e780c",
            "9f33b2a2b939427b9687fcb06713fefa",
            "8a8d4848a5574cffb3af6287680d6aa7",
            "67ac6fcbd1734af2a34d5bdcea5dd300",
            "bbdb2f6b4d9848a998ea547a04d24bfe",
            "379f0ff3885145c2b154a07e36554e7c"
          ]
        },
        "id": "W6-QvjoPe7XT",
        "outputId": "4ce354bf-05f0-4277-c849-10a7f170cf2a"
      },
      "source": [
        "system_summaries = [summarize(text) for text in tqdm(tokenized_texts)]"
      ],
      "execution_count": null,
      "outputs": [
        {
          "output_type": "stream",
          "name": "stderr",
          "text": [
            "<ipython-input-22-8f2452768a61>:1: TqdmDeprecationWarning: This function will be removed in tqdm==5.0.0\n",
            "Please use `tqdm.notebook.tqdm` instead of `tqdm.tqdm_notebook`\n",
            "  system_summaries = [summarize(text) for text in tqdm(tokenized_texts)]\n"
          ]
        },
        {
          "output_type": "display_data",
          "data": {
            "text/plain": [
              "  0%|          | 0/300 [00:00<?, ?it/s]"
            ],
            "application/vnd.jupyter.widget-view+json": {
              "version_major": 2,
              "version_minor": 0,
              "model_id": "79c8c68a2f5f42f88d0811783012ecc4"
            }
          },
          "metadata": {}
        }
      ]
    },
    {
      "cell_type": "markdown",
      "source": [
        "Let's look on the 10th sample"
      ],
      "metadata": {
        "id": "t_c_0DtTW9tX"
      }
    },
    {
      "cell_type": "code",
      "source": [
        "print(\"\\n\".join(system_summaries[10][:5]))"
      ],
      "metadata": {
        "id": "LQ5FFoIOW6Qp",
        "colab": {
          "base_uri": "https://localhost:8080/"
        },
        "outputId": "f11926ce-9302-4c34-c5a4-8d8f12a45255"
      },
      "execution_count": null,
      "outputs": [
        {
          "output_type": "stream",
          "name": "stdout",
          "text": [
            "This hammer blow to AIDS research funding will be accompanied by cuts to a range of other HIV/AIDS programs -- cuts that will have negligible effect on the federal deficit but will have real consequences for people living with HIV/AIDS in the United States and around the world .\n",
            "Much work lies ahead before these and other scientific advances can be parlayed into a broadly applicable cure that can be made available to the 35 million people living with HIV/AIDS worldwide .\n",
            "Interactive : World AIDS Day and what it means Why , then , are we shortchanging a program that enjoys broad bipartisan and popular support , has done more than any other foreign policy initiative in recent years to burnish America 's image abroad , and has already altered -- though not irreversibly -- the trajectory of the HIV/AIDS pandemic ?\n",
            "Zero new HIV infections among children can be a reality Similarly , the idea of an `` AIDS-free generation '' today is tossed around with abandon .\n",
            "But over 30 years , we have developed a raft of tools that enable us to effectively prevent and treat HIV infection .\n"
          ]
        }
      ]
    },
    {
      "cell_type": "markdown",
      "source": [
        "## Task 2 IDF word2vec modification\n",
        "\n",
        "Modify your previous solution. For each text obtaint it's vector representation by averaging word2vec representation of each word multiplied by the IDF value of this word."
      ],
      "metadata": {
        "id": "CDN4nVJYGu4i"
      }
    },
    {
      "cell_type": "code",
      "source": [
        "from sklearn.feature_extraction.text import TfidfVectorizer\n",
        "from collections import defaultdict\n",
        "import numpy as np"
      ],
      "metadata": {
        "id": "yjtjlQq1820d"
      },
      "execution_count": null,
      "outputs": []
    },
    {
      "cell_type": "code",
      "source": [
        "class TfidfEmbeddingVectorizer:\n",
        "    def __init__(self, embedding_model, dim=100):\n",
        "        self.embedding_model = embedding_model  # словарь: слово -> вектор\n",
        "        self.dim = dim  # размерность вектора слова\n",
        "        self.word_idf_weight = defaultdict(lambda: 1.0)  # по умолчанию idf=1.0 для неизвестных слов\n",
        "\n",
        "    def fit(self, tokenized_texts):\n",
        "        \"\"\"\n",
        "        tokenized_texts: список токенизированных текстов или предложений (list of list of tokens)\n",
        "        \"\"\"\n",
        "        # Склеиваем токены обратно в строки, чтобы TfidfVectorizer мог их обработать\n",
        "        joined_texts = [' '.join(tokens) for tokens in tokenized_texts]\n",
        "\n",
        "        # Строим TF-IDF по склеенным строкам\n",
        "        tfidf = TfidfVectorizer()\n",
        "        tfidf.fit(joined_texts)\n",
        "\n",
        "        # Сохраняем веса idf для каждого слова\n",
        "        max_idf = max(tfidf.idf_)\n",
        "        self.word_idf_weight = defaultdict(lambda: max_idf,\n",
        "                                           [(word, idf) for word, idf in zip(tfidf.get_feature_names_out(), tfidf.idf_)])\n",
        "        return self\n",
        "\n",
        "    def transform(self, tokenized_texts):\n",
        "        \"\"\"\n",
        "        tokenized_texts: список токенизированных предложений или текстов (list of list of tokens)\n",
        "        Возвращает: np.array с векторным представлением каждого предложения\n",
        "        \"\"\"\n",
        "        vectors = []\n",
        "\n",
        "        for tokens in tokenized_texts:\n",
        "            # Список взвешенных векторов слов\n",
        "            vecs = []\n",
        "\n",
        "            for word in tokens:\n",
        "                if word in self.embedding_model:\n",
        "                    vec = self.embedding_model[word] * self.word_idf_weight[word]\n",
        "                else:\n",
        "                    vec = np.zeros(self.dim)\n",
        "\n",
        "                vecs.append(vec)\n",
        "\n",
        "            # Усредняем, если есть слова, иначе возвращаем вектор из нулей\n",
        "            if vecs:\n",
        "                sentence_vec = np.mean(vecs, axis=0)\n",
        "            else:\n",
        "                sentence_vec = np.zeros(self.dim)\n",
        "\n",
        "            vectors.append(sentence_vec)\n",
        "\n",
        "        return np.array(vectors)\n"
      ],
      "metadata": {
        "id": "2cHehImhHF2r"
      },
      "execution_count": null,
      "outputs": []
    },
    {
      "cell_type": "code",
      "source": [
        "sentence_vectorizer = TfidfEmbeddingVectorizer(word_embeddings)\n",
        "sentence_vectorizer = sentence_vectorizer.fit(tokenized_sentences)"
      ],
      "metadata": {
        "id": "Upsu9v71azGa"
      },
      "execution_count": null,
      "outputs": []
    },
    {
      "cell_type": "code",
      "source": [
        "## TODO copy your function for cosine similarity here\n",
        "\n",
        "def get_cosine_similarity_matrix(sentences):\n",
        "    \"\"\"\n",
        "    sentences: np.array where each row is a sentence vector\n",
        "    returns: cosine similarity matrix G\n",
        "    \"\"\"\n",
        "    G = cosine_similarity(sentences)\n",
        "    return G\n"
      ],
      "metadata": {
        "id": "Qe3BCk5BHqE_"
      },
      "execution_count": null,
      "outputs": []
    },
    {
      "cell_type": "code",
      "source": [
        "def summarize(sentences,summary_len=5):\n",
        "    vectorized_sentences = sentence_vectorizer.transform(sentences)\n",
        "    G = get_cosine_similarity_matrix(vectorized_sentences)\n",
        "    nx_graph = nx.from_numpy_array(G)\n",
        "    nx_scores = nx.pagerank(nx_graph)\n",
        "    ranked_sentences = sorted(((nx_scores[i],s,i) for i,s in enumerate(sentences)), reverse=True)\n",
        "    summary = []\n",
        "    for i in range(summary_len):\n",
        "        summary.append(' '.join(ranked_sentences[i][1]))\n",
        "    return summary"
      ],
      "metadata": {
        "id": "VnT8wwh3HkHC"
      },
      "execution_count": null,
      "outputs": []
    },
    {
      "cell_type": "markdown",
      "source": [
        " Summarize your texts"
      ],
      "metadata": {
        "id": "eLjw16jUH1Q5"
      }
    },
    {
      "cell_type": "code",
      "source": [
        "system_summaries = [summarize(text) for text in tqdm(tokenized_texts)]"
      ],
      "metadata": {
        "id": "ztVXsYR-HzAx",
        "colab": {
          "base_uri": "https://localhost:8080/",
          "height": 101,
          "referenced_widgets": [
            "1b30bbad6ab748aaa80489d442351e34",
            "588cf1e05e664653be296bada467943e",
            "09f9ecf70e4c4114ab20da91ff030b8f",
            "d67a1211bb2b49f0b826601321789377",
            "c4c374a79b6748dd8aa9f3bc11f8ca3d",
            "75a1074249a44a6294b561ffa99381e8",
            "d56ac8305cd4462da852fa152663c5cf",
            "e73a8c9aaeb545d8b4b361b9dbe99e46",
            "316573c53b6743b1b191d1ea9eaa0fe7",
            "b1f578dc90fc4e1ea2bbcb50b61ed73f",
            "8d65a55aee354a1e9a9787f5fd00b117"
          ]
        },
        "outputId": "73648448-614f-4d2a-df83-cf1abda8d15b"
      },
      "execution_count": null,
      "outputs": [
        {
          "output_type": "stream",
          "name": "stderr",
          "text": [
            "<ipython-input-33-8f2452768a61>:1: TqdmDeprecationWarning: This function will be removed in tqdm==5.0.0\n",
            "Please use `tqdm.notebook.tqdm` instead of `tqdm.tqdm_notebook`\n",
            "  system_summaries = [summarize(text) for text in tqdm(tokenized_texts)]\n"
          ]
        },
        {
          "output_type": "display_data",
          "data": {
            "text/plain": [
              "  0%|          | 0/300 [00:00<?, ?it/s]"
            ],
            "application/vnd.jupyter.widget-view+json": {
              "version_major": 2,
              "version_minor": 0,
              "model_id": "1b30bbad6ab748aaa80489d442351e34"
            }
          },
          "metadata": {}
        }
      ]
    },
    {
      "cell_type": "markdown",
      "source": [
        "Print summary for 7-th sample:"
      ],
      "metadata": {
        "id": "CBNC5pqTICgz"
      }
    },
    {
      "cell_type": "code",
      "source": [
        "system_summaries[7]"
      ],
      "metadata": {
        "id": "Kqz8SPF1H_n2",
        "colab": {
          "base_uri": "https://localhost:8080/"
        },
        "outputId": "1d69c1d4-e6b2-4d32-dc6f-61cd2efb2054"
      },
      "execution_count": null,
      "outputs": [
        {
          "output_type": "execute_result",
          "data": {
            "text/plain": [
              "[\"`` I went down ... to bring my son home , '' Goldman said on CNN 's Larry King Live Wednesday , figuring his ex-wife 's death had made the custody issue a moot point , and `` we find out that this man does n't file custody , but he files to remove my name from a Brazilian birth certificate that they had issued for my son , who was born in Red Bank , New Jersey . ''\",\n",
              " \"`` A child belongs with his family , and there is no reason why David Goldman should not get his child back , '' Clinton said in a recent interview on NBC 's Today show .\",\n",
              " '`` The fact of the matter is that in order to be a parent , you have to be more than just a DNA donor , Mr. King .',\n",
              " 'Shortly after Bruna Bianchi Goldman arrived in her homeland she called to say she wanted a divorce , which she obtained in Brazil , and would stay there with their son , Sean .',\n",
              " \"`` I would tell him that he 's been very brave , as he has fought to have his son returned to him , '' Clinton said in the NBC interview .\"]"
            ]
          },
          "metadata": {},
          "execution_count": 34
        }
      ]
    }
  ]
}