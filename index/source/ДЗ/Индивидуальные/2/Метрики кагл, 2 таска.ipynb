{
 "cells": [
  {
   "cell_type": "code",
   "execution_count": 1,
   "id": "a5fa8550",
   "metadata": {
    "execution": {
     "iopub.execute_input": "2025-01-29T17:43:48.490687Z",
     "iopub.status.busy": "2025-01-29T17:43:48.490332Z",
     "iopub.status.idle": "2025-01-29T17:43:50.869825Z",
     "shell.execute_reply": "2025-01-29T17:43:50.869070Z"
    },
    "papermill": {
     "duration": 2.388822,
     "end_time": "2025-01-29T17:43:50.871653",
     "exception": false,
     "start_time": "2025-01-29T17:43:48.482831",
     "status": "completed"
    },
    "tags": []
   },
   "outputs": [],
   "source": [
    "import pandas as pd\n",
    "import numpy as np\n",
    "import matplotlib.pyplot as plt\n",
    "import seaborn as sns\n",
    "from tqdm import tqdm\n",
    "from datetime import datetime"
   ]
  },
  {
   "cell_type": "markdown",
   "id": "3060401f",
   "metadata": {
    "papermill": {
     "duration": 0.005296,
     "end_time": "2025-01-29T17:43:50.883136",
     "exception": false,
     "start_time": "2025-01-29T17:43:50.877840",
     "status": "completed"
    },
    "tags": []
   },
   "source": [
    "### Скачиваем необходимые библиотеки"
   ]
  },
  {
   "cell_type": "code",
   "execution_count": 2,
   "id": "895d0a36",
   "metadata": {
    "execution": {
     "iopub.execute_input": "2025-01-29T17:43:50.895172Z",
     "iopub.status.busy": "2025-01-29T17:43:50.894738Z",
     "iopub.status.idle": "2025-01-29T17:44:04.524725Z",
     "shell.execute_reply": "2025-01-29T17:44:04.523894Z"
    },
    "papermill": {
     "duration": 13.637793,
     "end_time": "2025-01-29T17:44:04.526470",
     "exception": false,
     "start_time": "2025-01-29T17:43:50.888677",
     "status": "completed"
    },
    "tags": []
   },
   "outputs": [],
   "source": [
    "data = pd.read_parquet('/kaggle/input/ioai-2025-preparation-class-lesson-2-homework/train.parquet')\n",
    "test_data = pd.read_csv('/kaggle/input/ioai-2025-preparation-class-lesson-2-homework/test.csv', parse_dates=['timestamp'])\n",
    "data['date'] = data['timestamp'].dt.date.astype(str)\n",
    "test_data['date'] = test_data['timestamp'].dt.date.astype(str)\n",
    "test_data['day'] = test_data['date'].apply(lambda p: '-' + '-'.join(p.split('-')[1:]))\n",
    "data['day'] = data['date'].apply(lambda p: '-' + '-'.join(p.split('-')[1:]))"
   ]
  },
  {
   "cell_type": "markdown",
   "id": "44ae07e8",
   "metadata": {
    "papermill": {
     "duration": 0.005158,
     "end_time": "2025-01-29T17:44:04.537517",
     "exception": false,
     "start_time": "2025-01-29T17:44:04.532359",
     "status": "completed"
    },
    "tags": []
   },
   "source": [
    "### Загружаем данные и создаём колонки даты и дня года"
   ]
  },
  {
   "cell_type": "code",
   "execution_count": 3,
   "id": "82aae707",
   "metadata": {
    "execution": {
     "iopub.execute_input": "2025-01-29T17:44:04.549141Z",
     "iopub.status.busy": "2025-01-29T17:44:04.548848Z",
     "iopub.status.idle": "2025-01-29T17:44:06.209178Z",
     "shell.execute_reply": "2025-01-29T17:44:06.208323Z"
    },
    "papermill": {
     "duration": 1.668577,
     "end_time": "2025-01-29T17:44:06.211429",
     "exception": false,
     "start_time": "2025-01-29T17:44:04.542852",
     "status": "completed"
    },
    "tags": []
   },
   "outputs": [],
   "source": [
    "data['year'] = data['timestamp'].dt.to_period('Y').astype(str)"
   ]
  },
  {
   "cell_type": "markdown",
   "id": "a8b4ec92",
   "metadata": {
    "papermill": {
     "duration": 0.00526,
     "end_time": "2025-01-29T17:44:06.223278",
     "exception": false,
     "start_time": "2025-01-29T17:44:06.218018",
     "status": "completed"
    },
    "tags": []
   },
   "source": [
    "### Также создаём колонку года"
   ]
  },
  {
   "cell_type": "code",
   "execution_count": 4,
   "id": "1e85a05d",
   "metadata": {
    "execution": {
     "iopub.execute_input": "2025-01-29T17:44:06.235035Z",
     "iopub.status.busy": "2025-01-29T17:44:06.234723Z",
     "iopub.status.idle": "2025-01-29T17:44:06.259586Z",
     "shell.execute_reply": "2025-01-29T17:44:06.258696Z"
    },
    "papermill": {
     "duration": 0.032373,
     "end_time": "2025-01-29T17:44:06.261065",
     "exception": false,
     "start_time": "2025-01-29T17:44:06.228692",
     "status": "completed"
    },
    "tags": []
   },
   "outputs": [
    {
     "data": {
      "text/html": [
       "<div>\n",
       "<style scoped>\n",
       "    .dataframe tbody tr th:only-of-type {\n",
       "        vertical-align: middle;\n",
       "    }\n",
       "\n",
       "    .dataframe tbody tr th {\n",
       "        vertical-align: top;\n",
       "    }\n",
       "\n",
       "    .dataframe thead th {\n",
       "        text-align: right;\n",
       "    }\n",
       "</style>\n",
       "<table border=\"1\" class=\"dataframe\">\n",
       "  <thead>\n",
       "    <tr style=\"text-align: right;\">\n",
       "      <th></th>\n",
       "      <th>timestamp</th>\n",
       "      <th>station_id</th>\n",
       "      <th>temperature</th>\n",
       "      <th>humidity</th>\n",
       "      <th>wind</th>\n",
       "      <th>date</th>\n",
       "      <th>day</th>\n",
       "      <th>year</th>\n",
       "    </tr>\n",
       "  </thead>\n",
       "  <tbody>\n",
       "    <tr>\n",
       "      <th>0</th>\n",
       "      <td>2000-04-01 00:00:00</td>\n",
       "      <td>1</td>\n",
       "      <td>14.520706</td>\n",
       "      <td>69.998333</td>\n",
       "      <td>4.046831</td>\n",
       "      <td>2000-04-01</td>\n",
       "      <td>-04-01</td>\n",
       "      <td>2000</td>\n",
       "    </tr>\n",
       "    <tr>\n",
       "      <th>1</th>\n",
       "      <td>2000-04-01 01:00:00</td>\n",
       "      <td>1</td>\n",
       "      <td>15.911492</td>\n",
       "      <td>69.998333</td>\n",
       "      <td>4.046831</td>\n",
       "      <td>2000-04-01</td>\n",
       "      <td>-04-01</td>\n",
       "      <td>2000</td>\n",
       "    </tr>\n",
       "    <tr>\n",
       "      <th>2</th>\n",
       "      <td>2000-04-01 02:00:00</td>\n",
       "      <td>1</td>\n",
       "      <td>13.301754</td>\n",
       "      <td>69.998333</td>\n",
       "      <td>4.046831</td>\n",
       "      <td>2000-04-01</td>\n",
       "      <td>-04-01</td>\n",
       "      <td>2000</td>\n",
       "    </tr>\n",
       "    <tr>\n",
       "      <th>3</th>\n",
       "      <td>2000-04-01 03:00:00</td>\n",
       "      <td>1</td>\n",
       "      <td>14.365540</td>\n",
       "      <td>69.998333</td>\n",
       "      <td>4.046831</td>\n",
       "      <td>2000-04-01</td>\n",
       "      <td>-04-01</td>\n",
       "      <td>2000</td>\n",
       "    </tr>\n",
       "    <tr>\n",
       "      <th>4</th>\n",
       "      <td>2000-04-01 04:00:00</td>\n",
       "      <td>1</td>\n",
       "      <td>13.145509</td>\n",
       "      <td>69.998333</td>\n",
       "      <td>4.046831</td>\n",
       "      <td>2000-04-01</td>\n",
       "      <td>-04-01</td>\n",
       "      <td>2000</td>\n",
       "    </tr>\n",
       "    <tr>\n",
       "      <th>...</th>\n",
       "      <td>...</td>\n",
       "      <td>...</td>\n",
       "      <td>...</td>\n",
       "      <td>...</td>\n",
       "      <td>...</td>\n",
       "      <td>...</td>\n",
       "      <td>...</td>\n",
       "      <td>...</td>\n",
       "    </tr>\n",
       "    <tr>\n",
       "      <th>6255979</th>\n",
       "      <td>2024-05-31 19:00:00</td>\n",
       "      <td>31</td>\n",
       "      <td>24.302536</td>\n",
       "      <td>60.024836</td>\n",
       "      <td>4.999833</td>\n",
       "      <td>2024-05-31</td>\n",
       "      <td>-05-31</td>\n",
       "      <td>2024</td>\n",
       "    </tr>\n",
       "    <tr>\n",
       "      <th>6255980</th>\n",
       "      <td>2024-05-31 20:00:00</td>\n",
       "      <td>31</td>\n",
       "      <td>22.693778</td>\n",
       "      <td>60.024836</td>\n",
       "      <td>4.999833</td>\n",
       "      <td>2024-05-31</td>\n",
       "      <td>-05-31</td>\n",
       "      <td>2024</td>\n",
       "    </tr>\n",
       "    <tr>\n",
       "      <th>6255981</th>\n",
       "      <td>2024-05-31 21:00:00</td>\n",
       "      <td>31</td>\n",
       "      <td>25.320728</td>\n",
       "      <td>60.024836</td>\n",
       "      <td>4.999833</td>\n",
       "      <td>2024-05-31</td>\n",
       "      <td>-05-31</td>\n",
       "      <td>2024</td>\n",
       "    </tr>\n",
       "    <tr>\n",
       "      <th>6255982</th>\n",
       "      <td>2024-05-31 22:00:00</td>\n",
       "      <td>31</td>\n",
       "      <td>24.480543</td>\n",
       "      <td>60.024836</td>\n",
       "      <td>4.999833</td>\n",
       "      <td>2024-05-31</td>\n",
       "      <td>-05-31</td>\n",
       "      <td>2024</td>\n",
       "    </tr>\n",
       "    <tr>\n",
       "      <th>6255983</th>\n",
       "      <td>2024-05-31 23:00:00</td>\n",
       "      <td>31</td>\n",
       "      <td>22.431178</td>\n",
       "      <td>60.024836</td>\n",
       "      <td>4.999833</td>\n",
       "      <td>2024-05-31</td>\n",
       "      <td>-05-31</td>\n",
       "      <td>2024</td>\n",
       "    </tr>\n",
       "  </tbody>\n",
       "</table>\n",
       "<p>6255984 rows × 8 columns</p>\n",
       "</div>"
      ],
      "text/plain": [
       "                  timestamp  station_id  temperature   humidity      wind  \\\n",
       "0       2000-04-01 00:00:00           1    14.520706  69.998333  4.046831   \n",
       "1       2000-04-01 01:00:00           1    15.911492  69.998333  4.046831   \n",
       "2       2000-04-01 02:00:00           1    13.301754  69.998333  4.046831   \n",
       "3       2000-04-01 03:00:00           1    14.365540  69.998333  4.046831   \n",
       "4       2000-04-01 04:00:00           1    13.145509  69.998333  4.046831   \n",
       "...                     ...         ...          ...        ...       ...   \n",
       "6255979 2024-05-31 19:00:00          31    24.302536  60.024836  4.999833   \n",
       "6255980 2024-05-31 20:00:00          31    22.693778  60.024836  4.999833   \n",
       "6255981 2024-05-31 21:00:00          31    25.320728  60.024836  4.999833   \n",
       "6255982 2024-05-31 22:00:00          31    24.480543  60.024836  4.999833   \n",
       "6255983 2024-05-31 23:00:00          31    22.431178  60.024836  4.999833   \n",
       "\n",
       "               date     day  year  \n",
       "0        2000-04-01  -04-01  2000  \n",
       "1        2000-04-01  -04-01  2000  \n",
       "2        2000-04-01  -04-01  2000  \n",
       "3        2000-04-01  -04-01  2000  \n",
       "4        2000-04-01  -04-01  2000  \n",
       "...             ...     ...   ...  \n",
       "6255979  2024-05-31  -05-31  2024  \n",
       "6255980  2024-05-31  -05-31  2024  \n",
       "6255981  2024-05-31  -05-31  2024  \n",
       "6255982  2024-05-31  -05-31  2024  \n",
       "6255983  2024-05-31  -05-31  2024  \n",
       "\n",
       "[6255984 rows x 8 columns]"
      ]
     },
     "execution_count": 4,
     "metadata": {},
     "output_type": "execute_result"
    }
   ],
   "source": [
    "data"
   ]
  },
  {
   "cell_type": "markdown",
   "id": "d28b1f67",
   "metadata": {
    "papermill": {
     "duration": 0.005348,
     "end_time": "2025-01-29T17:44:06.272228",
     "exception": false,
     "start_time": "2025-01-29T17:44:06.266880",
     "status": "completed"
    },
    "tags": []
   },
   "source": [
    "## Итак, основная идея: найти самые похожие на 2024 года по тому отрезку 2024 года, что нам дан: чем ближе температуры тем похожей года"
   ]
  },
  {
   "cell_type": "code",
   "execution_count": 5,
   "id": "be271c39",
   "metadata": {
    "execution": {
     "iopub.execute_input": "2025-01-29T17:44:06.284226Z",
     "iopub.status.busy": "2025-01-29T17:44:06.283920Z",
     "iopub.status.idle": "2025-01-29T17:44:07.462807Z",
     "shell.execute_reply": "2025-01-29T17:44:07.461989Z"
    },
    "papermill": {
     "duration": 1.18692,
     "end_time": "2025-01-29T17:44:07.464685",
     "exception": false,
     "start_time": "2025-01-29T17:44:06.277765",
     "status": "completed"
    },
    "tags": []
   },
   "outputs": [],
   "source": [
    "temp_grs = data.groupby(['year', 'day'], as_index=False).agg({'temperature': 'mean'})"
   ]
  },
  {
   "cell_type": "code",
   "execution_count": 6,
   "id": "b89f2121",
   "metadata": {
    "execution": {
     "iopub.execute_input": "2025-01-29T17:44:07.477924Z",
     "iopub.status.busy": "2025-01-29T17:44:07.477640Z",
     "iopub.status.idle": "2025-01-29T17:44:07.483180Z",
     "shell.execute_reply": "2025-01-29T17:44:07.482408Z"
    },
    "papermill": {
     "duration": 0.013816,
     "end_time": "2025-01-29T17:44:07.484617",
     "exception": false,
     "start_time": "2025-01-29T17:44:07.470801",
     "status": "completed"
    },
    "tags": []
   },
   "outputs": [],
   "source": [
    "days = temp_grs[temp_grs['year'] == '2024']['day'].tolist()"
   ]
  },
  {
   "cell_type": "code",
   "execution_count": 7,
   "id": "ca6dbf27",
   "metadata": {
    "execution": {
     "iopub.execute_input": "2025-01-29T17:44:07.496903Z",
     "iopub.status.busy": "2025-01-29T17:44:07.496635Z",
     "iopub.status.idle": "2025-01-29T17:44:07.502896Z",
     "shell.execute_reply": "2025-01-29T17:44:07.502144Z"
    },
    "papermill": {
     "duration": 0.013889,
     "end_time": "2025-01-29T17:44:07.504270",
     "exception": false,
     "start_time": "2025-01-29T17:44:07.490381",
     "status": "completed"
    },
    "tags": []
   },
   "outputs": [],
   "source": [
    "temp_new = temp_grs[temp_grs['day'].isin(days)]"
   ]
  },
  {
   "cell_type": "code",
   "execution_count": 8,
   "id": "89cd455a",
   "metadata": {
    "execution": {
     "iopub.execute_input": "2025-01-29T17:44:07.516363Z",
     "iopub.status.busy": "2025-01-29T17:44:07.516094Z",
     "iopub.status.idle": "2025-01-29T17:44:07.525614Z",
     "shell.execute_reply": "2025-01-29T17:44:07.524611Z"
    },
    "papermill": {
     "duration": 0.016999,
     "end_time": "2025-01-29T17:44:07.527027",
     "exception": false,
     "start_time": "2025-01-29T17:44:07.510028",
     "status": "completed"
    },
    "tags": []
   },
   "outputs": [
    {
     "data": {
      "text/html": [
       "<div>\n",
       "<style scoped>\n",
       "    .dataframe tbody tr th:only-of-type {\n",
       "        vertical-align: middle;\n",
       "    }\n",
       "\n",
       "    .dataframe tbody tr th {\n",
       "        vertical-align: top;\n",
       "    }\n",
       "\n",
       "    .dataframe thead th {\n",
       "        text-align: right;\n",
       "    }\n",
       "</style>\n",
       "<table border=\"1\" class=\"dataframe\">\n",
       "  <thead>\n",
       "    <tr style=\"text-align: right;\">\n",
       "      <th></th>\n",
       "      <th>year</th>\n",
       "      <th>day</th>\n",
       "      <th>temperature</th>\n",
       "    </tr>\n",
       "  </thead>\n",
       "  <tbody>\n",
       "    <tr>\n",
       "      <th>0</th>\n",
       "      <td>1999</td>\n",
       "      <td>-01-27</td>\n",
       "      <td>13.109063</td>\n",
       "    </tr>\n",
       "    <tr>\n",
       "      <th>1</th>\n",
       "      <td>1999</td>\n",
       "      <td>-01-28</td>\n",
       "      <td>14.609363</td>\n",
       "    </tr>\n",
       "    <tr>\n",
       "      <th>2</th>\n",
       "      <td>1999</td>\n",
       "      <td>-01-29</td>\n",
       "      <td>10.455098</td>\n",
       "    </tr>\n",
       "    <tr>\n",
       "      <th>3</th>\n",
       "      <td>1999</td>\n",
       "      <td>-01-30</td>\n",
       "      <td>10.416721</td>\n",
       "    </tr>\n",
       "    <tr>\n",
       "      <th>4</th>\n",
       "      <td>1999</td>\n",
       "      <td>-01-31</td>\n",
       "      <td>10.821021</td>\n",
       "    </tr>\n",
       "    <tr>\n",
       "      <th>...</th>\n",
       "      <td>...</td>\n",
       "      <td>...</td>\n",
       "      <td>...</td>\n",
       "    </tr>\n",
       "    <tr>\n",
       "      <th>9252</th>\n",
       "      <td>2024</td>\n",
       "      <td>-05-27</td>\n",
       "      <td>27.722757</td>\n",
       "    </tr>\n",
       "    <tr>\n",
       "      <th>9253</th>\n",
       "      <td>2024</td>\n",
       "      <td>-05-28</td>\n",
       "      <td>28.097774</td>\n",
       "    </tr>\n",
       "    <tr>\n",
       "      <th>9254</th>\n",
       "      <td>2024</td>\n",
       "      <td>-05-29</td>\n",
       "      <td>27.957307</td>\n",
       "    </tr>\n",
       "    <tr>\n",
       "      <th>9255</th>\n",
       "      <td>2024</td>\n",
       "      <td>-05-30</td>\n",
       "      <td>28.020613</td>\n",
       "    </tr>\n",
       "    <tr>\n",
       "      <th>9256</th>\n",
       "      <td>2024</td>\n",
       "      <td>-05-31</td>\n",
       "      <td>28.374865</td>\n",
       "    </tr>\n",
       "  </tbody>\n",
       "</table>\n",
       "<p>3907 rows × 3 columns</p>\n",
       "</div>"
      ],
      "text/plain": [
       "      year     day  temperature\n",
       "0     1999  -01-27    13.109063\n",
       "1     1999  -01-28    14.609363\n",
       "2     1999  -01-29    10.455098\n",
       "3     1999  -01-30    10.416721\n",
       "4     1999  -01-31    10.821021\n",
       "...    ...     ...          ...\n",
       "9252  2024  -05-27    27.722757\n",
       "9253  2024  -05-28    28.097774\n",
       "9254  2024  -05-29    27.957307\n",
       "9255  2024  -05-30    28.020613\n",
       "9256  2024  -05-31    28.374865\n",
       "\n",
       "[3907 rows x 3 columns]"
      ]
     },
     "execution_count": 8,
     "metadata": {},
     "output_type": "execute_result"
    }
   ],
   "source": [
    "temp_new"
   ]
  },
  {
   "cell_type": "code",
   "execution_count": 9,
   "id": "49dfcf61",
   "metadata": {
    "execution": {
     "iopub.execute_input": "2025-01-29T17:44:07.539711Z",
     "iopub.status.busy": "2025-01-29T17:44:07.539433Z",
     "iopub.status.idle": "2025-01-29T17:44:07.641921Z",
     "shell.execute_reply": "2025-01-29T17:44:07.640921Z"
    },
    "papermill": {
     "duration": 0.110968,
     "end_time": "2025-01-29T17:44:07.643882",
     "exception": false,
     "start_time": "2025-01-29T17:44:07.532914",
     "status": "completed"
    },
    "tags": []
   },
   "outputs": [],
   "source": [
    "dct = dict()\n",
    "\n",
    "for p in temp_new['year'].unique():\n",
    "    t1 = temp_new[temp_new['year'] == p]\n",
    "    t2 = temp_new[temp_new['year'] == '2024']\n",
    "    t = t1.merge(t2, on='day')\n",
    "    prt = t['temperature_x'] - t['temperature_y']\n",
    "    prt = prt.apply(abs)\n",
    "    dct[p] = sum(prt)\n",
    "dct = sorted(dct.items(), key=lambda x: x[1])"
   ]
  },
  {
   "cell_type": "code",
   "execution_count": 10,
   "id": "5811a4b4",
   "metadata": {
    "execution": {
     "iopub.execute_input": "2025-01-29T17:44:07.656924Z",
     "iopub.status.busy": "2025-01-29T17:44:07.656633Z",
     "iopub.status.idle": "2025-01-29T17:44:07.660511Z",
     "shell.execute_reply": "2025-01-29T17:44:07.659714Z"
    },
    "papermill": {
     "duration": 0.011825,
     "end_time": "2025-01-29T17:44:07.661864",
     "exception": false,
     "start_time": "2025-01-29T17:44:07.650039",
     "status": "completed"
    },
    "tags": []
   },
   "outputs": [],
   "source": [
    "good_years = [dct[i][0] for i in range(9)]"
   ]
  },
  {
   "cell_type": "markdown",
   "id": "96a8a867",
   "metadata": {
    "papermill": {
     "duration": 0.00559,
     "end_time": "2025-01-29T17:44:07.673496",
     "exception": false,
     "start_time": "2025-01-29T17:44:07.667906",
     "status": "completed"
    },
    "tags": []
   },
   "source": [
    "### Получаем список лучших лет, включая 2024 год"
   ]
  },
  {
   "cell_type": "code",
   "execution_count": 11,
   "id": "90de6fe9",
   "metadata": {
    "execution": {
     "iopub.execute_input": "2025-01-29T17:44:07.686427Z",
     "iopub.status.busy": "2025-01-29T17:44:07.686087Z",
     "iopub.status.idle": "2025-01-29T17:44:07.691285Z",
     "shell.execute_reply": "2025-01-29T17:44:07.690356Z"
    },
    "papermill": {
     "duration": 0.013481,
     "end_time": "2025-01-29T17:44:07.692830",
     "exception": false,
     "start_time": "2025-01-29T17:44:07.679349",
     "status": "completed"
    },
    "tags": []
   },
   "outputs": [
    {
     "data": {
      "text/plain": [
       "['2024', '2005', '2001', '2002', '2021', '2019', '1999', '2023', '2006']"
      ]
     },
     "execution_count": 11,
     "metadata": {},
     "output_type": "execute_result"
    }
   ],
   "source": [
    "good_years"
   ]
  },
  {
   "cell_type": "markdown",
   "id": "cdab9dab",
   "metadata": {
    "papermill": {
     "duration": 0.005695,
     "end_time": "2025-01-29T17:44:07.704362",
     "exception": false,
     "start_time": "2025-01-29T17:44:07.698667",
     "status": "completed"
    },
    "tags": []
   },
   "source": [
    "### Оставляем только хорошие года"
   ]
  },
  {
   "cell_type": "code",
   "execution_count": 12,
   "id": "1208c317",
   "metadata": {
    "execution": {
     "iopub.execute_input": "2025-01-29T17:44:07.717029Z",
     "iopub.status.busy": "2025-01-29T17:44:07.716744Z",
     "iopub.status.idle": "2025-01-29T17:44:08.253216Z",
     "shell.execute_reply": "2025-01-29T17:44:08.252433Z"
    },
    "papermill": {
     "duration": 0.544777,
     "end_time": "2025-01-29T17:44:08.255026",
     "exception": false,
     "start_time": "2025-01-29T17:44:07.710249",
     "status": "completed"
    },
    "tags": []
   },
   "outputs": [],
   "source": [
    "data = data[data['year'].isin(good_years)]"
   ]
  },
  {
   "cell_type": "code",
   "execution_count": 13,
   "id": "39c31099",
   "metadata": {
    "execution": {
     "iopub.execute_input": "2025-01-29T17:44:08.268276Z",
     "iopub.status.busy": "2025-01-29T17:44:08.267954Z",
     "iopub.status.idle": "2025-01-29T17:44:08.280821Z",
     "shell.execute_reply": "2025-01-29T17:44:08.279984Z"
    },
    "papermill": {
     "duration": 0.021001,
     "end_time": "2025-01-29T17:44:08.282219",
     "exception": false,
     "start_time": "2025-01-29T17:44:08.261218",
     "status": "completed"
    },
    "tags": []
   },
   "outputs": [
    {
     "data": {
      "text/html": [
       "<div>\n",
       "<style scoped>\n",
       "    .dataframe tbody tr th:only-of-type {\n",
       "        vertical-align: middle;\n",
       "    }\n",
       "\n",
       "    .dataframe tbody tr th {\n",
       "        vertical-align: top;\n",
       "    }\n",
       "\n",
       "    .dataframe thead th {\n",
       "        text-align: right;\n",
       "    }\n",
       "</style>\n",
       "<table border=\"1\" class=\"dataframe\">\n",
       "  <thead>\n",
       "    <tr style=\"text-align: right;\">\n",
       "      <th></th>\n",
       "      <th>timestamp</th>\n",
       "      <th>station_id</th>\n",
       "      <th>temperature</th>\n",
       "      <th>humidity</th>\n",
       "      <th>wind</th>\n",
       "      <th>date</th>\n",
       "      <th>day</th>\n",
       "      <th>year</th>\n",
       "    </tr>\n",
       "  </thead>\n",
       "  <tbody>\n",
       "    <tr>\n",
       "      <th>6600</th>\n",
       "      <td>2001-01-01 00:00:00</td>\n",
       "      <td>1</td>\n",
       "      <td>-0.659748</td>\n",
       "      <td>50.344267</td>\n",
       "      <td>1.300366</td>\n",
       "      <td>2001-01-01</td>\n",
       "      <td>-01-01</td>\n",
       "      <td>2001</td>\n",
       "    </tr>\n",
       "    <tr>\n",
       "      <th>6601</th>\n",
       "      <td>2001-01-01 01:00:00</td>\n",
       "      <td>1</td>\n",
       "      <td>0.263284</td>\n",
       "      <td>50.344267</td>\n",
       "      <td>1.300366</td>\n",
       "      <td>2001-01-01</td>\n",
       "      <td>-01-01</td>\n",
       "      <td>2001</td>\n",
       "    </tr>\n",
       "    <tr>\n",
       "      <th>6602</th>\n",
       "      <td>2001-01-01 02:00:00</td>\n",
       "      <td>1</td>\n",
       "      <td>34.936032</td>\n",
       "      <td>50.344267</td>\n",
       "      <td>1.300366</td>\n",
       "      <td>2001-01-01</td>\n",
       "      <td>-01-01</td>\n",
       "      <td>2001</td>\n",
       "    </tr>\n",
       "    <tr>\n",
       "      <th>6603</th>\n",
       "      <td>2001-01-01 03:00:00</td>\n",
       "      <td>1</td>\n",
       "      <td>-0.818929</td>\n",
       "      <td>50.344267</td>\n",
       "      <td>1.300366</td>\n",
       "      <td>2001-01-01</td>\n",
       "      <td>-01-01</td>\n",
       "      <td>2001</td>\n",
       "    </tr>\n",
       "    <tr>\n",
       "      <th>6604</th>\n",
       "      <td>2001-01-01 04:00:00</td>\n",
       "      <td>1</td>\n",
       "      <td>2.791386</td>\n",
       "      <td>50.344267</td>\n",
       "      <td>1.300366</td>\n",
       "      <td>2001-01-01</td>\n",
       "      <td>-01-01</td>\n",
       "      <td>2001</td>\n",
       "    </tr>\n",
       "    <tr>\n",
       "      <th>...</th>\n",
       "      <td>...</td>\n",
       "      <td>...</td>\n",
       "      <td>...</td>\n",
       "      <td>...</td>\n",
       "      <td>...</td>\n",
       "      <td>...</td>\n",
       "      <td>...</td>\n",
       "      <td>...</td>\n",
       "    </tr>\n",
       "    <tr>\n",
       "      <th>6255979</th>\n",
       "      <td>2024-05-31 19:00:00</td>\n",
       "      <td>31</td>\n",
       "      <td>24.302536</td>\n",
       "      <td>60.024836</td>\n",
       "      <td>4.999833</td>\n",
       "      <td>2024-05-31</td>\n",
       "      <td>-05-31</td>\n",
       "      <td>2024</td>\n",
       "    </tr>\n",
       "    <tr>\n",
       "      <th>6255980</th>\n",
       "      <td>2024-05-31 20:00:00</td>\n",
       "      <td>31</td>\n",
       "      <td>22.693778</td>\n",
       "      <td>60.024836</td>\n",
       "      <td>4.999833</td>\n",
       "      <td>2024-05-31</td>\n",
       "      <td>-05-31</td>\n",
       "      <td>2024</td>\n",
       "    </tr>\n",
       "    <tr>\n",
       "      <th>6255981</th>\n",
       "      <td>2024-05-31 21:00:00</td>\n",
       "      <td>31</td>\n",
       "      <td>25.320728</td>\n",
       "      <td>60.024836</td>\n",
       "      <td>4.999833</td>\n",
       "      <td>2024-05-31</td>\n",
       "      <td>-05-31</td>\n",
       "      <td>2024</td>\n",
       "    </tr>\n",
       "    <tr>\n",
       "      <th>6255982</th>\n",
       "      <td>2024-05-31 22:00:00</td>\n",
       "      <td>31</td>\n",
       "      <td>24.480543</td>\n",
       "      <td>60.024836</td>\n",
       "      <td>4.999833</td>\n",
       "      <td>2024-05-31</td>\n",
       "      <td>-05-31</td>\n",
       "      <td>2024</td>\n",
       "    </tr>\n",
       "    <tr>\n",
       "      <th>6255983</th>\n",
       "      <td>2024-05-31 23:00:00</td>\n",
       "      <td>31</td>\n",
       "      <td>22.431178</td>\n",
       "      <td>60.024836</td>\n",
       "      <td>4.999833</td>\n",
       "      <td>2024-05-31</td>\n",
       "      <td>-05-31</td>\n",
       "      <td>2024</td>\n",
       "    </tr>\n",
       "  </tbody>\n",
       "</table>\n",
       "<p>1862448 rows × 8 columns</p>\n",
       "</div>"
      ],
      "text/plain": [
       "                  timestamp  station_id  temperature   humidity      wind  \\\n",
       "6600    2001-01-01 00:00:00           1    -0.659748  50.344267  1.300366   \n",
       "6601    2001-01-01 01:00:00           1     0.263284  50.344267  1.300366   \n",
       "6602    2001-01-01 02:00:00           1    34.936032  50.344267  1.300366   \n",
       "6603    2001-01-01 03:00:00           1    -0.818929  50.344267  1.300366   \n",
       "6604    2001-01-01 04:00:00           1     2.791386  50.344267  1.300366   \n",
       "...                     ...         ...          ...        ...       ...   \n",
       "6255979 2024-05-31 19:00:00          31    24.302536  60.024836  4.999833   \n",
       "6255980 2024-05-31 20:00:00          31    22.693778  60.024836  4.999833   \n",
       "6255981 2024-05-31 21:00:00          31    25.320728  60.024836  4.999833   \n",
       "6255982 2024-05-31 22:00:00          31    24.480543  60.024836  4.999833   \n",
       "6255983 2024-05-31 23:00:00          31    22.431178  60.024836  4.999833   \n",
       "\n",
       "               date     day  year  \n",
       "6600     2001-01-01  -01-01  2001  \n",
       "6601     2001-01-01  -01-01  2001  \n",
       "6602     2001-01-01  -01-01  2001  \n",
       "6603     2001-01-01  -01-01  2001  \n",
       "6604     2001-01-01  -01-01  2001  \n",
       "...             ...     ...   ...  \n",
       "6255979  2024-05-31  -05-31  2024  \n",
       "6255980  2024-05-31  -05-31  2024  \n",
       "6255981  2024-05-31  -05-31  2024  \n",
       "6255982  2024-05-31  -05-31  2024  \n",
       "6255983  2024-05-31  -05-31  2024  \n",
       "\n",
       "[1862448 rows x 8 columns]"
      ]
     },
     "execution_count": 13,
     "metadata": {},
     "output_type": "execute_result"
    }
   ],
   "source": [
    "data"
   ]
  },
  {
   "cell_type": "markdown",
   "id": "dbf2fc65",
   "metadata": {
    "papermill": {
     "duration": 0.006059,
     "end_time": "2025-01-29T17:44:08.294720",
     "exception": false,
     "start_time": "2025-01-29T17:44:08.288661",
     "status": "completed"
    },
    "tags": []
   },
   "source": [
    "### На графике видно, что года примерно близки друг к другу"
   ]
  },
  {
   "cell_type": "code",
   "execution_count": 14,
   "id": "dc255bb2",
   "metadata": {
    "execution": {
     "iopub.execute_input": "2025-01-29T17:44:08.308296Z",
     "iopub.status.busy": "2025-01-29T17:44:08.307965Z",
     "iopub.status.idle": "2025-01-29T17:44:11.263723Z",
     "shell.execute_reply": "2025-01-29T17:44:11.262687Z"
    },
    "papermill": {
     "duration": 2.965718,
     "end_time": "2025-01-29T17:44:11.266699",
     "exception": false,
     "start_time": "2025-01-29T17:44:08.300981",
     "status": "completed"
    },
    "tags": []
   },
   "outputs": [
    {
     "data": {
      "text/plain": [
       "<Axes: xlabel='day', ylabel='temperature'>"
      ]
     },
     "execution_count": 14,
     "metadata": {},
     "output_type": "execute_result"
    },
    {
     "data": {
      "image/png": "[encoded data removed]",
      "text/plain": [
       "<Figure size 640x480 with 1 Axes>"
      ]
     },
     "metadata": {},
     "output_type": "display_data"
    }
   ],
   "source": [
    "sns.scatterplot(data=temp_grs[temp_grs['year'].isin(good_years)], x='day', y='temperature', hue='year')"
   ]
  },
  {
   "cell_type": "markdown",
   "id": "7977484d",
   "metadata": {
    "papermill": {
     "duration": 0.008649,
     "end_time": "2025-01-29T17:44:11.284492",
     "exception": false,
     "start_time": "2025-01-29T17:44:11.275843",
     "status": "completed"
    },
    "tags": []
   },
   "source": [
    "### Группируем данные по дням и станциям и аггрегируем списком температур, где мы будем искать минимум и максимум"
   ]
  },
  {
   "cell_type": "code",
   "execution_count": 15,
   "id": "bc9c3ea7",
   "metadata": {
    "execution": {
     "iopub.execute_input": "2025-01-29T17:44:11.302884Z",
     "iopub.status.busy": "2025-01-29T17:44:11.302570Z",
     "iopub.status.idle": "2025-01-29T17:44:11.991951Z",
     "shell.execute_reply": "2025-01-29T17:44:11.991067Z"
    },
    "papermill": {
     "duration": 0.700714,
     "end_time": "2025-01-29T17:44:11.993783",
     "exception": false,
     "start_time": "2025-01-29T17:44:11.293069",
     "status": "completed"
    },
    "tags": []
   },
   "outputs": [],
   "source": [
    "grs = data.groupby(['day', 'station_id'], as_index=False).agg(m=('temperature', list))"
   ]
  },
  {
   "cell_type": "code",
   "execution_count": 16,
   "id": "440cd06b",
   "metadata": {
    "execution": {
     "iopub.execute_input": "2025-01-29T17:44:12.012582Z",
     "iopub.status.busy": "2025-01-29T17:44:12.012267Z",
     "iopub.status.idle": "2025-01-29T17:44:12.024602Z",
     "shell.execute_reply": "2025-01-29T17:44:12.023884Z"
    },
    "papermill": {
     "duration": 0.023172,
     "end_time": "2025-01-29T17:44:12.026025",
     "exception": false,
     "start_time": "2025-01-29T17:44:12.002853",
     "status": "completed"
    },
    "tags": []
   },
   "outputs": [],
   "source": [
    "ans = test_data.merge(grs)"
   ]
  },
  {
   "cell_type": "markdown",
   "id": "802ff059",
   "metadata": {
    "papermill": {
     "duration": 0.008505,
     "end_time": "2025-01-29T17:44:12.043394",
     "exception": false,
     "start_time": "2025-01-29T17:44:12.034889",
     "status": "completed"
    },
    "tags": []
   },
   "source": [
    "### Так как в данных много выбросов, возьмём не минимум и максимум, а 5% квантиль и 95% квантиль"
   ]
  },
  {
   "cell_type": "code",
   "execution_count": 17,
   "id": "d67225ec",
   "metadata": {
    "execution": {
     "iopub.execute_input": "2025-01-29T17:44:12.061537Z",
     "iopub.status.busy": "2025-01-29T17:44:12.061229Z",
     "iopub.status.idle": "2025-01-29T17:44:12.819644Z",
     "shell.execute_reply": "2025-01-29T17:44:12.818626Z"
    },
    "papermill": {
     "duration": 0.770469,
     "end_time": "2025-01-29T17:44:12.822417",
     "exception": false,
     "start_time": "2025-01-29T17:44:12.051948",
     "status": "completed"
    },
    "tags": []
   },
   "outputs": [],
   "source": [
    "ans['answer'] = ans.apply(lambda x: np.quantile(x['m'], 0.95) if x['measure_type'] == 'max' else np.quantile(x['m'], 0.05) , axis=1)"
   ]
  },
  {
   "cell_type": "code",
   "execution_count": 18,
   "id": "a743c505",
   "metadata": {
    "execution": {
     "iopub.execute_input": "2025-01-29T17:44:12.842282Z",
     "iopub.status.busy": "2025-01-29T17:44:12.841861Z",
     "iopub.status.idle": "2025-01-29T17:44:12.870780Z",
     "shell.execute_reply": "2025-01-29T17:44:12.869810Z"
    },
    "papermill": {
     "duration": 0.040396,
     "end_time": "2025-01-29T17:44:12.872507",
     "exception": false,
     "start_time": "2025-01-29T17:44:12.832111",
     "status": "completed"
    },
    "tags": []
   },
   "outputs": [
    {
     "data": {
      "text/html": [
       "<div>\n",
       "<style scoped>\n",
       "    .dataframe tbody tr th:only-of-type {\n",
       "        vertical-align: middle;\n",
       "    }\n",
       "\n",
       "    .dataframe tbody tr th {\n",
       "        vertical-align: top;\n",
       "    }\n",
       "\n",
       "    .dataframe thead th {\n",
       "        text-align: right;\n",
       "    }\n",
       "</style>\n",
       "<table border=\"1\" class=\"dataframe\">\n",
       "  <thead>\n",
       "    <tr style=\"text-align: right;\">\n",
       "      <th></th>\n",
       "      <th>ID</th>\n",
       "      <th>station_id</th>\n",
       "      <th>timestamp</th>\n",
       "      <th>measure_type</th>\n",
       "      <th>date</th>\n",
       "      <th>day</th>\n",
       "      <th>m</th>\n",
       "      <th>answer</th>\n",
       "    </tr>\n",
       "  </thead>\n",
       "  <tbody>\n",
       "    <tr>\n",
       "      <th>0</th>\n",
       "      <td>0</td>\n",
       "      <td>1</td>\n",
       "      <td>2024-06-01</td>\n",
       "      <td>max</td>\n",
       "      <td>2024-06-01</td>\n",
       "      <td>-06-01</td>\n",
       "      <td>[24.62596438405065, 23.110375833393153, 23.186...</td>\n",
       "      <td>30.754406</td>\n",
       "    </tr>\n",
       "    <tr>\n",
       "      <th>1</th>\n",
       "      <td>1</td>\n",
       "      <td>1</td>\n",
       "      <td>2024-06-01</td>\n",
       "      <td>min</td>\n",
       "      <td>2024-06-01</td>\n",
       "      <td>-06-01</td>\n",
       "      <td>[24.62596438405065, 23.110375833393153, 23.186...</td>\n",
       "      <td>21.079490</td>\n",
       "    </tr>\n",
       "    <tr>\n",
       "      <th>2</th>\n",
       "      <td>2</td>\n",
       "      <td>1</td>\n",
       "      <td>2024-06-02</td>\n",
       "      <td>max</td>\n",
       "      <td>2024-06-02</td>\n",
       "      <td>-06-02</td>\n",
       "      <td>[22.601968053493753, 23.44713537953459, 22.665...</td>\n",
       "      <td>30.782730</td>\n",
       "    </tr>\n",
       "    <tr>\n",
       "      <th>3</th>\n",
       "      <td>3</td>\n",
       "      <td>1</td>\n",
       "      <td>2024-06-02</td>\n",
       "      <td>min</td>\n",
       "      <td>2024-06-02</td>\n",
       "      <td>-06-02</td>\n",
       "      <td>[22.601968053493753, 23.44713537953459, 22.665...</td>\n",
       "      <td>21.021337</td>\n",
       "    </tr>\n",
       "    <tr>\n",
       "      <th>4</th>\n",
       "      <td>4</td>\n",
       "      <td>1</td>\n",
       "      <td>2024-06-03</td>\n",
       "      <td>max</td>\n",
       "      <td>2024-06-03</td>\n",
       "      <td>-06-03</td>\n",
       "      <td>[21.05045207810091, 21.63706544215777, 26.7929...</td>\n",
       "      <td>30.766986</td>\n",
       "    </tr>\n",
       "    <tr>\n",
       "      <th>...</th>\n",
       "      <td>...</td>\n",
       "      <td>...</td>\n",
       "      <td>...</td>\n",
       "      <td>...</td>\n",
       "      <td>...</td>\n",
       "      <td>...</td>\n",
       "      <td>...</td>\n",
       "      <td>...</td>\n",
       "    </tr>\n",
       "    <tr>\n",
       "      <th>5699</th>\n",
       "      <td>5699</td>\n",
       "      <td>31</td>\n",
       "      <td>2024-08-29</td>\n",
       "      <td>min</td>\n",
       "      <td>2024-08-29</td>\n",
       "      <td>-08-29</td>\n",
       "      <td>[13.83906231768888, 11.261104986779799, 12.078...</td>\n",
       "      <td>11.321356</td>\n",
       "    </tr>\n",
       "    <tr>\n",
       "      <th>5700</th>\n",
       "      <td>5700</td>\n",
       "      <td>31</td>\n",
       "      <td>2024-08-30</td>\n",
       "      <td>max</td>\n",
       "      <td>2024-08-30</td>\n",
       "      <td>-08-30</td>\n",
       "      <td>[13.136255647614993, 13.388263806453653, 12.81...</td>\n",
       "      <td>21.731186</td>\n",
       "    </tr>\n",
       "    <tr>\n",
       "      <th>5701</th>\n",
       "      <td>5701</td>\n",
       "      <td>31</td>\n",
       "      <td>2024-08-30</td>\n",
       "      <td>min</td>\n",
       "      <td>2024-08-30</td>\n",
       "      <td>-08-30</td>\n",
       "      <td>[13.136255647614993, 13.388263806453653, 12.81...</td>\n",
       "      <td>11.297263</td>\n",
       "    </tr>\n",
       "    <tr>\n",
       "      <th>5702</th>\n",
       "      <td>5702</td>\n",
       "      <td>31</td>\n",
       "      <td>2024-08-31</td>\n",
       "      <td>max</td>\n",
       "      <td>2024-08-31</td>\n",
       "      <td>-08-31</td>\n",
       "      <td>[13.955870410079445, 14.358384775814299, 14.25...</td>\n",
       "      <td>21.361320</td>\n",
       "    </tr>\n",
       "    <tr>\n",
       "      <th>5703</th>\n",
       "      <td>5703</td>\n",
       "      <td>31</td>\n",
       "      <td>2024-08-31</td>\n",
       "      <td>min</td>\n",
       "      <td>2024-08-31</td>\n",
       "      <td>-08-31</td>\n",
       "      <td>[13.955870410079445, 14.358384775814299, 14.25...</td>\n",
       "      <td>11.289271</td>\n",
       "    </tr>\n",
       "  </tbody>\n",
       "</table>\n",
       "<p>5704 rows × 8 columns</p>\n",
       "</div>"
      ],
      "text/plain": [
       "        ID  station_id  timestamp measure_type        date     day  \\\n",
       "0        0           1 2024-06-01          max  2024-06-01  -06-01   \n",
       "1        1           1 2024-06-01          min  2024-06-01  -06-01   \n",
       "2        2           1 2024-06-02          max  2024-06-02  -06-02   \n",
       "3        3           1 2024-06-02          min  2024-06-02  -06-02   \n",
       "4        4           1 2024-06-03          max  2024-06-03  -06-03   \n",
       "...    ...         ...        ...          ...         ...     ...   \n",
       "5699  5699          31 2024-08-29          min  2024-08-29  -08-29   \n",
       "5700  5700          31 2024-08-30          max  2024-08-30  -08-30   \n",
       "5701  5701          31 2024-08-30          min  2024-08-30  -08-30   \n",
       "5702  5702          31 2024-08-31          max  2024-08-31  -08-31   \n",
       "5703  5703          31 2024-08-31          min  2024-08-31  -08-31   \n",
       "\n",
       "                                                      m     answer  \n",
       "0     [24.62596438405065, 23.110375833393153, 23.186...  30.754406  \n",
       "1     [24.62596438405065, 23.110375833393153, 23.186...  21.079490  \n",
       "2     [22.601968053493753, 23.44713537953459, 22.665...  30.782730  \n",
       "3     [22.601968053493753, 23.44713537953459, 22.665...  21.021337  \n",
       "4     [21.05045207810091, 21.63706544215777, 26.7929...  30.766986  \n",
       "...                                                 ...        ...  \n",
       "5699  [13.83906231768888, 11.261104986779799, 12.078...  11.321356  \n",
       "5700  [13.136255647614993, 13.388263806453653, 12.81...  21.731186  \n",
       "5701  [13.136255647614993, 13.388263806453653, 12.81...  11.297263  \n",
       "5702  [13.955870410079445, 14.358384775814299, 14.25...  21.361320  \n",
       "5703  [13.955870410079445, 14.358384775814299, 14.25...  11.289271  \n",
       "\n",
       "[5704 rows x 8 columns]"
      ]
     },
     "execution_count": 18,
     "metadata": {},
     "output_type": "execute_result"
    }
   ],
   "source": [
    "ans"
   ]
  },
  {
   "cell_type": "markdown",
   "id": "1614d623",
   "metadata": {
    "papermill": {
     "duration": 0.013303,
     "end_time": "2025-01-29T17:44:12.901103",
     "exception": false,
     "start_time": "2025-01-29T17:44:12.887800",
     "status": "completed"
    },
    "tags": []
   },
   "source": [
    "## Сохраняем ответ"
   ]
  },
  {
   "cell_type": "code",
   "execution_count": 19,
   "id": "1edde662",
   "metadata": {
    "execution": {
     "iopub.execute_input": "2025-01-29T17:44:12.923178Z",
     "iopub.status.busy": "2025-01-29T17:44:12.922741Z",
     "iopub.status.idle": "2025-01-29T17:44:12.936346Z",
     "shell.execute_reply": "2025-01-29T17:44:12.935378Z"
    },
    "papermill": {
     "duration": 0.026166,
     "end_time": "2025-01-29T17:44:12.938271",
     "exception": false,
     "start_time": "2025-01-29T17:44:12.912105",
     "status": "completed"
    },
    "tags": []
   },
   "outputs": [],
   "source": [
    "sab = pd.read_csv(r'/kaggle/input/ioai-2025-preparation-class-lesson-2-homework/sample_submission.csv')"
   ]
  },
  {
   "cell_type": "code",
   "execution_count": 20,
   "id": "de75e6b9",
   "metadata": {
    "execution": {
     "iopub.execute_input": "2025-01-29T17:44:12.965450Z",
     "iopub.status.busy": "2025-01-29T17:44:12.964987Z",
     "iopub.status.idle": "2025-01-29T17:44:12.969953Z",
     "shell.execute_reply": "2025-01-29T17:44:12.969022Z"
    },
    "papermill": {
     "duration": 0.017787,
     "end_time": "2025-01-29T17:44:12.971509",
     "exception": false,
     "start_time": "2025-01-29T17:44:12.953722",
     "status": "completed"
    },
    "tags": []
   },
   "outputs": [],
   "source": [
    "sab['temperature'] = ans['answer']"
   ]
  },
  {
   "cell_type": "code",
   "execution_count": 21,
   "id": "ee9d04b7",
   "metadata": {
    "execution": {
     "iopub.execute_input": "2025-01-29T17:44:12.991159Z",
     "iopub.status.busy": "2025-01-29T17:44:12.990814Z",
     "iopub.status.idle": "2025-01-29T17:44:13.015917Z",
     "shell.execute_reply": "2025-01-29T17:44:13.014959Z"
    },
    "papermill": {
     "duration": 0.036791,
     "end_time": "2025-01-29T17:44:13.017531",
     "exception": false,
     "start_time": "2025-01-29T17:44:12.980740",
     "status": "completed"
    },
    "tags": []
   },
   "outputs": [],
   "source": [
    "sab.to_csv(r'submission.csv', index=False)"
   ]
  },
  {
   "cell_type": "code",
   "execution_count": null,
   "id": "200117d4",
   "metadata": {
    "papermill": {
     "duration": 0.008669,
     "end_time": "2025-01-29T17:44:13.035366",
     "exception": false,
     "start_time": "2025-01-29T17:44:13.026697",
     "status": "completed"
    },
    "tags": []
   },
   "outputs": [],
   "source": []
  }
 ],
 "metadata": {
  "kaggle": {
   "accelerator": "none",
   "dataSources": [
    {
     "databundleVersionId": 10634646,
     "sourceId": 90863,
     "sourceType": "competition"
    }
   ],
   "dockerImageVersionId": 30839,
   "isGpuEnabled": false,
   "isInternetEnabled": true,
   "language": "python",
   "sourceType": "notebook"
  },
  "kernelspec": {
   "display_name": "Python 3",
   "language": "python",
   "name": "python3"
  },
  "language_info": {
   "codemirror_mode": {
    "name": "ipython",
    "version": 3
   },
   "file_extension": ".py",
   "mimetype": "text/x-python",
   "name": "python",
   "nbconvert_exporter": "python",
   "pygments_lexer": "ipython3",
   "version": "3.10.12"
  },
  "papermill": {
   "default_parameters": {},
   "duration": 28.220915,
   "end_time": "2025-01-29T17:44:14.172042",
   "environment_variables": {},
   "exception": null,
   "input_path": "__notebook__.ipynb",
   "output_path": "__notebook__.ipynb",
   "parameters": {},
   "start_time": "2025-01-29T17:43:45.951127",
   "version": "2.6.0"
  }
 },
 "nbformat": 4,
 "nbformat_minor": 5
}
