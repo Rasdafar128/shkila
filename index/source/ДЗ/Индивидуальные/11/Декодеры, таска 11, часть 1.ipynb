{
 "cells": [
  {
   "cell_type": "code",
   "execution_count": 1,
   "id": "5b015c0e",
   "metadata": {
    "_cell_guid": "b1076dfc-b9ad-4769-8c92-a6c4dae69d19",
    "_uuid": "8f2839f25d086af736a60e9eeb907d3b93b6e0e5",
    "execution": {
     "iopub.execute_input": "2025-04-02T16:53:56.171449Z",
     "iopub.status.busy": "2025-04-02T16:53:56.171144Z",
     "iopub.status.idle": "2025-04-02T16:53:57.882059Z",
     "shell.execute_reply": "2025-04-02T16:53:57.881103Z"
    },
    "papermill": {
     "duration": 1.722468,
     "end_time": "2025-04-02T16:53:57.883626",
     "exception": false,
     "start_time": "2025-04-02T16:53:56.161158",
     "status": "completed"
    },
    "tags": []
   },
   "outputs": [],
   "source": [
    "import os\n",
    "import pandas as pd\n",
    "from sklearn.model_selection import train_test_split"
   ]
  },
  {
   "cell_type": "code",
   "execution_count": 2,
   "id": "dfdd8b9d",
   "metadata": {
    "execution": {
     "iopub.execute_input": "2025-04-02T16:53:57.901579Z",
     "iopub.status.busy": "2025-04-02T16:53:57.901172Z",
     "iopub.status.idle": "2025-04-02T16:53:57.904995Z",
     "shell.execute_reply": "2025-04-02T16:53:57.904336Z"
    },
    "papermill": {
     "duration": 0.013877,
     "end_time": "2025-04-02T16:53:57.906198",
     "exception": false,
     "start_time": "2025-04-02T16:53:57.892321",
     "status": "completed"
    },
    "tags": []
   },
   "outputs": [],
   "source": [
    "train_path = r\"/kaggle/input/bert-classification-ioai/train.tsv\"\n",
    "test_path = r\"/kaggle/input/bert-classification-ioai/test.tsv\"\n",
    "res_dataset_dir = r\"corpus_normalized/\"\n",
    "if not os.path.exists(res_dataset_dir):\n",
    "    os.makedirs(res_dataset_dir)"
   ]
  },
  {
   "cell_type": "code",
   "execution_count": 3,
   "id": "93a283f0",
   "metadata": {
    "execution": {
     "iopub.execute_input": "2025-04-02T16:53:57.922787Z",
     "iopub.status.busy": "2025-04-02T16:53:57.922576Z",
     "iopub.status.idle": "2025-04-02T16:53:58.130610Z",
     "shell.execute_reply": "2025-04-02T16:53:58.129659Z"
    },
    "papermill": {
     "duration": 0.217801,
     "end_time": "2025-04-02T16:53:58.132033",
     "exception": false,
     "start_time": "2025-04-02T16:53:57.914232",
     "status": "completed"
    },
    "tags": []
   },
   "outputs": [
    {
     "name": "stdout",
     "output_type": "stream",
     "text": [
      "(7612, 3)\n",
      "(1903, 3)\n"
     ]
    }
   ],
   "source": [
    "train_df = pd.read_csv(train_path, sep=\",\", encoding=\"utf-8\")\n",
    "test_df = pd.read_csv(test_path, sep=\",\", encoding=\"utf-8\")\n",
    "train_df, dev_df, _, _ = \\\n",
    "    train_test_split(train_df, train_df, test_size=0.2, random_state=42)\n",
    "\n",
    "train_positive_class_df = train_df[train_df['class'] == 1]\n",
    "train_negative_class_df = train_df[train_df['class'] == 0]\n",
    "num_positive_examples = train_positive_class_df.shape[0]\n",
    "# For training set, we take the same amount of positive and negative examples\n",
    "train_negative_class_df = train_negative_class_df.sample(num_positive_examples, )\n",
    "# Concatenating positive and negative examples and shuffling the training set\n",
    "class_normalized_train_df = pd.concat([train_positive_class_df, train_negative_class_df]).sample(frac=1)\n",
    "\n",
    "\n",
    "out_train_path = os.path.join(res_dataset_dir, \"train.tsv\")\n",
    "out_test_path = os.path.join(res_dataset_dir, \"test.tsv\")\n",
    "out_dev_path = os.path.join(res_dataset_dir, \"dev.tsv\")\n",
    "\n",
    "# class_normalized_train_df.to_csv(out_train_path, sep=\"\\t\", encoding=\"utf-8\", index=False, )\n",
    "train_df.to_csv(out_train_path, sep=\"\\t\", encoding=\"utf-8\", index=False,)\n",
    "test_df.to_csv(out_test_path, sep=\"\\t\", encoding=\"utf-8\", index=False)\n",
    "dev_df.to_csv(out_dev_path, sep=\"\\t\", encoding=\"utf-8\", index=False, )\n",
    "\n",
    "print(train_df.shape)\n",
    "print(dev_df.shape)"
   ]
  },
  {
   "cell_type": "code",
   "execution_count": 4,
   "id": "603d07e6",
   "metadata": {
    "execution": {
     "iopub.execute_input": "2025-04-02T16:53:58.149137Z",
     "iopub.status.busy": "2025-04-02T16:53:58.148862Z",
     "iopub.status.idle": "2025-04-02T16:53:58.156705Z",
     "shell.execute_reply": "2025-04-02T16:53:58.155910Z"
    },
    "papermill": {
     "duration": 0.017665,
     "end_time": "2025-04-02T16:53:58.158039",
     "exception": false,
     "start_time": "2025-04-02T16:53:58.140374",
     "status": "completed"
    },
    "tags": []
   },
   "outputs": [],
   "source": [
    "import re\n",
    "def list_replace(search, replacement, text):\n",
    "    \"\"\"\n",
    "    Replaces all symbols of text which are present\n",
    "    in the search string with the replacement string.\n",
    "    \"\"\"\n",
    "    search = [el for el in search if el in text]\n",
    "    for c in search:\n",
    "        text = text.replace(c, replacement)\n",
    "    return text\n",
    "\n",
    "def clean_text(text):\n",
    "\n",
    "    text = list_replace \\\n",
    "        ('\\u00AB\\u00BB\\u2039\\u203A\\u201E\\u201A\\u201C\\u201F\\u2018\\u201B\\u201D\\u2019', '\\u0022', text)\n",
    "\n",
    "    text = list_replace \\\n",
    "        ('\\u2012\\u2013\\u2014\\u2015\\u203E\\u0305\\u00AF', '\\u2003\\u002D\\u002D\\u2003', text)\n",
    "\n",
    "    text = list_replace('\\u2010\\u2011', '\\u002D', text)\n",
    "\n",
    "    text = list_replace \\\n",
    "            (\n",
    "            '\\u2000\\u2001\\u2002\\u2004\\u2005\\u2006\\u2007\\u2008\\u2009\\u200A\\u200B\\u202F\\u205F\\u2060\\u3000',\n",
    "            '\\u2002', text)\n",
    "\n",
    "    text = re.sub('\\u2003\\u2003', '\\u2003', text)\n",
    "    text = re.sub('\\t\\t', '\\t', text)\n",
    "\n",
    "    text = list_replace \\\n",
    "            (\n",
    "            '\\u02CC\\u0307\\u0323\\u2022\\u2023\\u2043\\u204C\\u204D\\u2219\\u25E6\\u00B7\\u00D7\\u22C5\\u2219\\u2062',\n",
    "            '.', text)\n",
    "\n",
    "    text = list_replace('\\u2217', '\\u002A', text)\n",
    "\n",
    "    text = list_replace('…', '...', text)\n",
    "\n",
    "    text = list_replace('\\u00C4', 'A', text)\n",
    "    text = list_replace('\\u00E4', 'a', text)\n",
    "    text = list_replace('\\u00CB', 'E', text)\n",
    "    text = list_replace('\\u00EB', 'e', text)\n",
    "    text = list_replace('\\u1E26', 'H', text)\n",
    "    text = list_replace('\\u1E27', 'h', text)\n",
    "    text = list_replace('\\u00CF', 'I', text)\n",
    "    text = list_replace('\\u00EF', 'i', text)\n",
    "    text = list_replace('\\u00D6', 'O', text)\n",
    "    text = list_replace('\\u00F6', 'o', text)\n",
    "    text = list_replace('\\u00DC', 'U', text)\n",
    "    text = list_replace('\\u00FC', 'u', text)\n",
    "    text = list_replace('\\u0178', 'Y', text)\n",
    "    text = list_replace('\\u00FF', 'y', text)\n",
    "    text = list_replace('\\u00DF', 's', text)\n",
    "    text = list_replace('\\u1E9E', 'S', text)\n",
    "    # Removing punctuation\n",
    "    text = list_replace(',.[]{}()=+-−*&^%$#@!~;:§/\\|\\?\"\\n', ' ', text)\n",
    "    # Replacing all numbers with masks\n",
    "    text = list_replace('0123456789', 'x', text)\n",
    "\n",
    "    currencies = list \\\n",
    "            (\n",
    "            '\\u20BD\\u0024\\u00A3\\u20A4\\u20AC\\u20AA\\u2133\\u20BE\\u00A2\\u058F\\u0BF9\\u20BC\\u20A1\\u20A0\\u20B4\\u20A7\\u20B0\\u20BF\\u20A3\\u060B\\u0E3F\\u20A9\\u20B4\\u20B2\\u0192\\u20AB\\u00A5\\u20AD\\u20A1\\u20BA\\u20A6\\u20B1\\uFDFC\\u17DB\\u20B9\\u20A8\\u20B5\\u09F3\\u20B8\\u20AE\\u0192'\n",
    "        )\n",
    "\n",
    "    alphabet = list \\\n",
    "            (\n",
    "            '\\t\\r абвгдеёзжийклмнопрстуфхцчшщьыъэюяАБВГДЕЁЗЖИЙКЛМНОПРСТУФХЦЧШЩЬЫЪЭЮЯabcdefghijklmnopqrstuvwxyzABCDEFGHIJKLMNOPQRSTUVWXYZ ')\n",
    "\n",
    "    allowed = set(currencies + alphabet)\n",
    "\n",
    "    cleaned_text = [sym for sym in text if sym in allowed]\n",
    "    cleaned_text = ''.join(cleaned_text)\n",
    "\n",
    "    return cleaned_text"
   ]
  },
  {
   "cell_type": "code",
   "execution_count": 5,
   "id": "8f66445f",
   "metadata": {
    "execution": {
     "iopub.execute_input": "2025-04-02T16:53:58.174917Z",
     "iopub.status.busy": "2025-04-02T16:53:58.174685Z",
     "iopub.status.idle": "2025-04-02T16:53:58.750527Z",
     "shell.execute_reply": "2025-04-02T16:53:58.749613Z"
    },
    "papermill": {
     "duration": 0.586103,
     "end_time": "2025-04-02T16:53:58.752292",
     "exception": false,
     "start_time": "2025-04-02T16:53:58.166189",
     "status": "completed"
    },
    "tags": []
   },
   "outputs": [],
   "source": [
    "train_path = r\"corpus_normalized/train.tsv\"\n",
    "dev_path = r\"corpus_normalized/dev.tsv\"\n",
    "test_path = r\"corpus_normalized/test.tsv\"\n",
    "\n",
    "# Loading data\n",
    "train_df = pd.read_csv(train_path, sep='\\t', encoding=\"utf-8\",)\n",
    "dev_df = pd.read_csv(dev_path, sep='\\t', encoding=\"utf-8\",)\n",
    "test_df = pd.read_csv(test_path, sep='\\t', encoding=\"utf-8\",)\n",
    "\n",
    "# Extracting tweet texts\n",
    "train_tweet_texts = train_df.tweet.values\n",
    "test_tweet_texts = test_df.tweet.values\n",
    "dev_tweet_texts = dev_df.tweet.values\n",
    "\n",
    "# Preprocessing training tweets\n",
    "cleaned_train_texts = []\n",
    "for tweet_text in train_tweet_texts:\n",
    "    cleaned_text = clean_text(tweet_text).lower()\n",
    "    split_cleaned_text = cleaned_text.split()\n",
    "    cleaned_train_texts.append(\" \".join(split_cleaned_text))\n",
    "\n",
    "# Preprocessing test tweets\n",
    "cleaned_test_texts = []\n",
    "for tweet_text in test_tweet_texts:\n",
    "    cleaned_text = clean_text(tweet_text)\n",
    "    cleaned_test_texts.append(\" \".join(cleaned_text.split()))\n",
    "\n",
    "# Preprocessing validation tweets\n",
    "cleaned_dev_texts = []\n",
    "for tweet_text in dev_tweet_texts:\n",
    "    cleaned_text = clean_text(tweet_text)\n",
    "    cleaned_dev_texts.append(\" \".join(cleaned_text.split()))\n",
    "\n",
    "train_df[\"clean_text\"] = cleaned_train_texts\n",
    "dev_df[\"clean_text\"] = cleaned_dev_texts\n",
    "test_df[\"clean_text\"] = cleaned_test_texts"
   ]
  },
  {
   "cell_type": "code",
   "execution_count": 6,
   "id": "0b4493ee",
   "metadata": {
    "execution": {
     "iopub.execute_input": "2025-04-02T16:53:58.770523Z",
     "iopub.status.busy": "2025-04-02T16:53:58.770261Z",
     "iopub.status.idle": "2025-04-02T16:54:07.520186Z",
     "shell.execute_reply": "2025-04-02T16:54:07.519262Z"
    },
    "papermill": {
     "duration": 8.760652,
     "end_time": "2025-04-02T16:54:07.521855",
     "exception": false,
     "start_time": "2025-04-02T16:53:58.761203",
     "status": "completed"
    },
    "tags": []
   },
   "outputs": [],
   "source": [
    "import torch.nn as nn\n",
    "from transformers import AutoTokenizer, AutoModel, AdamW, get_linear_schedule_with_warmup\n",
    "import numpy as np\n",
    "from torch.utils.data import Dataset, DataLoader"
   ]
  },
  {
   "cell_type": "code",
   "execution_count": 7,
   "id": "04bec143",
   "metadata": {
    "execution": {
     "iopub.execute_input": "2025-04-02T16:54:07.540232Z",
     "iopub.status.busy": "2025-04-02T16:54:07.539785Z",
     "iopub.status.idle": "2025-04-02T16:54:07.543234Z",
     "shell.execute_reply": "2025-04-02T16:54:07.542601Z"
    },
    "papermill": {
     "duration": 0.013966,
     "end_time": "2025-04-02T16:54:07.544493",
     "exception": false,
     "start_time": "2025-04-02T16:54:07.530527",
     "status": "completed"
    },
    "tags": []
   },
   "outputs": [],
   "source": [
    "PRE_TRAINED_MODEL_NAME = 'ai-forever/ruBert-base'\n",
    "BATCH_SIZE = 64\n",
    "EPOCHS = 2\n",
    "LEARNING_RATE=2e-5\n",
    "NUM_WARMUP_STEPS=0"
   ]
  },
  {
   "cell_type": "code",
   "execution_count": 8,
   "id": "6017b6f6",
   "metadata": {
    "execution": {
     "iopub.execute_input": "2025-04-02T16:54:07.561420Z",
     "iopub.status.busy": "2025-04-02T16:54:07.561211Z",
     "iopub.status.idle": "2025-04-02T16:54:07.565858Z",
     "shell.execute_reply": "2025-04-02T16:54:07.565252Z"
    },
    "papermill": {
     "duration": 0.014462,
     "end_time": "2025-04-02T16:54:07.566930",
     "exception": false,
     "start_time": "2025-04-02T16:54:07.552468",
     "status": "completed"
    },
    "tags": []
   },
   "outputs": [],
   "source": [
    "class TwitterClassifier(nn.Module):\n",
    "  def __init__(self, n_classes):\n",
    "    super(TwitterClassifier, self).__init__()\n",
    "    self.bert = AutoModel.from_pretrained(PRE_TRAINED_MODEL_NAME)\n",
    "    self.drop = nn.Dropout(p=0.3)\n",
    "    self.out = nn.Linear(self.bert.config.hidden_size, n_classes)\n",
    "\n",
    "  def forward(self, input_ids, attention_mask):\n",
    "    outputs = self.bert(input_ids=input_ids,\n",
    "                         attention_mask=attention_mask)\n",
    "    # last_hidden_state_cls = outputs[0][:, 0, :]\n",
    "    last_hidden_state_cls = outputs['pooler_output']\n",
    "    output = self.drop(last_hidden_state_cls)\n",
    "    return self.out(output)"
   ]
  },
  {
   "cell_type": "code",
   "execution_count": 9,
   "id": "511d3349",
   "metadata": {
    "execution": {
     "iopub.execute_input": "2025-04-02T16:54:07.583443Z",
     "iopub.status.busy": "2025-04-02T16:54:07.583243Z",
     "iopub.status.idle": "2025-04-02T16:54:10.674925Z",
     "shell.execute_reply": "2025-04-02T16:54:10.673988Z"
    },
    "papermill": {
     "duration": 3.101595,
     "end_time": "2025-04-02T16:54:10.676525",
     "exception": false,
     "start_time": "2025-04-02T16:54:07.574930",
     "status": "completed"
    },
    "tags": []
   },
   "outputs": [
    {
     "data": {
      "application/vnd.jupyter.widget-view+json": {
       "model_id": "9846872e23b844bbb0cc49a8cf706039",
       "version_major": 2,
       "version_minor": 0
      },
      "text/plain": [
       "config.json:   0%|          | 0.00/590 [00:00<?, ?B/s]"
      ]
     },
     "metadata": {},
     "output_type": "display_data"
    },
    {
     "data": {
      "application/vnd.jupyter.widget-view+json": {
       "model_id": "a7b822ccd3c34a38861b47e4b434d09e",
       "version_major": 2,
       "version_minor": 0
      },
      "text/plain": [
       "vocab.txt:   0%|          | 0.00/1.78M [00:00<?, ?B/s]"
      ]
     },
     "metadata": {},
     "output_type": "display_data"
    }
   ],
   "source": [
    "tokenizer = AutoTokenizer.from_pretrained(PRE_TRAINED_MODEL_NAME)\n",
    "train_tokenized = [tokenizer.encode(x, add_special_tokens=True) for x in cleaned_train_texts]\n",
    "dev_tokenized = [tokenizer.encode(x, add_special_tokens=True) for x in cleaned_dev_texts]\n",
    "test_tokenized = [tokenizer.encode(x, add_special_tokens=True) for x in cleaned_test_texts]"
   ]
  },
  {
   "cell_type": "code",
   "execution_count": 10,
   "id": "354038cf",
   "metadata": {
    "execution": {
     "iopub.execute_input": "2025-04-02T16:54:10.696486Z",
     "iopub.status.busy": "2025-04-02T16:54:10.696208Z",
     "iopub.status.idle": "2025-04-02T16:54:10.703168Z",
     "shell.execute_reply": "2025-04-02T16:54:10.702377Z"
    },
    "papermill": {
     "duration": 0.017173,
     "end_time": "2025-04-02T16:54:10.704535",
     "exception": false,
     "start_time": "2025-04-02T16:54:10.687362",
     "status": "completed"
    },
    "tags": []
   },
   "outputs": [
    {
     "name": "stdout",
     "output_type": "stream",
     "text": [
      "126\n",
      "83\n",
      "102\n"
     ]
    }
   ],
   "source": [
    "# находим самое длинное предложение\n",
    "train_max_len = 0\n",
    "for i in train_tokenized:\n",
    "    if len(i) > train_max_len:\n",
    "        train_max_len = len(i)\n",
    "\n",
    "dev_max_len = 0\n",
    "for i in dev_tokenized:\n",
    "    if len(i) > dev_max_len:\n",
    "        dev_max_len = len(i)\n",
    "\n",
    "test_max_len = 0\n",
    "for i in test_tokenized:\n",
    "    if len(i) > test_max_len:\n",
    "        test_max_len = len(i)\n",
    "\n",
    "print(train_max_len)\n",
    "print(dev_max_len)\n",
    "print(test_max_len)\n"
   ]
  },
  {
   "cell_type": "code",
   "execution_count": 11,
   "id": "9c477dac",
   "metadata": {
    "execution": {
     "iopub.execute_input": "2025-04-02T16:54:10.722199Z",
     "iopub.status.busy": "2025-04-02T16:54:10.721940Z",
     "iopub.status.idle": "2025-04-02T16:54:10.727077Z",
     "shell.execute_reply": "2025-04-02T16:54:10.726406Z"
    },
    "papermill": {
     "duration": 0.015174,
     "end_time": "2025-04-02T16:54:10.728262",
     "exception": false,
     "start_time": "2025-04-02T16:54:10.713088",
     "status": "completed"
    },
    "tags": []
   },
   "outputs": [],
   "source": [
    "class TwitterDataset(Dataset):\n",
    "  def __init__(self, ids, tweets, targets, tokenizer, max_len):\n",
    "    self.ids = ids\n",
    "    self.tweets = tweets\n",
    "    self.targets = targets\n",
    "    self.tokenizer = tokenizer\n",
    "    self.max_len = max_len\n",
    "\n",
    "  def __len__(self):\n",
    "    return len(self.tweets)\n",
    "\n",
    "  def __getitem__(self, item):\n",
    "    tweet = str(self.tweets[item])\n",
    "    target = self.targets[item]\n",
    "    id = self.ids[item]\n",
    "    encoding = self.tokenizer.encode_plus(\n",
    "      tweet,\n",
    "      add_special_tokens=True,\n",
    "      max_length=self.max_len,\n",
    "      return_token_type_ids=False,\n",
    "      pad_to_max_length=True,\n",
    "      return_attention_mask=True,\n",
    "      return_tensors='pt',\n",
    "      truncation=True,\n",
    "    )\n",
    "    return {\n",
    "      'id': id,\n",
    "      'tweet_text': tweet,\n",
    "      'input_ids': encoding['input_ids'].flatten(),\n",
    "      'attention_mask': encoding['attention_mask'].flatten(),\n",
    "      'targets': torch.tensor(target, dtype=torch.long)\n",
    "    }"
   ]
  },
  {
   "cell_type": "code",
   "execution_count": 12,
   "id": "b502f12a",
   "metadata": {
    "execution": {
     "iopub.execute_input": "2025-04-02T16:54:10.746192Z",
     "iopub.status.busy": "2025-04-02T16:54:10.745939Z",
     "iopub.status.idle": "2025-04-02T16:54:10.749819Z",
     "shell.execute_reply": "2025-04-02T16:54:10.749201Z"
    },
    "papermill": {
     "duration": 0.013716,
     "end_time": "2025-04-02T16:54:10.751025",
     "exception": false,
     "start_time": "2025-04-02T16:54:10.737309",
     "status": "completed"
    },
    "tags": []
   },
   "outputs": [],
   "source": [
    "def create_data_loader(df, tokenizer, batch_size, max_len):\n",
    "  if \"label\" in df:\n",
    "    labels = df.label.to_numpy()\n",
    "  else:\n",
    "    labels = [0] * len(df)\n",
    "  ds = TwitterDataset(\n",
    "    ids = df.id,\n",
    "    tweets=df.clean_text,\n",
    "    targets=labels,\n",
    "    tokenizer=tokenizer,\n",
    "    max_len=max_len\n",
    "  )\n",
    "  return DataLoader(\n",
    "    ds,\n",
    "    batch_size=batch_size,\n",
    "    num_workers=4,\n",
    "  )"
   ]
  },
  {
   "cell_type": "code",
   "execution_count": 13,
   "id": "c2a2e126",
   "metadata": {
    "execution": {
     "iopub.execute_input": "2025-04-02T16:54:10.769871Z",
     "iopub.status.busy": "2025-04-02T16:54:10.769663Z",
     "iopub.status.idle": "2025-04-02T16:54:11.887809Z",
     "shell.execute_reply": "2025-04-02T16:54:11.887158Z"
    },
    "papermill": {
     "duration": 1.129761,
     "end_time": "2025-04-02T16:54:11.889384",
     "exception": false,
     "start_time": "2025-04-02T16:54:10.759623",
     "status": "completed"
    },
    "tags": []
   },
   "outputs": [
    {
     "name": "stdout",
     "output_type": "stream",
     "text": [
      "Index(['id', 'tweet', 'clean_text'], dtype='object')\n",
      "(7612, 4)\n",
      "(1903, 4)\n",
      "(1504, 3)\n"
     ]
    }
   ],
   "source": [
    "print(test_df.columns)\n",
    "train_df = train_df.rename(columns={'class': 'label'})\n",
    "dev_df = dev_df.rename(columns={'class': 'label'})\n",
    "print(train_df.shape)\n",
    "print(dev_df.shape)\n",
    "print(test_df.shape)\n",
    "\n",
    "\n",
    "tokenizer = AutoTokenizer.from_pretrained(PRE_TRAINED_MODEL_NAME)\n",
    "train_data_loader = create_data_loader(train_df, tokenizer, BATCH_SIZE, train_max_len)\n",
    "dev_data_loader = create_data_loader(dev_df, tokenizer, BATCH_SIZE, dev_max_len)\n",
    "test_data_loader = create_data_loader(test_df, tokenizer, BATCH_SIZE, test_max_len)"
   ]
  },
  {
   "cell_type": "code",
   "execution_count": 14,
   "id": "5a6c2ed9",
   "metadata": {
    "execution": {
     "iopub.execute_input": "2025-04-02T16:54:11.907471Z",
     "iopub.status.busy": "2025-04-02T16:54:11.907230Z",
     "iopub.status.idle": "2025-04-02T16:54:11.910156Z",
     "shell.execute_reply": "2025-04-02T16:54:11.909533Z"
    },
    "papermill": {
     "duration": 0.013089,
     "end_time": "2025-04-02T16:54:11.911438",
     "exception": false,
     "start_time": "2025-04-02T16:54:11.898349",
     "status": "completed"
    },
    "tags": []
   },
   "outputs": [],
   "source": [
    "import torch"
   ]
  },
  {
   "cell_type": "code",
   "execution_count": 15,
   "id": "f9948054",
   "metadata": {
    "execution": {
     "iopub.execute_input": "2025-04-02T16:54:11.928664Z",
     "iopub.status.busy": "2025-04-02T16:54:11.928459Z",
     "iopub.status.idle": "2025-04-02T16:54:28.028051Z",
     "shell.execute_reply": "2025-04-02T16:54:28.026593Z"
    },
    "papermill": {
     "duration": 16.110211,
     "end_time": "2025-04-02T16:54:28.029977",
     "exception": false,
     "start_time": "2025-04-02T16:54:11.919766",
     "status": "completed"
    },
    "tags": []
   },
   "outputs": [
    {
     "data": {
      "application/vnd.jupyter.widget-view+json": {
       "model_id": "7fa925580e894273870d528fe667f5ea",
       "version_major": 2,
       "version_minor": 0
      },
      "text/plain": [
       "pytorch_model.bin:   0%|          | 0.00/716M [00:00<?, ?B/s]"
      ]
     },
     "metadata": {},
     "output_type": "display_data"
    }
   ],
   "source": [
    "n_classes = 2\n",
    "device = torch.device(\"cuda\" if torch.cuda.is_available() else \"cpu\")\n",
    "model = TwitterClassifier(n_classes)\n",
    "model = model.to(device)"
   ]
  },
  {
   "cell_type": "code",
   "execution_count": 16,
   "id": "1e42dab1",
   "metadata": {
    "execution": {
     "iopub.execute_input": "2025-04-02T16:54:28.052479Z",
     "iopub.status.busy": "2025-04-02T16:54:28.050747Z",
     "iopub.status.idle": "2025-04-02T16:54:28.062618Z",
     "shell.execute_reply": "2025-04-02T16:54:28.061758Z"
    },
    "papermill": {
     "duration": 0.022377,
     "end_time": "2025-04-02T16:54:28.063791",
     "exception": false,
     "start_time": "2025-04-02T16:54:28.041414",
     "status": "completed"
    },
    "tags": []
   },
   "outputs": [
    {
     "name": "stderr",
     "output_type": "stream",
     "text": [
      "/usr/local/lib/python3.10/dist-packages/transformers/optimization.py:591: FutureWarning: This implementation of AdamW is deprecated and will be removed in a future version. Use the PyTorch implementation torch.optim.AdamW instead, or set `no_deprecation_warning=True` to disable this warning\n",
      "  warnings.warn(\n"
     ]
    }
   ],
   "source": [
    "optimizer = AdamW(model.parameters(), lr=LEARNING_RATE, correct_bias=False)\n",
    "total_steps = len(train_data_loader) * EPOCHS\n",
    "scheduler = get_linear_schedule_with_warmup(\n",
    "  optimizer,\n",
    "  num_warmup_steps=NUM_WARMUP_STEPS,\n",
    "  num_training_steps=total_steps\n",
    ")\n",
    "loss_fn = nn.CrossEntropyLoss().to(device)"
   ]
  },
  {
   "cell_type": "code",
   "execution_count": 17,
   "id": "5c39b6b3",
   "metadata": {
    "execution": {
     "iopub.execute_input": "2025-04-02T16:54:28.081820Z",
     "iopub.status.busy": "2025-04-02T16:54:28.081579Z",
     "iopub.status.idle": "2025-04-02T16:54:28.086638Z",
     "shell.execute_reply": "2025-04-02T16:54:28.086048Z"
    },
    "papermill": {
     "duration": 0.015261,
     "end_time": "2025-04-02T16:54:28.087916",
     "exception": false,
     "start_time": "2025-04-02T16:54:28.072655",
     "status": "completed"
    },
    "tags": []
   },
   "outputs": [],
   "source": [
    "from tqdm import tqdm\n",
    "\n",
    "def train_epoch(model, data_loader, loss_fn, optimizer, device, scheduler, n_examples):\n",
    "  model = model.train()\n",
    "  losses = []\n",
    "  correct_predictions = 0\n",
    "  for d in tqdm(data_loader):\n",
    "    input_ids = d[\"input_ids\"].to(device)\n",
    "    attention_mask = d[\"attention_mask\"].to(device)\n",
    "    targets = d[\"targets\"].to(device)\n",
    "    outputs = model(input_ids=input_ids, attention_mask=attention_mask)\n",
    "    _, preds = torch.max(outputs, dim=1)\n",
    "    loss = loss_fn(outputs, targets)\n",
    "    correct_predictions += torch.sum(preds == targets)\n",
    "    losses.append(loss.item())\n",
    "    loss.backward()\n",
    "    nn.utils.clip_grad_norm_(model.parameters(), max_norm=1.0)\n",
    "    optimizer.step()\n",
    "    scheduler.step()\n",
    "    optimizer.zero_grad()\n",
    "  return correct_predictions.double() / n_examples, np.mean(losses)"
   ]
  },
  {
   "cell_type": "code",
   "execution_count": 18,
   "id": "0f62a99f",
   "metadata": {
    "execution": {
     "iopub.execute_input": "2025-04-02T16:54:28.105560Z",
     "iopub.status.busy": "2025-04-02T16:54:28.105309Z",
     "iopub.status.idle": "2025-04-02T16:54:28.110069Z",
     "shell.execute_reply": "2025-04-02T16:54:28.109238Z"
    },
    "papermill": {
     "duration": 0.014908,
     "end_time": "2025-04-02T16:54:28.111382",
     "exception": false,
     "start_time": "2025-04-02T16:54:28.096474",
     "status": "completed"
    },
    "tags": []
   },
   "outputs": [],
   "source": [
    "def eval_model(model, data_loader, loss_fn, device, n_examples):\n",
    "  model = model.eval()\n",
    "  losses = []\n",
    "  correct_predictions = 0\n",
    "  with torch.no_grad():\n",
    "    for d in data_loader:\n",
    "      input_ids = d[\"input_ids\"].to(device)\n",
    "      attention_mask = d[\"attention_mask\"].to(device)\n",
    "      targets = d[\"targets\"].to(device)\n",
    "      outputs = model(input_ids=input_ids,\n",
    "        attention_mask=attention_mask)\n",
    "      _, preds = torch.max(outputs, dim=1)\n",
    "      loss = loss_fn(outputs, targets)\n",
    "      correct_predictions += torch.sum(preds == targets)\n",
    "      losses.append(loss.item())\n",
    "  return correct_predictions.double() / n_examples, np.mean(losses)"
   ]
  },
  {
   "cell_type": "code",
   "execution_count": 19,
   "id": "dcfd28e4",
   "metadata": {
    "execution": {
     "iopub.execute_input": "2025-04-02T16:54:28.128701Z",
     "iopub.status.busy": "2025-04-02T16:54:28.128494Z",
     "iopub.status.idle": "2025-04-02T16:57:26.424709Z",
     "shell.execute_reply": "2025-04-02T16:57:26.423812Z"
    },
    "papermill": {
     "duration": 178.306349,
     "end_time": "2025-04-02T16:57:26.426069",
     "exception": false,
     "start_time": "2025-04-02T16:54:28.119720",
     "status": "completed"
    },
    "tags": []
   },
   "outputs": [
    {
     "name": "stdout",
     "output_type": "stream",
     "text": [
      "Epoch 1/2\n",
      "----------\n"
     ]
    },
    {
     "name": "stderr",
     "output_type": "stream",
     "text": [
      "  0%|          | 0/119 [00:00<?, ?it/s]/usr/local/lib/python3.10/dist-packages/transformers/tokenization_utils_base.py:2673: FutureWarning: The `pad_to_max_length` argument is deprecated and will be removed in a future version, use `padding=True` or `padding='longest'` to pad to the longest sequence in the batch, or use `padding='max_length'` to pad to a max length. In this case, you can give a specific length with `max_length` (e.g. `max_length=45`) or leave max_length to None to pad to the maximal input size of the model (e.g. 512 for Bert).\n",
      "  warnings.warn(\n",
      "/usr/local/lib/python3.10/dist-packages/transformers/tokenization_utils_base.py:2673: FutureWarning: The `pad_to_max_length` argument is deprecated and will be removed in a future version, use `padding=True` or `padding='longest'` to pad to the longest sequence in the batch, or use `padding='max_length'` to pad to a max length. In this case, you can give a specific length with `max_length` (e.g. `max_length=45`) or leave max_length to None to pad to the maximal input size of the model (e.g. 512 for Bert).\n",
      "  warnings.warn(\n",
      "/usr/local/lib/python3.10/dist-packages/transformers/tokenization_utils_base.py:2673: FutureWarning: The `pad_to_max_length` argument is deprecated and will be removed in a future version, use `padding=True` or `padding='longest'` to pad to the longest sequence in the batch, or use `padding='max_length'` to pad to a max length. In this case, you can give a specific length with `max_length` (e.g. `max_length=45`) or leave max_length to None to pad to the maximal input size of the model (e.g. 512 for Bert).\n",
      "  warnings.warn(\n",
      "/usr/local/lib/python3.10/dist-packages/transformers/tokenization_utils_base.py:2673: FutureWarning: The `pad_to_max_length` argument is deprecated and will be removed in a future version, use `padding=True` or `padding='longest'` to pad to the longest sequence in the batch, or use `padding='max_length'` to pad to a max length. In this case, you can give a specific length with `max_length` (e.g. `max_length=45`) or leave max_length to None to pad to the maximal input size of the model (e.g. 512 for Bert).\n",
      "  warnings.warn(\n",
      "100%|██████████| 119/119 [01:24<00:00,  1.41it/s]"
     ]
    },
    {
     "name": "stdout",
     "output_type": "stream",
     "text": [
      "Train loss 0.24677764993755757 accuracy 0.9122438255386232\n"
     ]
    },
    {
     "name": "stderr",
     "output_type": "stream",
     "text": [
      "\n",
      "/usr/local/lib/python3.10/dist-packages/transformers/tokenization_utils_base.py:2673: FutureWarning: The `pad_to_max_length` argument is deprecated and will be removed in a future version, use `padding=True` or `padding='longest'` to pad to the longest sequence in the batch, or use `padding='max_length'` to pad to a max length. In this case, you can give a specific length with `max_length` (e.g. `max_length=45`) or leave max_length to None to pad to the maximal input size of the model (e.g. 512 for Bert).\n",
      "  warnings.warn(\n",
      "/usr/local/lib/python3.10/dist-packages/transformers/tokenization_utils_base.py:2673: FutureWarning: The `pad_to_max_length` argument is deprecated and will be removed in a future version, use `padding=True` or `padding='longest'` to pad to the longest sequence in the batch, or use `padding='max_length'` to pad to a max length. In this case, you can give a specific length with `max_length` (e.g. `max_length=45`) or leave max_length to None to pad to the maximal input size of the model (e.g. 512 for Bert).\n",
      "  warnings.warn(\n",
      "/usr/local/lib/python3.10/dist-packages/transformers/tokenization_utils_base.py:2673: FutureWarning: The `pad_to_max_length` argument is deprecated and will be removed in a future version, use `padding=True` or `padding='longest'` to pad to the longest sequence in the batch, or use `padding='max_length'` to pad to a max length. In this case, you can give a specific length with `max_length` (e.g. `max_length=45`) or leave max_length to None to pad to the maximal input size of the model (e.g. 512 for Bert).\n",
      "  warnings.warn(\n",
      "/usr/local/lib/python3.10/dist-packages/transformers/tokenization_utils_base.py:2673: FutureWarning: The `pad_to_max_length` argument is deprecated and will be removed in a future version, use `padding=True` or `padding='longest'` to pad to the longest sequence in the batch, or use `padding='max_length'` to pad to a max length. In this case, you can give a specific length with `max_length` (e.g. `max_length=45`) or leave max_length to None to pad to the maximal input size of the model (e.g. 512 for Bert).\n",
      "  warnings.warn(\n"
     ]
    },
    {
     "name": "stdout",
     "output_type": "stream",
     "text": [
      "Val   loss 0.20779581144452094 accuracy 0.9201261166579086\n",
      "\n",
      "Epoch 2/2\n",
      "----------\n"
     ]
    },
    {
     "name": "stderr",
     "output_type": "stream",
     "text": [
      "  0%|          | 0/119 [00:00<?, ?it/s]/usr/local/lib/python3.10/dist-packages/transformers/tokenization_utils_base.py:2673: FutureWarning: The `pad_to_max_length` argument is deprecated and will be removed in a future version, use `padding=True` or `padding='longest'` to pad to the longest sequence in the batch, or use `padding='max_length'` to pad to a max length. In this case, you can give a specific length with `max_length` (e.g. `max_length=45`) or leave max_length to None to pad to the maximal input size of the model (e.g. 512 for Bert).\n",
      "  warnings.warn(\n",
      "/usr/local/lib/python3.10/dist-packages/transformers/tokenization_utils_base.py:2673: FutureWarning: The `pad_to_max_length` argument is deprecated and will be removed in a future version, use `padding=True` or `padding='longest'` to pad to the longest sequence in the batch, or use `padding='max_length'` to pad to a max length. In this case, you can give a specific length with `max_length` (e.g. `max_length=45`) or leave max_length to None to pad to the maximal input size of the model (e.g. 512 for Bert).\n",
      "  warnings.warn(\n",
      "/usr/local/lib/python3.10/dist-packages/transformers/tokenization_utils_base.py:2673: FutureWarning: The `pad_to_max_length` argument is deprecated and will be removed in a future version, use `padding=True` or `padding='longest'` to pad to the longest sequence in the batch, or use `padding='max_length'` to pad to a max length. In this case, you can give a specific length with `max_length` (e.g. `max_length=45`) or leave max_length to None to pad to the maximal input size of the model (e.g. 512 for Bert).\n",
      "  warnings.warn(\n",
      "/usr/local/lib/python3.10/dist-packages/transformers/tokenization_utils_base.py:2673: FutureWarning: The `pad_to_max_length` argument is deprecated and will be removed in a future version, use `padding=True` or `padding='longest'` to pad to the longest sequence in the batch, or use `padding='max_length'` to pad to a max length. In this case, you can give a specific length with `max_length` (e.g. `max_length=45`) or leave max_length to None to pad to the maximal input size of the model (e.g. 512 for Bert).\n",
      "  warnings.warn(\n",
      "100%|██████████| 119/119 [01:24<00:00,  1.41it/s]"
     ]
    },
    {
     "name": "stdout",
     "output_type": "stream",
     "text": [
      "Train loss 0.139005460298988 accuracy 0.9446925906463478\n"
     ]
    },
    {
     "name": "stderr",
     "output_type": "stream",
     "text": [
      "\n",
      "/usr/local/lib/python3.10/dist-packages/transformers/tokenization_utils_base.py:2673: FutureWarning: The `pad_to_max_length` argument is deprecated and will be removed in a future version, use `padding=True` or `padding='longest'` to pad to the longest sequence in the batch, or use `padding='max_length'` to pad to a max length. In this case, you can give a specific length with `max_length` (e.g. `max_length=45`) or leave max_length to None to pad to the maximal input size of the model (e.g. 512 for Bert).\n",
      "  warnings.warn(\n",
      "/usr/local/lib/python3.10/dist-packages/transformers/tokenization_utils_base.py:2673: FutureWarning: The `pad_to_max_length` argument is deprecated and will be removed in a future version, use `padding=True` or `padding='longest'` to pad to the longest sequence in the batch, or use `padding='max_length'` to pad to a max length. In this case, you can give a specific length with `max_length` (e.g. `max_length=45`) or leave max_length to None to pad to the maximal input size of the model (e.g. 512 for Bert).\n",
      "  warnings.warn(\n",
      "/usr/local/lib/python3.10/dist-packages/transformers/tokenization_utils_base.py:2673: FutureWarning: The `pad_to_max_length` argument is deprecated and will be removed in a future version, use `padding=True` or `padding='longest'` to pad to the longest sequence in the batch, or use `padding='max_length'` to pad to a max length. In this case, you can give a specific length with `max_length` (e.g. `max_length=45`) or leave max_length to None to pad to the maximal input size of the model (e.g. 512 for Bert).\n",
      "  warnings.warn(\n",
      "/usr/local/lib/python3.10/dist-packages/transformers/tokenization_utils_base.py:2673: FutureWarning: The `pad_to_max_length` argument is deprecated and will be removed in a future version, use `padding=True` or `padding='longest'` to pad to the longest sequence in the batch, or use `padding='max_length'` to pad to a max length. In this case, you can give a specific length with `max_length` (e.g. `max_length=45`) or leave max_length to None to pad to the maximal input size of the model (e.g. 512 for Bert).\n",
      "  warnings.warn(\n"
     ]
    },
    {
     "name": "stdout",
     "output_type": "stream",
     "text": [
      "Val   loss 0.2170908788839976 accuracy 0.9159222280609564\n",
      "\n"
     ]
    },
    {
     "data": {
      "text/plain": [
       "<All keys matched successfully>"
      ]
     },
     "execution_count": 19,
     "metadata": {},
     "output_type": "execute_result"
    }
   ],
   "source": [
    "import torch\n",
    "from collections import defaultdict\n",
    "\n",
    "# Initialize a dictionary to store training and validation history\n",
    "history = defaultdict(list)\n",
    "\n",
    "# Best validation loss (initialize with a large number)\n",
    "best_val_loss = float('inf')\n",
    "best_model_wts = None\n",
    "\n",
    "for epoch in range(EPOCHS):\n",
    "    print(f'Epoch {epoch + 1}/{EPOCHS}')\n",
    "    print('-' * 10)\n",
    "    \n",
    "    # Train the model for this epoch\n",
    "    train_acc, train_loss = train_epoch(model, train_data_loader, loss_fn, optimizer, device, scheduler, len(train_df))\n",
    "    print(f'Train loss {train_loss} accuracy {train_acc}')\n",
    "    \n",
    "    # Evaluate the model on the validation set\n",
    "    val_acc, val_loss = eval_model(model, dev_data_loader, loss_fn, device, len(dev_df))\n",
    "    print(f'Val   loss {val_loss} accuracy {val_acc}')\n",
    "    print()\n",
    "    \n",
    "    # Save the best model if the validation loss improves\n",
    "    if val_loss < best_val_loss:\n",
    "        best_val_loss = val_loss\n",
    "        best_model_wts = model.state_dict()  # Save model weights\n",
    "    \n",
    "    # Store the results in history\n",
    "    history['train_acc'].append(train_acc)\n",
    "    history['train_loss'].append(train_loss)\n",
    "    history['val_acc'].append(val_acc)\n",
    "    history['val_loss'].append(val_loss)\n",
    "\n",
    "# After training, load the best model weights\n",
    "model.load_state_dict(best_model_wts)"
   ]
  },
  {
   "cell_type": "code",
   "execution_count": 20,
   "id": "6d4c5f59",
   "metadata": {
    "execution": {
     "iopub.execute_input": "2025-04-02T16:57:26.467815Z",
     "iopub.status.busy": "2025-04-02T16:57:26.467537Z",
     "iopub.status.idle": "2025-04-02T16:57:26.471601Z",
     "shell.execute_reply": "2025-04-02T16:57:26.470995Z"
    },
    "papermill": {
     "duration": 0.025417,
     "end_time": "2025-04-02T16:57:26.472674",
     "exception": false,
     "start_time": "2025-04-02T16:57:26.447257",
     "status": "completed"
    },
    "tags": []
   },
   "outputs": [],
   "source": [
    "history['train_acc'] = [train_acc.cpu() for train_acc in history['train_acc']]\n",
    "history['val_acc'] = [val_acc.cpu() for val_acc in history['val_acc']]"
   ]
  },
  {
   "cell_type": "code",
   "execution_count": 21,
   "id": "d506c5c1",
   "metadata": {
    "execution": {
     "iopub.execute_input": "2025-04-02T16:57:26.512939Z",
     "iopub.status.busy": "2025-04-02T16:57:26.512725Z",
     "iopub.status.idle": "2025-04-02T16:57:26.801875Z",
     "shell.execute_reply": "2025-04-02T16:57:26.801030Z"
    },
    "papermill": {
     "duration": 0.310759,
     "end_time": "2025-04-02T16:57:26.803286",
     "exception": false,
     "start_time": "2025-04-02T16:57:26.492527",
     "status": "completed"
    },
    "tags": []
   },
   "outputs": [
    {
     "data": {
      "image/png": "[encoded data removed]",
      "text/plain": [
       "<Figure size 640x480 with 1 Axes>"
      ]
     },
     "metadata": {},
     "output_type": "display_data"
    }
   ],
   "source": [
    "import matplotlib.pyplot as plt\n",
    "\n",
    "plt.plot(history['train_acc'], label='train accuracy')\n",
    "plt.plot(history['val_acc'], label='validation accuracy')\n",
    "plt.title('Training history')\n",
    "plt.ylabel('Accuracy')\n",
    "plt.xlabel('Epoch')\n",
    "plt.legend()\n",
    "plt.ylim([0, 1]);"
   ]
  },
  {
   "cell_type": "code",
   "execution_count": 22,
   "id": "428ace26",
   "metadata": {
    "execution": {
     "iopub.execute_input": "2025-04-02T16:57:26.844780Z",
     "iopub.status.busy": "2025-04-02T16:57:26.844550Z",
     "iopub.status.idle": "2025-04-02T16:57:26.850114Z",
     "shell.execute_reply": "2025-04-02T16:57:26.849439Z"
    },
    "papermill": {
     "duration": 0.027289,
     "end_time": "2025-04-02T16:57:26.851227",
     "exception": false,
     "start_time": "2025-04-02T16:57:26.823938",
     "status": "completed"
    },
    "tags": []
   },
   "outputs": [],
   "source": [
    "import torch.nn.functional as F\n",
    "\n",
    "def get_predictions(model, data_loader):\n",
    "  model = model.eval()\n",
    "  tweet_ids = []\n",
    "  predictions = []\n",
    "  prediction_probs = []\n",
    "  real_values = []\n",
    "  with torch.no_grad():\n",
    "    for d in data_loader:\n",
    "      ids = d[\"id\"]\n",
    "      input_ids = d[\"input_ids\"].to(device)\n",
    "      attention_mask = d[\"attention_mask\"].to(device)\n",
    "      outputs = F.softmax(model(\n",
    "        input_ids=input_ids,\n",
    "        attention_mask=attention_mask\n",
    "      ))\n",
    "      _, preds = torch.max(outputs, dim=1)\n",
    "      tweet_ids.extend(ids)\n",
    "      predictions.extend(preds)\n",
    "      prediction_probs.extend(outputs)\n",
    "  predictions = torch.stack(predictions).cpu()\n",
    "  prediction_probs = torch.stack(prediction_probs).cpu()\n",
    "  return tweet_ids, predictions, prediction_probs"
   ]
  },
  {
   "cell_type": "code",
   "execution_count": 23,
   "id": "6e1f9a00",
   "metadata": {
    "execution": {
     "iopub.execute_input": "2025-04-02T16:57:26.892147Z",
     "iopub.status.busy": "2025-04-02T16:57:26.891887Z",
     "iopub.status.idle": "2025-04-02T16:57:31.500373Z",
     "shell.execute_reply": "2025-04-02T16:57:31.499272Z"
    },
    "papermill": {
     "duration": 4.63064,
     "end_time": "2025-04-02T16:57:31.501885",
     "exception": false,
     "start_time": "2025-04-02T16:57:26.871245",
     "status": "completed"
    },
    "tags": []
   },
   "outputs": [
    {
     "name": "stderr",
     "output_type": "stream",
     "text": [
      "/usr/local/lib/python3.10/dist-packages/transformers/tokenization_utils_base.py:2673: FutureWarning: The `pad_to_max_length` argument is deprecated and will be removed in a future version, use `padding=True` or `padding='longest'` to pad to the longest sequence in the batch, or use `padding='max_length'` to pad to a max length. In this case, you can give a specific length with `max_length` (e.g. `max_length=45`) or leave max_length to None to pad to the maximal input size of the model (e.g. 512 for Bert).\n",
      "  warnings.warn(\n",
      "/usr/local/lib/python3.10/dist-packages/transformers/tokenization_utils_base.py:2673: FutureWarning: The `pad_to_max_length` argument is deprecated and will be removed in a future version, use `padding=True` or `padding='longest'` to pad to the longest sequence in the batch, or use `padding='max_length'` to pad to a max length. In this case, you can give a specific length with `max_length` (e.g. `max_length=45`) or leave max_length to None to pad to the maximal input size of the model (e.g. 512 for Bert).\n",
      "  warnings.warn(\n",
      "/usr/local/lib/python3.10/dist-packages/transformers/tokenization_utils_base.py:2673: FutureWarning: The `pad_to_max_length` argument is deprecated and will be removed in a future version, use `padding=True` or `padding='longest'` to pad to the longest sequence in the batch, or use `padding='max_length'` to pad to a max length. In this case, you can give a specific length with `max_length` (e.g. `max_length=45`) or leave max_length to None to pad to the maximal input size of the model (e.g. 512 for Bert).\n",
      "  warnings.warn(\n",
      "/usr/local/lib/python3.10/dist-packages/transformers/tokenization_utils_base.py:2673: FutureWarning: The `pad_to_max_length` argument is deprecated and will be removed in a future version, use `padding=True` or `padding='longest'` to pad to the longest sequence in the batch, or use `padding='max_length'` to pad to a max length. In this case, you can give a specific length with `max_length` (e.g. `max_length=45`) or leave max_length to None to pad to the maximal input size of the model (e.g. 512 for Bert).\n",
      "  warnings.warn(\n",
      "<ipython-input-22-6dd398b3003a>:14: UserWarning: Implicit dimension choice for softmax has been deprecated. Change the call to include dim=X as an argument.\n",
      "  outputs = F.softmax(model(\n"
     ]
    },
    {
     "name": "stdout",
     "output_type": "stream",
     "text": [
      "Dev:\n",
      "Precision: 0.5423728813559322\n",
      "Recall: 0.3764705882352941\n",
      "F-measure: 0.4444444444444444\n",
      "ROC_AUC: 0.6726553749024133\n",
      "              precision    recall  f1-score   support\n",
      "\n",
      "           0       0.94      0.97      0.95      1733\n",
      "           1       0.54      0.38      0.44       170\n",
      "\n",
      "    accuracy                           0.92      1903\n",
      "   macro avg       0.74      0.67      0.70      1903\n",
      "weighted avg       0.91      0.92      0.91      1903\n",
      "\n"
     ]
    }
   ],
   "source": [
    "from sklearn.metrics import precision_score, recall_score, f1_score, roc_auc_score, classification_report\n",
    "\n",
    "tweet_ids, predicted_dev_labels, prediction_probs = get_predictions(model,dev_data_loader)\n",
    "dev_labels = dev_df.label\n",
    "dev_precision = precision_score(dev_labels, predicted_dev_labels)\n",
    "dev_recall = recall_score(dev_labels, predicted_dev_labels)\n",
    "dev_f_measure = f1_score(dev_labels, predicted_dev_labels)\n",
    "dev_roc_auc = roc_auc_score(dev_labels, predicted_dev_labels)\n",
    "print(f\"Dev:\\nPrecision: {dev_precision}\\n\"\n",
    "        f\"Recall: {dev_recall}\\n\"\n",
    "        f\"F-measure: {dev_f_measure}\\n\"\n",
    "        f\"ROC_AUC: {dev_roc_auc}\")\n",
    "print(classification_report(dev_labels, predicted_dev_labels))"
   ]
  },
  {
   "cell_type": "code",
   "execution_count": 24,
   "id": "d22b6f0d",
   "metadata": {
    "execution": {
     "iopub.execute_input": "2025-04-02T16:57:31.547274Z",
     "iopub.status.busy": "2025-04-02T16:57:31.547003Z",
     "iopub.status.idle": "2025-04-02T16:57:35.964259Z",
     "shell.execute_reply": "2025-04-02T16:57:35.963357Z"
    },
    "papermill": {
     "duration": 4.442188,
     "end_time": "2025-04-02T16:57:35.965966",
     "exception": false,
     "start_time": "2025-04-02T16:57:31.523778",
     "status": "completed"
    },
    "tags": []
   },
   "outputs": [
    {
     "name": "stderr",
     "output_type": "stream",
     "text": [
      "/usr/local/lib/python3.10/dist-packages/transformers/tokenization_utils_base.py:2673: FutureWarning: The `pad_to_max_length` argument is deprecated and will be removed in a future version, use `padding=True` or `padding='longest'` to pad to the longest sequence in the batch, or use `padding='max_length'` to pad to a max length. In this case, you can give a specific length with `max_length` (e.g. `max_length=45`) or leave max_length to None to pad to the maximal input size of the model (e.g. 512 for Bert).\n",
      "  warnings.warn(\n",
      "/usr/local/lib/python3.10/dist-packages/transformers/tokenization_utils_base.py:2673: FutureWarning: The `pad_to_max_length` argument is deprecated and will be removed in a future version, use `padding=True` or `padding='longest'` to pad to the longest sequence in the batch, or use `padding='max_length'` to pad to a max length. In this case, you can give a specific length with `max_length` (e.g. `max_length=45`) or leave max_length to None to pad to the maximal input size of the model (e.g. 512 for Bert).\n",
      "  warnings.warn(\n",
      "/usr/local/lib/python3.10/dist-packages/transformers/tokenization_utils_base.py:2673: FutureWarning: The `pad_to_max_length` argument is deprecated and will be removed in a future version, use `padding=True` or `padding='longest'` to pad to the longest sequence in the batch, or use `padding='max_length'` to pad to a max length. In this case, you can give a specific length with `max_length` (e.g. `max_length=45`) or leave max_length to None to pad to the maximal input size of the model (e.g. 512 for Bert).\n",
      "  warnings.warn(\n",
      "/usr/local/lib/python3.10/dist-packages/transformers/tokenization_utils_base.py:2673: FutureWarning: The `pad_to_max_length` argument is deprecated and will be removed in a future version, use `padding=True` or `padding='longest'` to pad to the longest sequence in the batch, or use `padding='max_length'` to pad to a max length. In this case, you can give a specific length with `max_length` (e.g. `max_length=45`) or leave max_length to None to pad to the maximal input size of the model (e.g. 512 for Bert).\n",
      "  warnings.warn(\n",
      "<ipython-input-22-6dd398b3003a>:14: UserWarning: Implicit dimension choice for softmax has been deprecated. Change the call to include dim=X as an argument.\n",
      "  outputs = F.softmax(model(\n"
     ]
    }
   ],
   "source": [
    "tweet_ids, predicted_test_labels, prediction_probs = get_predictions(model, test_data_loader)\n",
    "\n",
    "df_submit = pd.DataFrame(columns=[\"id\", \"class\"])\n",
    "df_submit[\"id\"] = test_df['id'].values\n",
    "df_submit[\"class\"] = [x.item() for x in predicted_test_labels]\n",
    "df_submit.to_csv(\"submission.csv\", sep=\",\", index=False)"
   ]
  },
  {
   "cell_type": "code",
   "execution_count": null,
   "id": "06789c09",
   "metadata": {
    "papermill": {
     "duration": 0.020744,
     "end_time": "2025-04-02T16:57:36.008465",
     "exception": false,
     "start_time": "2025-04-02T16:57:35.987721",
     "status": "completed"
    },
    "tags": []
   },
   "outputs": [],
   "source": []
  }
 ],
 "metadata": {
  "kaggle": {
   "accelerator": "gpu",
   "dataSources": [
    {
     "databundleVersionId": 11588287,
     "sourceId": 97441,
     "sourceType": "competition"
    }
   ],
   "dockerImageVersionId": 30919,
   "isGpuEnabled": true,
   "isInternetEnabled": true,
   "language": "python",
   "sourceType": "notebook"
  },
  "kernelspec": {
   "display_name": "Python 3",
   "language": "python",
   "name": "python3"
  },
  "language_info": {
   "codemirror_mode": {
    "name": "ipython",
    "version": 3
   },
   "file_extension": ".py",
   "mimetype": "text/x-python",
   "name": "python",
   "nbconvert_exporter": "python",
   "pygments_lexer": "ipython3",
   "version": "3.10.12"
  },
  "papermill": {
   "default_parameters": {},
   "duration": 225.850253,
   "end_time": "2025-04-02T16:57:39.447456",
   "environment_variables": {},
   "exception": null,
   "input_path": "__notebook__.ipynb",
   "output_path": "__notebook__.ipynb",
   "parameters": {},
   "start_time": "2025-04-02T16:53:53.597203",
   "version": "2.6.0"
  },
  "widgets": {
   "application/vnd.jupyter.widget-state+json": {
    "state": {
     "0584126047194d52bb091263c8ebf85c": {
      "model_module": "@jupyter-widgets/controls",
      "model_module_version": "2.0.0",
      "model_name": "ProgressStyleModel",
      "state": {
       "_model_module": "@jupyter-widgets/controls",
       "_model_module_version": "2.0.0",
       "_model_name": "ProgressStyleModel",
       "_view_count": null,
       "_view_module": "@jupyter-widgets/base",
       "_view_module_version": "2.0.0",
       "_view_name": "StyleView",
       "bar_color": null,
       "description_width": ""
      }
     },
     "16b8d81e59df4b1f923aab62ebe02a53": {
      "model_module": "@jupyter-widgets/controls",
      "model_module_version": "2.0.0",
      "model_name": "HTMLModel",
      "state": {
       "_dom_classes": [],
       "_model_module": "@jupyter-widgets/controls",
       "_model_module_version": "2.0.0",
       "_model_name": "HTMLModel",
       "_view_count": null,
       "_view_module": "@jupyter-widgets/controls",
       "_view_module_version": "2.0.0",
       "_view_name": "HTMLView",
       "description": "",
       "description_allow_html": false,
       "layout": "IPY_MODEL_639cbd473c0e468bbeb981ec4cced028",
       "placeholder": "​",
       "style": "IPY_MODEL_feb4a93e62174a1ab7f9d97da83067dc",
       "tabbable": null,
       "tooltip": null,
       "value": "pytorch_model.bin: 100%"
      }
     },
     "18b55fe2e6a74f74afa9b5524c05641a": {
      "model_module": "@jupyter-widgets/base",
      "model_module_version": "2.0.0",
      "model_name": "LayoutModel",
      "state": {
       "_model_module": "@jupyter-widgets/base",
       "_model_module_version": "2.0.0",
       "_model_name": "LayoutModel",
       "_view_count": null,
       "_view_module": "@jupyter-widgets/base",
       "_view_module_version": "2.0.0",
       "_view_name": "LayoutView",
       "align_content": null,
       "align_items": null,
       "align_self": null,
       "border_bottom": null,
       "border_left": null,
       "border_right": null,
       "border_top": null,
       "bottom": null,
       "display": null,
       "flex": null,
       "flex_flow": null,
       "grid_area": null,
       "grid_auto_columns": null,
       "grid_auto_flow": null,
       "grid_auto_rows": null,
       "grid_column": null,
       "grid_gap": null,
       "grid_row": null,
       "grid_template_areas": null,
       "grid_template_columns": null,
       "grid_template_rows": null,
       "height": null,
       "justify_content": null,
       "justify_items": null,
       "left": null,
       "margin": null,
       "max_height": null,
       "max_width": null,
       "min_height": null,
       "min_width": null,
       "object_fit": null,
       "object_position": null,
       "order": null,
       "overflow": null,
       "padding": null,
       "right": null,
       "top": null,
       "visibility": null,
       "width": null
      }
     },
     "1f526195861e494b86ec8b8efbb324ad": {
      "model_module": "@jupyter-widgets/controls",
      "model_module_version": "2.0.0",
      "model_name": "HTMLModel",
      "state": {
       "_dom_classes": [],
       "_model_module": "@jupyter-widgets/controls",
       "_model_module_version": "2.0.0",
       "_model_name": "HTMLModel",
       "_view_count": null,
       "_view_module": "@jupyter-widgets/controls",
       "_view_module_version": "2.0.0",
       "_view_name": "HTMLView",
       "description": "",
       "description_allow_html": false,
       "layout": "IPY_MODEL_fa25688377d84a5b9ee59338c3441326",
       "placeholder": "​",
       "style": "IPY_MODEL_2c9473b532414791a213bd1ab412496a",
       "tabbable": null,
       "tooltip": null,
       "value": "vocab.txt: 100%"
      }
     },
     "2bacaddc1766499488bc8dace0f5ebee": {
      "model_module": "@jupyter-widgets/base",
      "model_module_version": "2.0.0",
      "model_name": "LayoutModel",
      "state": {
       "_model_module": "@jupyter-widgets/base",
       "_model_module_version": "2.0.0",
       "_model_name": "LayoutModel",
       "_view_count": null,
       "_view_module": "@jupyter-widgets/base",
       "_view_module_version": "2.0.0",
       "_view_name": "LayoutView",
       "align_content": null,
       "align_items": null,
       "align_self": null,
       "border_bottom": null,
       "border_left": null,
       "border_right": null,
       "border_top": null,
       "bottom": null,
       "display": null,
       "flex": null,
       "flex_flow": null,
       "grid_area": null,
       "grid_auto_columns": null,
       "grid_auto_flow": null,
       "grid_auto_rows": null,
       "grid_column": null,
       "grid_gap": null,
       "grid_row": null,
       "grid_template_areas": null,
       "grid_template_columns": null,
       "grid_template_rows": null,
       "height": null,
       "justify_content": null,
       "justify_items": null,
       "left": null,
       "margin": null,
       "max_height": null,
       "max_width": null,
       "min_height": null,
       "min_width": null,
       "object_fit": null,
       "object_position": null,
       "order": null,
       "overflow": null,
       "padding": null,
       "right": null,
       "top": null,
       "visibility": null,
       "width": null
      }
     },
     "2c9473b532414791a213bd1ab412496a": {
      "model_module": "@jupyter-widgets/controls",
      "model_module_version": "2.0.0",
      "model_name": "HTMLStyleModel",
      "state": {
       "_model_module": "@jupyter-widgets/controls",
       "_model_module_version": "2.0.0",
       "_model_name": "HTMLStyleModel",
       "_view_count": null,
       "_view_module": "@jupyter-widgets/base",
       "_view_module_version": "2.0.0",
       "_view_name": "StyleView",
       "background": null,
       "description_width": "",
       "font_size": null,
       "text_color": null
      }
     },
     "3dec90ea71ae4c5cb38dd0ab2863a45e": {
      "model_module": "@jupyter-widgets/controls",
      "model_module_version": "2.0.0",
      "model_name": "HTMLStyleModel",
      "state": {
       "_model_module": "@jupyter-widgets/controls",
       "_model_module_version": "2.0.0",
       "_model_name": "HTMLStyleModel",
       "_view_count": null,
       "_view_module": "@jupyter-widgets/base",
       "_view_module_version": "2.0.0",
       "_view_name": "StyleView",
       "background": null,
       "description_width": "",
       "font_size": null,
       "text_color": null
      }
     },
     "45c789a7d0dd4a958ca15e104cdfa80a": {
      "model_module": "@jupyter-widgets/controls",
      "model_module_version": "2.0.0",
      "model_name": "HTMLModel",
      "state": {
       "_dom_classes": [],
       "_model_module": "@jupyter-widgets/controls",
       "_model_module_version": "2.0.0",
       "_model_name": "HTMLModel",
       "_view_count": null,
       "_view_module": "@jupyter-widgets/controls",
       "_view_module_version": "2.0.0",
       "_view_name": "HTMLView",
       "description": "",
       "description_allow_html": false,
       "layout": "IPY_MODEL_7608fb6ac096423587ac263fc5d9e966",
       "placeholder": "​",
       "style": "IPY_MODEL_4dc71ad4cf8045e3adb813d9c3f66de8",
       "tabbable": null,
       "tooltip": null,
       "value": " 590/590 [00:00&lt;00:00, 51.0kB/s]"
      }
     },
     "4dc71ad4cf8045e3adb813d9c3f66de8": {
      "model_module": "@jupyter-widgets/controls",
      "model_module_version": "2.0.0",
      "model_name": "HTMLStyleModel",
      "state": {
       "_model_module": "@jupyter-widgets/controls",
       "_model_module_version": "2.0.0",
       "_model_name": "HTMLStyleModel",
       "_view_count": null,
       "_view_module": "@jupyter-widgets/base",
       "_view_module_version": "2.0.0",
       "_view_name": "StyleView",
       "background": null,
       "description_width": "",
       "font_size": null,
       "text_color": null
      }
     },
     "512889dea55149e28cbf1f21a076eba8": {
      "model_module": "@jupyter-widgets/controls",
      "model_module_version": "2.0.0",
      "model_name": "ProgressStyleModel",
      "state": {
       "_model_module": "@jupyter-widgets/controls",
       "_model_module_version": "2.0.0",
       "_model_name": "ProgressStyleModel",
       "_view_count": null,
       "_view_module": "@jupyter-widgets/base",
       "_view_module_version": "2.0.0",
       "_view_name": "StyleView",
       "bar_color": null,
       "description_width": ""
      }
     },
     "52bd227b6bf44144a638d9e1e78cf142": {
      "model_module": "@jupyter-widgets/base",
      "model_module_version": "2.0.0",
      "model_name": "LayoutModel",
      "state": {
       "_model_module": "@jupyter-widgets/base",
       "_model_module_version": "2.0.0",
       "_model_name": "LayoutModel",
       "_view_count": null,
       "_view_module": "@jupyter-widgets/base",
       "_view_module_version": "2.0.0",
       "_view_name": "LayoutView",
       "align_content": null,
       "align_items": null,
       "align_self": null,
       "border_bottom": null,
       "border_left": null,
       "border_right": null,
       "border_top": null,
       "bottom": null,
       "display": null,
       "flex": null,
       "flex_flow": null,
       "grid_area": null,
       "grid_auto_columns": null,
       "grid_auto_flow": null,
       "grid_auto_rows": null,
       "grid_column": null,
       "grid_gap": null,
       "grid_row": null,
       "grid_template_areas": null,
       "grid_template_columns": null,
       "grid_template_rows": null,
       "height": null,
       "justify_content": null,
       "justify_items": null,
       "left": null,
       "margin": null,
       "max_height": null,
       "max_width": null,
       "min_height": null,
       "min_width": null,
       "object_fit": null,
       "object_position": null,
       "order": null,
       "overflow": null,
       "padding": null,
       "right": null,
       "top": null,
       "visibility": null,
       "width": null
      }
     },
     "5a4299fbd290449889ab459dbb26bb11": {
      "model_module": "@jupyter-widgets/base",
      "model_module_version": "2.0.0",
      "model_name": "LayoutModel",
      "state": {
       "_model_module": "@jupyter-widgets/base",
       "_model_module_version": "2.0.0",
       "_model_name": "LayoutModel",
       "_view_count": null,
       "_view_module": "@jupyter-widgets/base",
       "_view_module_version": "2.0.0",
       "_view_name": "LayoutView",
       "align_content": null,
       "align_items": null,
       "align_self": null,
       "border_bottom": null,
       "border_left": null,
       "border_right": null,
       "border_top": null,
       "bottom": null,
       "display": null,
       "flex": null,
       "flex_flow": null,
       "grid_area": null,
       "grid_auto_columns": null,
       "grid_auto_flow": null,
       "grid_auto_rows": null,
       "grid_column": null,
       "grid_gap": null,
       "grid_row": null,
       "grid_template_areas": null,
       "grid_template_columns": null,
       "grid_template_rows": null,
       "height": null,
       "justify_content": null,
       "justify_items": null,
       "left": null,
       "margin": null,
       "max_height": null,
       "max_width": null,
       "min_height": null,
       "min_width": null,
       "object_fit": null,
       "object_position": null,
       "order": null,
       "overflow": null,
       "padding": null,
       "right": null,
       "top": null,
       "visibility": null,
       "width": null
      }
     },
     "639cbd473c0e468bbeb981ec4cced028": {
      "model_module": "@jupyter-widgets/base",
      "model_module_version": "2.0.0",
      "model_name": "LayoutModel",
      "state": {
       "_model_module": "@jupyter-widgets/base",
       "_model_module_version": "2.0.0",
       "_model_name": "LayoutModel",
       "_view_count": null,
       "_view_module": "@jupyter-widgets/base",
       "_view_module_version": "2.0.0",
       "_view_name": "LayoutView",
       "align_content": null,
       "align_items": null,
       "align_self": null,
       "border_bottom": null,
       "border_left": null,
       "border_right": null,
       "border_top": null,
       "bottom": null,
       "display": null,
       "flex": null,
       "flex_flow": null,
       "grid_area": null,
       "grid_auto_columns": null,
       "grid_auto_flow": null,
       "grid_auto_rows": null,
       "grid_column": null,
       "grid_gap": null,
       "grid_row": null,
       "grid_template_areas": null,
       "grid_template_columns": null,
       "grid_template_rows": null,
       "height": null,
       "justify_content": null,
       "justify_items": null,
       "left": null,
       "margin": null,
       "max_height": null,
       "max_width": null,
       "min_height": null,
       "min_width": null,
       "object_fit": null,
       "object_position": null,
       "order": null,
       "overflow": null,
       "padding": null,
       "right": null,
       "top": null,
       "visibility": null,
       "width": null
      }
     },
     "63caeec664204d5ea48d5b033ca10196": {
      "model_module": "@jupyter-widgets/controls",
      "model_module_version": "2.0.0",
      "model_name": "FloatProgressModel",
      "state": {
       "_dom_classes": [],
       "_model_module": "@jupyter-widgets/controls",
       "_model_module_version": "2.0.0",
       "_model_name": "FloatProgressModel",
       "_view_count": null,
       "_view_module": "@jupyter-widgets/controls",
       "_view_module_version": "2.0.0",
       "_view_name": "ProgressView",
       "bar_style": "success",
       "description": "",
       "description_allow_html": false,
       "layout": "IPY_MODEL_5a4299fbd290449889ab459dbb26bb11",
       "max": 1780720.0,
       "min": 0.0,
       "orientation": "horizontal",
       "style": "IPY_MODEL_512889dea55149e28cbf1f21a076eba8",
       "tabbable": null,
       "tooltip": null,
       "value": 1780720.0
      }
     },
     "6a717d6582984f138ced6dfc9d0da1a4": {
      "model_module": "@jupyter-widgets/base",
      "model_module_version": "2.0.0",
      "model_name": "LayoutModel",
      "state": {
       "_model_module": "@jupyter-widgets/base",
       "_model_module_version": "2.0.0",
       "_model_name": "LayoutModel",
       "_view_count": null,
       "_view_module": "@jupyter-widgets/base",
       "_view_module_version": "2.0.0",
       "_view_name": "LayoutView",
       "align_content": null,
       "align_items": null,
       "align_self": null,
       "border_bottom": null,
       "border_left": null,
       "border_right": null,
       "border_top": null,
       "bottom": null,
       "display": null,
       "flex": null,
       "flex_flow": null,
       "grid_area": null,
       "grid_auto_columns": null,
       "grid_auto_flow": null,
       "grid_auto_rows": null,
       "grid_column": null,
       "grid_gap": null,
       "grid_row": null,
       "grid_template_areas": null,
       "grid_template_columns": null,
       "grid_template_rows": null,
       "height": null,
       "justify_content": null,
       "justify_items": null,
       "left": null,
       "margin": null,
       "max_height": null,
       "max_width": null,
       "min_height": null,
       "min_width": null,
       "object_fit": null,
       "object_position": null,
       "order": null,
       "overflow": null,
       "padding": null,
       "right": null,
       "top": null,
       "visibility": null,
       "width": null
      }
     },
     "71e5e29bf4624984977e739687a8f677": {
      "model_module": "@jupyter-widgets/controls",
      "model_module_version": "2.0.0",
      "model_name": "HTMLStyleModel",
      "state": {
       "_model_module": "@jupyter-widgets/controls",
       "_model_module_version": "2.0.0",
       "_model_name": "HTMLStyleModel",
       "_view_count": null,
       "_view_module": "@jupyter-widgets/base",
       "_view_module_version": "2.0.0",
       "_view_name": "StyleView",
       "background": null,
       "description_width": "",
       "font_size": null,
       "text_color": null
      }
     },
     "7393ae47ec9741d69317775c485f7444": {
      "model_module": "@jupyter-widgets/base",
      "model_module_version": "2.0.0",
      "model_name": "LayoutModel",
      "state": {
       "_model_module": "@jupyter-widgets/base",
       "_model_module_version": "2.0.0",
       "_model_name": "LayoutModel",
       "_view_count": null,
       "_view_module": "@jupyter-widgets/base",
       "_view_module_version": "2.0.0",
       "_view_name": "LayoutView",
       "align_content": null,
       "align_items": null,
       "align_self": null,
       "border_bottom": null,
       "border_left": null,
       "border_right": null,
       "border_top": null,
       "bottom": null,
       "display": null,
       "flex": null,
       "flex_flow": null,
       "grid_area": null,
       "grid_auto_columns": null,
       "grid_auto_flow": null,
       "grid_auto_rows": null,
       "grid_column": null,
       "grid_gap": null,
       "grid_row": null,
       "grid_template_areas": null,
       "grid_template_columns": null,
       "grid_template_rows": null,
       "height": null,
       "justify_content": null,
       "justify_items": null,
       "left": null,
       "margin": null,
       "max_height": null,
       "max_width": null,
       "min_height": null,
       "min_width": null,
       "object_fit": null,
       "object_position": null,
       "order": null,
       "overflow": null,
       "padding": null,
       "right": null,
       "top": null,
       "visibility": null,
       "width": null
      }
     },
     "7608fb6ac096423587ac263fc5d9e966": {
      "model_module": "@jupyter-widgets/base",
      "model_module_version": "2.0.0",
      "model_name": "LayoutModel",
      "state": {
       "_model_module": "@jupyter-widgets/base",
       "_model_module_version": "2.0.0",
       "_model_name": "LayoutModel",
       "_view_count": null,
       "_view_module": "@jupyter-widgets/base",
       "_view_module_version": "2.0.0",
       "_view_name": "LayoutView",
       "align_content": null,
       "align_items": null,
       "align_self": null,
       "border_bottom": null,
       "border_left": null,
       "border_right": null,
       "border_top": null,
       "bottom": null,
       "display": null,
       "flex": null,
       "flex_flow": null,
       "grid_area": null,
       "grid_auto_columns": null,
       "grid_auto_flow": null,
       "grid_auto_rows": null,
       "grid_column": null,
       "grid_gap": null,
       "grid_row": null,
       "grid_template_areas": null,
       "grid_template_columns": null,
       "grid_template_rows": null,
       "height": null,
       "justify_content": null,
       "justify_items": null,
       "left": null,
       "margin": null,
       "max_height": null,
       "max_width": null,
       "min_height": null,
       "min_width": null,
       "object_fit": null,
       "object_position": null,
       "order": null,
       "overflow": null,
       "padding": null,
       "right": null,
       "top": null,
       "visibility": null,
       "width": null
      }
     },
     "7fa925580e894273870d528fe667f5ea": {
      "model_module": "@jupyter-widgets/controls",
      "model_module_version": "2.0.0",
      "model_name": "HBoxModel",
      "state": {
       "_dom_classes": [],
       "_model_module": "@jupyter-widgets/controls",
       "_model_module_version": "2.0.0",
       "_model_name": "HBoxModel",
       "_view_count": null,
       "_view_module": "@jupyter-widgets/controls",
       "_view_module_version": "2.0.0",
       "_view_name": "HBoxView",
       "box_style": "",
       "children": [
        "IPY_MODEL_16b8d81e59df4b1f923aab62ebe02a53",
        "IPY_MODEL_c80b7690e8d44e41bcbb04481ccb8a7c",
        "IPY_MODEL_b4d865e5b5194edebfcdf9882870717d"
       ],
       "layout": "IPY_MODEL_7393ae47ec9741d69317775c485f7444",
       "tabbable": null,
       "tooltip": null
      }
     },
     "8463db4235ee456e84ec59626e920ffc": {
      "model_module": "@jupyter-widgets/controls",
      "model_module_version": "2.0.0",
      "model_name": "HTMLModel",
      "state": {
       "_dom_classes": [],
       "_model_module": "@jupyter-widgets/controls",
       "_model_module_version": "2.0.0",
       "_model_name": "HTMLModel",
       "_view_count": null,
       "_view_module": "@jupyter-widgets/controls",
       "_view_module_version": "2.0.0",
       "_view_name": "HTMLView",
       "description": "",
       "description_allow_html": false,
       "layout": "IPY_MODEL_6a717d6582984f138ced6dfc9d0da1a4",
       "placeholder": "​",
       "style": "IPY_MODEL_71e5e29bf4624984977e739687a8f677",
       "tabbable": null,
       "tooltip": null,
       "value": "config.json: 100%"
      }
     },
     "9846872e23b844bbb0cc49a8cf706039": {
      "model_module": "@jupyter-widgets/controls",
      "model_module_version": "2.0.0",
      "model_name": "HBoxModel",
      "state": {
       "_dom_classes": [],
       "_model_module": "@jupyter-widgets/controls",
       "_model_module_version": "2.0.0",
       "_model_name": "HBoxModel",
       "_view_count": null,
       "_view_module": "@jupyter-widgets/controls",
       "_view_module_version": "2.0.0",
       "_view_name": "HBoxView",
       "box_style": "",
       "children": [
        "IPY_MODEL_8463db4235ee456e84ec59626e920ffc",
        "IPY_MODEL_fc5fd0c5ed0d44f28ee935dd77a70dfc",
        "IPY_MODEL_45c789a7d0dd4a958ca15e104cdfa80a"
       ],
       "layout": "IPY_MODEL_2bacaddc1766499488bc8dace0f5ebee",
       "tabbable": null,
       "tooltip": null
      }
     },
     "9980c631067149bd87ff6d541f64e289": {
      "model_module": "@jupyter-widgets/controls",
      "model_module_version": "2.0.0",
      "model_name": "HTMLStyleModel",
      "state": {
       "_model_module": "@jupyter-widgets/controls",
       "_model_module_version": "2.0.0",
       "_model_name": "HTMLStyleModel",
       "_view_count": null,
       "_view_module": "@jupyter-widgets/base",
       "_view_module_version": "2.0.0",
       "_view_name": "StyleView",
       "background": null,
       "description_width": "",
       "font_size": null,
       "text_color": null
      }
     },
     "a3e6b673f48d43c29d10b47a24fbe8b9": {
      "model_module": "@jupyter-widgets/base",
      "model_module_version": "2.0.0",
      "model_name": "LayoutModel",
      "state": {
       "_model_module": "@jupyter-widgets/base",
       "_model_module_version": "2.0.0",
       "_model_name": "LayoutModel",
       "_view_count": null,
       "_view_module": "@jupyter-widgets/base",
       "_view_module_version": "2.0.0",
       "_view_name": "LayoutView",
       "align_content": null,
       "align_items": null,
       "align_self": null,
       "border_bottom": null,
       "border_left": null,
       "border_right": null,
       "border_top": null,
       "bottom": null,
       "display": null,
       "flex": null,
       "flex_flow": null,
       "grid_area": null,
       "grid_auto_columns": null,
       "grid_auto_flow": null,
       "grid_auto_rows": null,
       "grid_column": null,
       "grid_gap": null,
       "grid_row": null,
       "grid_template_areas": null,
       "grid_template_columns": null,
       "grid_template_rows": null,
       "height": null,
       "justify_content": null,
       "justify_items": null,
       "left": null,
       "margin": null,
       "max_height": null,
       "max_width": null,
       "min_height": null,
       "min_width": null,
       "object_fit": null,
       "object_position": null,
       "order": null,
       "overflow": null,
       "padding": null,
       "right": null,
       "top": null,
       "visibility": null,
       "width": null
      }
     },
     "a7b822ccd3c34a38861b47e4b434d09e": {
      "model_module": "@jupyter-widgets/controls",
      "model_module_version": "2.0.0",
      "model_name": "HBoxModel",
      "state": {
       "_dom_classes": [],
       "_model_module": "@jupyter-widgets/controls",
       "_model_module_version": "2.0.0",
       "_model_name": "HBoxModel",
       "_view_count": null,
       "_view_module": "@jupyter-widgets/controls",
       "_view_module_version": "2.0.0",
       "_view_name": "HBoxView",
       "box_style": "",
       "children": [
        "IPY_MODEL_1f526195861e494b86ec8b8efbb324ad",
        "IPY_MODEL_63caeec664204d5ea48d5b033ca10196",
        "IPY_MODEL_df9b919e3f82430e86205c43cac0540a"
       ],
       "layout": "IPY_MODEL_a3e6b673f48d43c29d10b47a24fbe8b9",
       "tabbable": null,
       "tooltip": null
      }
     },
     "b4d865e5b5194edebfcdf9882870717d": {
      "model_module": "@jupyter-widgets/controls",
      "model_module_version": "2.0.0",
      "model_name": "HTMLModel",
      "state": {
       "_dom_classes": [],
       "_model_module": "@jupyter-widgets/controls",
       "_model_module_version": "2.0.0",
       "_model_name": "HTMLModel",
       "_view_count": null,
       "_view_module": "@jupyter-widgets/controls",
       "_view_module_version": "2.0.0",
       "_view_name": "HTMLView",
       "description": "",
       "description_allow_html": false,
       "layout": "IPY_MODEL_b7be4d31024842fe9a2a39ebfbc46305",
       "placeholder": "​",
       "style": "IPY_MODEL_9980c631067149bd87ff6d541f64e289",
       "tabbable": null,
       "tooltip": null,
       "value": " 716M/716M [00:02&lt;00:00, 311MB/s]"
      }
     },
     "b7be4d31024842fe9a2a39ebfbc46305": {
      "model_module": "@jupyter-widgets/base",
      "model_module_version": "2.0.0",
      "model_name": "LayoutModel",
      "state": {
       "_model_module": "@jupyter-widgets/base",
       "_model_module_version": "2.0.0",
       "_model_name": "LayoutModel",
       "_view_count": null,
       "_view_module": "@jupyter-widgets/base",
       "_view_module_version": "2.0.0",
       "_view_name": "LayoutView",
       "align_content": null,
       "align_items": null,
       "align_self": null,
       "border_bottom": null,
       "border_left": null,
       "border_right": null,
       "border_top": null,
       "bottom": null,
       "display": null,
       "flex": null,
       "flex_flow": null,
       "grid_area": null,
       "grid_auto_columns": null,
       "grid_auto_flow": null,
       "grid_auto_rows": null,
       "grid_column": null,
       "grid_gap": null,
       "grid_row": null,
       "grid_template_areas": null,
       "grid_template_columns": null,
       "grid_template_rows": null,
       "height": null,
       "justify_content": null,
       "justify_items": null,
       "left": null,
       "margin": null,
       "max_height": null,
       "max_width": null,
       "min_height": null,
       "min_width": null,
       "object_fit": null,
       "object_position": null,
       "order": null,
       "overflow": null,
       "padding": null,
       "right": null,
       "top": null,
       "visibility": null,
       "width": null
      }
     },
     "c80b7690e8d44e41bcbb04481ccb8a7c": {
      "model_module": "@jupyter-widgets/controls",
      "model_module_version": "2.0.0",
      "model_name": "FloatProgressModel",
      "state": {
       "_dom_classes": [],
       "_model_module": "@jupyter-widgets/controls",
       "_model_module_version": "2.0.0",
       "_model_name": "FloatProgressModel",
       "_view_count": null,
       "_view_module": "@jupyter-widgets/controls",
       "_view_module_version": "2.0.0",
       "_view_name": "ProgressView",
       "bar_style": "success",
       "description": "",
       "description_allow_html": false,
       "layout": "IPY_MODEL_52bd227b6bf44144a638d9e1e78cf142",
       "max": 716133354.0,
       "min": 0.0,
       "orientation": "horizontal",
       "style": "IPY_MODEL_f905bdd625dd4f5a85ca84286bc504e4",
       "tabbable": null,
       "tooltip": null,
       "value": 716133354.0
      }
     },
     "d2ef83e124d24b02bbf9603f8f543cb4": {
      "model_module": "@jupyter-widgets/base",
      "model_module_version": "2.0.0",
      "model_name": "LayoutModel",
      "state": {
       "_model_module": "@jupyter-widgets/base",
       "_model_module_version": "2.0.0",
       "_model_name": "LayoutModel",
       "_view_count": null,
       "_view_module": "@jupyter-widgets/base",
       "_view_module_version": "2.0.0",
       "_view_name": "LayoutView",
       "align_content": null,
       "align_items": null,
       "align_self": null,
       "border_bottom": null,
       "border_left": null,
       "border_right": null,
       "border_top": null,
       "bottom": null,
       "display": null,
       "flex": null,
       "flex_flow": null,
       "grid_area": null,
       "grid_auto_columns": null,
       "grid_auto_flow": null,
       "grid_auto_rows": null,
       "grid_column": null,
       "grid_gap": null,
       "grid_row": null,
       "grid_template_areas": null,
       "grid_template_columns": null,
       "grid_template_rows": null,
       "height": null,
       "justify_content": null,
       "justify_items": null,
       "left": null,
       "margin": null,
       "max_height": null,
       "max_width": null,
       "min_height": null,
       "min_width": null,
       "object_fit": null,
       "object_position": null,
       "order": null,
       "overflow": null,
       "padding": null,
       "right": null,
       "top": null,
       "visibility": null,
       "width": null
      }
     },
     "df9b919e3f82430e86205c43cac0540a": {
      "model_module": "@jupyter-widgets/controls",
      "model_module_version": "2.0.0",
      "model_name": "HTMLModel",
      "state": {
       "_dom_classes": [],
       "_model_module": "@jupyter-widgets/controls",
       "_model_module_version": "2.0.0",
       "_model_name": "HTMLModel",
       "_view_count": null,
       "_view_module": "@jupyter-widgets/controls",
       "_view_module_version": "2.0.0",
       "_view_name": "HTMLView",
       "description": "",
       "description_allow_html": false,
       "layout": "IPY_MODEL_d2ef83e124d24b02bbf9603f8f543cb4",
       "placeholder": "​",
       "style": "IPY_MODEL_3dec90ea71ae4c5cb38dd0ab2863a45e",
       "tabbable": null,
       "tooltip": null,
       "value": " 1.78M/1.78M [00:00&lt;00:00, 33.3MB/s]"
      }
     },
     "f905bdd625dd4f5a85ca84286bc504e4": {
      "model_module": "@jupyter-widgets/controls",
      "model_module_version": "2.0.0",
      "model_name": "ProgressStyleModel",
      "state": {
       "_model_module": "@jupyter-widgets/controls",
       "_model_module_version": "2.0.0",
       "_model_name": "ProgressStyleModel",
       "_view_count": null,
       "_view_module": "@jupyter-widgets/base",
       "_view_module_version": "2.0.0",
       "_view_name": "StyleView",
       "bar_color": null,
       "description_width": ""
      }
     },
     "fa25688377d84a5b9ee59338c3441326": {
      "model_module": "@jupyter-widgets/base",
      "model_module_version": "2.0.0",
      "model_name": "LayoutModel",
      "state": {
       "_model_module": "@jupyter-widgets/base",
       "_model_module_version": "2.0.0",
       "_model_name": "LayoutModel",
       "_view_count": null,
       "_view_module": "@jupyter-widgets/base",
       "_view_module_version": "2.0.0",
       "_view_name": "LayoutView",
       "align_content": null,
       "align_items": null,
       "align_self": null,
       "border_bottom": null,
       "border_left": null,
       "border_right": null,
       "border_top": null,
       "bottom": null,
       "display": null,
       "flex": null,
       "flex_flow": null,
       "grid_area": null,
       "grid_auto_columns": null,
       "grid_auto_flow": null,
       "grid_auto_rows": null,
       "grid_column": null,
       "grid_gap": null,
       "grid_row": null,
       "grid_template_areas": null,
       "grid_template_columns": null,
       "grid_template_rows": null,
       "height": null,
       "justify_content": null,
       "justify_items": null,
       "left": null,
       "margin": null,
       "max_height": null,
       "max_width": null,
       "min_height": null,
       "min_width": null,
       "object_fit": null,
       "object_position": null,
       "order": null,
       "overflow": null,
       "padding": null,
       "right": null,
       "top": null,
       "visibility": null,
       "width": null
      }
     },
     "fc5fd0c5ed0d44f28ee935dd77a70dfc": {
      "model_module": "@jupyter-widgets/controls",
      "model_module_version": "2.0.0",
      "model_name": "FloatProgressModel",
      "state": {
       "_dom_classes": [],
       "_model_module": "@jupyter-widgets/controls",
       "_model_module_version": "2.0.0",
       "_model_name": "FloatProgressModel",
       "_view_count": null,
       "_view_module": "@jupyter-widgets/controls",
       "_view_module_version": "2.0.0",
       "_view_name": "ProgressView",
       "bar_style": "success",
       "description": "",
       "description_allow_html": false,
       "layout": "IPY_MODEL_18b55fe2e6a74f74afa9b5524c05641a",
       "max": 590.0,
       "min": 0.0,
       "orientation": "horizontal",
       "style": "IPY_MODEL_0584126047194d52bb091263c8ebf85c",
       "tabbable": null,
       "tooltip": null,
       "value": 590.0
      }
     },
     "feb4a93e62174a1ab7f9d97da83067dc": {
      "model_module": "@jupyter-widgets/controls",
      "model_module_version": "2.0.0",
      "model_name": "HTMLStyleModel",
      "state": {
       "_model_module": "@jupyter-widgets/controls",
       "_model_module_version": "2.0.0",
       "_model_name": "HTMLStyleModel",
       "_view_count": null,
       "_view_module": "@jupyter-widgets/base",
       "_view_module_version": "2.0.0",
       "_view_name": "StyleView",
       "background": null,
       "description_width": "",
       "font_size": null,
       "text_color": null
      }
     }
    },
    "version_major": 2,
    "version_minor": 0
   }
  }
 },
 "nbformat": 4,
 "nbformat_minor": 5
}
