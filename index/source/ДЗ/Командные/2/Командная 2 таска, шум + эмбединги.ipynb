{
 "cells": [
  {
   "cell_type": "code",
   "execution_count": 1,
   "id": "71e48cb7",
   "metadata": {
    "_cell_guid": "b1076dfc-b9ad-4769-8c92-a6c4dae69d19",
    "_uuid": "8f2839f25d086af736a60e9eeb907d3b93b6e0e5",
    "execution": {
     "iopub.execute_input": "2025-03-11T04:49:26.582505Z",
     "iopub.status.busy": "2025-03-11T04:49:26.582143Z",
     "iopub.status.idle": "2025-03-11T04:49:47.744528Z",
     "shell.execute_reply": "2025-03-11T04:49:47.743405Z"
    },
    "papermill": {
     "duration": 21.171467,
     "end_time": "2025-03-11T04:49:47.746682",
     "exception": false,
     "start_time": "2025-03-11T04:49:26.575215",
     "status": "completed"
    },
    "tags": []
   },
   "outputs": [],
   "source": [
    "import random\n",
    "import os\n",
    "from tqdm.notebook import tqdm\n",
    "import gc\n",
    "from torch.nn import Parameter\n",
    "import torch.nn.functional as F\n",
    "import torch.nn as nn\n",
    "import math\n",
    "import timm\n",
    "import pandas as pd\n",
    "import torch\n",
    "import numpy as np\n",
    "from torch.amp import GradScaler\n",
    "import cv2\n",
    "import random\n",
    "from tqdm import tqdm\n",
    "from torch.autograd import Variable\n",
    "from skimage.metrics import structural_similarity as ssim"
   ]
  },
  {
   "cell_type": "code",
   "execution_count": 2,
   "id": "a65add43",
   "metadata": {
    "execution": {
     "iopub.execute_input": "2025-03-11T04:49:47.758760Z",
     "iopub.status.busy": "2025-03-11T04:49:47.758221Z",
     "iopub.status.idle": "2025-03-11T04:49:47.774299Z",
     "shell.execute_reply": "2025-03-11T04:49:47.773454Z"
    },
    "papermill": {
     "duration": 0.023806,
     "end_time": "2025-03-11T04:49:47.776059",
     "exception": false,
     "start_time": "2025-03-11T04:49:47.752253",
     "status": "completed"
    },
    "tags": []
   },
   "outputs": [],
   "source": [
    "def seed_everything(seed):\n",
    "    random.seed(seed)\n",
    "    os.environ['PYTHONHASHSEED'] = str(seed)\n",
    "    np.random.seed(seed)\n",
    "    torch.manual_seed(seed)\n",
    "    torch.cuda.manual_seed(seed)\n",
    "    torch.cuda.manual_seed_all(seed)\n",
    "    torch.backends.cudnn.deterministic = True\n",
    "    torch.backends.cudnn.benchmark = False\n",
    "\n",
    "seed_everything(228)"
   ]
  },
  {
   "cell_type": "code",
   "execution_count": 3,
   "id": "c73cfd61",
   "metadata": {
    "execution": {
     "iopub.execute_input": "2025-03-11T04:49:47.787360Z",
     "iopub.status.busy": "2025-03-11T04:49:47.787006Z",
     "iopub.status.idle": "2025-03-11T04:49:48.426619Z",
     "shell.execute_reply": "2025-03-11T04:49:48.425497Z"
    },
    "papermill": {
     "duration": 0.647179,
     "end_time": "2025-03-11T04:49:48.428459",
     "exception": false,
     "start_time": "2025-03-11T04:49:47.781280",
     "status": "completed"
    },
    "tags": []
   },
   "outputs": [],
   "source": [
    "path2files = '/kaggle/input/ioai-contest-2/'\n",
    "\n",
    "pairs = pd.read_csv(path2files + 'imgs/pairs_list.csv')\n",
    "paths_embeds = pd.read_csv(path2files + 'imgs/paths_embeds.csv')['image_path']\n",
    "real_embeds = np.load(path2files + 'imgs/real_embeds.npy')"
   ]
  },
  {
   "cell_type": "code",
   "execution_count": 4,
   "id": "9eb003a0",
   "metadata": {
    "execution": {
     "iopub.execute_input": "2025-03-11T04:49:48.439986Z",
     "iopub.status.busy": "2025-03-11T04:49:48.439665Z",
     "iopub.status.idle": "2025-03-11T04:49:48.446809Z",
     "shell.execute_reply": "2025-03-11T04:49:48.445729Z"
    },
    "papermill": {
     "duration": 0.014713,
     "end_time": "2025-03-11T04:49:48.448363",
     "exception": false,
     "start_time": "2025-03-11T04:49:48.433650",
     "status": "completed"
    },
    "tags": []
   },
   "outputs": [],
   "source": [
    "class MCSDataset(torch.utils.data.Dataset):\n",
    "    def __init__(self, image_path, target, imsize = 112):\n",
    "        self.image_path = image_path\n",
    "        self.target = target\n",
    "        self.image_size = imsize\n",
    "\n",
    "    def __len__(self):\n",
    "        return len(self.target)\n",
    "\n",
    "    def resize(self, img, interp):\n",
    "        return  cv2.resize(\n",
    "            img, (self.image_size, self.image_size), interpolation=interp)\n",
    "\n",
    "    def __getitem__(self, idx):\n",
    "        path = self.image_path[idx]\n",
    "        target = self.target[idx]\n",
    "        img = cv2.imread(f'{path2files}imgs/train/{path}')\n",
    "\n",
    "        img = self.resize(img, cv2.INTER_LINEAR)\n",
    "\n",
    "        img = (img / 255.) - 0.5\n",
    "        img = np.transpose(img,(2,0,1)).astype(np.float32)\n",
    "        img = torch.from_numpy(img)\n",
    "        target = torch.from_numpy(target)\n",
    "\n",
    "        return img, target"
   ]
  },
  {
   "cell_type": "code",
   "execution_count": 5,
   "id": "d02f3a04",
   "metadata": {
    "execution": {
     "iopub.execute_input": "2025-03-11T04:49:48.460156Z",
     "iopub.status.busy": "2025-03-11T04:49:48.459761Z",
     "iopub.status.idle": "2025-03-11T04:49:48.466414Z",
     "shell.execute_reply": "2025-03-11T04:49:48.465434Z"
    },
    "papermill": {
     "duration": 0.014336,
     "end_time": "2025-03-11T04:49:48.468018",
     "exception": false,
     "start_time": "2025-03-11T04:49:48.453682",
     "status": "completed"
    },
    "tags": []
   },
   "outputs": [],
   "source": [
    "def make_predict(model, val_loader, loss_func, DEVICE = 'cuda'):\n",
    "    preds = []\n",
    "    targets = []\n",
    "    model.eval()\n",
    "    average_loss = 0\n",
    "    with torch.no_grad():\n",
    "        for batch_number,  (img, target) in enumerate(val_loader):\n",
    "            img = img.to(DEVICE)\n",
    "            target = target.to(DEVICE)\n",
    "\n",
    "            with torch.amp.autocast('cuda'):\n",
    "                outputs = model(img)\n",
    "                loss = loss_func(outputs, target)\n",
    "\n",
    "            average_loss += loss.cpu().detach().numpy()\n",
    "            preds += [outputs.to('cpu').numpy()]\n",
    "            targets += [target.to('cpu').numpy()]\n",
    "    preds = np.concatenate(preds)\n",
    "    targets = np.concatenate(targets)\n",
    "\n",
    "    print('MSE: ', ((preds -  targets) ** 2).mean())"
   ]
  },
  {
   "cell_type": "code",
   "execution_count": 6,
   "id": "7de81781",
   "metadata": {
    "execution": {
     "iopub.execute_input": "2025-03-11T04:49:48.479581Z",
     "iopub.status.busy": "2025-03-11T04:49:48.479244Z",
     "iopub.status.idle": "2025-03-11T04:49:48.484999Z",
     "shell.execute_reply": "2025-03-11T04:49:48.484136Z"
    },
    "papermill": {
     "duration": 0.013384,
     "end_time": "2025-03-11T04:49:48.486658",
     "exception": false,
     "start_time": "2025-03-11T04:49:48.473274",
     "status": "completed"
    },
    "tags": []
   },
   "outputs": [],
   "source": [
    "class Model(nn.Module):\n",
    "    def __init__(self, model_name, num_unfrozen_layers=0):\n",
    "        super().__init__()\n",
    "        self.model_name = model_name\n",
    "        self.timm_ = timm.create_model(model_name, global_pool='', num_classes=0, in_chans=3)\n",
    "        \n",
    "        # for param in self.timm_.parameters():\n",
    "        #     param.requires_grad = False\n",
    "        \n",
    "        # total_layers = len(list(self.timm_.children()))\n",
    "        # for i, layer in enumerate(self.timm_.children()):\n",
    "        #     if i >= total_layers - num_unfrozen_layers:\n",
    "        #         for param in layer.parameters():\n",
    "        #             param.requires_grad = True\n",
    "        \n",
    "        output_features = self.timm_(torch.zeros((1, 3, 112, 112))).shape[1]\n",
    "        \n",
    "        self.norm = nn.BatchNorm1d(output_features)\n",
    "    \n",
    "    def forward(self, x):\n",
    "        out_ = self.timm_(x).mean(dim=(2, 3))\n",
    "        \n",
    "        out_ = self.norm(out_)\n",
    "        out_ = F.normalize(out_)\n",
    "        return out_"
   ]
  },
  {
   "cell_type": "code",
   "execution_count": 7,
   "id": "1d0ca5d6",
   "metadata": {
    "execution": {
     "iopub.execute_input": "2025-03-11T04:49:48.498343Z",
     "iopub.status.busy": "2025-03-11T04:49:48.497896Z",
     "iopub.status.idle": "2025-03-11T04:49:48.712949Z",
     "shell.execute_reply": "2025-03-11T04:49:48.712014Z"
    },
    "papermill": {
     "duration": 0.22261,
     "end_time": "2025-03-11T04:49:48.714570",
     "exception": false,
     "start_time": "2025-03-11T04:49:48.491960",
     "status": "completed"
    },
    "tags": []
   },
   "outputs": [],
   "source": [
    "gc.collect()\n",
    "torch.cuda.empty_cache()"
   ]
  },
  {
   "cell_type": "code",
   "execution_count": 8,
   "id": "40edc67b",
   "metadata": {
    "execution": {
     "iopub.execute_input": "2025-03-11T04:49:48.725855Z",
     "iopub.status.busy": "2025-03-11T04:49:48.725539Z",
     "iopub.status.idle": "2025-03-11T04:49:48.730065Z",
     "shell.execute_reply": "2025-03-11T04:49:48.729161Z"
    },
    "papermill": {
     "duration": 0.011995,
     "end_time": "2025-03-11T04:49:48.731645",
     "exception": false,
     "start_time": "2025-03-11T04:49:48.719650",
     "status": "completed"
    },
    "tags": []
   },
   "outputs": [],
   "source": [
    "batch_size = 8\n",
    "valid_batch_size = 64\n",
    "epochs = 10\n",
    "lr = 0.001\n",
    "num_models = 10\n",
    "DEVICE = 'cuda'\n",
    "\n",
    "params_train = {'batch_size': batch_size, 'shuffle': True, 'drop_last': True, 'num_workers': 4}\n",
    "params_val = {'batch_size': batch_size, 'shuffle': False, 'drop_last': False, 'num_workers': 4}"
   ]
  },
  {
   "cell_type": "code",
   "execution_count": 9,
   "id": "632874ec",
   "metadata": {
    "execution": {
     "iopub.execute_input": "2025-03-11T04:49:48.742903Z",
     "iopub.status.busy": "2025-03-11T04:49:48.742578Z",
     "iopub.status.idle": "2025-03-11T04:49:48.748355Z",
     "shell.execute_reply": "2025-03-11T04:49:48.747333Z"
    },
    "papermill": {
     "duration": 0.01323,
     "end_time": "2025-03-11T04:49:48.749981",
     "exception": false,
     "start_time": "2025-03-11T04:49:48.736751",
     "status": "completed"
    },
    "tags": []
   },
   "outputs": [],
   "source": [
    "def split_global_data(paths, targets, val_ratio=0.2):\n",
    "    indices = list(range(len(paths)))\n",
    "    random.shuffle(indices)\n",
    "    split_idx = int(len(indices) * (1 - val_ratio))\n",
    "    train_indices, final_val_indices = indices[:split_idx], indices[split_idx:]\n",
    "    \n",
    "    train_paths = [paths[i] for i in train_indices]\n",
    "    train_targets = [targets[i] for i in train_indices]\n",
    "    final_val_paths = [paths[i] for i in final_val_indices]\n",
    "    final_val_targets = [targets[i] for i in final_val_indices]\n",
    "    \n",
    "    return train_paths, train_targets, final_val_paths, final_val_targets"
   ]
  },
  {
   "cell_type": "code",
   "execution_count": 10,
   "id": "b5954d78",
   "metadata": {
    "execution": {
     "iopub.execute_input": "2025-03-11T04:49:48.761486Z",
     "iopub.status.busy": "2025-03-11T04:49:48.761098Z",
     "iopub.status.idle": "2025-03-11T04:49:48.802686Z",
     "shell.execute_reply": "2025-03-11T04:49:48.801481Z"
    },
    "papermill": {
     "duration": 0.04917,
     "end_time": "2025-03-11T04:49:48.804496",
     "exception": false,
     "start_time": "2025-03-11T04:49:48.755326",
     "status": "completed"
    },
    "tags": []
   },
   "outputs": [],
   "source": [
    "train_path, train_target, final_val_path, final_val_target = split_global_data(paths_embeds, real_embeds, val_ratio=0.05)"
   ]
  },
  {
   "cell_type": "code",
   "execution_count": 11,
   "id": "5a3892c2",
   "metadata": {
    "execution": {
     "iopub.execute_input": "2025-03-11T04:49:48.815689Z",
     "iopub.status.busy": "2025-03-11T04:49:48.815314Z",
     "iopub.status.idle": "2025-03-11T04:49:48.819590Z",
     "shell.execute_reply": "2025-03-11T04:49:48.818690Z"
    },
    "papermill": {
     "duration": 0.011536,
     "end_time": "2025-03-11T04:49:48.821161",
     "exception": false,
     "start_time": "2025-03-11T04:49:48.809625",
     "status": "completed"
    },
    "tags": []
   },
   "outputs": [],
   "source": [
    "final_val_loader = torch.utils.data.DataLoader(MCSDataset(final_val_path, final_val_target), **params_val)"
   ]
  },
  {
   "cell_type": "code",
   "execution_count": 12,
   "id": "6e8bc897",
   "metadata": {
    "execution": {
     "iopub.execute_input": "2025-03-11T04:49:48.832679Z",
     "iopub.status.busy": "2025-03-11T04:49:48.832309Z",
     "iopub.status.idle": "2025-03-11T04:49:48.839104Z",
     "shell.execute_reply": "2025-03-11T04:49:48.838060Z"
    },
    "papermill": {
     "duration": 0.014348,
     "end_time": "2025-03-11T04:49:48.840827",
     "exception": false,
     "start_time": "2025-03-11T04:49:48.826479",
     "status": "completed"
    },
    "tags": []
   },
   "outputs": [],
   "source": [
    "def split_data_for_models(paths, targets, num_models, val_ratio=0.2):\n",
    "    model_splits = []\n",
    "    indices = list(range(len(paths)))\n",
    "    random.shuffle(indices)\n",
    "    \n",
    "    for _ in range(num_models):\n",
    "        split_idx = int(len(indices) * (1 - val_ratio))\n",
    "        train_indices, val_indices = indices[:split_idx], indices[split_idx:]\n",
    "        \n",
    "        train_paths = [paths[i] for i in train_indices]\n",
    "        train_targets = [targets[i] for i in train_indices]\n",
    "        val_paths = [paths[i] for i in val_indices]\n",
    "        val_targets = [targets[i] for i in val_indices]\n",
    "        \n",
    "        model_splits.append((train_paths, train_targets, val_paths, val_targets))\n",
    "        random.shuffle(indices)\n",
    "    \n",
    "    return model_splits"
   ]
  },
  {
   "cell_type": "code",
   "execution_count": 13,
   "id": "979ef817",
   "metadata": {
    "execution": {
     "iopub.execute_input": "2025-03-11T04:49:48.852274Z",
     "iopub.status.busy": "2025-03-11T04:49:48.851924Z",
     "iopub.status.idle": "2025-03-11T04:49:48.932491Z",
     "shell.execute_reply": "2025-03-11T04:49:48.931646Z"
    },
    "papermill": {
     "duration": 0.088211,
     "end_time": "2025-03-11T04:49:48.934214",
     "exception": false,
     "start_time": "2025-03-11T04:49:48.846003",
     "status": "completed"
    },
    "tags": []
   },
   "outputs": [],
   "source": [
    "model_splits = split_data_for_models(train_path, train_target, num_models=num_models)"
   ]
  },
  {
   "cell_type": "code",
   "execution_count": 14,
   "id": "a9e5a046",
   "metadata": {
    "execution": {
     "iopub.execute_input": "2025-03-11T04:49:48.945656Z",
     "iopub.status.busy": "2025-03-11T04:49:48.945312Z",
     "iopub.status.idle": "2025-03-11T04:49:51.870290Z",
     "shell.execute_reply": "2025-03-11T04:49:51.869427Z"
    },
    "papermill": {
     "duration": 2.932722,
     "end_time": "2025-03-11T04:49:51.872104",
     "exception": false,
     "start_time": "2025-03-11T04:49:48.939382",
     "status": "completed"
    },
    "tags": []
   },
   "outputs": [],
   "source": [
    "models = []\n",
    "train_loaders = []\n",
    "val_loaders = []\n",
    "\n",
    "for model_idx, (train_paths, train_targets, val_paths, val_targets) in enumerate(model_splits):\n",
    "    train_loader = torch.utils.data.DataLoader(MCSDataset(train_paths, train_targets), **params_train)\n",
    "    train_loaders.append(train_loader)\n",
    "    \n",
    "    val_loader = torch.utils.data.DataLoader(MCSDataset(val_paths, val_targets), **params_val)\n",
    "    val_loaders.append(val_loader)\n",
    "    \n",
    "    model = Model('resnet18').to(DEVICE)\n",
    "    models.append(model)"
   ]
  },
  {
   "cell_type": "code",
   "execution_count": 15,
   "id": "0b87ac52",
   "metadata": {
    "execution": {
     "iopub.execute_input": "2025-03-11T04:49:51.883760Z",
     "iopub.status.busy": "2025-03-11T04:49:51.883428Z",
     "iopub.status.idle": "2025-03-11T04:49:51.887413Z",
     "shell.execute_reply": "2025-03-11T04:49:51.886542Z"
    },
    "papermill": {
     "duration": 0.011478,
     "end_time": "2025-03-11T04:49:51.888905",
     "exception": false,
     "start_time": "2025-03-11T04:49:51.877427",
     "status": "completed"
    },
    "tags": []
   },
   "outputs": [],
   "source": [
    "loss_func = torch.nn.MSELoss()"
   ]
  },
  {
   "cell_type": "code",
   "execution_count": 16,
   "id": "30191b27",
   "metadata": {
    "execution": {
     "iopub.execute_input": "2025-03-11T04:49:51.899939Z",
     "iopub.status.busy": "2025-03-11T04:49:51.899574Z",
     "iopub.status.idle": "2025-03-11T05:32:19.905199Z",
     "shell.execute_reply": "2025-03-11T05:32:19.903875Z"
    },
    "papermill": {
     "duration": 2548.01319,
     "end_time": "2025-03-11T05:32:19.907102",
     "exception": false,
     "start_time": "2025-03-11T04:49:51.893912",
     "status": "completed"
    },
    "tags": []
   },
   "outputs": [
    {
     "name": "stdout",
     "output_type": "stream",
     "text": [
      "Training model 1/10\n",
      "MSE:  0.0024043827\n",
      "Epoch 1, Model 1, Average Loss: 0.0030331774004489966\n",
      "MSE:  0.0020077734\n",
      "Epoch 2, Model 1, Average Loss: 0.0022495758580043912\n",
      "MSE:  0.001811279\n",
      "Epoch 3, Model 1, Average Loss: 0.0019489930970839372\n",
      "MSE:  0.0016930894\n",
      "Epoch 4, Model 1, Average Loss: 0.0017399918074768625\n",
      "MSE:  0.0016203463\n",
      "Epoch 5, Model 1, Average Loss: 0.0015675658853969683\n",
      "MSE:  0.0015687458\n",
      "Epoch 6, Model 1, Average Loss: 0.0014208102406394717\n",
      "MSE:  0.001544844\n",
      "Epoch 7, Model 1, Average Loss: 0.0012943903246502343\n",
      "MSE:  0.001534606\n",
      "Epoch 8, Model 1, Average Loss: 0.0011919230236181696\n",
      "MSE:  0.0015299467\n",
      "Epoch 9, Model 1, Average Loss: 0.0011274391931702236\n",
      "MSE:  0.0015318071\n",
      "Epoch 10, Model 1, Average Loss: 0.001094206698655494\n",
      "Training model 2/10\n",
      "MSE:  0.0024316614\n",
      "Epoch 1, Model 2, Average Loss: 0.0030523640561946914\n",
      "MSE:  0.0020139378\n",
      "Epoch 2, Model 2, Average Loss: 0.0022641887697146127\n",
      "MSE:  0.0018223898\n",
      "Epoch 3, Model 2, Average Loss: 0.001962200278465293\n",
      "MSE:  0.001709658\n",
      "Epoch 4, Model 2, Average Loss: 0.00175071941247504\n",
      "MSE:  0.0016169515\n",
      "Epoch 5, Model 2, Average Loss: 0.0015831394666364711\n",
      "MSE:  0.0015779533\n",
      "Epoch 6, Model 2, Average Loss: 0.0014336342770165126\n",
      "MSE:  0.0015482606\n",
      "Epoch 7, Model 2, Average Loss: 0.0013031152834331518\n",
      "MSE:  0.0015397918\n",
      "Epoch 8, Model 2, Average Loss: 0.0012007866183442897\n",
      "MSE:  0.0015328252\n",
      "Epoch 9, Model 2, Average Loss: 0.0011376504216490215\n",
      "MSE:  0.0015351733\n",
      "Epoch 10, Model 2, Average Loss: 0.0011039664552816631\n",
      "Training model 3/10\n",
      "MSE:  0.002414601\n",
      "Epoch 1, Model 3, Average Loss: 0.003046036749882133\n",
      "MSE:  0.0020127764\n",
      "Epoch 2, Model 3, Average Loss: 0.0022480597758763716\n",
      "MSE:  0.0018133504\n",
      "Epoch 3, Model 3, Average Loss: 0.001940356636003248\n",
      "MSE:  0.0016985143\n",
      "Epoch 4, Model 3, Average Loss: 0.0017380997658658184\n",
      "MSE:  0.0016143838\n",
      "Epoch 5, Model 3, Average Loss: 0.0015710360766388477\n",
      "MSE:  0.0015673108\n",
      "Epoch 6, Model 3, Average Loss: 0.0014258513442779843\n",
      "MSE:  0.0015410471\n",
      "Epoch 7, Model 3, Average Loss: 0.001297856310357977\n",
      "MSE:  0.0015311734\n",
      "Epoch 8, Model 3, Average Loss: 0.0011992723651622472\n",
      "MSE:  0.001527308\n",
      "Epoch 9, Model 3, Average Loss: 0.001136279511633084\n",
      "MSE:  0.00152889\n",
      "Epoch 10, Model 3, Average Loss: 0.0011010332604085929\n",
      "Training model 4/10\n",
      "MSE:  0.0024022067\n",
      "Epoch 1, Model 4, Average Loss: 0.003047010906677889\n",
      "MSE:  0.001990979\n",
      "Epoch 2, Model 4, Average Loss: 0.0022535943141893337\n",
      "MSE:  0.001803537\n",
      "Epoch 3, Model 4, Average Loss: 0.0019466393253471897\n",
      "MSE:  0.0016953025\n",
      "Epoch 4, Model 4, Average Loss: 0.0017431976625352705\n",
      "MSE:  0.0016132586\n",
      "Epoch 5, Model 4, Average Loss: 0.001573877493164649\n",
      "MSE:  0.0015659158\n",
      "Epoch 6, Model 4, Average Loss: 0.0014238556029618178\n",
      "MSE:  0.0015385275\n",
      "Epoch 7, Model 4, Average Loss: 0.0012977986693333246\n",
      "MSE:  0.0015268238\n",
      "Epoch 8, Model 4, Average Loss: 0.0011978117644933885\n",
      "MSE:  0.0015222895\n",
      "Epoch 9, Model 4, Average Loss: 0.0011340950649403232\n",
      "MSE:  0.0015242718\n",
      "Epoch 10, Model 4, Average Loss: 0.0010987400759232084\n",
      "Training model 5/10\n",
      "MSE:  0.0024283149\n",
      "Epoch 1, Model 5, Average Loss: 0.003066123062254567\n",
      "MSE:  0.0020143378\n",
      "Epoch 2, Model 5, Average Loss: 0.002273489839863032\n",
      "MSE:  0.0018195006\n",
      "Epoch 3, Model 5, Average Loss: 0.001961938806098739\n",
      "MSE:  0.001702788\n",
      "Epoch 4, Model 5, Average Loss: 0.001752840079685771\n",
      "MSE:  0.0016245516\n",
      "Epoch 5, Model 5, Average Loss: 0.0015839321472633041\n",
      "MSE:  0.0015724942\n",
      "Epoch 6, Model 5, Average Loss: 0.001430447590169742\n",
      "MSE:  0.0015471014\n",
      "Epoch 7, Model 5, Average Loss: 0.001305526523899875\n",
      "MSE:  0.0015328622\n",
      "Epoch 8, Model 5, Average Loss: 0.0012036410463042557\n",
      "MSE:  0.0015323979\n",
      "Epoch 9, Model 5, Average Loss: 0.0011401733591245781\n",
      "MSE:  0.0015367828\n",
      "Epoch 10, Model 5, Average Loss: 0.0011067948063320824\n",
      "Training model 6/10\n",
      "MSE:  0.0024073059\n",
      "Epoch 1, Model 6, Average Loss: 0.0030420889577975397\n",
      "MSE:  0.0020035396\n",
      "Epoch 2, Model 6, Average Loss: 0.0022554018915826946\n",
      "MSE:  0.0018091152\n",
      "Epoch 3, Model 6, Average Loss: 0.0019531510781349713\n",
      "MSE:  0.0016895622\n",
      "Epoch 4, Model 6, Average Loss: 0.001748759054799417\n",
      "MSE:  0.0016086198\n",
      "Epoch 5, Model 6, Average Loss: 0.0015766931364410801\n",
      "MSE:  0.0015590796\n",
      "Epoch 6, Model 6, Average Loss: 0.001433736771271613\n",
      "MSE:  0.0015318035\n",
      "Epoch 7, Model 6, Average Loss: 0.0013051406671538166\n",
      "MSE:  0.0015223841\n",
      "Epoch 8, Model 6, Average Loss: 0.0012042762163879449\n",
      "MSE:  0.0015214516\n",
      "Epoch 9, Model 6, Average Loss: 0.00114257190719639\n",
      "MSE:  0.0015213182\n",
      "Epoch 10, Model 6, Average Loss: 0.0011091467724671882\n",
      "Training model 7/10\n",
      "MSE:  0.002408588\n",
      "Epoch 1, Model 7, Average Loss: 0.0030566520104184747\n",
      "MSE:  0.0020088514\n",
      "Epoch 2, Model 7, Average Loss: 0.002260463958802192\n",
      "MSE:  0.00181571\n",
      "Epoch 3, Model 7, Average Loss: 0.001953264703532975\n",
      "MSE:  0.0016899237\n",
      "Epoch 4, Model 7, Average Loss: 0.0017439263829912403\n",
      "MSE:  0.0016080977\n",
      "Epoch 5, Model 7, Average Loss: 0.001575826890889163\n",
      "MSE:  0.0015614389\n",
      "Epoch 6, Model 7, Average Loss: 0.001429000977965954\n",
      "MSE:  0.0015424762\n",
      "Epoch 7, Model 7, Average Loss: 0.0012998313820724817\n",
      "MSE:  0.001526346\n",
      "Epoch 8, Model 7, Average Loss: 0.0012008762775038025\n",
      "MSE:  0.0015259382\n",
      "Epoch 9, Model 7, Average Loss: 0.0011382357966105796\n",
      "MSE:  0.0015256694\n",
      "Epoch 10, Model 7, Average Loss: 0.0011072318553679477\n",
      "Training model 8/10\n",
      "MSE:  0.0024121455\n",
      "Epoch 1, Model 8, Average Loss: 0.0030668403857730723\n",
      "MSE:  0.0020184768\n",
      "Epoch 2, Model 8, Average Loss: 0.0022610323844281465\n",
      "MSE:  0.0018274331\n",
      "Epoch 3, Model 8, Average Loss: 0.001957406732988985\n",
      "MSE:  0.001696546\n",
      "Epoch 4, Model 8, Average Loss: 0.0017537205113637212\n",
      "MSE:  0.0016151954\n",
      "Epoch 5, Model 8, Average Loss: 0.001582839730391769\n",
      "MSE:  0.0015589737\n",
      "Epoch 6, Model 8, Average Loss: 0.0014361765104542045\n",
      "MSE:  0.0015410397\n",
      "Epoch 7, Model 8, Average Loss: 0.0013117057968568253\n",
      "MSE:  0.0015211524\n",
      "Epoch 8, Model 8, Average Loss: 0.0012126196510354548\n",
      "MSE:  0.0015195506\n",
      "Epoch 9, Model 8, Average Loss: 0.00114840775342217\n",
      "MSE:  0.0015234409\n",
      "Epoch 10, Model 8, Average Loss: 0.001114602944029397\n",
      "Training model 9/10\n",
      "MSE:  0.0024181528\n",
      "Epoch 1, Model 9, Average Loss: 0.0030531459769822266\n",
      "MSE:  0.002007418\n",
      "Epoch 2, Model 9, Average Loss: 0.0022760345285611325\n",
      "MSE:  0.0018264253\n",
      "Epoch 3, Model 9, Average Loss: 0.0019655894945179555\n",
      "MSE:  0.0017148936\n",
      "Epoch 4, Model 9, Average Loss: 0.0017523924307897686\n",
      "MSE:  0.0016281959\n",
      "Epoch 5, Model 9, Average Loss: 0.0015795039762987902\n",
      "MSE:  0.001578513\n",
      "Epoch 6, Model 9, Average Loss: 0.001431031493886717\n",
      "MSE:  0.001552514\n",
      "Epoch 7, Model 9, Average Loss: 0.0013013618234790077\n",
      "MSE:  0.0015414716\n",
      "Epoch 8, Model 9, Average Loss: 0.0011995366020863386\n",
      "MSE:  0.0015397997\n",
      "Epoch 9, Model 9, Average Loss: 0.0011350930650644985\n",
      "MSE:  0.0015365478\n",
      "Epoch 10, Model 9, Average Loss: 0.0011043121907737498\n",
      "Training model 10/10\n",
      "MSE:  0.0024290935\n",
      "Epoch 1, Model 10, Average Loss: 0.003048716171546594\n",
      "MSE:  0.0019790358\n",
      "Epoch 2, Model 10, Average Loss: 0.0022496448718256463\n",
      "MSE:  0.0017948438\n",
      "Epoch 3, Model 10, Average Loss: 0.0019425601688654798\n",
      "MSE:  0.0016706799\n",
      "Epoch 4, Model 10, Average Loss: 0.0017378223711918843\n",
      "MSE:  0.001595399\n",
      "Epoch 5, Model 10, Average Loss: 0.0015734044605817058\n",
      "MSE:  0.0015512587\n",
      "Epoch 6, Model 10, Average Loss: 0.0014231570976737298\n",
      "MSE:  0.0015214136\n",
      "Epoch 7, Model 10, Average Loss: 0.0012982552912772485\n",
      "MSE:  0.0015101046\n",
      "Epoch 8, Model 10, Average Loss: 0.0011971451028397208\n",
      "MSE:  0.001509399\n",
      "Epoch 9, Model 10, Average Loss: 0.0011321626233525182\n",
      "MSE:  0.0015146006\n",
      "Epoch 10, Model 10, Average Loss: 0.0010987510007659071\n"
     ]
    }
   ],
   "source": [
    "for model_idx, model in enumerate(models):\n",
    "    print(f\"Training model {model_idx + 1}/{num_models}\")\n",
    "    optimizer = torch.optim.AdamW(model.parameters(), lr)\n",
    "    scheduler = torch.optim.lr_scheduler.CosineAnnealingLR(optimizer, len(train_loaders[model_idx]) * epochs, 0.00001)\n",
    "    scaler = GradScaler()\n",
    "\n",
    "    for epoch in range(epochs):\n",
    "        model.train()\n",
    "        average_loss = 0\n",
    "        for batch_number, (img, target) in enumerate(train_loaders[model_idx]):\n",
    "            optimizer.zero_grad()\n",
    "            img = img.to(DEVICE)\n",
    "            target = target.to(DEVICE)\n",
    "\n",
    "            with torch.amp.autocast('cuda'):\n",
    "                outputs = model(img)\n",
    "                loss = loss_func(outputs, target)\n",
    "\n",
    "            scaler.scale(loss).backward()\n",
    "            scaler.unscale_(optimizer)\n",
    "            scaler.step(optimizer)\n",
    "            scaler.update()\n",
    "            scheduler.step()\n",
    "\n",
    "            average_loss += loss.cpu().detach().numpy()\n",
    "\n",
    "        make_predict(model, val_loaders[model_idx], loss_func)\n",
    "\n",
    "        print(f\"Epoch {epoch + 1}, Model {model_idx + 1}, Average Loss: {average_loss / len(train_loaders[model_idx])}\")"
   ]
  },
  {
   "cell_type": "code",
   "execution_count": 17,
   "id": "49d9c8d3",
   "metadata": {
    "execution": {
     "iopub.execute_input": "2025-03-11T05:32:19.929820Z",
     "iopub.status.busy": "2025-03-11T05:32:19.929451Z",
     "iopub.status.idle": "2025-03-11T05:32:19.935797Z",
     "shell.execute_reply": "2025-03-11T05:32:19.934860Z"
    },
    "papermill": {
     "duration": 0.019259,
     "end_time": "2025-03-11T05:32:19.937412",
     "exception": false,
     "start_time": "2025-03-11T05:32:19.918153",
     "status": "completed"
    },
    "tags": []
   },
   "outputs": [],
   "source": [
    "def ensemble_predict_final(models, loader, targets, loss_func):\n",
    "    all_models_outputs = []\n",
    "    with torch.no_grad():\n",
    "        for model in models:\n",
    "            model.eval()\n",
    "            model_outputs = []\n",
    "            for img, _ in loader:\n",
    "                img = img.to(DEVICE)\n",
    "                outputs = model(img)\n",
    "                model_outputs.append(outputs.cpu())\n",
    "            all_models_outputs.append(torch.cat(model_outputs))\n",
    "\n",
    "    ensemble_outputs = torch.mean(torch.stack(all_models_outputs), dim=0)\n",
    "    targets = torch.tensor(targets)\n",
    "\n",
    "    loss = loss_func(ensemble_outputs, targets)\n",
    "    print(f\"Final Ensemble Validation Loss: {loss.item()}\")"
   ]
  },
  {
   "cell_type": "code",
   "execution_count": 18,
   "id": "004ced12",
   "metadata": {
    "execution": {
     "iopub.execute_input": "2025-03-11T05:32:19.959235Z",
     "iopub.status.busy": "2025-03-11T05:32:19.958860Z",
     "iopub.status.idle": "2025-03-11T05:32:28.740055Z",
     "shell.execute_reply": "2025-03-11T05:32:28.738539Z"
    },
    "papermill": {
     "duration": 8.793924,
     "end_time": "2025-03-11T05:32:28.741774",
     "exception": false,
     "start_time": "2025-03-11T05:32:19.947850",
     "status": "completed"
    },
    "tags": []
   },
   "outputs": [
    {
     "name": "stdout",
     "output_type": "stream",
     "text": [
      "Final Ensemble Validation Loss: 0.0011864586267620325\n"
     ]
    },
    {
     "name": "stderr",
     "output_type": "stream",
     "text": [
      "<ipython-input-17-f0789949591c>:14: UserWarning: Creating a tensor from a list of numpy.ndarrays is extremely slow. Please consider converting the list to a single numpy.ndarray with numpy.array() before converting to a tensor. (Triggered internally at ../torch/csrc/utils/tensor_new.cpp:278.)\n",
      "  targets = torch.tensor(targets)\n"
     ]
    }
   ],
   "source": [
    "ensemble_predict_final(models, final_val_loader, final_val_target, loss_func)"
   ]
  },
  {
   "cell_type": "markdown",
   "id": "22f8b5e3",
   "metadata": {
    "papermill": {
     "duration": 0.009963,
     "end_time": "2025-03-11T05:32:28.764576",
     "exception": false,
     "start_time": "2025-03-11T05:32:28.754613",
     "status": "completed"
    },
    "tags": []
   },
   "source": [
    "## Attack"
   ]
  },
  {
   "cell_type": "code",
   "execution_count": 19,
   "id": "8508f96e",
   "metadata": {
    "execution": {
     "iopub.execute_input": "2025-03-11T05:32:28.786816Z",
     "iopub.status.busy": "2025-03-11T05:32:28.786242Z",
     "iopub.status.idle": "2025-03-11T05:32:28.793730Z",
     "shell.execute_reply": "2025-03-11T05:32:28.792538Z"
    },
    "papermill": {
     "duration": 0.020592,
     "end_time": "2025-03-11T05:32:28.795482",
     "exception": false,
     "start_time": "2025-03-11T05:32:28.774890",
     "status": "completed"
    },
    "tags": []
   },
   "outputs": [],
   "source": [
    "def read_img(path, image_size=112):\n",
    "    img = cv2.imread(f'{path2files}imgs/train/{path}')\n",
    "    img_ = cv2.resize(\n",
    "        img, (image_size, image_size), interpolation=cv2.INTER_LINEAR)\n",
    "    img = (img_ / 255.) - 0.5\n",
    "    img = np.transpose(img, (2, 0, 1)).astype(np.float32)\n",
    "    img = torch.from_numpy(img)\n",
    "    return img, img_"
   ]
  },
  {
   "cell_type": "code",
   "execution_count": 20,
   "id": "a8238b74",
   "metadata": {
    "execution": {
     "iopub.execute_input": "2025-03-11T05:32:28.818080Z",
     "iopub.status.busy": "2025-03-11T05:32:28.817716Z",
     "iopub.status.idle": "2025-03-11T05:32:28.822672Z",
     "shell.execute_reply": "2025-03-11T05:32:28.821585Z"
    },
    "papermill": {
     "duration": 0.018157,
     "end_time": "2025-03-11T05:32:28.824398",
     "exception": false,
     "start_time": "2025-03-11T05:32:28.806241",
     "status": "completed"
    },
    "tags": []
   },
   "outputs": [],
   "source": [
    "def ensemble_predict(models, img):\n",
    "    with torch.no_grad():\n",
    "        outputs = [model(img).cpu() for model in models]\n",
    "        ensemble_output = torch.mean(torch.stack(outputs), dim=0)\n",
    "    return ensemble_output"
   ]
  },
  {
   "cell_type": "code",
   "execution_count": 21,
   "id": "8207cee9",
   "metadata": {
    "execution": {
     "iopub.execute_input": "2025-03-11T05:32:28.846773Z",
     "iopub.status.busy": "2025-03-11T05:32:28.846436Z",
     "iopub.status.idle": "2025-03-11T10:44:10.743051Z",
     "shell.execute_reply": "2025-03-11T10:44:10.741717Z"
    },
    "papermill": {
     "duration": 18701.975727,
     "end_time": "2025-03-11T10:44:10.810863",
     "exception": false,
     "start_time": "2025-03-11T05:32:28.835136",
     "status": "completed"
    },
    "tags": []
   },
   "outputs": [
    {
     "name": "stderr",
     "output_type": "stream",
     "text": [
      "100%|██████████| 1000/1000 [5:11:41<00:00, 18.70s/it]\n"
     ]
    }
   ],
   "source": [
    "max_iter = 10\n",
    "loss = nn.MSELoss()\n",
    "eps = 1e-3\n",
    "attacked_img_dict = {}\n",
    "\n",
    "for sour, targ in tqdm(zip(pairs['source_imgs'], pairs['target_imgs']), total=len(pairs)):\n",
    "    target_descriptors = np.ones((5, 512), dtype=np.float32)\n",
    "    targ = targ.split('|')\n",
    "    sour = sour.split('|')\n",
    "\n",
    "    list_tagt_img = []\n",
    "    for i, t in enumerate(targ):\n",
    "        img, orig_tgt = read_img(t)\n",
    "        list_tagt_img += [orig_tgt]\n",
    "        img = img.unsqueeze(0).cuda(non_blocking=True)\n",
    "        \n",
    "        res = ensemble_predict(models, img).numpy().squeeze()\n",
    "        target_descriptors[i] = res\n",
    "\n",
    "    for ii, s in enumerate(sour): \n",
    "        img, orig_img = read_img(s)\n",
    "        img = img.unsqueeze(0).cuda(non_blocking=True)\n",
    "        input_var = torch.autograd.Variable(img, requires_grad=True)\n",
    "        attacked_img = orig_img\n",
    "        \n",
    "        for iter_number in range(max_iter):\n",
    "            adv_noise = torch.zeros((3, 112, 112)).cuda(non_blocking=True)\n",
    "            \n",
    "            for tg in target_descriptors:\n",
    "                target_out = torch.autograd.Variable(torch.from_numpy(tg).unsqueeze(0).cuda(non_blocking=True), requires_grad=False)\n",
    "                \n",
    "                calc_loss = 0\n",
    "                for model in models:\n",
    "                    input_var.grad = None\n",
    "                    out = model(input_var)\n",
    "                    calc_loss += loss(out, target_out)\n",
    "                \n",
    "                calc_loss.backward()\n",
    "                \n",
    "                noise = eps * torch.clamp(input_var.grad.data / input_var.grad.data.std(), -2, 2)\n",
    "                adv_noise = adv_noise + noise\n",
    "            \n",
    "            input_var.data = input_var.data - adv_noise\n",
    "            \n",
    "            changed_img = input_var.data.cpu().squeeze()\n",
    "            changed_img = ((changed_img + 0.5) * 255)\n",
    "            changed_img[changed_img < 0] = 0\n",
    "            changed_img[changed_img > 255] = 255\n",
    "            changed_img = np.transpose(changed_img.numpy(), (1, 2, 0)).astype(np.int16)\n",
    "            \n",
    "            ssim_score = ssim(orig_img, changed_img, channel_axis=2, data_range=256)\n",
    "            if ssim_score < 0.95:\n",
    "                break\n",
    "            else:\n",
    "                attacked_img = changed_img\n",
    "        \n",
    "        attacked_img_dict[s] = attacked_img"
   ]
  },
  {
   "cell_type": "code",
   "execution_count": 22,
   "id": "ebd5ea1b",
   "metadata": {
    "execution": {
     "iopub.execute_input": "2025-03-11T10:44:10.937349Z",
     "iopub.status.busy": "2025-03-11T10:44:10.936926Z",
     "iopub.status.idle": "2025-03-11T10:44:57.116865Z",
     "shell.execute_reply": "2025-03-11T10:44:57.115779Z"
    },
    "papermill": {
     "duration": 46.245023,
     "end_time": "2025-03-11T10:44:57.118478",
     "exception": false,
     "start_time": "2025-03-11T10:44:10.873455",
     "status": "completed"
    },
    "tags": []
   },
   "outputs": [
    {
     "name": "stderr",
     "output_type": "stream",
     "text": [
      "100%|██████████| 5000/5000 [00:31<00:00, 158.58it/s]\n"
     ]
    }
   ],
   "source": [
    "sample_submission = pd.read_csv(path2files + 'imgs/sample_submission.csv')\n",
    "sample_submission_df = pd.DataFrame()\n",
    "sample_submission_df['Id'] = sample_submission['Id']\n",
    "\n",
    "result = []\n",
    "for id_ in tqdm(sample_submission_df['Id']):\n",
    "    result += ['|'.join([str(i) for i in attacked_img_dict[id_].flatten().tolist()])]\n",
    "sample_submission_df['Target'] = result"
   ]
  },
  {
   "cell_type": "code",
   "execution_count": 23,
   "id": "8ccfe7fc",
   "metadata": {
    "execution": {
     "iopub.execute_input": "2025-03-11T10:44:57.278824Z",
     "iopub.status.busy": "2025-03-11T10:44:57.278485Z",
     "iopub.status.idle": "2025-03-11T10:45:10.475911Z",
     "shell.execute_reply": "2025-03-11T10:45:10.475071Z"
    },
    "papermill": {
     "duration": 13.279894,
     "end_time": "2025-03-11T10:45:10.477672",
     "exception": false,
     "start_time": "2025-03-11T10:44:57.197778",
     "status": "completed"
    },
    "tags": []
   },
   "outputs": [],
   "source": [
    "sample_submission_df.to_csv('submission_ensemble.csv', index=None)"
   ]
  },
  {
   "cell_type": "code",
   "execution_count": 24,
   "id": "ae52651a",
   "metadata": {
    "execution": {
     "iopub.execute_input": "2025-03-11T10:45:10.639845Z",
     "iopub.status.busy": "2025-03-11T10:45:10.639492Z",
     "iopub.status.idle": "2025-03-11T10:45:10.643396Z",
     "shell.execute_reply": "2025-03-11T10:45:10.642537Z"
    },
    "papermill": {
     "duration": 0.085957,
     "end_time": "2025-03-11T10:45:10.644862",
     "exception": false,
     "start_time": "2025-03-11T10:45:10.558905",
     "status": "completed"
    },
    "tags": []
   },
   "outputs": [],
   "source": [
    "# !kaggle competitions submit -c ioai-contest-2 -f submission_ensemble.csv -m \"10 resnet34 // 12.4 // 1.2878+\""
   ]
  }
 ],
 "metadata": {
  "kaggle": {
   "accelerator": "nvidiaTeslaT4",
   "dataSources": [
    {
     "databundleVersionId": 11169137,
     "sourceId": 93773,
     "sourceType": "competition"
    }
   ],
   "dockerImageVersionId": 30919,
   "isGpuEnabled": true,
   "isInternetEnabled": true,
   "language": "python",
   "sourceType": "notebook"
  },
  "kernelspec": {
   "display_name": "Python 3",
   "language": "python",
   "name": "python3"
  },
  "language_info": {
   "codemirror_mode": {
    "name": "ipython",
    "version": 3
   },
   "file_extension": ".py",
   "mimetype": "text/x-python",
   "name": "python",
   "nbconvert_exporter": "python",
   "pygments_lexer": "ipython3",
   "version": "3.10.12"
  },
  "papermill": {
   "default_parameters": {},
   "duration": 21352.278079,
   "end_time": "2025-03-11T10:45:14.527958",
   "environment_variables": {},
   "exception": null,
   "input_path": "__notebook__.ipynb",
   "output_path": "__notebook__.ipynb",
   "parameters": {},
   "start_time": "2025-03-11T04:49:22.249879",
   "version": "2.6.0"
  }
 },
 "nbformat": 4,
 "nbformat_minor": 5
}
